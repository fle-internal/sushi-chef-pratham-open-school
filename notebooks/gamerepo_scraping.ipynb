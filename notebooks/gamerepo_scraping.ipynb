{
 "cells": [
  {
   "cell_type": "code",
   "execution_count": 1,
   "metadata": {},
   "outputs": [
    {
     "name": "stderr",
     "output_type": "stream",
     "text": [
      "Succesfully saved chefdata/pradigi_structure.csv\n",
      "Succesfully saved chefdata/pradigi_corrections.csv\n"
     ]
    }
   ],
   "source": [
    "from pradigi_crawlers import PrathamGameRepoCrawler\n",
    "GAMEREPO_MAIN_SOURCE_DOMAIN = 'http://repository.prathamopenschool.org'\n",
    "\n",
    "cmscrawler = PrathamGameRepoCrawler(start_page=GAMEREPO_MAIN_SOURCE_DOMAIN)\n"
   ]
  },
  {
   "cell_type": "code",
   "execution_count": 2,
   "metadata": {
    "scrolled": false
   },
   "outputs": [
    {
     "name": "stderr",
     "output_type": "stream",
     "text": [
      "Downloading http://repository.prathamopenschool.org then pausing for 15 secs for JS to run.\n",
      "in on_index_page http://repository.prathamopenschool.org\n",
      "Downloading http://repository.prathamopenschool.org/gamelist.html?lang=Assamese then pausing for 15 secs for JS to run.\n",
      "in on_gameslang_page http://repository.prathamopenschool.org/gamelist.html?lang=Assamese\n"
     ]
    },
    {
     "name": "stdout",
     "output_type": "stream",
     "text": [
      "HTTP ERROR: 404 Client Error: Not Found for url: http://www.prodigi.openiscool.org/repository/Images/Dhoom_2_AS.png\n",
      "HTTP ERROR: 404 Client Error: Not Found for url: http://www.prodigi.openiscool.org/repository/Images/fonts_Assamese.png\n"
     ]
    },
    {
     "name": "stderr",
     "output_type": "stream",
     "text": [
      "Downloading http://repository.prathamopenschool.org/gamelist.html?lang=Bangali then pausing for 15 secs for JS to run.\n",
      "in on_gameslang_page http://repository.prathamopenschool.org/gamelist.html?lang=Bangali\n"
     ]
    },
    {
     "name": "stdout",
     "output_type": "stream",
     "text": [
      "HTTP ERROR: 404 Client Error: Not Found for url: http://www.prodigi.openiscool.org/repository/Images/Dhoom_2_BN.png\n"
     ]
    },
    {
     "name": "stderr",
     "output_type": "stream",
     "text": [
      "Downloading http://repository.prathamopenschool.org/gamelist.html?lang=English then pausing for 15 secs for JS to run.\n",
      "in on_gameslang_page http://repository.prathamopenschool.org/gamelist.html?lang=English\n"
     ]
    },
    {
     "name": "stdout",
     "output_type": "stream",
     "text": [
      "HTTP ERROR: 404 Client Error: Not Found for url: http://www.prodigi.openiscool.org/repository/Images/City%20Of%20Stories.png\n",
      "HTTP ERROR: 404 Client Error: Not Found for url: http://www.prodigi.openiscool.org/repository/Images/JumbleTumble.png\n"
     ]
    },
    {
     "name": "stderr",
     "output_type": "stream",
     "text": [
      "Downloading http://repository.prathamopenschool.org/gamelist.html?lang=Gujarati then pausing for 15 secs for JS to run.\n",
      "in on_gameslang_page http://repository.prathamopenschool.org/gamelist.html?lang=Gujarati\n"
     ]
    },
    {
     "name": "stdout",
     "output_type": "stream",
     "text": [
      "HTTP ERROR: 404 Client Error: Not Found for url: http://www.prodigi.openiscool.org/repository/Images/Aakar_KKS.png\n",
      "HTTP ERROR: 404 Client Error: Not Found for url: http://www.prodigi.openiscool.org/repository/Images/Barahghar_KKS.png\n",
      "HTTP ERROR: 404 Client Error: Not Found for url: http://www.prodigi.openiscool.org/repository/Images/Bhaloo_ki_Barakhadi_KKS.png\n",
      "HTTP ERROR: 404 Client Error: Not Found for url: http://www.prodigi.openiscool.org/repository/Images/Dhoom_2_GJ.png\n",
      "HTTP ERROR: 404 Client Error: Not Found for url: http://www.prodigi.openiscool.org/repository/Images/EkSeAnek_KKS.png\n",
      "HTTP ERROR: 404 Client Error: Not Found for url: http://www.prodigi.openiscool.org/repository/Images/Gubbare_KKS.png\n",
      "HTTP ERROR: 404 Client Error: Not Found for url: http://www.prodigi.openiscool.org/repository/Images/HelloHello_KKS.png\n",
      "HTTP ERROR: 404 Client Error: Not Found for url: http://www.prodigi.openiscool.org/repository/Images/Judwa_KKS.png\n",
      "HTTP ERROR: 404 Client Error: Not Found for url: http://www.prodigi.openiscool.org/repository/Images/MujheDhundho_KKS.png\n",
      "HTTP ERROR: 404 Client Error: Not Found for url: http://www.prodigi.openiscool.org/repository/Images/Suno_Pehchano_KKS.png\n"
     ]
    },
    {
     "name": "stderr",
     "output_type": "stream",
     "text": [
      "Downloading http://repository.prathamopenschool.org/gamelist.html?lang=Hindi then pausing for 15 secs for JS to run.\n",
      "in on_gameslang_page http://repository.prathamopenschool.org/gamelist.html?lang=Hindi\n"
     ]
    },
    {
     "name": "stdout",
     "output_type": "stream",
     "text": [
      "HTTP ERROR: 404 Client Error: Not Found for url: http://www.prodigi.openiscool.org/repository/Images/Aakar_KKS.png\n",
      "HTTP ERROR: 404 Client Error: Not Found for url: http://www.prodigi.openiscool.org/repository/Images/BarakhadiSeekho_KKS.png\n",
      "HTTP ERROR: 404 Client Error: Not Found for url: http://www.prodigi.openiscool.org/repository/Images/BhalooKiBarakhadi_KKS.png\n",
      "HTTP ERROR: 404 Client Error: Not Found for url: http://www.prodigi.openiscool.org/repository/Images/Dhoom_2_HI.png\n",
      "HTTP ERROR: 404 Client Error: Not Found for url: http://www.prodigi.openiscool.org/repository/Images/GaltiMaafSudharo.png\n",
      "HTTP ERROR: 404 Client Error: Not Found for url: http://www.prodigi.openiscool.org/repository/Images/Gubbare_KKS.png\n",
      "HTTP ERROR: 404 Client Error: Not Found for url: http://www.prodigi.openiscool.org/repository/Images/HelloHello_KKS.png\n",
      "HTTP ERROR: 404 Client Error: Not Found for url: http://www.prodigi.openiscool.org/repository/Images/Judwa_KKS.png\n",
      "HTTP ERROR: 404 Client Error: Not Found for url: http://www.prodigi.openiscool.org/repository/Images/MindMapWheel_KKS.png\n",
      "HTTP ERROR: 404 Client Error: Not Found for url: http://www.prodigi.openiscool.org/repository/Images/MujheDhundho_KKS.png\n",
      "HTTP ERROR: 404 Client Error: Not Found for url: http://www.prodigi.openiscool.org/repository/Images/Suno_Pehchano_KKS.png\n"
     ]
    },
    {
     "name": "stderr",
     "output_type": "stream",
     "text": [
      "Downloading http://repository.prathamopenschool.org/gamelist.html?lang=Kannada then pausing for 15 secs for JS to run.\n",
      "in on_gameslang_page http://repository.prathamopenschool.org/gamelist.html?lang=Kannada\n"
     ]
    },
    {
     "name": "stdout",
     "output_type": "stream",
     "text": [
      "HTTP ERROR: 404 Client Error: Not Found for url: http://www.prodigi.openiscool.org/repository/Images/Dhoom_2_KN.png\n"
     ]
    },
    {
     "name": "stderr",
     "output_type": "stream",
     "text": [
      "Downloading http://repository.prathamopenschool.org/gamelist.html?lang=Marathi then pausing for 15 secs for JS to run.\n",
      "in on_gameslang_page http://repository.prathamopenschool.org/gamelist.html?lang=Marathi\n"
     ]
    },
    {
     "name": "stdout",
     "output_type": "stream",
     "text": [
      "HTTP ERROR: 404 Client Error: Not Found for url: http://www.prodigi.openiscool.org/repository/Images/Dhoom_2_MR.png\n",
      "HTTP ERROR: 404 Client Error: Not Found for url: http://www.prodigi.openiscool.org/repository/Images/ECE_Story_Game_MR.png\n",
      "HTTP ERROR: 404 Client Error: Not Found for url: http://www.prodigi.openiscool.org/repository/Images/Jigsaw.png\n",
      "HTTP ERROR: 404 Client Error: Not Found for url: http://www.prodigi.openiscool.org/repository/Images/js_Marathi.png\n",
      "HTTP ERROR: 404 Client Error: Not Found for url: http://www.prodigi.openiscool.org/repository/Images/testbsk_Marathi.png\n",
      "HTTP ERROR: 404 Client Error: Not Found for url: http://www.prodigi.openiscool.org/repository/Images/UlatPalat2Science.png\n",
      "HTTP ERROR: 404 Client Error: Not Found for url: http://www.prodigi.openiscool.org/repository/Images/UlatPalatScience.png\n"
     ]
    },
    {
     "name": "stderr",
     "output_type": "stream",
     "text": [
      "Downloading http://repository.prathamopenschool.org/gamelist.html?lang=Odiya then pausing for 15 secs for JS to run.\n",
      "in on_gameslang_page http://repository.prathamopenschool.org/gamelist.html?lang=Odiya\n"
     ]
    },
    {
     "name": "stdout",
     "output_type": "stream",
     "text": [
      "HTTP ERROR: 404 Client Error: Not Found for url: http://www.prodigi.openiscool.org/repository/Images/Dhoom_2_OD.png\n",
      "HTTP ERROR: 404 Client Error: Not Found for url: http://www.prodigi.openiscool.org/repository/Images/fonts_Odiya.png\n"
     ]
    },
    {
     "name": "stderr",
     "output_type": "stream",
     "text": [
      "Downloading http://repository.prathamopenschool.org/gamelist.html?lang=Punjabi then pausing for 15 secs for JS to run.\n",
      "in on_gameslang_page http://repository.prathamopenschool.org/gamelist.html?lang=Punjabi\n"
     ]
    },
    {
     "name": "stdout",
     "output_type": "stream",
     "text": [
      "HTTP ERROR: 404 Client Error: Not Found for url: http://www.prodigi.openiscool.org/repository/Images/Dhoom_2_PN.png\n",
      "HTTP ERROR: 404 Client Error: Not Found for url: http://www.prodigi.openiscool.org/repository/Images/fonts_Punjabi.png\n"
     ]
    },
    {
     "name": "stderr",
     "output_type": "stream",
     "text": [
      "Downloading http://repository.prathamopenschool.org/gamelist.html?lang=Tamil then pausing for 15 secs for JS to run.\n",
      "in on_gameslang_page http://repository.prathamopenschool.org/gamelist.html?lang=Tamil\n",
      "Downloading http://repository.prathamopenschool.org/gamelist.html?lang=Telugu then pausing for 15 secs for JS to run.\n",
      "in on_gameslang_page http://repository.prathamopenschool.org/gamelist.html?lang=Telugu\n"
     ]
    },
    {
     "name": "stdout",
     "output_type": "stream",
     "text": [
      "HTTP ERROR: 404 Client Error: Not Found for url: http://www.prodigi.openiscool.org/repository/Images/Dhoom_2_TL.png\n",
      "\n",
      "\n",
      "\n",
      "\n",
      "################################################################################\n",
      "# CRAWLER RECOMMENDATIONS BASED ON URLS ENCOUNTERED:\n",
      "################################################################################\n",
      "\n",
      "1. These URLs are very common and look like global navigation links:\n",
      "\n",
      "2. These are common path fragments found in URLs paths, so could correspond to site struture:\n",
      "  -  291 urls on site start with  /Zip\n",
      "  -  1 urls on site start with  /gamelist.html\n",
      "\n",
      "\n",
      "################################################################################\n",
      "\n",
      "\n",
      "\n"
     ]
    }
   ],
   "source": [
    "web_resource_tree = cmscrawler.crawl()"
   ]
  },
  {
   "cell_type": "code",
   "execution_count": 3,
   "metadata": {
    "scrolled": false
   },
   "outputs": [
    {
     "name": "stdout",
     "output_type": "stream",
     "text": [
      "     - path:   (index_page) \n",
      "       children:\n",
      "        - path: /gamelist.html?lang=Assamese  (gameslang_page) \n",
      "          children:\n",
      "           - path: /Zip/Assamese/AgePiche_AS_Assamese.zip  (PradigiGameZipResource) \n",
      "           - path: /Zip/Assamese/Aksharkhadi_AS_Assamese.zip  (PradigiGameZipResource) \n",
      "           - path: /Zip/Assamese/AwazChitra_AS_Assamese.zip  (PradigiGameZipResource) \n",
      "           - path: /Zip/Assamese/AwazPehchano_AS_Assamese.zip  (PradigiGameZipResource) \n",
      "           - path: /Zip/Assamese/Barakhadi_AS_Assamese.zip  (PradigiGameZipResource) \n",
      "           - path: /Zip/Assamese/Coloring_AS_Assamese.zip  (PradigiGameZipResource) \n",
      "           - path: /Zip/Assamese/Cricket_AS_Assamese.zip  (PradigiGameZipResource) \n",
      "           - path: /Zip/Assamese/Dhoom_1_AS_Assamese.zip  (PradigiGameZipResource) \n",
      "           - path: /Zip/Assamese/Dhoom_2_AS_Assamese.zip  (PradigiGameZipResource) \n",
      "           - path: /Zip/Assamese/fonts_Assamese.zip  (PradigiGameZipResource) \n",
      "           - path: /Zip/Assamese/JaanoNumber_AS_Assamese.zip  (PradigiGameZipResource) \n",
      "           - path: /Zip/Assamese/Kahaniyaan_AS_Assamese.zip  (PradigiGameZipResource) \n",
      "           - path: /Zip/Assamese/LineLagao_AS_Assamese.zip  (PradigiGameZipResource) \n",
      "           - path: /Zip/Assamese/MujhePehchano_AS_Assamese.zip  (PradigiGameZipResource) \n",
      "           - path: /Zip/Assamese/Number123_AS_Assamese.zip  (PradigiGameZipResource) \n",
      "           - path: /Zip/Assamese/NumberKas_AS_Assamese.zip  (PradigiGameZipResource) \n",
      "           - path: /Zip/Assamese/Sangeet_AS_Assamese.zip  (PradigiGameZipResource) \n",
      "           - path: /Zip/Assamese/ShabdhChitra_AS_Assamese.zip  (PradigiGameZipResource) \n",
      "           - path: /Zip/Assamese/ThikThak_AS_Assamese.zip  (PradigiGameZipResource) \n",
      "           - path: /Zip/Assamese/TracingGame_AS_Assamese.zip  (PradigiGameZipResource) \n",
      "           - path: /Zip/Assamese/UlatPalat_AS_Assamese.zip  (PradigiGameZipResource) \n",
      "        - path: /gamelist.html?lang=Bangali  (gameslang_page) \n",
      "          children:\n",
      "           - path: /Zip/Bangali/AgePiche_BN_Bangali.zip  (PradigiGameZipResource) \n",
      "           - path: /Zip/Bangali/Aksharkhadi_BN_Bangali.zip  (PradigiGameZipResource) \n",
      "           - path: /Zip/Bangali/AwazChitra_BN_Bangali.zip  (PradigiGameZipResource) \n",
      "           - path: /Zip/Bangali/AwazPehchano_BN_Bangali.zip  (PradigiGameZipResource) \n",
      "           - path: /Zip/Bangali/Barakhadi_BN_Bangali.zip  (PradigiGameZipResource) \n",
      "           - path: /Zip/Bangali/BolBacchaBol_BN_Bangali.zip  (PradigiGameZipResource) \n",
      "           - path: /Zip/Bangali/ChitraVichitra_BN_Bangali.zip  (PradigiGameZipResource) \n",
      "           - path: /Zip/Bangali/Coloring_BN_Bangali.zip  (PradigiGameZipResource) \n",
      "           - path: /Zip/Bangali/Cricket_BN_Bangali.zip  (PradigiGameZipResource) \n",
      "           - path: /Zip/Bangali/Dhoom_1_BN_Bangali.zip  (PradigiGameZipResource) \n",
      "           - path: /Zip/Bangali/Dhoom_2_BN_Bangali.zip  (PradigiGameZipResource) \n",
      "           - path: /Zip/Bangali/DingDangDing_BN_Bangali.zip  (PradigiGameZipResource) \n",
      "           - path: /Zip/Bangali/Golmaal_BN_Bangali.zip  (PradigiGameZipResource) \n",
      "           - path: /Zip/Bangali/JaanoNumber_BN_Bangali.zip  (PradigiGameZipResource) \n",
      "           - path: /Zip/Bangali/Kahaniyaan_BN_Bangali.zip  (PradigiGameZipResource) \n",
      "           - path: /Zip/Bangali/LineLagao_BN_Bangali.zip  (PradigiGameZipResource) \n",
      "           - path: /Zip/Bangali/MujhePehchano_BN_Bangali.zip  (PradigiGameZipResource) \n",
      "           - path: /Zip/Bangali/Number123_BN_Bangali.zip  (PradigiGameZipResource) \n",
      "           - path: /Zip/Bangali/NumberKas_BN_Bangali.zip  (PradigiGameZipResource) \n",
      "           - path: /Zip/Bangali/RailGadi_BN_Bangali.zip  (PradigiGameZipResource) \n",
      "           - path: /Zip/Bangali/Sangeet_BN_Bangali.zip  (PradigiGameZipResource) \n",
      "           - path: /Zip/Bangali/ShabdhChitra_BN_Bangali.zip  (PradigiGameZipResource) \n",
      "           - path: /Zip/Bangali/ThikThak_BN_Bangali.zip  (PradigiGameZipResource) \n",
      "           - path: /Zip/Bangali/TracingGame_BN_Bangali.zip  (PradigiGameZipResource) \n",
      "           - path: /Zip/Bangali/UlatPalat_BN_Bangali.zip  (PradigiGameZipResource) \n",
      "        - path: /gamelist.html?lang=English  (gameslang_page) \n",
      "          children:\n",
      "           - path: /Zip/English/ABCD_English.zip  (PradigiGameZipResource) \n",
      "           - path: /Zip/English/City Of Stories_English.zip  (PradigiGameZipResource) \n",
      "           - path: /Zip/English/CorrectPair_English.zip  (PradigiGameZipResource) \n",
      "           - path: /Zip/English/CountAndKnow_English.zip  (PradigiGameZipResource) \n",
      "           - path: /Zip/English/CountIt_English.zip  (PradigiGameZipResource) \n",
      "           - path: /Zip/English/CrumbleTumble_English.zip  (PradigiGameZipResource) \n",
      "           - path: /Zip/English/fixUpMixUp_English.zip  (PradigiGameZipResource) \n",
      "           - path: /Zip/English/FlipIt_English.zip  (PradigiGameZipResource) \n",
      "           - path: /Zip/English/GuessWho_English.zip  (PradigiGameZipResource) \n",
      "           - path: /Zip/English/JumbleTumble_English.zip  (PradigiGameZipResource) \n",
      "           - path: /Zip/English/LetterBox_English.zip  (PradigiGameZipResource) \n",
      "           - path: /Zip/English/PointMeOut_English.zip  (PradigiGameZipResource) \n",
      "           - path: /Zip/English/YouSaid_English.zip  (PradigiGameZipResource) \n",
      "        - path: /gamelist.html?lang=Gujarati  (gameslang_page) \n",
      "          children:\n",
      "           - path: /Zip/Gujarati/Aakar_KKS_Gujarati.zip  (PradigiGameZipResource) \n",
      "           - path: /Zip/Gujarati/AgePiche_GJ_Gujarati.zip  (PradigiGameZipResource) \n",
      "           - path: /Zip/Gujarati/Aksharkhadi_GJ_Gujarati.zip  (PradigiGameZipResource) \n",
      "           - path: /Zip/Gujarati/AwazChitra_GJ_Gujarati.zip  (PradigiGameZipResource) \n",
      "           - path: /Zip/Gujarati/AwazPehchano_GJ_Gujarati.zip  (PradigiGameZipResource) \n",
      "           - path: /Zip/Gujarati/Barahghar_KKS_Gujarati.zip  (PradigiGameZipResource) \n",
      "           - path: /Zip/Gujarati/Barakhadi_GJ_Gujarati.zip  (PradigiGameZipResource) \n",
      "           - path: /Zip/Gujarati/Bhaloo_ki_Barakhadi_KKS_Gujarati.zip  (PradigiGameZipResource) \n",
      "           - path: /Zip/Gujarati/BolBacchaBol_GJ_Gujarati.zip  (PradigiGameZipResource) \n",
      "           - path: /Zip/Gujarati/ChitraVichitra_GJ_Gujarati.zip  (PradigiGameZipResource) \n",
      "           - path: /Zip/Gujarati/Coloring_GJ_Gujarati.zip  (PradigiGameZipResource) \n",
      "           - path: /Zip/Gujarati/Cricket_GJ_Gujarati.zip  (PradigiGameZipResource) \n",
      "           - path: /Zip/Gujarati/Dhoom_1_GJ_Gujarati.zip  (PradigiGameZipResource) \n",
      "           - path: /Zip/Gujarati/Dhoom_2_GJ_Gujarati.zip  (PradigiGameZipResource) \n",
      "           - path: /Zip/Gujarati/DingDangDing_GJ_Gujarati.zip  (PradigiGameZipResource) \n",
      "           - path: /Zip/Gujarati/EkSeAnek_KKS_Gujarati.zip  (PradigiGameZipResource) \n",
      "           - path: /Zip/Gujarati/Golmaal_GJ_Gujarati.zip  (PradigiGameZipResource) \n",
      "           - path: /Zip/Gujarati/Gubbare_KKS_Gujarati.zip  (PradigiGameZipResource) \n",
      "           - path: /Zip/Gujarati/HelloHello_KKS_Gujarati.zip  (PradigiGameZipResource) \n",
      "           - path: /Zip/Gujarati/JaanoNumber_GJ_Gujarati.zip  (PradigiGameZipResource) \n",
      "           - path: /Zip/Gujarati/Judwa_KKS_Gujarati.zip  (PradigiGameZipResource) \n",
      "           - path: /Zip/Gujarati/Kahaniyaan_GJ_Gujarati.zip  (PradigiGameZipResource) \n",
      "           - path: /Zip/Gujarati/LineLagao_GJ_Gujarati.zip  (PradigiGameZipResource) \n",
      "           - path: /Zip/Gujarati/MujheDhundho_KKS_Gujarati.zip  (PradigiGameZipResource) \n",
      "           - path: /Zip/Gujarati/MujhePehchano_GJ_Gujarati.zip  (PradigiGameZipResource) \n",
      "           - path: /Zip/Gujarati/Number123_GJ_Gujarati.zip  (PradigiGameZipResource) \n",
      "           - path: /Zip/Gujarati/NumberKas_GJ_Gujarati.zip  (PradigiGameZipResource) \n",
      "           - path: /Zip/Gujarati/RailGadi_GJ_Gujarati.zip  (PradigiGameZipResource) \n",
      "           - path: /Zip/Gujarati/Sangeet_GJ_Gujarati.zip  (PradigiGameZipResource) \n",
      "           - path: /Zip/Gujarati/ShabdhChitra_GJ_Gujarati.zip  (PradigiGameZipResource) \n",
      "           - path: /Zip/Gujarati/Suno_Pehchano_KKS_Gujarati.zip  (PradigiGameZipResource) \n",
      "           - path: /Zip/Gujarati/ThikThak_GJ_Gujarati.zip  (PradigiGameZipResource) \n",
      "           - path: /Zip/Gujarati/TracingGame_GJ_Gujarati.zip  (PradigiGameZipResource) \n",
      "           - path: /Zip/Gujarati/UlatPalat_GJ_Gujarati.zip  (PradigiGameZipResource) \n",
      "        - path: /gamelist.html?lang=Hindi  (gameslang_page) \n",
      "          children:\n",
      "           - path: /Zip/Hindi/Aakar_KKS_Hindi.zip  (PradigiGameZipResource) \n",
      "           - path: /Zip/Hindi/AgePiche_HI_Hindi.zip  (PradigiGameZipResource) \n",
      "           - path: /Zip/Hindi/Aksharkhadi_HI_Hindi.zip  (PradigiGameZipResource) \n",
      "           - path: /Zip/Hindi/AksharMatra_HI_Hindi.zip  (PradigiGameZipResource) \n",
      "           - path: /Zip/Hindi/AwazChitra_HI_Hindi.zip  (PradigiGameZipResource) \n",
      "           - path: /Zip/Hindi/AwazPehchano_HI_Hindi.zip  (PradigiGameZipResource) \n",
      "           - path: /Zip/Hindi/BarakhadiSeekho_KKS_Hindi.zip  (PradigiGameZipResource) \n",
      "           - path: /Zip/Hindi/Barakhadi_HI_Hindi.zip  (PradigiGameZipResource) \n",
      "           - path: /Zip/Hindi/BhalooKiBarakhadi_KKS_Hindi.zip  (PradigiGameZipResource) \n",
      "           - path: /Zip/Hindi/BolBacchaBol_HI_Hindi.zip  (PradigiGameZipResource) \n",
      "           - path: /Zip/Hindi/ChitraVichitra_HI_Hindi.zip  (PradigiGameZipResource) \n",
      "           - path: /Zip/Hindi/Coloring_HI_Hindi.zip  (PradigiGameZipResource) \n",
      "           - path: /Zip/Hindi/Cricket_HI_Hindi.zip  (PradigiGameZipResource) \n",
      "           - path: /Zip/Hindi/Dhoom_1_HI_Hindi.zip  (PradigiGameZipResource) \n",
      "           - path: /Zip/Hindi/Dhoom_2_HI_Hindi.zip  (PradigiGameZipResource) \n",
      "           - path: /Zip/Hindi/DingDangDing_HI_Hindi.zip  (PradigiGameZipResource) \n",
      "           - path: /Zip/Hindi/GaltiMaafSudharo_Hindi.zip  (PradigiGameZipResource) \n",
      "           - path: /Zip/Hindi/Golmaal_HI_Hindi.zip  (PradigiGameZipResource) \n",
      "           - path: /Zip/Hindi/Gubbare_KKS_Hindi.zip  (PradigiGameZipResource) \n",
      "           - path: /Zip/Hindi/HelloHello_KKS_Hindi.zip  (PradigiGameZipResource) \n",
      "           - path: /Zip/Hindi/JaanoNumber_HI_Hindi.zip  (PradigiGameZipResource) \n",
      "           - path: /Zip/Hindi/Judwa_KKS_Hindi.zip  (PradigiGameZipResource) \n",
      "           - path: /Zip/Hindi/JumbleTumble_HI_Hindi.zip  (PradigiGameZipResource) \n",
      "           - path: /Zip/Hindi/Kahaniyaan_HI_Hindi.zip  (PradigiGameZipResource) \n",
      "           - path: /Zip/Hindi/LetterBox_HI_Hindi.zip  (PradigiGameZipResource) \n",
      "           - path: /Zip/Hindi/LineLagao_HI_Hindi.zip  (PradigiGameZipResource) \n",
      "           - path: /Zip/Hindi/MindMapWheel_KKS_Hindi.zip  (PradigiGameZipResource) \n",
      "           - path: /Zip/Hindi/MujheDhundho_KKS_Hindi.zip  (PradigiGameZipResource) \n",
      "           - path: /Zip/Hindi/MujhePehchano_HI_Hindi.zip  (PradigiGameZipResource) \n",
      "           - path: /Zip/Hindi/Number123_HI_Hindi.zip  (PradigiGameZipResource) \n",
      "           - path: /Zip/Hindi/NumberKas_HI_Hindi.zip  (PradigiGameZipResource) \n",
      "           - path: /Zip/Hindi/Palat_HI_Hindi.zip  (PradigiGameZipResource) \n",
      "           - path: /Zip/Hindi/RailGadi_HI_Hindi.zip  (PradigiGameZipResource) \n",
      "           - path: /Zip/Hindi/Sangeet_HI_Hindi.zip  (PradigiGameZipResource) \n",
      "           - path: /Zip/Hindi/ShabdhChitra_HI_Hindi.zip  (PradigiGameZipResource) \n",
      "           - path: /Zip/Hindi/Suno_Pehchano_KKS_Hindi.zip  (PradigiGameZipResource) \n",
      "           - path: /Zip/Hindi/ThikThak_HI_Hindi.zip  (PradigiGameZipResource) \n",
      "           - path: /Zip/Hindi/TracingGame_HI_Hindi.zip  (PradigiGameZipResource) \n",
      "           - path: /Zip/Hindi/UlatPalat_HI_Hindi.zip  (PradigiGameZipResource) \n",
      "        - path: /gamelist.html?lang=Kannada  (gameslang_page) \n",
      "          children:\n",
      "           - path: /Zip/Kannada/AgePiche_KN_Kannada.zip  (PradigiGameZipResource) \n",
      "           - path: /Zip/Kannada/Aksharkhadi_KN_Kannada.zip  (PradigiGameZipResource) \n",
      "           - path: /Zip/Kannada/AwazChitra_KN_Kannada.zip  (PradigiGameZipResource) \n",
      "           - path: /Zip/Kannada/AwazPehchano_KN_Kannada.zip  (PradigiGameZipResource) \n",
      "           - path: /Zip/Kannada/Barakhadi_KN_Kannada.zip  (PradigiGameZipResource) \n",
      "           - path: /Zip/Kannada/BolBacchaBol_KN_Kannada.zip  (PradigiGameZipResource) \n",
      "           - path: /Zip/Kannada/ChitraVichitra_KN_Kannada.zip  (PradigiGameZipResource) \n",
      "           - path: /Zip/Kannada/Coloring_KN_Kannada.zip  (PradigiGameZipResource) \n",
      "           - path: /Zip/Kannada/Cricket_KN_Kannada.zip  (PradigiGameZipResource) \n",
      "           - path: /Zip/Kannada/Dhoom_1_KN_Kannada.zip  (PradigiGameZipResource) \n",
      "           - path: /Zip/Kannada/Dhoom_2_KN_Kannada.zip  (PradigiGameZipResource) \n",
      "           - path: /Zip/Kannada/DingDangDing_KN_Kannada.zip  (PradigiGameZipResource) \n",
      "           - path: /Zip/Kannada/Golmaal_KN_Kannada.zip  (PradigiGameZipResource) \n",
      "           - path: /Zip/Kannada/JaanoNumber_KN_Kannada.zip  (PradigiGameZipResource) \n",
      "           - path: /Zip/Kannada/Kahaniyaan_KN_Kannada.zip  (PradigiGameZipResource) \n",
      "           - path: /Zip/Kannada/LineLagao_KN_Kannada.zip  (PradigiGameZipResource) \n",
      "           - path: /Zip/Kannada/MujhePehchano_KN_Kannada.zip  (PradigiGameZipResource) \n",
      "           - path: /Zip/Kannada/Number123_KN_Kannada.zip  (PradigiGameZipResource) \n",
      "           - path: /Zip/Kannada/NumberKas_KN_Kannada.zip  (PradigiGameZipResource) \n",
      "           - path: /Zip/Kannada/RailGadi_KN_Kannada.zip  (PradigiGameZipResource) \n",
      "           - path: /Zip/Kannada/Sangeet_KN_Kannada.zip  (PradigiGameZipResource) \n",
      "           - path: /Zip/Kannada/ShabdhChitra_KN_Kannada.zip  (PradigiGameZipResource) \n",
      "           - path: /Zip/Kannada/ThikThak_KN_Kannada.zip  (PradigiGameZipResource) \n",
      "           - path: /Zip/Kannada/TracingGame_KN_Kannada.zip  (PradigiGameZipResource) \n",
      "           - path: /Zip/Kannada/UlatPalat_KN_Kannada.zip  (PradigiGameZipResource) \n",
      "        - path: /gamelist.html?lang=Marathi  (gameslang_page) \n",
      "          children:\n",
      "           - path: /Zip/Marathi/AgePiche_MR_Marathi.zip  (PradigiGameZipResource) \n",
      "           - path: /Zip/Marathi/Aksharkhadi_MR_Marathi.zip  (PradigiGameZipResource) \n",
      "           - path: /Zip/Marathi/AksharMatra_MR_Marathi.zip  (PradigiGameZipResource) \n",
      "           - path: /Zip/Marathi/AwazChitra_MR_Marathi.zip  (PradigiGameZipResource) \n",
      "           - path: /Zip/Marathi/AwazPehchano_MR_Marathi.zip  (PradigiGameZipResource) \n",
      "           - path: /Zip/Marathi/Barakhadi_MR_Marathi.zip  (PradigiGameZipResource) \n",
      "           - path: /Zip/Marathi/BolBacchaBol_MR_Marathi.zip  (PradigiGameZipResource) \n",
      "           - path: /Zip/Marathi/ChitraVichitra_MR_Marathi.zip  (PradigiGameZipResource) \n",
      "           - path: /Zip/Marathi/Coloring_MR_Marathi.zip  (PradigiGameZipResource) \n",
      "           - path: /Zip/Marathi/Cricket_MR_Marathi.zip  (PradigiGameZipResource) \n",
      "           - path: /Zip/Marathi/Dhoom_1_MR_Marathi.zip  (PradigiGameZipResource) \n",
      "           - path: /Zip/Marathi/Dhoom_2_MR_Marathi.zip  (PradigiGameZipResource) \n",
      "           - path: /Zip/Marathi/DingDangDing_MR_Marathi.zip  (PradigiGameZipResource) \n",
      "           - path: /Zip/Marathi/ECE_Story_Game_MR_Marathi.zip  (PradigiGameZipResource) \n",
      "           - path: /Zip/Marathi/Golmaal_MR_Marathi.zip  (PradigiGameZipResource) \n",
      "           - path: /Zip/Marathi/JaanoNumber_MR_Marathi.zip  (PradigiGameZipResource) \n",
      "           - path: /Zip/Marathi/Jigsaw_Marathi.zip  (PradigiGameZipResource) \n",
      "           - path: /Zip/Marathi/js_Marathi.zip  (PradigiGameZipResource) \n",
      "           - path: /Zip/Marathi/Kahaniyaan_MR_Marathi.zip  (PradigiGameZipResource) \n",
      "           - path: /Zip/Marathi/LineLagao_MR_Marathi.zip  (PradigiGameZipResource) \n",
      "           - path: /Zip/Marathi/MujhePehchano_MR_Marathi.zip  (PradigiGameZipResource) \n",
      "           - path: /Zip/Marathi/Number123_MR_Marathi.zip  (PradigiGameZipResource) \n",
      "           - path: /Zip/Marathi/NumberKas_MR_Marathi.zip  (PradigiGameZipResource) \n",
      "           - path: /Zip/Marathi/RailGadi_MR_Marathi.zip  (PradigiGameZipResource) \n",
      "           - path: /Zip/Marathi/Sangeet_MR_Marathi.zip  (PradigiGameZipResource) \n",
      "           - path: /Zip/Marathi/ShabdhChitra_MR_Marathi.zip  (PradigiGameZipResource) \n",
      "           - path: /Zip/Marathi/testbsk_Marathi.zip  (PradigiGameZipResource) \n",
      "           - path: /Zip/Marathi/ThikThak_MR_Marathi.zip  (PradigiGameZipResource) \n",
      "           - path: /Zip/Marathi/TracingGame_MR_Marathi.zip  (PradigiGameZipResource) \n",
      "           - path: /Zip/Marathi/UlatPalat2Science_Marathi.zip  (PradigiGameZipResource) \n",
      "           - path: /Zip/Marathi/UlatPalatScience_Marathi.zip  (PradigiGameZipResource) \n",
      "           - path: /Zip/Marathi/UlatPalat_MR_Marathi.zip  (PradigiGameZipResource) \n",
      "        - path: /gamelist.html?lang=Odiya  (gameslang_page) \n",
      "          children:\n",
      "           - path: /Zip/Odiya/AgePiche_OD_Odiya.zip  (PradigiGameZipResource) \n",
      "           - path: /Zip/Odiya/Aksharkhadi_OD_Odiya.zip  (PradigiGameZipResource) \n",
      "           - path: /Zip/Odiya/AwazChitra_OD_Odiya.zip  (PradigiGameZipResource) \n",
      "           - path: /Zip/Odiya/AwazPehchano_OD_Odiya.zip  (PradigiGameZipResource) \n",
      "           - path: /Zip/Odiya/Barakhadi_OD_Odiya.zip  (PradigiGameZipResource) \n",
      "           - path: /Zip/Odiya/BolBacchaBol_OD_Odiya.zip  (PradigiGameZipResource) \n",
      "           - path: /Zip/Odiya/ChitraVichitra_OD_Odiya.zip  (PradigiGameZipResource) \n",
      "           - path: /Zip/Odiya/Coloring_OD_Odiya.zip  (PradigiGameZipResource) \n",
      "           - path: /Zip/Odiya/Cricket_OD_Odiya.zip  (PradigiGameZipResource) \n",
      "           - path: /Zip/Odiya/Dhoom_1_OD_Odiya.zip  (PradigiGameZipResource) \n",
      "           - path: /Zip/Odiya/Dhoom_2_OD_Odiya.zip  (PradigiGameZipResource) \n",
      "           - path: /Zip/Odiya/DingDangDing_OD_Odiya.zip  (PradigiGameZipResource) \n",
      "           - path: /Zip/Odiya/fonts_Odiya.zip  (PradigiGameZipResource) \n",
      "           - path: /Zip/Odiya/Golmaal_OD_Odiya.zip  (PradigiGameZipResource) \n",
      "           - path: /Zip/Odiya/JaanoNumber_OD_Odiya.zip  (PradigiGameZipResource) \n",
      "           - path: /Zip/Odiya/Kahaniyaan_OD_Odiya.zip  (PradigiGameZipResource) \n",
      "           - path: /Zip/Odiya/LineLagao_OD_Odiya.zip  (PradigiGameZipResource) \n",
      "           - path: /Zip/Odiya/MujhePehchano_OD_Odiya.zip  (PradigiGameZipResource) \n",
      "           - path: /Zip/Odiya/Number123_OD_Odiya.zip  (PradigiGameZipResource) \n",
      "           - path: /Zip/Odiya/NumberKas_OD_Odiya.zip  (PradigiGameZipResource) \n",
      "           - path: /Zip/Odiya/RailGadi_OD_Odiya.zip  (PradigiGameZipResource) \n",
      "           - path: /Zip/Odiya/Sangeet_OD_Odiya.zip  (PradigiGameZipResource) \n",
      "           - path: /Zip/Odiya/ShabdhChitra_OD_Odiya.zip  (PradigiGameZipResource) \n",
      "           - path: /Zip/Odiya/ThikThak_OD_Odiya.zip  (PradigiGameZipResource) \n",
      "           - path: /Zip/Odiya/TracingGame_OD_Odiya.zip  (PradigiGameZipResource) \n",
      "           - path: /Zip/Odiya/UlatPalat_OD_Odiya.zip  (PradigiGameZipResource) \n",
      "        - path: /gamelist.html?lang=Punjabi  (gameslang_page) \n",
      "          children:\n",
      "           - path: /Zip/Punjabi/AgePiche_PN_Punjabi.zip  (PradigiGameZipResource) \n",
      "           - path: /Zip/Punjabi/Aksharkhadi_PN_Punjabi.zip  (PradigiGameZipResource) \n",
      "           - path: /Zip/Punjabi/AwazChitra_PN_Punjabi.zip  (PradigiGameZipResource) \n",
      "           - path: /Zip/Punjabi/AwazPehchano_PN_Punjabi.zip  (PradigiGameZipResource) \n",
      "           - path: /Zip/Punjabi/Barakhadi_PN_Punjabi.zip  (PradigiGameZipResource) \n",
      "           - path: /Zip/Punjabi/BolBacchaBol_PN_Punjabi.zip  (PradigiGameZipResource) \n",
      "           - path: /Zip/Punjabi/ChitraVichitra_PN_Punjabi.zip  (PradigiGameZipResource) \n",
      "           - path: /Zip/Punjabi/Coloring_PN_Punjabi.zip  (PradigiGameZipResource) \n",
      "           - path: /Zip/Punjabi/Cricket_PN_Punjabi.zip  (PradigiGameZipResource) \n",
      "           - path: /Zip/Punjabi/Dhoom_1_PN_Punjabi.zip  (PradigiGameZipResource) \n",
      "           - path: /Zip/Punjabi/Dhoom_2_PN_Punjabi.zip  (PradigiGameZipResource) \n",
      "           - path: /Zip/Punjabi/DingDangDing_PN_Punjabi.zip  (PradigiGameZipResource) \n",
      "           - path: /Zip/Punjabi/fonts_Punjabi.zip  (PradigiGameZipResource) \n",
      "           - path: /Zip/Punjabi/Golmaal_PN_Punjabi.zip  (PradigiGameZipResource) \n",
      "           - path: /Zip/Punjabi/JaanoNumber_PN_Punjabi.zip  (PradigiGameZipResource) \n",
      "           - path: /Zip/Punjabi/Kahaniyaan_PN_Punjabi.zip  (PradigiGameZipResource) \n",
      "           - path: /Zip/Punjabi/LineLagao_PN_Punjabi.zip  (PradigiGameZipResource) \n",
      "           - path: /Zip/Punjabi/MujhePehchano_PN_Punjabi.zip  (PradigiGameZipResource) \n",
      "           - path: /Zip/Punjabi/Number123_PN_Punjabi.zip  (PradigiGameZipResource) \n",
      "           - path: /Zip/Punjabi/NumberKas_PN_Punjabi.zip  (PradigiGameZipResource) \n",
      "           - path: /Zip/Punjabi/RailGadi_PN_Punjabi.zip  (PradigiGameZipResource) \n",
      "           - path: /Zip/Punjabi/Sangeet_PN_Punjabi.zip  (PradigiGameZipResource) \n",
      "           - path: /Zip/Punjabi/ShabdhChitra_PN_Punjabi.zip  (PradigiGameZipResource) \n",
      "           - path: /Zip/Punjabi/ThikThak_PN_Punjabi.zip  (PradigiGameZipResource) \n",
      "           - path: /Zip/Punjabi/TracingGame_PN_Punjabi.zip  (PradigiGameZipResource) \n",
      "           - path: /Zip/Punjabi/UlatPalat_PN_Punjabi.zip  (PradigiGameZipResource) \n",
      "        - path: /gamelist.html?lang=Tamil  (gameslang_page) \n",
      "          children:\n",
      "           - path: /Zip/Tamil/AgePiche_TM_Tamil.zip  (PradigiGameZipResource) \n",
      "           - path: /Zip/Tamil/Aksharkhadi_TM_Tamil.zip  (PradigiGameZipResource) \n",
      "           - path: /Zip/Tamil/AwazChitra_TM_Tamil.zip  (PradigiGameZipResource) \n",
      "           - path: /Zip/Tamil/AwazPehchano_TM_Tamil.zip  (PradigiGameZipResource) \n",
      "           - path: /Zip/Tamil/Barakhadi_TM_Tamil.zip  (PradigiGameZipResource) \n",
      "           - path: /Zip/Tamil/BolBacchaBol_TM_Tamil.zip  (PradigiGameZipResource) \n",
      "           - path: /Zip/Tamil/ChitraVichitra_TM_Tamil.zip  (PradigiGameZipResource) \n",
      "           - path: /Zip/Tamil/Coloring_TM_Tamil.zip  (PradigiGameZipResource) \n",
      "           - path: /Zip/Tamil/Cricket_TM_Tamil.zip  (PradigiGameZipResource) \n",
      "           - path: /Zip/Tamil/Dhoom_1_TM_Tamil.zip  (PradigiGameZipResource) \n",
      "           - path: /Zip/Tamil/Dhoom_2_TM_Tamil.zip  (PradigiGameZipResource) \n",
      "           - path: /Zip/Tamil/DingDangDing_TM_Tamil.zip  (PradigiGameZipResource) \n",
      "           - path: /Zip/Tamil/Golmaal_TM_Tamil.zip  (PradigiGameZipResource) \n",
      "           - path: /Zip/Tamil/JaanoNumber_TM_Tamil.zip  (PradigiGameZipResource) \n",
      "           - path: /Zip/Tamil/Kahaniyaan_TM_Tamil.zip  (PradigiGameZipResource) \n",
      "           - path: /Zip/Tamil/LineLagao_TM_Tamil.zip  (PradigiGameZipResource) \n",
      "           - path: /Zip/Tamil/MujhePehchano_TM_Tamil.zip  (PradigiGameZipResource) \n",
      "           - path: /Zip/Tamil/Number123_TM_Tamil.zip  (PradigiGameZipResource) \n",
      "           - path: /Zip/Tamil/NumberKas_TM_Tamil.zip  (PradigiGameZipResource) \n",
      "           - path: /Zip/Tamil/RailGadi_TM_Tamil.zip  (PradigiGameZipResource) \n",
      "           - path: /Zip/Tamil/Sangeet_TM_Tamil.zip  (PradigiGameZipResource) \n",
      "           - path: /Zip/Tamil/ShabdhChitra_TM_Tamil.zip  (PradigiGameZipResource) \n",
      "           - path: /Zip/Tamil/ThikThak_TM_Tamil.zip  (PradigiGameZipResource) \n",
      "           - path: /Zip/Tamil/TracingGame_TM_Tamil.zip  (PradigiGameZipResource) \n",
      "           - path: /Zip/Tamil/UlatPalat_TM_Tamil.zip  (PradigiGameZipResource) \n",
      "        - path: /gamelist.html?lang=Telugu  (gameslang_page) \n",
      "          children:\n",
      "           - path: /Zip/Telugu/AgePiche_TL_Telugu.zip  (PradigiGameZipResource) \n",
      "           - path: /Zip/Telugu/Aksharkhadi_TL_Telugu.zip  (PradigiGameZipResource) \n",
      "           - path: /Zip/Telugu/AwazChitra_TL_Telugu.zip  (PradigiGameZipResource) \n",
      "           - path: /Zip/Telugu/AwazPehchano_TL_Telugu.zip  (PradigiGameZipResource) \n",
      "           - path: /Zip/Telugu/Barakhadi_TL_Telugu.zip  (PradigiGameZipResource) \n",
      "           - path: /Zip/Telugu/BolBacchaBol_TL_Telugu.zip  (PradigiGameZipResource) \n",
      "           - path: /Zip/Telugu/ChitraVichitra_TL_Telugu.zip  (PradigiGameZipResource) \n",
      "           - path: /Zip/Telugu/Coloring_TL_Telugu.zip  (PradigiGameZipResource) \n",
      "           - path: /Zip/Telugu/Cricket_TL_Telugu.zip  (PradigiGameZipResource) \n",
      "           - path: /Zip/Telugu/Dhoom_1_TL_Telugu.zip  (PradigiGameZipResource) \n",
      "           - path: /Zip/Telugu/Dhoom_2_TL_Telugu.zip  (PradigiGameZipResource) \n",
      "           - path: /Zip/Telugu/DingDangDing_TL_Telugu.zip  (PradigiGameZipResource) \n",
      "           - path: /Zip/Telugu/Golmaal_TL_Telugu.zip  (PradigiGameZipResource) \n",
      "           - path: /Zip/Telugu/JaanoNumber_TL_Telugu.zip  (PradigiGameZipResource) \n",
      "           - path: /Zip/Telugu/Kahaniyaan_TL_Telugu.zip  (PradigiGameZipResource) \n",
      "           - path: /Zip/Telugu/LineLagao_TL_Telugu.zip  (PradigiGameZipResource) \n",
      "           - path: /Zip/Telugu/MujhePehchano_TL_Telugu.zip  (PradigiGameZipResource) \n",
      "           - path: /Zip/Telugu/Number123_TL_Telugu.zip  (PradigiGameZipResource) \n",
      "           - path: /Zip/Telugu/NumberKas_TL_Telugu.zip  (PradigiGameZipResource) \n",
      "           - path: /Zip/Telugu/RailGadi_TL_Telugu.zip  (PradigiGameZipResource) \n",
      "           - path: /Zip/Telugu/Sangeet_TL_Telugu.zip  (PradigiGameZipResource) \n",
      "           - path: /Zip/Telugu/ShabdhChitra_TL_Telugu.zip  (PradigiGameZipResource) \n",
      "           - path: /Zip/Telugu/ThikThak_TL_Telugu.zip  (PradigiGameZipResource) \n",
      "           - path: /Zip/Telugu/TracingGame_TL_Telugu.zip  (PradigiGameZipResource) \n",
      "           - path: /Zip/Telugu/UlatPalat_TL_Telugu.zip  (PradigiGameZipResource) \n"
     ]
    }
   ],
   "source": [
    "cmscrawler.print_tree(web_resource_tree, print_depth=4)"
   ]
  },
  {
   "cell_type": "code",
   "execution_count": null,
   "metadata": {},
   "outputs": [],
   "source": []
  },
  {
   "cell_type": "code",
   "execution_count": null,
   "metadata": {},
   "outputs": [],
   "source": []
  },
  {
   "cell_type": "code",
   "execution_count": null,
   "metadata": {},
   "outputs": [],
   "source": []
  },
  {
   "cell_type": "code",
   "execution_count": null,
   "metadata": {},
   "outputs": [],
   "source": []
  }
 ],
 "metadata": {
  "kernelspec": {
   "display_name": "Python 3",
   "language": "python",
   "name": "python3"
  },
  "language_info": {
   "codemirror_mode": {
    "name": "ipython",
    "version": 3
   },
   "file_extension": ".py",
   "mimetype": "text/x-python",
   "name": "python",
   "nbconvert_exporter": "python",
   "pygments_lexer": "ipython3",
   "version": "3.6.5"
  }
 },
 "nbformat": 4,
 "nbformat_minor": 2
}
