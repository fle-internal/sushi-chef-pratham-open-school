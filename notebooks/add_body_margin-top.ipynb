{
 "cells": [
  {
   "cell_type": "code",
   "execution_count": 7,
   "metadata": {},
   "outputs": [],
   "source": [
    "import os\n",
    "import tempfile\n",
    "import zipfile\n",
    "from ricecooker.utils.zip import create_predictable_zip\n",
    "from bs4 import BeautifulSoup\n",
    "\n",
    "\n",
    "def add_margin_top(orig_zip_path):\n",
    "    \"\"\"\n",
    "    The user interface of certain HTML games is hidden by the\n",
    "    ENTER/EXIT FULLSCREEN button, so we'll add a margin-top:44px;\n",
    "    to the body element to move content down a bit.\n",
    "    \"\"\"\n",
    "    destpath = tempfile.mkdtemp()\n",
    "    print('destpath=', destpath)\n",
    "    try:\n",
    "        # Extract zip file contents.\n",
    "        with zipfile.ZipFile(orig_zip_path) as zf:\n",
    "            zf.extractall(destpath)\n",
    "\n",
    "        # Load index.html as BS4 tree\n",
    "        index_path = os.path.join(destpath, 'index.html')\n",
    "        with open(index_path, 'r') as inf:\n",
    "            html = inf.read()\n",
    "        page = BeautifulSoup(html, \"html.parser\")\n",
    "        body = page.find('body')\n",
    "        body['style'] = \"margin-top:44px;\"\n",
    "        print(str(body)[0:200])\n",
    "        with open(index_path, 'w') as outf:\n",
    "            outf.write(str(page))\n",
    "        \n",
    "        return create_predictable_zip(destpath)\n",
    "\n",
    "    except Exception as e:\n",
    "        LOGGER.error(\"add_margin_top: %s, %s, %s\" %\n",
    "                     (orig_zip_path, destpath, e))\n",
    "        return None"
   ]
  },
  {
   "cell_type": "code",
   "execution_count": 8,
   "metadata": {},
   "outputs": [
    {
     "name": "stdout",
     "output_type": "stream",
     "text": [
      "destpath= /var/folders/wc/2r44j8gs4gn56t1xtw5f6wlm0000gn/T/tmpgrjbvxzy\n",
      "<body style=\"margin-top:44px;\">\n",
      "<div class=\"se-pre-con col-lg-12 col-md-12 col-xs-12 col-sm-12\" style=\"background-image:url(CSS/Preloader_3.gif);\"></div>\n",
      "<div id=\"AbacusGameMainDiv\">\n",
      "<div class=\"col-l\n"
     ]
    },
    {
     "data": {
      "text/plain": [
       "'/var/folders/wc/2r44j8gs4gn56t1xtw5f6wlm0000gn/T/tmpxj__na6c.zip'"
      ]
     },
     "execution_count": 8,
     "metadata": {},
     "output_type": "execute_result"
    }
   ],
   "source": [
    "add_margin_top('./NumberKas_HI_Hindi_orig.zip')\n"
   ]
  },
  {
   "cell_type": "code",
   "execution_count": null,
   "metadata": {},
   "outputs": [],
   "source": []
  }
 ],
 "metadata": {
  "kernelspec": {
   "display_name": "Python 3",
   "language": "python",
   "name": "python3"
  },
  "language_info": {
   "codemirror_mode": {
    "name": "ipython",
    "version": 3
   },
   "file_extension": ".py",
   "mimetype": "text/x-python",
   "name": "python",
   "nbconvert_exporter": "python",
   "pygments_lexer": "ipython3",
   "version": "3.6.5"
  }
 },
 "nbformat": 4,
 "nbformat_minor": 2
}
