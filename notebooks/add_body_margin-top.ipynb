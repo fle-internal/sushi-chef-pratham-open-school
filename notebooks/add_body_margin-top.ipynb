{
 "cells": [
  {
   "cell_type": "code",
   "execution_count": 7,
   "metadata": {},
   "outputs": [
    {
     "name": "stdout",
     "output_type": "stream",
     "text": [
      "destpath= /var/folders/wc/2r44j8gs4gn56t1xtw5f6wlm0000gn/T/tmpg9hd471y\n",
      "<body class=\"row app-bg\" style=\"width:100%; margin-top:44px;\">\n",
      "<center>\n",
      "<div class=\"row app-bg\" style=\"width:97%;margin-left:14px;\">\n",
      "<div class=\"row\">\n",
      "<div class=\"col-lg-10 col-md-10 col-sm-10 col-lg-\n"
     ]
    }
   ],
   "source": [
    "import os\n",
    "import tempfile\n",
    "import zipfile\n",
    "from ricecooker.utils.zip import create_predictable_zip\n",
    "from bs4 import BeautifulSoup\n",
    "\n",
    "\n",
    "orig_zip_path = '/Users/ivan/Desktop/Mathematics.zip'\n",
    "\n",
    "destpath = tempfile.mkdtemp()\n",
    "print('destpath=', destpath)\n",
    "\n",
    "# Extract zip file contents.\n",
    "with zipfile.ZipFile(orig_zip_path) as zf:\n",
    "    zf.extractall(destpath)\n",
    "\n",
    "# Load index.html as BS4 tree\n",
    "index_path = os.path.join(destpath, 'Mathematics/hn_angle_est_l2.html')\n",
    "with open(index_path, 'r') as inf:\n",
    "    html = inf.read()\n",
    "page = BeautifulSoup(html, \"html.parser\")\n",
    "body = page.find('body')\n",
    "prev_style_str = body['style'] or ''\n",
    "body['style'] = prev_style_str + \" margin-top:44px;\"\n",
    "print(str(body)[0:200])\n",
    "with open(index_path, 'w') as outf:\n",
    "    outf.write(str(page))\n",
    "\n"
   ]
  },
  {
   "cell_type": "code",
   "execution_count": 8,
   "metadata": {},
   "outputs": [
    {
     "name": "stdout",
     "output_type": "stream",
     "text": [
      "destpath= /var/folders/wc/2r44j8gs4gn56t1xtw5f6wlm0000gn/T/tmpgrjbvxzy\n",
      "<body style=\"margin-top:44px;\">\n",
      "<div class=\"se-pre-con col-lg-12 col-md-12 col-xs-12 col-sm-12\" style=\"background-image:url(CSS/Preloader_3.gif);\"></div>\n",
      "<div id=\"AbacusGameMainDiv\">\n",
      "<div class=\"col-l\n"
     ]
    },
    {
     "data": {
      "text/plain": [
       "'/var/folders/wc/2r44j8gs4gn56t1xtw5f6wlm0000gn/T/tmpxj__na6c.zip'"
      ]
     },
     "execution_count": 8,
     "metadata": {},
     "output_type": "execute_result"
    }
   ],
   "source": [
    "add_margin_top('./NumberKas_HI_Hindi_orig.zip')\n"
   ]
  },
  {
   "cell_type": "code",
   "execution_count": 3,
   "metadata": {},
   "outputs": [],
   "source": [
    "from chef import get_zip_file"
   ]
  },
  {
   "cell_type": "code",
   "execution_count": 4,
   "metadata": {},
   "outputs": [
    {
     "data": {
      "text/plain": [
       "'chefdata/zipfiles/7a8f39bd2c2104c04781c69d97a880ed/webroot.zip'"
      ]
     },
     "execution_count": 4,
     "metadata": {},
     "output_type": "execute_result"
    }
   ],
   "source": [
    "get_zip_file('http://www.prathamopenschool.org/CourseContent/Games/Mathematics.zip', 'Mathematics/hn_angle_est_l2.html')"
   ]
  },
  {
   "cell_type": "code",
   "execution_count": 5,
   "metadata": {},
   "outputs": [],
   "source": [
    "!open chefdata/zipfiles/7a8f39bd2c2104c04781c69d97a880ed/webroot.zip"
   ]
  },
  {
   "cell_type": "code",
   "execution_count": 8,
   "metadata": {},
   "outputs": [],
   "source": [
    "html = \"<body></body>\"\n",
    "page = BeautifulSoup(html, \"html.parser\")"
   ]
  },
  {
   "cell_type": "code",
   "execution_count": 10,
   "metadata": {},
   "outputs": [],
   "source": [
    "body = page.find('body')"
   ]
  },
  {
   "cell_type": "code",
   "execution_count": 12,
   "metadata": {},
   "outputs": [
    {
     "data": {
      "text/plain": [
       "False"
      ]
     },
     "execution_count": 12,
     "metadata": {},
     "output_type": "execute_result"
    }
   ],
   "source": [
    "body.has_attr('style')"
   ]
  },
  {
   "cell_type": "code",
   "execution_count": 13,
   "metadata": {},
   "outputs": [
    {
     "data": {
      "text/plain": [
       "False"
      ]
     },
     "execution_count": 13,
     "metadata": {},
     "output_type": "execute_result"
    }
   ],
   "source": [
    "'style' in body"
   ]
  },
  {
   "cell_type": "code",
   "execution_count": null,
   "metadata": {},
   "outputs": [],
   "source": []
  }
 ],
 "metadata": {
  "kernelspec": {
   "display_name": "Python 3",
   "language": "python",
   "name": "python3"
  },
  "language_info": {
   "codemirror_mode": {
    "name": "ipython",
    "version": 3
   },
   "file_extension": ".py",
   "mimetype": "text/x-python",
   "name": "python",
   "nbconvert_exporter": "python",
   "pygments_lexer": "ipython3",
   "version": "3.6.5"
  }
 },
 "nbformat": 4,
 "nbformat_minor": 2
}
