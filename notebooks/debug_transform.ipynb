{
 "cells": [
  {
   "cell_type": "markdown",
   "metadata": {},
   "source": [
    "# Downloading and transforming zip files\n",
    "\n",
    "The zip resource downloaded from the Pratham website undergo varios transformations and \"fixes\" in order to make sure they are usable in Kolibri."
   ]
  },
  {
   "cell_type": "code",
   "execution_count": null,
   "metadata": {},
   "outputs": [],
   "source": []
  },
  {
   "cell_type": "markdown",
   "metadata": {},
   "source": [
    "## Normal games"
   ]
  },
  {
   "cell_type": "code",
   "execution_count": 1,
   "metadata": {},
   "outputs": [
    {
     "data": {
      "text/plain": [
       "'chefdata/zipfiles/fd15f99a7231b9740c42999e2ce681be/webroot.zip'"
      ]
     },
     "execution_count": 1,
     "metadata": {},
     "output_type": "execute_result"
    }
   ],
   "source": [
    "from transform import get_zip_file\n",
    "\n",
    "# def get_zip_file(zip_file_url, main_file):\n",
    "#     \"\"\"\n",
    "#     HTML games are provided as zip files, the entry point of the game is `main_file`.\n",
    "#     THe `main_file` needs to be renamed to index.html to make it compatible with Kolibri.\n",
    "#     \"\"\"\n",
    "\n",
    "zip_file_url = \"http://www.prathamopenschool.org/CourseContent/Games/ABCD.zip\"\n",
    "main_file = \"http://www.prathamopenschool.org/CourseContent/Games/ABCD/index.html\"\n",
    "\n",
    "get_zip_file(zip_file_url, main_file)"
   ]
  },
  {
   "cell_type": "code",
   "execution_count": 2,
   "metadata": {},
   "outputs": [
    {
     "name": "stdout",
     "output_type": "stream",
     "text": [
      "2.1M\tchefdata/zipfiles/fd15f99a7231b9740c42999e2ce681be/webroot.zip\r\n"
     ]
    }
   ],
   "source": [
    "!du -sh chefdata/zipfiles/fd15f99a7231b9740c42999e2ce681be/webroot.zip"
   ]
  },
  {
   "cell_type": "code",
   "execution_count": null,
   "metadata": {},
   "outputs": [],
   "source": []
  },
  {
   "cell_type": "code",
   "execution_count": null,
   "metadata": {},
   "outputs": [],
   "source": []
  },
  {
   "cell_type": "code",
   "execution_count": null,
   "metadata": {},
   "outputs": [],
   "source": []
  },
  {
   "cell_type": "markdown",
   "metadata": {},
   "source": [
    "## Mathematics games"
   ]
  },
  {
   "cell_type": "code",
   "execution_count": 3,
   "metadata": {},
   "outputs": [
    {
     "data": {
      "text/plain": [
       "'chefdata/zipfiles/b9d38973bf4fb2de86a6d2d6c7adf3d8/webroot.zip'"
      ]
     },
     "execution_count": 3,
     "metadata": {},
     "output_type": "execute_result"
    }
   ],
   "source": [
    "zip_file_url = \"http://www.prathamopenschool.org/CourseContent/Games/Mathematics.zip\"\n",
    "main_file = \"http://www.prathamopenschool.org/CourseContent/Games/Mathematics/hn_angle_est_home.html\"\n",
    "\n",
    "get_zip_file(zip_file_url, main_file)\n"
   ]
  },
  {
   "cell_type": "code",
   "execution_count": 4,
   "metadata": {},
   "outputs": [
    {
     "name": "stdout",
     "output_type": "stream",
     "text": [
      "1.0M\tchefdata/zipfiles/b9d38973bf4fb2de86a6d2d6c7adf3d8/webroot.zip\r\n"
     ]
    }
   ],
   "source": [
    "!du -sh chefdata/zipfiles/b9d38973bf4fb2de86a6d2d6c7adf3d8/webroot.zip"
   ]
  },
  {
   "cell_type": "code",
   "execution_count": null,
   "metadata": {},
   "outputs": [],
   "source": []
  },
  {
   "cell_type": "code",
   "execution_count": null,
   "metadata": {},
   "outputs": [],
   "source": []
  },
  {
   "cell_type": "code",
   "execution_count": null,
   "metadata": {},
   "outputs": [],
   "source": []
  },
  {
   "cell_type": "markdown",
   "metadata": {},
   "source": [
    "## PhET simulations"
   ]
  },
  {
   "cell_type": "code",
   "execution_count": 5,
   "metadata": {},
   "outputs": [
    {
     "data": {
      "text/plain": [
       "'/var/folders/wc/2r44j8gs4gn56t1xtw5f6wlm0000gn/T/tmp3iyun3nd.zip'"
      ]
     },
     "execution_count": 5,
     "metadata": {},
     "output_type": "execute_result"
    }
   ],
   "source": [
    "from transform import get_phet_zip_file\n",
    "\n",
    "# def get_phet_zip_file(zip_file_url, main_file_and_query):\n",
    "#     \"\"\"\n",
    "#     Phet simulations are provided in the zip file `phet.zip`, and the entry point\n",
    "#     is passed as a GET parameter in `main_file_and_query`. To make these compatible\n",
    "#     with Kolibri's default behaviour of loading index.html, we will:\n",
    "#       - Rename index.html to phetindex.thml\n",
    "#       - Add a custom index.html that uses javascrpt redirect to phetindex.thml?{sim_id}\n",
    "\n",
    "\n",
    "zip_file_url = \"http://www.prathamopenschool.org/CourseContent/Games/phet.zip\"\n",
    "main_file_and_query = \"http://www.prathamopenschool.org/CourseContent/Games/phet/index.html?id=ohms-law-hn\"\n",
    "\n",
    "get_phet_zip_file(zip_file_url, main_file_and_query)\n"
   ]
  },
  {
   "cell_type": "code",
   "execution_count": null,
   "metadata": {},
   "outputs": [],
   "source": []
  }
 ],
 "metadata": {
  "kernelspec": {
   "display_name": "Python 3",
   "language": "python",
   "name": "python3"
  },
  "language_info": {
   "codemirror_mode": {
    "name": "ipython",
    "version": 3
   },
   "file_extension": ".py",
   "mimetype": "text/x-python",
   "name": "python",
   "nbconvert_exporter": "python",
   "pygments_lexer": "ipython3",
   "version": "3.7.4"
  }
 },
 "nbformat": 4,
 "nbformat_minor": 2
}
