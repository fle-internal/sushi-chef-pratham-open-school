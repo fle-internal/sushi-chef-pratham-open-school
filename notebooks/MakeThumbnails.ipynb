{
 "cells": [
  {
   "cell_type": "code",
   "execution_count": 16,
   "metadata": {},
   "outputs": [],
   "source": [
    "from PIL import Image\n",
    "import glob, os\n",
    "\n",
    "import requests\n",
    "import tempfile\n"
   ]
  },
  {
   "cell_type": "code",
   "execution_count": null,
   "metadata": {},
   "outputs": [],
   "source": []
  },
  {
   "cell_type": "code",
   "execution_count": 15,
   "metadata": {},
   "outputs": [
    {
     "data": {
      "text/plain": [
       "'chefdata/gamethumbnails/AwazPehchano_KN.thumbnail.png'"
      ]
     },
     "execution_count": 15,
     "metadata": {},
     "output_type": "execute_result"
    }
   ],
   "source": [
    "GAME_THUMBS_REMOTE_DIR = 'http://www.prodigi.openiscool.org/repository/Images/'\n",
    "GAME_THUMBS_LOCAL_DIR = 'chefdata/gamethumbnails'\n",
    "\n",
    "def downlaod_game_thumbnail(title):\n",
    "    \"\"\"\n",
    "    Download and resize game thumbnail from `GAME_THUMBS_DIR`.\n",
    "    Returns path to thumbnial, or `None` in case of failure.\n",
    "    \"\"\"\n",
    "    # 1. GET LARGE IMAGE\n",
    "    imgurl = GAME_THUMBS_REMOTE_DIR + title + '.png'\n",
    "    try:\n",
    "        response = requests.get(imgurl)\n",
    "        response.raise_for_status()\n",
    "    except Exception as e:\n",
    "        print('HTTP ERROR:', e)\n",
    "        return None\n",
    "    with tempfile.NamedTemporaryFile(suffix='.png') as origf:\n",
    "        origf.write(response.content)\n",
    "        origf.flush()\n",
    "    \n",
    "        # 2. RESIZE and SAVE image to chefdata/\n",
    "        THUMB_SIZE = (420, 236)\n",
    "        im = Image.open(origf)\n",
    "        im.thumbnail(THUMB_SIZE)\n",
    "        thumbnail_path = os.path.join(GAME_THUMBS_LOCAL_DIR, title + '.thumbnail.png')\n",
    "        im.save(thumbnail_path, \"png\")\n",
    "\n",
    "    return thumbnail_path\n",
    "\n",
    "downlaod_game_thumbnail('AwazPehchano_KN')\n"
   ]
  },
  {
   "cell_type": "code",
   "execution_count": null,
   "metadata": {},
   "outputs": [],
   "source": []
  }
 ],
 "metadata": {
  "kernelspec": {
   "display_name": "Python 3",
   "language": "python",
   "name": "python3"
  },
  "language_info": {
   "codemirror_mode": {
    "name": "ipython",
    "version": 3
   },
   "file_extension": ".py",
   "mimetype": "text/x-python",
   "name": "python",
   "nbconvert_exporter": "python",
   "pygments_lexer": "ipython3",
   "version": "3.6.5"
  }
 },
 "nbformat": 4,
 "nbformat_minor": 2
}
