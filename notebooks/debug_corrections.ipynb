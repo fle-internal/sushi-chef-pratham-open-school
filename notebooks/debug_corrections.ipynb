{
 "cells": [
  {
   "cell_type": "markdown",
   "metadata": {},
   "source": [
    "# Corrections\n",
    "\n",
    "This document\n",
    "https://docs.google.com/spreadsheets/d/1kPOnTVZ5vwq038x1aQNlA2AFtliLIcc2Xk5Kxr852mg/edit#gid=93933238\n",
    "\n",
    "  - SKIP GAME  =  do not include this game in the channel (for broken games)\n",
    "  - REPLACE WITH:url = replace a game with a fixed version\n",
    "  - ADD MARGIN-TOP  = Add margins (used for Mathematics.zip) to avoid the Kolibri UI blocking the game navigation\n",
    "  "
   ]
  },
  {
   "cell_type": "code",
   "execution_count": 19,
   "metadata": {},
   "outputs": [
    {
     "data": {
      "text/plain": [
       "'http://repository.prathamopenschool.org/Zip/Hindi/NumberKas_HI_Hindi.zip'"
      ]
     },
     "execution_count": 19,
     "metadata": {},
     "output_type": "execute_result"
    }
   ],
   "source": [
    "m = pat.match(s)\n",
    "m.group(0)"
   ]
  },
  {
   "cell_type": "code",
   "execution_count": 18,
   "metadata": {},
   "outputs": [
    {
     "data": {
      "text/plain": [
       "'http://repository.prathamopenschool.org/Zip/Assamese/NumberKas_AS_Assamese.zip'"
      ]
     },
     "execution_count": 18,
     "metadata": {},
     "output_type": "execute_result"
    }
   ],
   "source": [
    "m2 = pat.match(s2)\n",
    "m2.group(0)\n"
   ]
  },
  {
   "cell_type": "code",
   "execution_count": 1,
   "metadata": {},
   "outputs": [],
   "source": [
    "from corrections import PRADIGI_CORRECTIONS_LIST, CORRECTIONS_SOURCE_URL_PAT_KEY"
   ]
  },
  {
   "cell_type": "code",
   "execution_count": 2,
   "metadata": {},
   "outputs": [
    {
     "data": {
      "text/plain": [
       "[{'Correction ID': '18',\n",
       "  'Bug Type': 'ENTER FULLSCREEN',\n",
       "  'Game Name': 'multiple',\n",
       "  'Source URL (Regular Expression)': re.compile(r'http://www.prathamopenschool.org/CourseContent/Games/Mathematics.zip',\n",
       "  re.UNICODE),\n",
       "  'Action': 'ADD MARGIN-TOP',\n",
       "  'Comment': 'All the math games from Mathemtics.zip in that folder have this issue -- Balaji said Remove this mathematics zip folder'},\n",
       " {'Correction ID': '8b',\n",
       "  'Bug Type': 'Android API needed',\n",
       "  'Game Name': 'YouSaid',\n",
       "  'Source URL (Regular Expression)': re.compile(r'http://www.prathamopenschool.org/CourseContent/Games/YouSaid.zip',\n",
       "  re.UNICODE),\n",
       "  'Action': 'SKIP GAME',\n",
       "  'Comment': 'appears here http://prathamopenschool.org/en/gamelist/CRS157'},\n",
       " {'Correction ID': '50',\n",
       "  'Bug Type': 'Android API needed',\n",
       "  'Game Name': 'Flip it',\n",
       "  'Source URL (Regular Expression)': re.compile(r'http://www.prathamopenschool.org/CourseContent/Games/FlipIt.zip',\n",
       "  re.UNICODE),\n",
       "  'Action': 'SKIP GAME',\n",
       "  'Comment': None}]"
      ]
     },
     "execution_count": 2,
     "metadata": {},
     "output_type": "execute_result"
    }
   ],
   "source": [
    "PRADIGI_CORRECTIONS_LIST[0:3]"
   ]
  },
  {
   "cell_type": "code",
   "execution_count": 3,
   "metadata": {},
   "outputs": [
    {
     "name": "stdout",
     "output_type": "stream",
     "text": [
      "re.compile('http://www.prathamopenschool.org/CourseContent/Games/Mathematics.zip')\n",
      "re.compile('http://www.prathamopenschool.org/CourseContent/Games/YouSaid.zip')\n",
      "re.compile('http://www.prathamopenschool.org/CourseContent/Games/FlipIt.zip')\n",
      "re.compile('http://www.prathamopenschool.org/CourseContent/Games/TranslateHindiEnglish.zip')\n",
      "re.compile('http://www.prathamopenschool.org/CourseContent/Games/TranslateHindiEnglishLevel2.zip')\n",
      "re.compile('http://www.prathamopenschool.org/CourseContent/Games/TranslateHindiEnglishLevel3.zip')\n",
      "re.compile('http://www.prathamopenschool.org/CourseContent/Games/TranslateHindiEnglishLevel4.zip')\n",
      "re.compile('http://www.prathamopenschool.org/CourseContent/Games/TranslateMarathiToEnglish.zip')\n",
      "re.compile('http://www.prathamopenschool.org/CourseContent/Games/TranslateMarathiToEnglishLevel2.zip')\n",
      "re.compile('http://www.prathamopenschool.org/CourseContent/Games/TranslateMarathiToEnglishLevel3.zip')\n",
      "re.compile('http://www.prathamopenschool.org/CourseContent/Games/TranslateMarathiToEnglishLevel4.zip')\n",
      "re.compile('http://www.prathamopenschool.org/CourseContent/Games/BolBacchaBol.*.zip')\n",
      "re.compile('http://www.prathamopenschool.org/CourseContent/Games/ABCDCover.zip')\n",
      "re.compile('http://www.prathamopenschool.org/CourseContent/Games/PointMeOutCover.zip')\n",
      "re.compile('http://www.prathamopenschool.org/CourseContent/Games/GuessWhoCover.zip')\n",
      "re.compile('http://www.prathamopenschool.org/CourseContent/Games/CountAndKnowCover.zip')\n",
      "re.compile('http://www.prathamopenschool.org/CourseContent/Games/CountItCover.zip')\n",
      "re.compile('http://www.prathamopenschool.org/CourseContent/Games/CityOfStories.zip')\n",
      "re.compile('https://www.prathamopenschool.org/CourseContent/Games/CityOfStories.zip')\n",
      "re.compile('http://www.prathamopenschool.org/CourseContent/Games/cityofstories.zip')\n"
     ]
    }
   ],
   "source": [
    "import re\n",
    "for row in PRADIGI_CORRECTIONS_LIST:\n",
    "    print(row[CORRECTIONS_SOURCE_URL_PAT_KEY])"
   ]
  },
  {
   "cell_type": "code",
   "execution_count": null,
   "metadata": {},
   "outputs": [],
   "source": []
  },
  {
   "cell_type": "code",
   "execution_count": 4,
   "metadata": {},
   "outputs": [],
   "source": [
    "s = 'http://repository.prathamopenschool.org/Zip/Hindi/NumberKas_HI_Hindi.zip'\n",
    "s2 = 'http://repository.prathamopenschool.org/Zip/Assamese/NumberKas_AS_Assamese.zip'\n",
    "\n"
   ]
  },
  {
   "cell_type": "code",
   "execution_count": 8,
   "metadata": {},
   "outputs": [
    {
     "data": {
      "text/plain": [
       "False"
      ]
     },
     "execution_count": 8,
     "metadata": {},
     "output_type": "execute_result"
    }
   ],
   "source": [
    "\n",
    "from corrections import should_skip_file\n",
    "# Checks `url` against list of SKIP GAME corrections.\n",
    "# Returns True if `url` should be skipped, False otherwise\n",
    "\n",
    "should_skip_file(s)\n",
    "\n"
   ]
  },
  {
   "cell_type": "code",
   "execution_count": 7,
   "metadata": {},
   "outputs": [],
   "source": [
    "from corrections import should_replace_with"
   ]
  },
  {
   "cell_type": "code",
   "execution_count": null,
   "metadata": {},
   "outputs": [],
   "source": []
  }
 ],
 "metadata": {
  "kernelspec": {
   "display_name": "Python 3",
   "language": "python",
   "name": "python3"
  },
  "language_info": {
   "codemirror_mode": {
    "name": "ipython",
    "version": 3
   },
   "file_extension": ".py",
   "mimetype": "text/x-python",
   "name": "python",
   "nbconvert_exporter": "python",
   "pygments_lexer": "ipython3",
   "version": "3.7.3"
  }
 },
 "nbformat": 4,
 "nbformat_minor": 2
}
