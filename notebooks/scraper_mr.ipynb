{
 "cells": [
  {
   "cell_type": "code",
   "execution_count": 1,
   "metadata": {},
   "outputs": [],
   "source": [
    "from pradigi_crawlers import PraDigiCrawler\n",
    "mr_crawler = PraDigiCrawler(lang='mr')\n"
   ]
  },
  {
   "cell_type": "code",
   "execution_count": 2,
   "metadata": {
    "scrolled": false
   },
   "outputs": [
    {
     "name": "stderr",
     "output_type": "stream",
     "text": [
      "found topic: Mathematics: गणित\n",
      "found topic: English: इंग्रजी\n",
      "found topic: Science: विज्ञान\n",
      "found topic: Std5: वर्ग\n",
      "found topic: Std5: 5 वी वर्ग\n",
      "found topic: Std6: 6 वी वर्ग\n",
      "found topic: Std7: 7 वी वर्ग\n",
      "found topic: Std8: 8 वी वर्ग\n",
      "found topic: Std9: 9 वी वर्ग\n",
      "found topic: Std10: 10 वी वर्ग\n",
      "found fun page: Fun: मजा\n",
      "found story page: Story: गोष्टी\n",
      "found topic: CRS105: खेळ\n",
      "  found subtopic: CRS63: गणितातल्या गंमती\n",
      "  found subtopic: CRS64: परिमाण आणि संख्या\n",
      "  found subtopic: CRS36: आकारांची रहस्ये\n",
      "  found subtopic: CRS37: भागाकाराच्या पुढे\n",
      "  found subtopic: CRS38: वेगळ्या संख्या\n",
      "  found subtopic: CRS39: व्याज\n",
      "  found subtopic: CRS40: वर्ग आणि घन संख्या\n",
      "  found subtopic: CRS41: बीजगणित\n",
      "  found subtopic: CRS34: इंग्रजी बोला\n",
      "  found subtopic: CRS35: इंग्रजी खेळ\n",
      "  found subtopic: CRS97: अंग्रेजी ओके प्लीज\n",
      "  found subtopic: CRS71: आपल्या आसपास\n",
      "  found subtopic: CRS72: साधी यंत्रे\n",
      "  found subtopic: CRS73: आरोग्य\n",
      "  found subtopic: CRS42: प्रकाश\n",
      "  found subtopic: CRS43: पदार्थ\n",
      "  found subtopic: CRS44: मानव शरीर\n",
      "  found subtopic: CRS45: मापन\n",
      "  found subtopic: CRS46: हालचाल\n",
      "  found subtopic: CRS47: सूर्य आणि पृथ्वी\n",
      "  found subtopic: CRS48: ऊर्जा\n",
      "  found subtopic: CRS49: मजेदार प्रयोग\n",
      "  found subtopic: CRS21: विज्ञान\n",
      "  found subtopic: CRS22: गणित\n",
      "  found subtopic: CRS50: विज्ञान\n",
      "  found subtopic: CRS51: गणित\n",
      "  found subtopic: CRS52: विज्ञान\n",
      "  found subtopic: CRS53: गणित\n",
      "  found subtopic: CRS54: विज्ञान\n",
      "  found subtopic: CRS55: गणित\n",
      "  found subtopic: CRS56: विज्ञान\n",
      "  found subtopic: CRS57: गणित\n",
      "  found subtopic: CRS58: विज्ञान\n",
      "  found subtopic: CRS59: गणित\n",
      "  found subtopic: CRS60: विज्ञान\n",
      "  found subtopic: CRS61: गणित\n"
     ]
    },
    {
     "name": "stdout",
     "output_type": "stream",
     "text": [
      "     in on_fun_page http://www.prathamopenschool.org/mr/Fun\n"
     ]
    },
    {
     "name": "stderr",
     "output_type": "stream",
     "text": [
      "      Fun content: mr/FunResource/4292: The Correct Pair at http://www.prathamopenschool.org/CourseContent/Games/CorrectPair/index.html\n",
      "      Fun content: mr/FunResource/4077: अक्षर मात्रा - शब्द यात्रा at http://www.prathamopenschool.org/CourseContent/Games/AksharMatra_MR/index.html\n",
      "      Fun content: mr/FunResource/1113: या चित्रात दडलंय काय? at http://www.prathamopenschool.org/CourseContent/Games/JigsawGame_M/CoverPage.html\n",
      "      Fun content: mr/FunResource/4343: कॉम्प्युटरचं काम at http://www.prathamopenschool.org/CourseContent/videos/m_fun_computerwork.mp4\n",
      "      Fun content: mr/FunResource/898: भर भर भरा at http://www.prathamopenschool.org/CourseContent/Games/ScienceBucketGame_M/BucketGame.html\n",
      "      Fun content: mr/FunResource/1519: बॉल फिरला की तुमची नजर? at http://www.prathamopenschool.org/CourseContent/videos/m_coriolis_effect.mp4\n",
      "      Fun content: mr/FunResource/5507: गोलमाल at http://www.prathamopenschool.org/CourseContent/Games/Golmaal_MR/index.html\n",
      "      Fun content: mr/FunResource/888: विभाजक फोडा at http://www.prathamopenschool.org/CourseContent/Games/FactorsGameNew_M/gamePage.html\n",
      "      Fun content: mr/FunResource/5509: बोल-बच्चा-बोल at http://www.prathamopenschool.org/CourseContent/Games/BolBacchaBol_MR/index.html\n",
      "      Fun content: mr/FunResource/4081: शब्द चित्र at http://www.prathamopenschool.org/CourseContent/Games/ShabdhChitra_MR/index.html\n",
      "      Fun content: mr/FunResource/302: तरंगते सँडविच at http://www.prathamopenschool.org/CourseContent/videos/m_sandwich.mp4\n",
      "      Fun content: mr/FunResource/4877: अहो, जरा लायनीत ! at http://www.prathamopenschool.org/CourseContent/videos/m_Que.mp4\n",
      "      Fun content: mr/FunResource/1521: पिरिऑडिक टेबल at http://www.prathamopenschool.org/CourseContent/videos/m_periodic_table.mp4\n",
      "      Fun content: mr/FunResource/1524: कागदाचा पूल at http://www.prathamopenschool.org/CourseContent/videos/m_paper_bridge.mp4\n",
      "      Fun content: mr/FunResource/1168: आरसेबहाद्दर at http://www.prathamopenschool.org/CourseContent/videos/m_mirror.mp4\n",
      "      Fun content: mr/FunResource/5578: Airplane Landing at http://www.prathamopenschool.org/CourseContent/videos/m_Airplane_landing.mp4\n",
      "      Fun content: mr/FunResource/1563: कसे पितात? at http://www.prathamopenschool.org/CourseContent/videos/m_howToDrink.mp4\n",
      "      Fun content: mr/FunResource/4873: भारताच्या सुवर्ण कन्या at http://www.prathamopenschool.org/CourseContent/videos/m_India_golden_girl.mp4\n",
      "      Fun content: mr/FunResource/62: लावा करंट - तारेमध्ये रोध at http://www.prathamopenschool.org/CourseContent/Games/phet/index.html?id=resistance-in-a-wire-mr\n",
      "      Fun content: mr/FunResource/1502: मागे वळून बघता - विमान at http://www.prathamopenschool.org/CourseContent/Games/HistoryOfPlane_M/gamePage.html\n",
      "      Fun content: mr/FunResource/96: मागे वळून पाहता - विमानाचा इतिहास at http://www.prathamopenschool.org/CourseContent/Games/timeglider_aircraft_mr/aircraft_history.html\n",
      "      Fun content: mr/FunResource/97: इस्रोचा इतिहास at http://www.prathamopenschool.org/CourseContent/Games/timeglider_ISRO_mr/isro_history.html\n",
      "      Fun content: mr/FunResource/4531: आवाज ओळखा at http://www.prathamopenschool.org/CourseContent/Games/AwazPehchano_MR/index.html\n",
      "      Fun content: mr/FunResource/306: अंतराळात ताणाचा प्रयोग! at http://www.prathamopenschool.org/CourseContent/videos/m_pressure.mp4\n",
      "      Fun content: mr/FunResource/4554: Laurel and Hardy at http://www.prathamopenschool.org/CourseContent/videos/m_Laurel&amp;Hardy.mp4\n",
      "Fun resource not supported: http://www.prathamopenschool.org/mr/FunResource/4554, None\n",
      "      Fun content: mr/FunResource/304: अंतराळात वस्तुमान आणि वजन 1 at http://www.prathamopenschool.org/CourseContent/videos/m_weight1.mp4\n",
      "      Fun content: mr/FunResource/54: बनवाल तो अणू at http://www.prathamopenschool.org/CourseContent/Games/phet/index.html?id=build-an-atom-mr\n",
      "      Fun content: mr/FunResource/5506: रेल-गाडी at http://www.prathamopenschool.org/CourseContent/Games/RailGadi_MR/index.html\n",
      "      Fun content: mr/FunResource/1520: उपग्रहाने केला वाळूचा पाठलाग at http://www.prathamopenschool.org/CourseContent/videos/m_nasa_satellite.mp4\n",
      "      Fun content: mr/FunResource/1558: पुढे मागे at http://www.prathamopenschool.org/CourseContent/Games/wordshopm/index.html\n",
      "      Fun content: mr/FunResource/129: वाक्ये करा मस्त at http://www.prathamopenschool.org/CourseContent/Games/Build-a-Sentence(Marathi)/mainExpand.html\n",
      "      Fun content: mr/FunResource/5563: कप्पीचे फायदे आणि तोटे भाग 2 at http://www.prathamopenschool.org/CourseContent/videos/m_Pulley_advantage_and_disadvantages_2.mp4\n",
      "      Fun content: mr/FunResource/1341: दे दणा दण at http://www.prathamopenschool.org/CourseContent/Games/Cricket_MR/index.html\n",
      "      Fun content: mr/FunResource/884: कल - का - लूटर at http://www.prathamopenschool.org/CourseContent/Games/M_calculator/main.html\n",
      "      Fun content: mr/FunResource/883: वाजले किती? at http://www.prathamopenschool.org/CourseContent/Games/clockGameMarathi/index.html\n",
      "      Fun content: mr/FunResource/5505: डिंग-डांग-डिंग at http://www.prathamopenschool.org/CourseContent/Games/DingDangDing_MR/index.html\n",
      "      Fun content: mr/FunResource/133: विश्वदर्शन at http://www.prathamopenschool.org/CourseContent/Games/4 clues (Countries) Marathi/Index.html\n",
      "      Fun content: mr/FunResource/1115: डॉ. हड्डी at http://www.prathamopenschool.org/CourseContent/Games/Bone Game(Dr. Haddi)_M/CoverPage.html\n",
      "      Fun content: mr/FunResource/4093: आवाज-चित्र at http://www.prathamopenschool.org/CourseContent/Games/Awazchitra_MR/index.html\n",
      "      Fun content: mr/FunResource/1523: सगळ्यात महत्त्वाचे कार्य at http://www.prathamopenschool.org/CourseContent/videos/m_important_work.mp4\n",
      "      Fun content: mr/FunResource/303: अंतराळात त्वरणाचा प्रयोग! at http://www.prathamopenschool.org/CourseContent/videos/m_acceleration.mp4\n",
      "      Fun content: mr/FunResource/4869: गीता आणि बबीता at http://www.prathamopenschool.org/CourseContent/videos/Geeta_Babita.mp4\n",
      "      Fun content: mr/FunResource/1411: भर भर भरा! at http://www.prathamopenschool.org/CourseContent/Games/MathsBucketGame_M/BucketGame.html\n",
      "      Fun content: mr/FunResource/305: अंतराळात वस्तुमान आणि वजन 2 at http://www.prathamopenschool.org/CourseContent/videos/m_weight2.mp4\n",
      "      Fun content: mr/FunResource/1564: कसे उडतात ? at http://www.prathamopenschool.org/CourseContent/videos/m_howToFly.mp4\n",
      "      Fun content: mr/FunResource/1525: आगळेवेगळे फाटक at http://www.prathamopenschool.org/CourseContent/videos/m_self_opearating_gate.mp4\n",
      "      Fun content: mr/FunResource/1562: कसे धावतात ? at http://www.prathamopenschool.org/CourseContent/videos/m_howToRun.mp4\n",
      "      Fun content: mr/FunResource/131: अहो, जरा लायनीत ! at http://www.prathamopenschool.org/CourseContent/Games/Sorting Game  (Marathi)/sorting.html\n",
      "      Fun content: mr/FunResource/338: प्रकाशाचा इतिहास at http://www.prathamopenschool.org/CourseContent/Games/timeglider_light_mr/light_history.html\n",
      "      Fun content: mr/FunResource/138: अतुल्य भारत at http://www.prathamopenschool.org/CourseContent/Games/AtulyaBharat/index.html\n",
      "      Fun content: mr/FunResource/56: संगत रंगांची at http://www.prathamopenschool.org/CourseContent/Games/phet/index.html?id=color-vision-master-mr\n",
      "      Fun content: mr/FunResource/4082: मागे पुढे at http://www.prathamopenschool.org/CourseContent/Games/AgePiche_MR/index.html\n",
      "      Fun content: mr/FunResource/4875: अपूर्णांकांची बेरीज at http://www.prathamopenschool.org/CourseContent/videos/m_fraction_addition.mp4\n",
      "      Fun content: mr/FunResource/5504: चित्र-विचित्र at http://www.prathamopenschool.org/CourseContent/Games/ChitraVichitra_MR/index.html\n",
      "      Fun content: mr/FunResource/4000: ठीक ठाक at http://www.prathamopenschool.org/CourseContent/Games/ThikThak_MR/index.html\n",
      "      Fun content: mr/FunResource/59: लावा करंट - ओहमचा नियम at http://www.prathamopenschool.org/CourseContent/Games/phet/index.html?id=ohms-law-mr\n",
      "      Fun content: mr/FunResource/4344: बोलके डोळे at http://www.prathamopenschool.org/CourseContent/videos/m_fun_talkingeyes.mp4\n",
      "      Fun content: mr/FunResource/1522: गाय चालवते पंप at http://www.prathamopenschool.org/CourseContent/videos/m_cow_pump.mp4\n",
      "      Fun content: mr/FunResource/1527: पूलांचे रहस्य at http://www.prathamopenschool.org/CourseContent/videos/m_bridge_secret.mp4\n"
     ]
    },
    {
     "name": "stderr",
     "output_type": "stream",
     "text": [
      "      Fun content: mr/FunResource/1565: कसे पोहतात ? at http://www.prathamopenschool.org/CourseContent/videos/m_howToSwim.mp4\n",
      "      Fun content: mr/FunResource/887: अपूर्णांक रंगवा at http://www.prathamopenschool.org/CourseContent/Games/newFractionGame_M/MainPage.html\n",
      "      Fun content: mr/FunResource/5562: कप्पीचे फायदे आणि तोटे भाग 1 at http://www.prathamopenschool.org/CourseContent/videos/m_Pulley_advantage_and_disadvantages_1.mp4\n",
      "      Fun content: mr/FunResource/301: अंतराळात ओले कपडे at http://www.prathamopenschool.org/CourseContent/videos/m_dry_clothes.mp4\n",
      "      Fun content: mr/FunResource/1526: खरे खेळाडू at http://www.prathamopenschool.org/CourseContent/videos/m_real_players.mp4\n",
      "      Fun content: mr/FunResource/307: अंतराळात बल आणि वस्तुमान! at http://www.prathamopenschool.org/CourseContent/videos/m_force.mp4\n",
      "      story_resource_page: mr/StoryResource/1112: शहरी तळ्यात फुलले प्राणीजीवन\n",
      "      story_resource_page: mr/StoryResource/1076: चुस्कीत शाळेत जाते\n",
      "      story_resource_page: mr/StoryResource/1082: लग्नाला जायचंय\n",
      "      story_resource_page: mr/StoryResource/1072: काकूचं बाळ\n",
      "      story_resource_page: mr/StoryResource/1090: कल्लूचे किस्से १\n",
      "      story_resource_page: mr/StoryResource/1093: ताजे दूध\n",
      "      story_resource_page: mr/StoryResource/1074: भंगारवाला\n",
      "      story_resource_page: mr/StoryResource/1088: मसाला चहा\n",
      "      story_resource_page: mr/StoryResource/1092: मोठे संकट\n",
      "      story_resource_page: mr/StoryResource/1081: पैशाचा अद्भुतरम्य प्रवास\n",
      "      story_resource_page: mr/StoryResource/1073: जंगलातलं मांजर\n",
      "      story_resource_page: mr/StoryResource/1078: बाबांच्या मिश्या\n",
      "      story_resource_page: mr/StoryResource/1087: ऑगस्टमधला एक दिवस\n",
      "      story_resource_page: mr/StoryResource/1105: कावळ्याने नातलगांना बोलावले\n",
      "      story_resource_page: mr/StoryResource/1108: चांदोबाची टोपी\n",
      "      story_resource_page: mr/StoryResource/1095: हसू मी कशी?\n",
      "      story_resource_page: mr/StoryResource/1077: मोरू नावाचे कोडे\n",
      "      story_resource_page: mr/StoryResource/1109: तुटक्या चोचीचा पोपट\n",
      "      story_resource_page: mr/StoryResource/1091: कल्लूचे किस्से २\n",
      "      story_resource_page: mr/StoryResource/1080: पैशाचे सुंदर जग\n",
      "      story_resource_page: mr/StoryResource/1083: टिंकूची रात्रीची सैर\n",
      "      story_resource_page: mr/StoryResource/1102: छुटकू कोळी\n",
      "      story_resource_page: mr/StoryResource/1097: पपलू राक्षस\n",
      "      story_resource_page: mr/StoryResource/1106: ससा आणि कासव\n",
      "      story_resource_page: mr/StoryResource/1085: रेडिओ आणि मासे\n",
      "      story_resource_page: mr/StoryResource/1096: सुंदर जग\n",
      "      story_resource_page: mr/StoryResource/1094: माझी गाडी\n",
      "      story_resource_page: mr/StoryResource/1099: राजुची नौका सफर\n",
      "      story_resource_page: mr/StoryResource/1089: काका आणि मुन्नी\n",
      "      story_resource_page: mr/StoryResource/1084: आजीचा चष्मा\n",
      "      story_resource_page: mr/StoryResource/1070: अनयाचा अंगठा\n",
      "      story_resource_page: mr/StoryResource/1107: कुहूss कुहूss !\n",
      "      story_resource_page: mr/StoryResource/1104: हत्ती, पक्षी आणि मुनिया\n",
      "      story_resource_page: mr/StoryResource/1103: राजू आणि भाज्या\n",
      "      story_resource_page: mr/StoryResource/1101: रडी आणि ठुशी\n",
      "      story_resource_page: mr/StoryResource/1110: रंगीत मासा\n",
      "      story_resource_page: mr/StoryResource/1111: चिमणी आणि फळ\n",
      "      story_resource_page: mr/StoryResource/1100: शोभिनी आणि आजी\n",
      "      story_resource_page: mr/StoryResource/1075: चुलबुलचे शेपुट\n",
      "      story_resource_page: mr/StoryResource/1071: वार्षिक केशकर्तन दिवस\n",
      "      story_resource_page: mr/StoryResource/1098: पाऊस आला रे\n",
      "      story_resource_page: mr/StoryResource/1079: मनूच्या आनंदाचा घडा\n",
      "      story_resource_page: mr/StoryResource/1086: एक अविस्मरणीय जत्रा\n"
     ]
    },
    {
     "name": "stdout",
     "output_type": "stream",
     "text": [
      "     in on_story_page http://www.prathamopenschool.org/mr/Story\n"
     ]
    },
    {
     "name": "stderr",
     "output_type": "stream",
     "text": [
      "  found subtopic: LES850: 3 to 6\n",
      "  found subtopic: LES851: 6 to 10\n",
      "     lesson: LES831: गणितातल्या गंमती\n"
     ]
    },
    {
     "name": "stdout",
     "output_type": "stream",
     "text": [
      "     in on_subtopic_page http://www.prathamopenschool.org/mr/Course/Mathematics/CRS63\n"
     ]
    },
    {
     "name": "stderr",
     "output_type": "stream",
     "text": [
      "     lesson: LES832: परिमाण आणि संख्या\n"
     ]
    },
    {
     "name": "stdout",
     "output_type": "stream",
     "text": [
      "     in on_subtopic_page http://www.prathamopenschool.org/mr/Course/Mathematics/CRS64\n"
     ]
    },
    {
     "name": "stderr",
     "output_type": "stream",
     "text": [
      "     lesson: LES438: त्रिकोण\n",
      "     lesson: LES439: वर्तुळ\n",
      "     lesson: LES440: क्षेत्रफल\n",
      "     lesson: LES441: परिमिती\n",
      "     lesson: LES437: कोन\n"
     ]
    },
    {
     "name": "stdout",
     "output_type": "stream",
     "text": [
      "     in on_subtopic_page http://www.prathamopenschool.org/mr/Course/Mathematics/CRS36\n"
     ]
    },
    {
     "name": "stderr",
     "output_type": "stream",
     "text": [
      "     lesson: LES442: विभाज्य संख्या\n",
      "     lesson: LES443: विभाजक संख्या\n",
      "     lesson: LES444: नाती गणितातली\n",
      "     lesson: LES445: मसावि\n",
      "     lesson: LES446: लसावि\n",
      "     lesson: LES447: लसावि-मसावि गंमत\n"
     ]
    },
    {
     "name": "stdout",
     "output_type": "stream",
     "text": [
      "     in on_subtopic_page http://www.prathamopenschool.org/mr/Course/Mathematics/CRS37\n"
     ]
    },
    {
     "name": "stderr",
     "output_type": "stream",
     "text": [
      "     lesson: LES448: पूर्ण नसलेले अंक\n",
      "     lesson: LES449: अपूर्णांकात अजून काय?\n",
      "     lesson: LES450: दोन अंकांच्या मध्ये\n",
      "     lesson: LES451: दशांश अपूर्णांकात अजून काय?\n",
      "     lesson: LES452: १०० पैकी किती?\n"
     ]
    },
    {
     "name": "stdout",
     "output_type": "stream",
     "text": [
      "     in on_subtopic_page http://www.prathamopenschool.org/mr/Course/Mathematics/CRS38\n"
     ]
    },
    {
     "name": "stderr",
     "output_type": "stream",
     "text": [
      "     lesson: LES453: व्याज\n"
     ]
    },
    {
     "name": "stdout",
     "output_type": "stream",
     "text": [
      "     in on_subtopic_page http://www.prathamopenschool.org/mr/Course/Mathematics/CRS39\n"
     ]
    },
    {
     "name": "stderr",
     "output_type": "stream",
     "text": [
      "     lesson: LES454: वर्गसंख्या\n"
     ]
    },
    {
     "name": "stdout",
     "output_type": "stream",
     "text": [
      "     in on_subtopic_page http://www.prathamopenschool.org/mr/Course/Mathematics/CRS40\n"
     ]
    },
    {
     "name": "stderr",
     "output_type": "stream",
     "text": [
      "     lesson: LES455: बीजगणिताशी मैत्री\n"
     ]
    },
    {
     "name": "stdout",
     "output_type": "stream",
     "text": [
      "     in on_subtopic_page http://www.prathamopenschool.org/mr/Course/Mathematics/CRS41\n"
     ]
    },
    {
     "name": "stderr",
     "output_type": "stream",
     "text": [
      "     lesson: LES425: L1 करा हॅलोने सुरुवात\n",
      "     lesson: LES426: L2 नातीगोती\n",
      "     lesson: LES427: L3 गप्पा\n",
      "     lesson: LES428: L4 सिनेमा\n",
      "     lesson: LES429: L6 खरेदीला चला\n",
      "     lesson: LES430: L7 स्वत:चा सिनेमा बनवा.\n",
      "     lesson: LES431: L8 सलमा दिदीचे लग्न\n",
      "     lesson: LES432: L9 आजच्या बातम्या\n",
      "     lesson: LES433: L10 घाबरायचं काम नाही\n",
      "     lesson: LES434: L11 मुलांची टोळी\n",
      "     lesson: LES435: L12 डोक्यात प्रकाश पडला!\n",
      "     lesson: LES436: L13 गावात धमाल खेळ\n",
      "     lesson: LES827: L5 वेळ समजून घेऊ या.\n"
     ]
    },
    {
     "name": "stdout",
     "output_type": "stream",
     "text": [
      "     in on_subtopic_page http://www.prathamopenschool.org/mr/Course/English/CRS34\n"
     ]
    },
    {
     "name": "stderr",
     "output_type": "stream",
     "text": [
      "     lesson: LES816: Flip It\n",
      "     lesson: LES817: Crumble Tumble\n",
      "     lesson: LES818: Fix-Up Mix-Up\n",
      "     lesson: LES819: You Said\n",
      "     lesson: LES820: Point Me Out\n",
      "     lesson: LES821: Guess Who\n",
      "     lesson: LES822: ABCD\n",
      "     lesson: LES823: Letter Box\n",
      "     lesson: LES824: Jumble Tumble\n",
      "     lesson: LES825: Count & Know\n",
      "     lesson: LES826: Count It\n"
     ]
    },
    {
     "name": "stdout",
     "output_type": "stream",
     "text": [
      "     in on_subtopic_page http://www.prathamopenschool.org/mr/Course/English/CRS35\n"
     ]
    },
    {
     "name": "stderr",
     "output_type": "stream",
     "text": [
      "     lesson: LES921: अंग्रेजी ओके 1\n",
      "     lesson: LES922: अंग्रेजी ओके 2\n",
      "     lesson: LES923: अंग्रेजी ओके 3\n",
      "     lesson: LES924: अंग्रेजी ओके 4\n",
      "     lesson: LES925: अंग्रेजी ओके 5\n",
      "     lesson: LES926: अंग्रेजी ओके 6\n",
      "     lesson: LES927: अंग्रेजी ओके 8\n",
      "     lesson: LES928: अंग्रेजी ओके 9\n",
      "     lesson: LES929: अंग्रेजी ओके 10\n",
      "     lesson: LES930: अंग्रेजी ओके 11\n",
      "     lesson: LES931: अंग्रेजी ओके 12\n",
      "     lesson: LES932: अंग्रेजी ओके 13\n"
     ]
    },
    {
     "name": "stdout",
     "output_type": "stream",
     "text": [
      "     in on_subtopic_page http://www.prathamopenschool.org/mr/Course/English/CRS97\n"
     ]
    },
    {
     "name": "stderr",
     "output_type": "stream",
     "text": [
      "     lesson: LES844: आपल्या आसपास\n"
     ]
    },
    {
     "name": "stdout",
     "output_type": "stream",
     "text": [
      "     in on_subtopic_page http://www.prathamopenschool.org/mr/Course/Science/CRS71\n"
     ]
    },
    {
     "name": "stderr",
     "output_type": "stream",
     "text": [
      "     lesson: LES845: साधी यंत्रे\n"
     ]
    },
    {
     "name": "stdout",
     "output_type": "stream",
     "text": [
      "     in on_subtopic_page http://www.prathamopenschool.org/mr/Course/Science/CRS72\n"
     ]
    },
    {
     "name": "stderr",
     "output_type": "stream",
     "text": [
      "     lesson: LES846: फर्स्ट एड\n"
     ]
    },
    {
     "name": "stdout",
     "output_type": "stream",
     "text": [
      "     in on_subtopic_page http://www.prathamopenschool.org/mr/Course/Science/CRS73\n"
     ]
    },
    {
     "name": "stderr",
     "output_type": "stream",
     "text": [
      "     lesson: LES456: प्रकाशाचे गुणधर्म\n",
      "     lesson: LES457: रंगांची दुनिया\n",
      "     lesson: LES458: शोधांचा इतिहास\n"
     ]
    },
    {
     "name": "stdout",
     "output_type": "stream",
     "text": [
      "     in on_subtopic_page http://www.prathamopenschool.org/mr/Course/Science/CRS42\n"
     ]
    },
    {
     "name": "stderr",
     "output_type": "stream",
     "text": [
      "     lesson: LES459: द्रव्याशी ओळख\n",
      "     lesson: LES460: वस्तुमान आणि वजन\n",
      "     lesson: LES461: अणू - रेणू\n",
      "     lesson: LES462: घनता\n"
     ]
    },
    {
     "name": "stdout",
     "output_type": "stream",
     "text": [
      "     in on_subtopic_page http://www.prathamopenschool.org/mr/Course/Science/CRS43\n"
     ]
    },
    {
     "name": "stderr",
     "output_type": "stream",
     "text": [
      "     lesson: LES463: शरीराची हालचाल\n",
      "     lesson: LES464: रक्ताभिसरण संस्था\n",
      "     lesson: LES843: डोळे आणि दृष्टी\n",
      "     lesson: LES848: हमारी त्वचा\n"
     ]
    },
    {
     "name": "stdout",
     "output_type": "stream",
     "text": [
      "     in on_subtopic_page http://www.prathamopenschool.org/mr/Course/Science/CRS44\n"
     ]
    },
    {
     "name": "stderr",
     "output_type": "stream",
     "text": [
      "     lesson: LES465: मोजायचं कसं ?\n"
     ]
    },
    {
     "name": "stdout",
     "output_type": "stream",
     "text": [
      "     in on_subtopic_page http://www.prathamopenschool.org/mr/Course/Science/CRS45\n"
     ]
    },
    {
     "name": "stderr",
     "output_type": "stream",
     "text": [
      "     lesson: LES466: गतीशी ओळख\n",
      "     lesson: LES467: बोला बाबा!\n",
      "     lesson: LES847: लंबक\n"
     ]
    },
    {
     "name": "stdout",
     "output_type": "stream",
     "text": [
      "     in on_subtopic_page http://www.prathamopenschool.org/mr/Course/Science/CRS46\n"
     ]
    },
    {
     "name": "stderr",
     "output_type": "stream",
     "text": [
      "     lesson: LES468: सूर्यमालेशी ओळख\n",
      "     lesson: LES469: पृथ्वीची सफर\n"
     ]
    },
    {
     "name": "stdout",
     "output_type": "stream",
     "text": [
      "     in on_subtopic_page http://www.prathamopenschool.org/mr/Course/Science/CRS47\n"
     ]
    },
    {
     "name": "stderr",
     "output_type": "stream",
     "text": [
      "     lesson: LES470: ऊर्जेशी ओळख\n",
      "     lesson: LES471: कार्य आणि ऊर्जा\n"
     ]
    },
    {
     "name": "stdout",
     "output_type": "stream",
     "text": [
      "     in on_subtopic_page http://www.prathamopenschool.org/mr/Course/Science/CRS48\n"
     ]
    },
    {
     "name": "stderr",
     "output_type": "stream",
     "text": [
      "     lesson: LES473: मजेदार प्रयोग\n"
     ]
    },
    {
     "name": "stdout",
     "output_type": "stream",
     "text": [
      "     in on_subtopic_page http://www.prathamopenschool.org/mr/Course/Science/CRS49\n"
     ]
    },
    {
     "name": "stderr",
     "output_type": "stream",
     "text": [
      "     lesson: LES73: जानो सांप के बारे में\n",
      "     lesson: LES74: तस्वीरों के द्वारा बातचीत ?\n",
      "     lesson: LES75: पाचन\n",
      "     lesson: LES76: ग्लूकोज़ से उर्जा प्राप्ति\n",
      "     lesson: LES77: बीज अंकुरण\n",
      "     lesson: LES78: पौधें कैसे उगते हैं?\n",
      "     lesson: LES79: बहुमूल्य जल\n",
      "     lesson: LES80: दो मच्छरों की कहानी\n",
      "     lesson: LES81: समुदाय और परिवार\n",
      "     lesson: LES82: भूकंप से उबरना\n",
      "     lesson: LES83: सांस लेना\n",
      "     lesson: LES84: हवा फूंककर चीजों को ठंडा करना\n",
      "     lesson: LES85: सामाजिक भेदभाव\n",
      "     lesson: LES86: अभिगमन\n",
      "     lesson: LES87: गॉव में जीवन\n",
      "     lesson: LES88: एक पारंपरिक किसान\n",
      "     lesson: LES89: जैविक खेती\n",
      "     lesson: LES90: वनोन्मूलन के प्रभाव\n",
      "     lesson: LES91: वन-गुज्जर\n",
      "     lesson: LES72: बाघ\n"
     ]
    },
    {
     "name": "stdout",
     "output_type": "stream",
     "text": [
      "     in on_subtopic_page http://www.prathamopenschool.org/hn/Course/Std5/CRS21\n"
     ]
    },
    {
     "name": "stderr",
     "output_type": "stream",
     "text": [
      "     lesson: LES92: आकृति बनाएं\n",
      "     lesson: LES93: आकृति - परिमाप\n",
      "     lesson: LES94: आकृति- क्षेत्रफ़ल\n",
      "     lesson: LES95: आकृति- तोरन\n",
      "     lesson: LES96: गुणक\n",
      "     lesson: LES97: पैटर्न\n",
      "     lesson: LES98: नक्षा बनाएं\n",
      "     lesson: LES99: फर्श का नक्षा\n",
      "     lesson: LES100: लम्बाई नापें\n",
      "     lesson: LES101: मापिय रूपांतरण\n",
      "     lesson: LES102: परिमाप और क्षेत्रफ़ल\n",
      "     lesson: LES103: असमान आकृतियों का क्षेत्रफ़ल\n",
      "     lesson: LES104: आलेख\n",
      "     lesson: LES105: गुणा करना सीखें\n",
      "     lesson: LES106: आयतन\n"
     ]
    },
    {
     "name": "stdout",
     "output_type": "stream",
     "text": [
      "     in on_subtopic_page http://www.prathamopenschool.org/hn/Course/Std5/CRS22\n"
     ]
    },
    {
     "name": "stderr",
     "output_type": "stream",
     "text": [
      "     lesson: LES474: वातावरण\n",
      "     lesson: LES475: भूरूपांचे विविध प्रकार\n",
      "     lesson: LES476: रोग निर्माण करणारे सूक्ष्मजीव\n",
      "     lesson: LES477: भारतातील घरे\n",
      "     lesson: LES478: शेतीची सुरवात कशी झाली?\n",
      "     lesson: LES479: शिकार करून अन्न गोळा करणारे\n",
      "     lesson: LES480: उल्का धुमकेतू लघुग्रह आणि कृत्रिम उपग्रह\n",
      "     lesson: LES481: माझी शाळा\n",
      "     lesson: LES482: माझ्या आजी-आजोबांचे जीवन\n",
      "     lesson: LES483: रोगप्रतिबंध\n",
      "     lesson: LES484: आकाशातील उपग्रह\n",
      "     lesson: LES485: नकाशाचे घटक\n",
      "     lesson: LES486: रोगप्रसार\n",
      "     lesson: LES487: शिकाऱ्यांची साधने\n",
      "     lesson: LES488: चाकाचे उपयोग\n",
      "     lesson: LES489: सजीवांच्या गरजा\n",
      "     lesson: LES490: रोग उत्पन्न करणारे सूक्ष्मजीव\n",
      "     lesson: LES491: आपले श्वसन\n",
      "     lesson: LES492: रोगांचा प्रतिबंध\n",
      "     lesson: LES493: वनस्पती आणि प्राण्यांचे संरक्षण\n",
      "     lesson: LES494: जगातील संसाधने\n",
      "     lesson: LES495: रोगांचा प्रसार\n"
     ]
    },
    {
     "name": "stdout",
     "output_type": "stream",
     "text": [
      "     in on_subtopic_page http://www.prathamopenschool.org/mr/Course/Std5/CRS50\n"
     ]
    },
    {
     "name": "stderr",
     "output_type": "stream",
     "text": [
      "     lesson: LES496: चढता आणि उतरता क्रम\n",
      "     lesson: LES497: कोनांची रचना\n",
      "     lesson: LES498: वर्तुळाची रचना\n",
      "     lesson: LES499: वर्तुळाची रचना 2\n",
      "     lesson: LES500: रेषाखंडाची रचना\n",
      "     lesson: LES501: लंब रेषेची रचना\n",
      "     lesson: LES502: मेट्रिक पद्धतीत रुपांतरण\n",
      "     lesson: LES503: भागाकाराची वेळ\n",
      "     lesson: LES504: बिंदू ते रेषा\n",
      "     lesson: LES505: स्तंभालेख काढणे\n",
      "     lesson: LES506: एकूण वेळ काढणे\n",
      "     lesson: LES507: स्तंभालेख म्हणजे काय?\n",
      "     lesson: LES508: कोनांची ओळख\n",
      "     lesson: LES509: गुणाकाराची वेळ\n",
      "     lesson: LES510: 10,100 आणि 1000 ने गुणणे\n",
      "     lesson: LES511: मूळ आणि संयुक्त संख्या\n",
      "     lesson: LES512: एकमान पद्धतीने सोडवा\n",
      "     lesson: LES513: कंपासचा वापर\n"
     ]
    },
    {
     "name": "stdout",
     "output_type": "stream",
     "text": [
      "     in on_subtopic_page http://www.prathamopenschool.org/mr/Course/Std5/CRS51\n"
     ]
    },
    {
     "name": "stderr",
     "output_type": "stream",
     "text": [
      "     lesson: LES514: परिमिती आणि क्षेत्रफळ ओळख\n",
      "     lesson: LES515: अनियमित आकारांचे क्षेत्रफळ\n",
      "     lesson: LES516: वातावरण\n",
      "     lesson: LES517: ओझोन स्तराचा ऱ्हास\n",
      "     lesson: LES518: भूरूपांचे विविध प्रकार\n",
      "     lesson: LES519: पचन\n",
      "     lesson: LES520: गवत, झुडपे आणि झाडे\n",
      "     lesson: LES521: ऊर्जा अक्षय्यतेचा नियम\n",
      "     lesson: LES522: पृथ्वीचे थर\n",
      "     lesson: LES523: मारटी आणि अन्न कारखाना\n",
      "     lesson: LES524: उर्जेचे अपारंपारिक स्त्रोत\n",
      "     lesson: LES525: गतीचे प्रकार\n",
      "     lesson: LES526: जगातील संसाधने\n",
      "     lesson: LES527: खोड - वनस्पतींच्या जीवनाचा मार्ग\n",
      "     lesson: LES528: सूर्यमाला\n"
     ]
    },
    {
     "name": "stdout",
     "output_type": "stream",
     "text": [
      "     in on_subtopic_page http://www.prathamopenschool.org/mr/Course/Std6/CRS52\n"
     ]
    },
    {
     "name": "stderr",
     "output_type": "stream",
     "text": [
      "     lesson: LES529: बैजिक राशींची बेरीज आणि वजाबाकी\n",
      "     lesson: LES530: क्षेत्रफळाबद्दल सर्व काही\n",
      "     lesson: LES531: पूल जोडा\n",
      "     lesson: LES532: वितरण गुणधर्माने वर्ग काढणे\n",
      "     lesson: LES533: विशिष्ठ मापांच्या कोणाची रचना\n",
      "     lesson: LES534: विशिष्ठ मापांच्या कोणाची रचना 2\n",
      "     lesson: LES535: रेषेची रचना\n",
      "     lesson: LES536: बैजिक राशींनी नियम तयार करणे\n",
      "     lesson: LES537: बिंदू ते रेषा\n",
      "     lesson: LES538: स्तंभालेख काढणे\n",
      "     lesson: LES539: समांतर रेषांची रचना\n",
      "     lesson: LES540: अवयव\n",
      "     lesson: LES541: चलाचा वापर करून नियम तयार करणे\n",
      "     lesson: LES542: स्तंभालेख म्हणजे काय?\n",
      "     lesson: LES543: अनियमित आकार आणि क्षेत्रफळ\n",
      "     lesson: LES544: कोनांची ओळख\n",
      "     lesson: LES545: सोप्या पद्धतीने गुणाकार\n",
      "     lesson: LES546: पुर्णांकांचा गुणाकार\n",
      "     lesson: LES547: ऋण संख्या\n",
      "     lesson: LES548: समीकरणांची उदाहरणे\n",
      "     lesson: LES549: मूळ आणि संयुक्त संख्या\n",
      "     lesson: LES550: पायथागोरस प्रमेयाचा पडताळा\n",
      "     lesson: LES551: बीजगणिताचा जादुगार\n"
     ]
    },
    {
     "name": "stdout",
     "output_type": "stream",
     "text": [
      "     in on_subtopic_page http://www.prathamopenschool.org/mr/Course/Std6/CRS53\n"
     ]
    },
    {
     "name": "stderr",
     "output_type": "stream",
     "text": [
      "     lesson: LES552: आम्ल आम्लारी अभिक्रिया\n",
      "     lesson: LES553: अन्ननलिका\n",
      "     lesson: LES554: सूत्राच्या दृष्टीकोनातून\n",
      "     lesson: LES555: पदार्थाच्या अवस्थेतील बदल\n",
      "     lesson: LES556: आपल्या भोवतालचे बदल\n",
      "     lesson: LES557: अंमली पदार्थ वापरल्याचे दुष्परिणाम\n",
      "     lesson: LES558: प्रकाशाचे अपस्करण\n",
      "     lesson: LES559: अमिबाचे अन्नग्रहण आणि पचन\n",
      "     lesson: LES560: गोड्या पाण्याची संसाधने\n",
      "     lesson: LES561: तडितवाहक\n",
      "     lesson: LES562: पिण्यायोग्य पाणी\n",
      "     lesson: LES563: परागण आणि फलन\n",
      "     lesson: LES564: प्रारण\n",
      "     lesson: LES565: पावसाच्या पाण्याचे संवर्धन\n",
      "     lesson: LES566: धातु आणि अधातु यांची पाण्याबरोबर अभिक्रिया\n",
      "     lesson: LES567: जगातील संसाधने\n",
      "     lesson: LES568: सूर्य ग्रहण\n",
      "     lesson: LES569: रक्ताभिसरण संस्था\n",
      "     lesson: LES570: पृथ्वीवरचे पाणी\n",
      "     lesson: LES571: उत्सर्जन संस्था\n",
      "     lesson: LES572: प्रकाशाचा मार्ग\n",
      "     lesson: LES573: हृदय कसे कार्य करते?\n"
     ]
    },
    {
     "name": "stdout",
     "output_type": "stream",
     "text": [
      "     in on_subtopic_page http://www.prathamopenschool.org/mr/Course/Std7/CRS54\n"
     ]
    },
    {
     "name": "stderr",
     "output_type": "stream",
     "text": [
      "     lesson: LES574: कोन आणि कंस\n",
      "     lesson: LES575: वर्तुळाचे क्षेत्रफळ\n",
      "     lesson: LES576: समच्छेद आणि विषमछेद अपूर्णांकाची तुलना\n",
      "     lesson: LES577: त्रिकोणाची रचना\n",
      "     lesson: LES578: चौरस आणि आयताची रचना\n",
      "     lesson: LES579: सम प्रमाण\n",
      "     lesson: LES580: बैजिक राशींचे अवयव\n",
      "     lesson: LES581: माझ्यासाठी जागा शोधा\n",
      "     lesson: LES582: परिमेय संख्यांची ओळख\n",
      "     lesson: LES583: व्यस्त प्रमाण\n",
      "     lesson: LES584: त्रिकोणाची मध्यगा\n",
      "     lesson: LES585: बैजिक राशींचा गुणाकार\n",
      "     lesson: LES586: समीकरणांची उदाहरणे\n",
      "     lesson: LES587: त्रिकोणाची वैशिष्टये\n",
      "     lesson: LES588: चौकोनाच्या कोनांची बेरीज\n",
      "     lesson: LES589: घनाकृतीचे पृष्ठफळ\n",
      "     lesson: LES590: घातांकांचे नियम समजून घेताना\n",
      "     lesson: LES591: पायथागोरस प्रमेयाचा पडताळा\n",
      "     lesson: LES592: घन, इष्टीकाचीती व वृत्तचित्तीचे घनफळ\n"
     ]
    },
    {
     "name": "stdout",
     "output_type": "stream",
     "text": [
      "     in on_subtopic_page http://www.prathamopenschool.org/mr/Course/Std7/CRS55\n"
     ]
    },
    {
     "name": "stderr",
     "output_type": "stream",
     "text": [
      "     lesson: LES593: कार्बनीकरण\n",
      "     lesson: LES594: पिके आणि हवामान स्थिती\n",
      "     lesson: LES595: समुद्राच्या लाटांपासून ऊर्जा आणि भू-औष्णिक उर्जा\n",
      "     lesson: LES596: पेट्रोलियम आणि नैसर्गिक वायूची निर्मिती\n",
      "     lesson: LES597: मातीची निर्मिती\n",
      "     lesson: LES598: आपल्या शरीराची सरंक्षण व्यवस्था\n",
      "     lesson: LES599: समस्थानिके\n",
      "     lesson: LES600: अप्रकट उष्मा\n",
      "     lesson: LES601: चुंबक\n",
      "     lesson: LES602: उल्का, धुमकेतू, लघुग्रह आणि कृत्रिम उपग्रह\n",
      "     lesson: LES603: अणु उर्जा\n",
      "     lesson: LES604: धातु आणि अधातु यांची पाण्याबरोबर अभिक्रिया\n",
      "     lesson: LES605: जग वाचवा\n",
      "     lesson: LES606: सहभागिता आणि बंधन\n",
      "     lesson: LES607: जमिनीची मशागत\n",
      "     lesson: LES608: सौर उर्जा\n",
      "     lesson: LES609: बिया पेरणी\n",
      "     lesson: LES610: अणुची रचना\n",
      "     lesson: LES611: प्राण्यांचे वर्गीकरण\n",
      "     lesson: LES612: पेनिसिलीनची गोष्ट\n"
     ]
    },
    {
     "name": "stdout",
     "output_type": "stream",
     "text": [
      "     in on_subtopic_page http://www.prathamopenschool.org/mr/Course/Std8/CRS56\n"
     ]
    },
    {
     "name": "stderr",
     "output_type": "stream",
     "text": [
      "     lesson: LES613: कोन आणि कंस\n",
      "     lesson: LES614: वर्तुळाचे क्षेत्रफळ\n",
      "     lesson: LES615: सूट\n",
      "     lesson: LES616: त्रिकोणाची रचना उजळणी\n",
      "     lesson: LES617: चौकोनाची रचना\n",
      "     lesson: LES618: मूळ अवयव पद्धतीने घनमूळ काढणे\n",
      "     lesson: LES619: सम प्रमाण\n",
      "     lesson: LES620: रेषाखंड दुभाजक\n",
      "     lesson: LES621: समांतर रेषांची रचना\n",
      "     lesson: LES622: बैजिक राशींचे अवयव\n",
      "     lesson: LES623: मूळ अवयव पद्धतीने घन काढणे\n",
      "     lesson: LES624: पिरामिडची ओळख\n",
      "     lesson: LES625: व्यस्त प्रमाण\n",
      "     lesson: LES626: गटबद्ध नसलेल्या माहितीचा(संख्यांचा) मध्य\n",
      "     lesson: LES627: घातांकांचे नियम\n",
      "     lesson: LES628: मला महिती दाखवा\n",
      "     lesson: LES629: वर्गमूळ\n",
      "     lesson: LES630: चौकोनाच्या कोनांची बेरीज\n",
      "     lesson: LES631: घन आणि इष्टीकाचीतीचे पृष्ठफळ\n",
      "     lesson: LES632: घनाकृतीचे पृष्ठफळ\n",
      "     lesson: LES633: वृत्तचित्तीचे पृष्ठफळ\n",
      "     lesson: LES634: गोलाचे पृष्ठफळ\n",
      "     lesson: LES635: शंकू, गोल आणि अर्धगोलाचे घनफळ\n",
      "     lesson: LES636: घन, इष्टीकाचीती व वृत्तचित्तीचे घनफळ\n",
      "     lesson: LES637: बीजगणिताचा जादुगार\n"
     ]
    },
    {
     "name": "stdout",
     "output_type": "stream",
     "text": [
      "     in on_subtopic_page http://www.prathamopenschool.org/mr/Course/Std8/CRS57\n"
     ]
    },
    {
     "name": "stderr",
     "output_type": "stream",
     "text": [
      "     lesson: LES638: सूत्राच्या दृष्टीकोनातून\n",
      "     lesson: LES639: प्रभावी वाढ\n",
      "     lesson: LES640: वस्तुमानाबद्दल सर्व काही\n",
      "     lesson: LES641: पशु पालन\n",
      "     lesson: LES642: संतुलित आणि असंतुलित बल\n",
      "     lesson: LES643: संतुलनाची कला\n",
      "     lesson: LES644: आयन पकडा\n",
      "     lesson: LES645: कायमस्वरूपी स्थायी ऊती\n",
      "     lesson: LES646: पिके आणि हवामान\n",
      "     lesson: LES647: मत्स्यपालन\n",
      "     lesson: LES648: इलेक्ट्रॉनची विभागणी\n",
      "     lesson: LES649: ध्वनी तरंगांची आयाम वारंवारता\n",
      "     lesson: LES650: समस्थानिके\n",
      "     lesson: LES651: अप्रकट उष्मा\n",
      "     lesson: LES652: उर्जा अक्षय्यतेचा नियम\n",
      "     lesson: LES653: बागेत शिकणे\n",
      "     lesson: LES654: अन्न संसाधने सुधारण्याची गरज\n",
      "     lesson: LES655: न्युटनचा गतीचा दुसरा नियम\n",
      "     lesson: LES656: ध्वनी अभिवृद्धि\n",
      "     lesson: LES657: वस्ती करण्याची तयारी\n",
      "     lesson: LES658: उंदराची भूमिका\n",
      "     lesson: LES659: विलगीकरण प्रयोगशाळा 1\n",
      "     lesson: LES660: विलगीकरण प्रयोगशाळा 2\n",
      "     lesson: LES661: विलगीकरण प्रयोगशाळा 3\n",
      "     lesson: LES662: रोगांची लक्षणे\n",
      "     lesson: LES663: प्राण्यांचे वर्गीकरण\n",
      "     lesson: LES664: प्राण्यांच्या ऊतींचे प्रकार\n",
      "     lesson: LES665: रोगांचे प्रकार\n"
     ]
    },
    {
     "name": "stdout",
     "output_type": "stream",
     "text": [
      "     in on_subtopic_page http://www.prathamopenschool.org/mr/Course/Std9/CRS58\n"
     ]
    },
    {
     "name": "stderr",
     "output_type": "stream",
     "text": [
      "     lesson: LES667: वर्तुळाचे क्षेत्रफळ\n",
      "     lesson: LES668: क्ष भुजा असलेल्या नियमित बहुभूजाकृतीचे क्षेत्रफळ\n",
      "     lesson: LES669: त्रिकोणाचे क्षेत्रफळ\n",
      "     lesson: LES670: त्रिकोणाचे क्षेत्रफळ\n",
      "     lesson: LES671: सिद्धांत आणि गृहीतके\n",
      "     lesson: LES672: पूल जोडा\n",
      "     lesson: LES673: वेगवेगळ्या बिंदुतून वर्तुळ काढणे\n",
      "     lesson: LES674: लंबदुभाजकाची रचना\n",
      "     lesson: LES675: कोनदुभाजकाची रचना\n",
      "     lesson: LES676: 60 अंश मापाच्या कोनाची रचना\n",
      "     lesson: LES677: लंब रेषेची रचना\n",
      "     lesson: LES678: त्रिकोणाची रचना 1\n",
      "     lesson: LES679: त्रिकोणाची रचना 2\n",
      "     lesson: LES680: त्रिकोणाची रचना 3\n",
      "     lesson: LES681: बिंदू निर्देशक आणि अंतर\n",
      "     lesson: LES682: तिरकस गुणाकार पद्धत\n",
      "     lesson: LES683: माहिती आणि आलेख\n",
      "     lesson: LES684: संज्ञा आणि प्रस्तावना\n",
      "     lesson: LES685: सम प्रमाण\n",
      "     lesson: LES686: बैजिक राशींचा भागाकार\n",
      "     lesson: LES687: बिंदू आणि रेषा\n",
      "     lesson: LES688: लोप पद्धती\n",
      "     lesson: LES689: बैजिक राशींचे अवयव\n",
      "     lesson: LES690: अंतर काढा\n",
      "     lesson: LES691: स्पर्शिकेची ओळख\n",
      "     lesson: LES692: समीकरणाचा आलेख\n",
      "     lesson: LES693: संच ओळख\n",
      "     lesson: LES694: व्यस्त प्रमाण\n",
      "     lesson: LES695: संयुक्त बदल\n",
      "     lesson: LES696: कोनांची ओळख\n",
      "     lesson: LES697: केंद्रीय प्रवृत्ती\n",
      "     lesson: LES698: मध्यबिंदू प्रमेय\n",
      "     lesson: LES699: वर्तुळाबद्दल अजून काही\n",
      "     lesson: LES700: बैजिक राशींचा गुणाकार\n",
      "     lesson: LES701: संचाचे घटक\n",
      "     lesson: LES702: करणी वरील क्रिया\n",
      "     lesson: LES703: संचांवरील क्रिया\n",
      "     lesson: LES704: दोन गुणोत्तराची तुलना करणे\n",
      "     lesson: LES705: माहितीचे आयोजन आणि वर्गीकरण\n",
      "     lesson: LES706: संमांतर रेषांच्या छेदिकेचा सिद्धांत आणि प्रमेय\n",
      "     lesson: LES707: कोनांची बेरीज गुणधर्माची सिद्धता\n",
      "     lesson: LES708: परिमेय संख्या\n",
      "     lesson: LES709: किरण\n",
      "     lesson: LES710: दैनंदिन जीवनातील काटकोन त्रिकोण\n",
      "     lesson: LES711: विभागीय सूत्र\n",
      "     lesson: LES712: मला महिती दाखवा\n",
      "     lesson: LES713: त्रिकोणमितीची 6 प्रमाण\n",
      "     lesson: LES714: विशिष्ठ प्रकारची एकचल समीकरणे सोडविणे\n",
      "     lesson: LES715: प्रतिस्थापन पद्धत\n",
      "     lesson: LES716: चौकोनाच्या कोनांची बेरीज\n",
      "     lesson: LES717: संश्लेषक भागाकार\n",
      "     lesson: LES718: दैनंदिन जीवनातील स्पर्शिका\n",
      "     lesson: LES719: एकरेषीयतेची कसोटी\n",
      "     lesson: LES720: 30-60-90 अंश मापाच्या त्रिकोणाचे प्रमेय\n",
      "     lesson: LES721: समान गुणोत्तराचे प्रमेय\n",
      "     lesson: LES722: समांतरभूज चौकोनाचे प्रमेय\n",
      "     lesson: LES723: तीन किंवा तीनपेक्षा जास्त समांतर रेषा\n",
      "     lesson: LES724: स्पर्श वर्तुळे\n",
      "     lesson: LES725: 0,90 अंशाची त्रिकोणमितीय गुणोत्तरे\n",
      "     lesson: LES726: 30,45,व 60 अंशाची त्रिकोणमितीय गुणोत्तरे\n",
      "     lesson: LES727: बहुपदीची किंमत\n"
     ]
    },
    {
     "name": "stdout",
     "output_type": "stream",
     "text": [
      "     in on_subtopic_page http://www.prathamopenschool.org/mr/Course/Std9/CRS59\n"
     ]
    },
    {
     "name": "stderr",
     "output_type": "stream",
     "text": [
      "     lesson: LES728: ताकदीबद्दल काही\n",
      "     lesson: LES729: अनन्य स्पर्श\n",
      "     lesson: LES730: अलुमिनियम ऍनोडीकरण\n",
      "     lesson: LES731: अलैंगिक प्रजनन\n",
      "     lesson: LES732: वातावरणामुळे होणारे अपवर्तन\n",
      "     lesson: LES733: संतुलन कला\n",
      "     lesson: LES734: शाखा, साखळ्या आणि रिंगण\n",
      "     lesson: LES735: कार्बन संपूर्ण ज्वलन\n",
      "     lesson: LES736: प्रकाशाचे अपस्करण\n",
      "     lesson: LES737: अर्थिंग आणि फ्युज\n",
      "     lesson: LES738: विद्युत जनित्र\n",
      "     lesson: LES739: विद्युत मोटर\n",
      "     lesson: LES740: उत्क्रांती आणि मार्गक्रमण\n",
      "     lesson: LES741: देवाण घेवाण\n",
      "     lesson: LES742: गोलीय आरशात पडणारी प्रतिमा\n",
      "     lesson: LES743: चेता संदेश\n",
      "     lesson: LES744: धातु परिष्करण\n",
      "     lesson: LES745: ध्वनी प्रदूषण\n",
      "     lesson: LES746: वंशगतितील रचना\n",
      "     lesson: LES747: प्रकाश संश्लेषण\n",
      "     lesson: LES748: झाडे आणि संप्रेरके\n",
      "     lesson: LES749: किरणांचे खेळ\n",
      "     lesson: LES750: पुनरुत्पादन अवस्था आणि लिंग निदान\n",
      "     lesson: LES751: संपृक्त व असंपृक्त हायड्रोकार्बन\n",
      "     lesson: LES752: सहभागिता आणि बंधन\n",
      "     lesson: LES753: साबणाच्या गोष्टी\n",
      "     lesson: LES754: जाती उद्भवन\n",
      "     lesson: LES755: बातम्या थांबा!\n",
      "     lesson: LES756: चवींचा कारखाना\n",
      "     lesson: LES757: नियंत्रक\n",
      "     lesson: LES758: कचरा व्यवस्थापन\n"
     ]
    },
    {
     "name": "stdout",
     "output_type": "stream",
     "text": [
      "     in on_subtopic_page http://www.prathamopenschool.org/mr/Course/Std10/CRS60\n"
     ]
    },
    {
     "name": "stderr",
     "output_type": "stream",
     "text": [
      "     lesson: LES759: Angles and Arcs\n",
      "     lesson: LES760: Application of Simultaneous Linear Equations\n",
      "     lesson: LES761: Appollonius Theorem\n",
      "     lesson: LES762: Arc of a Circle and Angle Subtended by an Arc\n",
      "     lesson: LES763: Arithmetic Progression\n",
      "     lesson: LES764: Basic Proportionality Theorem\n",
      "     lesson: LES765: Completing the Square\n",
      "     lesson: LES766: Constructing Similar Triangles\n",
      "     lesson: LES767: Construction Circumcentre and Circumcircle\n",
      "     lesson: LES768: Construction Incentre and Incircle\n",
      "     lesson: LES769: Construction of a Triangle Part I\n",
      "     lesson: LES770: Construction of a Triangle Part II\n",
      "     lesson: LES771: Construction of Pie Diagram\n",
      "     lesson: LES772: Construction of Tangents to Circles Part I\n",
      "     lesson: LES773: Converse of Basic Proportionality Theorem\n",
      "     lesson: LES774: Converting One Solid Shape to Another\n",
      "     lesson: LES775: Cumulative Effort\n",
      "     lesson: LES777: Determining the Nature of Roots\n",
      "     lesson: LES778: Equations Reducible to Linear Equations\n",
      "     lesson: LES779: Equations reducible to Quadratic form\n",
      "     lesson: LES780: Factorising Quadratic Equations\n",
      "     lesson: LES781: Finding Heights and Distances\n",
      "     lesson: LES782: Finding the Median of Grouped Data\n",
      "     lesson: LES783: Forming a Quadratic Equation with given Roots\n",
      "     lesson: LES784: Geometric Mean\n",
      "     lesson: LES785: Geometric Progression\n",
      "     lesson: LES786: Going Off on a Tangent\n",
      "     lesson: LES787: Histogram Frequency Polygon and Frequency Curve\n",
      "     lesson: LES788: Intersecting Secant\n",
      "     lesson: LES789: Mean of Ungrouped Data\n",
      "     lesson: LES790: Mode of Grouped Data\n",
      "     lesson: LES791: Probability Revisited\n",
      "     lesson: LES792: Properties of Probability\n",
      "     lesson: LES793: Proving Pythagoras Theorem\n",
      "     lesson: LES794: Ratios of Areas of Two Triangles\n",
      "     lesson: LES795: Right Triangles in Everyday Life\n",
      "     lesson: LES796: Sequences\n",
      "     lesson: LES797: Six Trigonometric Ratios\n",
      "     lesson: LES798: Slope\n",
      "     lesson: LES799: Sum It Up\n",
      "     lesson: LES800: Surface Area of Right Circular Cone\n",
      "     lesson: LES801: Surface Area of Sphere\n",
      "     lesson: LES802: Surface Areas of Cuboids and Cubes\n",
      "     lesson: LES803: Tangent Radius Relationship\n",
      "     lesson: LES804: Tangent Secant Theorem\n",
      "     lesson: LES805: Tangents From a Point Outside the Circle\n",
      "     lesson: LES806: Tangents in Daily Life\n",
      "     lesson: LES807: The Frustum of a Cone\n",
      "     lesson: LES808: Theorem of 30 60 90 Triangle\n",
      "     lesson: LES809: Trigonometric Ratios in Coordinates\n",
      "     lesson: LES810: Trigonometric Ratios in Different Quadrants\n",
      "     lesson: LES811: Trigonometric Ratios of Negative Angles\n",
      "     lesson: LES812: Trigonometric Terms\n",
      "     lesson: LES813: Using Quadratic Formula\n",
      "     lesson: LES814: Volume of Cone Sphere and Hemisphere\n",
      "     lesson: LES815: Volume of Cuboid Cube and Cylinder\n"
     ]
    },
    {
     "name": "stdout",
     "output_type": "stream",
     "text": [
      "     in on_subtopic_page http://www.prathamopenschool.org/mr/Course/Std10/CRS61\n",
      "     in on_story_resource_page http://www.prathamopenschool.org/mr/StoryResource/1112\n",
      "     in on_story_resource_page http://www.prathamopenschool.org/mr/StoryResource/1076\n",
      "     in on_story_resource_page http://www.prathamopenschool.org/mr/StoryResource/1082\n",
      "     in on_story_resource_page http://www.prathamopenschool.org/mr/StoryResource/1072\n",
      "     in on_story_resource_page http://www.prathamopenschool.org/mr/StoryResource/1090\n",
      "     in on_story_resource_page http://www.prathamopenschool.org/mr/StoryResource/1093\n",
      "     in on_story_resource_page http://www.prathamopenschool.org/mr/StoryResource/1074\n",
      "     in on_story_resource_page http://www.prathamopenschool.org/mr/StoryResource/1088\n",
      "     in on_story_resource_page http://www.prathamopenschool.org/mr/StoryResource/1092\n",
      "     in on_story_resource_page http://www.prathamopenschool.org/mr/StoryResource/1081\n",
      "     in on_story_resource_page http://www.prathamopenschool.org/mr/StoryResource/1073\n",
      "     in on_story_resource_page http://www.prathamopenschool.org/mr/StoryResource/1078\n",
      "     in on_story_resource_page http://www.prathamopenschool.org/mr/StoryResource/1087\n",
      "     in on_story_resource_page http://www.prathamopenschool.org/mr/StoryResource/1105\n",
      "     in on_story_resource_page http://www.prathamopenschool.org/mr/StoryResource/1108\n",
      "     in on_story_resource_page http://www.prathamopenschool.org/mr/StoryResource/1095\n",
      "     in on_story_resource_page http://www.prathamopenschool.org/mr/StoryResource/1077\n",
      "     in on_story_resource_page http://www.prathamopenschool.org/mr/StoryResource/1109\n",
      "     in on_story_resource_page http://www.prathamopenschool.org/mr/StoryResource/1091\n",
      "     in on_story_resource_page http://www.prathamopenschool.org/mr/StoryResource/1080\n",
      "     in on_story_resource_page http://www.prathamopenschool.org/mr/StoryResource/1083\n",
      "     in on_story_resource_page http://www.prathamopenschool.org/mr/StoryResource/1102\n",
      "     in on_story_resource_page http://www.prathamopenschool.org/mr/StoryResource/1097\n",
      "     in on_story_resource_page http://www.prathamopenschool.org/mr/StoryResource/1106\n",
      "     in on_story_resource_page http://www.prathamopenschool.org/mr/StoryResource/1085\n",
      "     in on_story_resource_page http://www.prathamopenschool.org/mr/StoryResource/1096\n",
      "     in on_story_resource_page http://www.prathamopenschool.org/mr/StoryResource/1094\n",
      "     in on_story_resource_page http://www.prathamopenschool.org/mr/StoryResource/1099\n",
      "     in on_story_resource_page http://www.prathamopenschool.org/mr/StoryResource/1089\n",
      "     in on_story_resource_page http://www.prathamopenschool.org/mr/StoryResource/1084\n",
      "     in on_story_resource_page http://www.prathamopenschool.org/mr/StoryResource/1070\n",
      "     in on_story_resource_page http://www.prathamopenschool.org/mr/StoryResource/1107\n",
      "     in on_story_resource_page http://www.prathamopenschool.org/mr/StoryResource/1104\n",
      "     in on_story_resource_page http://www.prathamopenschool.org/mr/StoryResource/1103\n",
      "     in on_story_resource_page http://www.prathamopenschool.org/mr/StoryResource/1101\n",
      "     in on_story_resource_page http://www.prathamopenschool.org/mr/StoryResource/1110\n",
      "     in on_story_resource_page http://www.prathamopenschool.org/mr/StoryResource/1111\n",
      "     in on_story_resource_page http://www.prathamopenschool.org/mr/StoryResource/1100\n",
      "     in on_story_resource_page http://www.prathamopenschool.org/mr/StoryResource/1075\n",
      "     in on_story_resource_page http://www.prathamopenschool.org/mr/StoryResource/1071\n",
      "     in on_story_resource_page http://www.prathamopenschool.org/mr/StoryResource/1098\n",
      "     in on_story_resource_page http://www.prathamopenschool.org/mr/StoryResource/1079\n",
      "     in on_story_resource_page http://www.prathamopenschool.org/mr/StoryResource/1086\n",
      "     in on_subtopic_page http://www.prathamopenschool.org/mr/gamelist/CRS105/LES850\n",
      "     in on_subtopic_page http://www.prathamopenschool.org/mr/gamelist/CRS105/LES851\n"
     ]
    },
    {
     "name": "stderr",
     "output_type": "stream",
     "text": [
      "      content: 4889: विषम संख्यांची गंमत\n"
     ]
    },
    {
     "name": "stdout",
     "output_type": "stream",
     "text": [
      "      in on_lesson_page http://www.prathamopenschool.org/mr/Lesson/LES831\n"
     ]
    },
    {
     "name": "stderr",
     "output_type": "stream",
     "text": [
      "      content: 4890: मुरजबंध संख्या\n",
      "      content: 4891: परिपूर्ण संख्या\n",
      "      content: 4892: परिमाण आणि संख्या (भाग 1)\n"
     ]
    },
    {
     "name": "stdout",
     "output_type": "stream",
     "text": [
      "      in on_lesson_page http://www.prathamopenschool.org/mr/Lesson/LES832\n"
     ]
    },
    {
     "name": "stderr",
     "output_type": "stream",
     "text": [
      "      content: 4893: परिमाण आणि संख्या (भाग 2)\n",
      "      content: 4894: परिमाण आणि संख्या (भाग 3)\n",
      "      content: 4895: परिमाण आणि संख्या (भाग 4)\n",
      "      content: 825: अंदाजपंचे क्षेत्रफळ - त्रिकोण\n",
      "Content not supported: http://www.prathamopenschool.org/CourseContent/Games/Mathematics/mr_triangle_est_home.html, \n",
      "      content: 83: त्रिकोणाशी खेळ\n",
      "Content not supported: http://www.prathamopenschool.org/CourseContent/Games/Mathematics/mr_triangle.html, \n",
      "      content: 86: त्रिकोणाची गंमत\n"
     ]
    },
    {
     "name": "stdout",
     "output_type": "stream",
     "text": [
      "      in on_lesson_page http://www.prathamopenschool.org/mr/Lesson/LES438\n"
     ]
    },
    {
     "name": "stderr",
     "output_type": "stream",
     "text": [
      "      content: 84: त्रिकोणांचे प्रकार\n",
      "      content: 817: त्रिकोण 1\n",
      "      content: 818: त्रिकोण 2\n",
      "      content: 823: अंदाजपंचे क्षेत्रफळ - वर्तुळ\n",
      "Content not supported: http://www.prathamopenschool.org/CourseContent/Games/Mathematics/mr_circle_est.html, \n",
      "      content: 69: वर्तुळाशी खेळ\n",
      "Content not supported: http://www.prathamopenschool.org/CourseContent/Games/Mathematics/mr_circle.html, \n",
      "      content: 80: वर्तुळ - तोंडओळख\n"
     ]
    },
    {
     "name": "stdout",
     "output_type": "stream",
     "text": [
      "      in on_lesson_page http://www.prathamopenschool.org/mr/Lesson/LES439\n"
     ]
    },
    {
     "name": "stderr",
     "output_type": "stream",
     "text": [
      "      content: 820: वर्तुळ 1\n",
      "      content: 821: वर्तुळ 2\n",
      "      content: 825: अंदाजपंचे क्षेत्रफळ - त्रिकोण\n",
      "Content not supported: http://www.prathamopenschool.org/CourseContent/Games/Mathematics/mr_triangle_est_home.html, \n",
      "      content: 824: अंदाजपंचे क्षेत्रफळ - चौरस\n",
      "Content not supported: http://www.prathamopenschool.org/CourseContent/Games/Mathematics/mr_rect_est_home.html, \n",
      "      content: 823: अंदाजपंचे क्षेत्रफळ - वर्तुळ\n",
      "Content not supported: http://www.prathamopenschool.org/CourseContent/Games/Mathematics/mr_circle_est.html, \n",
      "      content: 176: अंदाजपंचे क्षेत्रफळ - आयत\n",
      "      content: 143: क्षेत्रफळ म्हणजे काय?\n"
     ]
    },
    {
     "name": "stdout",
     "output_type": "stream",
     "text": [
      "      in on_lesson_page http://www.prathamopenschool.org/mr/Lesson/LES440\n"
     ]
    },
    {
     "name": "stderr",
     "output_type": "stream",
     "text": [
      "      content: 4290: सांगा युक्लिड बाबा .... उत्तर काय\n",
      "      content: 68: परिमितीशी खेळ\n",
      "Content not supported: http://www.prathamopenschool.org/CourseContent/Games/Mathematics/mr_perimeter.html, \n",
      "      content: 844: अंदाजपंचे परिमिती - आयत\n",
      "Content not supported: http://www.prathamopenschool.org/CourseContent/Games/Mathematics/mr_peri_rectangle_est_home.html, \n",
      "      content: 845: अंदाजपंचे परिमिती - चौरस\n",
      "Content not supported: http://www.prathamopenschool.org/CourseContent/Games/Mathematics/mr_peri_square_est_home.html, \n",
      "      content: 846: अंदाजपंचे परिमिती - त्रिकोण\n",
      "Content not supported: http://www.prathamopenschool.org/CourseContent/Games/Mathematics/mr_peri_triangle_est_home.html, \n",
      "      content: 843: अंदाजपंचे परिमिती - वर्तुळ\n",
      "Content not supported: http://www.prathamopenschool.org/CourseContent/Games/Mathematics/mr_peri_circle_est.html, \n",
      "      content: 78: परिमिती म्हणजे काय?\n"
     ]
    },
    {
     "name": "stdout",
     "output_type": "stream",
     "text": [
      "      in on_lesson_page http://www.prathamopenschool.org/mr/Lesson/LES441\n"
     ]
    },
    {
     "name": "stderr",
     "output_type": "stream",
     "text": [
      "      content: 865: परिमिती 1\n",
      "      content: 822: परिमिती 2\n",
      "      content: 179: अंदाजपंचे कोन\n",
      "      content: 67: कोन करा\n",
      "Content not supported: http://www.prathamopenschool.org/CourseContent/Games/Mathematics/mr_angle.html, \n",
      "      content: 79: कोन\n"
     ]
    },
    {
     "name": "stdout",
     "output_type": "stream",
     "text": [
      "      in on_lesson_page http://www.prathamopenschool.org/mr/Lesson/LES437\n"
     ]
    },
    {
     "name": "stderr",
     "output_type": "stream",
     "text": [
      "      content: 85: कोनांचे प्रकार\n",
      "      content: 816: कोन आणि त्याचे प्रकार\n",
      "      content: 122: सांगा पाहू - विभाज्य\n",
      "      content: 145: विभाज्य संख्या\n"
     ]
    },
    {
     "name": "stdout",
     "output_type": "stream",
     "text": [
      "      in on_lesson_page http://www.prathamopenschool.org/mr/Lesson/LES442\n"
     ]
    },
    {
     "name": "stderr",
     "output_type": "stream",
     "text": [
      "      content: 146: विभाज्य संख्यांचे नियम\n",
      "      content: 4884: विभाज्य संख्या म्हणजे काय? (भाग 1)\n",
      "      content: 4885: विभाज्य संख्या म्हणजे काय? (भाग 2)\n",
      "      content: 888: विभाजक फोडा\n",
      "Content not supported: http://www.prathamopenschool.org/CourseContent/Games/FactorsGameNew_M/gamePage.html, \n",
      "      content: 121: सांगा पाहू - विभाजक\n",
      "      content: 147: विभाजक म्हणजे काय?(भाग 1)\n"
     ]
    },
    {
     "name": "stdout",
     "output_type": "stream",
     "text": [
      "      in on_lesson_page http://www.prathamopenschool.org/mr/Lesson/LES443\n"
     ]
    },
    {
     "name": "stderr",
     "output_type": "stream",
     "text": [
      "      content: 148: विभाजक म्हणजे काय? (भाग 2)\n",
      "      content: 4886: मूळ अवयव\n",
      "      content: 452: नाती आपली आणि गणितातली (भाग 1)\n"
     ]
    },
    {
     "name": "stdout",
     "output_type": "stream",
     "text": [
      "      in on_lesson_page http://www.prathamopenschool.org/mr/Lesson/LES444\n"
     ]
    },
    {
     "name": "stderr",
     "output_type": "stream",
     "text": [
      "      content: 453: नाती आपली आणि गणितातली (भाग 2)\n",
      "      content: 1411: भर भर भरा!\n",
      "      content: 874: सांगा माझी संख्या\n",
      "Content not supported: http://www.prathamopenschool.org/CourseContent/Games/primeFactors_M/primeFactors.html, \n",
      "      content: 124: सांगा पाहू - म.सा.वि\n",
      "      content: 149: मसावि म्हणजे काय?\n"
     ]
    },
    {
     "name": "stdout",
     "output_type": "stream",
     "text": [
      "      in on_lesson_page http://www.prathamopenschool.org/mr/Lesson/LES445\n"
     ]
    },
    {
     "name": "stderr",
     "output_type": "stream",
     "text": [
      "      content: 153: मूळ अवयव\n",
      "      content: 150: मसावि (मूळ अवयव पद्धत)\n",
      "      content: 1411: भर भर भरा!\n",
      "      content: 874: सांगा माझी संख्या\n",
      "Content not supported: http://www.prathamopenschool.org/CourseContent/Games/primeFactors_M/primeFactors.html, \n",
      "      content: 123: सांगा पाहू - ल.सा.वि\n",
      "      content: 151: लसावि म्हणजे काय?\n"
     ]
    },
    {
     "name": "stdout",
     "output_type": "stream",
     "text": [
      "      in on_lesson_page http://www.prathamopenschool.org/mr/Lesson/LES446\n"
     ]
    },
    {
     "name": "stderr",
     "output_type": "stream",
     "text": [
      "      content: 451: मैत्री अशी असावी काढून बघा लसावि\n",
      "      content: 153: मूळ अवयव\n",
      "      content: 152: लसावि (मूळ अवयव पद्धत)\n",
      "      content: 124: सांगा पाहू - म.सा.वि\n",
      "      content: 123: सांगा पाहू - ल.सा.वि\n",
      "      content: 154: लसावि आणि मसाविची गंमत\n"
     ]
    },
    {
     "name": "stdout",
     "output_type": "stream",
     "text": [
      "      in on_lesson_page http://www.prathamopenschool.org/mr/Lesson/LES447\n"
     ]
    },
    {
     "name": "stderr",
     "output_type": "stream",
     "text": [
      "      content: 887: अपूर्णांक रंगवा\n",
      "Content not supported: http://www.prathamopenschool.org/CourseContent/Games/newFractionGame_M/MainPage.html, \n",
      "      content: 89: अपूर्णांक म्हणजे काय?\n"
     ]
    },
    {
     "name": "stdout",
     "output_type": "stream",
     "text": [
      "      in on_lesson_page http://www.prathamopenschool.org/mr/Lesson/LES448\n"
     ]
    },
    {
     "name": "stderr",
     "output_type": "stream",
     "text": [
      "      content: 1117: अंशाधिक आणि पूर्णांकयुक्त अपूर्णांक\n",
      "      content: 71: अपूर्णांकाचे प्रकार\n",
      "      content: 144: अपूर्णांकांचे अतिसंक्षिप्त रूप\n",
      "      content: 835: सममूल्य अपूर्णांक\n",
      "      content: 1116: अपूर्णांकांची तुलना – लहान, मोठा\n",
      "      content: 4888: सममूल्य अपूर्णांक\n",
      "      content: 1291: अपूर्णांकांची बेरीज\n"
     ]
    },
    {
     "name": "stdout",
     "output_type": "stream",
     "text": [
      "      in on_lesson_page http://www.prathamopenschool.org/mr/Lesson/LES449\n"
     ]
    },
    {
     "name": "stderr",
     "output_type": "stream",
     "text": [
      "      content: 1292: अपूर्णांकांची वजाबाकी\n",
      "      content: 1293: अपूर्णांकांचा गुणाकार\n",
      "      content: 1294: गुणाकारव्यस्त\n",
      "      content: 885: दशांश अपूर्णांक\n",
      "Content not supported: http://www.prathamopenschool.org/CourseContent/Games/Mathematics/mr_decimal.html, \n",
      "      content: 801: अपूर्णांक ओळखा\n",
      "Content not supported: http://www.prathamopenschool.org/CourseContent/Games/fraction (marathi)/MainPage.html, \n",
      "      content: 444: सांगा माझी किंमत\n",
      "      content: 831: दशांश अपूर्णांक म्हणजे?\n"
     ]
    },
    {
     "name": "stdout",
     "output_type": "stream",
     "text": [
      "      in on_lesson_page http://www.prathamopenschool.org/mr/Lesson/LES450\n"
     ]
    },
    {
     "name": "stderr",
     "output_type": "stream",
     "text": [
      "      content: 815: दशांश अपूर्णांक\n",
      "      content: 833: दशांश अपूर्णांकांची तुलना\n",
      "      content: 1286: दशांश अपूर्णांक अंश-छेद रूपात कसा लिहायचा?\n",
      "      content: 1287: अंश-छेद अपूर्णांक दशांश रूपात कसा लिहायचा?(Part 1)\n",
      "      content: 885: दशांश अपूर्णांक\n",
      "Content not supported: http://www.prathamopenschool.org/CourseContent/Games/Mathematics/mr_decimal.html, \n",
      "      content: 444: सांगा माझी किंमत\n",
      "      content: 1284: दशांश अपूर्णांकांची बेरीज\n"
     ]
    },
    {
     "name": "stdout",
     "output_type": "stream",
     "text": [
      "      in on_lesson_page http://www.prathamopenschool.org/mr/Lesson/LES451\n"
     ]
    },
    {
     "name": "stderr",
     "output_type": "stream",
     "text": [
      "      content: 1285: दशांश अपूर्णांकांची वजाबाकी\n",
      "      content: 4874: शेकडेवारी (टक्केवारी) म्हणजे काय?\n"
     ]
    },
    {
     "name": "stdout",
     "output_type": "stream",
     "text": [
      "      in on_lesson_page http://www.prathamopenschool.org/mr/Lesson/LES452\n"
     ]
    },
    {
     "name": "stderr",
     "output_type": "stream",
     "text": [
      "      content: 4875: अपूर्णांकांची बेरीज\n",
      "      content: 4876: अपूर्णांकांची वजाबाकी\n",
      "      content: 4878: अपूर्णांकांचा गुणाकार (भाग 1)\n",
      "      content: 4879: अपूर्णांकांचा गुणाकार (भाग 2)\n",
      "      content: 4880: दशांश अपूर्णांकांची बेरीज\n",
      "      content: 4881: दशांश अपूर्णांकांची वजाबाकी\n",
      "      content: 1288: शेकडेवारी म्हणजे काय?\n",
      "      content: 1289: शेकडा अपूर्णांकात लिहा\n",
      "      content: 1290: अपूर्णांक शेकड्यात लिहा\n",
      "      content: 1511: व्याज म्हणजे काय?\n"
     ]
    },
    {
     "name": "stdout",
     "output_type": "stream",
     "text": [
      "      in on_lesson_page http://www.prathamopenschool.org/mr/Lesson/LES453\n"
     ]
    },
    {
     "name": "stderr",
     "output_type": "stream",
     "text": [
      "      content: 1512: सरळव्याज काय असते?\n",
      "      content: 1513: सरळव्याज उदाहरणे 1\n",
      "      content: 1514: वर्गसंख्या\n"
     ]
    },
    {
     "name": "stdout",
     "output_type": "stream",
     "text": [
      "      in on_lesson_page http://www.prathamopenschool.org/mr/Lesson/LES454\n"
     ]
    },
    {
     "name": "stderr",
     "output_type": "stream",
     "text": [
      "      content: 1515: वर्गमूळ म्हणजे? कसे काढायचे?\n",
      "      content: 4882: वर्ग करायच्या गंमती\n",
      "      content: 4883: त्रिकोणसंख्या आणि वर्गसंख्या गंमत\n",
      "      content: 829: बीजगणित तोंडओळख (भाग 1)\n"
     ]
    },
    {
     "name": "stdout",
     "output_type": "stream",
     "text": [
      "      in on_lesson_page http://www.prathamopenschool.org/mr/Lesson/LES455\n"
     ]
    },
    {
     "name": "stderr",
     "output_type": "stream",
     "text": [
      "      content: 830: बीजगणित तोंडओळख (भाग 2)\n",
      "      content: 1295: Match the words\n",
      "      content: 265: Translation Machine - 1\n",
      "      content: 224: चित्र आणि शब्द\n",
      "      content: 211: 1.1 राहुलशी ओळख\n"
     ]
    },
    {
     "name": "stdout",
     "output_type": "stream",
     "text": [
      "      in on_lesson_page http://www.prathamopenschool.org/mr/Lesson/LES425\n"
     ]
    },
    {
     "name": "stderr",
     "output_type": "stream",
     "text": [
      "      content: 212: 1.2 राहुलशी मैत्री\n",
      "      content: 213: 1.3 मधु आणि दीपकशी ओळख\n",
      "      content: 214: 1.4 मधु आणि दीपकशी मैत्री\n",
      "      content: 215: 1.5 नवीन मित्रांशी गप्पा\n",
      "      content: 216: 1.6 राहुलशी ओळख - सराव\n",
      "      content: 4866: मधु आणि दीपकशी ओळख - सराव\n",
      "      content: 276: Translation Machine - 2\n",
      "      content: 218: 2.1 राहुलच्या आई बाबांशी ओळख\n"
     ]
    },
    {
     "name": "stdout",
     "output_type": "stream",
     "text": [
      "      in on_lesson_page http://www.prathamopenschool.org/mr/Lesson/LES426\n"
     ]
    },
    {
     "name": "stderr",
     "output_type": "stream",
     "text": [
      "      content: 219: 2.2 संध्याकाळी राहुलच्या आई बाबांशी भेट\n",
      "      content: 220: 2.3 दोन परिवारांची भेट\n",
      "      content: 221: 2.4 नवीन मित्र\n",
      "      content: 222: 2.5 आमचे सुंदर कुटुंब\n",
      "      content: 277: Translation Machine - 3\n",
      "      content: 227: चित्र आणि शब्द 2\n",
      "      content: 253: 3.1 नवीन मित्र जतिन\n"
     ]
    },
    {
     "name": "stdout",
     "output_type": "stream",
     "text": [
      "      in on_lesson_page http://www.prathamopenschool.org/mr/Lesson/LES427\n"
     ]
    },
    {
     "name": "stderr",
     "output_type": "stream",
     "text": [
      "      content: 254: 3.2 जेवताना गप्पा\n",
      "      content: 255: 3.3 सीमाचे प्रश्न\n",
      "      content: 256: 3.4 सगळे कुठे गेले?\n",
      "      content: 257: 3.5 सीमा आणि डॉलीची पुन्हा भेट!\n",
      "      content: 258: 3.6 सीमा आणि डॉलीच्या गप्पा (सराव)\n",
      "      content: 568: Build a sentence\n",
      "      content: 278: Translation Machine - 4\n",
      "      content: 259: 4.1 आवडता हिरो\n"
     ]
    },
    {
     "name": "stdout",
     "output_type": "stream",
     "text": [
      "      in on_lesson_page http://www.prathamopenschool.org/mr/Lesson/LES428\n"
     ]
    },
    {
     "name": "stderr",
     "output_type": "stream",
     "text": [
      "      content: 260: 4.2 चाहत्यांमधली चढा-ओढ\n",
      "      content: 261: 4.3 सिनेमाला जाणे\n",
      "      content: 262: 4.4 सिनेमावर चर्चा\n",
      "      content: 263: 4.5 सीमा आणि मधुच्या आवडी-निवडी (सराव)\n",
      "      content: 264: 4.6 दीपक आणि राहुलच्या आवडी निवडी(सराव)\n",
      "      content: 1296: Vanishing sentences\n",
      "      content: 1130: 6.1 खरेदी\n"
     ]
    },
    {
     "name": "stdout",
     "output_type": "stream",
     "text": [
      "      in on_lesson_page http://www.prathamopenschool.org/mr/Lesson/LES429\n"
     ]
    },
    {
     "name": "stderr",
     "output_type": "stream",
     "text": [
      "      content: 1131: 6.2 रामू काकाचे दुकान\n",
      "      content: 1132: 6.3 किराणा सामान\n",
      "      content: 1133: 6.4 फॅशन पॉइंट\n",
      "      content: 1134: 6.5 रामू काकाचे दुकान (सराव)\n",
      "      content: 1135: 7.1 गोष्ट निवडा\n"
     ]
    },
    {
     "name": "stdout",
     "output_type": "stream",
     "text": [
      "      in on_lesson_page http://www.prathamopenschool.org/mr/Lesson/LES430\n"
     ]
    },
    {
     "name": "stderr",
     "output_type": "stream",
     "text": [
      "      content: 1136: 7.2 पिक्चरचा मोठा प्लान\n",
      "      content: 1137: 7.3 पात्र निवडा\n",
      "      content: 1138: 7.4 शूटिंग\n",
      "      content: 1518: Correct pairs\n",
      "      content: 1139: 8.1 लग्नाची आनंदाची बातमी\n"
     ]
    },
    {
     "name": "stdout",
     "output_type": "stream",
     "text": [
      "      in on_lesson_page http://www.prathamopenschool.org/mr/Lesson/LES431\n"
     ]
    },
    {
     "name": "stderr",
     "output_type": "stream",
     "text": [
      "      content: 1140: 8.2 मित्र-मैत्रिणींना आमंत्रण\n",
      "      content: 1141: 8.3 लग्नातले रंगीबेरंगी कपडे\n",
      "      content: 1142: 8.4 सलमा दिदीची पार्टी\n",
      "      content: 1143: 9.1 आजच्या बातम्या\n"
     ]
    },
    {
     "name": "stdout",
     "output_type": "stream",
     "text": [
      "      in on_lesson_page http://www.prathamopenschool.org/mr/Lesson/LES432\n"
     ]
    },
    {
     "name": "stderr",
     "output_type": "stream",
     "text": [
      "      content: 1144: 9.2 मैत्रिणीची मुलाखत\n",
      "      content: 1145: 9.3 आईची मुलाखत\n",
      "      content: 1575: 10.1 अरे बाप रे भूत !\n"
     ]
    },
    {
     "name": "stdout",
     "output_type": "stream",
     "text": [
      "      in on_lesson_page http://www.prathamopenschool.org/mr/Lesson/LES433\n"
     ]
    },
    {
     "name": "stderr",
     "output_type": "stream",
     "text": [
      "      content: 1576: 10.2 जिलबी कुठे गेली?\n",
      "      content: 1577: 10.3 घरात उंदीर !\n",
      "      content: 1578: 10.4 उंदीर शोधा !\n",
      "      content: 1579: 10.5 गेला उंदीर कुणीकडे\n",
      "      content: 1580: 11.1 मस्तीखोर पोर\n"
     ]
    },
    {
     "name": "stdout",
     "output_type": "stream",
     "text": [
      "      in on_lesson_page http://www.prathamopenschool.org/mr/Lesson/LES434\n"
     ]
    },
    {
     "name": "stderr",
     "output_type": "stream",
     "text": [
      "      content: 1581: 11.2 डॉ दीदीला बोलवा\n",
      "      content: 1582: 11.3 यशला कळले\n",
      "      content: 1583: 11.4 छोटा खलीस\n",
      "      content: 1584: 11.5 शाब्बास!\n",
      "      content: 4867: 12.1 वीज बंद- काम बंद\n"
     ]
    },
    {
     "name": "stdout",
     "output_type": "stream",
     "text": [
      "      in on_lesson_page http://www.prathamopenschool.org/mr/Lesson/LES435\n"
     ]
    },
    {
     "name": "stderr",
     "output_type": "stream",
     "text": [
      "      content: 4868: 12.2 विजेसाठी उचापती\n",
      "      content: 3616: 12.3 छोटा इंजिनियर\n",
      "      content: 3617: 12.4 काम फत्ते!\n",
      "      content: 3618: 13.1 टॉस कोणी जिंकला?\n"
     ]
    },
    {
     "name": "stdout",
     "output_type": "stream",
     "text": [
      "      in on_lesson_page http://www.prathamopenschool.org/mr/Lesson/LES436\n"
     ]
    },
    {
     "name": "stderr",
     "output_type": "stream",
     "text": [
      "      content: 3619: 13.2 जिंकलं कोण? हरलं कोण?\n",
      "      content: 3620: 13.3 पकडा पकडी\n",
      "      content: 1295: Match the words\n",
      "      content: 1124: 5.1 सूर्य उगवला प्रकाश पडला\n"
     ]
    },
    {
     "name": "stdout",
     "output_type": "stream",
     "text": [
      "      in on_lesson_page http://www.prathamopenschool.org/mr/Lesson/LES827\n"
     ]
    },
    {
     "name": "stderr",
     "output_type": "stream",
     "text": [
      "      content: 1125: 5.2 आम्ही शाळेत चाललो\n",
      "      content: 1126: 5.3 टाइमपास\n",
      "      content: 1127: 5.4 दोन दोन पार्ट्या\n",
      "      content: 1128: 5.5 ही शर्यत रे अपुली\n",
      "      content: 1129: 5.6 निशाचे प्लान (सराव)\n",
      "      content: 3719: Flip It\n",
      "Content not supported: http://www.prathamopenschool.org/CourseContent/Games/FlipIt/index.html, \n"
     ]
    },
    {
     "name": "stdout",
     "output_type": "stream",
     "text": [
      "      in on_lesson_page http://www.prathamopenschool.org/mr/Lesson/LES816\n"
     ]
    },
    {
     "name": "stderr",
     "output_type": "stream",
     "text": [
      "      content: 3720: Crumble Tumble\n",
      "Content not supported: http://www.prathamopenschool.org/CourseContent/Games/CrumbleTumble/index.html, \n"
     ]
    },
    {
     "name": "stdout",
     "output_type": "stream",
     "text": [
      "      in on_lesson_page http://www.prathamopenschool.org/mr/Lesson/LES817\n"
     ]
    },
    {
     "name": "stderr",
     "output_type": "stream",
     "text": [
      "      content: 3710: Fix-Up Mix-Up\n",
      "Content not supported: http://www.prathamopenschool.org/CourseContent/Games/fixUpMixUp/index.html, \n"
     ]
    },
    {
     "name": "stdout",
     "output_type": "stream",
     "text": [
      "      in on_lesson_page http://www.prathamopenschool.org/mr/Lesson/LES818\n"
     ]
    },
    {
     "name": "stderr",
     "output_type": "stream",
     "text": [
      "      content: 3711: You Said\n",
      "Content not supported: http://www.prathamopenschool.org/CourseContent/Games/YouSaid/index.html, \n"
     ]
    },
    {
     "name": "stdout",
     "output_type": "stream",
     "text": [
      "      in on_lesson_page http://www.prathamopenschool.org/mr/Lesson/LES819\n"
     ]
    },
    {
     "name": "stderr",
     "output_type": "stream",
     "text": [
      "      content: 3712: Point Me Out\n",
      "Content not supported: http://www.prathamopenschool.org/CourseContent/Games/PointMeOut/index.html, \n"
     ]
    },
    {
     "name": "stdout",
     "output_type": "stream",
     "text": [
      "      in on_lesson_page http://www.prathamopenschool.org/mr/Lesson/LES820\n"
     ]
    },
    {
     "name": "stderr",
     "output_type": "stream",
     "text": [
      "      content: 3713: Guess Who\n",
      "Content not supported: http://www.prathamopenschool.org/CourseContent/Games/GuessWho/index.html, \n"
     ]
    },
    {
     "name": "stdout",
     "output_type": "stream",
     "text": [
      "      in on_lesson_page http://www.prathamopenschool.org/mr/Lesson/LES821\n"
     ]
    },
    {
     "name": "stderr",
     "output_type": "stream",
     "text": [
      "      content: 3714: ABCD\n",
      "Content not supported: http://www.prathamopenschool.org/CourseContent/Games/ABCD/index.html, \n"
     ]
    },
    {
     "name": "stdout",
     "output_type": "stream",
     "text": [
      "      in on_lesson_page http://www.prathamopenschool.org/mr/Lesson/LES822\n"
     ]
    },
    {
     "name": "stderr",
     "output_type": "stream",
     "text": [
      "      content: 3715: Letter Box\n",
      "Content not supported: http://www.prathamopenschool.org/CourseContent/Games/LetterBox/index.html, \n"
     ]
    },
    {
     "name": "stdout",
     "output_type": "stream",
     "text": [
      "      in on_lesson_page http://www.prathamopenschool.org/mr/Lesson/LES823\n"
     ]
    },
    {
     "name": "stderr",
     "output_type": "stream",
     "text": [
      "      content: 3716: Jumble Tumble\n",
      "Content not supported: http://www.prathamopenschool.org/CourseContent/Games/JumbleTumble/index.html, \n"
     ]
    },
    {
     "name": "stdout",
     "output_type": "stream",
     "text": [
      "      in on_lesson_page http://www.prathamopenschool.org/mr/Lesson/LES824\n"
     ]
    },
    {
     "name": "stderr",
     "output_type": "stream",
     "text": [
      "      content: 34911: Count & Know\n",
      "Content not supported: http://www.prathamopenschool.org/CourseContent/Games/CountAndKnow_HI/index.html, \n"
     ]
    },
    {
     "name": "stdout",
     "output_type": "stream",
     "text": [
      "      in on_lesson_page http://www.prathamopenschool.org/mr/Lesson/LES825\n"
     ]
    },
    {
     "name": "stderr",
     "output_type": "stream",
     "text": [
      "      content: 4532: Count It\n",
      "Content not supported: http://www.prathamopenschool.org/CourseContent/Games/CountIt/index.html, \n"
     ]
    },
    {
     "name": "stdout",
     "output_type": "stream",
     "text": [
      "      in on_lesson_page http://www.prathamopenschool.org/mr/Lesson/LES826\n"
     ]
    },
    {
     "name": "stderr",
     "output_type": "stream",
     "text": [
      "      content: 270: अंग्रेजी ओके प्लीज 1.1\n"
     ]
    },
    {
     "name": "stdout",
     "output_type": "stream",
     "text": [
      "      in on_lesson_page http://www.prathamopenschool.org/mr/Lesson/LES921\n"
     ]
    },
    {
     "name": "stderr",
     "output_type": "stream",
     "text": [
      "      content: 271: अंग्रेजी ओके प्लीज 1.2\n",
      "      content: 272: अंग्रेजी ओके प्लीज 1.3\n",
      "      content: 501: अंग्रेजी ओके 2.1\n"
     ]
    },
    {
     "name": "stdout",
     "output_type": "stream",
     "text": [
      "      in on_lesson_page http://www.prathamopenschool.org/mr/Lesson/LES922\n"
     ]
    },
    {
     "name": "stderr",
     "output_type": "stream",
     "text": [
      "      content: 502: अंग्रेजी ओके 2.2\n",
      "      content: 503: अंग्रेजी ओके 2.3\n",
      "      content: 504: अंग्रेजी ओके 3.1\n"
     ]
    },
    {
     "name": "stdout",
     "output_type": "stream",
     "text": [
      "      in on_lesson_page http://www.prathamopenschool.org/mr/Lesson/LES923\n"
     ]
    },
    {
     "name": "stderr",
     "output_type": "stream",
     "text": [
      "      content: 505: अंग्रेजी ओके 3.2\n",
      "      content: 506: अंग्रेजी ओके 3.3\n",
      "      content: 507: अंग्रेजी ओके 4.1\n"
     ]
    },
    {
     "name": "stdout",
     "output_type": "stream",
     "text": [
      "      in on_lesson_page http://www.prathamopenschool.org/mr/Lesson/LES924\n"
     ]
    },
    {
     "name": "stderr",
     "output_type": "stream",
     "text": [
      "      content: 508: अंग्रेजी ओके 4.2\n",
      "      content: 509: अंग्रेजी ओके 4.3\n",
      "      content: 510: अंग्रेजी ओके 5.1\n"
     ]
    },
    {
     "name": "stdout",
     "output_type": "stream",
     "text": [
      "      in on_lesson_page http://www.prathamopenschool.org/mr/Lesson/LES925\n"
     ]
    },
    {
     "name": "stderr",
     "output_type": "stream",
     "text": [
      "      content: 511: अंग्रेजी ओके 5.2\n",
      "      content: 512: अंग्रेजी ओके 5.3\n",
      "      content: 513: अंग्रेजी ओके 6.1\n"
     ]
    },
    {
     "name": "stdout",
     "output_type": "stream",
     "text": [
      "      in on_lesson_page http://www.prathamopenschool.org/mr/Lesson/LES926\n"
     ]
    },
    {
     "name": "stderr",
     "output_type": "stream",
     "text": [
      "      content: 514: अंग्रेजी ओके 6.2\n",
      "      content: 515: अंग्रेजी ओके 6.3\n",
      "      content: 516: अंग्रेजी ओके 8.1\n"
     ]
    },
    {
     "name": "stdout",
     "output_type": "stream",
     "text": [
      "      in on_lesson_page http://www.prathamopenschool.org/mr/Lesson/LES927\n"
     ]
    },
    {
     "name": "stderr",
     "output_type": "stream",
     "text": [
      "      content: 517: अंग्रेजी ओके 8.2\n",
      "      content: 518: अंग्रेजी ओके 8.3\n",
      "      content: 519: अंग्रेजी ओके 9.1\n"
     ]
    },
    {
     "name": "stdout",
     "output_type": "stream",
     "text": [
      "      in on_lesson_page http://www.prathamopenschool.org/mr/Lesson/LES928\n"
     ]
    },
    {
     "name": "stderr",
     "output_type": "stream",
     "text": [
      "      content: 520: अंग्रेजी ओके 9.2\n",
      "      content: 521: अंग्रेजी ओके 9.3\n",
      "      content: 522: अंग्रेजी ओके 10.1\n"
     ]
    },
    {
     "name": "stdout",
     "output_type": "stream",
     "text": [
      "      in on_lesson_page http://www.prathamopenschool.org/mr/Lesson/LES929\n"
     ]
    },
    {
     "name": "stderr",
     "output_type": "stream",
     "text": [
      "      content: 523: अंग्रेजी ओके 10.2\n",
      "      content: 524: अंग्रेजी ओके 10.3\n",
      "      content: 525: अंग्रेजी ओके 11.1\n"
     ]
    },
    {
     "name": "stdout",
     "output_type": "stream",
     "text": [
      "      in on_lesson_page http://www.prathamopenschool.org/mr/Lesson/LES930\n"
     ]
    },
    {
     "name": "stderr",
     "output_type": "stream",
     "text": [
      "      content: 526: अंग्रेजी ओके 11.2\n",
      "      content: 527: अंग्रेजी ओके 11.3\n",
      "      content: 528: अंग्रेजी ओके 12.1\n"
     ]
    },
    {
     "name": "stdout",
     "output_type": "stream",
     "text": [
      "      in on_lesson_page http://www.prathamopenschool.org/mr/Lesson/LES931\n"
     ]
    },
    {
     "name": "stderr",
     "output_type": "stream",
     "text": [
      "      content: 529: अंग्रेजी ओके 12.2\n",
      "      content: 530: अंग्रेजी ओके 12.3\n",
      "      content: 531: अंग्रेजी ओके 13.1\n"
     ]
    },
    {
     "name": "stdout",
     "output_type": "stream",
     "text": [
      "      in on_lesson_page http://www.prathamopenschool.org/mr/Lesson/LES932\n"
     ]
    },
    {
     "name": "stderr",
     "output_type": "stream",
     "text": [
      "      content: 532: अंग्रेजी ओके 13.2\n",
      "      content: 533: अंग्रेजी ओके 13.3\n",
      "      content: 5557: गावातून फेरफटका\n"
     ]
    },
    {
     "name": "stdout",
     "output_type": "stream",
     "text": [
      "      in on_lesson_page http://www.prathamopenschool.org/mr/Lesson/LES844\n"
     ]
    },
    {
     "name": "stderr",
     "output_type": "stream",
     "text": [
      "      content: 5558: तरफ आणि यांत्रिक लाभ\n"
     ]
    },
    {
     "name": "stdout",
     "output_type": "stream",
     "text": [
      "      in on_lesson_page http://www.prathamopenschool.org/mr/Lesson/LES845\n"
     ]
    },
    {
     "name": "stderr",
     "output_type": "stream",
     "text": [
      "      content: 5559: तरफेचे प्रकार\n",
      "      content: 5560: उतरण - एक यंत्र\n",
      "      content: 5561: कप्पी आणि तिचे फायदे\n",
      "      content: 5562: कप्पीचे फायदे आणि तोटे भाग 1\n",
      "      content: 5563: कप्पीचे फायदे आणि तोटे भाग 2\n",
      "      content: 5564: बिना इंजिनची ट्रेन\n",
      "      content: 5575: फर्स्ट एड बॉक्स\n"
     ]
    },
    {
     "name": "stdout",
     "output_type": "stream",
     "text": [
      "      in on_lesson_page http://www.prathamopenschool.org/mr/Lesson/LES846\n"
     ]
    },
    {
     "name": "stderr",
     "output_type": "stream",
     "text": [
      "      content: 356: प्रकाश, सावली, प्रतिबिंब 1\n"
     ]
    },
    {
     "name": "stdout",
     "output_type": "stream",
     "text": [
      "      in on_lesson_page http://www.prathamopenschool.org/mr/Lesson/LES456\n"
     ]
    },
    {
     "name": "stderr",
     "output_type": "stream",
     "text": [
      "      content: 357: प्रकाश, सावली, प्रतिबिंब 2\n",
      "      content: 319: प्रकाशाचे परावर्तन\n",
      "      content: 352: सूर्यप्रकाशातले रंग\n",
      "      content: 898: भर भर भरा\n",
      "Content not supported: http://www.prathamopenschool.org/CourseContent/Games/ScienceBucketGame_M/BucketGame.html, \n",
      "      content: 390: पिंजऱ्यातला पक्षी\n",
      "      content: 389: पाणी घालताच नाणे प्रकट\n",
      "      content: 381: अदृश्य होणारी नाणी\n",
      "      content: 384: घरात उजेड\n",
      "      content: 426: प्रकाशाचे संक्रमण\n",
      "      content: 1168: आरसेबहाद्दर\n",
      "      content: 454: रंगीबेरंगी जग 1\n"
     ]
    },
    {
     "name": "stdout",
     "output_type": "stream",
     "text": [
      "      in on_lesson_page http://www.prathamopenschool.org/mr/Lesson/LES457\n"
     ]
    },
    {
     "name": "stderr",
     "output_type": "stream",
     "text": [
      "      content: 455: रंगीबेरंगी जग 2\n",
      "      content: 443: आंतरराष्ट्रीय प्रकाश वर्ष\n",
      "      content: 443: आंतरराष्ट्रीय प्रकाश वर्ष\n"
     ]
    },
    {
     "name": "stdout",
     "output_type": "stream",
     "text": [
      "      in on_lesson_page http://www.prathamopenschool.org/mr/Lesson/LES458\n"
     ]
    },
    {
     "name": "stderr",
     "output_type": "stream",
     "text": [
      "      content: 898: भर भर भरा\n",
      "Content not supported: http://www.prathamopenschool.org/CourseContent/Games/ScienceBucketGame_M/BucketGame.html, \n",
      "      content: 438: द्रव्याच्या अवस्था\n"
     ]
    },
    {
     "name": "stdout",
     "output_type": "stream",
     "text": [
      "      in on_lesson_page http://www.prathamopenschool.org/mr/Lesson/LES459\n"
     ]
    },
    {
     "name": "stderr",
     "output_type": "stream",
     "text": [
      "      content: 882: तुमचे वजन पहा\n",
      "Content not supported: http://www.prathamopenschool.org/CourseContent/Games/planetGame_M/welcomeScreen.html, \n",
      "      content: 4870: त्वरण अणि वस्तुमान\n"
     ]
    },
    {
     "name": "stdout",
     "output_type": "stream",
     "text": [
      "      in on_lesson_page http://www.prathamopenschool.org/mr/Lesson/LES460\n"
     ]
    },
    {
     "name": "stderr",
     "output_type": "stream",
     "text": [
      "      content: 4871: वस्तुमान अणि तान\n",
      "      content: 4872: अंतराळात बल आणि वस्तुमान!\n",
      "      content: 440: वस्तुमान आणि वजन 1\n",
      "      content: 441: वस्तुमान आणि वजन 2\n",
      "      content: 442: काळ अंतर वस्तुमान\n",
      "      content: 307: अंतराळात बल आणि वस्तुमान!\n",
      "      content: 306: अंतराळात ताणाचा प्रयोग!\n",
      "      content: 303: अंतराळात त्वरणाचा प्रयोग!\n",
      "      content: 304: अंतराळात वस्तुमान आणि वजन 1\n",
      "      content: 305: अंतराळात वस्तुमान आणि वजन 2\n",
      "      content: 1278: रेणूची संरचना\n"
     ]
    },
    {
     "name": "stdout",
     "output_type": "stream",
     "text": [
      "      in on_lesson_page http://www.prathamopenschool.org/mr/Lesson/LES461\n"
     ]
    },
    {
     "name": "stderr",
     "output_type": "stream",
     "text": [
      "      content: 4897: पदार्थ आणि घनता\n"
     ]
    },
    {
     "name": "stdout",
     "output_type": "stream",
     "text": [
      "      in on_lesson_page http://www.prathamopenschool.org/mr/Lesson/LES462\n"
     ]
    },
    {
     "name": "stderr",
     "output_type": "stream",
     "text": [
      "      content: 4287: बोला आर्किमिडीज बाबा वजन किती असेल ?\n",
      "      content: 4288: बोला आर्किमिडिज़ बाबा बुडणार की तरंगणार?\n",
      "      content: 4289: बोला आर्किमिडीज बाबा फुगे उडणार का ?\n",
      "      content: 1115: डॉ. हड्डी\n",
      "      content: 469: आपला सांगाडा\n"
     ]
    },
    {
     "name": "stdout",
     "output_type": "stream",
     "text": [
      "      in on_lesson_page http://www.prathamopenschool.org/mr/Lesson/LES463\n"
     ]
    },
    {
     "name": "stderr",
     "output_type": "stream",
     "text": [
      "      content: 470: आपल्या सांगाड्यातील मुख्य भाग\n",
      "      content: 471: असा विकसित झाला आपला सांगाडा\n",
      "      content: 472: आपली कवटी\n",
      "      content: 473: हाडांना जोडून ठेवणारे सांधे\n",
      "      content: 474: पाठीचा कणा\n",
      "      content: 896: नाचणारा सांगाडा\n",
      "      content: 897: बिजागरी माणूस\n",
      "      content: 5565: रक्तदाब म्हणजे काय?\n"
     ]
    },
    {
     "name": "stdout",
     "output_type": "stream",
     "text": [
      "      in on_lesson_page http://www.prathamopenschool.org/mr/Lesson/LES464\n"
     ]
    },
    {
     "name": "stderr",
     "output_type": "stream",
     "text": [
      "      content: 5566: रक्तदाब कसा तपासतात?\n",
      "      content: 1572: रक्त परिचय\n",
      "      content: 1573: रक्त कशापासून बनते ?\n",
      "      content: 1574: रक्ताभिसरण संस्था\n",
      "      content: 5551: चिंटू झाला चष्मेबहाद्दर\n"
     ]
    },
    {
     "name": "stdout",
     "output_type": "stream",
     "text": [
      "      in on_lesson_page http://www.prathamopenschool.org/mr/Lesson/LES843\n"
     ]
    },
    {
     "name": "stderr",
     "output_type": "stream",
     "text": [
      "      content: 5552: दृष्टी आडची सृष्टी\n",
      "      content: 5553: डोळ्याचे मॉडेल\n",
      "      content: 5554: मूवी टाइम\n",
      "      content: 454: रंगीबेरंगी जग 1\n",
      "      content: 4344: बोलके डोळे\n",
      "      content: 5577: राधा क्यों गोरी, मैं क्यों काला?\n"
     ]
    },
    {
     "name": "stdout",
     "output_type": "stream",
     "text": [
      "      in on_lesson_page http://www.prathamopenschool.org/mr/Lesson/LES848\n"
     ]
    },
    {
     "name": "stderr",
     "output_type": "stream",
     "text": [
      "      content: 461: परिमाण आणि संख्या 1\n"
     ]
    },
    {
     "name": "stdout",
     "output_type": "stream",
     "text": [
      "      in on_lesson_page http://www.prathamopenschool.org/mr/Lesson/LES465\n"
     ]
    },
    {
     "name": "stderr",
     "output_type": "stream",
     "text": [
      "      content: 462: परिमाण आणि संख्या 2\n",
      "      content: 463: परिमाण आणि संख्या 3\n",
      "      content: 464: परिमाण आणि संख्या 4\n",
      "      content: 465: परिमाण आणि संख्या 5\n",
      "      content: 466: इमारतीच्या उंचीचा अंदाज\n",
      "      content: 467: हा खांब किती उंच आहे?\n",
      "      content: 468: ढील\n",
      "      content: 1269: गतीचे विविध प्रकार\n"
     ]
    },
    {
     "name": "stdout",
     "output_type": "stream",
     "text": [
      "      in on_lesson_page http://www.prathamopenschool.org/mr/Lesson/LES466\n"
     ]
    },
    {
     "name": "stderr",
     "output_type": "stream",
     "text": [
      "      content: 1270: आळशी वस्तु - गतीचा पहिला नियम\n",
      "      content: 1271: बळामुळे पळपळ - गतीचा दुसरा नियम\n",
      "      content: 1272: जशास तसे - गतीचा तिसरा नियम\n",
      "      content: 1273: चाल आणि वेग\n",
      "      content: 1274: मोटरसायकल सोबत शिक्षण भाग 1\n",
      "      content: 1275: मोटरसायकल सोबत शिक्षण भाग 2\n",
      "      content: 1276: शर्यत\n",
      "      content: 1277: त्वरणला कोण घाबरतंय?\n",
      "      content: 1279: सांगा बाबा गॅलिलियो...जमिनीवर आधी कोण ?\n"
     ]
    },
    {
     "name": "stdout",
     "output_type": "stream",
     "text": [
      "      in on_lesson_page http://www.prathamopenschool.org/mr/Lesson/LES467\n"
     ]
    },
    {
     "name": "stderr",
     "output_type": "stream",
     "text": [
      "      content: 1280: बोला बाबा न्यूटन...चेंडू कुठे गेला ?\n",
      "      content: 1281: बोला बाबा न्यूटन...स्पीड किती असेल ?\n",
      "      content: 1282: बोला बाबा न्यूटन...जोर लगाके हैशा?\n",
      "      content: 1283: बोला बाबा न्यूटन...अंड्याचा फंडा?\n",
      "      content: 5576: लंबकाची ओळख\n"
     ]
    },
    {
     "name": "stdout",
     "output_type": "stream",
     "text": [
      "      in on_lesson_page http://www.prathamopenschool.org/mr/Lesson/LES847\n"
     ]
    },
    {
     "name": "stderr",
     "output_type": "stream",
     "text": [
      "      content: 5555: गोष्ट गॅलिलिओची भाग 1\n"
     ]
    },
    {
     "name": "stdout",
     "output_type": "stream",
     "text": [
      "      in on_lesson_page http://www.prathamopenschool.org/mr/Lesson/LES468\n"
     ]
    },
    {
     "name": "stderr",
     "output_type": "stream",
     "text": [
      "      content: 5556: गोष्ट गॅलिलिओची भाग 2\n",
      "      content: 1500: सूर्यमाला\n",
      "      content: 1501: अंतराळातून पृथ्वी\n"
     ]
    },
    {
     "name": "stdout",
     "output_type": "stream",
     "text": [
      "      in on_lesson_page http://www.prathamopenschool.org/mr/Lesson/LES469\n"
     ]
    },
    {
     "name": "stderr",
     "output_type": "stream",
     "text": [
      "      content: 4341: आपल्या पृथ्वीची ओळख\n",
      "      content: 4342: नकाशा आणि पृथ्वीच्या गोलावर जागा शोधणे\n",
      "      content: 1503: नकाशावर जागा शोधणे\n",
      "      content: 1504: नकाशा समजून घेणे\n",
      "      content: 1505: वेळेची गोष्ट 1\n",
      "      content: 1506: वेळेची गोष्ट 2\n",
      "      content: 1507: रूप बदलणारी ऊर्जा\n"
     ]
    },
    {
     "name": "stdout",
     "output_type": "stream",
     "text": [
      "      in on_lesson_page http://www.prathamopenschool.org/mr/Lesson/LES470\n"
     ]
    },
    {
     "name": "stderr",
     "output_type": "stream",
     "text": [
      "      content: 1510: चिंटूची मेहनत\n",
      "      content: 1508: ऊर्जेशी ओळख\n",
      "      content: 1509: ऊर्जा घराणे\n",
      "      content: 1510: चिंटूची मेहनत\n"
     ]
    },
    {
     "name": "stdout",
     "output_type": "stream",
     "text": [
      "      in on_lesson_page http://www.prathamopenschool.org/mr/Lesson/LES471\n"
     ]
    },
    {
     "name": "stderr",
     "output_type": "stream",
     "text": [
      "      content: 5567: जलतरंग\n"
     ]
    },
    {
     "name": "stdout",
     "output_type": "stream",
     "text": [
      "      in on_lesson_page http://www.prathamopenschool.org/mr/Lesson/LES473\n"
     ]
    },
    {
     "name": "stderr",
     "output_type": "stream",
     "text": [
      "      content: 5568: पॅराशूट\n",
      "      content: 5569: मूवी टाइम\n",
      "      content: 5570: डोळ्याचे मॉडेल\n",
      "      content: 5571: मनचाही बरसात\n",
      "      content: 5572: ट्रिंग ट्रिंग - पेपर कप टेलीफोन\n",
      "      content: 5573: बॉटल रॉकेट\n",
      "      content: 5574: बिना इंजिनची ट्रेन\n",
      "      content: 1524: कागदाचा पूल\n",
      "      content: 1525: आगळेवेगळे फाटक\n",
      "      content: 383: खिळ्यांचं कोडं\n",
      "      content: 386: तरंगणारी पेंसिल\n",
      "      content: 385: बिना चुंबकाची मोटर\n",
      "      content: 388: झपाटलेला फुगा\n",
      "      content: 391: साधी मोटर\n",
      "      content: 392: स्ट्रॉची बासरी\n",
      "      content: 4550: स्ट्रॉचे भिरभिरे\n",
      "      content: 387: जादूचा फुगा\n",
      "      content: 396: स्ट्रॉ मधील स्थिर विद्युत 1\n",
      "      content: 395: स्ट्रॉ मधील स्थिर विद्युत 2\n",
      "      content: 3002: जानो सांप के बारे में\n"
     ]
    },
    {
     "name": "stdout",
     "output_type": "stream",
     "text": [
      "      in on_lesson_page http://www.prathamopenschool.org/hn/Lesson/LES73\n"
     ]
    },
    {
     "name": "stderr",
     "output_type": "stream",
     "text": [
      "      content: 3003: तस्वीरों के द्वारा बातचीत ?\n"
     ]
    },
    {
     "name": "stdout",
     "output_type": "stream",
     "text": [
      "      in on_lesson_page http://www.prathamopenschool.org/hn/Lesson/LES74\n"
     ]
    },
    {
     "name": "stderr",
     "output_type": "stream",
     "text": [
      "      content: 3004: पाचन\n"
     ]
    },
    {
     "name": "stdout",
     "output_type": "stream",
     "text": [
      "      in on_lesson_page http://www.prathamopenschool.org/hn/Lesson/LES75\n"
     ]
    },
    {
     "name": "stderr",
     "output_type": "stream",
     "text": [
      "      content: 3005: ग्लूकोज़ से उर्जा प्राप्ति\n"
     ]
    },
    {
     "name": "stdout",
     "output_type": "stream",
     "text": [
      "      in on_lesson_page http://www.prathamopenschool.org/hn/Lesson/LES76\n"
     ]
    },
    {
     "name": "stderr",
     "output_type": "stream",
     "text": [
      "      content: 3006: बीज अंकुरण\n"
     ]
    },
    {
     "name": "stdout",
     "output_type": "stream",
     "text": [
      "      in on_lesson_page http://www.prathamopenschool.org/hn/Lesson/LES77\n"
     ]
    },
    {
     "name": "stderr",
     "output_type": "stream",
     "text": [
      "      content: 3007: पौधें कैसे उगते हैं?\n"
     ]
    },
    {
     "name": "stdout",
     "output_type": "stream",
     "text": [
      "      in on_lesson_page http://www.prathamopenschool.org/hn/Lesson/LES78\n"
     ]
    },
    {
     "name": "stderr",
     "output_type": "stream",
     "text": [
      "      content: 3008: बहुमूल्य जल\n"
     ]
    },
    {
     "name": "stdout",
     "output_type": "stream",
     "text": [
      "      in on_lesson_page http://www.prathamopenschool.org/hn/Lesson/LES79\n"
     ]
    },
    {
     "name": "stderr",
     "output_type": "stream",
     "text": [
      "      content: 3009: दो मच्छरों की कहानी\n"
     ]
    },
    {
     "name": "stdout",
     "output_type": "stream",
     "text": [
      "      in on_lesson_page http://www.prathamopenschool.org/hn/Lesson/LES80\n"
     ]
    },
    {
     "name": "stderr",
     "output_type": "stream",
     "text": [
      "      content: 3010: समुदाय और परिवार\n"
     ]
    },
    {
     "name": "stdout",
     "output_type": "stream",
     "text": [
      "      in on_lesson_page http://www.prathamopenschool.org/hn/Lesson/LES81\n"
     ]
    },
    {
     "name": "stderr",
     "output_type": "stream",
     "text": [
      "      content: 3011: भूकंप से उबरना\n"
     ]
    },
    {
     "name": "stdout",
     "output_type": "stream",
     "text": [
      "      in on_lesson_page http://www.prathamopenschool.org/hn/Lesson/LES82\n"
     ]
    },
    {
     "name": "stderr",
     "output_type": "stream",
     "text": [
      "      content: 3012: सांस लेना\n"
     ]
    },
    {
     "name": "stdout",
     "output_type": "stream",
     "text": [
      "      in on_lesson_page http://www.prathamopenschool.org/hn/Lesson/LES83\n"
     ]
    },
    {
     "name": "stderr",
     "output_type": "stream",
     "text": [
      "      content: 3013: हवा फूंककर चीजों को ठंडा करना\n"
     ]
    },
    {
     "name": "stdout",
     "output_type": "stream",
     "text": [
      "      in on_lesson_page http://www.prathamopenschool.org/hn/Lesson/LES84\n"
     ]
    },
    {
     "name": "stderr",
     "output_type": "stream",
     "text": [
      "      content: 3014: सामाजिक भेदभाव\n"
     ]
    },
    {
     "name": "stdout",
     "output_type": "stream",
     "text": [
      "      in on_lesson_page http://www.prathamopenschool.org/hn/Lesson/LES85\n"
     ]
    },
    {
     "name": "stderr",
     "output_type": "stream",
     "text": [
      "      content: 3015: अभिगमन\n"
     ]
    },
    {
     "name": "stdout",
     "output_type": "stream",
     "text": [
      "      in on_lesson_page http://www.prathamopenschool.org/hn/Lesson/LES86\n"
     ]
    },
    {
     "name": "stderr",
     "output_type": "stream",
     "text": [
      "      content: 3016: गॉव में जीवन\n"
     ]
    },
    {
     "name": "stdout",
     "output_type": "stream",
     "text": [
      "      in on_lesson_page http://www.prathamopenschool.org/hn/Lesson/LES87\n"
     ]
    },
    {
     "name": "stderr",
     "output_type": "stream",
     "text": [
      "      content: 3017: एक पारंपरिक किसान\n"
     ]
    },
    {
     "name": "stdout",
     "output_type": "stream",
     "text": [
      "      in on_lesson_page http://www.prathamopenschool.org/hn/Lesson/LES88\n"
     ]
    },
    {
     "name": "stderr",
     "output_type": "stream",
     "text": [
      "      content: 3018: जैविक खेती\n"
     ]
    },
    {
     "name": "stdout",
     "output_type": "stream",
     "text": [
      "      in on_lesson_page http://www.prathamopenschool.org/hn/Lesson/LES89\n"
     ]
    },
    {
     "name": "stderr",
     "output_type": "stream",
     "text": [
      "      content: 3019: वनोन्मूलन के प्रभाव\n"
     ]
    },
    {
     "name": "stdout",
     "output_type": "stream",
     "text": [
      "      in on_lesson_page http://www.prathamopenschool.org/hn/Lesson/LES90\n"
     ]
    },
    {
     "name": "stderr",
     "output_type": "stream",
     "text": [
      "      content: 3020: वन-गुज्जर\n"
     ]
    },
    {
     "name": "stdout",
     "output_type": "stream",
     "text": [
      "      in on_lesson_page http://www.prathamopenschool.org/hn/Lesson/LES91\n"
     ]
    },
    {
     "name": "stderr",
     "output_type": "stream",
     "text": [
      "      content: 3001: बाघ\n"
     ]
    },
    {
     "name": "stdout",
     "output_type": "stream",
     "text": [
      "      in on_lesson_page http://www.prathamopenschool.org/hn/Lesson/LES72\n"
     ]
    },
    {
     "name": "stderr",
     "output_type": "stream",
     "text": [
      "      content: 3021: आकृति बनाएं\n"
     ]
    },
    {
     "name": "stdout",
     "output_type": "stream",
     "text": [
      "      in on_lesson_page http://www.prathamopenschool.org/hn/Lesson/LES92\n"
     ]
    },
    {
     "name": "stderr",
     "output_type": "stream",
     "text": [
      "      content: 3022: आकृति - परिमाप\n"
     ]
    },
    {
     "name": "stdout",
     "output_type": "stream",
     "text": [
      "      in on_lesson_page http://www.prathamopenschool.org/hn/Lesson/LES93\n"
     ]
    },
    {
     "name": "stderr",
     "output_type": "stream",
     "text": [
      "      content: 3023: आकृति- क्षेत्रफ़ल\n"
     ]
    },
    {
     "name": "stdout",
     "output_type": "stream",
     "text": [
      "      in on_lesson_page http://www.prathamopenschool.org/hn/Lesson/LES94\n"
     ]
    },
    {
     "name": "stderr",
     "output_type": "stream",
     "text": [
      "      content: 3024: आकृति- तोरन\n"
     ]
    },
    {
     "name": "stdout",
     "output_type": "stream",
     "text": [
      "      in on_lesson_page http://www.prathamopenschool.org/hn/Lesson/LES95\n"
     ]
    },
    {
     "name": "stderr",
     "output_type": "stream",
     "text": [
      "      content: 3025: गुणक\n"
     ]
    },
    {
     "name": "stdout",
     "output_type": "stream",
     "text": [
      "      in on_lesson_page http://www.prathamopenschool.org/hn/Lesson/LES96\n"
     ]
    },
    {
     "name": "stderr",
     "output_type": "stream",
     "text": [
      "      content: 3026: पैटर्न\n"
     ]
    },
    {
     "name": "stdout",
     "output_type": "stream",
     "text": [
      "      in on_lesson_page http://www.prathamopenschool.org/hn/Lesson/LES97\n"
     ]
    },
    {
     "name": "stderr",
     "output_type": "stream",
     "text": [
      "      content: 3027: नक्षा बनाएं\n"
     ]
    },
    {
     "name": "stdout",
     "output_type": "stream",
     "text": [
      "      in on_lesson_page http://www.prathamopenschool.org/hn/Lesson/LES98\n"
     ]
    },
    {
     "name": "stderr",
     "output_type": "stream",
     "text": [
      "      content: 3028: फर्श का नक्षा\n"
     ]
    },
    {
     "name": "stdout",
     "output_type": "stream",
     "text": [
      "      in on_lesson_page http://www.prathamopenschool.org/hn/Lesson/LES99\n"
     ]
    },
    {
     "name": "stderr",
     "output_type": "stream",
     "text": [
      "      content: 3029: लम्बाई नापें\n"
     ]
    },
    {
     "name": "stdout",
     "output_type": "stream",
     "text": [
      "      in on_lesson_page http://www.prathamopenschool.org/hn/Lesson/LES100\n"
     ]
    },
    {
     "name": "stderr",
     "output_type": "stream",
     "text": [
      "      content: 3030: मापिय रूपांतरण\n"
     ]
    },
    {
     "name": "stdout",
     "output_type": "stream",
     "text": [
      "      in on_lesson_page http://www.prathamopenschool.org/hn/Lesson/LES101\n"
     ]
    },
    {
     "name": "stderr",
     "output_type": "stream",
     "text": [
      "      content: 3031: परिमाप और क्षेत्रफ़ल\n"
     ]
    },
    {
     "name": "stdout",
     "output_type": "stream",
     "text": [
      "      in on_lesson_page http://www.prathamopenschool.org/hn/Lesson/LES102\n"
     ]
    },
    {
     "name": "stderr",
     "output_type": "stream",
     "text": [
      "      content: 3032: असमान आकृतियों का क्षेत्रफ़ल\n"
     ]
    },
    {
     "name": "stdout",
     "output_type": "stream",
     "text": [
      "      in on_lesson_page http://www.prathamopenschool.org/hn/Lesson/LES103\n"
     ]
    },
    {
     "name": "stderr",
     "output_type": "stream",
     "text": [
      "      content: 3033: आलेख\n"
     ]
    },
    {
     "name": "stdout",
     "output_type": "stream",
     "text": [
      "      in on_lesson_page http://www.prathamopenschool.org/hn/Lesson/LES104\n"
     ]
    },
    {
     "name": "stderr",
     "output_type": "stream",
     "text": [
      "      content: 3034: गुणा करना सीखें\n"
     ]
    },
    {
     "name": "stdout",
     "output_type": "stream",
     "text": [
      "      in on_lesson_page http://www.prathamopenschool.org/hn/Lesson/LES105\n"
     ]
    },
    {
     "name": "stderr",
     "output_type": "stream",
     "text": [
      "      content: 3035: आयतन\n"
     ]
    },
    {
     "name": "stdout",
     "output_type": "stream",
     "text": [
      "      in on_lesson_page http://www.prathamopenschool.org/hn/Lesson/LES106\n"
     ]
    },
    {
     "name": "stderr",
     "output_type": "stream",
     "text": [
      "      content: 4102: वातावरण\n"
     ]
    },
    {
     "name": "stdout",
     "output_type": "stream",
     "text": [
      "      in on_lesson_page http://www.prathamopenschool.org/mr/Lesson/LES474\n"
     ]
    },
    {
     "name": "stderr",
     "output_type": "stream",
     "text": [
      "      content: 4103: भूरूपांचे विविध प्रकार\n"
     ]
    },
    {
     "name": "stdout",
     "output_type": "stream",
     "text": [
      "      in on_lesson_page http://www.prathamopenschool.org/mr/Lesson/LES475\n"
     ]
    },
    {
     "name": "stderr",
     "output_type": "stream",
     "text": [
      "      content: 4104: रोग निर्माण करणारे सूक्ष्मजीव\n"
     ]
    },
    {
     "name": "stdout",
     "output_type": "stream",
     "text": [
      "      in on_lesson_page http://www.prathamopenschool.org/mr/Lesson/LES476\n"
     ]
    },
    {
     "name": "stderr",
     "output_type": "stream",
     "text": [
      "      content: 4105: भारतातील घरे\n"
     ]
    },
    {
     "name": "stdout",
     "output_type": "stream",
     "text": [
      "      in on_lesson_page http://www.prathamopenschool.org/mr/Lesson/LES477\n"
     ]
    },
    {
     "name": "stderr",
     "output_type": "stream",
     "text": [
      "      content: 4106: शेतीची सुरवात कशी झाली?\n"
     ]
    },
    {
     "name": "stdout",
     "output_type": "stream",
     "text": [
      "      in on_lesson_page http://www.prathamopenschool.org/mr/Lesson/LES478\n"
     ]
    },
    {
     "name": "stderr",
     "output_type": "stream",
     "text": [
      "      content: 4107: शिकार करून अन्न गोळा करणारे\n"
     ]
    },
    {
     "name": "stdout",
     "output_type": "stream",
     "text": [
      "      in on_lesson_page http://www.prathamopenschool.org/mr/Lesson/LES479\n"
     ]
    },
    {
     "name": "stderr",
     "output_type": "stream",
     "text": [
      "      content: 4108: उल्का धुमकेतू लघुग्रह आणि कृत्रिम उपग्रह\n"
     ]
    },
    {
     "name": "stdout",
     "output_type": "stream",
     "text": [
      "      in on_lesson_page http://www.prathamopenschool.org/mr/Lesson/LES480\n"
     ]
    },
    {
     "name": "stderr",
     "output_type": "stream",
     "text": [
      "      content: 4109: माझी शाळा\n"
     ]
    },
    {
     "name": "stdout",
     "output_type": "stream",
     "text": [
      "      in on_lesson_page http://www.prathamopenschool.org/mr/Lesson/LES481\n"
     ]
    },
    {
     "name": "stderr",
     "output_type": "stream",
     "text": [
      "      content: 4110: माझ्या आजी-आजोबांचे जीवन\n"
     ]
    },
    {
     "name": "stdout",
     "output_type": "stream",
     "text": [
      "      in on_lesson_page http://www.prathamopenschool.org/mr/Lesson/LES482\n"
     ]
    },
    {
     "name": "stderr",
     "output_type": "stream",
     "text": [
      "      content: 4111: रोगप्रतिबंध\n"
     ]
    },
    {
     "name": "stdout",
     "output_type": "stream",
     "text": [
      "      in on_lesson_page http://www.prathamopenschool.org/mr/Lesson/LES483\n"
     ]
    },
    {
     "name": "stderr",
     "output_type": "stream",
     "text": [
      "      content: 4112: आकाशातील उपग्रह\n"
     ]
    },
    {
     "name": "stdout",
     "output_type": "stream",
     "text": [
      "      in on_lesson_page http://www.prathamopenschool.org/mr/Lesson/LES484\n"
     ]
    },
    {
     "name": "stderr",
     "output_type": "stream",
     "text": [
      "      content: 4113: नकाशाचे घटक\n"
     ]
    },
    {
     "name": "stdout",
     "output_type": "stream",
     "text": [
      "      in on_lesson_page http://www.prathamopenschool.org/mr/Lesson/LES485\n"
     ]
    },
    {
     "name": "stderr",
     "output_type": "stream",
     "text": [
      "      content: 4114: रोगप्रसार\n"
     ]
    },
    {
     "name": "stdout",
     "output_type": "stream",
     "text": [
      "      in on_lesson_page http://www.prathamopenschool.org/mr/Lesson/LES486\n"
     ]
    },
    {
     "name": "stderr",
     "output_type": "stream",
     "text": [
      "      content: 4115: शिकाऱ्यांची साधने\n"
     ]
    },
    {
     "name": "stdout",
     "output_type": "stream",
     "text": [
      "      in on_lesson_page http://www.prathamopenschool.org/mr/Lesson/LES487\n"
     ]
    },
    {
     "name": "stderr",
     "output_type": "stream",
     "text": [
      "      content: 4116: चाकाचे उपयोग\n"
     ]
    },
    {
     "name": "stdout",
     "output_type": "stream",
     "text": [
      "      in on_lesson_page http://www.prathamopenschool.org/mr/Lesson/LES488\n"
     ]
    },
    {
     "name": "stderr",
     "output_type": "stream",
     "text": [
      "      content: 4117: सजीवांच्या गरजा\n"
     ]
    },
    {
     "name": "stdout",
     "output_type": "stream",
     "text": [
      "      in on_lesson_page http://www.prathamopenschool.org/mr/Lesson/LES489\n"
     ]
    },
    {
     "name": "stderr",
     "output_type": "stream",
     "text": [
      "      content: 4136: रोग उत्पन्न करणारे सूक्ष्मजीव\n"
     ]
    },
    {
     "name": "stdout",
     "output_type": "stream",
     "text": [
      "      in on_lesson_page http://www.prathamopenschool.org/mr/Lesson/LES490\n"
     ]
    },
    {
     "name": "stderr",
     "output_type": "stream",
     "text": [
      "      content: 4137: आपले श्वसन\n"
     ]
    },
    {
     "name": "stdout",
     "output_type": "stream",
     "text": [
      "      in on_lesson_page http://www.prathamopenschool.org/mr/Lesson/LES491\n"
     ]
    },
    {
     "name": "stderr",
     "output_type": "stream",
     "text": [
      "      content: 4138: रोगांचा प्रतिबंध\n"
     ]
    },
    {
     "name": "stdout",
     "output_type": "stream",
     "text": [
      "      in on_lesson_page http://www.prathamopenschool.org/mr/Lesson/LES492\n"
     ]
    },
    {
     "name": "stderr",
     "output_type": "stream",
     "text": [
      "      content: 4139: वनस्पती आणि प्राण्यांचे संरक्षण\n"
     ]
    },
    {
     "name": "stdout",
     "output_type": "stream",
     "text": [
      "      in on_lesson_page http://www.prathamopenschool.org/mr/Lesson/LES493\n"
     ]
    },
    {
     "name": "stderr",
     "output_type": "stream",
     "text": [
      "      content: 4140: जगातील संसाधने\n"
     ]
    },
    {
     "name": "stdout",
     "output_type": "stream",
     "text": [
      "      in on_lesson_page http://www.prathamopenschool.org/mr/Lesson/LES494\n"
     ]
    },
    {
     "name": "stderr",
     "output_type": "stream",
     "text": [
      "      content: 4141: रोगांचा प्रसार\n"
     ]
    },
    {
     "name": "stdout",
     "output_type": "stream",
     "text": [
      "      in on_lesson_page http://www.prathamopenschool.org/mr/Lesson/LES495\n"
     ]
    },
    {
     "name": "stderr",
     "output_type": "stream",
     "text": [
      "      content: 4118: चढता आणि उतरता क्रम\n"
     ]
    },
    {
     "name": "stdout",
     "output_type": "stream",
     "text": [
      "      in on_lesson_page http://www.prathamopenschool.org/mr/Lesson/LES496\n"
     ]
    },
    {
     "name": "stderr",
     "output_type": "stream",
     "text": [
      "      content: 4119: कोनांची रचना\n"
     ]
    },
    {
     "name": "stdout",
     "output_type": "stream",
     "text": [
      "      in on_lesson_page http://www.prathamopenschool.org/mr/Lesson/LES497\n"
     ]
    },
    {
     "name": "stderr",
     "output_type": "stream",
     "text": [
      "      content: 4120: वर्तुळाची रचना\n"
     ]
    },
    {
     "name": "stdout",
     "output_type": "stream",
     "text": [
      "      in on_lesson_page http://www.prathamopenschool.org/mr/Lesson/LES498\n"
     ]
    },
    {
     "name": "stderr",
     "output_type": "stream",
     "text": [
      "      content: 4121: वर्तुळाची रचना 2\n"
     ]
    },
    {
     "name": "stdout",
     "output_type": "stream",
     "text": [
      "      in on_lesson_page http://www.prathamopenschool.org/mr/Lesson/LES499\n"
     ]
    },
    {
     "name": "stderr",
     "output_type": "stream",
     "text": [
      "      content: 4122: रेषाखंडाची रचना\n"
     ]
    },
    {
     "name": "stdout",
     "output_type": "stream",
     "text": [
      "      in on_lesson_page http://www.prathamopenschool.org/mr/Lesson/LES500\n"
     ]
    },
    {
     "name": "stderr",
     "output_type": "stream",
     "text": [
      "      content: 4123: लंब रेषेची रचना\n"
     ]
    },
    {
     "name": "stdout",
     "output_type": "stream",
     "text": [
      "      in on_lesson_page http://www.prathamopenschool.org/mr/Lesson/LES501\n"
     ]
    },
    {
     "name": "stderr",
     "output_type": "stream",
     "text": [
      "      content: 4124: मेट्रिक पद्धतीत रुपांतरण\n"
     ]
    },
    {
     "name": "stdout",
     "output_type": "stream",
     "text": [
      "      in on_lesson_page http://www.prathamopenschool.org/mr/Lesson/LES502\n"
     ]
    },
    {
     "name": "stderr",
     "output_type": "stream",
     "text": [
      "      content: 4125: भागाकाराची वेळ\n"
     ]
    },
    {
     "name": "stdout",
     "output_type": "stream",
     "text": [
      "      in on_lesson_page http://www.prathamopenschool.org/mr/Lesson/LES503\n"
     ]
    },
    {
     "name": "stderr",
     "output_type": "stream",
     "text": [
      "      content: 4126: बिंदू ते रेषा\n"
     ]
    },
    {
     "name": "stdout",
     "output_type": "stream",
     "text": [
      "      in on_lesson_page http://www.prathamopenschool.org/mr/Lesson/LES504\n"
     ]
    },
    {
     "name": "stderr",
     "output_type": "stream",
     "text": [
      "      content: 4127: स्तंभालेख काढणे\n"
     ]
    },
    {
     "name": "stdout",
     "output_type": "stream",
     "text": [
      "      in on_lesson_page http://www.prathamopenschool.org/mr/Lesson/LES505\n"
     ]
    },
    {
     "name": "stderr",
     "output_type": "stream",
     "text": [
      "      content: 4128: एकूण वेळ काढणे\n"
     ]
    },
    {
     "name": "stdout",
     "output_type": "stream",
     "text": [
      "      in on_lesson_page http://www.prathamopenschool.org/mr/Lesson/LES506\n"
     ]
    },
    {
     "name": "stderr",
     "output_type": "stream",
     "text": [
      "      content: 4129: स्तंभालेख म्हणजे काय?\n"
     ]
    },
    {
     "name": "stdout",
     "output_type": "stream",
     "text": [
      "      in on_lesson_page http://www.prathamopenschool.org/mr/Lesson/LES507\n"
     ]
    },
    {
     "name": "stderr",
     "output_type": "stream",
     "text": [
      "      content: 4130: कोनांची ओळख\n"
     ]
    },
    {
     "name": "stdout",
     "output_type": "stream",
     "text": [
      "      in on_lesson_page http://www.prathamopenschool.org/mr/Lesson/LES508\n"
     ]
    },
    {
     "name": "stderr",
     "output_type": "stream",
     "text": [
      "      content: 4131: गुणाकाराची वेळ\n"
     ]
    },
    {
     "name": "stdout",
     "output_type": "stream",
     "text": [
      "      in on_lesson_page http://www.prathamopenschool.org/mr/Lesson/LES509\n"
     ]
    },
    {
     "name": "stderr",
     "output_type": "stream",
     "text": [
      "      content: 4132: 10,100 आणि 1000 ने गुणणे\n"
     ]
    },
    {
     "name": "stdout",
     "output_type": "stream",
     "text": [
      "      in on_lesson_page http://www.prathamopenschool.org/mr/Lesson/LES510\n"
     ]
    },
    {
     "name": "stderr",
     "output_type": "stream",
     "text": [
      "      content: 4133: मूळ आणि संयुक्त संख्या\n"
     ]
    },
    {
     "name": "stdout",
     "output_type": "stream",
     "text": [
      "      in on_lesson_page http://www.prathamopenschool.org/mr/Lesson/LES511\n"
     ]
    },
    {
     "name": "stderr",
     "output_type": "stream",
     "text": [
      "      content: 4134: एकमान पद्धतीने सोडवा\n"
     ]
    },
    {
     "name": "stdout",
     "output_type": "stream",
     "text": [
      "      in on_lesson_page http://www.prathamopenschool.org/mr/Lesson/LES512\n"
     ]
    },
    {
     "name": "stderr",
     "output_type": "stream",
     "text": [
      "      content: 4135: कंपासचा वापर\n"
     ]
    },
    {
     "name": "stdout",
     "output_type": "stream",
     "text": [
      "      in on_lesson_page http://www.prathamopenschool.org/mr/Lesson/LES513\n"
     ]
    },
    {
     "name": "stderr",
     "output_type": "stream",
     "text": [
      "      content: 4165: परिमिती आणि क्षेत्रफळ ओळख\n"
     ]
    },
    {
     "name": "stdout",
     "output_type": "stream",
     "text": [
      "      in on_lesson_page http://www.prathamopenschool.org/mr/Lesson/LES514\n"
     ]
    },
    {
     "name": "stderr",
     "output_type": "stream",
     "text": [
      "      content: 4166: अनियमित आकारांचे क्षेत्रफळ\n"
     ]
    },
    {
     "name": "stdout",
     "output_type": "stream",
     "text": [
      "      in on_lesson_page http://www.prathamopenschool.org/mr/Lesson/LES515\n"
     ]
    },
    {
     "name": "stderr",
     "output_type": "stream",
     "text": [
      "      content: 4167: वातावरण\n"
     ]
    },
    {
     "name": "stdout",
     "output_type": "stream",
     "text": [
      "      in on_lesson_page http://www.prathamopenschool.org/mr/Lesson/LES516\n"
     ]
    },
    {
     "name": "stderr",
     "output_type": "stream",
     "text": [
      "      content: 4168: ओझोन स्तराचा ऱ्हास\n"
     ]
    },
    {
     "name": "stdout",
     "output_type": "stream",
     "text": [
      "      in on_lesson_page http://www.prathamopenschool.org/mr/Lesson/LES517\n"
     ]
    },
    {
     "name": "stderr",
     "output_type": "stream",
     "text": [
      "      content: 4169: भूरूपांचे विविध प्रकार\n"
     ]
    },
    {
     "name": "stdout",
     "output_type": "stream",
     "text": [
      "      in on_lesson_page http://www.prathamopenschool.org/mr/Lesson/LES518\n"
     ]
    },
    {
     "name": "stderr",
     "output_type": "stream",
     "text": [
      "      content: 4170: पचन\n"
     ]
    },
    {
     "name": "stdout",
     "output_type": "stream",
     "text": [
      "      in on_lesson_page http://www.prathamopenschool.org/mr/Lesson/LES519\n"
     ]
    },
    {
     "name": "stderr",
     "output_type": "stream",
     "text": [
      "      content: 4171: गवत, झुडपे आणि झाडे\n"
     ]
    },
    {
     "name": "stdout",
     "output_type": "stream",
     "text": [
      "      in on_lesson_page http://www.prathamopenschool.org/mr/Lesson/LES520\n"
     ]
    },
    {
     "name": "stderr",
     "output_type": "stream",
     "text": [
      "      content: 4172: ऊर्जा अक्षय्यतेचा नियम\n"
     ]
    },
    {
     "name": "stdout",
     "output_type": "stream",
     "text": [
      "      in on_lesson_page http://www.prathamopenschool.org/mr/Lesson/LES521\n"
     ]
    },
    {
     "name": "stderr",
     "output_type": "stream",
     "text": [
      "      content: 4173: पृथ्वीचे थर\n"
     ]
    },
    {
     "name": "stdout",
     "output_type": "stream",
     "text": [
      "      in on_lesson_page http://www.prathamopenschool.org/mr/Lesson/LES522\n"
     ]
    },
    {
     "name": "stderr",
     "output_type": "stream",
     "text": [
      "      content: 4174: मारटी आणि अन्न कारखाना\n"
     ]
    },
    {
     "name": "stdout",
     "output_type": "stream",
     "text": [
      "      in on_lesson_page http://www.prathamopenschool.org/mr/Lesson/LES523\n"
     ]
    },
    {
     "name": "stderr",
     "output_type": "stream",
     "text": [
      "      content: 4175: उर्जेचे अपारंपारिक स्त्रोत\n"
     ]
    },
    {
     "name": "stdout",
     "output_type": "stream",
     "text": [
      "      in on_lesson_page http://www.prathamopenschool.org/mr/Lesson/LES524\n"
     ]
    },
    {
     "name": "stderr",
     "output_type": "stream",
     "text": [
      "      content: 4176: गतीचे प्रकार\n"
     ]
    },
    {
     "name": "stdout",
     "output_type": "stream",
     "text": [
      "      in on_lesson_page http://www.prathamopenschool.org/mr/Lesson/LES525\n"
     ]
    },
    {
     "name": "stderr",
     "output_type": "stream",
     "text": [
      "      content: 4177: जगातील संसाधने\n"
     ]
    },
    {
     "name": "stdout",
     "output_type": "stream",
     "text": [
      "      in on_lesson_page http://www.prathamopenschool.org/mr/Lesson/LES526\n"
     ]
    },
    {
     "name": "stderr",
     "output_type": "stream",
     "text": [
      "      content: 4178: खोड - वनस्पतींच्या जीवनाचा मार्ग\n"
     ]
    },
    {
     "name": "stdout",
     "output_type": "stream",
     "text": [
      "      in on_lesson_page http://www.prathamopenschool.org/mr/Lesson/LES527\n"
     ]
    },
    {
     "name": "stderr",
     "output_type": "stream",
     "text": [
      "      content: 4179: सूर्यमाला\n"
     ]
    },
    {
     "name": "stdout",
     "output_type": "stream",
     "text": [
      "      in on_lesson_page http://www.prathamopenschool.org/mr/Lesson/LES528\n"
     ]
    },
    {
     "name": "stderr",
     "output_type": "stream",
     "text": [
      "      content: 4142: बैजिक राशींची बेरीज आणि वजाबाकी\n"
     ]
    },
    {
     "name": "stdout",
     "output_type": "stream",
     "text": [
      "      in on_lesson_page http://www.prathamopenschool.org/mr/Lesson/LES529\n"
     ]
    },
    {
     "name": "stderr",
     "output_type": "stream",
     "text": [
      "      content: 4143: क्षेत्रफळाबद्दल सर्व काही\n"
     ]
    },
    {
     "name": "stdout",
     "output_type": "stream",
     "text": [
      "      in on_lesson_page http://www.prathamopenschool.org/mr/Lesson/LES530\n"
     ]
    },
    {
     "name": "stderr",
     "output_type": "stream",
     "text": [
      "      content: 4144: पूल जोडा\n"
     ]
    },
    {
     "name": "stdout",
     "output_type": "stream",
     "text": [
      "      in on_lesson_page http://www.prathamopenschool.org/mr/Lesson/LES531\n"
     ]
    },
    {
     "name": "stderr",
     "output_type": "stream",
     "text": [
      "      content: 4145: वितरण गुणधर्माने वर्ग काढणे\n"
     ]
    },
    {
     "name": "stdout",
     "output_type": "stream",
     "text": [
      "      in on_lesson_page http://www.prathamopenschool.org/mr/Lesson/LES532\n"
     ]
    },
    {
     "name": "stderr",
     "output_type": "stream",
     "text": [
      "      content: 4146: विशिष्ठ मापांच्या कोणाची रचना\n"
     ]
    },
    {
     "name": "stdout",
     "output_type": "stream",
     "text": [
      "      in on_lesson_page http://www.prathamopenschool.org/mr/Lesson/LES533\n"
     ]
    },
    {
     "name": "stderr",
     "output_type": "stream",
     "text": [
      "      content: 4147: विशिष्ठ मापांच्या कोणाची रचना 2\n"
     ]
    },
    {
     "name": "stdout",
     "output_type": "stream",
     "text": [
      "      in on_lesson_page http://www.prathamopenschool.org/mr/Lesson/LES534\n"
     ]
    },
    {
     "name": "stderr",
     "output_type": "stream",
     "text": [
      "      content: 4148: रेषेची रचना\n"
     ]
    },
    {
     "name": "stdout",
     "output_type": "stream",
     "text": [
      "      in on_lesson_page http://www.prathamopenschool.org/mr/Lesson/LES535\n"
     ]
    },
    {
     "name": "stderr",
     "output_type": "stream",
     "text": [
      "      content: 4149: बैजिक राशींनी नियम तयार करणे\n"
     ]
    },
    {
     "name": "stdout",
     "output_type": "stream",
     "text": [
      "      in on_lesson_page http://www.prathamopenschool.org/mr/Lesson/LES536\n"
     ]
    },
    {
     "name": "stderr",
     "output_type": "stream",
     "text": [
      "      content: 4150: बिंदू ते रेषा\n"
     ]
    },
    {
     "name": "stdout",
     "output_type": "stream",
     "text": [
      "      in on_lesson_page http://www.prathamopenschool.org/mr/Lesson/LES537\n"
     ]
    },
    {
     "name": "stderr",
     "output_type": "stream",
     "text": [
      "      content: 4151: स्तंभालेख काढणे\n"
     ]
    },
    {
     "name": "stdout",
     "output_type": "stream",
     "text": [
      "      in on_lesson_page http://www.prathamopenschool.org/mr/Lesson/LES538\n"
     ]
    },
    {
     "name": "stderr",
     "output_type": "stream",
     "text": [
      "      content: 4152: समांतर रेषांची रचना\n"
     ]
    },
    {
     "name": "stdout",
     "output_type": "stream",
     "text": [
      "      in on_lesson_page http://www.prathamopenschool.org/mr/Lesson/LES539\n"
     ]
    },
    {
     "name": "stderr",
     "output_type": "stream",
     "text": [
      "      content: 4153: अवयव\n"
     ]
    },
    {
     "name": "stdout",
     "output_type": "stream",
     "text": [
      "      in on_lesson_page http://www.prathamopenschool.org/mr/Lesson/LES540\n"
     ]
    },
    {
     "name": "stderr",
     "output_type": "stream",
     "text": [
      "      content: 4154: चलाचा वापर करून नियम तयार करणे\n"
     ]
    },
    {
     "name": "stdout",
     "output_type": "stream",
     "text": [
      "      in on_lesson_page http://www.prathamopenschool.org/mr/Lesson/LES541\n"
     ]
    },
    {
     "name": "stderr",
     "output_type": "stream",
     "text": [
      "      content: 4155: स्तंभालेख म्हणजे काय?\n"
     ]
    },
    {
     "name": "stdout",
     "output_type": "stream",
     "text": [
      "      in on_lesson_page http://www.prathamopenschool.org/mr/Lesson/LES542\n"
     ]
    },
    {
     "name": "stderr",
     "output_type": "stream",
     "text": [
      "      content: 4156: अनियमित आकार आणि क्षेत्रफळ\n"
     ]
    },
    {
     "name": "stdout",
     "output_type": "stream",
     "text": [
      "      in on_lesson_page http://www.prathamopenschool.org/mr/Lesson/LES543\n"
     ]
    },
    {
     "name": "stderr",
     "output_type": "stream",
     "text": [
      "      content: 4157: कोनांची ओळख\n"
     ]
    },
    {
     "name": "stdout",
     "output_type": "stream",
     "text": [
      "      in on_lesson_page http://www.prathamopenschool.org/mr/Lesson/LES544\n"
     ]
    },
    {
     "name": "stderr",
     "output_type": "stream",
     "text": [
      "      content: 4158: सोप्या पद्धतीने गुणाकार\n"
     ]
    },
    {
     "name": "stdout",
     "output_type": "stream",
     "text": [
      "      in on_lesson_page http://www.prathamopenschool.org/mr/Lesson/LES545\n"
     ]
    },
    {
     "name": "stderr",
     "output_type": "stream",
     "text": [
      "      content: 4159: पुर्णांकांचा गुणाकार\n"
     ]
    },
    {
     "name": "stdout",
     "output_type": "stream",
     "text": [
      "      in on_lesson_page http://www.prathamopenschool.org/mr/Lesson/LES546\n"
     ]
    },
    {
     "name": "stderr",
     "output_type": "stream",
     "text": [
      "      content: 4160: ऋण संख्या\n"
     ]
    },
    {
     "name": "stdout",
     "output_type": "stream",
     "text": [
      "      in on_lesson_page http://www.prathamopenschool.org/mr/Lesson/LES547\n"
     ]
    },
    {
     "name": "stderr",
     "output_type": "stream",
     "text": [
      "      content: 4161: समीकरणांची उदाहरणे\n"
     ]
    },
    {
     "name": "stdout",
     "output_type": "stream",
     "text": [
      "      in on_lesson_page http://www.prathamopenschool.org/mr/Lesson/LES548\n"
     ]
    },
    {
     "name": "stderr",
     "output_type": "stream",
     "text": [
      "      content: 4162: मूळ आणि संयुक्त संख्या\n"
     ]
    },
    {
     "name": "stdout",
     "output_type": "stream",
     "text": [
      "      in on_lesson_page http://www.prathamopenschool.org/mr/Lesson/LES549\n"
     ]
    },
    {
     "name": "stderr",
     "output_type": "stream",
     "text": [
      "      content: 4163: पायथागोरस प्रमेयाचा पडताळा\n"
     ]
    },
    {
     "name": "stdout",
     "output_type": "stream",
     "text": [
      "      in on_lesson_page http://www.prathamopenschool.org/mr/Lesson/LES550\n"
     ]
    },
    {
     "name": "stderr",
     "output_type": "stream",
     "text": [
      "      content: 4164: बीजगणिताचा जादुगार\n"
     ]
    },
    {
     "name": "stdout",
     "output_type": "stream",
     "text": [
      "      in on_lesson_page http://www.prathamopenschool.org/mr/Lesson/LES551\n"
     ]
    },
    {
     "name": "stderr",
     "output_type": "stream",
     "text": [
      "      content: 4199: आम्ल आम्लारी अभिक्रिया\n"
     ]
    },
    {
     "name": "stdout",
     "output_type": "stream",
     "text": [
      "      in on_lesson_page http://www.prathamopenschool.org/mr/Lesson/LES552\n"
     ]
    },
    {
     "name": "stderr",
     "output_type": "stream",
     "text": [
      "      content: 4200: अन्ननलिका\n"
     ]
    },
    {
     "name": "stdout",
     "output_type": "stream",
     "text": [
      "      in on_lesson_page http://www.prathamopenschool.org/mr/Lesson/LES553\n"
     ]
    },
    {
     "name": "stderr",
     "output_type": "stream",
     "text": [
      "      content: 4201: सूत्राच्या दृष्टीकोनातून\n"
     ]
    },
    {
     "name": "stdout",
     "output_type": "stream",
     "text": [
      "      in on_lesson_page http://www.prathamopenschool.org/mr/Lesson/LES554\n"
     ]
    },
    {
     "name": "stderr",
     "output_type": "stream",
     "text": [
      "      content: 4202: पदार्थाच्या अवस्थेतील बदल\n"
     ]
    },
    {
     "name": "stdout",
     "output_type": "stream",
     "text": [
      "      in on_lesson_page http://www.prathamopenschool.org/mr/Lesson/LES555\n"
     ]
    },
    {
     "name": "stderr",
     "output_type": "stream",
     "text": [
      "      content: 4203: आपल्या भोवतालचे बदल\n"
     ]
    },
    {
     "name": "stdout",
     "output_type": "stream",
     "text": [
      "      in on_lesson_page http://www.prathamopenschool.org/mr/Lesson/LES556\n"
     ]
    },
    {
     "name": "stderr",
     "output_type": "stream",
     "text": [
      "      content: 4204: अंमली पदार्थ वापरल्याचे दुष्परिणाम\n"
     ]
    },
    {
     "name": "stdout",
     "output_type": "stream",
     "text": [
      "      in on_lesson_page http://www.prathamopenschool.org/mr/Lesson/LES557\n"
     ]
    },
    {
     "name": "stderr",
     "output_type": "stream",
     "text": [
      "      content: 4205: प्रकाशाचे अपस्करण\n"
     ]
    },
    {
     "name": "stdout",
     "output_type": "stream",
     "text": [
      "      in on_lesson_page http://www.prathamopenschool.org/mr/Lesson/LES558\n"
     ]
    },
    {
     "name": "stderr",
     "output_type": "stream",
     "text": [
      "      content: 4206: अमिबाचे अन्नग्रहण आणि पचन\n"
     ]
    },
    {
     "name": "stdout",
     "output_type": "stream",
     "text": [
      "      in on_lesson_page http://www.prathamopenschool.org/mr/Lesson/LES559\n"
     ]
    },
    {
     "name": "stderr",
     "output_type": "stream",
     "text": [
      "      content: 4207: गोड्या पाण्याची संसाधने\n"
     ]
    },
    {
     "name": "stdout",
     "output_type": "stream",
     "text": [
      "      in on_lesson_page http://www.prathamopenschool.org/mr/Lesson/LES560\n"
     ]
    },
    {
     "name": "stderr",
     "output_type": "stream",
     "text": [
      "      content: 4208: तडितवाहक\n"
     ]
    },
    {
     "name": "stdout",
     "output_type": "stream",
     "text": [
      "      in on_lesson_page http://www.prathamopenschool.org/mr/Lesson/LES561\n"
     ]
    },
    {
     "name": "stderr",
     "output_type": "stream",
     "text": [
      "      content: 4209: पिण्यायोग्य पाणी\n"
     ]
    },
    {
     "name": "stdout",
     "output_type": "stream",
     "text": [
      "      in on_lesson_page http://www.prathamopenschool.org/mr/Lesson/LES562\n"
     ]
    },
    {
     "name": "stderr",
     "output_type": "stream",
     "text": [
      "      content: 4210: परागण आणि फलन\n"
     ]
    },
    {
     "name": "stdout",
     "output_type": "stream",
     "text": [
      "      in on_lesson_page http://www.prathamopenschool.org/mr/Lesson/LES563\n"
     ]
    },
    {
     "name": "stderr",
     "output_type": "stream",
     "text": [
      "      content: 4211: प्रारण\n"
     ]
    },
    {
     "name": "stdout",
     "output_type": "stream",
     "text": [
      "      in on_lesson_page http://www.prathamopenschool.org/mr/Lesson/LES564\n"
     ]
    },
    {
     "name": "stderr",
     "output_type": "stream",
     "text": [
      "      content: 4212: पावसाच्या पाण्याचे संवर्धन\n"
     ]
    },
    {
     "name": "stdout",
     "output_type": "stream",
     "text": [
      "      in on_lesson_page http://www.prathamopenschool.org/mr/Lesson/LES565\n"
     ]
    },
    {
     "name": "stderr",
     "output_type": "stream",
     "text": [
      "      content: 4213: धातु आणि अधातु यांची पाण्याबरोबर अभिक्रिया\n"
     ]
    },
    {
     "name": "stdout",
     "output_type": "stream",
     "text": [
      "      in on_lesson_page http://www.prathamopenschool.org/mr/Lesson/LES566\n"
     ]
    },
    {
     "name": "stderr",
     "output_type": "stream",
     "text": [
      "      content: 4214: जगातील संसाधने\n"
     ]
    },
    {
     "name": "stdout",
     "output_type": "stream",
     "text": [
      "      in on_lesson_page http://www.prathamopenschool.org/mr/Lesson/LES567\n"
     ]
    },
    {
     "name": "stderr",
     "output_type": "stream",
     "text": [
      "      content: 4215: सूर्य ग्रहण\n"
     ]
    },
    {
     "name": "stdout",
     "output_type": "stream",
     "text": [
      "      in on_lesson_page http://www.prathamopenschool.org/mr/Lesson/LES568\n"
     ]
    },
    {
     "name": "stderr",
     "output_type": "stream",
     "text": [
      "      content: 4216: रक्ताभिसरण संस्था\n"
     ]
    },
    {
     "name": "stdout",
     "output_type": "stream",
     "text": [
      "      in on_lesson_page http://www.prathamopenschool.org/mr/Lesson/LES569\n"
     ]
    },
    {
     "name": "stderr",
     "output_type": "stream",
     "text": [
      "      content: 4217: पृथ्वीवरचे पाणी\n"
     ]
    },
    {
     "name": "stdout",
     "output_type": "stream",
     "text": [
      "      in on_lesson_page http://www.prathamopenschool.org/mr/Lesson/LES570\n"
     ]
    },
    {
     "name": "stderr",
     "output_type": "stream",
     "text": [
      "      content: 4218: उत्सर्जन संस्था\n"
     ]
    },
    {
     "name": "stdout",
     "output_type": "stream",
     "text": [
      "      in on_lesson_page http://www.prathamopenschool.org/mr/Lesson/LES571\n"
     ]
    },
    {
     "name": "stderr",
     "output_type": "stream",
     "text": [
      "      content: 4219: प्रकाशाचा मार्ग\n"
     ]
    },
    {
     "name": "stdout",
     "output_type": "stream",
     "text": [
      "      in on_lesson_page http://www.prathamopenschool.org/mr/Lesson/LES572\n"
     ]
    },
    {
     "name": "stderr",
     "output_type": "stream",
     "text": [
      "      content: 4220: हृदय कसे कार्य करते?\n"
     ]
    },
    {
     "name": "stdout",
     "output_type": "stream",
     "text": [
      "      in on_lesson_page http://www.prathamopenschool.org/mr/Lesson/LES573\n"
     ]
    },
    {
     "name": "stderr",
     "output_type": "stream",
     "text": [
      "      content: 4180: कोन आणि कंस\n"
     ]
    },
    {
     "name": "stdout",
     "output_type": "stream",
     "text": [
      "      in on_lesson_page http://www.prathamopenschool.org/mr/Lesson/LES574\n"
     ]
    },
    {
     "name": "stderr",
     "output_type": "stream",
     "text": [
      "      content: 4181: वर्तुळाचे क्षेत्रफळ\n"
     ]
    },
    {
     "name": "stdout",
     "output_type": "stream",
     "text": [
      "      in on_lesson_page http://www.prathamopenschool.org/mr/Lesson/LES575\n"
     ]
    },
    {
     "name": "stderr",
     "output_type": "stream",
     "text": [
      "      content: 4182: समच्छेद आणि विषमछेद अपूर्णांकाची तुलना\n"
     ]
    },
    {
     "name": "stdout",
     "output_type": "stream",
     "text": [
      "      in on_lesson_page http://www.prathamopenschool.org/mr/Lesson/LES576\n"
     ]
    },
    {
     "name": "stderr",
     "output_type": "stream",
     "text": [
      "      content: 4183: त्रिकोणाची रचना\n"
     ]
    },
    {
     "name": "stdout",
     "output_type": "stream",
     "text": [
      "      in on_lesson_page http://www.prathamopenschool.org/mr/Lesson/LES577\n"
     ]
    },
    {
     "name": "stderr",
     "output_type": "stream",
     "text": [
      "      content: 4184: चौरस आणि आयताची रचना\n"
     ]
    },
    {
     "name": "stdout",
     "output_type": "stream",
     "text": [
      "      in on_lesson_page http://www.prathamopenschool.org/mr/Lesson/LES578\n"
     ]
    },
    {
     "name": "stderr",
     "output_type": "stream",
     "text": [
      "      content: 4185: सम प्रमाण\n"
     ]
    },
    {
     "name": "stdout",
     "output_type": "stream",
     "text": [
      "      in on_lesson_page http://www.prathamopenschool.org/mr/Lesson/LES579\n"
     ]
    },
    {
     "name": "stderr",
     "output_type": "stream",
     "text": [
      "      content: 4186: बैजिक राशींचे अवयव\n"
     ]
    },
    {
     "name": "stdout",
     "output_type": "stream",
     "text": [
      "      in on_lesson_page http://www.prathamopenschool.org/mr/Lesson/LES580\n"
     ]
    },
    {
     "name": "stderr",
     "output_type": "stream",
     "text": [
      "      content: 4187: माझ्यासाठी जागा शोधा\n"
     ]
    },
    {
     "name": "stdout",
     "output_type": "stream",
     "text": [
      "      in on_lesson_page http://www.prathamopenschool.org/mr/Lesson/LES581\n"
     ]
    },
    {
     "name": "stderr",
     "output_type": "stream",
     "text": [
      "      content: 4188: परिमेय संख्यांची ओळख\n"
     ]
    },
    {
     "name": "stdout",
     "output_type": "stream",
     "text": [
      "      in on_lesson_page http://www.prathamopenschool.org/mr/Lesson/LES582\n"
     ]
    },
    {
     "name": "stderr",
     "output_type": "stream",
     "text": [
      "      content: 4189: व्यस्त प्रमाण\n"
     ]
    },
    {
     "name": "stdout",
     "output_type": "stream",
     "text": [
      "      in on_lesson_page http://www.prathamopenschool.org/mr/Lesson/LES583\n"
     ]
    },
    {
     "name": "stderr",
     "output_type": "stream",
     "text": [
      "      content: 4190: त्रिकोणाची मध्यगा\n"
     ]
    },
    {
     "name": "stdout",
     "output_type": "stream",
     "text": [
      "      in on_lesson_page http://www.prathamopenschool.org/mr/Lesson/LES584\n"
     ]
    },
    {
     "name": "stderr",
     "output_type": "stream",
     "text": [
      "      content: 4191: बैजिक राशींचा गुणाकार\n"
     ]
    },
    {
     "name": "stdout",
     "output_type": "stream",
     "text": [
      "      in on_lesson_page http://www.prathamopenschool.org/mr/Lesson/LES585\n"
     ]
    },
    {
     "name": "stderr",
     "output_type": "stream",
     "text": [
      "      content: 4192: समीकरणांची उदाहरणे\n"
     ]
    },
    {
     "name": "stdout",
     "output_type": "stream",
     "text": [
      "      in on_lesson_page http://www.prathamopenschool.org/mr/Lesson/LES586\n"
     ]
    },
    {
     "name": "stderr",
     "output_type": "stream",
     "text": [
      "      content: 4193: त्रिकोणाची वैशिष्टये\n"
     ]
    },
    {
     "name": "stdout",
     "output_type": "stream",
     "text": [
      "      in on_lesson_page http://www.prathamopenschool.org/mr/Lesson/LES587\n"
     ]
    },
    {
     "name": "stderr",
     "output_type": "stream",
     "text": [
      "      content: 4194: चौकोनाच्या कोनांची बेरीज\n"
     ]
    },
    {
     "name": "stdout",
     "output_type": "stream",
     "text": [
      "      in on_lesson_page http://www.prathamopenschool.org/mr/Lesson/LES588\n"
     ]
    },
    {
     "name": "stderr",
     "output_type": "stream",
     "text": [
      "      content: 4195: घनाकृतीचे पृष्ठफळ\n"
     ]
    },
    {
     "name": "stdout",
     "output_type": "stream",
     "text": [
      "      in on_lesson_page http://www.prathamopenschool.org/mr/Lesson/LES589\n"
     ]
    },
    {
     "name": "stderr",
     "output_type": "stream",
     "text": [
      "      content: 4196: घातांकांचे नियम समजून घेताना\n"
     ]
    },
    {
     "name": "stdout",
     "output_type": "stream",
     "text": [
      "      in on_lesson_page http://www.prathamopenschool.org/mr/Lesson/LES590\n"
     ]
    },
    {
     "name": "stderr",
     "output_type": "stream",
     "text": [
      "      content: 4197: पायथागोरस प्रमेयाचा पडताळा\n"
     ]
    },
    {
     "name": "stdout",
     "output_type": "stream",
     "text": [
      "      in on_lesson_page http://www.prathamopenschool.org/mr/Lesson/LES591\n"
     ]
    },
    {
     "name": "stderr",
     "output_type": "stream",
     "text": [
      "      content: 4198: घन, इष्टीकाचीती व वृत्तचित्तीचे घनफळ\n"
     ]
    },
    {
     "name": "stdout",
     "output_type": "stream",
     "text": [
      "      in on_lesson_page http://www.prathamopenschool.org/mr/Lesson/LES592\n"
     ]
    },
    {
     "name": "stderr",
     "output_type": "stream",
     "text": [
      "      content: 4246: कार्बनीकरण\n"
     ]
    },
    {
     "name": "stdout",
     "output_type": "stream",
     "text": [
      "      in on_lesson_page http://www.prathamopenschool.org/mr/Lesson/LES593\n"
     ]
    },
    {
     "name": "stderr",
     "output_type": "stream",
     "text": [
      "      content: 4247: पिके आणि हवामान स्थिती\n"
     ]
    },
    {
     "name": "stdout",
     "output_type": "stream",
     "text": [
      "      in on_lesson_page http://www.prathamopenschool.org/mr/Lesson/LES594\n"
     ]
    },
    {
     "name": "stderr",
     "output_type": "stream",
     "text": [
      "      content: 4248: समुद्राच्या लाटांपासून ऊर्जा आणि भू-औष्णिक उर्जा\n"
     ]
    },
    {
     "name": "stdout",
     "output_type": "stream",
     "text": [
      "      in on_lesson_page http://www.prathamopenschool.org/mr/Lesson/LES595\n"
     ]
    },
    {
     "name": "stderr",
     "output_type": "stream",
     "text": [
      "      content: 4249: पेट्रोलियम आणि नैसर्गिक वायूची निर्मिती\n"
     ]
    },
    {
     "name": "stdout",
     "output_type": "stream",
     "text": [
      "      in on_lesson_page http://www.prathamopenschool.org/mr/Lesson/LES596\n"
     ]
    },
    {
     "name": "stderr",
     "output_type": "stream",
     "text": [
      "      content: 4250: मातीची निर्मिती\n"
     ]
    },
    {
     "name": "stdout",
     "output_type": "stream",
     "text": [
      "      in on_lesson_page http://www.prathamopenschool.org/mr/Lesson/LES597\n"
     ]
    },
    {
     "name": "stderr",
     "output_type": "stream",
     "text": [
      "      content: 4251: आपल्या शरीराची सरंक्षण व्यवस्था\n"
     ]
    },
    {
     "name": "stdout",
     "output_type": "stream",
     "text": [
      "      in on_lesson_page http://www.prathamopenschool.org/mr/Lesson/LES598\n"
     ]
    },
    {
     "name": "stderr",
     "output_type": "stream",
     "text": [
      "      content: 4252: समस्थानिके\n"
     ]
    },
    {
     "name": "stdout",
     "output_type": "stream",
     "text": [
      "      in on_lesson_page http://www.prathamopenschool.org/mr/Lesson/LES599\n"
     ]
    },
    {
     "name": "stderr",
     "output_type": "stream",
     "text": [
      "      content: 4253: अप्रकट उष्मा\n"
     ]
    },
    {
     "name": "stdout",
     "output_type": "stream",
     "text": [
      "      in on_lesson_page http://www.prathamopenschool.org/mr/Lesson/LES600\n"
     ]
    },
    {
     "name": "stderr",
     "output_type": "stream",
     "text": [
      "      content: 4254: चुंबक\n"
     ]
    },
    {
     "name": "stdout",
     "output_type": "stream",
     "text": [
      "      in on_lesson_page http://www.prathamopenschool.org/mr/Lesson/LES601\n"
     ]
    },
    {
     "name": "stderr",
     "output_type": "stream",
     "text": [
      "      content: 4255: उल्का, धुमकेतू, लघुग्रह आणि कृत्रिम उपग्रह\n"
     ]
    },
    {
     "name": "stdout",
     "output_type": "stream",
     "text": [
      "      in on_lesson_page http://www.prathamopenschool.org/mr/Lesson/LES602\n"
     ]
    },
    {
     "name": "stderr",
     "output_type": "stream",
     "text": [
      "      content: 4256: अणु उर्जा\n"
     ]
    },
    {
     "name": "stdout",
     "output_type": "stream",
     "text": [
      "      in on_lesson_page http://www.prathamopenschool.org/mr/Lesson/LES603\n"
     ]
    },
    {
     "name": "stderr",
     "output_type": "stream",
     "text": [
      "      content: 4257: धातु आणि अधातु यांची पाण्याबरोबर अभिक्रिया\n"
     ]
    },
    {
     "name": "stdout",
     "output_type": "stream",
     "text": [
      "      in on_lesson_page http://www.prathamopenschool.org/mr/Lesson/LES604\n"
     ]
    },
    {
     "name": "stderr",
     "output_type": "stream",
     "text": [
      "      content: 4258: जग वाचवा\n"
     ]
    },
    {
     "name": "stdout",
     "output_type": "stream",
     "text": [
      "      in on_lesson_page http://www.prathamopenschool.org/mr/Lesson/LES605\n"
     ]
    },
    {
     "name": "stderr",
     "output_type": "stream",
     "text": [
      "      content: 4259: सहभागिता आणि बंधन\n"
     ]
    },
    {
     "name": "stdout",
     "output_type": "stream",
     "text": [
      "      in on_lesson_page http://www.prathamopenschool.org/mr/Lesson/LES606\n"
     ]
    },
    {
     "name": "stderr",
     "output_type": "stream",
     "text": [
      "      content: 4260: जमिनीची मशागत\n"
     ]
    },
    {
     "name": "stdout",
     "output_type": "stream",
     "text": [
      "      in on_lesson_page http://www.prathamopenschool.org/mr/Lesson/LES607\n"
     ]
    },
    {
     "name": "stderr",
     "output_type": "stream",
     "text": [
      "      content: 4261: सौर उर्जा\n"
     ]
    },
    {
     "name": "stdout",
     "output_type": "stream",
     "text": [
      "      in on_lesson_page http://www.prathamopenschool.org/mr/Lesson/LES608\n"
     ]
    },
    {
     "name": "stderr",
     "output_type": "stream",
     "text": [
      "      content: 4262: बिया पेरणी\n"
     ]
    },
    {
     "name": "stdout",
     "output_type": "stream",
     "text": [
      "      in on_lesson_page http://www.prathamopenschool.org/mr/Lesson/LES609\n"
     ]
    },
    {
     "name": "stderr",
     "output_type": "stream",
     "text": [
      "      content: 4263: अणुची रचना\n"
     ]
    },
    {
     "name": "stdout",
     "output_type": "stream",
     "text": [
      "      in on_lesson_page http://www.prathamopenschool.org/mr/Lesson/LES610\n"
     ]
    },
    {
     "name": "stderr",
     "output_type": "stream",
     "text": [
      "      content: 4264: प्राण्यांचे वर्गीकरण\n"
     ]
    },
    {
     "name": "stdout",
     "output_type": "stream",
     "text": [
      "      in on_lesson_page http://www.prathamopenschool.org/mr/Lesson/LES611\n"
     ]
    },
    {
     "name": "stderr",
     "output_type": "stream",
     "text": [
      "      content: 4265: पेनिसिलीनची गोष्ट\n"
     ]
    },
    {
     "name": "stdout",
     "output_type": "stream",
     "text": [
      "      in on_lesson_page http://www.prathamopenschool.org/mr/Lesson/LES612\n"
     ]
    },
    {
     "name": "stderr",
     "output_type": "stream",
     "text": [
      "      content: 4221: कोन आणि कंस\n"
     ]
    },
    {
     "name": "stdout",
     "output_type": "stream",
     "text": [
      "      in on_lesson_page http://www.prathamopenschool.org/mr/Lesson/LES613\n"
     ]
    },
    {
     "name": "stderr",
     "output_type": "stream",
     "text": [
      "      content: 4222: वर्तुळाचे क्षेत्रफळ\n"
     ]
    },
    {
     "name": "stdout",
     "output_type": "stream",
     "text": [
      "      in on_lesson_page http://www.prathamopenschool.org/mr/Lesson/LES614\n"
     ]
    },
    {
     "name": "stderr",
     "output_type": "stream",
     "text": [
      "      content: 4223: सूट\n"
     ]
    },
    {
     "name": "stdout",
     "output_type": "stream",
     "text": [
      "      in on_lesson_page http://www.prathamopenschool.org/mr/Lesson/LES615\n"
     ]
    },
    {
     "name": "stderr",
     "output_type": "stream",
     "text": [
      "      content: 4224: त्रिकोणाची रचना उजळणी\n"
     ]
    },
    {
     "name": "stdout",
     "output_type": "stream",
     "text": [
      "      in on_lesson_page http://www.prathamopenschool.org/mr/Lesson/LES616\n"
     ]
    },
    {
     "name": "stderr",
     "output_type": "stream",
     "text": [
      "      content: 4225: चौकोनाची रचना\n"
     ]
    },
    {
     "name": "stdout",
     "output_type": "stream",
     "text": [
      "      in on_lesson_page http://www.prathamopenschool.org/mr/Lesson/LES617\n"
     ]
    },
    {
     "name": "stderr",
     "output_type": "stream",
     "text": [
      "      content: 4226: मूळ अवयव पद्धतीने घनमूळ काढणे\n"
     ]
    },
    {
     "name": "stdout",
     "output_type": "stream",
     "text": [
      "      in on_lesson_page http://www.prathamopenschool.org/mr/Lesson/LES618\n"
     ]
    },
    {
     "name": "stderr",
     "output_type": "stream",
     "text": [
      "      content: 4227: सम प्रमाण\n"
     ]
    },
    {
     "name": "stdout",
     "output_type": "stream",
     "text": [
      "      in on_lesson_page http://www.prathamopenschool.org/mr/Lesson/LES619\n"
     ]
    },
    {
     "name": "stderr",
     "output_type": "stream",
     "text": [
      "      content: 4228: रेषाखंड दुभाजक\n"
     ]
    },
    {
     "name": "stdout",
     "output_type": "stream",
     "text": [
      "      in on_lesson_page http://www.prathamopenschool.org/mr/Lesson/LES620\n"
     ]
    },
    {
     "name": "stderr",
     "output_type": "stream",
     "text": [
      "      content: 4229: समांतर रेषांची रचना\n"
     ]
    },
    {
     "name": "stdout",
     "output_type": "stream",
     "text": [
      "      in on_lesson_page http://www.prathamopenschool.org/mr/Lesson/LES621\n"
     ]
    },
    {
     "name": "stderr",
     "output_type": "stream",
     "text": [
      "      content: 4230: बैजिक राशींचे अवयव\n"
     ]
    },
    {
     "name": "stdout",
     "output_type": "stream",
     "text": [
      "      in on_lesson_page http://www.prathamopenschool.org/mr/Lesson/LES622\n"
     ]
    },
    {
     "name": "stderr",
     "output_type": "stream",
     "text": [
      "      content: 4231: मूळ अवयव पद्धतीने घन काढणे\n"
     ]
    },
    {
     "name": "stdout",
     "output_type": "stream",
     "text": [
      "      in on_lesson_page http://www.prathamopenschool.org/mr/Lesson/LES623\n"
     ]
    },
    {
     "name": "stderr",
     "output_type": "stream",
     "text": [
      "      content: 4232: पिरामिडची ओळख\n"
     ]
    },
    {
     "name": "stdout",
     "output_type": "stream",
     "text": [
      "      in on_lesson_page http://www.prathamopenschool.org/mr/Lesson/LES624\n"
     ]
    },
    {
     "name": "stderr",
     "output_type": "stream",
     "text": [
      "      content: 4233: व्यस्त प्रमाण\n"
     ]
    },
    {
     "name": "stdout",
     "output_type": "stream",
     "text": [
      "      in on_lesson_page http://www.prathamopenschool.org/mr/Lesson/LES625\n"
     ]
    },
    {
     "name": "stderr",
     "output_type": "stream",
     "text": [
      "      content: 4234: गटबद्ध नसलेल्या माहितीचा(संख्यांचा) मध्य\n"
     ]
    },
    {
     "name": "stdout",
     "output_type": "stream",
     "text": [
      "      in on_lesson_page http://www.prathamopenschool.org/mr/Lesson/LES626\n"
     ]
    },
    {
     "name": "stderr",
     "output_type": "stream",
     "text": [
      "      content: 4235: घातांकांचे नियम\n"
     ]
    },
    {
     "name": "stdout",
     "output_type": "stream",
     "text": [
      "      in on_lesson_page http://www.prathamopenschool.org/mr/Lesson/LES627\n"
     ]
    },
    {
     "name": "stderr",
     "output_type": "stream",
     "text": [
      "      content: 4236: मला महिती दाखवा\n"
     ]
    },
    {
     "name": "stdout",
     "output_type": "stream",
     "text": [
      "      in on_lesson_page http://www.prathamopenschool.org/mr/Lesson/LES628\n"
     ]
    },
    {
     "name": "stderr",
     "output_type": "stream",
     "text": [
      "      content: 4237: वर्गमूळ\n"
     ]
    },
    {
     "name": "stdout",
     "output_type": "stream",
     "text": [
      "      in on_lesson_page http://www.prathamopenschool.org/mr/Lesson/LES629\n"
     ]
    },
    {
     "name": "stderr",
     "output_type": "stream",
     "text": [
      "      content: 4238: चौकोनाच्या कोनांची बेरीज\n"
     ]
    },
    {
     "name": "stdout",
     "output_type": "stream",
     "text": [
      "      in on_lesson_page http://www.prathamopenschool.org/mr/Lesson/LES630\n"
     ]
    },
    {
     "name": "stderr",
     "output_type": "stream",
     "text": [
      "      content: 4239: घन आणि इष्टीकाचीतीचे पृष्ठफळ\n"
     ]
    },
    {
     "name": "stdout",
     "output_type": "stream",
     "text": [
      "      in on_lesson_page http://www.prathamopenschool.org/mr/Lesson/LES631\n"
     ]
    },
    {
     "name": "stderr",
     "output_type": "stream",
     "text": [
      "      content: 4240: घनाकृतीचे पृष्ठफळ\n"
     ]
    },
    {
     "name": "stdout",
     "output_type": "stream",
     "text": [
      "      in on_lesson_page http://www.prathamopenschool.org/mr/Lesson/LES632\n"
     ]
    },
    {
     "name": "stderr",
     "output_type": "stream",
     "text": [
      "      content: 4241: वृत्तचित्तीचे पृष्ठफळ\n"
     ]
    },
    {
     "name": "stdout",
     "output_type": "stream",
     "text": [
      "      in on_lesson_page http://www.prathamopenschool.org/mr/Lesson/LES633\n"
     ]
    },
    {
     "name": "stderr",
     "output_type": "stream",
     "text": [
      "      content: 4242: गोलाचे पृष्ठफळ\n"
     ]
    },
    {
     "name": "stdout",
     "output_type": "stream",
     "text": [
      "      in on_lesson_page http://www.prathamopenschool.org/mr/Lesson/LES634\n"
     ]
    },
    {
     "name": "stderr",
     "output_type": "stream",
     "text": [
      "      content: 4243: शंकू, गोल आणि अर्धगोलाचे घनफळ\n"
     ]
    },
    {
     "name": "stdout",
     "output_type": "stream",
     "text": [
      "      in on_lesson_page http://www.prathamopenschool.org/mr/Lesson/LES635\n"
     ]
    },
    {
     "name": "stderr",
     "output_type": "stream",
     "text": [
      "      content: 4244: घन, इष्टीकाचीती व वृत्तचित्तीचे घनफळ\n"
     ]
    },
    {
     "name": "stdout",
     "output_type": "stream",
     "text": [
      "      in on_lesson_page http://www.prathamopenschool.org/mr/Lesson/LES636\n"
     ]
    },
    {
     "name": "stderr",
     "output_type": "stream",
     "text": [
      "      content: 4245: बीजगणिताचा जादुगार\n"
     ]
    },
    {
     "name": "stdout",
     "output_type": "stream",
     "text": [
      "      in on_lesson_page http://www.prathamopenschool.org/mr/Lesson/LES637\n"
     ]
    },
    {
     "name": "stderr",
     "output_type": "stream",
     "text": [
      "      content: 4412: सूत्राच्या दृष्टीकोनातून\n"
     ]
    },
    {
     "name": "stdout",
     "output_type": "stream",
     "text": [
      "      in on_lesson_page http://www.prathamopenschool.org/mr/Lesson/LES638\n"
     ]
    },
    {
     "name": "stderr",
     "output_type": "stream",
     "text": [
      "      content: 4413: प्रभावी वाढ\n"
     ]
    },
    {
     "name": "stdout",
     "output_type": "stream",
     "text": [
      "      in on_lesson_page http://www.prathamopenschool.org/mr/Lesson/LES639\n"
     ]
    },
    {
     "name": "stderr",
     "output_type": "stream",
     "text": [
      "      content: 4414: वस्तुमानाबद्दल सर्व काही\n"
     ]
    },
    {
     "name": "stdout",
     "output_type": "stream",
     "text": [
      "      in on_lesson_page http://www.prathamopenschool.org/mr/Lesson/LES640\n"
     ]
    },
    {
     "name": "stderr",
     "output_type": "stream",
     "text": [
      "      content: 4415: पशु पालन\n"
     ]
    },
    {
     "name": "stdout",
     "output_type": "stream",
     "text": [
      "      in on_lesson_page http://www.prathamopenschool.org/mr/Lesson/LES641\n"
     ]
    },
    {
     "name": "stderr",
     "output_type": "stream",
     "text": [
      "      content: 4416: संतुलित आणि असंतुलित बल\n"
     ]
    },
    {
     "name": "stdout",
     "output_type": "stream",
     "text": [
      "      in on_lesson_page http://www.prathamopenschool.org/mr/Lesson/LES642\n"
     ]
    },
    {
     "name": "stderr",
     "output_type": "stream",
     "text": [
      "      content: 4417: संतुलनाची कला\n"
     ]
    },
    {
     "name": "stdout",
     "output_type": "stream",
     "text": [
      "      in on_lesson_page http://www.prathamopenschool.org/mr/Lesson/LES643\n"
     ]
    },
    {
     "name": "stderr",
     "output_type": "stream",
     "text": [
      "      content: 4418: आयन पकडा\n"
     ]
    },
    {
     "name": "stdout",
     "output_type": "stream",
     "text": [
      "      in on_lesson_page http://www.prathamopenschool.org/mr/Lesson/LES644\n"
     ]
    },
    {
     "name": "stderr",
     "output_type": "stream",
     "text": [
      "      content: 4419: कायमस्वरूपी स्थायी ऊती\n"
     ]
    },
    {
     "name": "stdout",
     "output_type": "stream",
     "text": [
      "      in on_lesson_page http://www.prathamopenschool.org/mr/Lesson/LES645\n"
     ]
    },
    {
     "name": "stderr",
     "output_type": "stream",
     "text": [
      "      content: 4420: पिके आणि हवामान\n"
     ]
    },
    {
     "name": "stdout",
     "output_type": "stream",
     "text": [
      "      in on_lesson_page http://www.prathamopenschool.org/mr/Lesson/LES646\n"
     ]
    },
    {
     "name": "stderr",
     "output_type": "stream",
     "text": [
      "      content: 4421: मत्स्यपालन\n"
     ]
    },
    {
     "name": "stdout",
     "output_type": "stream",
     "text": [
      "      in on_lesson_page http://www.prathamopenschool.org/mr/Lesson/LES647\n"
     ]
    },
    {
     "name": "stderr",
     "output_type": "stream",
     "text": [
      "      content: 4422: इलेक्ट्रॉनची विभागणी\n"
     ]
    },
    {
     "name": "stdout",
     "output_type": "stream",
     "text": [
      "      in on_lesson_page http://www.prathamopenschool.org/mr/Lesson/LES648\n"
     ]
    },
    {
     "name": "stderr",
     "output_type": "stream",
     "text": [
      "      content: 4423: ध्वनी तरंगांची आयाम वारंवारता\n"
     ]
    },
    {
     "name": "stdout",
     "output_type": "stream",
     "text": [
      "      in on_lesson_page http://www.prathamopenschool.org/mr/Lesson/LES649\n"
     ]
    },
    {
     "name": "stderr",
     "output_type": "stream",
     "text": [
      "      content: 4424: समस्थानिके\n"
     ]
    },
    {
     "name": "stdout",
     "output_type": "stream",
     "text": [
      "      in on_lesson_page http://www.prathamopenschool.org/mr/Lesson/LES650\n"
     ]
    },
    {
     "name": "stderr",
     "output_type": "stream",
     "text": [
      "      content: 4425: अप्रकट उष्मा\n"
     ]
    },
    {
     "name": "stdout",
     "output_type": "stream",
     "text": [
      "      in on_lesson_page http://www.prathamopenschool.org/mr/Lesson/LES651\n"
     ]
    },
    {
     "name": "stderr",
     "output_type": "stream",
     "text": [
      "      content: 4426: उर्जा अक्षय्यतेचा नियम\n"
     ]
    },
    {
     "name": "stdout",
     "output_type": "stream",
     "text": [
      "      in on_lesson_page http://www.prathamopenschool.org/mr/Lesson/LES652\n"
     ]
    },
    {
     "name": "stderr",
     "output_type": "stream",
     "text": [
      "      content: 4427: बागेत शिकणे\n"
     ]
    },
    {
     "name": "stdout",
     "output_type": "stream",
     "text": [
      "      in on_lesson_page http://www.prathamopenschool.org/mr/Lesson/LES653\n"
     ]
    },
    {
     "name": "stderr",
     "output_type": "stream",
     "text": [
      "      content: 4428: अन्न संसाधने सुधारण्याची गरज\n"
     ]
    },
    {
     "name": "stdout",
     "output_type": "stream",
     "text": [
      "      in on_lesson_page http://www.prathamopenschool.org/mr/Lesson/LES654\n"
     ]
    },
    {
     "name": "stderr",
     "output_type": "stream",
     "text": [
      "      content: 4429: न्युटनचा गतीचा दुसरा नियम\n"
     ]
    },
    {
     "name": "stdout",
     "output_type": "stream",
     "text": [
      "      in on_lesson_page http://www.prathamopenschool.org/mr/Lesson/LES655\n"
     ]
    },
    {
     "name": "stderr",
     "output_type": "stream",
     "text": [
      "      content: 4430: ध्वनी अभिवृद्धि\n"
     ]
    },
    {
     "name": "stdout",
     "output_type": "stream",
     "text": [
      "      in on_lesson_page http://www.prathamopenschool.org/mr/Lesson/LES656\n"
     ]
    },
    {
     "name": "stderr",
     "output_type": "stream",
     "text": [
      "      content: 4431: वस्ती करण्याची तयारी\n"
     ]
    },
    {
     "name": "stdout",
     "output_type": "stream",
     "text": [
      "      in on_lesson_page http://www.prathamopenschool.org/mr/Lesson/LES657\n"
     ]
    },
    {
     "name": "stderr",
     "output_type": "stream",
     "text": [
      "      content: 4432: उंदराची भूमिका\n"
     ]
    },
    {
     "name": "stdout",
     "output_type": "stream",
     "text": [
      "      in on_lesson_page http://www.prathamopenschool.org/mr/Lesson/LES658\n"
     ]
    },
    {
     "name": "stderr",
     "output_type": "stream",
     "text": [
      "      content: 4433: विलगीकरण प्रयोगशाळा 1\n"
     ]
    },
    {
     "name": "stdout",
     "output_type": "stream",
     "text": [
      "      in on_lesson_page http://www.prathamopenschool.org/mr/Lesson/LES659\n"
     ]
    },
    {
     "name": "stderr",
     "output_type": "stream",
     "text": [
      "      content: 4434: विलगीकरण प्रयोगशाळा 2\n"
     ]
    },
    {
     "name": "stdout",
     "output_type": "stream",
     "text": [
      "      in on_lesson_page http://www.prathamopenschool.org/mr/Lesson/LES660\n"
     ]
    },
    {
     "name": "stderr",
     "output_type": "stream",
     "text": [
      "      content: 4435: विलगीकरण प्रयोगशाळा 3\n"
     ]
    },
    {
     "name": "stdout",
     "output_type": "stream",
     "text": [
      "      in on_lesson_page http://www.prathamopenschool.org/mr/Lesson/LES661\n"
     ]
    },
    {
     "name": "stderr",
     "output_type": "stream",
     "text": [
      "      content: 4436: रोगांची लक्षणे\n"
     ]
    },
    {
     "name": "stdout",
     "output_type": "stream",
     "text": [
      "      in on_lesson_page http://www.prathamopenschool.org/mr/Lesson/LES662\n"
     ]
    },
    {
     "name": "stderr",
     "output_type": "stream",
     "text": [
      "      content: 4437: प्राण्यांचे वर्गीकरण\n"
     ]
    },
    {
     "name": "stdout",
     "output_type": "stream",
     "text": [
      "      in on_lesson_page http://www.prathamopenschool.org/mr/Lesson/LES663\n"
     ]
    },
    {
     "name": "stderr",
     "output_type": "stream",
     "text": [
      "      content: 4438: प्राण्यांच्या ऊतींचे प्रकार\n"
     ]
    },
    {
     "name": "stdout",
     "output_type": "stream",
     "text": [
      "      in on_lesson_page http://www.prathamopenschool.org/mr/Lesson/LES664\n"
     ]
    },
    {
     "name": "stderr",
     "output_type": "stream",
     "text": [
      "      content: 4439: रोगांचे प्रकार\n"
     ]
    },
    {
     "name": "stdout",
     "output_type": "stream",
     "text": [
      "      in on_lesson_page http://www.prathamopenschool.org/mr/Lesson/LES665\n"
     ]
    },
    {
     "name": "stderr",
     "output_type": "stream",
     "text": [
      "      content: 4351: वर्तुळाचे क्षेत्रफळ\n"
     ]
    },
    {
     "name": "stdout",
     "output_type": "stream",
     "text": [
      "      in on_lesson_page http://www.prathamopenschool.org/mr/Lesson/LES667\n"
     ]
    },
    {
     "name": "stderr",
     "output_type": "stream",
     "text": [
      "      content: 4352: क्ष भुजा असलेल्या नियमित बहुभूजाकृतीचे क्षेत्रफळ\n"
     ]
    },
    {
     "name": "stdout",
     "output_type": "stream",
     "text": [
      "      in on_lesson_page http://www.prathamopenschool.org/mr/Lesson/LES668\n"
     ]
    },
    {
     "name": "stderr",
     "output_type": "stream",
     "text": [
      "      content: 4353: त्रिकोणाचे क्षेत्रफळ\n"
     ]
    },
    {
     "name": "stdout",
     "output_type": "stream",
     "text": [
      "      in on_lesson_page http://www.prathamopenschool.org/mr/Lesson/LES669\n"
     ]
    },
    {
     "name": "stderr",
     "output_type": "stream",
     "text": [
      "      content: 4354: त्रिकोणाचे क्षेत्रफळ\n"
     ]
    },
    {
     "name": "stdout",
     "output_type": "stream",
     "text": [
      "      in on_lesson_page http://www.prathamopenschool.org/mr/Lesson/LES670\n"
     ]
    },
    {
     "name": "stderr",
     "output_type": "stream",
     "text": [
      "      content: 4355: सिद्धांत आणि गृहीतके\n"
     ]
    },
    {
     "name": "stdout",
     "output_type": "stream",
     "text": [
      "      in on_lesson_page http://www.prathamopenschool.org/mr/Lesson/LES671\n"
     ]
    },
    {
     "name": "stderr",
     "output_type": "stream",
     "text": [
      "      content: 4356: पूल जोडा\n"
     ]
    },
    {
     "name": "stdout",
     "output_type": "stream",
     "text": [
      "      in on_lesson_page http://www.prathamopenschool.org/mr/Lesson/LES672\n"
     ]
    },
    {
     "name": "stderr",
     "output_type": "stream",
     "text": [
      "      content: 4357: वेगवेगळ्या बिंदुतून वर्तुळ काढणे\n"
     ]
    },
    {
     "name": "stdout",
     "output_type": "stream",
     "text": [
      "      in on_lesson_page http://www.prathamopenschool.org/mr/Lesson/LES673\n"
     ]
    },
    {
     "name": "stderr",
     "output_type": "stream",
     "text": [
      "      content: 4358: लंबदुभाजकाची रचना\n"
     ]
    },
    {
     "name": "stdout",
     "output_type": "stream",
     "text": [
      "      in on_lesson_page http://www.prathamopenschool.org/mr/Lesson/LES674\n"
     ]
    },
    {
     "name": "stderr",
     "output_type": "stream",
     "text": [
      "      content: 4359: कोनदुभाजकाची रचना\n"
     ]
    },
    {
     "name": "stdout",
     "output_type": "stream",
     "text": [
      "      in on_lesson_page http://www.prathamopenschool.org/mr/Lesson/LES675\n"
     ]
    },
    {
     "name": "stderr",
     "output_type": "stream",
     "text": [
      "      content: 4360: 60 अंश मापाच्या कोनाची रचना\n"
     ]
    },
    {
     "name": "stdout",
     "output_type": "stream",
     "text": [
      "      in on_lesson_page http://www.prathamopenschool.org/mr/Lesson/LES676\n"
     ]
    },
    {
     "name": "stderr",
     "output_type": "stream",
     "text": [
      "      content: 4361: लंब रेषेची रचना\n"
     ]
    },
    {
     "name": "stdout",
     "output_type": "stream",
     "text": [
      "      in on_lesson_page http://www.prathamopenschool.org/mr/Lesson/LES677\n"
     ]
    },
    {
     "name": "stderr",
     "output_type": "stream",
     "text": [
      "      content: 4362: त्रिकोणाची रचना 1\n"
     ]
    },
    {
     "name": "stdout",
     "output_type": "stream",
     "text": [
      "      in on_lesson_page http://www.prathamopenschool.org/mr/Lesson/LES678\n"
     ]
    },
    {
     "name": "stderr",
     "output_type": "stream",
     "text": [
      "      content: 4363: त्रिकोणाची रचना 2\n"
     ]
    },
    {
     "name": "stdout",
     "output_type": "stream",
     "text": [
      "      in on_lesson_page http://www.prathamopenschool.org/mr/Lesson/LES679\n"
     ]
    },
    {
     "name": "stderr",
     "output_type": "stream",
     "text": [
      "      content: 4364: त्रिकोणाची रचना 3\n"
     ]
    },
    {
     "name": "stdout",
     "output_type": "stream",
     "text": [
      "      in on_lesson_page http://www.prathamopenschool.org/mr/Lesson/LES680\n"
     ]
    },
    {
     "name": "stderr",
     "output_type": "stream",
     "text": [
      "      content: 4365: बिंदू निर्देशक आणि अंतर\n"
     ]
    },
    {
     "name": "stdout",
     "output_type": "stream",
     "text": [
      "      in on_lesson_page http://www.prathamopenschool.org/mr/Lesson/LES681\n"
     ]
    },
    {
     "name": "stderr",
     "output_type": "stream",
     "text": [
      "      content: 4366: तिरकस गुणाकार पद्धत\n"
     ]
    },
    {
     "name": "stdout",
     "output_type": "stream",
     "text": [
      "      in on_lesson_page http://www.prathamopenschool.org/mr/Lesson/LES682\n"
     ]
    },
    {
     "name": "stderr",
     "output_type": "stream",
     "text": [
      "      content: 4367: माहिती आणि आलेख\n"
     ]
    },
    {
     "name": "stdout",
     "output_type": "stream",
     "text": [
      "      in on_lesson_page http://www.prathamopenschool.org/mr/Lesson/LES683\n"
     ]
    },
    {
     "name": "stderr",
     "output_type": "stream",
     "text": [
      "      content: 4368: संज्ञा आणि प्रस्तावना\n"
     ]
    },
    {
     "name": "stdout",
     "output_type": "stream",
     "text": [
      "      in on_lesson_page http://www.prathamopenschool.org/mr/Lesson/LES684\n"
     ]
    },
    {
     "name": "stderr",
     "output_type": "stream",
     "text": [
      "      content: 4369: सम प्रमाण\n"
     ]
    },
    {
     "name": "stdout",
     "output_type": "stream",
     "text": [
      "      in on_lesson_page http://www.prathamopenschool.org/mr/Lesson/LES685\n"
     ]
    },
    {
     "name": "stderr",
     "output_type": "stream",
     "text": [
      "      content: 4370: बैजिक राशींचा भागाकार\n"
     ]
    },
    {
     "name": "stdout",
     "output_type": "stream",
     "text": [
      "      in on_lesson_page http://www.prathamopenschool.org/mr/Lesson/LES686\n"
     ]
    },
    {
     "name": "stderr",
     "output_type": "stream",
     "text": [
      "      content: 4371: बिंदू आणि रेषा\n"
     ]
    },
    {
     "name": "stdout",
     "output_type": "stream",
     "text": [
      "      in on_lesson_page http://www.prathamopenschool.org/mr/Lesson/LES687\n"
     ]
    },
    {
     "name": "stderr",
     "output_type": "stream",
     "text": [
      "      content: 4372: लोप पद्धती\n"
     ]
    },
    {
     "name": "stdout",
     "output_type": "stream",
     "text": [
      "      in on_lesson_page http://www.prathamopenschool.org/mr/Lesson/LES688\n"
     ]
    },
    {
     "name": "stderr",
     "output_type": "stream",
     "text": [
      "      content: 4373: बैजिक राशींचे अवयव\n"
     ]
    },
    {
     "name": "stdout",
     "output_type": "stream",
     "text": [
      "      in on_lesson_page http://www.prathamopenschool.org/mr/Lesson/LES689\n"
     ]
    },
    {
     "name": "stderr",
     "output_type": "stream",
     "text": [
      "      content: 4374: अंतर काढा\n"
     ]
    },
    {
     "name": "stdout",
     "output_type": "stream",
     "text": [
      "      in on_lesson_page http://www.prathamopenschool.org/mr/Lesson/LES690\n"
     ]
    },
    {
     "name": "stderr",
     "output_type": "stream",
     "text": [
      "      content: 4375: स्पर्शिकेची ओळख\n"
     ]
    },
    {
     "name": "stdout",
     "output_type": "stream",
     "text": [
      "      in on_lesson_page http://www.prathamopenschool.org/mr/Lesson/LES691\n"
     ]
    },
    {
     "name": "stderr",
     "output_type": "stream",
     "text": [
      "      content: 4376: समीकरणाचा आलेख\n"
     ]
    },
    {
     "name": "stdout",
     "output_type": "stream",
     "text": [
      "      in on_lesson_page http://www.prathamopenschool.org/mr/Lesson/LES692\n"
     ]
    },
    {
     "name": "stderr",
     "output_type": "stream",
     "text": [
      "      content: 4377: संच ओळख\n"
     ]
    },
    {
     "name": "stdout",
     "output_type": "stream",
     "text": [
      "      in on_lesson_page http://www.prathamopenschool.org/mr/Lesson/LES693\n"
     ]
    },
    {
     "name": "stderr",
     "output_type": "stream",
     "text": [
      "      content: 4378: व्यस्त प्रमाण\n"
     ]
    },
    {
     "name": "stdout",
     "output_type": "stream",
     "text": [
      "      in on_lesson_page http://www.prathamopenschool.org/mr/Lesson/LES694\n"
     ]
    },
    {
     "name": "stderr",
     "output_type": "stream",
     "text": [
      "      content: 4379: संयुक्त बदल\n"
     ]
    },
    {
     "name": "stdout",
     "output_type": "stream",
     "text": [
      "      in on_lesson_page http://www.prathamopenschool.org/mr/Lesson/LES695\n"
     ]
    },
    {
     "name": "stderr",
     "output_type": "stream",
     "text": [
      "      content: 4380: कोनांची ओळख\n"
     ]
    },
    {
     "name": "stdout",
     "output_type": "stream",
     "text": [
      "      in on_lesson_page http://www.prathamopenschool.org/mr/Lesson/LES696\n"
     ]
    },
    {
     "name": "stderr",
     "output_type": "stream",
     "text": [
      "      content: 4381: केंद्रीय प्रवृत्ती\n"
     ]
    },
    {
     "name": "stdout",
     "output_type": "stream",
     "text": [
      "      in on_lesson_page http://www.prathamopenschool.org/mr/Lesson/LES697\n"
     ]
    },
    {
     "name": "stderr",
     "output_type": "stream",
     "text": [
      "      content: 4382: मध्यबिंदू प्रमेय\n"
     ]
    },
    {
     "name": "stdout",
     "output_type": "stream",
     "text": [
      "      in on_lesson_page http://www.prathamopenschool.org/mr/Lesson/LES698\n"
     ]
    },
    {
     "name": "stderr",
     "output_type": "stream",
     "text": [
      "      content: 4383: वर्तुळाबद्दल अजून काही\n"
     ]
    },
    {
     "name": "stdout",
     "output_type": "stream",
     "text": [
      "      in on_lesson_page http://www.prathamopenschool.org/mr/Lesson/LES699\n"
     ]
    },
    {
     "name": "stderr",
     "output_type": "stream",
     "text": [
      "      content: 4384: बैजिक राशींचा गुणाकार\n"
     ]
    },
    {
     "name": "stdout",
     "output_type": "stream",
     "text": [
      "      in on_lesson_page http://www.prathamopenschool.org/mr/Lesson/LES700\n"
     ]
    },
    {
     "name": "stderr",
     "output_type": "stream",
     "text": [
      "      content: 4385: संचाचे घटक\n"
     ]
    },
    {
     "name": "stdout",
     "output_type": "stream",
     "text": [
      "      in on_lesson_page http://www.prathamopenschool.org/mr/Lesson/LES701\n"
     ]
    },
    {
     "name": "stderr",
     "output_type": "stream",
     "text": [
      "      content: 4386: करणी वरील क्रिया\n"
     ]
    },
    {
     "name": "stdout",
     "output_type": "stream",
     "text": [
      "      in on_lesson_page http://www.prathamopenschool.org/mr/Lesson/LES702\n"
     ]
    },
    {
     "name": "stderr",
     "output_type": "stream",
     "text": [
      "      content: 4387: संचांवरील क्रिया\n"
     ]
    },
    {
     "name": "stdout",
     "output_type": "stream",
     "text": [
      "      in on_lesson_page http://www.prathamopenschool.org/mr/Lesson/LES703\n"
     ]
    },
    {
     "name": "stderr",
     "output_type": "stream",
     "text": [
      "      content: 4388: दोन गुणोत्तराची तुलना करणे\n"
     ]
    },
    {
     "name": "stdout",
     "output_type": "stream",
     "text": [
      "      in on_lesson_page http://www.prathamopenschool.org/mr/Lesson/LES704\n"
     ]
    },
    {
     "name": "stderr",
     "output_type": "stream",
     "text": [
      "      content: 4389: माहितीचे आयोजन आणि वर्गीकरण\n"
     ]
    },
    {
     "name": "stdout",
     "output_type": "stream",
     "text": [
      "      in on_lesson_page http://www.prathamopenschool.org/mr/Lesson/LES705\n"
     ]
    },
    {
     "name": "stderr",
     "output_type": "stream",
     "text": [
      "      content: 4390: संमांतर रेषांच्या छेदिकेचा सिद्धांत आणि प्रमेय\n"
     ]
    },
    {
     "name": "stdout",
     "output_type": "stream",
     "text": [
      "      in on_lesson_page http://www.prathamopenschool.org/mr/Lesson/LES706\n"
     ]
    },
    {
     "name": "stderr",
     "output_type": "stream",
     "text": [
      "      content: 4391: कोनांची बेरीज गुणधर्माची सिद्धता\n"
     ]
    },
    {
     "name": "stdout",
     "output_type": "stream",
     "text": [
      "      in on_lesson_page http://www.prathamopenschool.org/mr/Lesson/LES707\n"
     ]
    },
    {
     "name": "stderr",
     "output_type": "stream",
     "text": [
      "      content: 4392: परिमेय संख्या\n"
     ]
    },
    {
     "name": "stdout",
     "output_type": "stream",
     "text": [
      "      in on_lesson_page http://www.prathamopenschool.org/mr/Lesson/LES708\n"
     ]
    },
    {
     "name": "stderr",
     "output_type": "stream",
     "text": [
      "      content: 4393: किरण\n"
     ]
    },
    {
     "name": "stdout",
     "output_type": "stream",
     "text": [
      "      in on_lesson_page http://www.prathamopenschool.org/mr/Lesson/LES709\n"
     ]
    },
    {
     "name": "stderr",
     "output_type": "stream",
     "text": [
      "      content: 4394: दैनंदिन जीवनातील काटकोन त्रिकोण\n"
     ]
    },
    {
     "name": "stdout",
     "output_type": "stream",
     "text": [
      "      in on_lesson_page http://www.prathamopenschool.org/mr/Lesson/LES710\n"
     ]
    },
    {
     "name": "stderr",
     "output_type": "stream",
     "text": [
      "      content: 4395: विभागीय सूत्र\n"
     ]
    },
    {
     "name": "stdout",
     "output_type": "stream",
     "text": [
      "      in on_lesson_page http://www.prathamopenschool.org/mr/Lesson/LES711\n"
     ]
    },
    {
     "name": "stderr",
     "output_type": "stream",
     "text": [
      "      content: 4396: मला महिती दाखवा\n"
     ]
    },
    {
     "name": "stdout",
     "output_type": "stream",
     "text": [
      "      in on_lesson_page http://www.prathamopenschool.org/mr/Lesson/LES712\n"
     ]
    },
    {
     "name": "stderr",
     "output_type": "stream",
     "text": [
      "      content: 4397: त्रिकोणमितीची 6 प्रमाण\n"
     ]
    },
    {
     "name": "stdout",
     "output_type": "stream",
     "text": [
      "      in on_lesson_page http://www.prathamopenschool.org/mr/Lesson/LES713\n"
     ]
    },
    {
     "name": "stderr",
     "output_type": "stream",
     "text": [
      "      content: 4398: विशिष्ठ प्रकारची एकचल समीकरणे सोडविणे\n"
     ]
    },
    {
     "name": "stdout",
     "output_type": "stream",
     "text": [
      "      in on_lesson_page http://www.prathamopenschool.org/mr/Lesson/LES714\n"
     ]
    },
    {
     "name": "stderr",
     "output_type": "stream",
     "text": [
      "      content: 4399: प्रतिस्थापन पद्धत\n"
     ]
    },
    {
     "name": "stdout",
     "output_type": "stream",
     "text": [
      "      in on_lesson_page http://www.prathamopenschool.org/mr/Lesson/LES715\n"
     ]
    },
    {
     "name": "stderr",
     "output_type": "stream",
     "text": [
      "      content: 4400: चौकोनाच्या कोनांची बेरीज\n"
     ]
    },
    {
     "name": "stdout",
     "output_type": "stream",
     "text": [
      "      in on_lesson_page http://www.prathamopenschool.org/mr/Lesson/LES716\n"
     ]
    },
    {
     "name": "stderr",
     "output_type": "stream",
     "text": [
      "      content: 4401: संश्लेषक भागाकार\n"
     ]
    },
    {
     "name": "stdout",
     "output_type": "stream",
     "text": [
      "      in on_lesson_page http://www.prathamopenschool.org/mr/Lesson/LES717\n"
     ]
    },
    {
     "name": "stderr",
     "output_type": "stream",
     "text": [
      "      content: 4402: दैनंदिन जीवनातील स्पर्शिका\n"
     ]
    },
    {
     "name": "stdout",
     "output_type": "stream",
     "text": [
      "      in on_lesson_page http://www.prathamopenschool.org/mr/Lesson/LES718\n"
     ]
    },
    {
     "name": "stderr",
     "output_type": "stream",
     "text": [
      "      content: 4403: एकरेषीयतेची कसोटी\n"
     ]
    },
    {
     "name": "stdout",
     "output_type": "stream",
     "text": [
      "      in on_lesson_page http://www.prathamopenschool.org/mr/Lesson/LES719\n"
     ]
    },
    {
     "name": "stderr",
     "output_type": "stream",
     "text": [
      "      content: 4404: 30-60-90 अंश मापाच्या त्रिकोणाचे प्रमेय\n"
     ]
    },
    {
     "name": "stdout",
     "output_type": "stream",
     "text": [
      "      in on_lesson_page http://www.prathamopenschool.org/mr/Lesson/LES720\n"
     ]
    },
    {
     "name": "stderr",
     "output_type": "stream",
     "text": [
      "      content: 4405: समान गुणोत्तराचे प्रमेय\n"
     ]
    },
    {
     "name": "stdout",
     "output_type": "stream",
     "text": [
      "      in on_lesson_page http://www.prathamopenschool.org/mr/Lesson/LES721\n"
     ]
    },
    {
     "name": "stderr",
     "output_type": "stream",
     "text": [
      "      content: 4406: समांतरभूज चौकोनाचे प्रमेय\n"
     ]
    },
    {
     "name": "stdout",
     "output_type": "stream",
     "text": [
      "      in on_lesson_page http://www.prathamopenschool.org/mr/Lesson/LES722\n"
     ]
    },
    {
     "name": "stderr",
     "output_type": "stream",
     "text": [
      "      content: 4407: तीन किंवा तीनपेक्षा जास्त समांतर रेषा\n"
     ]
    },
    {
     "name": "stdout",
     "output_type": "stream",
     "text": [
      "      in on_lesson_page http://www.prathamopenschool.org/mr/Lesson/LES723\n"
     ]
    },
    {
     "name": "stderr",
     "output_type": "stream",
     "text": [
      "      content: 4408: स्पर्श वर्तुळे\n"
     ]
    },
    {
     "name": "stdout",
     "output_type": "stream",
     "text": [
      "      in on_lesson_page http://www.prathamopenschool.org/mr/Lesson/LES724\n"
     ]
    },
    {
     "name": "stderr",
     "output_type": "stream",
     "text": [
      "      content: 4409: 0,90 अंशाची त्रिकोणमितीय गुणोत्तरे\n"
     ]
    },
    {
     "name": "stdout",
     "output_type": "stream",
     "text": [
      "      in on_lesson_page http://www.prathamopenschool.org/mr/Lesson/LES725\n"
     ]
    },
    {
     "name": "stderr",
     "output_type": "stream",
     "text": [
      "      content: 4410: 30,45,व 60 अंशाची त्रिकोणमितीय गुणोत्तरे\n"
     ]
    },
    {
     "name": "stdout",
     "output_type": "stream",
     "text": [
      "      in on_lesson_page http://www.prathamopenschool.org/mr/Lesson/LES726\n"
     ]
    },
    {
     "name": "stderr",
     "output_type": "stream",
     "text": [
      "ERROR 404 when getting url=http://www.prathamopenschool.org/CourseContent/videos/m_Trigonometric_Ratios_of_30A?_45A?_and_60A?.mp4\n",
      "      content: 4411: बहुपदीची किंमत\n"
     ]
    },
    {
     "name": "stdout",
     "output_type": "stream",
     "text": [
      "      in on_lesson_page http://www.prathamopenschool.org/mr/Lesson/LES727\n"
     ]
    },
    {
     "name": "stderr",
     "output_type": "stream",
     "text": [
      "      content: 4497: ताकदीबद्दल काही\n"
     ]
    },
    {
     "name": "stdout",
     "output_type": "stream",
     "text": [
      "      in on_lesson_page http://www.prathamopenschool.org/mr/Lesson/LES728\n"
     ]
    },
    {
     "name": "stderr",
     "output_type": "stream",
     "text": [
      "      content: 4498: अनन्य स्पर्श\n"
     ]
    },
    {
     "name": "stdout",
     "output_type": "stream",
     "text": [
      "      in on_lesson_page http://www.prathamopenschool.org/mr/Lesson/LES729\n"
     ]
    },
    {
     "name": "stderr",
     "output_type": "stream",
     "text": [
      "      content: 4499: अलुमिनियम ऍनोडीकरण\n"
     ]
    },
    {
     "name": "stdout",
     "output_type": "stream",
     "text": [
      "      in on_lesson_page http://www.prathamopenschool.org/mr/Lesson/LES730\n"
     ]
    },
    {
     "name": "stderr",
     "output_type": "stream",
     "text": [
      "      content: 4500: अलैंगिक प्रजनन\n"
     ]
    },
    {
     "name": "stdout",
     "output_type": "stream",
     "text": [
      "      in on_lesson_page http://www.prathamopenschool.org/mr/Lesson/LES731\n"
     ]
    },
    {
     "name": "stderr",
     "output_type": "stream",
     "text": [
      "      content: 4501: वातावरणामुळे होणारे अपवर्तन\n"
     ]
    },
    {
     "name": "stdout",
     "output_type": "stream",
     "text": [
      "      in on_lesson_page http://www.prathamopenschool.org/mr/Lesson/LES732\n"
     ]
    },
    {
     "name": "stderr",
     "output_type": "stream",
     "text": [
      "      content: 4502: संतुलन कला\n"
     ]
    },
    {
     "name": "stdout",
     "output_type": "stream",
     "text": [
      "      in on_lesson_page http://www.prathamopenschool.org/mr/Lesson/LES733\n"
     ]
    },
    {
     "name": "stderr",
     "output_type": "stream",
     "text": [
      "      content: 4503: शाखा, साखळ्या आणि रिंगण\n"
     ]
    },
    {
     "name": "stdout",
     "output_type": "stream",
     "text": [
      "      in on_lesson_page http://www.prathamopenschool.org/mr/Lesson/LES734\n"
     ]
    },
    {
     "name": "stderr",
     "output_type": "stream",
     "text": [
      "      content: 4504: कार्बन संपूर्ण ज्वलन\n"
     ]
    },
    {
     "name": "stdout",
     "output_type": "stream",
     "text": [
      "      in on_lesson_page http://www.prathamopenschool.org/mr/Lesson/LES735\n"
     ]
    },
    {
     "name": "stderr",
     "output_type": "stream",
     "text": [
      "      content: 4505: प्रकाशाचे अपस्करण\n"
     ]
    },
    {
     "name": "stdout",
     "output_type": "stream",
     "text": [
      "      in on_lesson_page http://www.prathamopenschool.org/mr/Lesson/LES736\n"
     ]
    },
    {
     "name": "stderr",
     "output_type": "stream",
     "text": [
      "      content: 4506: अर्थिंग आणि फ्युज\n"
     ]
    },
    {
     "name": "stdout",
     "output_type": "stream",
     "text": [
      "      in on_lesson_page http://www.prathamopenschool.org/mr/Lesson/LES737\n"
     ]
    },
    {
     "name": "stderr",
     "output_type": "stream",
     "text": [
      "      content: 4507: विद्युत जनित्र\n"
     ]
    },
    {
     "name": "stdout",
     "output_type": "stream",
     "text": [
      "      in on_lesson_page http://www.prathamopenschool.org/mr/Lesson/LES738\n"
     ]
    },
    {
     "name": "stderr",
     "output_type": "stream",
     "text": [
      "      content: 4508: विद्युत मोटर\n"
     ]
    },
    {
     "name": "stdout",
     "output_type": "stream",
     "text": [
      "      in on_lesson_page http://www.prathamopenschool.org/mr/Lesson/LES739\n"
     ]
    },
    {
     "name": "stderr",
     "output_type": "stream",
     "text": [
      "      content: 4509: उत्क्रांती आणि मार्गक्रमण\n"
     ]
    },
    {
     "name": "stdout",
     "output_type": "stream",
     "text": [
      "      in on_lesson_page http://www.prathamopenschool.org/mr/Lesson/LES740\n"
     ]
    },
    {
     "name": "stderr",
     "output_type": "stream",
     "text": [
      "      content: 4510: देवाण घेवाण\n"
     ]
    },
    {
     "name": "stdout",
     "output_type": "stream",
     "text": [
      "      in on_lesson_page http://www.prathamopenschool.org/mr/Lesson/LES741\n"
     ]
    },
    {
     "name": "stderr",
     "output_type": "stream",
     "text": [
      "      content: 4511: गोलीय आरशात पडणारी प्रतिमा\n"
     ]
    },
    {
     "name": "stdout",
     "output_type": "stream",
     "text": [
      "      in on_lesson_page http://www.prathamopenschool.org/mr/Lesson/LES742\n"
     ]
    },
    {
     "name": "stderr",
     "output_type": "stream",
     "text": [
      "      content: 4512: चेता संदेश\n"
     ]
    },
    {
     "name": "stdout",
     "output_type": "stream",
     "text": [
      "      in on_lesson_page http://www.prathamopenschool.org/mr/Lesson/LES743\n"
     ]
    },
    {
     "name": "stderr",
     "output_type": "stream",
     "text": [
      "      content: 4513: धातु परिष्करण\n"
     ]
    },
    {
     "name": "stdout",
     "output_type": "stream",
     "text": [
      "      in on_lesson_page http://www.prathamopenschool.org/mr/Lesson/LES744\n"
     ]
    },
    {
     "name": "stderr",
     "output_type": "stream",
     "text": [
      "      content: 4514: ध्वनी प्रदूषण\n"
     ]
    },
    {
     "name": "stdout",
     "output_type": "stream",
     "text": [
      "      in on_lesson_page http://www.prathamopenschool.org/mr/Lesson/LES745\n"
     ]
    },
    {
     "name": "stderr",
     "output_type": "stream",
     "text": [
      "      content: 4515: वंशगतितील रचना\n"
     ]
    },
    {
     "name": "stdout",
     "output_type": "stream",
     "text": [
      "      in on_lesson_page http://www.prathamopenschool.org/mr/Lesson/LES746\n"
     ]
    },
    {
     "name": "stderr",
     "output_type": "stream",
     "text": [
      "      content: 4516: प्रकाश संश्लेषण\n"
     ]
    },
    {
     "name": "stdout",
     "output_type": "stream",
     "text": [
      "      in on_lesson_page http://www.prathamopenschool.org/mr/Lesson/LES747\n"
     ]
    },
    {
     "name": "stderr",
     "output_type": "stream",
     "text": [
      "      content: 4517: झाडे आणि संप्रेरके\n"
     ]
    },
    {
     "name": "stdout",
     "output_type": "stream",
     "text": [
      "      in on_lesson_page http://www.prathamopenschool.org/mr/Lesson/LES748\n"
     ]
    },
    {
     "name": "stderr",
     "output_type": "stream",
     "text": [
      "      content: 4518: किरणांचे खेळ\n"
     ]
    },
    {
     "name": "stdout",
     "output_type": "stream",
     "text": [
      "      in on_lesson_page http://www.prathamopenschool.org/mr/Lesson/LES749\n"
     ]
    },
    {
     "name": "stderr",
     "output_type": "stream",
     "text": [
      "      content: 4519: पुनरुत्पादन अवस्था आणि लिंग निदान\n"
     ]
    },
    {
     "name": "stdout",
     "output_type": "stream",
     "text": [
      "      in on_lesson_page http://www.prathamopenschool.org/mr/Lesson/LES750\n"
     ]
    },
    {
     "name": "stderr",
     "output_type": "stream",
     "text": [
      "      content: 4520: संपृक्त व असंपृक्त हायड्रोकार्बन\n"
     ]
    },
    {
     "name": "stdout",
     "output_type": "stream",
     "text": [
      "      in on_lesson_page http://www.prathamopenschool.org/mr/Lesson/LES751\n"
     ]
    },
    {
     "name": "stderr",
     "output_type": "stream",
     "text": [
      "      content: 4521: सहभागिता आणि बंधन\n"
     ]
    },
    {
     "name": "stdout",
     "output_type": "stream",
     "text": [
      "      in on_lesson_page http://www.prathamopenschool.org/mr/Lesson/LES752\n"
     ]
    },
    {
     "name": "stderr",
     "output_type": "stream",
     "text": [
      "      content: 4522: साबणाच्या गोष्टी\n"
     ]
    },
    {
     "name": "stdout",
     "output_type": "stream",
     "text": [
      "      in on_lesson_page http://www.prathamopenschool.org/mr/Lesson/LES753\n"
     ]
    },
    {
     "name": "stderr",
     "output_type": "stream",
     "text": [
      "      content: 4523: जाती उद्भवन\n"
     ]
    },
    {
     "name": "stdout",
     "output_type": "stream",
     "text": [
      "      in on_lesson_page http://www.prathamopenschool.org/mr/Lesson/LES754\n"
     ]
    },
    {
     "name": "stderr",
     "output_type": "stream",
     "text": [
      "      content: 4524: बातम्या थांबा!\n"
     ]
    },
    {
     "name": "stdout",
     "output_type": "stream",
     "text": [
      "      in on_lesson_page http://www.prathamopenschool.org/mr/Lesson/LES755\n"
     ]
    },
    {
     "name": "stderr",
     "output_type": "stream",
     "text": [
      "      content: 4525: चवींचा कारखाना\n"
     ]
    },
    {
     "name": "stdout",
     "output_type": "stream",
     "text": [
      "      in on_lesson_page http://www.prathamopenschool.org/mr/Lesson/LES756\n"
     ]
    },
    {
     "name": "stderr",
     "output_type": "stream",
     "text": [
      "      content: 4526: नियंत्रक\n"
     ]
    },
    {
     "name": "stdout",
     "output_type": "stream",
     "text": [
      "      in on_lesson_page http://www.prathamopenschool.org/mr/Lesson/LES757\n"
     ]
    },
    {
     "name": "stderr",
     "output_type": "stream",
     "text": [
      "      content: 4528: कचरा व्यवस्थापन\n"
     ]
    },
    {
     "name": "stdout",
     "output_type": "stream",
     "text": [
      "      in on_lesson_page http://www.prathamopenschool.org/mr/Lesson/LES758\n"
     ]
    },
    {
     "name": "stderr",
     "output_type": "stream",
     "text": [
      "      content: 4440: Angles and Arcs\n"
     ]
    },
    {
     "name": "stdout",
     "output_type": "stream",
     "text": [
      "      in on_lesson_page http://www.prathamopenschool.org/mr/Lesson/LES759\n"
     ]
    },
    {
     "name": "stderr",
     "output_type": "stream",
     "text": [
      "      content: 4441: Application of Simultaneous Linear Equations\n"
     ]
    },
    {
     "name": "stdout",
     "output_type": "stream",
     "text": [
      "      in on_lesson_page http://www.prathamopenschool.org/mr/Lesson/LES760\n"
     ]
    },
    {
     "name": "stderr",
     "output_type": "stream",
     "text": [
      "      content: 4442: Appollonius Theorem\n"
     ]
    },
    {
     "name": "stdout",
     "output_type": "stream",
     "text": [
      "      in on_lesson_page http://www.prathamopenschool.org/mr/Lesson/LES761\n"
     ]
    },
    {
     "name": "stderr",
     "output_type": "stream",
     "text": [
      "      content: 4443: Arc of a Circle and Angle Subtended by an Arc\n"
     ]
    },
    {
     "name": "stdout",
     "output_type": "stream",
     "text": [
      "      in on_lesson_page http://www.prathamopenschool.org/mr/Lesson/LES762\n"
     ]
    },
    {
     "name": "stderr",
     "output_type": "stream",
     "text": [
      "      content: 4444: Arithmetic Progression\n"
     ]
    },
    {
     "name": "stdout",
     "output_type": "stream",
     "text": [
      "      in on_lesson_page http://www.prathamopenschool.org/mr/Lesson/LES763\n"
     ]
    },
    {
     "name": "stderr",
     "output_type": "stream",
     "text": [
      "      content: 4445: Basic Proportionality Theorem\n"
     ]
    },
    {
     "name": "stdout",
     "output_type": "stream",
     "text": [
      "      in on_lesson_page http://www.prathamopenschool.org/mr/Lesson/LES764\n"
     ]
    },
    {
     "name": "stderr",
     "output_type": "stream",
     "text": [
      "      content: 4446: Completing the Square\n"
     ]
    },
    {
     "name": "stdout",
     "output_type": "stream",
     "text": [
      "      in on_lesson_page http://www.prathamopenschool.org/mr/Lesson/LES765\n"
     ]
    },
    {
     "name": "stderr",
     "output_type": "stream",
     "text": [
      "      content: 4447: Constructing Similar Triangles\n"
     ]
    },
    {
     "name": "stdout",
     "output_type": "stream",
     "text": [
      "      in on_lesson_page http://www.prathamopenschool.org/mr/Lesson/LES766\n"
     ]
    },
    {
     "name": "stderr",
     "output_type": "stream",
     "text": [
      "      content: 4448: Construction Circumcentre and Circumcircle\n"
     ]
    },
    {
     "name": "stdout",
     "output_type": "stream",
     "text": [
      "      in on_lesson_page http://www.prathamopenschool.org/mr/Lesson/LES767\n"
     ]
    },
    {
     "name": "stderr",
     "output_type": "stream",
     "text": [
      "      content: 4449: Construction Incentre and Incircle\n"
     ]
    },
    {
     "name": "stdout",
     "output_type": "stream",
     "text": [
      "      in on_lesson_page http://www.prathamopenschool.org/mr/Lesson/LES768\n"
     ]
    },
    {
     "name": "stderr",
     "output_type": "stream",
     "text": [
      "      content: 4450: Construction of a Triangle Part I\n"
     ]
    },
    {
     "name": "stdout",
     "output_type": "stream",
     "text": [
      "      in on_lesson_page http://www.prathamopenschool.org/mr/Lesson/LES769\n"
     ]
    },
    {
     "name": "stderr",
     "output_type": "stream",
     "text": [
      "      content: 4451: Construction of a Triangle Part II\n"
     ]
    },
    {
     "name": "stdout",
     "output_type": "stream",
     "text": [
      "      in on_lesson_page http://www.prathamopenschool.org/mr/Lesson/LES770\n"
     ]
    },
    {
     "name": "stderr",
     "output_type": "stream",
     "text": [
      "      content: 4452: Construction of Pie Diagram\n"
     ]
    },
    {
     "name": "stdout",
     "output_type": "stream",
     "text": [
      "      in on_lesson_page http://www.prathamopenschool.org/mr/Lesson/LES771\n"
     ]
    },
    {
     "name": "stderr",
     "output_type": "stream",
     "text": [
      "      content: 4453: Construction of Tangents to Circles Part I\n"
     ]
    },
    {
     "name": "stdout",
     "output_type": "stream",
     "text": [
      "      in on_lesson_page http://www.prathamopenschool.org/mr/Lesson/LES772\n"
     ]
    },
    {
     "name": "stderr",
     "output_type": "stream",
     "text": [
      "      content: 4454: Converse of Basic Proportionality Theorem\n"
     ]
    },
    {
     "name": "stdout",
     "output_type": "stream",
     "text": [
      "      in on_lesson_page http://www.prathamopenschool.org/mr/Lesson/LES773\n"
     ]
    },
    {
     "name": "stderr",
     "output_type": "stream",
     "text": [
      "      content: 4455: Converting One Solid Shape to Another\n"
     ]
    },
    {
     "name": "stdout",
     "output_type": "stream",
     "text": [
      "      in on_lesson_page http://www.prathamopenschool.org/mr/Lesson/LES774\n"
     ]
    },
    {
     "name": "stderr",
     "output_type": "stream",
     "text": [
      "      content: 4456: Cumulative Effort\n"
     ]
    },
    {
     "name": "stdout",
     "output_type": "stream",
     "text": [
      "      in on_lesson_page http://www.prathamopenschool.org/mr/Lesson/LES775\n"
     ]
    },
    {
     "name": "stderr",
     "output_type": "stream",
     "text": [
      "      content: 4458: Determining the Nature of Roots\n"
     ]
    },
    {
     "name": "stdout",
     "output_type": "stream",
     "text": [
      "      in on_lesson_page http://www.prathamopenschool.org/mr/Lesson/LES777\n"
     ]
    },
    {
     "name": "stderr",
     "output_type": "stream",
     "text": [
      "      content: 4459: Equations Reducible to Linear Equations\n"
     ]
    },
    {
     "name": "stdout",
     "output_type": "stream",
     "text": [
      "      in on_lesson_page http://www.prathamopenschool.org/mr/Lesson/LES778\n"
     ]
    },
    {
     "name": "stderr",
     "output_type": "stream",
     "text": [
      "      content: 4460: Equations reducible to Quadratic form\n"
     ]
    },
    {
     "name": "stdout",
     "output_type": "stream",
     "text": [
      "      in on_lesson_page http://www.prathamopenschool.org/mr/Lesson/LES779\n"
     ]
    },
    {
     "name": "stderr",
     "output_type": "stream",
     "text": [
      "      content: 4461: Factorising Quadratic Equations\n"
     ]
    },
    {
     "name": "stdout",
     "output_type": "stream",
     "text": [
      "      in on_lesson_page http://www.prathamopenschool.org/mr/Lesson/LES780\n"
     ]
    },
    {
     "name": "stderr",
     "output_type": "stream",
     "text": [
      "      content: 4462: Finding Heights and Distances\n"
     ]
    },
    {
     "name": "stdout",
     "output_type": "stream",
     "text": [
      "      in on_lesson_page http://www.prathamopenschool.org/mr/Lesson/LES781\n"
     ]
    },
    {
     "name": "stderr",
     "output_type": "stream",
     "text": [
      "      content: 4463: Finding the Median of Grouped Data\n"
     ]
    },
    {
     "name": "stdout",
     "output_type": "stream",
     "text": [
      "      in on_lesson_page http://www.prathamopenschool.org/mr/Lesson/LES782\n"
     ]
    },
    {
     "name": "stderr",
     "output_type": "stream",
     "text": [
      "      content: 4464: Forming a Quadratic Equation with given Roots\n"
     ]
    },
    {
     "name": "stdout",
     "output_type": "stream",
     "text": [
      "      in on_lesson_page http://www.prathamopenschool.org/mr/Lesson/LES783\n"
     ]
    },
    {
     "name": "stderr",
     "output_type": "stream",
     "text": [
      "      content: 4465: Geometric Mean\n"
     ]
    },
    {
     "name": "stdout",
     "output_type": "stream",
     "text": [
      "      in on_lesson_page http://www.prathamopenschool.org/mr/Lesson/LES784\n"
     ]
    },
    {
     "name": "stderr",
     "output_type": "stream",
     "text": [
      "      content: 4466: Geometric Progression\n"
     ]
    },
    {
     "name": "stdout",
     "output_type": "stream",
     "text": [
      "      in on_lesson_page http://www.prathamopenschool.org/mr/Lesson/LES785\n"
     ]
    },
    {
     "name": "stderr",
     "output_type": "stream",
     "text": [
      "      content: 4467: Going Off on a Tangent\n"
     ]
    },
    {
     "name": "stdout",
     "output_type": "stream",
     "text": [
      "      in on_lesson_page http://www.prathamopenschool.org/mr/Lesson/LES786\n"
     ]
    },
    {
     "name": "stderr",
     "output_type": "stream",
     "text": [
      "      content: 4468: Histogram Frequency Polygon and Frequency Curve\n"
     ]
    },
    {
     "name": "stdout",
     "output_type": "stream",
     "text": [
      "      in on_lesson_page http://www.prathamopenschool.org/mr/Lesson/LES787\n"
     ]
    },
    {
     "name": "stderr",
     "output_type": "stream",
     "text": [
      "      content: 4469: Intersecting Secant\n"
     ]
    },
    {
     "name": "stdout",
     "output_type": "stream",
     "text": [
      "      in on_lesson_page http://www.prathamopenschool.org/mr/Lesson/LES788\n"
     ]
    },
    {
     "name": "stderr",
     "output_type": "stream",
     "text": [
      "      content: 4470: Mean of Ungrouped Data\n"
     ]
    },
    {
     "name": "stdout",
     "output_type": "stream",
     "text": [
      "      in on_lesson_page http://www.prathamopenschool.org/mr/Lesson/LES789\n"
     ]
    },
    {
     "name": "stderr",
     "output_type": "stream",
     "text": [
      "      content: 4471: Mode of Grouped Data\n"
     ]
    },
    {
     "name": "stdout",
     "output_type": "stream",
     "text": [
      "      in on_lesson_page http://www.prathamopenschool.org/mr/Lesson/LES790\n"
     ]
    },
    {
     "name": "stderr",
     "output_type": "stream",
     "text": [
      "      content: 4472: Probability Revisited\n"
     ]
    },
    {
     "name": "stdout",
     "output_type": "stream",
     "text": [
      "      in on_lesson_page http://www.prathamopenschool.org/mr/Lesson/LES791\n"
     ]
    },
    {
     "name": "stderr",
     "output_type": "stream",
     "text": [
      "      content: 4473: Properties of Probability\n"
     ]
    },
    {
     "name": "stdout",
     "output_type": "stream",
     "text": [
      "      in on_lesson_page http://www.prathamopenschool.org/mr/Lesson/LES792\n"
     ]
    },
    {
     "name": "stderr",
     "output_type": "stream",
     "text": [
      "      content: 4474: Proving Pythagoras Theorem\n"
     ]
    },
    {
     "name": "stdout",
     "output_type": "stream",
     "text": [
      "      in on_lesson_page http://www.prathamopenschool.org/mr/Lesson/LES793\n"
     ]
    },
    {
     "name": "stderr",
     "output_type": "stream",
     "text": [
      "      content: 4475: Ratios of Areas of Two Triangles\n"
     ]
    },
    {
     "name": "stdout",
     "output_type": "stream",
     "text": [
      "      in on_lesson_page http://www.prathamopenschool.org/mr/Lesson/LES794\n"
     ]
    },
    {
     "name": "stderr",
     "output_type": "stream",
     "text": [
      "      content: 4476: Right Triangles in Everyday Life\n"
     ]
    },
    {
     "name": "stdout",
     "output_type": "stream",
     "text": [
      "      in on_lesson_page http://www.prathamopenschool.org/mr/Lesson/LES795\n"
     ]
    },
    {
     "name": "stderr",
     "output_type": "stream",
     "text": [
      "      content: 4477: Sequences\n"
     ]
    },
    {
     "name": "stdout",
     "output_type": "stream",
     "text": [
      "      in on_lesson_page http://www.prathamopenschool.org/mr/Lesson/LES796\n"
     ]
    },
    {
     "name": "stderr",
     "output_type": "stream",
     "text": [
      "      content: 4478: Six Trigonometric Ratios\n"
     ]
    },
    {
     "name": "stdout",
     "output_type": "stream",
     "text": [
      "      in on_lesson_page http://www.prathamopenschool.org/mr/Lesson/LES797\n"
     ]
    },
    {
     "name": "stderr",
     "output_type": "stream",
     "text": [
      "      content: 4479: Slope\n"
     ]
    },
    {
     "name": "stdout",
     "output_type": "stream",
     "text": [
      "      in on_lesson_page http://www.prathamopenschool.org/mr/Lesson/LES798\n"
     ]
    },
    {
     "name": "stderr",
     "output_type": "stream",
     "text": [
      "      content: 4480: Sum It Up\n"
     ]
    },
    {
     "name": "stdout",
     "output_type": "stream",
     "text": [
      "      in on_lesson_page http://www.prathamopenschool.org/mr/Lesson/LES799\n"
     ]
    },
    {
     "name": "stderr",
     "output_type": "stream",
     "text": [
      "      content: 4481: Surface Area of Right Circular Cone\n"
     ]
    },
    {
     "name": "stdout",
     "output_type": "stream",
     "text": [
      "      in on_lesson_page http://www.prathamopenschool.org/mr/Lesson/LES800\n"
     ]
    },
    {
     "name": "stderr",
     "output_type": "stream",
     "text": [
      "      content: 4482: Surface Area of Sphere\n"
     ]
    },
    {
     "name": "stdout",
     "output_type": "stream",
     "text": [
      "      in on_lesson_page http://www.prathamopenschool.org/mr/Lesson/LES801\n"
     ]
    },
    {
     "name": "stderr",
     "output_type": "stream",
     "text": [
      "      content: 4483: Surface Areas of Cuboids and Cubes\n"
     ]
    },
    {
     "name": "stdout",
     "output_type": "stream",
     "text": [
      "      in on_lesson_page http://www.prathamopenschool.org/mr/Lesson/LES802\n"
     ]
    },
    {
     "name": "stderr",
     "output_type": "stream",
     "text": [
      "      content: 4484: Tangent Radius Relationship\n"
     ]
    },
    {
     "name": "stdout",
     "output_type": "stream",
     "text": [
      "      in on_lesson_page http://www.prathamopenschool.org/mr/Lesson/LES803\n"
     ]
    },
    {
     "name": "stderr",
     "output_type": "stream",
     "text": [
      "      content: 4485: Tangent Secant Theorem\n"
     ]
    },
    {
     "name": "stdout",
     "output_type": "stream",
     "text": [
      "      in on_lesson_page http://www.prathamopenschool.org/mr/Lesson/LES804\n"
     ]
    },
    {
     "name": "stderr",
     "output_type": "stream",
     "text": [
      "      content: 4486: Tangents From a Point Outside the Circle\n"
     ]
    },
    {
     "name": "stdout",
     "output_type": "stream",
     "text": [
      "      in on_lesson_page http://www.prathamopenschool.org/mr/Lesson/LES805\n"
     ]
    },
    {
     "name": "stderr",
     "output_type": "stream",
     "text": [
      "      content: 4487: Tangents in Daily Life\n"
     ]
    },
    {
     "name": "stdout",
     "output_type": "stream",
     "text": [
      "      in on_lesson_page http://www.prathamopenschool.org/mr/Lesson/LES806\n"
     ]
    },
    {
     "name": "stderr",
     "output_type": "stream",
     "text": [
      "      content: 4488: The Frustum of a Cone\n"
     ]
    },
    {
     "name": "stdout",
     "output_type": "stream",
     "text": [
      "      in on_lesson_page http://www.prathamopenschool.org/mr/Lesson/LES807\n"
     ]
    },
    {
     "name": "stderr",
     "output_type": "stream",
     "text": [
      "      content: 4489: Theorem of 30 60 90 Triangle\n"
     ]
    },
    {
     "name": "stdout",
     "output_type": "stream",
     "text": [
      "      in on_lesson_page http://www.prathamopenschool.org/mr/Lesson/LES808\n"
     ]
    },
    {
     "name": "stderr",
     "output_type": "stream",
     "text": [
      "      content: 4490: Trigonometric Ratios in Coordinates\n"
     ]
    },
    {
     "name": "stdout",
     "output_type": "stream",
     "text": [
      "      in on_lesson_page http://www.prathamopenschool.org/mr/Lesson/LES809\n"
     ]
    },
    {
     "name": "stderr",
     "output_type": "stream",
     "text": [
      "      content: 4491: Trigonometric Ratios in Different Quadrants\n"
     ]
    },
    {
     "name": "stdout",
     "output_type": "stream",
     "text": [
      "      in on_lesson_page http://www.prathamopenschool.org/mr/Lesson/LES810\n"
     ]
    },
    {
     "name": "stderr",
     "output_type": "stream",
     "text": [
      "      content: 4492: Trigonometric Ratios of Negative Angles\n"
     ]
    },
    {
     "name": "stdout",
     "output_type": "stream",
     "text": [
      "      in on_lesson_page http://www.prathamopenschool.org/mr/Lesson/LES811\n"
     ]
    },
    {
     "name": "stderr",
     "output_type": "stream",
     "text": [
      "      content: 4493: Trigonometric Terms\n"
     ]
    },
    {
     "name": "stdout",
     "output_type": "stream",
     "text": [
      "      in on_lesson_page http://www.prathamopenschool.org/mr/Lesson/LES812\n"
     ]
    },
    {
     "name": "stderr",
     "output_type": "stream",
     "text": [
      "      content: 4494: Using Quadratic Formula\n"
     ]
    },
    {
     "name": "stdout",
     "output_type": "stream",
     "text": [
      "      in on_lesson_page http://www.prathamopenschool.org/mr/Lesson/LES813\n"
     ]
    },
    {
     "name": "stderr",
     "output_type": "stream",
     "text": [
      "      content: 4495: Volume of Cone Sphere and Hemisphere\n"
     ]
    },
    {
     "name": "stdout",
     "output_type": "stream",
     "text": [
      "      in on_lesson_page http://www.prathamopenschool.org/mr/Lesson/LES814\n"
     ]
    },
    {
     "name": "stderr",
     "output_type": "stream",
     "text": [
      "      content: 4496: Volume of Cuboid Cube and Cylinder\n"
     ]
    },
    {
     "name": "stdout",
     "output_type": "stream",
     "text": [
      "      in on_lesson_page http://www.prathamopenschool.org/mr/Lesson/LES815\n",
      "\n",
      "\n",
      "\n",
      "\n",
      "################################################################################\n",
      "# CRAWLER RECOMMENDATIONS BASED ON URLS ENCOUNTERED:\n",
      "################################################################################\n",
      "\n",
      "1. These URLs are very common and look like global navigation links:\n",
      "\n",
      "2. These are common path fragments found in URLs paths, so could correspond to site struture:\n",
      "  -  718 urls on site start with  /CourseContent\n",
      "  -  459 urls on site start with  /mr\n",
      "  -  37 urls on site start with  /hn\n",
      "\n",
      "\n",
      "################################################################################\n",
      "\n",
      "\n",
      "\n"
     ]
    }
   ],
   "source": [
    "mr_web_resource_tree = mr_crawler.crawl()\n"
   ]
  },
  {
   "cell_type": "code",
   "execution_count": 3,
   "metadata": {
    "scrolled": false
   },
   "outputs": [
    {
     "name": "stdout",
     "output_type": "stream",
     "text": [
      "     - path: /mr/  (lang_page) \n",
      "       children:\n",
      "        - path: /mr/Course/Mathematics  (topic_page) \n",
      "          children:\n",
      "           - path: /mr/Course/Mathematics/CRS63  (subtopic_page) \n",
      "             children:\n",
      "              - path: /mr/Lesson/LES831  (lesson_page) \n",
      "                children:\n",
      "                 - path: /CourseContent/videos/m_odd_numbers_fun.mp4  (PrathamVideoResource) \n",
      "                 - path: /CourseContent/videos/m_palindrome.mp4  (PrathamVideoResource) \n",
      "                 - path: /CourseContent/videos/m_perfect_numbers.mp4  (PrathamVideoResource) \n",
      "           - path: /mr/Course/Mathematics/CRS64  (subtopic_page) \n",
      "             children:\n",
      "              - path: /mr/Lesson/LES832  (lesson_page) \n",
      "                children:\n",
      "                 - path: /CourseContent/videos/m_quantityNmeasure1.mp4  (PrathamVideoResource) \n",
      "                 - path: /CourseContent/videos/m_quantityNmeasure2.mp4  (PrathamVideoResource) \n",
      "                 - path: /CourseContent/videos/m_quantityNmeasure3.mp4  (PrathamVideoResource) \n",
      "                 - path: /CourseContent/videos/m_quantityNmeasure4.mp4  (PrathamVideoResource) \n",
      "           - path: /mr/Course/Mathematics/CRS36  (subtopic_page) \n",
      "             children:\n",
      "              - path: /mr/Lesson/LES438  (lesson_page) \n",
      "                children:\n",
      "                 - path: /CourseContent/Games/Mathematics/mr_triangle_est_home.html  (UnsupportedPrathamWebResource) \n",
      "                 - path: /CourseContent/Games/Mathematics/mr_triangle.html  (UnsupportedPrathamWebResource) \n",
      "                 - path: /CourseContent/videos/m_triangle_fun.mp4  (PrathamVideoResource) \n",
      "                 - path: /CourseContent/videos/m_triangle_types.mp4  (PrathamVideoResource) \n",
      "                 - path: /CourseContent/PDF/Reading_Card6.pdf  (PrathamPdfResource) \n",
      "                 - path: /CourseContent/PDF/Reading_Card7.pdf  (PrathamPdfResource) \n",
      "              - path: /mr/Lesson/LES439  (lesson_page) \n",
      "                children:\n",
      "                 - path: /CourseContent/Games/Mathematics/mr_circle_est.html  (UnsupportedPrathamWebResource) \n",
      "                 - path: /CourseContent/Games/Mathematics/mr_circle.html  (UnsupportedPrathamWebResource) \n",
      "                 - path: /CourseContent/videos/m_circle.mp4  (PrathamVideoResource) \n",
      "                 - path: /CourseContent/PDF/Reading_Card9.pdf  (PrathamPdfResource) \n",
      "                 - path: /CourseContent/PDF/Reading-Card10.pdf  (PrathamPdfResource) \n",
      "              - path: /mr/Lesson/LES440  (lesson_page) \n",
      "                children:\n",
      "                 - path: /CourseContent/Games/Mathematics/mr_triangle_est_home.html  (UnsupportedPrathamWebResource) \n",
      "                 - path: /CourseContent/Games/Mathematics/mr_rect_est_home.html  (UnsupportedPrathamWebResource) \n",
      "                 - path: /CourseContent/Games/Mathematics/mr_circle_est.html  (UnsupportedPrathamWebResource) \n",
      "                 - path: /CourseContent/Games/Mathematics.zip  (PrathamZipResource) \n",
      "                 - path: /CourseContent/videos/m_area.mp4  (PrathamVideoResource) \n",
      "                 - path: /CourseContent/videos/m_tell_yuglid_baba.mp4  (PrathamVideoResource) \n",
      "              - path: /mr/Lesson/LES441  (lesson_page) \n",
      "                children:\n",
      "                 - path: /CourseContent/Games/Mathematics/mr_perimeter.html  (UnsupportedPrathamWebResource) \n",
      "                 - path: /CourseContent/Games/Mathematics/mr_peri_rectangle_est_home.html  (UnsupportedPrathamWebResource) \n",
      "                 - path: /CourseContent/Games/Mathematics/mr_peri_square_est_home.html  (UnsupportedPrathamWebResource) \n",
      "                 - path: /CourseContent/Games/Mathematics/mr_peri_triangle_est_home.html  (UnsupportedPrathamWebResource) \n",
      "                 - path: /CourseContent/Games/Mathematics/mr_peri_circle_est.html  (UnsupportedPrathamWebResource) \n",
      "                 - path: /CourseContent/videos/m_perimeter.mp4  (PrathamVideoResource) \n",
      "                 - path: /CourseContent/PDF/perimeter.pdf  (PrathamPdfResource) \n",
      "                 - path: /CourseContent/PDF/Reading_Card11.pdf  (PrathamPdfResource) \n",
      "              - path: /mr/Lesson/LES437  (lesson_page) \n",
      "                children:\n",
      "                 - path: /CourseContent/Games/Mathematics.zip  (PrathamZipResource) \n",
      "                 - path: /CourseContent/Games/Mathematics/mr_angle.html  (UnsupportedPrathamWebResource) \n",
      "                 - path: /CourseContent/videos/m_angle.mp4  (PrathamVideoResource) \n",
      "                 - path: /CourseContent/videos/m_angle_types.mp4  (PrathamVideoResource) \n",
      "                 - path: /CourseContent/PDF/Reading_Card5.pdf  (PrathamPdfResource) \n",
      "           - path: /mr/Course/Mathematics/CRS37  (subtopic_page) \n",
      "             children:\n",
      "              - path: /mr/Lesson/LES442  (lesson_page) \n",
      "                children:\n",
      "                 - path: /CourseContent/Games/Vibhajya(Marathi).zip  (PrathamZipResource) \n",
      "                 - path: /CourseContent/videos/m_multiple2.mp4  (PrathamVideoResource) \n",
      "                 - path: /CourseContent/videos/m_multiple1.mp4  (PrathamVideoResource) \n",
      "                 - path: /CourseContent/videos/m_multiple1.mp4  (PrathamVideoResource) \n",
      "                 - path: /CourseContent/videos/m_multiple2.mp4  (PrathamVideoResource) \n",
      "              - path: /mr/Lesson/LES443  (lesson_page) \n",
      "                children:\n",
      "                 - path: /CourseContent/Games/FactorsGameNew_M/gamePage.html  (UnsupportedPrathamWebResource) \n",
      "                 - path: /CourseContent/Games/Vibhajak(Marathi).zip  (PrathamZipResource) \n",
      "                 - path: /CourseContent/videos/m_factor1.mp4  (PrathamVideoResource) \n",
      "                 - path: /CourseContent/videos/m_factor2.mp4  (PrathamVideoResource) \n",
      "                 - path: /CourseContent/videos/m_prime_factor.mp4  (PrathamVideoResource) \n",
      "              - path: /mr/Lesson/LES444  (lesson_page) \n",
      "                children:\n",
      "                 - path: /CourseContent/videos/m_math_relations1.mp4  (PrathamVideoResource) \n",
      "                 - path: /CourseContent/videos/m_math_relations2.mp4  (PrathamVideoResource) \n",
      "              - path: /mr/Lesson/LES445  (lesson_page) \n",
      "                children:\n",
      "                 - path: /CourseContent/Games/MathsBucketGame_M.zip  (PrathamZipResource) \n",
      "                 - path: /CourseContent/Games/primeFactors_M/primeFactors.html  (UnsupportedPrathamWebResource) \n",
      "                 - path: /CourseContent/Games/Masavi(Marathi).zip  (PrathamZipResource) \n",
      "                 - path: /CourseContent/videos/m_hcf.mp4  (PrathamVideoResource) \n",
      "                 - path: /CourseContent/videos/m_prime_factor.mp4  (PrathamVideoResource) \n",
      "                 - path: /CourseContent/videos/m_hcf_pf.mp4  (PrathamVideoResource) \n",
      "              - path: /mr/Lesson/LES446  (lesson_page) \n",
      "                children:\n",
      "                 - path: /CourseContent/Games/MathsBucketGame_M.zip  (PrathamZipResource) \n",
      "                 - path: /CourseContent/Games/primeFactors_M/primeFactors.html  (UnsupportedPrathamWebResource) \n",
      "                 - path: /CourseContent/Games/Lasavi(Marathi).zip  (PrathamZipResource) \n",
      "                 - path: /CourseContent/videos/m_lcm.mp4  (PrathamVideoResource) \n",
      "                 - path: /CourseContent/videos/m_lcm_train.mp4  (PrathamVideoResource) \n",
      "                 - path: /CourseContent/videos/m_prime_factor.mp4  (PrathamVideoResource) \n",
      "                 - path: /CourseContent/videos/m_lcm_pf.mp4  (PrathamVideoResource) \n",
      "              - path: /mr/Lesson/LES447  (lesson_page) \n",
      "                children:\n",
      "                 - path: /CourseContent/Games/Masavi(Marathi).zip  (PrathamZipResource) \n",
      "                 - path: /CourseContent/Games/Lasavi(Marathi).zip  (PrathamZipResource) \n",
      "                 - path: /CourseContent/videos/m_lcm_hcf_fun.mp4  (PrathamVideoResource) \n",
      "           - path: /mr/Course/Mathematics/CRS38  (subtopic_page) \n",
      "             children:\n",
      "              - path: /mr/Lesson/LES448  (lesson_page) \n",
      "                children:\n",
      "                 - path: /CourseContent/Games/newFractionGame_M/MainPage.html  (UnsupportedPrathamWebResource) \n",
      "                 - path: /CourseContent/videos/m_fraction.mp4  (PrathamVideoResource) \n",
      "                 - path: /CourseContent/videos/m_improper_fraction.mp4  (PrathamVideoResource) \n",
      "                 - path: /CourseContent/videos/m_fraction_types.mp4  (PrathamVideoResource) \n",
      "                 - path: /CourseContent/videos/m_fraction_lowest.mp4  (PrathamVideoResource) \n",
      "                 - path: /CourseContent/videos/m_equivalent_fraction.mp4  (PrathamVideoResource) \n",
      "                 - path: /CourseContent/videos/m_fraction_compare.mp4  (PrathamVideoResource) \n",
      "                 - path: /CourseContent/videos/m_equivalent_fraction.mp4  (PrathamVideoResource) \n",
      "              - path: /mr/Lesson/LES449  (lesson_page) \n",
      "                children:\n",
      "                 - path: /CourseContent/videos/m_fraction_addition.mp4  (PrathamVideoResource) \n",
      "                 - path: /CourseContent/videos/m_fraction_subtraction.mp4  (PrathamVideoResource) \n",
      "                 - path: /CourseContent/videos/m_fraction_multiplication1.mp4  (PrathamVideoResource) \n",
      "                 - path: /CourseContent/videos/m_fraction_multiplication2.mp4  (PrathamVideoResource) \n",
      "              - path: /mr/Lesson/LES450  (lesson_page) \n",
      "                children:\n",
      "                 - path: /CourseContent/Games/Mathematics/mr_decimal.html  (UnsupportedPrathamWebResource) \n",
      "                 - path: /CourseContent/Games/fraction (marathi)/MainPage.html  (UnsupportedPrathamWebResource) \n",
      "                 - path: /CourseContent/Games/PlaceValue_M.zip  (PrathamZipResource) \n",
      "                 - path: /CourseContent/videos/m_decimal.mp4  (PrathamVideoResource) \n",
      "                 - path: /CourseContent/PDF/Reading_Card4.pdf  (PrathamPdfResource) \n",
      "                 - path: /CourseContent/videos/m_decimal_compare.mp4  (PrathamVideoResource) \n",
      "                 - path: /CourseContent/videos/m_decimalToFraction.mp4  (PrathamVideoResource) \n",
      "                 - path: /CourseContent/videos/m_fractionToDecimal.mp4  (PrathamVideoResource) \n",
      "              - path: /mr/Lesson/LES451  (lesson_page) \n",
      "                children:\n",
      "                 - path: /CourseContent/Games/Mathematics/mr_decimal.html  (UnsupportedPrathamWebResource) \n",
      "                 - path: /CourseContent/Games/PlaceValue_M.zip  (PrathamZipResource) \n",
      "                 - path: /CourseContent/videos/m_decimal_addition.mp4  (PrathamVideoResource) \n",
      "                 - path: /CourseContent/videos/m_decimal_subtraction.mp4  (PrathamVideoResource) \n",
      "              - path: /mr/Lesson/LES452  (lesson_page) \n",
      "                children:\n",
      "                 - path: /CourseContent/videos/m_percent.mp4  (PrathamVideoResource) \n",
      "                 - path: /CourseContent/videos/m_fraction_addition.mp4  (PrathamVideoResource) \n",
      "                 - path: /CourseContent/videos/m_fraction_subtraction.mp4  (PrathamVideoResource) \n",
      "                 - path: /CourseContent/videos/m_fraction_multiplication1.mp4  (PrathamVideoResource) \n",
      "                 - path: /CourseContent/videos/m_fraction_multiplication2.mp4  (PrathamVideoResource) \n",
      "                 - path: /CourseContent/videos/m_decimal_addition.mp4  (PrathamVideoResource) \n",
      "                 - path: /CourseContent/videos/m_decimal_subtraction.mp4  (PrathamVideoResource) \n",
      "                 - path: /CourseContent/videos/m_percent.mp4  (PrathamVideoResource) \n",
      "                 - path: /CourseContent/videos/m_percent_fraction.mp4  (PrathamVideoResource) \n",
      "                 - path: /CourseContent/videos/m_fraction_percent.mp4  (PrathamVideoResource) \n",
      "           - path: /mr/Course/Mathematics/CRS39  (subtopic_page) \n",
      "             children:\n",
      "              - path: /mr/Lesson/LES453  (lesson_page) \n",
      "                children:\n",
      "                 - path: /CourseContent/videos/m_interest_intro.mp4  (PrathamVideoResource) \n",
      "                 - path: /CourseContent/videos/m_simple_interest.mp4  (PrathamVideoResource) \n",
      "                 - path: /CourseContent/videos/m_simple_int_prob1.mp4  (PrathamVideoResource) \n",
      "           - path: /mr/Course/Mathematics/CRS40  (subtopic_page) \n",
      "             children:\n",
      "              - path: /mr/Lesson/LES454  (lesson_page) \n",
      "                children:\n",
      "                 - path: /CourseContent/videos/m_squares_intro.mp4  (PrathamVideoResource) \n",
      "                 - path: /CourseContent/videos/m_square_root.mp4  (PrathamVideoResource) \n",
      "                 - path: /CourseContent/videos/m_square_fun.mp4  (PrathamVideoResource) \n",
      "                 - path: /CourseContent/videos/m_triangular_square.mp4  (PrathamVideoResource) \n",
      "           - path: /mr/Course/Mathematics/CRS41  (subtopic_page) \n",
      "             children:\n",
      "              - path: /mr/Lesson/LES455  (lesson_page) \n",
      "                children:\n",
      "                 - path: /CourseContent/videos/m_algebra1.mp4  (PrathamVideoResource) \n",
      "                 - path: /CourseContent/videos/m_algebra2.mp4  (PrathamVideoResource) \n",
      "        - path: /mr/Course/English  (topic_page) \n",
      "          children:\n",
      "           - path: /mr/Course/English/CRS34  (subtopic_page) \n",
      "             children:\n",
      "              - path: /mr/Lesson/LES425  (lesson_page) \n",
      "                children:\n",
      "                 - path: /CourseContent/Games/matchWords_M.zip  (PrathamZipResource) \n",
      "                 - path: /CourseContent/Games/TranslateMarathiToEnglish.zip  (PrathamZipResource) \n",
      "                 - path: /CourseContent/Games/pictureReplacement.zip  (PrathamZipResource) \n",
      "                 - path: /CourseContent/videos/m_meeting_with_rahul.mp4  (PrathamVideoResource) \n",
      "                 - path: /CourseContent/videos/friendshi_with_rahul.mp4  (PrathamVideoResource) \n",
      "                 - path: /CourseContent/videos/meeting_madhu_and_deepak.mp4  (PrathamVideoResource) \n",
      "                 - path: /CourseContent/videos/friendship_with_madhu_deepak.mp4  (PrathamVideoResource) \n",
      "                 - path: /CourseContent/videos/Talking_with_new_friends.mp4  (PrathamVideoResource) \n",
      "                 - path: /CourseContent/videos/meeting_with_Rahul.mp4  (PrathamVideoResource) \n",
      "                 - path: /CourseContent/videos/meeting_with_Rahul.mp4  (PrathamVideoResource) \n",
      "              - path: /mr/Lesson/LES426  (lesson_page) \n",
      "                children:\n",
      "                 - path: /CourseContent/Games/TranslateMarathiToEnglishLevel2.zip  (PrathamZipResource) \n",
      "                 - path: /CourseContent/videos/rahul_parents_meeting.mp4  (PrathamVideoResource) \n",
      "                 - path: /CourseContent/videos/meeting_rahul_parents_at_evening.mp4  (PrathamVideoResource) \n",
      "                 - path: /CourseContent/videos/2_family_meeting.mp4  (PrathamVideoResource) \n",
      "                 - path: /CourseContent/videos/new_friendship.mp4  (PrathamVideoResource) \n",
      "                 - path: /CourseContent/videos/lovely_family.mp4  (PrathamVideoResource) \n",
      "              - path: /mr/Lesson/LES427  (lesson_page) \n",
      "                children:\n",
      "                 - path: /CourseContent/Games/TranslateMarathiToEnglishLevel3.zip  (PrathamZipResource) \n",
      "                 - path: /CourseContent/Games/pictureReplacement(-ing form).zip  (PrathamZipResource) \n",
      "                 - path: /CourseContent/videos/3.1_New_guy_in_town.mp4  (PrathamVideoResource) \n",
      "                 - path: /CourseContent/videos/3.2_Lunch_with_Dolly.mp4  (PrathamVideoResource) \n",
      "                 - path: /CourseContent/videos/3.3_Seemas_questions.mp4  (PrathamVideoResource) \n",
      "                 - path: /CourseContent/videos/3.4_Where_is_everyone_.mp4  (PrathamVideoResource) \n",
      "                 - path: /CourseContent/videos/3.5_Seema_runs_into_dolly.mp4  (PrathamVideoResource) \n",
      "                 - path: /CourseContent/videos/3.6_Seema_meets_Dolly_in_her_house.mp4  (PrathamVideoResource) \n",
      "              - path: /mr/Lesson/LES428  (lesson_page) \n",
      "                children:\n",
      "                 - path: /CourseContent/Games/Build-a-Sentence(English).zip  (PrathamZipResource) \n",
      "                 - path: /CourseContent/Games/TranslateMarathiToEnglishLevel4.zip  (PrathamZipResource) \n",
      "                 - path: /CourseContent/videos/4.1_Favorite_actors.mp4  (PrathamVideoResource) \n",
      "                 - path: /CourseContent/videos/4.2_Fight_of_the_fans.mp4  (PrathamVideoResource) \n",
      "                 - path: /CourseContent/videos/4.3_Going_to_the_movie.mp4  (PrathamVideoResource) \n",
      "                 - path: /CourseContent/videos/4.4_Discussion_about_the_movie.mp4  (PrathamVideoResource) \n",
      "                 - path: /CourseContent/videos/4.5_Likes_and_dislikes_Seema_and_Madhu.mp4  (PrathamVideoResource) \n",
      "                 - path: /CourseContent/videos/4.6_Likes_and_dislikes_Deepak_and_Rahul (Revison).mp4  (PrathamVideoResource) \n",
      "              - path: /mr/Lesson/LES429  (lesson_page) \n",
      "                children:\n",
      "                 - path: /CourseContent/Games/vanishingSentenceGame_M.zip  (PrathamZipResource) \n",
      "                 - path: /CourseContent/videos/6.1_Shopping.mp4  (PrathamVideoResource) \n",
      "                 - path: /CourseContent/videos/6.2_Ramu_kakas_shop.mp4  (PrathamVideoResource) \n",
      "                 - path: /CourseContent/videos/6.3_Grocery_shopping.mp4  (PrathamVideoResource) \n",
      "                 - path: /CourseContent/videos/6.4_Fashion_point-Garment_store.mp4  (PrathamVideoResource) \n",
      "                 - path: /CourseContent/videos/6.5_Revision-Ramu_kakas_shop.mp4  (PrathamVideoResource) \n",
      "              - path: /mr/Lesson/LES430  (lesson_page) \n",
      "                children:\n",
      "                 - path: /CourseContent/videos/7.1_Story_Slection.mp4  (PrathamVideoResource) \n",
      "                 - path: /CourseContent/videos/7.2_Big_plans_for_the_movie.mp4  (PrathamVideoResource) \n",
      "                 - path: /CourseContent/videos/7.3_Deciding_the_roles.mp4  (PrathamVideoResource) \n",
      "                 - path: /CourseContent/videos/7.4_Shooting.mp4  (PrathamVideoResource) \n",
      "              - path: /mr/Lesson/LES431  (lesson_page) \n",
      "                children:\n",
      "                 - path: /CourseContent/Games/RhymingWordsGame.zip  (PrathamZipResource) \n",
      "                 - path: /CourseContent/videos/8.1_Wedding_News.mp4  (PrathamVideoResource) \n",
      "                 - path: /CourseContent/videos/8.2_Inviting_my_friends.mp4  (PrathamVideoResource) \n",
      "                 - path: /CourseContent/videos/8.3_Colorful_wedding_clothes.mp4  (PrathamVideoResource) \n",
      "                 - path: /CourseContent/videos/8.4_Salma_didis_Party.mp4  (PrathamVideoResource) \n",
      "              - path: /mr/Lesson/LES432  (lesson_page) \n",
      "                children:\n",
      "                 - path: /CourseContent/videos/9.01_Todays_news_with_Kavita.mp4  (PrathamVideoResource) \n",
      "                 - path: /CourseContent/videos/9.02_My_friends_interview.mp4  (PrathamVideoResource) \n",
      "                 - path: /CourseContent/videos/9.03_Mummys_interview.mp4  (PrathamVideoResource) \n",
      "              - path: /mr/Lesson/LES433  (lesson_page) \n",
      "                children:\n",
      "                 - path: /CourseContent/videos/10.1_Oh_no_It’s_a_ghost.mp4  (PrathamVideoResource) \n",
      "                 - path: /CourseContent/videos/10.2_Where_did_the_jalebi_go.mp4  (PrathamVideoResource) \n",
      "                 - path: /CourseContent/videos/10.3_Rat_in_the_house.mp4  (PrathamVideoResource) \n",
      "                 - path: /CourseContent/videos/10.4_Catch_the_rat.mp4  (PrathamVideoResource) \n",
      "                 - path: /CourseContent/videos/10.5_The_rat_is_gone.mp4  (PrathamVideoResource) \n",
      "              - path: /mr/Lesson/LES434  (lesson_page) \n",
      "                children:\n",
      "                 - path: /CourseContent/videos/11.1_Naughty_kid.mp4  (PrathamVideoResource) \n",
      "                 - path: /CourseContent/videos/11.2_Call_Dr_Didi.mp4  (PrathamVideoResource) \n",
      "                 - path: /CourseContent/videos/11.3_Yash_understands.mp4  (PrathamVideoResource) \n",
      "                 - path: /CourseContent/videos/11.4_Young_Khalis.mp4  (PrathamVideoResource) \n",
      "                 - path: /CourseContent/videos/11.5_Well_done.mp4  (PrathamVideoResource) \n",
      "              - path: /mr/Lesson/LES435  (lesson_page) \n",
      "                children:\n",
      "                 - path: /CourseContent/videos/No_light_no_work.mp4  (PrathamVideoResource) \n",
      "                 - path: /CourseContent/videos/Rohit_Bhaiya_Ideas.mp4  (PrathamVideoResource) \n",
      "                 - path: /CourseContent/videos/Little_Engineers.mp4  (PrathamVideoResource) \n",
      "                 - path: /CourseContent/videos/Our_new_lightbulb.mp4  (PrathamVideoResource) \n",
      "              - path: /mr/Lesson/LES436  (lesson_page) \n",
      "                children:\n",
      "                 - path: /CourseContent/videos/Game_1.mp4  (PrathamVideoResource) \n",
      "                 - path: /CourseContent/videos/Game_2.mp4  (PrathamVideoResource) \n",
      "                 - path: /CourseContent/videos/Game_3.mp4  (PrathamVideoResource) \n",
      "              - path: /mr/Lesson/LES827  (lesson_page) \n",
      "                children:\n",
      "                 - path: /CourseContent/Games/matchWords_M.zip  (PrathamZipResource) \n",
      "                 - path: /CourseContent/videos/5.1_Good_Morning.mp4  (PrathamVideoResource) \n",
      "                 - path: /CourseContent/videos/5.2_On_the_way_to_school.mp4  (PrathamVideoResource) \n",
      "                 - path: /CourseContent/videos/5.3_Time_Pass.mp4  (PrathamVideoResource) \n",
      "                 - path: /CourseContent/videos/5.4_Birthdays_in_one_day.mp4  (PrathamVideoResource) \n",
      "                 - path: /CourseContent/videos/5.5_Running_race.mp4  (PrathamVideoResource) \n",
      "                 - path: /CourseContent/videos/5.6_Revision_Nishas_plans.mp4  (PrathamVideoResource) \n",
      "           - path: /mr/Course/English/CRS35  (subtopic_page) \n",
      "             children:\n",
      "              - path: /mr/Lesson/LES816  (lesson_page) \n",
      "                children:\n",
      "                 - path: /CourseContent/Games/FlipIt/index.html  (UnsupportedPrathamWebResource) \n",
      "              - path: /mr/Lesson/LES817  (lesson_page) \n",
      "                children:\n",
      "                 - path: /CourseContent/Games/CrumbleTumble/index.html  (UnsupportedPrathamWebResource) \n",
      "              - path: /mr/Lesson/LES818  (lesson_page) \n",
      "                children:\n",
      "                 - path: /CourseContent/Games/fixUpMixUp/index.html  (UnsupportedPrathamWebResource) \n",
      "              - path: /mr/Lesson/LES819  (lesson_page) \n",
      "                children:\n",
      "                 - path: /CourseContent/Games/YouSaid/index.html  (UnsupportedPrathamWebResource) \n",
      "              - path: /mr/Lesson/LES820  (lesson_page) \n",
      "                children:\n",
      "                 - path: /CourseContent/Games/PointMeOut/index.html  (UnsupportedPrathamWebResource) \n",
      "              - path: /mr/Lesson/LES821  (lesson_page) \n",
      "                children:\n",
      "                 - path: /CourseContent/Games/GuessWho/index.html  (UnsupportedPrathamWebResource) \n",
      "              - path: /mr/Lesson/LES822  (lesson_page) \n",
      "                children:\n",
      "                 - path: /CourseContent/Games/ABCD/index.html  (UnsupportedPrathamWebResource) \n",
      "              - path: /mr/Lesson/LES823  (lesson_page) \n",
      "                children:\n",
      "                 - path: /CourseContent/Games/LetterBox/index.html  (UnsupportedPrathamWebResource) \n",
      "              - path: /mr/Lesson/LES824  (lesson_page) \n",
      "                children:\n",
      "                 - path: /CourseContent/Games/JumbleTumble/index.html  (UnsupportedPrathamWebResource) \n",
      "              - path: /mr/Lesson/LES825  (lesson_page) \n",
      "                children:\n",
      "                 - path: /CourseContent/Games/CountAndKnow_HI/index.html  (UnsupportedPrathamWebResource) \n",
      "              - path: /mr/Lesson/LES826  (lesson_page) \n",
      "                children:\n",
      "                 - path: /CourseContent/Games/CountIt/index.html  (UnsupportedPrathamWebResource) \n",
      "           - path: /mr/Course/English/CRS97  (subtopic_page) \n",
      "             children:\n",
      "              - path: /mr/Lesson/LES921  (lesson_page) \n",
      "                children:\n",
      "                 - path: /CourseContent/videos/AOK_1.1.mp4  (PrathamVideoResource) \n",
      "                 - path: /CourseContent/videos/AOK_1.2.mp4  (PrathamVideoResource) \n",
      "                 - path: /CourseContent/videos/AOK_1.3.mp4  (PrathamVideoResource) \n",
      "              - path: /mr/Lesson/LES922  (lesson_page) \n",
      "                children:\n",
      "                 - path: /CourseContent/videos/AOK_2.1.mp4  (PrathamVideoResource) \n",
      "                 - path: /CourseContent/videos/AOK_2.2.mp4  (PrathamVideoResource) \n",
      "                 - path: /CourseContent/videos/AOK_2.3.mp4  (PrathamVideoResource) \n",
      "              - path: /mr/Lesson/LES923  (lesson_page) \n",
      "                children:\n",
      "                 - path: /CourseContent/videos/AOK_3.1.mp4  (PrathamVideoResource) \n",
      "                 - path: /CourseContent/videos/AOK_3.2.mp4  (PrathamVideoResource) \n",
      "                 - path: /CourseContent/videos/AOK_3.3.mp4  (PrathamVideoResource) \n",
      "              - path: /mr/Lesson/LES924  (lesson_page) \n",
      "                children:\n",
      "                 - path: /CourseContent/videos/AOK_4.1.mp4  (PrathamVideoResource) \n",
      "                 - path: /CourseContent/videos/AOK_4.2.mp4  (PrathamVideoResource) \n",
      "                 - path: /CourseContent/videos/AOK_4.3.mp4  (PrathamVideoResource) \n",
      "              - path: /mr/Lesson/LES925  (lesson_page) \n",
      "                children:\n",
      "                 - path: /CourseContent/videos/AOK_5.1.mp4  (PrathamVideoResource) \n",
      "                 - path: /CourseContent/videos/AOK_5.2.mp4  (PrathamVideoResource) \n",
      "                 - path: /CourseContent/videos/AOK_5.3.mp4  (PrathamVideoResource) \n",
      "              - path: /mr/Lesson/LES926  (lesson_page) \n",
      "                children:\n",
      "                 - path: /CourseContent/videos/AOK_6.1.mp4  (PrathamVideoResource) \n",
      "                 - path: /CourseContent/videos/AOK_6.2.mp4  (PrathamVideoResource) \n",
      "                 - path: /CourseContent/videos/AOK_6.3.mp4  (PrathamVideoResource) \n",
      "              - path: /mr/Lesson/LES927  (lesson_page) \n",
      "                children:\n",
      "                 - path: /CourseContent/videos/AOK_8.1.mp4  (PrathamVideoResource) \n",
      "                 - path: /CourseContent/videos/AOK_8.2.mp4  (PrathamVideoResource) \n",
      "                 - path: /CourseContent/videos/AOK_8.3.mp4  (PrathamVideoResource) \n",
      "              - path: /mr/Lesson/LES928  (lesson_page) \n",
      "                children:\n",
      "                 - path: /CourseContent/videos/AOK_9.1.mp4  (PrathamVideoResource) \n",
      "                 - path: /CourseContent/videos/AOK_9.2.mp4  (PrathamVideoResource) \n",
      "                 - path: /CourseContent/videos/AOK_9.3.mp4  (PrathamVideoResource) \n",
      "              - path: /mr/Lesson/LES929  (lesson_page) \n",
      "                children:\n",
      "                 - path: /CourseContent/videos/AOK_10.1.mp4  (PrathamVideoResource) \n",
      "                 - path: /CourseContent/videos/AOK_10.2.mp4  (PrathamVideoResource) \n",
      "                 - path: /CourseContent/videos/AOK_10.3.mp4  (PrathamVideoResource) \n",
      "              - path: /mr/Lesson/LES930  (lesson_page) \n",
      "                children:\n",
      "                 - path: /CourseContent/videos/AOK_11.1.mp4  (PrathamVideoResource) \n",
      "                 - path: /CourseContent/videos/AOK_11.2.mp4  (PrathamVideoResource) \n",
      "                 - path: /CourseContent/videos/AOK_11.3.mp4  (PrathamVideoResource) \n",
      "              - path: /mr/Lesson/LES931  (lesson_page) \n",
      "                children:\n",
      "                 - path: /CourseContent/videos/AOK_12.1.mp4  (PrathamVideoResource) \n",
      "                 - path: /CourseContent/videos/AOK_12.2.mp4  (PrathamVideoResource) \n",
      "                 - path: /CourseContent/videos/AOK_12.3.mp4  (PrathamVideoResource) \n",
      "              - path: /mr/Lesson/LES932  (lesson_page) \n",
      "                children:\n",
      "                 - path: /CourseContent/videos/AOK_13.1.mp4  (PrathamVideoResource) \n",
      "                 - path: /CourseContent/videos/AOK_13.2.mp4  (PrathamVideoResource) \n",
      "                 - path: /CourseContent/videos/AOK_13.3.mp4  (PrathamVideoResource) \n",
      "        - path: /mr/Course/Science  (topic_page) \n",
      "          children:\n",
      "           - path: /mr/Course/Science/CRS71  (subtopic_page) \n",
      "             children:\n",
      "              - path: /mr/Lesson/LES844  (lesson_page) \n",
      "                children:\n",
      "                 - path: /CourseContent/videos/m_Ganv_ki_Sair.mp4  (PrathamVideoResource) \n",
      "           - path: /mr/Course/Science/CRS72  (subtopic_page) \n",
      "             children:\n",
      "              - path: /mr/Lesson/LES845  (lesson_page) \n",
      "                children:\n",
      "                 - path: /CourseContent/videos/m_Lever_&_mechanical_advantage.mp4  (PrathamVideoResource) \n",
      "                 - path: /CourseContent/videos/m_Lever_Simple_machine.mp4  (PrathamVideoResource) \n",
      "                 - path: /CourseContent/videos/m_Inclined_plane_Simple_machine.mp4  (PrathamVideoResource) \n",
      "                 - path: /CourseContent/videos/m_Pulley_and_its_advantage.mp4  (PrathamVideoResource) \n",
      "                 - path: /CourseContent/videos/m_Pulley_advantage_and_disadvantages_1.mp4  (PrathamVideoResource) \n",
      "                 - path: /CourseContent/videos/m_Pulley_advantage_and_disadvantages_2.mp4  (PrathamVideoResource) \n",
      "                 - path: /CourseContent/videos/m_Funicular_railway.mp4  (PrathamVideoResource) \n",
      "           - path: /mr/Course/Science/CRS73  (subtopic_page) \n",
      "             children:\n",
      "              - path: /mr/Lesson/LES846  (lesson_page) \n",
      "                children:\n",
      "                 - path: /CourseContent/videos/m_First_Aid_box.mp4  (PrathamVideoResource) \n",
      "           - path: /mr/Course/Science/CRS42  (subtopic_page) \n",
      "             children:\n",
      "              - path: /mr/Lesson/LES456  (lesson_page) \n",
      "                children:\n",
      "                 - path: /CourseContent/videos/m_mirror.mp4  (PrathamVideoResource) \n",
      "                 - path: /CourseContent/videos/m_shadow.mp4  (PrathamVideoResource) \n",
      "                 - path: /CourseContent/videos/m_reflection.mp4  (PrathamVideoResource) \n",
      "                 - path: /CourseContent/videos/m_sun_colour.mp4  (PrathamVideoResource) \n",
      "                 - path: /CourseContent/Games/ScienceBucketGame_M/BucketGame.html  (UnsupportedPrathamWebResource) \n",
      "                 - path: /CourseContent/videos/m_cage_bird.mp4  (PrathamVideoResource) \n",
      "                 - path: /CourseContent/videos/m_magic_coin.mp4  (PrathamVideoResource) \n",
      "                 - path: /CourseContent/videos/m_invisible_coin.mp4  (PrathamVideoResource) \n",
      "                 - path: /CourseContent/videos/m_house_light.mp4  (PrathamVideoResource) \n",
      "                 - path: /CourseContent/PDF/m_Prakashyache_Sankraman.pdf  (PrathamPdfResource) \n",
      "                 - path: /CourseContent/videos/m_mirror.mp4  (PrathamVideoResource) \n",
      "              - path: /mr/Lesson/LES457  (lesson_page) \n",
      "                children:\n",
      "                 - path: /CourseContent/videos/m_colourful_world1.mp4  (PrathamVideoResource) \n",
      "                 - path: /CourseContent/videos/m_colourful_world2.mp4  (PrathamVideoResource) \n",
      "                 - path: /CourseContent/videos/m_light_day.mp4  (PrathamVideoResource) \n",
      "              - path: /mr/Lesson/LES458  (lesson_page) \n",
      "                children:\n",
      "                 - path: /CourseContent/videos/m_light_day.mp4  (PrathamVideoResource) \n",
      "           - path: /mr/Course/Science/CRS43  (subtopic_page) \n",
      "             children:\n",
      "              - path: /mr/Lesson/LES459  (lesson_page) \n",
      "                children:\n",
      "                 - path: /CourseContent/Games/ScienceBucketGame_M/BucketGame.html  (UnsupportedPrathamWebResource) \n",
      "                 - path: /CourseContent/videos/m_liquid_state.mp4  (PrathamVideoResource) \n",
      "              - path: /mr/Lesson/LES460  (lesson_page) \n",
      "                children:\n",
      "                 - path: /CourseContent/Games/planetGame_M/welcomeScreen.html  (UnsupportedPrathamWebResource) \n",
      "                 - path: /CourseContent/videos/m_acceleration.mp4  (PrathamVideoResource) \n",
      "                 - path: /CourseContent/videos/m_pressure.mp4  (PrathamVideoResource) \n",
      "                 - path: /CourseContent/videos/m_force.mp4  (PrathamVideoResource) \n",
      "                 - path: /CourseContent/videos/m_mass_weight1.mp4  (PrathamVideoResource) \n",
      "                 - path: /CourseContent/videos/m_mass_weight2.mp4  (PrathamVideoResource) \n",
      "                 - path: /CourseContent/videos/m_time_distance_weight.mp4  (PrathamVideoResource) \n",
      "                 - path: /CourseContent/videos/m_force.mp4  (PrathamVideoResource) \n",
      "                 - path: /CourseContent/videos/m_pressure.mp4  (PrathamVideoResource) \n",
      "                 - path: /CourseContent/videos/m_acceleration.mp4  (PrathamVideoResource) \n",
      "                 - path: /CourseContent/videos/m_weight1.mp4  (PrathamVideoResource) \n",
      "                 - path: /CourseContent/videos/m_weight2.mp4  (PrathamVideoResource) \n",
      "              - path: /mr/Lesson/LES461  (lesson_page) \n",
      "                children:\n",
      "                 - path: /CourseContent/videos/m_molecule_structure.mp4  (PrathamVideoResource) \n",
      "              - path: /mr/Lesson/LES462  (lesson_page) \n",
      "                children:\n",
      "                 - path: /CourseContent/videos/m_liquid_solid.mp4  (PrathamVideoResource) \n",
      "                 - path: /CourseContent/videos/m_vajankyahoga.mp4  (PrathamVideoResource) \n",
      "                 - path: /CourseContent/videos/m_doobegayatairega.mp4  (PrathamVideoResource) \n",
      "                 - path: /CourseContent/videos/m_gubbareudengey.mp4  (PrathamVideoResource) \n",
      "           - path: /mr/Course/Science/CRS44  (subtopic_page) \n",
      "             children:\n",
      "              - path: /mr/Lesson/LES463  (lesson_page) \n",
      "                children:\n",
      "                 - path: /CourseContent/Games/Bone Game(Dr. Haddi)_M.zip  (PrathamZipResource) \n",
      "                 - path: /CourseContent/videos/m_skeleton_system_general.mp4  (PrathamVideoResource) \n",
      "                 - path: /CourseContent/videos/m_skeleton_system1.mp4  (PrathamVideoResource) \n",
      "                 - path: /CourseContent/videos/m_skeleton_system2.mp4  (PrathamVideoResource) \n",
      "                 - path: /CourseContent/videos/m_skeleton_system3.mp4  (PrathamVideoResource) \n",
      "                 - path: /CourseContent/videos/m_skeleton_system4.mp4  (PrathamVideoResource) \n",
      "                 - path: /CourseContent/videos/m_skeleton_system5.mp4  (PrathamVideoResource) \n",
      "                 - path: /CourseContent/videos/m_ackrobat_skeleton.mp4  (PrathamVideoResource) \n",
      "                 - path: /CourseContent/videos/m_hingeMan.mp4  (PrathamVideoResource) \n",
      "              - path: /mr/Lesson/LES464  (lesson_page) \n",
      "                children:\n",
      "                 - path: /CourseContent/videos/m_Blood_pressure.mp4  (PrathamVideoResource) \n",
      "                 - path: /CourseContent/videos/m_Blood_pressure_checking.mp4  (PrathamVideoResource) \n",
      "                 - path: /CourseContent/videos/m_bloodIntro.mp4  (PrathamVideoResource) \n",
      "                 - path: /CourseContent/videos/m_formationOfBlood.mp4  (PrathamVideoResource) \n",
      "                 - path: /CourseContent/videos/m_circulatorySystem.mp4  (PrathamVideoResource) \n",
      "              - path: /mr/Lesson/LES843  (lesson_page) \n",
      "                children:\n",
      "                 - path: /CourseContent/videos/m_Chintu_ban_gaya_chashmebaddur.mp4  (PrathamVideoResource) \n",
      "                 - path: /CourseContent/videos/m_Working_of_eye.mp4  (PrathamVideoResource) \n",
      "                 - path: /CourseContent/videos/m_ModelhumanEye.mp4  (PrathamVideoResource) \n",
      "                 - path: /CourseContent/videos/m_Movie_time.mp4  (PrathamVideoResource) \n",
      "                 - path: /CourseContent/videos/m_colourful_world1.mp4  (PrathamVideoResource) \n",
      "                 - path: /CourseContent/videos/m_fun_talkingeyes.mp4  (PrathamVideoResource) \n",
      "              - path: /mr/Lesson/LES848  (lesson_page) \n",
      "                children:\n",
      "                 - path: /CourseContent/videos/m_Skin.mp4  (PrathamVideoResource) \n",
      "           - path: /mr/Course/Science/CRS45  (subtopic_page) \n",
      "             children:\n",
      "              - path: /mr/Lesson/LES465  (lesson_page) \n",
      "                children:\n",
      "                 - path: /CourseContent/videos/m_quantityNmeasure1.mp4  (PrathamVideoResource) \n",
      "                 - path: /CourseContent/videos/m_quantityNmeasure2.mp4  (PrathamVideoResource) \n",
      "                 - path: /CourseContent/videos/m_quantityNmeasure3.mp4  (PrathamVideoResource) \n",
      "                 - path: /CourseContent/videos/m_quantityNmeasure4.mp4  (PrathamVideoResource) \n",
      "                 - path: /CourseContent/videos/m_quantityNmeasure5.mp4  (PrathamVideoResource) \n",
      "                 - path: /CourseContent/videos/m_estimate_building_height.mp4  (PrathamVideoResource) \n",
      "                 - path: /CourseContent/videos/m_measure_pole_height.mp4  (PrathamVideoResource) \n",
      "                 - path: /CourseContent/videos/m_dheel.mp4  (PrathamVideoResource) \n",
      "           - path: /mr/Course/Science/CRS46  (subtopic_page) \n",
      "             children:\n",
      "              - path: /mr/Lesson/LES466  (lesson_page) \n",
      "                children:\n",
      "                 - path: /CourseContent/videos/m_motion_types.mp4  (PrathamVideoResource) \n",
      "                 - path: /CourseContent/videos/m_newton_law1.mp4  (PrathamVideoResource) \n",
      "                 - path: /CourseContent/videos/m_newton_law2.mp4  (PrathamVideoResource) \n",
      "                 - path: /CourseContent/videos/m_newton_law3.mp4  (PrathamVideoResource) \n",
      "                 - path: /CourseContent/videos/m_speed_velocity.mp4  (PrathamVideoResource) \n",
      "                 - path: /CourseContent/videos/m_learning_bike1.mp4  (PrathamVideoResource) \n",
      "                 - path: /CourseContent/videos/m_learning_bike2.mp4  (PrathamVideoResource) \n",
      "                 - path: /CourseContent/videos/m_race_speed.mp4  (PrathamVideoResource) \n",
      "                 - path: /CourseContent/videos/m_accelaration_fear.mp4  (PrathamVideoResource) \n",
      "              - path: /mr/Lesson/LES467  (lesson_page) \n",
      "                children:\n",
      "                 - path: /CourseContent/videos/m_galileo_ground.mp4  (PrathamVideoResource) \n",
      "                 - path: /CourseContent/videos/m_newton_ball.mp4  (PrathamVideoResource) \n",
      "                 - path: /CourseContent/videos/m_newton_speed.mp4  (PrathamVideoResource) \n",
      "                 - path: /CourseContent/videos/m_newton_force.mp4  (PrathamVideoResource) \n",
      "                 - path: /CourseContent/videos/m_newton_egg.mp4  (PrathamVideoResource) \n",
      "              - path: /mr/Lesson/LES847  (lesson_page) \n",
      "                children:\n",
      "                 - path: /CourseContent/videos/m_Pendulum_Intro.mp4  (PrathamVideoResource) \n",
      "           - path: /mr/Course/Science/CRS47  (subtopic_page) \n",
      "             children:\n",
      "              - path: /mr/Lesson/LES468  (lesson_page) \n",
      "                children:\n",
      "                 - path: /CourseContent/videos/m_Story_of_Galileo_part_1.mp4  (PrathamVideoResource) \n",
      "                 - path: /CourseContent/videos/m_Story_of_Galileo_part_2.mp4  (PrathamVideoResource) \n",
      "                 - path: /CourseContent/videos/m_solar_system.mp4  (PrathamVideoResource) \n",
      "              - path: /mr/Lesson/LES469  (lesson_page) \n",
      "                children:\n",
      "                 - path: /CourseContent/videos/m_earth_space.mp4  (PrathamVideoResource) \n",
      "                 - path: /CourseContent/videos/m_introduction_earth.mp4  (PrathamVideoResource) \n",
      "                 - path: /CourseContent/videos/m_mapearth_find.mp4  (PrathamVideoResource) \n",
      "                 - path: /CourseContent/videos/m_place_map.mp4  (PrathamVideoResource) \n",
      "                 - path: /CourseContent/videos/m_know_map.mp4  (PrathamVideoResource) \n",
      "                 - path: /CourseContent/videos/m_time_story1.mp4  (PrathamVideoResource) \n",
      "                 - path: /CourseContent/videos/m_time_story2.mp4  (PrathamVideoResource) \n",
      "           - path: /mr/Course/Science/CRS48  (subtopic_page) \n",
      "             children:\n",
      "              - path: /mr/Lesson/LES470  (lesson_page) \n",
      "                children:\n",
      "                 - path: /CourseContent/videos/m_changing_energy.mp4  (PrathamVideoResource) \n",
      "                 - path: /CourseContent/videos/m_chintu_work.mp4  (PrathamVideoResource) \n",
      "                 - path: /CourseContent/videos/m_energy_intro.mp4  (PrathamVideoResource) \n",
      "                 - path: /CourseContent/videos/m_energy_family.mp4  (PrathamVideoResource) \n",
      "              - path: /mr/Lesson/LES471  (lesson_page) \n",
      "                children:\n",
      "                 - path: /CourseContent/videos/m_chintu_work.mp4  (PrathamVideoResource) \n",
      "           - path: /mr/Course/Science/CRS49  (subtopic_page) \n",
      "             children:\n",
      "              - path: /mr/Lesson/LES473  (lesson_page) \n",
      "                children:\n",
      "                 - path: /CourseContent/videos/m_Jaltarang.mp4  (PrathamVideoResource) \n",
      "                 - path: /CourseContent/videos/m_Parachute.mp4  (PrathamVideoResource) \n",
      "                 - path: /CourseContent/videos/m_Movie_time.mp4  (PrathamVideoResource) \n",
      "                 - path: /CourseContent/videos/m_ModelhumanEye.mp4  (PrathamVideoResource) \n",
      "                 - path: /CourseContent/videos/m_Manchahi_Barsat.mp4  (PrathamVideoResource) \n",
      "                 - path: /CourseContent/videos/m_Tring_tring_paper_cup_telephone.mp4  (PrathamVideoResource) \n",
      "                 - path: /CourseContent/videos/m_bottle_rocket.mp4  (PrathamVideoResource) \n",
      "                 - path: /CourseContent/videos/m_Funicular_railway.mp4  (PrathamVideoResource) \n",
      "                 - path: /CourseContent/videos/m_paper_bridge.mp4  (PrathamVideoResource) \n",
      "                 - path: /CourseContent/videos/m_self_opearating_gate.mp4  (PrathamVideoResource) \n",
      "                 - path: /CourseContent/videos/m_Nails_Puzzle.mp4  (PrathamVideoResource) \n",
      "                 - path: /CourseContent/videos/m_Magnetic_Levitation.mp4  (PrathamVideoResource) \n",
      "                 - path: /CourseContent/videos/m_Non_Magnetic_Motor.mp4  (PrathamVideoResource) \n",
      "                 - path: /CourseContent/videos/m_Funny_Balloon.mp4  (PrathamVideoResource) \n",
      "                 - path: /CourseContent/videos/m_Funny_Motor.mp4  (PrathamVideoResource) \n",
      "                 - path: /CourseContent/videos/m_Straw_Flute.mp4  (PrathamVideoResource) \n",
      "                 - path: /CourseContent/videos/m_straw_disc.mp4  (PrathamVideoResource) \n",
      "                 - path: /CourseContent/videos/m_Magic_Balloon.mp4  (PrathamVideoResource) \n",
      "                 - path: /CourseContent/videos/m_Static_Electricity1.mp4  (PrathamVideoResource) \n",
      "                 - path: /CourseContent/videos/m_Static_Electricity2.mp4  (PrathamVideoResource) \n",
      "        - path: /hn/Course/Std5  (topic_page) \n",
      "          children:\n",
      "           - path: /hn/Course/Std5/CRS21  (subtopic_page) \n",
      "             children:\n",
      "              - path: /hn/Lesson/LES73  (lesson_page) \n",
      "                children:\n",
      "                 - path: /CourseContent/videos/Snakes_and_Venom.mp4  (PrathamVideoResource) \n",
      "              - path: /hn/Lesson/LES74  (lesson_page) \n",
      "                children:\n",
      "                 - path: /CourseContent/videos/Talking_Through_Pictures.mp4  (PrathamVideoResource) \n",
      "              - path: /hn/Lesson/LES75  (lesson_page) \n",
      "                children:\n",
      "                 - path: /CourseContent/videos/Digestion.mp4  (PrathamVideoResource) \n",
      "              - path: /hn/Lesson/LES76  (lesson_page) \n",
      "                children:\n",
      "                 - path: /CourseContent/videos/Glucose_-_A_Source_of_Energy.mp4  (PrathamVideoResource) \n",
      "              - path: /hn/Lesson/LES77  (lesson_page) \n",
      "                children:\n",
      "                 - path: /CourseContent/videos/Factors_for_Seed_Germination.mp4  (PrathamVideoResource) \n",
      "              - path: /hn/Lesson/LES78  (lesson_page) \n",
      "                children:\n",
      "                 - path: /CourseContent/videos/Growing_Plants.mp4  (PrathamVideoResource) \n",
      "              - path: /hn/Lesson/LES79  (lesson_page) \n",
      "                children:\n",
      "                 - path: /CourseContent/videos/Water_Today.mp4  (PrathamVideoResource) \n",
      "              - path: /hn/Lesson/LES80  (lesson_page) \n"
     ]
    },
    {
     "name": "stdout",
     "output_type": "stream",
     "text": [
      "                children:\n",
      "                 - path: /CourseContent/videos/A_Tale_of_Two_Mosquitoes.mp4  (PrathamVideoResource) \n",
      "              - path: /hn/Lesson/LES81  (lesson_page) \n",
      "                children:\n",
      "                 - path: /CourseContent/videos/A_Sense_of_Belonging.mp4  (PrathamVideoResource) \n",
      "              - path: /hn/Lesson/LES82  (lesson_page) \n",
      "                children:\n",
      "                 - path: /CourseContent/videos/Recovering_from_an_Earthquake.mp4  (PrathamVideoResource) \n",
      "              - path: /hn/Lesson/LES83  (lesson_page) \n",
      "                children:\n",
      "                 - path: /CourseContent/videos/Breathing.mp4  (PrathamVideoResource) \n",
      "              - path: /hn/Lesson/LES84  (lesson_page) \n",
      "                children:\n",
      "                 - path: /CourseContent/videos/Cooling_and_Warming_Effects_of_Blowing_Air.mp4  (PrathamVideoResource) \n",
      "              - path: /hn/Lesson/LES85  (lesson_page) \n",
      "                children:\n",
      "                 - path: /CourseContent/videos/Elimination_of_Social_Discrimination.mp4  (PrathamVideoResource) \n",
      "              - path: /hn/Lesson/LES86  (lesson_page) \n",
      "                children:\n",
      "                 - path: /CourseContent/videos/Migration.mp4  (PrathamVideoResource) \n",
      "              - path: /hn/Lesson/LES87  (lesson_page) \n",
      "                children:\n",
      "                 - path: /CourseContent/videos/Village_Life.mp4  (PrathamVideoResource) \n",
      "              - path: /hn/Lesson/LES88  (lesson_page) \n",
      "                children:\n",
      "                 - path: /CourseContent/videos/A_Traditional_Farmer.mp4  (PrathamVideoResource) \n",
      "              - path: /hn/Lesson/LES89  (lesson_page) \n",
      "                children:\n",
      "                 - path: /CourseContent/videos/Organic_Farming.mp4  (PrathamVideoResource) \n",
      "              - path: /hn/Lesson/LES90  (lesson_page) \n",
      "                children:\n",
      "                 - path: /CourseContent/videos/Effects_of_Deforestation.mp4  (PrathamVideoResource) \n",
      "              - path: /hn/Lesson/LES91  (lesson_page) \n",
      "                children:\n",
      "                 - path: /CourseContent/videos/Forest_People.mp4  (PrathamVideoResource) \n",
      "              - path: /hn/Lesson/LES72  (lesson_page) \n",
      "                children:\n",
      "                 - path: /CourseContent/videos/Tiger.mp4  (PrathamVideoResource) \n",
      "           - path: /hn/Course/Std5/CRS22  (subtopic_page) \n",
      "             children:\n",
      "              - path: /hn/Lesson/LES92  (lesson_page) \n",
      "                children:\n",
      "                 - path: /CourseContent/videos/Shape_Up.mp4  (PrathamVideoResource) \n",
      "              - path: /hn/Lesson/LES93  (lesson_page) \n",
      "                children:\n",
      "                 - path: /CourseContent/videos/Lets_Go_Around.mp4  (PrathamVideoResource) \n",
      "              - path: /hn/Lesson/LES94  (lesson_page) \n",
      "                children:\n",
      "                 - path: /CourseContent/videos/Whats_the_Area.mp4  (PrathamVideoResource) \n",
      "              - path: /hn/Lesson/LES95  (lesson_page) \n",
      "                children:\n",
      "                 - path: /CourseContent/videos/Creating_a_Toran.mp4  (PrathamVideoResource) \n",
      "              - path: /hn/Lesson/LES96  (lesson_page) \n",
      "                children:\n",
      "                 - path: /CourseContent/videos/Factors.mp4  (PrathamVideoResource) \n",
      "              - path: /hn/Lesson/LES97  (lesson_page) \n",
      "                children:\n",
      "                 - path: /CourseContent/videos/Exploring_Patterns.mp4  (PrathamVideoResource) \n",
      "              - path: /hn/Lesson/LES98  (lesson_page) \n",
      "                children:\n",
      "                 - path: /CourseContent/videos/Create_a_Floor_Map.mp4  (PrathamVideoResource) \n",
      "              - path: /hn/Lesson/LES99  (lesson_page) \n",
      "                children:\n",
      "                 - path: /CourseContent/videos/Floor_Maps_to_Deep_Drawings.mp4  (PrathamVideoResource) \n",
      "              - path: /hn/Lesson/LES100  (lesson_page) \n",
      "                children:\n",
      "                 - path: /CourseContent/videos/Measuring_Lengths.mp4  (PrathamVideoResource) \n",
      "              - path: /hn/Lesson/LES101  (lesson_page) \n",
      "                children:\n",
      "                 - path: /CourseContent/videos/Metric_Conversions.mp4  (PrathamVideoResource) \n",
      "              - path: /hn/Lesson/LES102  (lesson_page) \n",
      "                children:\n",
      "                 - path: /CourseContent/videos/An_Introduction_to_Perimeter_and_Area.mp4  (PrathamVideoResource) \n",
      "              - path: /hn/Lesson/LES103  (lesson_page) \n",
      "                children:\n",
      "                 - path: /CourseContent/videos/Area_of_Irregular_Figures.mp4  (PrathamVideoResource) \n",
      "              - path: /hn/Lesson/LES104  (lesson_page) \n",
      "                children:\n",
      "                 - path: /CourseContent/videos/Chart_It.mp4  (PrathamVideoResource) \n",
      "              - path: /hn/Lesson/LES105  (lesson_page) \n",
      "                children:\n",
      "                 - path: /CourseContent/videos/Learning_to_Multiply.mp4  (PrathamVideoResource) \n",
      "              - path: /hn/Lesson/LES106  (lesson_page) \n",
      "                children:\n",
      "                 - path: /CourseContent/videos/Volume_through_Verse.mp4  (PrathamVideoResource) \n",
      "        - path: /mr/Course/Std5  (topic_page) \n",
      "          children:\n",
      "           - path: /mr/Course/Std5/CRS50  (subtopic_page) \n",
      "             children:\n",
      "              - path: /mr/Lesson/LES474  (lesson_page) \n",
      "                children:\n",
      "                 - path: /CourseContent/videos/m_Atmosphere.mp4  (PrathamVideoResource) \n",
      "              - path: /mr/Lesson/LES475  (lesson_page) \n",
      "                children:\n",
      "                 - path: /CourseContent/videos/m_Different_Type_of_Landforms.mp4  (PrathamVideoResource) \n",
      "              - path: /mr/Lesson/LES476  (lesson_page) \n",
      "                children:\n",
      "                 - path: /CourseContent/videos/m_Disease_Producing_Micro-Organisms.mp4  (PrathamVideoResource) \n",
      "              - path: /mr/Lesson/LES477  (lesson_page) \n",
      "                children:\n",
      "                 - path: /CourseContent/videos/m_Houses_In_India.mp4  (PrathamVideoResource) \n",
      "              - path: /mr/Lesson/LES478  (lesson_page) \n",
      "                children:\n",
      "                 - path: /CourseContent/videos/m_How_did_Farming_Begin.mp4  (PrathamVideoResource) \n",
      "              - path: /mr/Lesson/LES479  (lesson_page) \n",
      "                children:\n",
      "                 - path: /CourseContent/videos/m_Hunter-Gatherers.mp4  (PrathamVideoResource) \n",
      "              - path: /mr/Lesson/LES480  (lesson_page) \n",
      "                children:\n",
      "                 - path: /CourseContent/videos/m_meteors_Comets_Asteroids_and_Artificial_Satellites.mp4  (PrathamVideoResource) \n",
      "              - path: /mr/Lesson/LES481  (lesson_page) \n",
      "                children:\n",
      "                 - path: /CourseContent/videos/m_my_School.mp4  (PrathamVideoResource) \n",
      "              - path: /mr/Lesson/LES482  (lesson_page) \n",
      "                children:\n",
      "                 - path: /CourseContent/videos/m_Our_Grandparents_Lives.mp4  (PrathamVideoResource) \n",
      "              - path: /mr/Lesson/LES483  (lesson_page) \n",
      "                children:\n",
      "                 - path: /CourseContent/videos/m_Prevention_of_Diseases.mp4  (PrathamVideoResource) \n",
      "              - path: /mr/Lesson/LES484  (lesson_page) \n",
      "                children:\n",
      "                 - path: /CourseContent/videos/m_Satellites_in_the_Sky.mp4  (PrathamVideoResource) \n",
      "              - path: /mr/Lesson/LES485  (lesson_page) \n",
      "                children:\n",
      "                 - path: /CourseContent/videos/m_The_Elements_of_a_Map.mp4  (PrathamVideoResource) \n",
      "              - path: /mr/Lesson/LES486  (lesson_page) \n",
      "                children:\n",
      "                 - path: /CourseContent/videos/m_The_Spread_of_Diseases.mp4  (PrathamVideoResource) \n",
      "              - path: /mr/Lesson/LES487  (lesson_page) \n",
      "                children:\n",
      "                 - path: /CourseContent/videos/m_Tools_of_the_Hunter-Gatherers.mp4  (PrathamVideoResource) \n",
      "              - path: /mr/Lesson/LES488  (lesson_page) \n",
      "                children:\n",
      "                 - path: /CourseContent/videos/m_Uses_of_the_Wheel.mp4  (PrathamVideoResource) \n",
      "              - path: /mr/Lesson/LES489  (lesson_page) \n",
      "                children:\n",
      "                 - path: /CourseContent/videos/m_What_Living_Things_Need.mp4  (PrathamVideoResource) \n",
      "              - path: /mr/Lesson/LES490  (lesson_page) \n",
      "                children:\n",
      "                 - path: /CourseContent/videos/m_Disease_Producing_Micro-Organisms.mp4  (PrathamVideoResource) \n",
      "              - path: /mr/Lesson/LES491  (lesson_page) \n",
      "                children:\n",
      "                 - path: /CourseContent/videos/m_How_We_Breathe.mp4  (PrathamVideoResource) \n",
      "              - path: /mr/Lesson/LES492  (lesson_page) \n",
      "                children:\n",
      "                 - path: /CourseContent/videos/m_Prevention_of_Diseases.mp4  (PrathamVideoResource) \n",
      "              - path: /mr/Lesson/LES493  (lesson_page) \n",
      "                children:\n",
      "                 - path: /CourseContent/videos/m_Protect_Plants_and_Animals.mp4  (PrathamVideoResource) \n",
      "              - path: /mr/Lesson/LES494  (lesson_page) \n",
      "                children:\n",
      "                 - path: /CourseContent/videos/m_Resources_of_the_World.mp4  (PrathamVideoResource) \n",
      "              - path: /mr/Lesson/LES495  (lesson_page) \n",
      "                children:\n",
      "                 - path: /CourseContent/videos/m_The_Spread_of_Diseases.mp4  (PrathamVideoResource) \n",
      "           - path: /mr/Course/Std5/CRS51  (subtopic_page) \n",
      "             children:\n",
      "              - path: /mr/Lesson/LES496  (lesson_page) \n",
      "                children:\n",
      "                 - path: /CourseContent/videos/m_Ascending_and_Descending_Order.mp4  (PrathamVideoResource) \n",
      "              - path: /mr/Lesson/LES497  (lesson_page) \n",
      "                children:\n",
      "                 - path: /CourseContent/videos/m_Constructing_Angles.mp4  (PrathamVideoResource) \n",
      "              - path: /mr/Lesson/LES498  (lesson_page) \n",
      "                children:\n",
      "                 - path: /CourseContent/videos/m_Constructing_a_Circle.mp4  (PrathamVideoResource) \n",
      "              - path: /mr/Lesson/LES499  (lesson_page) \n",
      "                children:\n",
      "                 - path: /CourseContent/videos/m_Constructing_a_Circle_2.mp4  (PrathamVideoResource) \n",
      "              - path: /mr/Lesson/LES500  (lesson_page) \n",
      "                children:\n",
      "                 - path: /CourseContent/videos/m_Constructing_Lines.mp4  (PrathamVideoResource) \n",
      "              - path: /mr/Lesson/LES501  (lesson_page) \n",
      "                children:\n",
      "                 - path: /CourseContent/videos/m_Constructing_Perpendicular_Lines.mp4  (PrathamVideoResource) \n",
      "              - path: /mr/Lesson/LES502  (lesson_page) \n",
      "                children:\n",
      "                 - path: /CourseContent/videos/m_Conversion_in_the_Metric_System.mp4  (PrathamVideoResource) \n",
      "              - path: /mr/Lesson/LES503  (lesson_page) \n",
      "                children:\n",
      "                 - path: /CourseContent/videos/m_Division_Time.mp4  (PrathamVideoResource) \n",
      "              - path: /mr/Lesson/LES504  (lesson_page) \n",
      "                children:\n",
      "                 - path: /CourseContent/videos/m_Dots_to_Lines.mp4  (PrathamVideoResource) \n",
      "              - path: /mr/Lesson/LES505  (lesson_page) \n",
      "                children:\n",
      "                 - path: /CourseContent/videos/m_Drawing_A_Bar_Graph.mp4  (PrathamVideoResource) \n",
      "              - path: /mr/Lesson/LES506  (lesson_page) \n",
      "                children:\n",
      "                 - path: /CourseContent/videos/m_Find_the_Total_Time.mp4  (PrathamVideoResource) \n",
      "              - path: /mr/Lesson/LES507  (lesson_page) \n",
      "                children:\n",
      "                 - path: /CourseContent/videos/m_Interpreting_Bar_Graphs.mp4  (PrathamVideoResource) \n",
      "              - path: /mr/Lesson/LES508  (lesson_page) \n",
      "                children:\n",
      "                 - path: /CourseContent/videos/m_Know_Your_Angles.mp4  (PrathamVideoResource) \n",
      "              - path: /mr/Lesson/LES509  (lesson_page) \n",
      "                children:\n",
      "                 - path: /CourseContent/videos/m_multiplication_Time.mp4  (PrathamVideoResource) \n",
      "              - path: /mr/Lesson/LES510  (lesson_page) \n",
      "                children:\n",
      "                 - path: /CourseContent/videos/m_multiplying_by10_100_and_1000.mp4  (PrathamVideoResource) \n",
      "              - path: /mr/Lesson/LES511  (lesson_page) \n",
      "                children:\n",
      "                 - path: /CourseContent/videos/m_Prime_and_Composite_Numbers.mp4  (PrathamVideoResource) \n",
      "              - path: /mr/Lesson/LES512  (lesson_page) \n",
      "                children:\n",
      "                 - path: /CourseContent/videos/m_Solve_Using_Unitary_Method.mp4  (PrathamVideoResource) \n",
      "              - path: /mr/Lesson/LES513  (lesson_page) \n",
      "                children:\n",
      "                 - path: /CourseContent/videos/m_Using_a_Compass.mp4  (PrathamVideoResource) \n",
      "        - path: /mr/Course/Std6  (topic_page) \n",
      "          children:\n",
      "           - path: /mr/Course/Std6/CRS52  (subtopic_page) \n",
      "             children:\n",
      "              - path: /mr/Lesson/LES514  (lesson_page) \n",
      "                children:\n",
      "                 - path: /CourseContent/videos/m_An_Introduction_to_Perimeter_and_Area.mp4  (PrathamVideoResource) \n",
      "              - path: /mr/Lesson/LES515  (lesson_page) \n",
      "                children:\n",
      "                 - path: /CourseContent/videos/m_Area_of_Irregular_Figures.mp4  (PrathamVideoResource) \n",
      "              - path: /mr/Lesson/LES516  (lesson_page) \n",
      "                children:\n",
      "                 - path: /CourseContent/videos/m_Atmosphere.mp4  (PrathamVideoResource) \n",
      "              - path: /mr/Lesson/LES517  (lesson_page) \n",
      "                children:\n",
      "                 - path: /CourseContent/videos/m_Depletion_of_the_Ozone_Layer.mp4  (PrathamVideoResource) \n",
      "              - path: /mr/Lesson/LES518  (lesson_page) \n",
      "                children:\n",
      "                 - path: /CourseContent/videos/m_Different_Type_of_Landforms.mp4  (PrathamVideoResource) \n",
      "              - path: /mr/Lesson/LES519  (lesson_page) \n",
      "                children:\n",
      "                 - path: /CourseContent/videos/m_Digestion.mp4  (PrathamVideoResource) \n",
      "              - path: /mr/Lesson/LES520  (lesson_page) \n",
      "                children:\n",
      "                 - path: /CourseContent/videos/m_Herbs_Shrubs_and_Trees.mp4  (PrathamVideoResource) \n",
      "              - path: /mr/Lesson/LES521  (lesson_page) \n",
      "                children:\n",
      "                 - path: /CourseContent/videos/m_Law_of_Conservation_of_Energy.mp4  (PrathamVideoResource) \n",
      "              - path: /mr/Lesson/LES522  (lesson_page) \n",
      "                children:\n",
      "                 - path: /CourseContent/videos/m_Layers_of_the_Earth.mp4  (PrathamVideoResource) \n",
      "              - path: /mr/Lesson/LES523  (lesson_page) \n",
      "                children:\n",
      "                 - path: /CourseContent/videos/m_marty_and_the_Food_Factory.mp4  (PrathamVideoResource) \n",
      "              - path: /mr/Lesson/LES524  (lesson_page) \n",
      "                children:\n",
      "                 - path: /CourseContent/videos/m_Non-Conventional_Sources_of_Energy.mp4  (PrathamVideoResource) \n",
      "              - path: /mr/Lesson/LES525  (lesson_page) \n",
      "                children:\n",
      "                 - path: /CourseContent/videos/m_On_the_Move.mp4  (PrathamVideoResource) \n",
      "              - path: /mr/Lesson/LES526  (lesson_page) \n",
      "                children:\n",
      "                 - path: /CourseContent/videos/m_Resources_of_the_World.mp4  (PrathamVideoResource) \n",
      "              - path: /mr/Lesson/LES527  (lesson_page) \n",
      "                children:\n",
      "                 - path: /CourseContent/videos/m_Stem-The_Pathway_of_Life.mp4  (PrathamVideoResource) \n",
      "              - path: /mr/Lesson/LES528  (lesson_page) \n",
      "                children:\n",
      "                 - path: /CourseContent/videos/m_The_Solar_System.mp4  (PrathamVideoResource) \n",
      "           - path: /mr/Course/Std6/CRS53  (subtopic_page) \n",
      "             children:\n",
      "              - path: /mr/Lesson/LES529  (lesson_page) \n",
      "                children:\n",
      "                 - path: /CourseContent/videos/m_Adding_and_Subtracting_Algebraic_Expressions.mp4  (PrathamVideoResource) \n",
      "              - path: /mr/Lesson/LES530  (lesson_page) \n",
      "                children:\n",
      "                 - path: /CourseContent/videos/m_All_About_Area.mp4  (PrathamVideoResource) \n",
      "              - path: /mr/Lesson/LES531  (lesson_page) \n",
      "                children:\n",
      "                 - path: /CourseContent/videos/m_Bridge_It.mp4  (PrathamVideoResource) \n",
      "              - path: /mr/Lesson/LES532  (lesson_page) \n",
      "                children:\n",
      "                 - path: /CourseContent/videos/m_Calculating_Squares_Through_Distributive_Property.mp4  (PrathamVideoResource) \n",
      "              - path: /mr/Lesson/LES533  (lesson_page) \n",
      "                children:\n",
      "                 - path: /CourseContent/videos/m_Constructing_Angles_of_Special_Measure.mp4  (PrathamVideoResource) \n",
      "              - path: /mr/Lesson/LES534  (lesson_page) \n",
      "                children:\n",
      "                 - path: /CourseContent/videos/m_Constructing_Angles_of_Special_Measure_2.mp4  (PrathamVideoResource) \n",
      "              - path: /mr/Lesson/LES535  (lesson_page) \n",
      "                children:\n",
      "                 - path: /CourseContent/videos/m_Constructing_Lines.mp4  (PrathamVideoResource) \n",
      "              - path: /mr/Lesson/LES536  (lesson_page) \n",
      "                children:\n",
      "                 - path: /CourseContent/videos/m_Defining_Rules_Using_Algebraic.mp4  (PrathamVideoResource) \n",
      "              - path: /mr/Lesson/LES537  (lesson_page) \n",
      "                children:\n",
      "                 - path: /CourseContent/videos/m_Dots_to_Lines.mp4  (PrathamVideoResource) \n",
      "              - path: /mr/Lesson/LES538  (lesson_page) \n",
      "                children:\n",
      "                 - path: /CourseContent/videos/m_Drawing_A_Bar_Graph.mp4  (PrathamVideoResource) \n",
      "              - path: /mr/Lesson/LES539  (lesson_page) \n",
      "                children:\n",
      "                 - path: /CourseContent/videos/m_Drawing_Parallels.mp4  (PrathamVideoResource) \n",
      "              - path: /mr/Lesson/LES540  (lesson_page) \n",
      "                children:\n",
      "                 - path: /CourseContent/videos/m_Factors.mp4  (PrathamVideoResource) \n",
      "              - path: /mr/Lesson/LES541  (lesson_page) \n",
      "                children:\n",
      "                 - path: /CourseContent/videos/m_Forming_Rules_Using_Variables.mp4  (PrathamVideoResource) \n",
      "              - path: /mr/Lesson/LES542  (lesson_page) \n",
      "                children:\n",
      "                 - path: /CourseContent/videos/m_Interpreting_Bar_Graphs.mp4  (PrathamVideoResource) \n",
      "              - path: /mr/Lesson/LES543  (lesson_page) \n",
      "                children:\n",
      "                 - path: /CourseContent/videos/m_Irregular_Figures_and_Area.mp4  (PrathamVideoResource) \n",
      "              - path: /mr/Lesson/LES544  (lesson_page) \n",
      "                children:\n",
      "                 - path: /CourseContent/videos/m_Know_Your_Angles.mp4  (PrathamVideoResource) \n",
      "              - path: /mr/Lesson/LES545  (lesson_page) \n",
      "                children:\n",
      "                 - path: /CourseContent/videos/m_making_Multiplication_Easier.mp4  (PrathamVideoResource) \n",
      "              - path: /mr/Lesson/LES546  (lesson_page) \n",
      "                children:\n",
      "                 - path: /CourseContent/videos/m_multiplying_Integers.mp4  (PrathamVideoResource) \n",
      "              - path: /mr/Lesson/LES547  (lesson_page) \n",
      "                children:\n",
      "                 - path: /CourseContent/videos/m_Negative_Numbers.mp4  (PrathamVideoResource) \n",
      "              - path: /mr/Lesson/LES548  (lesson_page) \n",
      "                children:\n",
      "                 - path: /CourseContent/videos/m_Patterns_and_Equations.mp4  (PrathamVideoResource) \n",
      "              - path: /mr/Lesson/LES549  (lesson_page) \n",
      "                children:\n",
      "                 - path: /CourseContent/videos/m_Prime_and_Composite_Numbers.mp4  (PrathamVideoResource) \n",
      "              - path: /mr/Lesson/LES550  (lesson_page) \n",
      "                children:\n",
      "                 - path: /CourseContent/videos/m_Verifying_Pythagoras_Property.mp4  (PrathamVideoResource) \n",
      "              - path: /mr/Lesson/LES551  (lesson_page) \n",
      "                children:\n",
      "                 - path: /CourseContent/videos/m_Wizard_of_Al.mp4  (PrathamVideoResource) \n",
      "        - path: /mr/Course/Std7  (topic_page) \n",
      "          children:\n",
      "           - path: /mr/Course/Std7/CRS54  (subtopic_page) \n",
      "             children:\n",
      "              - path: /mr/Lesson/LES552  (lesson_page) \n",
      "                children:\n",
      "                 - path: /CourseContent/videos/m_Acid-Base_Reactions.mp4  (PrathamVideoResource) \n",
      "              - path: /mr/Lesson/LES553  (lesson_page) \n",
      "                children:\n",
      "                 - path: /CourseContent/videos/m_Alimentary_Canal_.mp4  (PrathamVideoResource) \n",
      "              - path: /mr/Lesson/LES554  (lesson_page) \n",
      "                children:\n",
      "                 - path: /CourseContent/videos/m_A_Formulaic_Approach.mp4  (PrathamVideoResource) \n",
      "              - path: /mr/Lesson/LES555  (lesson_page) \n",
      "                children:\n",
      "                 - path: /CourseContent/videos/m_Change_of_State.mp4  (PrathamVideoResource) \n",
      "              - path: /mr/Lesson/LES556  (lesson_page) \n",
      "                children:\n",
      "                 - path: /CourseContent/videos/m_Charges_Around_Us.mp4  (PrathamVideoResource) \n",
      "              - path: /mr/Lesson/LES557  (lesson_page) \n",
      "                children:\n",
      "                 - path: /CourseContent/videos/m_Consequences_of_Substance_Abuse.mp4  (PrathamVideoResource) \n",
      "              - path: /mr/Lesson/LES558  (lesson_page) \n",
      "                children:\n",
      "                 - path: /CourseContent/videos/m_Dispersion_of_White_Light_by_a_Glass_Prism.mp4  (PrathamVideoResource) \n",
      "              - path: /mr/Lesson/LES559  (lesson_page) \n",
      "                children:\n",
      "                 - path: /CourseContent/videos/m_Feeding_and_Digestion_in_Amoeba.mp4  (PrathamVideoResource) \n",
      "              - path: /mr/Lesson/LES560  (lesson_page) \n",
      "                children:\n",
      "                 - path: /CourseContent/videos/m_Freshwater_Resources.mp4  (PrathamVideoResource) \n",
      "              - path: /mr/Lesson/LES561  (lesson_page) \n",
      "                children:\n",
      "                 - path: /CourseContent/videos/m_Lightning_Conductor.mp4  (PrathamVideoResource) \n",
      "              - path: /mr/Lesson/LES562  (lesson_page) \n",
      "                children:\n",
      "                 - path: /CourseContent/videos/m_making_Water_Potable.mp4  (PrathamVideoResource) \n",
      "              - path: /mr/Lesson/LES563  (lesson_page) \n",
      "                children:\n",
      "                 - path: /CourseContent/videos/m_Pollination_and_Fertilisation.mp4  (PrathamVideoResource) \n",
      "              - path: /mr/Lesson/LES564  (lesson_page) \n",
      "                children:\n",
      "                 - path: /CourseContent/videos/m_Radiation.mp4  (PrathamVideoResource) \n",
      "              - path: /mr/Lesson/LES565  (lesson_page) \n",
      "                children:\n",
      "                 - path: /CourseContent/videos/m_Rainwater_Harvesting.mp4  (PrathamVideoResource) \n",
      "              - path: /mr/Lesson/LES566  (lesson_page) \n",
      "                children:\n",
      "                 - path: /CourseContent/videos/m_Reactions_of_Metals_and_Non-metals_With_Water.mp4  (PrathamVideoResource) \n",
      "              - path: /mr/Lesson/LES567  (lesson_page) \n",
      "                children:\n",
      "                 - path: /CourseContent/videos/m_Resources_of_the_World.mp4  (PrathamVideoResource) \n",
      "              - path: /mr/Lesson/LES568  (lesson_page) \n",
      "                children:\n",
      "                 - path: /CourseContent/videos/m_Solar_Eclipse.mp4  (PrathamVideoResource) \n",
      "              - path: /mr/Lesson/LES569  (lesson_page) \n",
      "                children:\n",
      "                 - path: /CourseContent/videos/m_The_Circulatory_System.mp4  (PrathamVideoResource) \n",
      "              - path: /mr/Lesson/LES570  (lesson_page) \n",
      "                children:\n",
      "                 - path: /CourseContent/videos/m_The_Earths_Water.mp4  (PrathamVideoResource) \n",
      "              - path: /mr/Lesson/LES571  (lesson_page) \n",
      "                children:\n",
      "                 - path: /CourseContent/videos/m_The_Excretory_System.mp4  (PrathamVideoResource) \n",
      "              - path: /mr/Lesson/LES572  (lesson_page) \n",
      "                children:\n",
      "                 - path: /CourseContent/videos/m_The_Path_of_Light.mp4  (PrathamVideoResource) \n",
      "              - path: /mr/Lesson/LES573  (lesson_page) \n",
      "                children:\n",
      "                 - path: /CourseContent/videos/m_The_Working_of_the_Heart.mp4  (PrathamVideoResource) \n",
      "           - path: /mr/Course/Std7/CRS55  (subtopic_page) \n",
      "             children:\n",
      "              - path: /mr/Lesson/LES574  (lesson_page) \n",
      "                children:\n",
      "                 - path: /CourseContent/videos/m_Angles_and_Arcs.mp4  (PrathamVideoResource) \n",
      "              - path: /mr/Lesson/LES575  (lesson_page) \n",
      "                children:\n",
      "                 - path: /CourseContent/videos/m_Area_of_a_Circle.mp4  (PrathamVideoResource) \n",
      "              - path: /mr/Lesson/LES576  (lesson_page) \n",
      "                children:\n",
      "                 - path: /CourseContent/videos/m_Comparing_Like_and_Unlike_Fractions.mp4  (PrathamVideoResource) \n",
      "              - path: /mr/Lesson/LES577  (lesson_page) \n",
      "                children:\n",
      "                 - path: /CourseContent/videos/m_Constructing_Triangles.mp4  (PrathamVideoResource) \n",
      "              - path: /mr/Lesson/LES578  (lesson_page) \n",
      "                children:\n",
      "                 - path: /CourseContent/videos/m_Construction_of_a_square_and_a_rectangle.mp4  (PrathamVideoResource) \n",
      "              - path: /mr/Lesson/LES579  (lesson_page) \n",
      "                children:\n",
      "                 - path: /CourseContent/videos/m_Direct_Proportion.mp4  (PrathamVideoResource) \n",
      "              - path: /mr/Lesson/LES580  (lesson_page) \n",
      "                children:\n",
      "                 - path: /CourseContent/videos/m_Factorisation_of_Algebraic_Expressions.mp4  (PrathamVideoResource) \n",
      "              - path: /mr/Lesson/LES581  (lesson_page) \n",
      "                children:\n",
      "                 - path: /CourseContent/videos/m_Find_Me_a_Place.mp4  (PrathamVideoResource) \n",
      "              - path: /mr/Lesson/LES582  (lesson_page) \n",
      "                children:\n",
      "                 - path: /CourseContent/videos/m_Introduction_to_Rational_Numbers.mp4  (PrathamVideoResource) \n",
      "              - path: /mr/Lesson/LES583  (lesson_page) \n",
      "                children:\n",
      "                 - path: /CourseContent/videos/m_Inverse_Proportion.mp4  (PrathamVideoResource) \n",
      "              - path: /mr/Lesson/LES584  (lesson_page) \n",
      "                children:\n",
      "                 - path: /CourseContent/videos/m_medians_in_a_Triangle.mp4  (PrathamVideoResource) \n",
      "              - path: /mr/Lesson/LES585  (lesson_page) \n",
      "                children:\n",
      "                 - path: /CourseContent/videos/m_multiplying_Algebraic_Expressions.mp4  (PrathamVideoResource) \n",
      "              - path: /mr/Lesson/LES586  (lesson_page) \n",
      "                children:\n",
      "                 - path: /CourseContent/videos/m_Patterns_and_Equations.mp4  (PrathamVideoResource) \n",
      "              - path: /mr/Lesson/LES587  (lesson_page) \n",
      "                children:\n",
      "                 - path: /CourseContent/videos/m_Properties_of_Triangles.mp4  (PrathamVideoResource) \n",
      "              - path: /mr/Lesson/LES588  (lesson_page) \n",
      "                children:\n",
      "                 - path: /CourseContent/videos/m_Sum_of_Angles_of_a_Quadrilateral.mp4  (PrathamVideoResource) \n",
      "              - path: /mr/Lesson/LES589  (lesson_page) \n",
      "                children:\n",
      "                 - path: /CourseContent/videos/m_Surface_Areas_of_Solids.mp4  (PrathamVideoResource) \n",
      "              - path: /mr/Lesson/LES590  (lesson_page) \n",
      "                children:\n",
      "                 - path: /CourseContent/videos/m_Understanding_the_Laws_of_Exponents.mp4  (PrathamVideoResource) \n",
      "              - path: /mr/Lesson/LES591  (lesson_page) \n",
      "                children:\n",
      "                 - path: /CourseContent/videos/m_Verifying_Pythagoras_Property.mp4  (PrathamVideoResource) \n",
      "              - path: /mr/Lesson/LES592  (lesson_page) \n",
      "                children:\n",
      "                 - path: /CourseContent/videos/m_Volume_of_Cuboid_Cube_and_Cylinder.mp4  (PrathamVideoResource) \n",
      "        - path: /mr/Course/Std8  (topic_page) \n",
      "          children:\n",
      "           - path: /mr/Course/Std8/CRS56  (subtopic_page) \n",
      "             children:\n"
     ]
    },
    {
     "name": "stdout",
     "output_type": "stream",
     "text": [
      "              - path: /mr/Lesson/LES593  (lesson_page) \n",
      "                children:\n",
      "                 - path: /CourseContent/videos/m_Carbonisation.mp4  (PrathamVideoResource) \n",
      "              - path: /mr/Lesson/LES594  (lesson_page) \n",
      "                children:\n",
      "                 - path: /CourseContent/videos/m_Crops_and_Climatic_Conditions.mp4  (PrathamVideoResource) \n",
      "              - path: /mr/Lesson/LES595  (lesson_page) \n",
      "                children:\n",
      "                 - path: /CourseContent/videos/m_Energy_from_the_Sea_and_Geothermal_Energy.mp4  (PrathamVideoResource) \n",
      "              - path: /mr/Lesson/LES596  (lesson_page) \n",
      "                children:\n",
      "                 - path: /CourseContent/videos/m_Formation_of_Petroleum.mp4  (PrathamVideoResource) \n",
      "              - path: /mr/Lesson/LES597  (lesson_page) \n",
      "                children:\n",
      "                 - path: /CourseContent/videos/m_Formation_of_Soil.mp4  (PrathamVideoResource) \n",
      "              - path: /mr/Lesson/LES598  (lesson_page) \n",
      "                children:\n",
      "                 - path: /CourseContent/videos/m_Gathering_the_Troops.mp4  (PrathamVideoResource) \n",
      "              - path: /mr/Lesson/LES599  (lesson_page) \n",
      "                children:\n",
      "                 - path: /CourseContent/videos/m_Isotopes.mp4  (PrathamVideoResource) \n",
      "              - path: /mr/Lesson/LES600  (lesson_page) \n",
      "                children:\n",
      "                 - path: /CourseContent/videos/m_Latent_Heat.mp4  (PrathamVideoResource) \n",
      "              - path: /mr/Lesson/LES601  (lesson_page) \n",
      "                children:\n",
      "                 - path: /CourseContent/videos/m_magnets.mp4  (PrathamVideoResource) \n",
      "              - path: /mr/Lesson/LES602  (lesson_page) \n",
      "                children:\n",
      "                 - path: /CourseContent/videos/m_meteors_Comets_Asteroids_and_Artificial_Satellites.mp4  (PrathamVideoResource) \n",
      "              - path: /mr/Lesson/LES603  (lesson_page) \n",
      "                children:\n",
      "                 - path: /CourseContent/videos/m_Nuclear_Energy.mp4  (PrathamVideoResource) \n",
      "              - path: /mr/Lesson/LES604  (lesson_page) \n",
      "                children:\n",
      "                 - path: /CourseContent/videos/m_Reactions_of_Metals_and_Non-metals_With_Water.mp4  (PrathamVideoResource) \n",
      "              - path: /mr/Lesson/LES605  (lesson_page) \n",
      "                children:\n",
      "                 - path: /CourseContent/videos/m_Save_the_World.mp4  (PrathamVideoResource) \n",
      "              - path: /mr/Lesson/LES606  (lesson_page) \n",
      "                children:\n",
      "                 - path: /CourseContent/videos/m_Sharing_and_Bonding.mp4  (PrathamVideoResource) \n",
      "              - path: /mr/Lesson/LES607  (lesson_page) \n",
      "                children:\n",
      "                 - path: /CourseContent/videos/m_Soil_Preparation.mp4  (PrathamVideoResource) \n",
      "              - path: /mr/Lesson/LES608  (lesson_page) \n",
      "                children:\n",
      "                 - path: /CourseContent/videos/m_Solar_Energy.mp4  (PrathamVideoResource) \n",
      "              - path: /mr/Lesson/LES609  (lesson_page) \n",
      "                children:\n",
      "                 - path: /CourseContent/videos/m_Sowing_Seeds.mp4  (PrathamVideoResource) \n",
      "              - path: /mr/Lesson/LES610  (lesson_page) \n",
      "                children:\n",
      "                 - path: /CourseContent/videos/m_Structure_of_Atom.mp4  (PrathamVideoResource) \n",
      "              - path: /mr/Lesson/LES611  (lesson_page) \n",
      "                children:\n",
      "                 - path: /CourseContent/videos/m_The_Five_Kingdom_Classification.mp4  (PrathamVideoResource) \n",
      "              - path: /mr/Lesson/LES612  (lesson_page) \n",
      "                children:\n",
      "                 - path: /CourseContent/videos/m_The_Story_of_Penicillin.mp4  (PrathamVideoResource) \n",
      "           - path: /mr/Course/Std8/CRS57  (subtopic_page) \n",
      "             children:\n",
      "              - path: /mr/Lesson/LES613  (lesson_page) \n",
      "                children:\n",
      "                 - path: /CourseContent/videos/m_Angles_and_Arcs.mp4  (PrathamVideoResource) \n",
      "              - path: /mr/Lesson/LES614  (lesson_page) \n",
      "                children:\n",
      "                 - path: /CourseContent/videos/m_Area_of_a_Circle.mp4  (PrathamVideoResource) \n",
      "              - path: /mr/Lesson/LES615  (lesson_page) \n",
      "                children:\n",
      "                 - path: /CourseContent/videos/m_Commission.mp4  (PrathamVideoResource) \n",
      "              - path: /mr/Lesson/LES616  (lesson_page) \n",
      "                children:\n",
      "                 - path: /CourseContent/videos/m_Constructing_Angles_Revision.mp4  (PrathamVideoResource) \n",
      "              - path: /mr/Lesson/LES617  (lesson_page) \n",
      "                children:\n",
      "                 - path: /CourseContent/videos/m_Construct_a_Quadrilateral.mp4  (PrathamVideoResource) \n",
      "              - path: /mr/Lesson/LES618  (lesson_page) \n",
      "                children:\n",
      "                 - path: /CourseContent/videos/m_Cube_Root_Through_Prime.mp4  (PrathamVideoResource) \n",
      "              - path: /mr/Lesson/LES619  (lesson_page) \n",
      "                children:\n",
      "                 - path: /CourseContent/videos/m_Direct_Proportion.mp4  (PrathamVideoResource) \n",
      "              - path: /mr/Lesson/LES620  (lesson_page) \n",
      "                children:\n",
      "                 - path: /CourseContent/videos/m_Dividing_line_segment_into_equal_parts.mp4  (PrathamVideoResource) \n",
      "              - path: /mr/Lesson/LES621  (lesson_page) \n",
      "                children:\n",
      "                 - path: /CourseContent/videos/m_Drawing_Parallels.mp4  (PrathamVideoResource) \n",
      "              - path: /mr/Lesson/LES622  (lesson_page) \n",
      "                children:\n",
      "                 - path: /CourseContent/videos/m_Factorisation_of_Algebraic_Expressions.mp4  (PrathamVideoResource) \n",
      "              - path: /mr/Lesson/LES623  (lesson_page) \n",
      "                children:\n",
      "                 - path: /CourseContent/videos/m_Identifying_Cubes_Using_Prime_Factorisation.mp4  (PrathamVideoResource) \n",
      "              - path: /mr/Lesson/LES624  (lesson_page) \n",
      "                children:\n",
      "                 - path: /CourseContent/videos/m_Identity_Pyramid.mp4  (PrathamVideoResource) \n",
      "              - path: /mr/Lesson/LES625  (lesson_page) \n",
      "                children:\n",
      "                 - path: /CourseContent/videos/m_Inverse_Proportion.mp4  (PrathamVideoResource) \n",
      "              - path: /mr/Lesson/LES626  (lesson_page) \n",
      "                children:\n",
      "                 - path: /CourseContent/videos/m_mean_of_Ungrouped_Data.mp4  (PrathamVideoResource) \n",
      "              - path: /mr/Lesson/LES627  (lesson_page) \n",
      "                children:\n",
      "                 - path: /CourseContent/videos/m_Rules_of_Indices.mp4  (PrathamVideoResource) \n",
      "              - path: /mr/Lesson/LES628  (lesson_page) \n",
      "                children:\n",
      "                 - path: /CourseContent/videos/m_Show_Me_the_Data.mp4  (PrathamVideoResource) \n",
      "              - path: /mr/Lesson/LES629  (lesson_page) \n",
      "                children:\n",
      "                 - path: /CourseContent/videos/m_Square_Root.mp4  (PrathamVideoResource) \n",
      "              - path: /mr/Lesson/LES630  (lesson_page) \n",
      "                children:\n",
      "                 - path: /CourseContent/videos/m_Sum_of_Angles_of_a_Quadrilateral.mp4  (PrathamVideoResource) \n",
      "              - path: /mr/Lesson/LES631  (lesson_page) \n",
      "                children:\n",
      "                 - path: /CourseContent/videos/m_Surface_Areas_of_Cuboids_and_Cubes.mp4  (PrathamVideoResource) \n",
      "              - path: /mr/Lesson/LES632  (lesson_page) \n",
      "                children:\n",
      "                 - path: /CourseContent/videos/m_Surface_Areas_of_Solids.mp4  (PrathamVideoResource) \n",
      "              - path: /mr/Lesson/LES633  (lesson_page) \n",
      "                children:\n",
      "                 - path: /CourseContent/videos/m_Surface_Area_of_Right_Circular_Cylinder.mp4  (PrathamVideoResource) \n",
      "              - path: /mr/Lesson/LES634  (lesson_page) \n",
      "                children:\n",
      "                 - path: /CourseContent/videos/m_Surface_Area_of_Sphere.mp4  (PrathamVideoResource) \n",
      "              - path: /mr/Lesson/LES635  (lesson_page) \n",
      "                children:\n",
      "                 - path: /CourseContent/videos/m_Volume_of_Cone_Sphere_and_Hemisphere.mp4  (PrathamVideoResource) \n",
      "              - path: /mr/Lesson/LES636  (lesson_page) \n",
      "                children:\n",
      "                 - path: /CourseContent/videos/m_Volume_of_Cuboid_Cube_and_Cylinder.mp4  (PrathamVideoResource) \n",
      "              - path: /mr/Lesson/LES637  (lesson_page) \n",
      "                children:\n",
      "                 - path: /CourseContent/videos/m_Wizard_of_Al.mp4  (PrathamVideoResource) \n",
      "        - path: /mr/Course/Std9  (topic_page) \n",
      "          children:\n",
      "           - path: /mr/Course/Std9/CRS58  (subtopic_page) \n",
      "             children:\n",
      "              - path: /mr/Lesson/LES638  (lesson_page) \n",
      "                children:\n",
      "                 - path: /CourseContent/videos/m_A_Formulaic_Approach.mp4  (PrathamVideoResource) \n",
      "              - path: /mr/Lesson/LES639  (lesson_page) \n",
      "                children:\n",
      "                 - path: /CourseContent/videos/m_A_Growth_Tip.mp4  (PrathamVideoResource) \n",
      "              - path: /mr/Lesson/LES640  (lesson_page) \n",
      "                children:\n",
      "                 - path: /CourseContent/videos/m_All_about_Masses.mp4  (PrathamVideoResource) \n",
      "              - path: /mr/Lesson/LES641  (lesson_page) \n",
      "                children:\n",
      "                 - path: /CourseContent/videos/m_Animal_Husbandry.mp4  (PrathamVideoResource) \n",
      "              - path: /mr/Lesson/LES642  (lesson_page) \n",
      "                children:\n",
      "                 - path: /CourseContent/videos/m_Balanced_and_Unbalanced_Forces.mp4  (PrathamVideoResource) \n",
      "              - path: /mr/Lesson/LES643  (lesson_page) \n",
      "                children:\n",
      "                 - path: /CourseContent/videos/m_Balancing_Act.mp4  (PrathamVideoResource) \n",
      "              - path: /mr/Lesson/LES644  (lesson_page) \n",
      "                children:\n",
      "                 - path: /CourseContent/videos/m_Catch_an_Ion.mp4  (PrathamVideoResource) \n",
      "              - path: /mr/Lesson/LES645  (lesson_page) \n",
      "                children:\n",
      "                 - path: /CourseContent/videos/m_Complex_Permanent_Tissues.mp4  (PrathamVideoResource) \n",
      "              - path: /mr/Lesson/LES646  (lesson_page) \n",
      "                children:\n",
      "                 - path: /CourseContent/videos/m_Crops_and_Climatic_Conditions.mp4  (PrathamVideoResource) \n",
      "              - path: /mr/Lesson/LES647  (lesson_page) \n",
      "                children:\n",
      "                 - path: /CourseContent/videos/m_Culture_Fishery.mp4  (PrathamVideoResource) \n",
      "              - path: /mr/Lesson/LES648  (lesson_page) \n",
      "                children:\n",
      "                 - path: /CourseContent/videos/m_Distribution_of_Electrons.mp4  (PrathamVideoResource) \n",
      "              - path: /mr/Lesson/LES649  (lesson_page) \n",
      "                children:\n",
      "                 - path: /CourseContent/videos/m_Frequency_and_Amplitude_of_a_Sound_Wave.mp4  (PrathamVideoResource) \n",
      "              - path: /mr/Lesson/LES650  (lesson_page) \n",
      "                children:\n",
      "                 - path: /CourseContent/videos/m_Isotopes.mp4  (PrathamVideoResource) \n",
      "              - path: /mr/Lesson/LES651  (lesson_page) \n",
      "                children:\n",
      "                 - path: /CourseContent/videos/m_Latent_Heat.mp4  (PrathamVideoResource) \n",
      "              - path: /mr/Lesson/LES652  (lesson_page) \n",
      "                children:\n",
      "                 - path: /CourseContent/videos/m_Law_of_Conservation_of_Energy.mp4  (PrathamVideoResource) \n",
      "              - path: /mr/Lesson/LES653  (lesson_page) \n",
      "                children:\n",
      "                 - path: /CourseContent/videos/m_Learning_in_the_Garden.mp4  (PrathamVideoResource) \n",
      "              - path: /mr/Lesson/LES654  (lesson_page) \n",
      "                children:\n",
      "                 - path: /CourseContent/videos/m_Need_to_Improve_Food_Resources.mp4  (PrathamVideoResource) \n",
      "              - path: /mr/Lesson/LES655  (lesson_page) \n",
      "                children:\n",
      "                 - path: /CourseContent/videos/m_Newtons_Second_Law_of_Motion.mp4  (PrathamVideoResource) \n",
      "              - path: /mr/Lesson/LES656  (lesson_page) \n",
      "                children:\n",
      "                 - path: /CourseContent/videos/m_Propagation_of_Sound.mp4  (PrathamVideoResource) \n",
      "              - path: /mr/Lesson/LES657  (lesson_page) \n",
      "                children:\n",
      "                 - path: /CourseContent/videos/m_Ready_to_Settle.mp4  (PrathamVideoResource) \n",
      "              - path: /mr/Lesson/LES658  (lesson_page) \n",
      "                children:\n",
      "                 - path: /CourseContent/videos/m_Role_of_a_Mole.mp4  (PrathamVideoResource) \n",
      "              - path: /mr/Lesson/LES659  (lesson_page) \n",
      "                children:\n",
      "                 - path: /CourseContent/videos/m_Separation_Lab_1.mp4  (PrathamVideoResource) \n",
      "              - path: /mr/Lesson/LES660  (lesson_page) \n",
      "                children:\n",
      "                 - path: /CourseContent/videos/m_Separation_Lab_2.mp4  (PrathamVideoResource) \n",
      "              - path: /mr/Lesson/LES661  (lesson_page) \n",
      "                children:\n",
      "                 - path: /CourseContent/videos/m_Separation_Lab_3.mp4  (PrathamVideoResource) \n",
      "              - path: /mr/Lesson/LES662  (lesson_page) \n",
      "                children:\n",
      "                 - path: /CourseContent/videos/m_Symptoms_of_Diseases.mp4  (PrathamVideoResource) \n",
      "              - path: /mr/Lesson/LES663  (lesson_page) \n",
      "                children:\n",
      "                 - path: /CourseContent/videos/m_The_Five_Kingdom_Classification.mp4  (PrathamVideoResource) \n",
      "              - path: /mr/Lesson/LES664  (lesson_page) \n",
      "                children:\n",
      "                 - path: /CourseContent/videos/m_Types_of_Animal_Tissues.mp4  (PrathamVideoResource) \n",
      "              - path: /mr/Lesson/LES665  (lesson_page) \n",
      "                children:\n",
      "                 - path: /CourseContent/videos/m_Types_of_Diseases.mp4  (PrathamVideoResource) \n",
      "           - path: /mr/Course/Std9/CRS59  (subtopic_page) \n",
      "             children:\n",
      "              - path: /mr/Lesson/LES667  (lesson_page) \n",
      "                children:\n",
      "                 - path: /CourseContent/videos/m_Area_of_a_Circle.mp4  (PrathamVideoResource) \n",
      "              - path: /mr/Lesson/LES668  (lesson_page) \n",
      "                children:\n",
      "                 - path: /CourseContent/videos/m_Area_of_an_n_Sided_Regular_Polygon.mp4  (PrathamVideoResource) \n",
      "              - path: /mr/Lesson/LES669  (lesson_page) \n",
      "                children:\n",
      "                 - path: /CourseContent/videos/m_Area_of_Triangle.mp4  (PrathamVideoResource) \n",
      "              - path: /mr/Lesson/LES670  (lesson_page) \n",
      "                children:\n",
      "                 - path: /CourseContent/videos/m_Area_of_Triangles.mp4  (PrathamVideoResource) \n",
      "              - path: /mr/Lesson/LES671  (lesson_page) \n",
      "                children:\n",
      "                 - path: /CourseContent/videos/m_Axioms_and_Postulates.mp4  (PrathamVideoResource) \n",
      "              - path: /mr/Lesson/LES672  (lesson_page) \n",
      "                children:\n",
      "                 - path: /CourseContent/videos/m_Bridge_It.mp4  (PrathamVideoResource) \n",
      "              - path: /mr/Lesson/LES673  (lesson_page) \n",
      "                children:\n",
      "                 - path: /CourseContent/videos/m_Circles_Through_Multiple_Points.mp4  (PrathamVideoResource) \n",
      "              - path: /mr/Lesson/LES674  (lesson_page) \n",
      "                children:\n",
      "                 - path: /CourseContent/videos/m_Constructing_a_Perpendicular_Bisector.mp4  (PrathamVideoResource) \n",
      "              - path: /mr/Lesson/LES675  (lesson_page) \n",
      "                children:\n",
      "                 - path: /CourseContent/videos/m_Constructing_an_Angle_Bisector.mp4  (PrathamVideoResource) \n",
      "              - path: /mr/Lesson/LES676  (lesson_page) \n",
      "                children:\n",
      "                 - path: /CourseContent/videos/m_Constructing_an_Angle_Measuring_60.mp4  (PrathamVideoResource) \n",
      "              - path: /mr/Lesson/LES677  (lesson_page) \n",
      "                children:\n",
      "                 - path: /CourseContent/videos/m_Constructing_Perpendicular_Lines.mp4  (PrathamVideoResource) \n",
      "              - path: /mr/Lesson/LES678  (lesson_page) \n",
      "                children:\n",
      "                 - path: /CourseContent/videos/m_Construction_of_a_Triangle_I.mp4  (PrathamVideoResource) \n",
      "              - path: /mr/Lesson/LES679  (lesson_page) \n",
      "                children:\n",
      "                 - path: /CourseContent/videos/m_Construction_of_a_Triangle_II.mp4  (PrathamVideoResource) \n",
      "              - path: /mr/Lesson/LES680  (lesson_page) \n",
      "                children:\n",
      "                 - path: /CourseContent/videos/m_Construction_of_a_Triangle_III.mp4  (PrathamVideoResource) \n",
      "              - path: /mr/Lesson/LES681  (lesson_page) \n",
      "                children:\n",
      "                 - path: /CourseContent/videos/m_Coordinates_of_Points_and_Distance.mp4  (PrathamVideoResource) \n",
      "              - path: /mr/Lesson/LES682  (lesson_page) \n",
      "                children:\n",
      "                 - path: /CourseContent/videos/m_CrossMultiplication_Method.mp4  (PrathamVideoResource) \n",
      "              - path: /mr/Lesson/LES683  (lesson_page) \n",
      "                children:\n",
      "                 - path: /CourseContent/videos/m_Data_and_Graphs.mp4  (PrathamVideoResource) \n",
      "              - path: /mr/Lesson/LES684  (lesson_page) \n",
      "                children:\n",
      "                 - path: /CourseContent/videos/m_Definitions_and_Propositions.mp4  (PrathamVideoResource) \n",
      "              - path: /mr/Lesson/LES685  (lesson_page) \n",
      "                children:\n",
      "                 - path: /CourseContent/videos/m_Direct_Proportion.mp4  (PrathamVideoResource) \n",
      "              - path: /mr/Lesson/LES686  (lesson_page) \n",
      "                children:\n",
      "                 - path: /CourseContent/videos/m_Division_of_Algebraic_Expressions.mp4  (PrathamVideoResource) \n",
      "              - path: /mr/Lesson/LES687  (lesson_page) \n",
      "                children:\n",
      "                 - path: /CourseContent/videos/m_Dots_to_Lines.mp4  (PrathamVideoResource) \n",
      "              - path: /mr/Lesson/LES688  (lesson_page) \n",
      "                children:\n",
      "                 - path: /CourseContent/videos/m_Elimination_Method.mp4  (PrathamVideoResource) \n",
      "              - path: /mr/Lesson/LES689  (lesson_page) \n",
      "                children:\n",
      "                 - path: /CourseContent/videos/m_Factorisation_of_Algebraic_Expressions.mp4  (PrathamVideoResource) \n",
      "              - path: /mr/Lesson/LES690  (lesson_page) \n",
      "                children:\n",
      "                 - path: /CourseContent/videos/m_Find_the_Distance.mp4  (PrathamVideoResource) \n",
      "              - path: /mr/Lesson/LES691  (lesson_page) \n",
      "                children:\n",
      "                 - path: /CourseContent/videos/m_Going_Off_on_a_Tangent.mp4  (PrathamVideoResource) \n",
      "              - path: /mr/Lesson/LES692  (lesson_page) \n",
      "                children:\n",
      "                 - path: /CourseContent/videos/m_Graph_of_the_Equation.mp4  (PrathamVideoResource) \n",
      "              - path: /mr/Lesson/LES693  (lesson_page) \n",
      "                children:\n",
      "                 - path: /CourseContent/videos/m_Introduction_to_Sets.mp4  (PrathamVideoResource) \n",
      "              - path: /mr/Lesson/LES694  (lesson_page) \n",
      "                children:\n",
      "                 - path: /CourseContent/videos/m_Inverse_Proportion.mp4  (PrathamVideoResource) \n",
      "              - path: /mr/Lesson/LES695  (lesson_page) \n",
      "                children:\n",
      "                 - path: /CourseContent/videos/m_Joint_Variation.mp4  (PrathamVideoResource) \n",
      "              - path: /mr/Lesson/LES696  (lesson_page) \n",
      "                children:\n",
      "                 - path: /CourseContent/videos/m_Know_Your_Angles.mp4  (PrathamVideoResource) \n",
      "              - path: /mr/Lesson/LES697  (lesson_page) \n",
      "                children:\n",
      "                 - path: /CourseContent/videos/m_measures_of_Central_Tendency.mp4  (PrathamVideoResource) \n",
      "              - path: /mr/Lesson/LES698  (lesson_page) \n",
      "                children:\n",
      "                 - path: /CourseContent/videos/m_midpoint_Theorem.mp4  (PrathamVideoResource) \n",
      "              - path: /mr/Lesson/LES699  (lesson_page) \n",
      "                children:\n",
      "                 - path: /CourseContent/videos/m_more_about_Circles.mp4  (PrathamVideoResource) \n",
      "              - path: /mr/Lesson/LES700  (lesson_page) \n",
      "                children:\n",
      "                 - path: /CourseContent/videos/m_multiplying_Algebraic_Expressions.mp4  (PrathamVideoResource) \n",
      "              - path: /mr/Lesson/LES701  (lesson_page) \n",
      "                children:\n",
      "                 - path: /CourseContent/videos/m_Number_of_Elements_in_a_Set.mp4  (PrathamVideoResource) \n",
      "              - path: /mr/Lesson/LES702  (lesson_page) \n",
      "                children:\n",
      "                 - path: /CourseContent/videos/m_Operation_on_Surds.mp4  (PrathamVideoResource) \n",
      "              - path: /mr/Lesson/LES703  (lesson_page) \n",
      "                children:\n",
      "                 - path: /CourseContent/videos/m_Operations_on_Sets.mp4  (PrathamVideoResource) \n",
      "              - path: /mr/Lesson/LES704  (lesson_page) \n",
      "                children:\n",
      "                 - path: /CourseContent/videos/m_Order_Relation_between_Two_Ratios.mp4  (PrathamVideoResource) \n",
      "              - path: /mr/Lesson/LES705  (lesson_page) \n",
      "                children:\n",
      "                 - path: /CourseContent/videos/m_Organising_and_Grouping_Data.mp4  (PrathamVideoResource) \n",
      "              - path: /mr/Lesson/LES706  (lesson_page) \n",
      "                children:\n",
      "                 - path: /CourseContent/videos/m_Parallel_Lines_Transversals_Axioms_and_Theorems.mp4  (PrathamVideoResource) \n",
      "              - path: /mr/Lesson/LES707  (lesson_page) \n",
      "                children:\n",
      "                 - path: /CourseContent/videos/m_Proof_of_Angle_Sum_Property.mp4  (PrathamVideoResource) \n",
      "              - path: /mr/Lesson/LES708  (lesson_page) \n",
      "                children:\n",
      "                 - path: /CourseContent/videos/m_Rational_Numbers.mp4  (PrathamVideoResource) \n",
      "              - path: /mr/Lesson/LES709  (lesson_page) \n",
      "                children:\n",
      "                 - path: /CourseContent/videos/m_Rays.mp4  (PrathamVideoResource) \n",
      "              - path: /mr/Lesson/LES710  (lesson_page) \n",
      "                children:\n",
      "                 - path: /CourseContent/videos/m_Right_Triangles_in_Everyday_Life.mp4  (PrathamVideoResource) \n",
      "              - path: /mr/Lesson/LES711  (lesson_page) \n",
      "                children:\n",
      "                 - path: /CourseContent/videos/m_Section_Formula.mp4  (PrathamVideoResource) \n",
      "              - path: /mr/Lesson/LES712  (lesson_page) \n",
      "                children:\n",
      "                 - path: /CourseContent/videos/m_Show_Me_the_Data.mp4  (PrathamVideoResource) \n",
      "              - path: /mr/Lesson/LES713  (lesson_page) \n",
      "                children:\n",
      "                 - path: /CourseContent/videos/m_Six_Trigonometric_Ratios.mp4  (PrathamVideoResource) \n",
      "              - path: /mr/Lesson/LES714  (lesson_page) \n",
      "                children:\n",
      "                 - path: /CourseContent/videos/m_Solving_Particular_Type_of_Simultaneous_Equations.mp4  (PrathamVideoResource) \n",
      "              - path: /mr/Lesson/LES715  (lesson_page) \n",
      "                children:\n",
      "                 - path: /CourseContent/videos/m_Substitution_Method.mp4  (PrathamVideoResource) \n",
      "              - path: /mr/Lesson/LES716  (lesson_page) \n",
      "                children:\n",
      "                 - path: /CourseContent/videos/m_Sum_of_Angles_of_a_Quadrilateral.mp4  (PrathamVideoResource) \n",
      "              - path: /mr/Lesson/LES717  (lesson_page) \n",
      "                children:\n",
      "                 - path: /CourseContent/videos/m_Synthetic_Division.mp4  (PrathamVideoResource) \n",
      "              - path: /mr/Lesson/LES718  (lesson_page) \n",
      "                children:\n",
      "                 - path: /CourseContent/videos/m_Tangents_in_Daily_Life.mp4  (PrathamVideoResource) \n",
      "              - path: /mr/Lesson/LES719  (lesson_page) \n",
      "                children:\n",
      "                 - path: /CourseContent/videos/m_Test_of_Collinearity.mp4  (PrathamVideoResource) \n",
      "              - path: /mr/Lesson/LES720  (lesson_page) \n",
      "                children:\n",
      "                 - path: /CourseContent/videos/m_Theorem_of_30_60_90_Triangle.mp4  (PrathamVideoResource) \n",
      "              - path: /mr/Lesson/LES721  (lesson_page) \n",
      "                children:\n",
      "                 - path: /CourseContent/videos/m_Theorem_on_Equal_Ratios.mp4  (PrathamVideoResource) \n",
      "              - path: /mr/Lesson/LES722  (lesson_page) \n",
      "                children:\n",
      "                 - path: /CourseContent/videos/m_Theorems_on_Parallelograms.mp4  (PrathamVideoResource) \n",
      "              - path: /mr/Lesson/LES723  (lesson_page) \n",
      "                children:\n",
      "                 - path: /CourseContent/videos/m_Three_or_More_Parallel_Lines.mp4  (PrathamVideoResource) \n",
      "              - path: /mr/Lesson/LES724  (lesson_page) \n",
      "                children:\n",
      "                 - path: /CourseContent/videos/m_Touching_Circles.mp4  (PrathamVideoResource) \n",
      "              - path: /mr/Lesson/LES725  (lesson_page) \n",
      "                children:\n",
      "                 - path: /CourseContent/videos/m_Trigonometric_Ratios_of_0_and_90_Degrees.mp4  (PrathamVideoResource) \n",
      "              - path: /mr/Lesson/LES726  (lesson_page) \n",
      "                children:\n",
      "                 - path: /CourseContent/videos/m_Trigonometric_Ratios_of_30A?_45A?_and_60A?.mp4  (PrathamVideoResource) \n",
      "              - path: /mr/Lesson/LES727  (lesson_page) \n",
      "                children:\n",
      "                 - path: /CourseContent/videos/m_Value_of_the_Polynomial.mp4  (PrathamVideoResource) \n",
      "        - path: /mr/Course/Std10  (topic_page) \n",
      "          children:\n",
      "           - path: /mr/Course/Std10/CRS60  (subtopic_page) \n",
      "             children:\n",
      "              - path: /mr/Lesson/LES728  (lesson_page) \n",
      "                children:\n",
      "                 - path: /CourseContent/videos/m_A_Matter_of_Strength.mp4  (PrathamVideoResource) \n",
      "              - path: /mr/Lesson/LES729  (lesson_page) \n",
      "                children:\n",
      "                 - path: /CourseContent/videos/m_A_Touch_Apart.mp4  (PrathamVideoResource) \n",
      "              - path: /mr/Lesson/LES730  (lesson_page) \n",
      "                children:\n",
      "                 - path: /CourseContent/videos/m_Anodising_Aluminium.mp4  (PrathamVideoResource) \n",
      "              - path: /mr/Lesson/LES731  (lesson_page) \n",
      "                children:\n",
      "                 - path: /CourseContent/videos/m_Asexual_Reproduction.mp4  (PrathamVideoResource) \n",
      "              - path: /mr/Lesson/LES732  (lesson_page) \n",
      "                children:\n",
      "                 - path: /CourseContent/videos/m_Atmospheric_Refraction.mp4  (PrathamVideoResource) \n",
      "              - path: /mr/Lesson/LES733  (lesson_page) \n",
      "                children:\n",
      "                 - path: /CourseContent/videos/m_Balancing_Act.mp4  (PrathamVideoResource) \n",
      "              - path: /mr/Lesson/LES734  (lesson_page) \n",
      "                children:\n",
      "                 - path: /CourseContent/videos/m_Branches_Chains_and_Rings.mp4  (PrathamVideoResource) \n",
      "              - path: /mr/Lesson/LES735  (lesson_page) \n",
      "                children:\n",
      "                 - path: /CourseContent/videos/m_Carbon_Combustion.mp4  (PrathamVideoResource) \n",
      "              - path: /mr/Lesson/LES736  (lesson_page) \n",
      "                children:\n",
      "                 - path: /CourseContent/videos/m_Dispersion_of_White_Light_by_a_Glass_Prism.mp4  (PrathamVideoResource) \n",
      "              - path: /mr/Lesson/LES737  (lesson_page) \n",
      "                children:\n",
      "                 - path: /CourseContent/videos/m_Earthing_and_Fuse.mp4  (PrathamVideoResource) \n",
      "              - path: /mr/Lesson/LES738  (lesson_page) \n",
      "                children:\n",
      "                 - path: /CourseContent/videos/m_Electric_Generator.mp4  (PrathamVideoResource) \n",
      "              - path: /mr/Lesson/LES739  (lesson_page) \n",
      "                children:\n",
      "                 - path: /CourseContent/videos/m_Electric_Motor.mp4  (PrathamVideoResource) \n",
      "              - path: /mr/Lesson/LES740  (lesson_page) \n",
      "                children:\n",
      "                 - path: /CourseContent/videos/m_Evolve_and_Move.mp4  (PrathamVideoResource) \n",
      "              - path: /mr/Lesson/LES741  (lesson_page) \n",
      "                children:\n",
      "                 - path: /CourseContent/videos/m_Give_and_Take.mp4  (PrathamVideoResource) \n",
      "              - path: /mr/Lesson/LES742  (lesson_page) \n",
      "                children:\n",
      "                 - path: /CourseContent/videos/m_Images_Formed_by_Spherical_Mirrors.mp4  (PrathamVideoResource) \n",
      "              - path: /mr/Lesson/LES743  (lesson_page) \n",
      "                children:\n",
      "                 - path: /CourseContent/videos/m_Itinerary_of_a_Nerve_Impulse.mp4  (PrathamVideoResource) \n",
      "              - path: /mr/Lesson/LES744  (lesson_page) \n",
      "                children:\n",
      "                 - path: /CourseContent/videos/m_metal_Refining.mp4  (PrathamVideoResource) \n",
      "              - path: /mr/Lesson/LES745  (lesson_page) \n",
      "                children:\n",
      "                 - path: /CourseContent/videos/m_Noise_Pollution.mp4  (PrathamVideoResource) \n",
      "              - path: /mr/Lesson/LES746  (lesson_page) \n",
      "                children:\n",
      "                 - path: /CourseContent/videos/m_Patterns_of_Inheritance.mp4  (PrathamVideoResource) \n",
      "              - path: /mr/Lesson/LES747  (lesson_page) \n",
      "                children:\n",
      "                 - path: /CourseContent/videos/m_Photosynthesis.mp4  (PrathamVideoResource) \n",
      "              - path: /mr/Lesson/LES748  (lesson_page) \n",
      "                children:\n",
      "                 - path: /CourseContent/videos/m_Plants_and_Hormones.mp4  (PrathamVideoResource) \n",
      "              - path: /mr/Lesson/LES749  (lesson_page) \n",
      "                children:\n",
      "                 - path: /CourseContent/videos/m_Play_of_Rays.mp4  (PrathamVideoResource) \n",
      "              - path: /mr/Lesson/LES750  (lesson_page) \n",
      "                children:\n",
      "                 - path: /CourseContent/videos/m_Reproductive_Phase_and_Sex_Determination.mp4  (PrathamVideoResource) \n",
      "              - path: /mr/Lesson/LES751  (lesson_page) \n",
      "                children:\n",
      "                 - path: /CourseContent/videos/m_Saturated_and_Unsaturated_Hydrocarbons.mp4  (PrathamVideoResource) \n",
      "              - path: /mr/Lesson/LES752  (lesson_page) \n",
      "                children:\n",
      "                 - path: /CourseContent/videos/m_Sharing_and_Bonding.mp4  (PrathamVideoResource) \n",
      "              - path: /mr/Lesson/LES753  (lesson_page) \n",
      "                children:\n",
      "                 - path: /CourseContent/videos/m_Soap_Stories.mp4  (PrathamVideoResource) \n",
      "              - path: /mr/Lesson/LES754  (lesson_page) \n",
      "                children:\n",
      "                 - path: /CourseContent/videos/m_Speciation.mp4  (PrathamVideoResource) \n",
      "              - path: /mr/Lesson/LES755  (lesson_page) \n",
      "                children:\n",
      "                 - path: /CourseContent/videos/m_Stop_Press!.mp4  (PrathamVideoResource) \n",
      "              - path: /mr/Lesson/LES756  (lesson_page) \n",
      "                children:\n",
      "                 - path: /CourseContent/videos/m_The_Flavour_Factory.mp4  (PrathamVideoResource) \n",
      "              - path: /mr/Lesson/LES757  (lesson_page) \n",
      "                children:\n",
      "                 - path: /CourseContent/videos/m_The_Regulator.mp4  (PrathamVideoResource) \n",
      "              - path: /mr/Lesson/LES758  (lesson_page) \n",
      "                children:\n",
      "                 - path: /CourseContent/videos/m_Waste_Management.mp4  (PrathamVideoResource) \n",
      "           - path: /mr/Course/Std10/CRS61  (subtopic_page) \n",
      "             children:\n",
      "              - path: /mr/Lesson/LES759  (lesson_page) \n",
      "                children:\n",
      "                 - path: /CourseContent/videos/m_Angles_and_Arcs.mp4  (PrathamVideoResource) \n",
      "              - path: /mr/Lesson/LES760  (lesson_page) \n",
      "                children:\n",
      "                 - path: /CourseContent/videos/m_Application_of_Simultaneous_Linear_Equations.mp4  (PrathamVideoResource) \n",
      "              - path: /mr/Lesson/LES761  (lesson_page) \n",
      "                children:\n",
      "                 - path: /CourseContent/videos/m_Appollonius_Theorem.mp4  (PrathamVideoResource) \n",
      "              - path: /mr/Lesson/LES762  (lesson_page) \n",
      "                children:\n",
      "                 - path: /CourseContent/videos/m_Arc_of_a_Circle_and_Angle_Subtended_by_an_Arc.mp4  (PrathamVideoResource) \n",
      "              - path: /mr/Lesson/LES763  (lesson_page) \n",
      "                children:\n",
      "                 - path: /CourseContent/videos/m_Arithmetic_Progression.mp4  (PrathamVideoResource) \n",
      "              - path: /mr/Lesson/LES764  (lesson_page) \n",
      "                children:\n",
      "                 - path: /CourseContent/videos/m_Basic_Proportionality_Theorem.mp4  (PrathamVideoResource) \n",
      "              - path: /mr/Lesson/LES765  (lesson_page) \n",
      "                children:\n",
      "                 - path: /CourseContent/videos/m_Completing_the_Square.mp4  (PrathamVideoResource) \n",
      "              - path: /mr/Lesson/LES766  (lesson_page) \n",
      "                children:\n",
      "                 - path: /CourseContent/videos/m_Constructing_Similar_Triangles.mp4  (PrathamVideoResource) \n",
      "              - path: /mr/Lesson/LES767  (lesson_page) \n",
      "                children:\n",
      "                 - path: /CourseContent/videos/m_Construction_Circumcentre_and_Circumcircle.mp4  (PrathamVideoResource) \n",
      "              - path: /mr/Lesson/LES768  (lesson_page) \n",
      "                children:\n",
      "                 - path: /CourseContent/videos/m_Construction_Incentre_and_Incircle.mp4  (PrathamVideoResource) \n",
      "              - path: /mr/Lesson/LES769  (lesson_page) \n",
      "                children:\n",
      "                 - path: /CourseContent/videos/m_Construction_of_a_Triangle_Part_I.mp4  (PrathamVideoResource) \n",
      "              - path: /mr/Lesson/LES770  (lesson_page) \n",
      "                children:\n",
      "                 - path: /CourseContent/videos/m_Construction_of_a_Triangle_Part_II.mp4  (PrathamVideoResource) \n",
      "              - path: /mr/Lesson/LES771  (lesson_page) \n",
      "                children:\n",
      "                 - path: /CourseContent/videos/m_Construction_of_Pie_Diagram.mp4  (PrathamVideoResource) \n",
      "              - path: /mr/Lesson/LES772  (lesson_page) \n",
      "                children:\n",
      "                 - path: /CourseContent/videos/m_Construction_of_Tangents_to_Circles_Part_I.mp4  (PrathamVideoResource) \n",
      "              - path: /mr/Lesson/LES773  (lesson_page) \n",
      "                children:\n",
      "                 - path: /CourseContent/videos/m_Converse_of_Basic_Proportionality_Theorem.mp4  (PrathamVideoResource) \n",
      "              - path: /mr/Lesson/LES774  (lesson_page) \n",
      "                children:\n",
      "                 - path: /CourseContent/videos/m_Converting_One_Solid_Shape_to_Another.mp4  (PrathamVideoResource) \n",
      "              - path: /mr/Lesson/LES775  (lesson_page) \n",
      "                children:\n",
      "                 - path: /CourseContent/videos/m_Cumulative_Effort.mp4  (PrathamVideoResource) \n",
      "              - path: /mr/Lesson/LES777  (lesson_page) \n",
      "                children:\n",
      "                 - path: /CourseContent/videos/m_Determining_the_Nature_of_Roots.mp4  (PrathamVideoResource) \n",
      "              - path: /mr/Lesson/LES778  (lesson_page) \n",
      "                children:\n",
      "                 - path: /CourseContent/videos/m_Equations_Reducible_to_Linear_Equations.mp4  (PrathamVideoResource) \n",
      "              - path: /mr/Lesson/LES779  (lesson_page) \n",
      "                children:\n",
      "                 - path: /CourseContent/videos/m_Equations_reducible_to_Quadratic_form.mp4  (PrathamVideoResource) \n",
      "              - path: /mr/Lesson/LES780  (lesson_page) \n",
      "                children:\n",
      "                 - path: /CourseContent/videos/m_Factorising_Quadratic_Equations.mp4  (PrathamVideoResource) \n",
      "              - path: /mr/Lesson/LES781  (lesson_page) \n",
      "                children:\n",
      "                 - path: /CourseContent/videos/m_Finding_Heights_and_Distances.mp4  (PrathamVideoResource) \n",
      "              - path: /mr/Lesson/LES782  (lesson_page) \n",
      "                children:\n",
      "                 - path: /CourseContent/videos/m_Finding_the_Median_of_Grouped_Data.mp4  (PrathamVideoResource) \n",
      "              - path: /mr/Lesson/LES783  (lesson_page) \n",
      "                children:\n",
      "                 - path: /CourseContent/videos/m_Forming_a_Quadratic_Equation_with_given_Roots.mp4  (PrathamVideoResource) \n",
      "              - path: /mr/Lesson/LES784  (lesson_page) \n",
      "                children:\n",
      "                 - path: /CourseContent/videos/m_Geometric_Mean.mp4  (PrathamVideoResource) \n",
      "              - path: /mr/Lesson/LES785  (lesson_page) \n",
      "                children:\n",
      "                 - path: /CourseContent/videos/m_Geometric_Progression.mp4  (PrathamVideoResource) \n",
      "              - path: /mr/Lesson/LES786  (lesson_page) \n",
      "                children:\n",
      "                 - path: /CourseContent/videos/m_Going_Off_on_a_Tangent.mp4  (PrathamVideoResource) \n",
      "              - path: /mr/Lesson/LES787  (lesson_page) \n",
      "                children:\n",
      "                 - path: /CourseContent/videos/m_Histogram_Frequency_Polygon_and_Frequency_Curve.mp4  (PrathamVideoResource) \n",
      "              - path: /mr/Lesson/LES788  (lesson_page) \n",
      "                children:\n",
      "                 - path: /CourseContent/videos/m_Intersecting_Secant.mp4  (PrathamVideoResource) \n",
      "              - path: /mr/Lesson/LES789  (lesson_page) \n",
      "                children:\n",
      "                 - path: /CourseContent/videos/m_mean_of_Ungrouped_Data.mp4  (PrathamVideoResource) \n",
      "              - path: /mr/Lesson/LES790  (lesson_page) \n",
      "                children:\n",
      "                 - path: /CourseContent/videos/m_mode_of_Grouped_Data.mp4  (PrathamVideoResource) \n"
     ]
    },
    {
     "name": "stdout",
     "output_type": "stream",
     "text": [
      "              - path: /mr/Lesson/LES791  (lesson_page) \n",
      "                children:\n",
      "                 - path: /CourseContent/videos/m_Probability_Revisited.mp4  (PrathamVideoResource) \n",
      "              - path: /mr/Lesson/LES792  (lesson_page) \n",
      "                children:\n",
      "                 - path: /CourseContent/videos/m_Properties_of_Probability.mp4  (PrathamVideoResource) \n",
      "              - path: /mr/Lesson/LES793  (lesson_page) \n",
      "                children:\n",
      "                 - path: /CourseContent/videos/m_Proving_Pythagoras_Theorem.mp4  (PrathamVideoResource) \n",
      "              - path: /mr/Lesson/LES794  (lesson_page) \n",
      "                children:\n",
      "                 - path: /CourseContent/videos/m_Ratios_of_Areas_of_Two_Triangles.mp4  (PrathamVideoResource) \n",
      "              - path: /mr/Lesson/LES795  (lesson_page) \n",
      "                children:\n",
      "                 - path: /CourseContent/videos/m_Right_Triangles_in_Everyday_Life.mp4  (PrathamVideoResource) \n",
      "              - path: /mr/Lesson/LES796  (lesson_page) \n",
      "                children:\n",
      "                 - path: /CourseContent/videos/m_Sequences.mp4  (PrathamVideoResource) \n",
      "              - path: /mr/Lesson/LES797  (lesson_page) \n",
      "                children:\n",
      "                 - path: /CourseContent/videos/m_Six_Trigonometric_Ratios.mp4  (PrathamVideoResource) \n",
      "              - path: /mr/Lesson/LES798  (lesson_page) \n",
      "                children:\n",
      "                 - path: /CourseContent/videos/m_Slope.mp4  (PrathamVideoResource) \n",
      "              - path: /mr/Lesson/LES799  (lesson_page) \n",
      "                children:\n",
      "                 - path: /CourseContent/videos/m_Sum_It_Up.mp4  (PrathamVideoResource) \n",
      "              - path: /mr/Lesson/LES800  (lesson_page) \n",
      "                children:\n",
      "                 - path: /CourseContent/videos/m_Surface_Area_of_Right_Circular_Cone.mp4  (PrathamVideoResource) \n",
      "              - path: /mr/Lesson/LES801  (lesson_page) \n",
      "                children:\n",
      "                 - path: /CourseContent/videos/m_Surface_Area_of_Sphere.mp4  (PrathamVideoResource) \n",
      "              - path: /mr/Lesson/LES802  (lesson_page) \n",
      "                children:\n",
      "                 - path: /CourseContent/videos/m_Surface_Areas_of_Cuboids_and_Cubes.mp4  (PrathamVideoResource) \n",
      "              - path: /mr/Lesson/LES803  (lesson_page) \n",
      "                children:\n",
      "                 - path: /CourseContent/videos/m_Tangent_Radius_Relationship.mp4  (PrathamVideoResource) \n",
      "              - path: /mr/Lesson/LES804  (lesson_page) \n",
      "                children:\n",
      "                 - path: /CourseContent/videos/m_Tangent_Secant_Theorem.mp4  (PrathamVideoResource) \n",
      "              - path: /mr/Lesson/LES805  (lesson_page) \n",
      "                children:\n",
      "                 - path: /CourseContent/videos/m_Tangents_From_a_Point_Outside_the_Circle.mp4  (PrathamVideoResource) \n",
      "              - path: /mr/Lesson/LES806  (lesson_page) \n",
      "                children:\n",
      "                 - path: /CourseContent/videos/m_Tangents_in_Daily_Life.mp4  (PrathamVideoResource) \n",
      "              - path: /mr/Lesson/LES807  (lesson_page) \n",
      "                children:\n",
      "                 - path: /CourseContent/videos/m_The_Frustum_of_a_Cone.mp4  (PrathamVideoResource) \n",
      "              - path: /mr/Lesson/LES808  (lesson_page) \n",
      "                children:\n",
      "                 - path: /CourseContent/videos/m_Theorem_of_30_60_90_Triangle.mp4  (PrathamVideoResource) \n",
      "              - path: /mr/Lesson/LES809  (lesson_page) \n",
      "                children:\n",
      "                 - path: /CourseContent/videos/m_Trigonometric_Ratios_in_Coordinates.mp4  (PrathamVideoResource) \n",
      "              - path: /mr/Lesson/LES810  (lesson_page) \n",
      "                children:\n",
      "                 - path: /CourseContent/videos/m_Trigonometric_Ratios_in_Different_Quadrants.mp4  (PrathamVideoResource) \n",
      "              - path: /mr/Lesson/LES811  (lesson_page) \n",
      "                children:\n",
      "                 - path: /CourseContent/videos/m_Trigonometric_Ratios_of_Negative_Angles.mp4  (PrathamVideoResource) \n",
      "              - path: /mr/Lesson/LES812  (lesson_page) \n",
      "                children:\n",
      "                 - path: /CourseContent/videos/m_Trigonometric_Terms.mp4  (PrathamVideoResource) \n",
      "              - path: /mr/Lesson/LES813  (lesson_page) \n",
      "                children:\n",
      "                 - path: /CourseContent/videos/m_Using_Quadratic_Formula.mp4  (PrathamVideoResource) \n",
      "              - path: /mr/Lesson/LES814  (lesson_page) \n",
      "                children:\n",
      "                 - path: /CourseContent/videos/m_Volume_of_Cone_Sphere_and_Hemisphere.mp4  (PrathamVideoResource) \n",
      "              - path: /mr/Lesson/LES815  (lesson_page) \n",
      "                children:\n",
      "                 - path: /CourseContent/videos/m_Volume_of_Cuboid_Cube_and_Cylinder.mp4  (PrathamVideoResource) \n",
      "        - path: /mr/Fun  (fun_page) \n",
      "          children:\n",
      "           - path: /CourseContent/Games/CorrectPair/index.html  (PrathamHtmlResource) \n",
      "           - path: /CourseContent/Games/AksharMatra_MR/index.html  (PrathamHtmlResource) \n",
      "           - path: /CourseContent/Games/JigsawGame_M.zip  (PrathamZipResource) \n",
      "           - path: /CourseContent/videos/m_fun_computerwork.mp4  (PrathamVideoResource) \n",
      "           - path: /CourseContent/Games/ScienceBucketGame_M/BucketGame.html  (PrathamHtmlResource) \n",
      "           - path: /CourseContent/videos/m_coriolis_effect.mp4  (PrathamVideoResource) \n",
      "           - path: /CourseContent/Games/Golmaal_MR/index.html  (PrathamHtmlResource) \n",
      "           - path: /CourseContent/Games/FactorsGameNew_M/gamePage.html  (PrathamHtmlResource) \n",
      "           - path: /CourseContent/Games/BolBacchaBol_MR/index.html  (PrathamHtmlResource) \n",
      "           - path: /CourseContent/Games/ShabdhChitra_MR/index.html  (PrathamHtmlResource) \n",
      "           - path: /CourseContent/videos/m_sandwich.mp4  (PrathamVideoResource) \n",
      "           - path: /CourseContent/videos/m_Que.mp4  (PrathamVideoResource) \n",
      "           - path: /CourseContent/videos/m_periodic_table.mp4  (PrathamVideoResource) \n",
      "           - path: /CourseContent/videos/m_paper_bridge.mp4  (PrathamVideoResource) \n",
      "           - path: /CourseContent/videos/m_mirror.mp4  (PrathamVideoResource) \n",
      "           - path: /CourseContent/videos/m_Airplane_landing.mp4  (PrathamVideoResource) \n",
      "           - path: /CourseContent/videos/m_howToDrink.mp4  (PrathamVideoResource) \n",
      "           - path: /CourseContent/videos/m_India_golden_girl.mp4  (PrathamVideoResource) \n",
      "           - path: /CourseContent/Games/phet/index.html?id=resistance-in-a-wire-mr  (PrathamHtmlResource) \n",
      "           - path: /CourseContent/Games/HistoryOfPlane_M.zip  (PrathamZipResource) \n",
      "           - path: /CourseContent/Games/timeglider_aircraft_mr/aircraft_history.html  (PrathamHtmlResource) \n",
      "           - path: /CourseContent/Games/timeglider_ISRO_mr/isro_history.html  (PrathamHtmlResource) \n",
      "           - path: /CourseContent/Games/AwazPehchano_MR/index.html  (PrathamHtmlResource) \n",
      "           - path: /CourseContent/videos/m_pressure.mp4  (PrathamVideoResource) \n",
      "           - path: /CourseContent/videos/m_Laurel&amp;Hardy.mp4  (UnsupportedPrathamWebResource) \n",
      "           - path: /CourseContent/videos/m_weight1.mp4  (PrathamVideoResource) \n",
      "           - path: /CourseContent/Games/phet/index.html?id=build-an-atom-mr  (PrathamHtmlResource) \n",
      "           - path: /CourseContent/Games/RailGadi_MR/index.html  (PrathamHtmlResource) \n",
      "           - path: /CourseContent/videos/m_nasa_satellite.mp4  (PrathamVideoResource) \n",
      "           - path: /CourseContent/Games/wordshop_M.zip  (PrathamZipResource) \n",
      "           - path: /CourseContent/Games/Build-a-Sentence(Marathi).zip  (PrathamZipResource) \n",
      "           - path: /CourseContent/videos/m_Pulley_advantage_and_disadvantages_2.mp4  (PrathamVideoResource) \n",
      "           - path: /CourseContent/Games/Cricket_MR/index.html  (PrathamHtmlResource) \n",
      "           - path: /CourseContent/Games/M_calculator/main.html  (PrathamHtmlResource) \n",
      "           - path: /CourseContent/Games/clockGameMarathi/index.html  (PrathamHtmlResource) \n",
      "           - path: /CourseContent/Games/DingDangDing_MR/index.html  (PrathamHtmlResource) \n",
      "           - path: /CourseContent/Games/4 clues (Countries) Marathi.zip  (PrathamZipResource) \n",
      "           - path: /CourseContent/Games/Bone Game(Dr. Haddi)_M.zip  (PrathamZipResource) \n",
      "           - path: /CourseContent/Games/Awazchitra_MR/index.html  (PrathamHtmlResource) \n",
      "           - path: /CourseContent/videos/m_important_work.mp4  (PrathamVideoResource) \n",
      "           - path: /CourseContent/videos/m_acceleration.mp4  (PrathamVideoResource) \n",
      "           - path: /CourseContent/videos/Geeta_Babita.mp4  (PrathamVideoResource) \n",
      "           - path: /CourseContent/Games/MathsBucketGame_M.zip  (PrathamZipResource) \n",
      "           - path: /CourseContent/videos/m_weight2.mp4  (PrathamVideoResource) \n",
      "           - path: /CourseContent/videos/m_howToFly.mp4  (PrathamVideoResource) \n",
      "           - path: /CourseContent/videos/m_self_opearating_gate.mp4  (PrathamVideoResource) \n",
      "           - path: /CourseContent/videos/m_howToRun.mp4  (PrathamVideoResource) \n",
      "           - path: /CourseContent/Games/Sorting Game  (Marathi).zip  (PrathamZipResource) \n",
      "           - path: /CourseContent/Games/timeglider_light_mr/light_history.html  (PrathamHtmlResource) \n",
      "           - path: /CourseContent/Games/AtulyaBharat/index.html  (PrathamHtmlResource) \n",
      "           - path: /CourseContent/Games/phet/index.html?id=color-vision-master-mr  (PrathamHtmlResource) \n",
      "           - path: /CourseContent/Games/AgePiche_MR/index.html  (PrathamHtmlResource) \n",
      "           - path: /CourseContent/videos/m_fraction_addition.mp4  (PrathamVideoResource) \n",
      "           - path: /CourseContent/Games/ChitraVichitra_MR/index.html  (PrathamHtmlResource) \n",
      "           - path: /CourseContent/Games/ThikThak_MR/index.html  (PrathamHtmlResource) \n",
      "           - path: /CourseContent/Games/phet/index.html?id=ohms-law-mr  (PrathamHtmlResource) \n",
      "           - path: /CourseContent/videos/m_fun_talkingeyes.mp4  (PrathamVideoResource) \n",
      "           - path: /CourseContent/videos/m_cow_pump.mp4  (PrathamVideoResource) \n",
      "           - path: /CourseContent/videos/m_bridge_secret.mp4  (PrathamVideoResource) \n",
      "           - path: /CourseContent/videos/m_howToSwim.mp4  (PrathamVideoResource) \n",
      "           - path: /CourseContent/Games/newFractionGame_M/MainPage.html  (PrathamHtmlResource) \n",
      "           - path: /CourseContent/videos/m_Pulley_advantage_and_disadvantages_1.mp4  (PrathamVideoResource) \n",
      "           - path: /CourseContent/videos/m_dry_clothes.mp4  (PrathamVideoResource) \n",
      "           - path: /CourseContent/videos/m_real_players.mp4  (PrathamVideoResource) \n",
      "           - path: /CourseContent/videos/m_force.mp4  (PrathamVideoResource) \n",
      "        - path: /mr/Story  (story_page) \n",
      "          children:\n",
      "           - path: /CourseContent/PDF/m_Wildlife_City_Pond.pdf  (story_resource_page) \n",
      "           - path: /CourseContent/PDF/m_Chuskit_Goes_to_School.pdf  (story_resource_page) \n",
      "           - path: /CourseContent/PDF/m_Wedding.pdf  (story_resource_page) \n",
      "           - path: /CourseContent/PDF/m_Aunty_Jui_Baby.pdf  (story_resource_page) \n",
      "           - path: /CourseContent/PDF/m_Kallus_World_01.pdf  (story_resource_page) \n",
      "           - path: /CourseContent/PDF/m_Moo_Moo.pdf  (story_resource_page) \n",
      "           - path: /CourseContent/PDF/m_Cheenus_Gift.pdf  (story_resource_page) \n",
      "           - path: /CourseContent/PDF/m_Jungle_Brew.pdf  (story_resource_page) \n",
      "           - path: /CourseContent/PDF/m_Kato_Clever.pdf  (story_resource_page) \n",
      "           - path: /CourseContent/PDF/m_Finance_02.pdf  (story_resource_page) \n",
      "           - path: /CourseContent/PDF/m_Cat_in_the_ghat.pdf  (story_resource_page) \n",
      "           - path: /CourseContent/PDF/m_Daddys_Mo.pdf  (story_resource_page) \n",
      "           - path: /CourseContent/PDF/m_History_02.pdf  (story_resource_page) \n",
      "           - path: /CourseContent/PDF/m_Generous_Crow.pdf  (story_resource_page) \n",
      "           - path: /CourseContent/PDF/m_Moon_and_the_Cap.pdf  (story_resource_page) \n",
      "           - path: /CourseContent/PDF/m_No_Smiles_Today.pdf  (story_resource_page) \n",
      "           - path: /CourseContent/PDF/m_Counting_on_Moru.pdf  (story_resource_page) \n",
      "           - path: /CourseContent/PDF/m_Parrot.pdf  (story_resource_page) \n",
      "           - path: /CourseContent/PDF/m_Kallus_World_02.pdf  (story_resource_page) \n",
      "           - path: /CourseContent/PDF/m_Finance_01.pdf  (story_resource_page) \n",
      "           - path: /CourseContent/PDF/m_Goodnight_Tinku.pdf  (story_resource_page) \n",
      "           - path: /CourseContent/PDF/m_Spincy_Spider.pdf  (story_resource_page) \n",
      "           - path: /CourseContent/PDF/m_Paplu_The_Giant.pdf  (story_resource_page) \n",
      "           - path: /CourseContent/PDF/m_Hare_and_Tortoise.pdf  (story_resource_page) \n",
      "           - path: /CourseContent/PDF/m_Grandpa_Fish_and_Radio.pdf  (story_resource_page) \n",
      "           - path: /CourseContent/PDF/m_Our_Wonderful_World.pdf  (story_resource_page) \n",
      "           - path: /CourseContent/PDF/m_My_Car.pdf  (story_resource_page) \n",
      "           - path: /CourseContent/PDF/m_Row_Row.pdf  (story_resource_page) \n",
      "           - path: /CourseContent/PDF/m_Kaka_and_Munni.pdf  (story_resource_page) \n",
      "           - path: /CourseContent/PDF/m_Grandmas_Glasses.pdf  (story_resource_page) \n",
      "           - path: /CourseContent/PDF/m_Anaya_Thumb.pdf  (story_resource_page) \n",
      "           - path: /CourseContent/PDF/m_Koels_Song.pdf  (story_resource_page) \n",
      "           - path: /CourseContent/PDF/m_Elephant_Bird.pdf  (story_resource_page) \n",
      "           - path: /CourseContent/PDF/m_Vegetables.pdf  (story_resource_page) \n",
      "           - path: /CourseContent/PDF/m_Sniffles_and_Punch.pdf  (story_resource_page) \n",
      "           - path: /CourseContent/PDF/m_Rainbow_Fish.pdf  (story_resource_page) \n",
      "           - path: /CourseContent/PDF/m_Sparrow_and_the_Fruit.pdf  (story_resource_page) \n",
      "           - path: /CourseContent/PDF/m_Shobhini_and_Nani.pdf  (story_resource_page) \n",
      "           - path: /CourseContent/PDF/m_Chulbuls_Tail.pdf  (story_resource_page) \n",
      "           - path: /CourseContent/PDF/m_Annual_Haircut_Day.pdf  (story_resource_page) \n",
      "           - path: /CourseContent/PDF/m_Rain_Rain.pdf  (story_resource_page) \n",
      "           - path: /CourseContent/PDF/m_Dastkari_03.pdf  (story_resource_page) \n",
      "           - path: /CourseContent/PDF/m_History_01.pdf  (story_resource_page) \n",
      "        - path: /mr/gamelist/CRS105  (topic_page) \n",
      "          children:\n",
      "           - path: /mr/gamelist/CRS105/LES850  (subtopic_page) \n",
      "           - path: /mr/gamelist/CRS105/LES851  (subtopic_page) \n"
     ]
    }
   ],
   "source": [
    "mr_crawler.print_tree(mr_web_resource_tree, print_depth=5)"
   ]
  },
  {
   "cell_type": "code",
   "execution_count": null,
   "metadata": {},
   "outputs": [],
   "source": []
  }
 ],
 "metadata": {
  "kernelspec": {
   "display_name": "Python 3",
   "language": "python",
   "name": "python3"
  },
  "language_info": {
   "codemirror_mode": {
    "name": "ipython",
    "version": 3
   },
   "file_extension": ".py",
   "mimetype": "text/x-python",
   "name": "python",
   "nbconvert_exporter": "python",
   "pygments_lexer": "ipython3",
   "version": "3.6.4"
  }
 },
 "nbformat": 4,
 "nbformat_minor": 2
}
