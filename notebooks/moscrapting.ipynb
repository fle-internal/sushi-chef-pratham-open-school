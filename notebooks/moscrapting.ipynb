{
 "cells": [
  {
   "cell_type": "code",
   "execution_count": 1,
   "metadata": {},
   "outputs": [],
   "source": [
    "from chef import PrathamCMSCrawler\n",
    "\n",
    "start_page = 'http://www.gamerepo.prathamcms.org/index.html'\n",
    "\n",
    "cmscrawler = PrathamCMSCrawler(start_page=start_page)\n"
   ]
  },
  {
   "cell_type": "code",
   "execution_count": null,
   "metadata": {
    "scrolled": true
   },
   "outputs": [
    {
     "name": "stderr",
     "output_type": "stream",
     "text": [
      "Downloading http://www.gamerepo.prathamcms.org/index.html then pausing for 15 secs for JS to run.\n",
      "POST http://127.0.0.1:63184/wd/hub/session {\"desiredCapabilities\": {\"browserName\": \"phantomjs\", \"version\": \"\", \"platform\": \"ANY\", \"javascriptEnabled\": true}, \"requiredCapabilities\": {}}\n",
      "Finished Request\n",
      "POST http://127.0.0.1:63184/wd/hub/session/60521dc0-2281-11e8-8559-1b48cda9093b/url {\"url\": \"http://www.gamerepo.prathamcms.org/index.html\", \"sessionId\": \"60521dc0-2281-11e8-8559-1b48cda9093b\"}\n",
      "Finished Request\n",
      "GET http://127.0.0.1:63184/wd/hub/session/60521dc0-2281-11e8-8559-1b48cda9093b/source {\"sessionId\": \"60521dc0-2281-11e8-8559-1b48cda9093b\"}\n",
      "Finished Request\n",
      "Downloaded page http://www.gamerepo.prathamcms.org/index.html using PhantomJS. Title:Game Repository\n",
      "in on_page http://www.gamerepo.prathamcms.org/index.html\n",
      "Downloading http://www.gamerepo.prathamcms.org/gamelist.html?lang=Assamese then pausing for 15 secs for JS to run.\n",
      "POST http://127.0.0.1:63329/wd/hub/session {\"desiredCapabilities\": {\"browserName\": \"phantomjs\", \"version\": \"\", \"platform\": \"ANY\", \"javascriptEnabled\": true}, \"requiredCapabilities\": {}}\n",
      "Finished Request\n",
      "POST http://127.0.0.1:63329/wd/hub/session/6e2f0160-2281-11e8-bbc3-b3791eb27865/url {\"url\": \"http://www.gamerepo.prathamcms.org/gamelist.html?lang=Assamese\", \"sessionId\": \"6e2f0160-2281-11e8-bbc3-b3791eb27865\"}\n",
      "Finished Request\n",
      "GET http://127.0.0.1:63329/wd/hub/session/6e2f0160-2281-11e8-bbc3-b3791eb27865/source {\"sessionId\": \"6e2f0160-2281-11e8-bbc3-b3791eb27865\"}\n",
      "Finished Request\n",
      "Downloaded page http://www.gamerepo.prathamcms.org/gamelist.html?lang=Assamese using PhantomJS. Title:Game Repository\n",
      "in on_page http://www.gamerepo.prathamcms.org/gamelist.html?lang=Assamese\n",
      "Downloading http://www.gamerepo.prathamcms.org/gamelist.html?lang=Bangali then pausing for 15 secs for JS to run.\n",
      "POST http://127.0.0.1:63459/wd/hub/session {\"desiredCapabilities\": {\"browserName\": \"phantomjs\", \"version\": \"\", \"platform\": \"ANY\", \"javascriptEnabled\": true}, \"requiredCapabilities\": {}}\n",
      "Finished Request\n",
      "POST http://127.0.0.1:63459/wd/hub/session/7f17ec80-2281-11e8-8d3a-cbe3d933d9c6/url {\"url\": \"http://www.gamerepo.prathamcms.org/gamelist.html?lang=Bangali\", \"sessionId\": \"7f17ec80-2281-11e8-8d3a-cbe3d933d9c6\"}\n",
      "Finished Request\n",
      "GET http://127.0.0.1:63459/wd/hub/session/7f17ec80-2281-11e8-8d3a-cbe3d933d9c6/source {\"sessionId\": \"7f17ec80-2281-11e8-8d3a-cbe3d933d9c6\"}\n",
      "Finished Request\n",
      "Downloaded page http://www.gamerepo.prathamcms.org/gamelist.html?lang=Bangali using PhantomJS. Title:Game Repository\n",
      "in on_page http://www.gamerepo.prathamcms.org/gamelist.html?lang=Bangali\n",
      "Downloading http://www.gamerepo.prathamcms.org/gamelist.html?lang=English then pausing for 15 secs for JS to run.\n",
      "POST http://127.0.0.1:63576/wd/hub/session {\"desiredCapabilities\": {\"browserName\": \"phantomjs\", \"version\": \"\", \"platform\": \"ANY\", \"javascriptEnabled\": true}, \"requiredCapabilities\": {}}\n",
      "Finished Request\n",
      "POST http://127.0.0.1:63576/wd/hub/session/8e097470-2281-11e8-99d9-4d92d1595bdd/url {\"url\": \"http://www.gamerepo.prathamcms.org/gamelist.html?lang=English\", \"sessionId\": \"8e097470-2281-11e8-99d9-4d92d1595bdd\"}\n",
      "Finished Request\n",
      "GET http://127.0.0.1:63576/wd/hub/session/8e097470-2281-11e8-99d9-4d92d1595bdd/source {\"sessionId\": \"8e097470-2281-11e8-99d9-4d92d1595bdd\"}\n",
      "Finished Request\n",
      "Downloaded page http://www.gamerepo.prathamcms.org/gamelist.html?lang=English using PhantomJS. Title:Game Repository\n",
      "in on_page http://www.gamerepo.prathamcms.org/gamelist.html?lang=English\n",
      "Downloading http://www.gamerepo.prathamcms.org/gamelist.html?lang=Gujarati then pausing for 15 secs for JS to run.\n",
      "POST http://127.0.0.1:63956/wd/hub/session {\"desiredCapabilities\": {\"browserName\": \"phantomjs\", \"version\": \"\", \"platform\": \"ANY\", \"javascriptEnabled\": true}, \"requiredCapabilities\": {}}\n",
      "Finished Request\n",
      "POST http://127.0.0.1:63956/wd/hub/session/bda2d190-2281-11e8-829d-d13662cbb3d8/url {\"url\": \"http://www.gamerepo.prathamcms.org/gamelist.html?lang=Gujarati\", \"sessionId\": \"bda2d190-2281-11e8-829d-d13662cbb3d8\"}\n",
      "Finished Request\n",
      "GET http://127.0.0.1:63956/wd/hub/session/bda2d190-2281-11e8-829d-d13662cbb3d8/source {\"sessionId\": \"bda2d190-2281-11e8-829d-d13662cbb3d8\"}\n",
      "Finished Request\n",
      "Downloaded page http://www.gamerepo.prathamcms.org/gamelist.html?lang=Gujarati using PhantomJS. Title:Game Repository\n",
      "in on_page http://www.gamerepo.prathamcms.org/gamelist.html?lang=Gujarati\n",
      "Downloading http://www.gamerepo.prathamcms.org/gamelist.html?lang=Hindi then pausing for 15 secs for JS to run.\n",
      "POST http://127.0.0.1:64338/wd/hub/session {\"desiredCapabilities\": {\"browserName\": \"phantomjs\", \"version\": \"\", \"platform\": \"ANY\", \"javascriptEnabled\": true}, \"requiredCapabilities\": {}}\n",
      "Finished Request\n",
      "POST http://127.0.0.1:64338/wd/hub/session/f1b44950-2281-11e8-af95-478534e41bed/url {\"url\": \"http://www.gamerepo.prathamcms.org/gamelist.html?lang=Hindi\", \"sessionId\": \"f1b44950-2281-11e8-af95-478534e41bed\"}\n",
      "Finished Request\n",
      "GET http://127.0.0.1:64338/wd/hub/session/f1b44950-2281-11e8-af95-478534e41bed/source {\"sessionId\": \"f1b44950-2281-11e8-af95-478534e41bed\"}\n",
      "Finished Request\n",
      "Downloaded page http://www.gamerepo.prathamcms.org/gamelist.html?lang=Hindi using PhantomJS. Title:Game Repository\n",
      "in on_page http://www.gamerepo.prathamcms.org/gamelist.html?lang=Hindi\n",
      "Downloading http://www.gamerepo.prathamcms.org/gamelist.html?lang=Kannada then pausing for 15 secs for JS to run.\n",
      "POST http://127.0.0.1:64465/wd/hub/session {\"desiredCapabilities\": {\"browserName\": \"phantomjs\", \"version\": \"\", \"platform\": \"ANY\", \"javascriptEnabled\": true}, \"requiredCapabilities\": {}}\n",
      "Finished Request\n",
      "POST http://127.0.0.1:64465/wd/hub/session/01491620-2282-11e8-b715-a56c4f4ac817/url {\"url\": \"http://www.gamerepo.prathamcms.org/gamelist.html?lang=Kannada\", \"sessionId\": \"01491620-2282-11e8-b715-a56c4f4ac817\"}\n",
      "Finished Request\n",
      "GET http://127.0.0.1:64465/wd/hub/session/01491620-2282-11e8-b715-a56c4f4ac817/source {\"sessionId\": \"01491620-2282-11e8-b715-a56c4f4ac817\"}\n",
      "Finished Request\n",
      "Downloaded page http://www.gamerepo.prathamcms.org/gamelist.html?lang=Kannada using PhantomJS. Title:Game Repository\n",
      "in on_page http://www.gamerepo.prathamcms.org/gamelist.html?lang=Kannada\n",
      "Downloading http://www.gamerepo.prathamcms.org/gamelist.html?lang=Marathi then pausing for 15 secs for JS to run.\n",
      "POST http://127.0.0.1:64641/wd/hub/session {\"desiredCapabilities\": {\"browserName\": \"phantomjs\", \"version\": \"\", \"platform\": \"ANY\", \"javascriptEnabled\": true}, \"requiredCapabilities\": {}}\n",
      "Finished Request\n",
      "POST http://127.0.0.1:64641/wd/hub/session/193d9800-2282-11e8-9334-498433b4c6a6/url {\"url\": \"http://www.gamerepo.prathamcms.org/gamelist.html?lang=Marathi\", \"sessionId\": \"193d9800-2282-11e8-9334-498433b4c6a6\"}\n",
      "Finished Request\n",
      "GET http://127.0.0.1:64641/wd/hub/session/193d9800-2282-11e8-9334-498433b4c6a6/source {\"sessionId\": \"193d9800-2282-11e8-9334-498433b4c6a6\"}\n",
      "Finished Request\n",
      "Downloaded page http://www.gamerepo.prathamcms.org/gamelist.html?lang=Marathi using PhantomJS. Title:Game Repository\n",
      "in on_page http://www.gamerepo.prathamcms.org/gamelist.html?lang=Marathi\n",
      "Downloading http://www.gamerepo.prathamcms.org/gamelist.html?lang=Odiya then pausing for 15 secs for JS to run.\n",
      "POST http://127.0.0.1:64951/wd/hub/session {\"desiredCapabilities\": {\"browserName\": \"phantomjs\", \"version\": \"\", \"platform\": \"ANY\", \"javascriptEnabled\": true}, \"requiredCapabilities\": {}}\n",
      "Finished Request\n",
      "POST http://127.0.0.1:64951/wd/hub/session/4327ba10-2282-11e8-900d-0bbfa3b4dd22/url {\"url\": \"http://www.gamerepo.prathamcms.org/gamelist.html?lang=Odiya\", \"sessionId\": \"4327ba10-2282-11e8-900d-0bbfa3b4dd22\"}\n",
      "Finished Request\n",
      "GET http://127.0.0.1:64951/wd/hub/session/4327ba10-2282-11e8-900d-0bbfa3b4dd22/source {\"sessionId\": \"4327ba10-2282-11e8-900d-0bbfa3b4dd22\"}\n",
      "Finished Request\n",
      "Downloaded page http://www.gamerepo.prathamcms.org/gamelist.html?lang=Odiya using PhantomJS. Title:Game Repository\n",
      "in on_page http://www.gamerepo.prathamcms.org/gamelist.html?lang=Odiya\n",
      "Downloading http://www.gamerepo.prathamcms.org/gamelist.html?lang=Punjabi then pausing for 15 secs for JS to run.\n",
      "POST http://127.0.0.1:65279/wd/hub/session {\"desiredCapabilities\": {\"browserName\": \"phantomjs\", \"version\": \"\", \"platform\": \"ANY\", \"javascriptEnabled\": true}, \"requiredCapabilities\": {}}\n"
     ]
    },
    {
     "name": "stderr",
     "output_type": "stream",
     "text": [
      "Finished Request\n",
      "POST http://127.0.0.1:65279/wd/hub/session/6f8aa450-2282-11e8-b3aa-3f924f17b1ca/url {\"url\": \"http://www.gamerepo.prathamcms.org/gamelist.html?lang=Punjabi\", \"sessionId\": \"6f8aa450-2282-11e8-b3aa-3f924f17b1ca\"}\n"
     ]
    }
   ],
   "source": [
    "web_resource_tree = cmscrawler.crawl()"
   ]
  },
  {
   "cell_type": "code",
   "execution_count": null,
   "metadata": {},
   "outputs": [],
   "source": [
    "cmscrawler.print_tree()"
   ]
  },
  {
   "cell_type": "code",
   "execution_count": 12,
   "metadata": {},
   "outputs": [
    {
     "data": {
      "text/plain": [
       "{'language': 'hn', 'subject_en': 'Science'}"
      ]
     },
     "execution_count": 12,
     "metadata": {},
     "output_type": "execute_result"
    }
   ],
   "source": [
    "import re\n",
    "DOMAIN = 'prathamopenschool.org'\n",
    "FULL_DOMAIN_URL = 'http://www.' + DOMAIN\n",
    "\n",
    "\n",
    "_SUBJECT_EN_RE = re.compile(FULL_DOMAIN_URL + r'/(?P<language>\\w{2,3})/Course/(?P<subject_en>\\w{3,20})(/.*)?')\n",
    "\n",
    "m = _SUBJECT_EN_RE.search('http://www.prathamopenschool.org/hn/Course/Science/ad')\n",
    "\n",
    "\n",
    "m.groupdict()"
   ]
  },
  {
   "cell_type": "code",
   "execution_count": null,
   "metadata": {},
   "outputs": [],
   "source": []
  }
 ],
 "metadata": {
  "kernelspec": {
   "display_name": "Python 3",
   "language": "python",
   "name": "python3"
  },
  "language_info": {
   "codemirror_mode": {
    "name": "ipython",
    "version": 3
   },
   "file_extension": ".py",
   "mimetype": "text/x-python",
   "name": "python",
   "nbconvert_exporter": "python",
   "pygments_lexer": "ipython3",
   "version": "3.6.4"
  }
 },
 "nbformat": 4,
 "nbformat_minor": 2
}
