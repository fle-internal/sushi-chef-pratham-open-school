{
 "cells": [
  {
   "cell_type": "markdown",
   "metadata": {},
   "source": [
    "# structure.py\n",
    "\n",
    "This file reads the channel structure information from the excel sheet, and turn it into a tree of resources that will become the PraDigi channel.\n"
   ]
  },
  {
   "cell_type": "markdown",
   "metadata": {},
   "source": [
    "## 1. Reading Excel"
   ]
  },
  {
   "cell_type": "code",
   "execution_count": 1,
   "metadata": {},
   "outputs": [],
   "source": [
    "from structure import load_pradigi_structure"
   ]
  },
  {
   "cell_type": "markdown",
   "metadata": {},
   "source": [
    "### All languages except English\n",
    "https://docs.google.com/spreadsheets/d/1kPOnTVZ5vwq038x1aQNlA2AFtliLIcc2Xk5Kxr852mg/edit#gid=342105160\n"
   ]
  },
  {
   "cell_type": "code",
   "execution_count": 2,
   "metadata": {},
   "outputs": [],
   "source": [
    "PRADIGI_STRUCT_LIST = load_pradigi_structure()"
   ]
  },
  {
   "cell_type": "code",
   "execution_count": 3,
   "metadata": {},
   "outputs": [
    {
     "data": {
      "text/plain": [
       "134"
      ]
     },
     "execution_count": 3,
     "metadata": {},
     "output_type": "execute_result"
    }
   ],
   "source": [
    "len(PRADIGI_STRUCT_LIST)"
   ]
  },
  {
   "cell_type": "code",
   "execution_count": 4,
   "metadata": {},
   "outputs": [
    {
     "data": {
      "text/plain": [
       "{'Age Group': '6-10 years',\n",
       " 'Subject': 'Fun',\n",
       " 'Resource Type': 'Website Resources',\n",
       " 'Game Name': None,\n",
       " 'Take From Repo': None,\n",
       " 'Use Only In': None,\n",
       " 'Pratham': None,\n",
       " 'LE Comments': None}"
      ]
     },
     "execution_count": 4,
     "metadata": {},
     "output_type": "execute_result"
    }
   ],
   "source": [
    "# example Website Resources\n",
    "PRADIGI_STRUCT_LIST[2]"
   ]
  },
  {
   "cell_type": "code",
   "execution_count": 5,
   "metadata": {},
   "outputs": [
    {
     "data": {
      "text/plain": [
       "{'Age Group': '6-10 years',\n",
       " 'Subject': 'Mathematics',\n",
       " 'Resource Type': 'Game',\n",
       " 'Game Name': 'TikTok',\n",
       " 'Take From Repo': None,\n",
       " 'Use Only In': None,\n",
       " 'Pratham': 'http://prathamopenschool.org/hn/game/7611',\n",
       " 'LE Comments': '# \"खेळ-वाडी\",'}"
      ]
     },
     "execution_count": 5,
     "metadata": {},
     "output_type": "execute_result"
    }
   ],
   "source": [
    "# example game\n",
    "PRADIGI_STRUCT_LIST[15]"
   ]
  },
  {
   "cell_type": "markdown",
   "metadata": {},
   "source": [
    "All the above directives indicate two possible things:\n",
    "  - include web resources associated with `Subject` under speified `Age Group` (if they are available for this language)\n",
    "  - include the game `Game Name` in the `Subject` under `Age Group` (if it is available in this language)"
   ]
  },
  {
   "cell_type": "markdown",
   "metadata": {},
   "source": [
    "### English structure\n",
    "https://docs.google.com/spreadsheets/d/1kPOnTVZ5vwq038x1aQNlA2AFtliLIcc2Xk5Kxr852mg/edit#gid=1812185465"
   ]
  },
  {
   "cell_type": "code",
   "execution_count": 6,
   "metadata": {},
   "outputs": [],
   "source": [
    "# similar list for English\n",
    "PRADIGI_ENGLISH_STRUCT_LIST = load_pradigi_structure(which='English')"
   ]
  },
  {
   "cell_type": "code",
   "execution_count": 7,
   "metadata": {},
   "outputs": [
    {
     "data": {
      "text/plain": [
       "32"
      ]
     },
     "execution_count": 7,
     "metadata": {},
     "output_type": "execute_result"
    }
   ],
   "source": [
    "len(PRADIGI_ENGLISH_STRUCT_LIST)"
   ]
  },
  {
   "cell_type": "code",
   "execution_count": null,
   "metadata": {},
   "outputs": [],
   "source": []
  },
  {
   "cell_type": "code",
   "execution_count": null,
   "metadata": {},
   "outputs": [],
   "source": []
  },
  {
   "cell_type": "markdown",
   "metadata": {},
   "source": [
    "## 2. Get tree template\n",
    "\n",
    "This is the main \"template\" that is used for all the languages."
   ]
  },
  {
   "cell_type": "code",
   "execution_count": 8,
   "metadata": {},
   "outputs": [],
   "source": [
    "from structure import get_tree_for_lang_from_structure\n"
   ]
  },
  {
   "cell_type": "code",
   "execution_count": 9,
   "metadata": {},
   "outputs": [
    {
     "data": {
      "text/plain": [
       "{'kind': 'topic',\n",
       " 'children': [{'title': '3-6 years',\n",
       "   'kind': 'topic',\n",
       "   'children': [{'title': 'KhelBadi', 'kind': 'topic', 'children': []}]},\n",
       "  {'title': '6-10 years',\n",
       "   'kind': 'topic',\n",
       "   'children': [{'title': 'Mathematics', 'kind': 'topic', 'children': []},\n",
       "    {'title': 'Language', 'kind': 'topic', 'children': []},\n",
       "    {'title': 'English', 'kind': 'topic', 'children': []},\n",
       "    {'title': 'Sports', 'kind': 'topic', 'children': []},\n",
       "    {'title': 'Music', 'kind': 'topic', 'children': []},\n",
       "    {'title': 'Theatre', 'kind': 'topic', 'children': []},\n",
       "    {'title': 'Art Project', 'kind': 'topic', 'children': []},\n",
       "    {'title': 'Fun', 'kind': 'topic', 'children': []},\n",
       "    {'title': 'KhelPuri', 'kind': 'topic', 'children': []},\n",
       "    {'title': 'LanguageAndCommunication', 'kind': 'topic', 'children': []}]},\n",
       "  {'title': '8-14 years',\n",
       "   'kind': 'topic',\n",
       "   'children': [{'title': 'Mathematics', 'kind': 'topic', 'children': []},\n",
       "    {'title': 'Language', 'kind': 'topic', 'children': []},\n",
       "    {'title': 'English', 'kind': 'topic', 'children': []},\n",
       "    {'title': 'Science', 'kind': 'topic', 'children': []},\n",
       "    {'title': 'Health', 'kind': 'topic', 'children': []},\n",
       "    {'title': 'Sports', 'kind': 'topic', 'children': []},\n",
       "    {'title': 'Music', 'kind': 'topic', 'children': []},\n",
       "    {'title': 'Theatre', 'kind': 'topic', 'children': []},\n",
       "    {'title': 'Art Project', 'kind': 'topic', 'children': []},\n",
       "    {'title': 'Fun', 'kind': 'topic', 'children': []},\n",
       "    {'title': 'Story', 'kind': 'topic', 'children': []},\n",
       "    {'title': 'LanguageAndCommunication', 'kind': 'topic', 'children': []}]},\n",
       "  {'title': '14 and above',\n",
       "   'kind': 'topic',\n",
       "   'children': [{'title': 'Health', 'kind': 'topic', 'children': []},\n",
       "    {'title': 'Sports', 'kind': 'topic', 'children': []},\n",
       "    {'title': 'Music', 'kind': 'topic', 'children': []},\n",
       "    {'title': 'Theatre', 'kind': 'topic', 'children': []},\n",
       "    {'title': 'Art Project', 'kind': 'topic', 'children': []},\n",
       "    {'title': 'Fun', 'kind': 'topic', 'children': []},\n",
       "    {'title': 'Vocational', 'kind': 'topic', 'children': []},\n",
       "    {'title': 'Hospitality', 'kind': 'topic', 'children': []},\n",
       "    {'title': 'Automobile', 'kind': 'topic', 'children': []},\n",
       "    {'title': 'Beauty', 'kind': 'topic', 'children': []},\n",
       "    {'title': 'Electric', 'kind': 'topic', 'children': []},\n",
       "    {'title': 'Healthcare', 'kind': 'topic', 'children': []},\n",
       "    {'title': 'Construction', 'kind': 'topic', 'children': []},\n",
       "    {'title': 'Financial Literacy', 'kind': 'topic', 'children': []},\n",
       "    {'title': '14_To_18', 'kind': 'topic', 'children': []},\n",
       "    {'title': 'LanguageAndCommunication', 'kind': 'topic', 'children': []}]}]}"
      ]
     },
     "execution_count": 9,
     "metadata": {},
     "output_type": "execute_result"
    }
   ],
   "source": [
    "get_tree_for_lang_from_structure()"
   ]
  },
  {
   "cell_type": "code",
   "execution_count": null,
   "metadata": {},
   "outputs": [],
   "source": []
  },
  {
   "cell_type": "markdown",
   "metadata": {},
   "source": [
    "For each language, age group, and subject in the above tree we use the function `get_resources_for_age_group_and_subject` to find the resources to be included."
   ]
  },
  {
   "cell_type": "code",
   "execution_count": null,
   "metadata": {},
   "outputs": [],
   "source": []
  },
  {
   "cell_type": "markdown",
   "metadata": {},
   "source": [
    "## 3. Selecting resources\n"
   ]
  },
  {
   "cell_type": "code",
   "execution_count": 10,
   "metadata": {},
   "outputs": [],
   "source": [
    "from structure import get_resources_for_age_group_and_subject"
   ]
  },
  {
   "cell_type": "code",
   "execution_count": 11,
   "metadata": {},
   "outputs": [
    {
     "data": {
      "text/plain": [
       "{'website': ['Mathematics'],\n",
       " 'games': [{'Age Group': '8-14 years',\n",
       "   'Subject': 'Mathematics',\n",
       "   'Resource Type': 'Game',\n",
       "   'Game Name': 'CountAndKnow',\n",
       "   'Take From Repo': 'English',\n",
       "   'Use Only In': None,\n",
       "   'Pratham': None,\n",
       "   'LE Comments': None},\n",
       "  {'Age Group': '8-14 years',\n",
       "   'Subject': 'Mathematics',\n",
       "   'Resource Type': 'Game',\n",
       "   'Game Name': 'CountIt',\n",
       "   'Take From Repo': 'English',\n",
       "   'Use Only In': None,\n",
       "   'Pratham': None,\n",
       "   'LE Comments': None},\n",
       "  {'Age Group': '8-14 years',\n",
       "   'Subject': 'Mathematics',\n",
       "   'Resource Type': 'Game',\n",
       "   'Game Name': 'Cricket',\n",
       "   'Take From Repo': None,\n",
       "   'Use Only In': None,\n",
       "   'Pratham': None,\n",
       "   'LE Comments': None},\n",
       "  {'Age Group': '8-14 years',\n",
       "   'Subject': 'Mathematics',\n",
       "   'Resource Type': 'Game',\n",
       "   'Game Name': 'Dhoom_2',\n",
       "   'Take From Repo': None,\n",
       "   'Use Only In': None,\n",
       "   'Pratham': None,\n",
       "   'LE Comments': None}]}"
      ]
     },
     "execution_count": 11,
     "metadata": {},
     "output_type": "execute_result"
    }
   ],
   "source": [
    "# Example: list of resources for Marathi > 8-14 years > Mathematics\n",
    "get_resources_for_age_group_and_subject('8-14 years', 'Mathematics', 'Marathi')"
   ]
  },
  {
   "cell_type": "markdown",
   "metadata": {},
   "source": [
    "This means we should include ALL the resourcces from the Mathematics (see https://prathamopenschool.org/hn/Course/Mathematics ) and additionally look for the games `CountAndKnow`, `CountIt`,  `Cricket`, and `Dhoom_2` for that language (meaning with suffix `_MR`) and include them in the Mathematics folder of the channel."
   ]
  },
  {
   "cell_type": "code",
   "execution_count": null,
   "metadata": {},
   "outputs": [],
   "source": []
  },
  {
   "cell_type": "code",
   "execution_count": null,
   "metadata": {},
   "outputs": [],
   "source": []
  },
  {
   "cell_type": "code",
   "execution_count": null,
   "metadata": {},
   "outputs": [],
   "source": []
  }
 ],
 "metadata": {
  "kernelspec": {
   "display_name": "Python 3",
   "language": "python",
   "name": "python3"
  },
  "language_info": {
   "codemirror_mode": {
    "name": "ipython",
    "version": 3
   },
   "file_extension": ".py",
   "mimetype": "text/x-python",
   "name": "python",
   "nbconvert_exporter": "python",
   "pygments_lexer": "ipython3",
   "version": "3.7.4"
  }
 },
 "nbformat": 4,
 "nbformat_minor": 2
}
