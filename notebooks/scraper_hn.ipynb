{
 "cells": [
  {
   "cell_type": "markdown",
   "metadata": {},
   "source": [
    "# Testing PraDigiCrawler"
   ]
  },
  {
   "cell_type": "code",
   "execution_count": 1,
   "metadata": {
    "scrolled": false
   },
   "outputs": [],
   "source": [
    "from pradigi_crawlers import PraDigiCrawler\n",
    "\n",
    "crawler = PraDigiCrawler(lang='hi')\n"
   ]
  },
  {
   "cell_type": "code",
   "execution_count": 2,
   "metadata": {
    "scrolled": false
   },
   "outputs": [
    {
     "name": "stderr",
     "output_type": "stream",
     "text": [
      "found topic: Mathematics: गणित\n",
      "found topic: English: अंग्रेजी\n",
      "found topic: Health: स्वास्थ्य\n",
      "found topic: Science: विज्ञान\n",
      "found topic: Hospitality: अतिथी सत्कार\n",
      "found topic: Construction: भवन-निर्माण\n",
      "found topic: Automobile: वाहन\n",
      "found topic: Electric: इलेक्ट्रिक\n",
      "found topic: Beauty: ब्युटी\n",
      "found topic: Healthcare: स्वास्थ्य सेवा\n",
      "found topic: Std5: 5 वी कक्षा\n",
      "found topic: Std6: 6 वी कक्षा\n",
      "found topic: Std7: 7 वी कक्षा\n",
      "found topic: Std8: 8 वी कक्षा\n",
      "found topic: Std9: 9 वी कक्षा\n",
      "found topic: Std10: 10 वी कक्षा\n",
      "found fun page: Fun: मौज\n",
      "found story page: Story: कहानियाँ\n",
      "found topic: CRS104: खेल\n",
      "found topic: Index: बच्चो के विडिओ\n"
     ]
    },
    {
     "name": "stdout",
     "output_type": "stream",
     "text": [
      "skipping <a class=\"dropdown-toggle\" data-toggle=\"dropdown\" href=\"#\" style=\"background: transparent;\">\r\n",
      "                                                कौशल <span class=\"caret\"></span>\n",
      "</a>\n",
      "skipping <a class=\"dropdown-toggle\" data-toggle=\"dropdown\" href=\"#\" style=\"background: transparent;\">\r\n",
      "                                                 कक्षा  <span class=\"caret\"></span>\n",
      "</a>\n"
     ]
    },
    {
     "name": "stderr",
     "output_type": "stream",
     "text": [
      "  found subtopic: CRS3: नापना\n",
      "  found subtopic: CRS4: ज्यामिती से परिचय\n",
      "  found subtopic: CRS5: गुणज और गुणनखंड\n",
      "  found subtopic: CRS6: अलग संख्याएँ\n",
      "  found subtopic: CRS7: ब्याज\n",
      "  found subtopic: CRS8: बीजगणित\n",
      "  found subtopic: CRS9: वर्ग और घन संख्याएँ\n",
      "  found subtopic: CRS10: गणित के मज़ेदार खेल\n",
      "  found subtopic: CRS1: अंग्रेजी बोलो\n",
      "  found subtopic: CRS2: अंग्रेजी खेल\n",
      "  found subtopic: CRS96: अंग्रेजी ओके प्लीज\n",
      "  found subtopic: CRS114: आहार\n",
      "  found subtopic: CRS62: नापना\n",
      "  found subtopic: CRS12: प्रकाश\n",
      "  found subtopic: CRS13: पदार्थ\n",
      "  found subtopic: CRS14: मानव शरीर\n",
      "  found subtopic: CRS15: हलचल\n",
      "  found subtopic: CRS16: सूर्य और पृथ्वी\n",
      "  found subtopic: CRS17: ऊर्जा\n",
      "  found subtopic: CRS18: मजेदार प्रयोग\n",
      "  found subtopic: CRS66: अपने आसपास\n",
      "  found subtopic: CRS67: सरल मशीन\n",
      "  found subtopic: CRS68: आरोग्य\n",
      "  found subtopic: CRS86: उद्योग का परिचय\n",
      "  found subtopic: CRS87: खाद्य और पेय पदार्थ\n",
      "  found subtopic: CRS88: खाद्य उत्पादन\n",
      "  found subtopic: CRS89: गृह व्यवस्था\n",
      "  found subtopic: CRS93: निर्माण\n",
      "  found subtopic: CRS94: ऑटोमोबाइल\n",
      "  found subtopic: CRS90: इलेक्ट्रीशियन\n",
      "  found subtopic: CRS95: ब्यूटिशियन\n",
      "  found subtopic: CRS91: बेडसाइड असिस्टंट\n",
      "  found subtopic: CRS21: विज्ञान\n",
      "  found subtopic: CRS22: गणित\n",
      "  found subtopic: CRS23: विज्ञान\n",
      "  found subtopic: CRS24: गणित\n",
      "  found subtopic: CRS25: विज्ञान\n",
      "  found subtopic: CRS26: गणित\n",
      "  found subtopic: CRS27: विज्ञान\n",
      "  found subtopic: CRS28: गणित\n",
      "  found subtopic: CRS29: विज्ञान\n",
      "  found subtopic: CRS30: गणित\n",
      "  found subtopic: CRS31: विज्ञान\n",
      "  found subtopic: CRS32: गणित\n"
     ]
    },
    {
     "name": "stdout",
     "output_type": "stream",
     "text": [
      "     in on_fun_page http://www.prathamopenschool.org/hn/Fun\n"
     ]
    },
    {
     "name": "stderr",
     "output_type": "stream",
     "text": [
      "      Fun content: hn/FunResource/4616: कंप्यूटर का काम at http://www.prathamopenschool.org/CourseContent/videos/fun_Computer_Work.mp4\n",
      "      Fun content: hn/FunResource/1557: गीता और बबीता at http://www.prathamopenschool.org/CourseContent/videos/Geeta_Babita.mp4\n",
      "      Fun content: hn/FunResource/311: अंतरिक्ष में द्रव्यमान और भार 1 at http://www.prathamopenschool.org/CourseContent/videos/h_pressure.mp4\n",
      "      Fun content: hn/FunResource/94: बनाओ कोई परमाणु at http://www.prathamopenschool.org/CourseContent/Games/phet/index.html?id=build-an-atom-hn\n",
      "      Fun content: hn/FunResource/4622: आँखें क्या कहती हैं at http://www.prathamopenschool.org/CourseContent/videos/Pupil_Purpose.mp4\n",
      "      Fun content: hn/FunResource/309: हवा में तैरता सैंडविच at http://www.prathamopenschool.org/CourseContent/videos/h_sandwich.mp4\n",
      "      Fun content: hn/FunResource/1569: कैसे तैरते हैं ? at http://www.prathamopenschool.org/CourseContent/videos/h_howToSwim.mp4\n",
      "      Fun content: hn/FunResource/4621: Laurel and Hardy at http://www.prathamopenschool.org/CourseContent/Hindi/videos/Laure_&amp;_hardy.mp4\n",
      "Fun resource not supported: http://www.prathamopenschool.org/hn/FunResource/4621, None\n",
      "      Fun content: hn/FunResource/63: लगाओ करंट - तार का प्रतिरोध at http://www.prathamopenschool.org/CourseContent/Games/phet/index.html?id=resistance-in-a-wire-hn\n",
      "      Fun content: hn/FunResource/376: स्ट्रॉ को घुमानेवाला at http://www.prathamopenschool.org/CourseContent/videos/Straw_Spindle.mp4\n",
      "      Fun content: hn/FunResource/4610: स्थिर कागज at http://www.prathamopenschool.org/CourseContent/videos/Static_Magic_Wand.mp4\n",
      "      Fun content: hn/FunResource/1169: शीशाबाज़ी at http://www.prathamopenschool.org/CourseContent/videos/mirror.mp4\n",
      "      Fun content: hn/FunResource/5522: घिरनी के फायदे और नुकसान 2 at http://www.prathamopenschool.org/CourseContent/videos/h_Pulley_advantage_and_disadvantages_2.mp4\n",
      "      Fun content: hn/FunResource/1554: सच्चे खिलाडी at http://www.prathamopenschool.org/CourseContent/videos/h_real_players.mp4\n",
      "      Fun content: hn/FunResource/1530: पीछें मुड़कर - विमान at http://www.prathamopenschool.org/CourseContent/Games/HistoryOfPlane_H/gamePage.html\n",
      "      Fun content: hn/FunResource/1568: कैसे उड़ते हैं ? at http://www.prathamopenschool.org/CourseContent/videos/h_howToFly.mp4\n",
      "      Fun content: hn/FunResource/137: अतुल्य भारत at http://www.prathamopenschool.org/CourseContent/Games/AtulyaBharat_HI/index.html\n",
      "      Fun content: hn/FunResource/5521: घिरनी के फायदे और नुकसान 1 at http://www.prathamopenschool.org/CourseContent/videos/h_Pulley_advantage_and_disadvantages_1.mp4\n",
      "      Fun content: hn/FunResource/57: रंगों के संग at http://www.prathamopenschool.org/CourseContent/Games/phet/index.html?id=color-vision-master-hn\n",
      "      Fun content: hn/FunResource/312: अंतरिक्ष में द्रव्यमान त्वरित! at http://www.prathamopenschool.org/CourseContent/videos/h_acceleration.mp4\n",
      "      Fun content: hn/FunResource/3519: The Correct Pair at http://www.prathamopenschool.org/CourseContent/Games/CorrectPair/index.html\n",
      "      Fun content: hn/FunResource/854: विषम संख्याओं के खेल at http://www.prathamopenschool.org/CourseContent/videos/h_odd_numbers_fun.mp4\n",
      "      Fun content: hn/FunResource/1552: कागज़ का पुल at http://www.prathamopenschool.org/CourseContent/videos/h_paper_bridge.mp4\n",
      "      Fun content: hn/FunResource/1549: पिरिऑडिक टेबल at http://www.prathamopenschool.org/CourseContent/videos/h_periodic_table.mp4\n",
      "      Fun content: hn/FunResource/60: लगाओ करंट - ओह्म का नियम at http://www.prathamopenschool.org/CourseContent/Games/phet/index.html?id=ohms-law-hn\n",
      "      Fun content: hn/FunResource/1114: पलट at http://www.prathamopenschool.org/CourseContent/Games/Palat_HI/index.html\n",
      "      Fun content: hn/FunResource/1567: कैसे पीते हैं ? at http://www.prathamopenschool.org/CourseContent/videos/h_howToDrink.mp4\n",
      "      Fun content: hn/FunResource/98: पीछे मुड़कर - इस्रो का इतिहास at http://www.prathamopenschool.org/CourseContent/Games/timeglider_ISRO_hn/isro_history.html\n",
      "      Fun content: hn/FunResource/1409: दे दना दन at http://www.prathamopenschool.org/CourseContent/Games/Cricket_HI/index.html\n",
      "      Fun content: hn/FunResource/875: लाइन में ! at http://www.prathamopenschool.org/CourseContent/videos/m_Que.mp4\n",
      "      Fun content: hn/FunResource/701: वाक्य बनाओ स्वयं at http://www.prathamopenschool.org/CourseContent/Games/Build-a-Sentence(Hindi)/mainexpand.html\n",
      "      Fun content: hn/FunResource/1570: धूम at http://www.prathamopenschool.org/CourseContent/Games/Dhoom_2_HI/index.html\n",
      "      Fun content: hn/FunResource/3521: अक्षर मात्रा - शब्द यात्रा at http://www.prathamopenschool.org/CourseContent/Games/AksharMatra_HI/index.html\n",
      "      Fun content: hn/FunResource/879: कितने बजे at http://www.prathamopenschool.org/CourseContent/Games/clockGameHindi/index.html\n",
      "      Fun content: hn/FunResource/360: भारत की गोल्डन गर्ल्स at http://www.prathamopenschool.org/CourseContent/videos/India_golden_girl.mp4\n",
      "      Fun content: hn/FunResource/1547: कोरिओलिस इफेक्ट at http://www.prathamopenschool.org/CourseContent/videos/h_coriolis_effect.mp4\n",
      "      Fun content: hn/FunResource/308: अंतरिक्ष में पानी निचोड़ना at http://www.prathamopenschool.org/CourseContent/videos/h_dry_clothes.mp4\n",
      "      Fun content: hn/FunResource/1551: सबसे महत्वपूर्ण काम at http://www.prathamopenschool.org/CourseContent/videos/h_important_work.mp4\n",
      "      Fun content: hn/FunResource/3526: आगे पीछे at http://www.prathamopenschool.org/CourseContent/Games/AgePiche_HI/index.html\n",
      "      Fun content: hn/FunResource/134: विश्वदर्शन at http://www.prathamopenschool.org/CourseContent/Games/4 clues (Countries) Hindi/Index.html\n",
      "      Fun content: hn/FunResource/372: मौत का कुआ at http://www.prathamopenschool.org/CourseContent/videos/Funny_Balloon.mp4\n",
      "      Fun content: hn/FunResource/895: कौनसी बाल्टी? at http://www.prathamopenschool.org/CourseContent/Games/ScienceBucketGame_H/BucketGame.html\n",
      "      Fun content: hn/FunResource/880: कल - का - लूटर at http://www.prathamopenschool.org/CourseContent/Games/H_calculator/main.html\n",
      "      Fun content: hn/FunResource/856: परिपूर्ण संख्याऍ at http://www.prathamopenschool.org/CourseContent/videos/h_perfect_numbers.mp4\n",
      "      Fun content: hn/FunResource/100: पीछे मुड़कर - रौशनी का इतिहास at http://www.prathamopenschool.org/CourseContent/Games/timeglider_light_hn/light_history.html\n",
      "      Fun content: hn/FunResource/95: पीछे मुड़कर - विमान का इतिहास at http://www.prathamopenschool.org/CourseContent/Games/timeglider_aircraft_hn/aircraft_history.html\n",
      "      Fun content: hn/FunResource/889: रंगीन भिन्ने at http://www.prathamopenschool.org/CourseContent/Games/newFractionGame_H/MainPage.html\n",
      "      Fun content: hn/FunResource/135: अरे भाई, लाइन में! at http://www.prathamopenschool.org/CourseContent/Games/sorting Game (Hindi)/sorting.html\n",
      "      Fun content: hn/FunResource/1555: पूलों का रहस्य at http://www.prathamopenschool.org/CourseContent/videos/h_bridge_secret.mp4\n",
      "      Fun content: hn/FunResource/313: अंतरिक्ष में द्रव्यमान बनाम भार at http://www.prathamopenschool.org/CourseContent/videos/h_weight1.mp4\n",
      "      Fun content: hn/FunResource/1412: कौनसी बाल्टी? at http://www.prathamopenschool.org/CourseContent/Games/MathsBucketGame_H/BucketGame.html\n",
      "      Fun content: hn/FunResource/1550: गाय से सीखो पंप का रहस्य at http://www.prathamopenschool.org/CourseContent/videos/h_cow_pump.mp4\n",
      "      Fun content: hn/FunResource/310: अंतरिक्ष में द्रव्यमान और भार 2 at http://www.prathamopenschool.org/CourseContent/videos/h_weight2.mp4\n",
      "      Fun content: hn/FunResource/1120: डॉ. हड्डी at http://www.prathamopenschool.org/CourseContent/Games/Bone Game(Dr. Haddi)_H/CoverPage.html\n",
      "      Fun content: hn/FunResource/314: हवाई द्रव्यमान at http://www.prathamopenschool.org/CourseContent/videos/h_force.mp4\n",
      "      Fun content: hn/FunResource/1548: सफर सहारा रेगिस्तान की रेत का at http://www.prathamopenschool.org/CourseContent/videos/h_nasa_satellite.mp4\n",
      "      Fun content: hn/FunResource/1119: पलट! at http://www.prathamopenschool.org/CourseContent/Games/FlipImage Game(Palat)_H/CoverPage.html\n",
      "      Fun content: hn/FunResource/1118: छुपने वाले सामने आ at http://www.prathamopenschool.org/CourseContent/Games/Jigsaw_HI/index.html\n",
      "      Fun content: hn/FunResource/375: स्ट्रॉ की बाँसुरी at http://www.prathamopenschool.org/CourseContent/videos/Straw_Flute.mp4\n"
     ]
    },
    {
     "name": "stderr",
     "output_type": "stream",
     "text": [
      "      Fun content: hn/FunResource/3536: आवाज़-चित्र at http://www.prathamopenschool.org/CourseContent/Games/Awazchitra_HI/index.html\n",
      "      Fun content: hn/FunResource/1566: कैसे दौड़ते हैं ? at http://www.prathamopenschool.org/CourseContent/videos/h_howToRun.mp4\n",
      "      Fun content: hn/FunResource/5537: Airplane Landing at http://www.prathamopenschool.org/CourseContent/videos/h_Airplane_landing.mp4\n",
      "      Fun content: hn/FunResource/855: मुरजबंध संख्याऍ at http://www.prathamopenschool.org/CourseContent/videos/h_palindromes.mp4\n",
      "      Fun content: hn/FunResource/1553: अनोखा द्वार at http://www.prathamopenschool.org/CourseContent/videos/h_self_opearating_gate.mp4\n",
      "      story_resource_page: hn/StoryResource/1068: रंग बिरंगी सुंदर मछली\n",
      "      story_resource_page: hn/StoryResource/1043: सो जाओ टिंकु !\n",
      "      story_resource_page: hn/StoryResource/1057: बरसा बादल\n",
      "      story_resource_page: hn/StoryResource/1051: कल्लू के किस्से २\n",
      "      story_resource_page: hn/StoryResource/1059: शान्ति का मित्र\n",
      "      story_resource_page: hn/StoryResource/1056: पपलू राक्षस\n",
      "      story_resource_page: hn/StoryResource/1058: नौका विहार\n",
      "      story_resource_page: hn/StoryResource/1032: जुई मौसी की बेटी\n",
      "      story_resource_page: hn/StoryResource/1052: एक बड़ी मुसीबत\n",
      "      story_resource_page: hn/StoryResource/1042: चाचा की शादी\n",
      "      story_resource_page: hn/StoryResource/1033: घाट की मायावी बिल्ली\n",
      "      story_resource_page: hn/StoryResource/1047: अगस्त का एक दिन\n",
      "      story_resource_page: hn/StoryResource/1035: चुलबुल की पूँछ\n",
      "      story_resource_page: hn/StoryResource/1065: कुहू कुहू कोयल\n",
      "      story_resource_page: hn/StoryResource/1030: अनया का अंगूठा\n",
      "      story_resource_page: hn/StoryResource/1067: टूटी चोंच वाला तोता\n",
      "      story_resource_page: hn/StoryResource/1048: मसाला चाय\n",
      "      story_resource_page: hn/StoryResource/1036: चुस्कित स्कूल चली\n",
      "      story_resource_page: hn/StoryResource/1034: कबाड़ी वाला\n",
      "      story_resource_page: hn/StoryResource/1049: काका और मुन्नी\n",
      "      story_resource_page: hn/StoryResource/1061: रोन्दू और मुक्की\n",
      "      story_resource_page: hn/StoryResource/1044: नानी की ऐनक\n",
      "      story_resource_page: hn/StoryResource/1066: लापता बल्ला\n",
      "      story_resource_page: hn/StoryResource/1069: गौरेया और अमरूद\n",
      "      story_resource_page: hn/StoryResource/1040: पैसे की दुनिया\n",
      "      story_resource_page: hn/StoryResource/1050: कल्लू के किस्से १\n",
      "      story_resource_page: hn/StoryResource/1055: हमारी खूबसूरत दुनिया\n",
      "      story_resource_page: hn/StoryResource/1063: कौए के रिश्तेदार\n",
      "      story_resource_page: hn/StoryResource/1038: पापा की मूँछें\n",
      "      story_resource_page: hn/StoryResource/1046: एक यादगार मेला\n",
      "      story_resource_page: hn/StoryResource/1054: हँसना मना है\n",
      "      story_resource_page: hn/StoryResource/1037: मोरू एक पहेली\n",
      "      story_resource_page: hn/StoryResource/1062: छुटकू मकड़ा\n",
      "      story_resource_page: hn/StoryResource/1060: शोभिनी और नानी\n",
      "      story_resource_page: hn/StoryResource/1064: कछुआ और खरगोश\n",
      "      story_resource_page: hn/StoryResource/1041: पैसे की यात्रा\n",
      "      story_resource_page: hn/StoryResource/1039: मनु ने बनाया खुशियों का घड़ा\n",
      "      story_resource_page: hn/StoryResource/1031: सालाना बाल - कटाई दिवस\n",
      "      story_resource_page: hn/StoryResource/1045: मछली ने समाचार सुने\n",
      "      story_resource_page: hn/StoryResource/1053: बुलबुलों वाला फेनीला दूध\n"
     ]
    },
    {
     "name": "stdout",
     "output_type": "stream",
     "text": [
      "     in on_story_page http://www.prathamopenschool.org/hn/Story\n"
     ]
    },
    {
     "name": "stderr",
     "output_type": "stream",
     "text": [
      "  found subtopic: LES407: 3 to 6\n",
      "  found subtopic: LES408: 6 to 10\n",
      "ERROR get_subtopics: 'NoneType' object has no attribute 'find_all' : http://www.prathamopenschool.org/Video/Index\n",
      "     lesson: LES14: नापे कैसें ?\n"
     ]
    },
    {
     "name": "stdout",
     "output_type": "stream",
     "text": [
      "     in on_subtopic_page http://www.prathamopenschool.org/hn/Course/Mathematics/CRS3\n"
     ]
    },
    {
     "name": "stderr",
     "output_type": "stream",
     "text": [
      "     lesson: LES15: आकृतीयां और बहुभूज\n",
      "     lesson: LES16: कोण\n",
      "     lesson: LES17: त्रिभुज\n",
      "     lesson: LES18: वृत्त\n",
      "     lesson: LES19: क्षेत्रफल\n",
      "     lesson: LES20: परिमाप\n"
     ]
    },
    {
     "name": "stdout",
     "output_type": "stream",
     "text": [
      "     in on_subtopic_page http://www.prathamopenschool.org/hn/Course/Mathematics/CRS4\n"
     ]
    },
    {
     "name": "stderr",
     "output_type": "stream",
     "text": [
      "     lesson: LES21: गुणज\n",
      "     lesson: LES22: गुणनखंड\n",
      "     lesson: LES23: रिश्ते गणित में\n",
      "     lesson: LES24: महत्तम समापवर्तक\n",
      "     lesson: LES25: महत्तम समापवर्तक, लघुत्तम समापवर्त्य\n",
      "     lesson: LES26: मजेदार ल. स. और म. स.\n"
     ]
    },
    {
     "name": "stdout",
     "output_type": "stream",
     "text": [
      "     in on_subtopic_page http://www.prathamopenschool.org/hn/Course/Mathematics/CRS5\n"
     ]
    },
    {
     "name": "stderr",
     "output_type": "stream",
     "text": [
      "     lesson: LES27: अंक के भाग\n",
      "     lesson: LES28: भिन्न में और क्या!\n",
      "     lesson: LES29: दो अंकों के बीच\n",
      "     lesson: LES30: दशमलव में और क्या!\n",
      "     lesson: LES31: सौ में से कितने?\n",
      "     lesson: LES828: प्रतिशत\n"
     ]
    },
    {
     "name": "stdout",
     "output_type": "stream",
     "text": [
      "     in on_subtopic_page http://www.prathamopenschool.org/hn/Course/Mathematics/CRS6\n"
     ]
    },
    {
     "name": "stderr",
     "output_type": "stream",
     "text": [
      "     lesson: LES32: ब्याज\n"
     ]
    },
    {
     "name": "stdout",
     "output_type": "stream",
     "text": [
      "     in on_subtopic_page http://www.prathamopenschool.org/hn/Course/Mathematics/CRS7\n"
     ]
    },
    {
     "name": "stderr",
     "output_type": "stream",
     "text": [
      "     lesson: LES33: बीजगणित से परिचय\n"
     ]
    },
    {
     "name": "stdout",
     "output_type": "stream",
     "text": [
      "     in on_subtopic_page http://www.prathamopenschool.org/hn/Course/Mathematics/CRS8\n"
     ]
    },
    {
     "name": "stderr",
     "output_type": "stream",
     "text": [
      "     lesson: LES34: वर्ग संख्याएँ\n",
      "     lesson: LES35: घन संख्याएँ\n"
     ]
    },
    {
     "name": "stdout",
     "output_type": "stream",
     "text": [
      "     in on_subtopic_page http://www.prathamopenschool.org/hn/Course/Mathematics/CRS9\n"
     ]
    },
    {
     "name": "stderr",
     "output_type": "stream",
     "text": [
      "     lesson: LES36: गणित के मज़ेदार खेल\n"
     ]
    },
    {
     "name": "stdout",
     "output_type": "stream",
     "text": [
      "     in on_subtopic_page http://www.prathamopenschool.org/hn/Course/Mathematics/CRS10\n"
     ]
    },
    {
     "name": "stderr",
     "output_type": "stream",
     "text": [
      "     lesson: LES1: L1 नये शहर में पहला दिन\n",
      "     lesson: LES2: L2 नए पड़ोसियों से मुलाक़ात\n",
      "     lesson: LES3: L3 घर में गप्पे\n",
      "     lesson: LES4: L4 पिक्चर देखने का प्लान\n",
      "     lesson: LES5: L5 चलो समझें समय को\n",
      "     lesson: LES6: L6 चलो खरीददारी करने चलते हैं\n",
      "     lesson: LES7: L7 बनो अपनें पिक्चर के डायरेक्टर\n",
      "     lesson: LES8: L8 सलमा दीदी की शादी\n",
      "     lesson: LES9: L9 आज की ताजा खबर\n",
      "     lesson: LES10: L10 डरना मना हैं\n",
      "     lesson: LES12: L12 दिमाग की बत्ती जली\n",
      "     lesson: LES13: L13 गाँव में खेल कूद\n",
      "     lesson: LES11: L11 बच्चा ब्रिगेड\n",
      "     lesson: LES830: गाँव में चोर\n"
     ]
    },
    {
     "name": "stdout",
     "output_type": "stream",
     "text": [
      "     in on_subtopic_page http://www.prathamopenschool.org/hn/Course/English/CRS1\n"
     ]
    },
    {
     "name": "stderr",
     "output_type": "stream",
     "text": [
      "     lesson: LES409: Flip It\n",
      "     lesson: LES410: Crumble Tumble\n",
      "     lesson: LES411: Fix-Up Mix-Up\n",
      "     lesson: LES412: You Said\n",
      "     lesson: LES413: Point Me Out\n",
      "     lesson: LES414: Guess Who\n",
      "     lesson: LES415: ABCD\n",
      "     lesson: LES416: Letter Box\n",
      "     lesson: LES417: Jumble Tumble\n",
      "     lesson: LES418: Count & Know\n",
      "     lesson: LES419: Count It\n"
     ]
    },
    {
     "name": "stdout",
     "output_type": "stream",
     "text": [
      "     in on_subtopic_page http://www.prathamopenschool.org/hn/Course/English/CRS2\n"
     ]
    },
    {
     "name": "stderr",
     "output_type": "stream",
     "text": [
      "     lesson: LES909: अंग्रेजी ओके 1\n",
      "     lesson: LES910: अंग्रेजी ओके 2\n",
      "     lesson: LES911: अंग्रेजी ओके 3\n",
      "     lesson: LES912: अंग्रेजी ओके 4\n",
      "     lesson: LES913: अंग्रेजी ओके 5\n",
      "     lesson: LES914: अंग्रेजी ओके 6\n",
      "     lesson: LES915: अंग्रेजी ओके 8\n",
      "     lesson: LES916: अंग्रेजी ओके 9\n",
      "     lesson: LES917: अंग्रेजी ओके 10\n",
      "     lesson: LES918: अंग्रेजी ओके 11\n",
      "     lesson: LES919: अंग्रेजी ओके 12\n",
      "     lesson: LES920: अंग्रेजी ओके 13\n"
     ]
    },
    {
     "name": "stdout",
     "output_type": "stream",
     "text": [
      "     in on_subtopic_page http://www.prathamopenschool.org/hn/Course/English/CRS96\n"
     ]
    },
    {
     "name": "stderr",
     "output_type": "stream",
     "text": [
      "     lesson: LES870: क्या है भोजन और हैं क्या इसके काम?\n",
      "     lesson: LES871: कौन सा भोजन देता है हमे बल?\n",
      "     lesson: LES872: कौन सा भोजन करता है बढ़त में मदद?\n",
      "     lesson: LES873: कौन सा भोजन करता है हमारा बचाव?\n",
      "     lesson: LES874: संतुलित आहार है क्या?\n",
      "     lesson: LES875: हमारे शरीर में भोजन करता है कैसे काम?\n",
      "     lesson: LES876: कैसे पायें विटामिन ए की कमी से छुटकारा?\n",
      "     lesson: LES877: कैसे पायें आयरन (लौह तत्व) की कमी से छुटकारा?\n",
      "     lesson: LES878: कैसे पायें आयोडीन की कमी से छुटकारा?\n",
      "     lesson: LES879: पौष्टिक भोजन\n"
     ]
    },
    {
     "name": "stdout",
     "output_type": "stream",
     "text": [
      "     in on_subtopic_page http://www.prathamopenschool.org/hn/Course/Health/CRS114\n"
     ]
    },
    {
     "name": "stderr",
     "output_type": "stream",
     "text": [
      "     lesson: LES829: नापें कैसे ?\n"
     ]
    },
    {
     "name": "stdout",
     "output_type": "stream",
     "text": [
      "     in on_subtopic_page http://www.prathamopenschool.org/hn/Course/Science/CRS62\n"
     ]
    },
    {
     "name": "stderr",
     "output_type": "stream",
     "text": [
      "     lesson: LES38: प्रकाश के गुण\n",
      "     lesson: LES39: रंगीन दुनिया\n",
      "     lesson: LES40: आविष्कारों का इतिहास\n"
     ]
    },
    {
     "name": "stdout",
     "output_type": "stream",
     "text": [
      "     in on_subtopic_page http://www.prathamopenschool.org/hn/Course/Science/CRS12\n"
     ]
    },
    {
     "name": "stderr",
     "output_type": "stream",
     "text": [
      "     lesson: LES41: पदार्थ की पहचान\n",
      "     lesson: LES42: भार और द्रव्यमान\n",
      "     lesson: LES43: अणु और परमाणु\n",
      "     lesson: LES44: घनत्व\n"
     ]
    },
    {
     "name": "stdout",
     "output_type": "stream",
     "text": [
      "     in on_subtopic_page http://www.prathamopenschool.org/hn/Course/Science/CRS13\n"
     ]
    },
    {
     "name": "stderr",
     "output_type": "stream",
     "text": [
      "     lesson: LES45: शरीर में गति\n",
      "     lesson: LES46: रक्त परिसंचरण तंत्र\n",
      "     lesson: LES834: आँखे और दृष्टी\n",
      "     lesson: LES840: हमारी त्वचा\n"
     ]
    },
    {
     "name": "stdout",
     "output_type": "stream",
     "text": [
      "     in on_subtopic_page http://www.prathamopenschool.org/hn/Course/Science/CRS14\n"
     ]
    },
    {
     "name": "stderr",
     "output_type": "stream",
     "text": [
      "     lesson: LES47: गति से पहचान\n",
      "     lesson: LES48: बोलो भाई!\n",
      "     lesson: LES839: पेंडुलम\n"
     ]
    },
    {
     "name": "stdout",
     "output_type": "stream",
     "text": [
      "     in on_subtopic_page http://www.prathamopenschool.org/hn/Course/Science/CRS15\n"
     ]
    },
    {
     "name": "stderr",
     "output_type": "stream",
     "text": [
      "     lesson: LES49: सौरमंडल की पहचान\n",
      "     lesson: LES50: पृथ्वी का सफ़र\n"
     ]
    },
    {
     "name": "stdout",
     "output_type": "stream",
     "text": [
      "     in on_subtopic_page http://www.prathamopenschool.org/hn/Course/Science/CRS16\n"
     ]
    },
    {
     "name": "stderr",
     "output_type": "stream",
     "text": [
      "     lesson: LES52: ऊर्जा से पहचान\n",
      "     lesson: LES53: कार्य और ऊर्जा\n",
      "     lesson: LES51: सरल मशीन\n"
     ]
    },
    {
     "name": "stdout",
     "output_type": "stream",
     "text": [
      "     in on_subtopic_page http://www.prathamopenschool.org/hn/Course/Science/CRS17\n"
     ]
    },
    {
     "name": "stderr",
     "output_type": "stream",
     "text": [
      "     lesson: LES54: मजेदार प्रयोग\n"
     ]
    },
    {
     "name": "stdout",
     "output_type": "stream",
     "text": [
      "     in on_subtopic_page http://www.prathamopenschool.org/hn/Course/Science/CRS18\n"
     ]
    },
    {
     "name": "stderr",
     "output_type": "stream",
     "text": [
      "     lesson: LES836: अपने आसपास...\n"
     ]
    },
    {
     "name": "stdout",
     "output_type": "stream",
     "text": [
      "     in on_subtopic_page http://www.prathamopenschool.org/hn/Course/Science/CRS66\n"
     ]
    },
    {
     "name": "stderr",
     "output_type": "stream",
     "text": [
      "     lesson: LES842: सरल मशीन\n"
     ]
    },
    {
     "name": "stdout",
     "output_type": "stream",
     "text": [
      "     in on_subtopic_page http://www.prathamopenschool.org/hn/Course/Science/CRS67\n"
     ]
    },
    {
     "name": "stderr",
     "output_type": "stream",
     "text": [
      "     lesson: LES838: फर्स्ट एड\n"
     ]
    },
    {
     "name": "stdout",
     "output_type": "stream",
     "text": [
      "     in on_subtopic_page http://www.prathamopenschool.org/hn/Course/Science/CRS68\n"
     ]
    },
    {
     "name": "stderr",
     "output_type": "stream",
     "text": [
      "     lesson: LES890: आतिथ्य उद्योग का परिचय\n",
      "     lesson: LES891: उद्योग के बारे में जानें\n",
      "     lesson: LES892: छात्रों से सुनो\n"
     ]
    },
    {
     "name": "stdout",
     "output_type": "stream",
     "text": [
      "     in on_subtopic_page http://www.prathamopenschool.org/hn/Course/Hospitality/CRS86\n"
     ]
    },
    {
     "name": "stderr",
     "output_type": "stream",
     "text": [
      "     lesson: LES893: सिलेबस\n",
      "     lesson: LES894: विषय\n"
     ]
    },
    {
     "name": "stdout",
     "output_type": "stream",
     "text": [
      "     in on_subtopic_page http://www.prathamopenschool.org/hn/Course/Hospitality/CRS87\n"
     ]
    },
    {
     "name": "stderr",
     "output_type": "stream",
     "text": [
      "     lesson: LES895: परिचय और सिलेबस\n",
      "     lesson: LES896: व्यंजनों और प्रैक्टिकल\n"
     ]
    },
    {
     "name": "stdout",
     "output_type": "stream",
     "text": [
      "     in on_subtopic_page http://www.prathamopenschool.org/hn/Course/Hospitality/CRS88\n"
     ]
    },
    {
     "name": "stderr",
     "output_type": "stream",
     "text": [
      "     lesson: LES897: सिलेबस\n",
      "     lesson: LES898: प्रत्यक्ष-कार्य\n"
     ]
    },
    {
     "name": "stdout",
     "output_type": "stream",
     "text": [
      "     in on_subtopic_page http://www.prathamopenschool.org/hn/Course/Hospitality/CRS89\n"
     ]
    },
    {
     "name": "stderr",
     "output_type": "stream",
     "text": [
      "     lesson: LES899: निर्माण उद्योग के बारे में जानें\n"
     ]
    },
    {
     "name": "stdout",
     "output_type": "stream",
     "text": [
      "     in on_subtopic_page http://www.prathamopenschool.org/hn/Course/Construction/CRS93\n"
     ]
    },
    {
     "name": "stderr",
     "output_type": "stream",
     "text": [
      "     lesson: LES900: ऑटोमोबाइल उद्योग के बारे में जानें\n",
      "     lesson: LES901: मोटर मेकैनिक\n"
     ]
    },
    {
     "name": "stdout",
     "output_type": "stream",
     "text": [
      "     in on_subtopic_page http://www.prathamopenschool.org/hn/Course/Automobile/CRS94\n"
     ]
    },
    {
     "name": "stderr",
     "output_type": "stream",
     "text": [
      "     lesson: LES902: विद्युत उद्योग के बारे में जानें\n",
      "     lesson: LES903: विद्युत केंद्र की कहानियां\n"
     ]
    },
    {
     "name": "stdout",
     "output_type": "stream",
     "text": [
      "     in on_subtopic_page http://www.prathamopenschool.org/hn/Course/Electric/CRS90\n"
     ]
    },
    {
     "name": "stderr",
     "output_type": "stream",
     "text": [
      "     lesson: LES904: बेडसाइड सहायक उद्योग के बारे में जानें\n",
      "     lesson: LES905: प्रत्यक्ष-कार्य\n"
     ]
    },
    {
     "name": "stdout",
     "output_type": "stream",
     "text": [
      "     in on_subtopic_page http://www.prathamopenschool.org/hn/Course/Beauty/CRS95\n"
     ]
    },
    {
     "name": "stderr",
     "output_type": "stream",
     "text": [
      "     lesson: LES906: परिचय\n",
      "     lesson: LES907: प्रत्यक्ष-कार्य\n",
      "     lesson: LES908: बेडसाइड असिस्टेंट के कहानियां\n"
     ]
    },
    {
     "name": "stdout",
     "output_type": "stream",
     "text": [
      "     in on_subtopic_page http://www.prathamopenschool.org/hn/Course/Healthcare/CRS91\n"
     ]
    },
    {
     "name": "stderr",
     "output_type": "stream",
     "text": [
      "     lesson: LES73: जानो सांप के बारे में\n",
      "     lesson: LES74: तस्वीरों के द्वारा बातचीत ?\n",
      "     lesson: LES75: पाचन\n",
      "     lesson: LES76: ग्लूकोज़ से उर्जा प्राप्ति\n",
      "     lesson: LES77: बीज अंकुरण\n",
      "     lesson: LES78: पौधें कैसे उगते हैं?\n",
      "     lesson: LES79: बहुमूल्य जल\n",
      "     lesson: LES80: दो मच्छरों की कहानी\n",
      "     lesson: LES81: समुदाय और परिवार\n",
      "     lesson: LES82: भूकंप से उबरना\n",
      "     lesson: LES83: सांस लेना\n",
      "     lesson: LES84: हवा फूंककर चीजों को ठंडा करना\n",
      "     lesson: LES85: सामाजिक भेदभाव\n",
      "     lesson: LES86: अभिगमन\n",
      "     lesson: LES87: गॉव में जीवन\n",
      "     lesson: LES88: एक पारंपरिक किसान\n",
      "     lesson: LES89: जैविक खेती\n",
      "     lesson: LES90: वनोन्मूलन के प्रभाव\n",
      "     lesson: LES91: वन-गुज्जर\n",
      "     lesson: LES72: बाघ\n"
     ]
    },
    {
     "name": "stdout",
     "output_type": "stream",
     "text": [
      "     in on_subtopic_page http://www.prathamopenschool.org/hn/Course/Std5/CRS21\n"
     ]
    },
    {
     "name": "stderr",
     "output_type": "stream",
     "text": [
      "     lesson: LES92: आकृति बनाएं\n",
      "     lesson: LES93: आकृति - परिमाप\n",
      "     lesson: LES94: आकृति- क्षेत्रफ़ल\n",
      "     lesson: LES95: आकृति- तोरन\n",
      "     lesson: LES96: गुणक\n",
      "     lesson: LES97: पैटर्न\n",
      "     lesson: LES98: नक्षा बनाएं\n",
      "     lesson: LES99: फर्श का नक्षा\n",
      "     lesson: LES100: लम्बाई नापें\n",
      "     lesson: LES101: मापिय रूपांतरण\n",
      "     lesson: LES102: परिमाप और क्षेत्रफ़ल\n",
      "     lesson: LES103: असमान आकृतियों का क्षेत्रफ़ल\n",
      "     lesson: LES104: आलेख\n",
      "     lesson: LES105: गुणा करना सीखें\n",
      "     lesson: LES106: आयतन\n"
     ]
    },
    {
     "name": "stdout",
     "output_type": "stream",
     "text": [
      "     in on_subtopic_page http://www.prathamopenschool.org/hn/Course/Std5/CRS22\n"
     ]
    },
    {
     "name": "stderr",
     "output_type": "stream",
     "text": [
      "     lesson: LES108: मार्टी की प्रयोगशाला\n",
      "     lesson: LES109: शुद्ध नमक\n",
      "     lesson: LES110: जड़ी बूटियों और पेड़\n",
      "     lesson: LES111: मार्टि और फूड फैक्ट्री\n",
      "     lesson: LES112: स्टेम, जीवन का मार्ग\n",
      "     lesson: LES113: जोड़\n",
      "     lesson: LES114: पेशिय तंत्र\n",
      "     lesson: LES115: इस कदम पर\n",
      "     lesson: LES116: प्रकाश का मार्ग\n",
      "     lesson: LES117: चुम्बक\n",
      "     lesson: LES118: बारिश के पानी का संग्रहण\n",
      "     lesson: LES119: जल चक्र\n",
      "     lesson: LES120: ओक्सीजन कार्बन डेयोक्साइड\n",
      "     lesson: LES121: प्लास्टिक के हानिकारक प्रभाव\n",
      "     lesson: LES122: कागज़ का पुनर्चक्रण\n"
     ]
    },
    {
     "name": "stdout",
     "output_type": "stream",
     "text": [
      "     in on_subtopic_page http://www.prathamopenschool.org/hn/Course/Std6/CRS23\n"
     ]
    },
    {
     "name": "stderr",
     "output_type": "stream",
     "text": [
      "     lesson: LES124: संख्याओं की पूर्णता\n",
      "     lesson: LES125: मैक्स भूखा है\n",
      "     lesson: LES126: कुर्सियों की गिनती\n",
      "     lesson: LES127: उलम की कुंडली\n",
      "     lesson: LES128: डॉट्स के माध्यम से लाइन बनाने के लिए\n",
      "     lesson: LES129: कोणों को जानें\n",
      "     lesson: LES130: ऋणात्मक संख्याएं\n",
      "     lesson: LES131: सामान और असमान भिन्न की तुलना\n",
      "     lesson: LES132: भिन्नों के रूप\n",
      "     lesson: LES133: दंड आलेख बनाना सीखें\n",
      "     lesson: LES134: दंड आलेख समझें\n",
      "     lesson: LES135: क्षेत्रफल बारे में सब कुछ\n",
      "     lesson: LES136: अनियमित आंकड़े और क्षेत्र\n",
      "     lesson: LES137: समीकरण\n",
      "     lesson: LES138: चर के नियम\n",
      "     lesson: LES139: समानुपात और एकिक विधि\n"
     ]
    },
    {
     "name": "stdout",
     "output_type": "stream",
     "text": [
      "     in on_subtopic_page http://www.prathamopenschool.org/hn/Course/Std6/CRS24\n"
     ]
    },
    {
     "name": "stderr",
     "output_type": "stream",
     "text": [
      "     lesson: LES141: नाइट्रोजन की पुनः पूर्ति\n",
      "     lesson: LES142: प्रकाश संश्लेषण\n",
      "     lesson: LES143: आहार नली\n",
      "     lesson: LES144: घास खाने वाले पशु में पाचन तंत्र\n",
      "     lesson: LES145: अमीबा में भोजन और पाचन\n",
      "     lesson: LES146: भारत में रेशम उद्योग\n",
      "     lesson: LES147: कंवेक्शन\n",
      "     lesson: LES148: अम्लों एवं क्षारकों के गुणधर्म\n",
      "     lesson: LES149: मौसम\n",
      "     lesson: LES150: तूफान का निर्माण\n",
      "     lesson: LES151: आंधी का निर्माण\n",
      "     lesson: LES152: मिट्टी का क्षरण- कारण और प्रभाव\n",
      "     lesson: LES153: एक गहरी सास लो\n",
      "     lesson: LES154: श्वसन\n",
      "     lesson: LES155: उत्सर्जी तंत्र\n",
      "     lesson: LES156: परागण और निषेचन\n",
      "     lesson: LES157: परिपत घटक\n",
      "     lesson: LES158: अवतल दर्पण\n",
      "     lesson: LES159: पानी की बचाव कैसे करें?\n",
      "     lesson: LES160: धरती पर पानी\n",
      "     lesson: LES161: भोजन श्रृंखला\n",
      "     lesson: LES162: भोजन वेब\n",
      "     lesson: LES163: वायुमंडल पर वनों का प्रभाव\n",
      "     lesson: LES164: जंगल के लोग\n"
     ]
    },
    {
     "name": "stdout",
     "output_type": "stream",
     "text": [
      "     in on_subtopic_page http://www.prathamopenschool.org/hn/Course/Std7/CRS25\n"
     ]
    },
    {
     "name": "stderr",
     "output_type": "stream",
     "text": [
      "     lesson: LES166: गुणन को आसान बनाते हुए\n",
      "     lesson: LES167: पूर्णांकों का गुणा\n",
      "     lesson: LES168: 10,100 और 1000 से विभाजित\n",
      "     lesson: LES169: विभाजन का समय\n",
      "     lesson: LES170: गुणा करने का समय\n",
      "     lesson: LES171: 10, 100 और 1000 से गुणा करना\n",
      "     lesson: LES172: एक त्रिभुज में माध्यिका\n",
      "     lesson: LES173: पायथागोरस प्रमेय की जांच करना\n",
      "     lesson: LES174: अनुपात\n",
      "     lesson: LES175: प्रतिशत का रूपांतरण\n",
      "     lesson: LES176: परिमेय संख्या\n",
      "     lesson: LES177: परिमय संख्याओं का परिचय 1\n",
      "     lesson: LES178: समानांतर लाइनों का निर्माण\n",
      "     lesson: LES179: त्रिकोण का निर्माण\n",
      "     lesson: LES180: एक वृत्त का क्षेत्र\n",
      "     lesson: LES181: त्रिभुज और समानांतर चतुर्भुज\n",
      "     lesson: LES182: क्षेत्रफल की इकाइयाँ\n",
      "     lesson: LES183: बीजीय व्यंजक को जोड़ना और घटाना\n",
      "     lesson: LES184: बीजगणित का जादूगर\n",
      "     lesson: LES185: घातांकों के नियम\n",
      "     lesson: LES186: नियमित बहुभुजों में समरूपता\n",
      "     lesson: LES187: सतह, किनारे और शीर्ष\n",
      "     lesson: LES188: त्रि आयामी वस्तओं का रेखा चित्र\n"
     ]
    },
    {
     "name": "stdout",
     "output_type": "stream",
     "text": [
      "     in on_subtopic_page http://www.prathamopenschool.org/hn/Course/Std7/CRS26\n"
     ]
    },
    {
     "name": "stderr",
     "output_type": "stream",
     "text": [
      "     lesson: LES190: पशु पालन\n",
      "     lesson: LES191: भारत की जलवायु\n",
      "     lesson: LES192: खेतों की सिंचाई\n",
      "     lesson: LES193: मिट्टी में पोशाक्तात्वों के पुनर्भरण\n",
      "     lesson: LES194: मिट्टी तैयार करने के चरण\n",
      "     lesson: LES195: बीज चयन\n",
      "     lesson: LES196: रोगों से लड़ने के लिए टीकाकरण\n",
      "     lesson: LES197: राइजोबियम जीवाणु\n",
      "     lesson: LES198: पिनिसिल्लिन की कहानी\n",
      "     lesson: LES199: संश्लेशित रेशो की कहानी\n",
      "     lesson: LES200: एकलक एवं बहुलक\n",
      "     lesson: LES201: पानी के साथ धातुओं और गैर धातु प्रतिक्रियाएं\n",
      "     lesson: LES202: कार्बनीकरण\n",
      "     lesson: LES203: पेट्रोलियम और प्राकृतिक गैस का निर्माण\n",
      "     lesson: LES204: संसाधनों का सावधानीपूर्वक उपयोग\n",
      "     lesson: LES205: जंगल का पहरा\n",
      "     lesson: LES206: एक कोशिय एवं बहुकोशिय जीव\n",
      "     lesson: LES207: मादा जनन प्रणाली\n",
      "     lesson: LES208: निशेचन से भ्रूण\n",
      "     lesson: LES209: सजीव किस प्रकार से प्रजनन करते है?\n",
      "     lesson: LES210: नर जनन प्रक्रिया\n",
      "     lesson: LES211: प्रजनन चरण और लिंग निर्धारण\n",
      "     lesson: LES212: किशोरावस्था के दौरान आपका शरीर\n",
      "     lesson: LES213: घर्षण के प्रकार\n",
      "     lesson: LES214: ताम्बे का विद्युत्लेपन\n",
      "     lesson: LES215: आकाशीय बिजली\n",
      "     lesson: LES216: पानी पीने योग्य बनाना\n"
     ]
    },
    {
     "name": "stdout",
     "output_type": "stream",
     "text": [
      "     in on_subtopic_page http://www.prathamopenschool.org/hn/Course/Std8/CRS27\n"
     ]
    },
    {
     "name": "stderr",
     "output_type": "stream",
     "text": [
      "     lesson: LES218: परिमे य संख्याओं का परिचय\n",
      "     lesson: LES219: परिमेय संख्याओं\n",
      "     lesson: LES220: एक चतुर्भुज के कोणों का योग\n",
      "     lesson: LES221: एक चतुर्भुज का निर्माण\n",
      "     lesson: LES222: कोण का निर्माण- दोहराना\n",
      "     lesson: LES223: स्थिर त्रिकोण\n",
      "     lesson: LES224: वृत्त चार्ट बनाना सीखें\n",
      "     lesson: LES225: आकड़ों को व्यवस्थित करना\n",
      "     lesson: LES226: वितरण नियम का इस्तेमाल का वर्ग की गणना करना\n",
      "     lesson: LES227: वर्ग संख्याओं मे पैटर्न्स\n",
      "     lesson: LES228: वर्ग संख्याओं के नियम\n",
      "     lesson: LES229: अभाज्य गुनंखंड से वर्गमूल निकालना\n",
      "     lesson: LES230: अनुमान से घन मूल निकालना\n",
      "     lesson: LES231: संख्या का घनमूल ज्ञात करना\n",
      "     lesson: LES232: अभाज्य गुनंखंड से घनमूल निकालना\n",
      "     lesson: LES233: सावधि जमा करना\n",
      "     lesson: LES234: छूट और छूट प्रतिशत की गणना करना\n",
      "     lesson: LES235: बीजीय व्यंजक का गुणा\n",
      "     lesson: LES236: बीजगणित का जादूगर\n",
      "     lesson: LES237: एक ठोस के सतह क्षेत्रफल\n",
      "     lesson: LES238: घनाभ, घन और बेलन का आयतन\n",
      "     lesson: LES239: बड़ी संख्याओं का वस्तारित रूप घातांक के रूप\n",
      "     lesson: LES240: मानक रूप मे संख्या\n",
      "     lesson: LES241: घातांक के नियमो को समझे\n",
      "     lesson: LES242: सीधा अनुपात\n",
      "     lesson: LES243: व्युत क्रमनुपात\n",
      "     lesson: LES244: बीजीय व्यंजक\n",
      "     lesson: LES245: बीजीय व्यनको गुणनखंड निकलाने की विधि\n",
      "     lesson: LES246: आलेख का परिचय\n",
      "     lesson: LES247: मैथ ट्रिक्स\n"
     ]
    },
    {
     "name": "stdout",
     "output_type": "stream",
     "text": [
      "     in on_subtopic_page http://www.prathamopenschool.org/hn/Course/Std8/CRS28\n"
     ]
    },
    {
     "name": "stderr",
     "output_type": "stream",
     "text": [
      "     lesson: LES249: अवस्था परिवर्तन\n",
      "     lesson: LES250: गतिज उर्जा और स्थितिज उर्जा\n",
      "     lesson: LES251: ध्वनी तरंग की आवृत्ती\n",
      "     lesson: LES252: प्रतिरक्षण तंत्र\n",
      "     lesson: LES253: सूजन प्रतिक्रिया\n",
      "     lesson: LES254: संक्रामक रोग\n",
      "     lesson: LES255: रोग और लक्षण\n",
      "     lesson: LES256: लक्षण और रोग\n",
      "     lesson: LES257: वायुमंडल\n",
      "     lesson: LES258: कार्बन और इसकी उपस्थिति\n",
      "     lesson: LES259: नाइट्रोजन - क्या ये लाभदय है?\n",
      "     lesson: LES260: पशु पालन\n",
      "     lesson: LES261: मछली - प्रोटीन स्त्रोत\n",
      "     lesson: LES263: मिश्रण के प्रकार\n",
      "     lesson: LES264: मिश्रणों को घटकों को पृथक करने की विधियाँ - 1\n",
      "     lesson: LES265: मिश्रणों को घटकों को पृथक करने की विधियाँ - 2\n",
      "     lesson: LES266: मिश्रणों को घटकों को पृथक करने की विधियाँ - 3\n",
      "     lesson: LES267: एक तत्व का का प्रतीक\n",
      "     lesson: LES268: आणिवक द्रव्यमान\n",
      "     lesson: LES269: सबसे छोटा कण\n",
      "     lesson: LES270: द्रव्यमान संरक्षण का नीयम\n",
      "     lesson: LES271: आयन\n",
      "     lesson: LES272: मोल क्या हैं\n",
      "     lesson: LES273: कक्षाओं में इलेक्ट्रान\n",
      "     lesson: LES274: समस्थानिक\n",
      "     lesson: LES275: परमाणु की संरचना\n",
      "     lesson: LES276: वापस्पति ऊतक\n",
      "     lesson: LES277: जटिल स्थायी ऊतक\n",
      "     lesson: LES278: संयोजी ऊतक और तंत्रिका ऊतक\n",
      "     lesson: LES279: पादप ऊतक\n",
      "     lesson: LES280: ऊतकों के प्रकार\n",
      "     lesson: LES281: वनस्पति वर्गीकरण\n",
      "     lesson: LES282: वन्यजीवन भ्रमण\n",
      "     lesson: LES283: बालों के प्रकार\n",
      "     lesson: LES284: न्यूटन का गति का दूसरा नियम\n"
     ]
    },
    {
     "name": "stdout",
     "output_type": "stream",
     "text": [
      "     in on_subtopic_page http://www.prathamopenschool.org/hn/Course/Std9/CRS29\n"
     ]
    },
    {
     "name": "stderr",
     "output_type": "stream",
     "text": [
      "     lesson: LES286: समय से संख्या पद्धति\n",
      "     lesson: LES287: कई बिंदुओं के माध्यम से चक्र\n",
      "     lesson: LES288: लम्ब-समद्विभाजक - रचना\n",
      "     lesson: LES289: कोण समद्विभाजक की रचना\n",
      "     lesson: LES290: 60 ° कोण\n",
      "     lesson: LES291: त्रिभुज की रचना - विधि 1\n",
      "     lesson: LES292: त्रिभुज की रचना - विधि 2\n",
      "     lesson: LES293: हीरोन का सूत्र\n",
      "     lesson: LES294: लंब वृतीय शंकु का पृष्ट क्षेत्र\n",
      "     lesson: LES295: एक गोले का पृष्ठी क्षेत्रफल\n",
      "     lesson: LES296: घनाभ, घन का पृष्ठी क्षेत्रफल ?\n",
      "     lesson: LES297: शंकु, गोला और अर्ध गोला का आयतन\n",
      "     lesson: LES298: घनाभ, घन और बेलन का आयतन\n",
      "     lesson: LES299: आयत चित्र\n",
      "     lesson: LES300: केंद्रीय प्रवृत्ती की मापों की गणना करना:माध्य\n",
      "     lesson: LES301: बारंबारता बंटन सारणी\n",
      "     lesson: LES302: प्रायिकता: आनुभविक बनाम सौध्दांतिक\n",
      "     lesson: LES303: पास्कल का त्रिकोण\n",
      "     lesson: LES304: परिभाषाएं और प्रस्ताव\n",
      "     lesson: LES305: यूक्लिड के कार्य\n",
      "     lesson: LES306: हमारे आस पास रेखाएं और कोण\n",
      "     lesson: LES307: सूक्तियां और प्रमेय\n",
      "     lesson: LES308: कोण योगफल गुण\n",
      "     lesson: LES309: मध्य बिंदु प्रमेय\n",
      "     lesson: LES310: चतुर्भुज के कोनों का योग\n",
      "     lesson: LES311: विकर्ण - दो सर्वंगसम त्रिभुज\n",
      "     lesson: LES312: समान्तर - चतुर्भुज\n",
      "     lesson: LES313: त्रिभुजों का क्षेत्रफल\n",
      "     lesson: LES314: समान्तर चतुर्भुजों का और त्रिभुजों का क्षेत्रफल\n"
     ]
    },
    {
     "name": "stdout",
     "output_type": "stream",
     "text": [
      "     in on_subtopic_page http://www.prathamopenschool.org/hn/Course/Std9/CRS30\n"
     ]
    },
    {
     "name": "stderr",
     "output_type": "stream",
     "text": [
      "     lesson: LES316: समीकरण\n",
      "     lesson: LES317: सुल्फुरिक अम्ल और चीनी की अभिक्रिया\n",
      "     lesson: LES318: अभिक्रियाओं का संशोधन\n",
      "     lesson: LES319: अभिक्रियाओ के प्रकार\n",
      "     lesson: LES320: गोलीय दर्पणों द्वारा बनने वाले प्रतिबिंब\n",
      "     lesson: LES321: प्रकाश रेखाओं का खेल\n",
      "     lesson: LES322: गोलीय दर्पण\n",
      "     lesson: LES323: तारे क्यों टिमटिमाते हैं?\n",
      "     lesson: LES324: प्रकाश का परिक्षेपण\n",
      "     lesson: LES325: भूसंपर्कण एवं फ्यूज़\n",
      "     lesson: LES326: विद्युत जनित्र\n",
      "     lesson: LES327: विद्युत मोटर\n",
      "     lesson: LES328: चुंबक और चुंबकीय क्षेत्र\n",
      "     lesson: LES329: गैर-परंपरागत ऊर्जा के स्रोत\n",
      "     lesson: LES330: ज्वारीय, तरंग और भूतापीय ऊर्जा\n",
      "     lesson: LES331: जीवाश्मी इंधन और पवन ऊर्जा\n",
      "     lesson: LES332: जल विद्युत\n",
      "     lesson: LES333: नाभिकीय ऊर्जा\n",
      "     lesson: LES334: महासागरीय और भूतापीय ऊर्जा\n",
      "     lesson: LES335: रसायनों का सर्वाधिक सांद्रण\n",
      "     lesson: LES336: ओजोन परत का अपक्षय\n",
      "     lesson: LES337: पारितंत्र के विभिन्न घटकों के बीच अनम्य क्रिया\n",
      "     lesson: LES338: बांध, एक परिचय\n",
      "     lesson: LES339: एल्युमीनियम के एनोडीकरण\n",
      "     lesson: LES340: धातु और अधातु आयनिक यौगिक निर्माण\n",
      "     lesson: LES341: धातुओं का शोधन\n",
      "     lesson: LES342: सीधी, शाखाब्द एवं चक्रीय श्रंखला\n",
      "     lesson: LES343: कार्बन यौगिकों का दहन\n",
      "     lesson: LES344: इथेनाँल एवं इथेनिक अम्ल - एक परिचय\n",
      "     lesson: LES345: संतृप्त एवं असंतृप्त हाइड्रोकार्बन - एक परिचय\n",
      "     lesson: LES346: आयनिक एवं सहसंयोजी यौगिक बंधन\n",
      "     lesson: LES347: साबुन - निर्माण एवं साबुनीकरण\n",
      "     lesson: LES348: इस्टरीफ़िकेशन - एक परिचय\n",
      "     lesson: LES349: मानव पाचन तंत्र\n",
      "     lesson: LES350: रंध्र का विशिष्ट व्यवहार\n",
      "     lesson: LES351: उत्सर्जन प्रक्रिया\n",
      "     lesson: LES352: हमारे शरीर की प्रतिवर्ती क्रियाएं\n",
      "     lesson: LES353: न्यूरॉन और तंत्रिका आवेश\n",
      "     lesson: LES354: पौधे के ग्रन्थिरस\n",
      "     lesson: LES355: हारमोन की भूमिका - एड्रिनलिन एवं इंसुलिन\n",
      "     lesson: LES356: अलैंगिक जनन - एक परिचय\n",
      "     lesson: LES357: मादा जनन तंत्र\n",
      "     lesson: LES358: गर्भधारण से जन्म तक की प्रक्रियाँ\n",
      "     lesson: LES359: नर जनन तंत्र\n",
      "     lesson: LES360: पुष्प के भूमिका - एक परिचय\n",
      "     lesson: LES361: जैव विकास\n",
      "     lesson: LES362: मेंडल का नियम\n",
      "     lesson: LES363: ज़ाती उद्भव - एक विकासीय प्रक्रिया\n"
     ]
    },
    {
     "name": "stdout",
     "output_type": "stream",
     "text": [
      "     in on_subtopic_page http://www.prathamopenschool.org/hn/Course/Std10/CRS31\n"
     ]
    },
    {
     "name": "stderr",
     "output_type": "stream",
     "text": [
      "     lesson: LES365: स्पर्श रेखा से परिचय\n",
      "     lesson: LES366: स्पर्श रेखा और त्रिज्या का संभंध\n",
      "     lesson: LES367: व्रत्त और स्पर्श रेखाएँ\n",
      "     lesson: LES368: स्पर्श रेखाओं के दैनिक उदाहरण\n",
      "     lesson: LES369: समरूप त्रिभुजों की रचना\n",
      "     lesson: LES370: स्पर्शज्या की रचना\n",
      "     lesson: LES371: एक रेखाखंड को विभाजित करना - 1\n",
      "     lesson: LES372: एक रेखाखंड को विभाजित करना - 2\n",
      "     lesson: LES373: त्रिज्यखंड एवं व्रतखंड का क्षेत्रफल\n",
      "     lesson: LES374: एक ठोस आकृति से अन्य ठोस आकृति में रूपांतरण\n",
      "     lesson: LES375: ठोस वस्तुओं के बाह्य-प्रष्ट क्षेत्रफल एवं आयतन\n",
      "     lesson: LES376: शंकु का छिन्नक\n",
      "     lesson: LES377: संचयी बारम्बारता की गणना\n",
      "     lesson: LES378: माध्यका की गणना\n",
      "     lesson: LES379: माध्य की गणना\n",
      "     lesson: LES380: व्रगिकृत आंकड़ों के बहुलक की गणना\n",
      "     lesson: LES381: प्रायिकता पर एक नजर\n",
      "     lesson: LES382: रैखिक समीकरण\n",
      "     lesson: LES383: विलोपन विधि\n",
      "     lesson: LES384: अरैखिक समीकरणों को रैखिक समीकरण के रूप में लिखना\n",
      "     lesson: LES385: वज्र गुणन विधि\n",
      "     lesson: LES386: पूर्ण-वर्ग से हल करना\n",
      "     lesson: LES387: द्विघात समीकरण के मूलों का पता लगाना\n",
      "     lesson: LES388: द्विघात समीकरण को हल करना\n",
      "     lesson: LES389: द्विघाती सूत्र से हल करना\n",
      "     lesson: LES390: समांतर श्रेणी\n",
      "     lesson: LES391: समांतर श्रेणी के सभी पदों का योग\n",
      "     lesson: LES392: मूल समानुपाति प्रमेय\n",
      "     lesson: LES393: मूल समानुपाति प्रमेय का प्रतिलूम\n",
      "     lesson: LES394: पाइथागोरस प्रमेय\n",
      "     lesson: LES395: त्रिभुजों की समरूपता के नियम\n",
      "     lesson: LES396: समरूपता को समझना\n",
      "     lesson: LES397: त्रिभुजों का क्षेत्रफल\n",
      "     lesson: LES398: दूरी को मापना\n",
      "     lesson: LES399: विभाजन सूत्र\n",
      "     lesson: LES400: संरेखिकता का परीक्षण\n",
      "     lesson: LES401: समकोण त्रिभुज\n",
      "     lesson: LES402: समकोण त्रिभुजों के उदाहरण\n",
      "     lesson: LES403: 0 और 90 डिग्री के त्रिकोणमितीय अनुपात\n",
      "     lesson: LES404: 30, 45 और 60 डिग्री के त्रिकोणमितीय अनुपात\n",
      "     lesson: LES405: लंबाई और दूरी का पता लगाना\n",
      "     lesson: LES406: त्रिकोणमितीय शब्दों का परिचय\n"
     ]
    },
    {
     "name": "stdout",
     "output_type": "stream",
     "text": [
      "     in on_subtopic_page http://www.prathamopenschool.org/hn/Course/Std10/CRS32\n",
      "     in on_story_resource_page http://www.prathamopenschool.org/hn/StoryResource/1068\n",
      "     in on_story_resource_page http://www.prathamopenschool.org/hn/StoryResource/1043\n",
      "     in on_story_resource_page http://www.prathamopenschool.org/hn/StoryResource/1057\n",
      "     in on_story_resource_page http://www.prathamopenschool.org/hn/StoryResource/1051\n",
      "     in on_story_resource_page http://www.prathamopenschool.org/hn/StoryResource/1059\n",
      "     in on_story_resource_page http://www.prathamopenschool.org/hn/StoryResource/1056\n",
      "     in on_story_resource_page http://www.prathamopenschool.org/hn/StoryResource/1058\n",
      "     in on_story_resource_page http://www.prathamopenschool.org/hn/StoryResource/1032\n",
      "     in on_story_resource_page http://www.prathamopenschool.org/hn/StoryResource/1052\n",
      "     in on_story_resource_page http://www.prathamopenschool.org/hn/StoryResource/1042\n",
      "     in on_story_resource_page http://www.prathamopenschool.org/hn/StoryResource/1033\n",
      "     in on_story_resource_page http://www.prathamopenschool.org/hn/StoryResource/1047\n",
      "     in on_story_resource_page http://www.prathamopenschool.org/hn/StoryResource/1035\n",
      "     in on_story_resource_page http://www.prathamopenschool.org/hn/StoryResource/1065\n",
      "     in on_story_resource_page http://www.prathamopenschool.org/hn/StoryResource/1030\n",
      "     in on_story_resource_page http://www.prathamopenschool.org/hn/StoryResource/1067\n",
      "     in on_story_resource_page http://www.prathamopenschool.org/hn/StoryResource/1048\n",
      "     in on_story_resource_page http://www.prathamopenschool.org/hn/StoryResource/1036\n",
      "     in on_story_resource_page http://www.prathamopenschool.org/hn/StoryResource/1034\n",
      "     in on_story_resource_page http://www.prathamopenschool.org/hn/StoryResource/1049\n",
      "     in on_story_resource_page http://www.prathamopenschool.org/hn/StoryResource/1061\n",
      "     in on_story_resource_page http://www.prathamopenschool.org/hn/StoryResource/1044\n",
      "     in on_story_resource_page http://www.prathamopenschool.org/hn/StoryResource/1066\n",
      "     in on_story_resource_page http://www.prathamopenschool.org/hn/StoryResource/1069\n",
      "     in on_story_resource_page http://www.prathamopenschool.org/hn/StoryResource/1040\n",
      "     in on_story_resource_page http://www.prathamopenschool.org/hn/StoryResource/1050\n",
      "     in on_story_resource_page http://www.prathamopenschool.org/hn/StoryResource/1055\n",
      "     in on_story_resource_page http://www.prathamopenschool.org/hn/StoryResource/1063\n",
      "     in on_story_resource_page http://www.prathamopenschool.org/hn/StoryResource/1038\n",
      "     in on_story_resource_page http://www.prathamopenschool.org/hn/StoryResource/1046\n",
      "     in on_story_resource_page http://www.prathamopenschool.org/hn/StoryResource/1054\n",
      "     in on_story_resource_page http://www.prathamopenschool.org/hn/StoryResource/1037\n",
      "     in on_story_resource_page http://www.prathamopenschool.org/hn/StoryResource/1062\n",
      "     in on_story_resource_page http://www.prathamopenschool.org/hn/StoryResource/1060\n",
      "     in on_story_resource_page http://www.prathamopenschool.org/hn/StoryResource/1064\n",
      "     in on_story_resource_page http://www.prathamopenschool.org/hn/StoryResource/1041\n",
      "     in on_story_resource_page http://www.prathamopenschool.org/hn/StoryResource/1039\n",
      "     in on_story_resource_page http://www.prathamopenschool.org/hn/StoryResource/1031\n",
      "     in on_story_resource_page http://www.prathamopenschool.org/hn/StoryResource/1045\n",
      "     in on_story_resource_page http://www.prathamopenschool.org/hn/StoryResource/1053\n",
      "     in on_subtopic_page http://www.prathamopenschool.org/hn/gamelist/CRS104/LES407\n",
      "     in on_subtopic_page http://www.prathamopenschool.org/hn/gamelist/CRS104/LES408\n"
     ]
    },
    {
     "name": "stderr",
     "output_type": "stream",
     "text": [
      "      content: 860: मात्राएँ और संख्याएँ 1\n"
     ]
    },
    {
     "name": "stdout",
     "output_type": "stream",
     "text": [
      "      in on_lesson_page http://www.prathamopenschool.org/hn/Lesson/LES14\n"
     ]
    },
    {
     "name": "stderr",
     "output_type": "stream",
     "text": [
      "      content: 861: मात्राएँ और संख्याएँ 2\n",
      "      content: 862: मात्राएँ और संख्याएँ 3\n",
      "      content: 863: मात्राएँ और संख्याएँ 4\n",
      "      content: 475: मात्राएँ और संख्याएँ 5\n",
      "      content: 476: ईमारत की ऊंचाई का अंदाज़ा\n",
      "      content: 477: खम्बे की ऊंचाई\n",
      "      content: 478: ढील\n",
      "      content: 108: आकृतीयां और बहुभूज\n"
     ]
    },
    {
     "name": "stdout",
     "output_type": "stream",
     "text": [
      "      in on_lesson_page http://www.prathamopenschool.org/hn/Lesson/LES15\n"
     ]
    },
    {
     "name": "stderr",
     "output_type": "stream",
     "text": [
      "      content: 184: तुक्काबाजी कोण\n",
      "      content: 105: कोण बनायें\n",
      "      content: 103: कोण\n"
     ]
    },
    {
     "name": "stdout",
     "output_type": "stream",
     "text": [
      "      in on_lesson_page http://www.prathamopenschool.org/hn/Lesson/LES16\n"
     ]
    },
    {
     "name": "stderr",
     "output_type": "stream",
     "text": [
      "      content: 104: कोणों के प्रकार\n",
      "      content: 806: कोण\n",
      "      content: 4603: ज्यामितिय अवधारानाएं\n",
      "      content: 828: तुक्काबाजी क्षेत्रफल - त्रिभुज\n",
      "Content not supported: http://www.prathamopenschool.org/CourseContent/Games/Mathematics/hn_triangle_est_home.html, \n",
      "      content: 111: त्रिभुज बनायें\n",
      "      content: 107: त्रिभुज के मज़ेदार खेल\n"
     ]
    },
    {
     "name": "stdout",
     "output_type": "stream",
     "text": [
      "      in on_lesson_page http://www.prathamopenschool.org/hn/Lesson/LES17\n"
     ]
    },
    {
     "name": "stderr",
     "output_type": "stream",
     "text": [
      "      content: 106: त्रिभुजों के प्रकार\n",
      "      content: 808: त्रिभुज 1\n",
      "      content: 807: त्रिभुज 2\n",
      "      content: 809: त्रिभुज 3\n",
      "      content: 826: तुक्काबाजी क्षेत्रफल - वृत्त\n",
      "Content not supported: http://www.prathamopenschool.org/CourseContent/Games/Mathematics/hn_circle_est.html, \n",
      "      content: 110: वृत्त का खेल\n",
      "      content: 109: वृत्त\n"
     ]
    },
    {
     "name": "stdout",
     "output_type": "stream",
     "text": [
      "      in on_lesson_page http://www.prathamopenschool.org/hn/Lesson/LES18\n"
     ]
    },
    {
     "name": "stderr",
     "output_type": "stream",
     "text": [
      "      content: 810: वृत्त 1\n",
      "      content: 811: वृत्त 2\n",
      "      content: 827: तुक्काबाजी क्षेत्रफल - वर्ग\n",
      "Content not supported: http://www.prathamopenschool.org/CourseContent/Games/Mathematics/hn_rect_est_home.html, \n",
      "      content: 181: तुक्काबाजी क्षेत्रफल - आयत\n",
      "      content: 113: क्षेत्रफल\n"
     ]
    },
    {
     "name": "stdout",
     "output_type": "stream",
     "text": [
      "      in on_lesson_page http://www.prathamopenschool.org/hn/Lesson/LES19\n"
     ]
    },
    {
     "name": "stderr",
     "output_type": "stream",
     "text": [
      "      content: 3602: बोलो भाई युक्लिड.. मेरे अंगने में..\n",
      "      content: 842: तुक्काबाजी परिमाप - त्रिभुज\n",
      "Content not supported: http://www.prathamopenschool.org/CourseContent/Games/Mathematics/hn_peri_triangle_est_home.html, \n",
      "      content: 841: तुक्काबाजी परिमाप - वर्ग\n",
      "Content not supported: http://www.prathamopenschool.org/CourseContent/Games/Mathematics/hn_peri_square_est_home.html, \n",
      "      content: 840: तुक्काबाजी परिमाप - आयत\n",
      "Content not supported: http://www.prathamopenschool.org/CourseContent/Games/Mathematics/hn_peri_rectangle_est_home.html, \n",
      "      content: 117: परिमाप देखें\n",
      "      content: 112: परिमाप\n"
     ]
    },
    {
     "name": "stdout",
     "output_type": "stream",
     "text": [
      "      in on_lesson_page http://www.prathamopenschool.org/hn/Lesson/LES20\n"
     ]
    },
    {
     "name": "stderr",
     "output_type": "stream",
     "text": [
      "      content: 127: बूझो तो सही - गुणज\n",
      "      content: 165: गुणज 1\n"
     ]
    },
    {
     "name": "stdout",
     "output_type": "stream",
     "text": [
      "      in on_lesson_page http://www.prathamopenschool.org/hn/Lesson/LES21\n"
     ]
    },
    {
     "name": "stderr",
     "output_type": "stream",
     "text": [
      "      content: 166: गुणज 2\n",
      "      content: 4604: विभाज्यता की जाँच\n",
      "      content: 890: विभाजक फोडे\n",
      "Content not supported: http://www.prathamopenschool.org/CourseContent/Games/FactorsGameNew_H/gamePage.html, \n",
      "      content: 128: बूझो तो सही - गुणनखंड\n",
      "      content: 167: गुणनखंड 1\n"
     ]
    },
    {
     "name": "stdout",
     "output_type": "stream",
     "text": [
      "      in on_lesson_page http://www.prathamopenschool.org/hn/Lesson/LES22\n"
     ]
    },
    {
     "name": "stderr",
     "output_type": "stream",
     "text": [
      "      content: 168: गुणनखंड 2\n",
      "      content: 169: अभाज्य गुणनखंडन\n",
      "      content: 457: रिश्ते परिवार में और गणित में 1\n"
     ]
    },
    {
     "name": "stdout",
     "output_type": "stream",
     "text": [
      "      in on_lesson_page http://www.prathamopenschool.org/hn/Lesson/LES23\n"
     ]
    },
    {
     "name": "stderr",
     "output_type": "stream",
     "text": [
      "      content: 458: रिश्ते परिवार में और गणित में 2\n",
      "      content: 1412: कौनसी बाल्टी?\n",
      "      content: 857: बूझो मेरी संख्या\n",
      "Content not supported: http://www.prathamopenschool.org/CourseContent/Games/primeFactorsHindi/primeFactors.html, \n",
      "      content: 126: बूझो तो सही - म.स\n",
      "      content: 171: महत्तम समापवर्तक\n"
     ]
    },
    {
     "name": "stdout",
     "output_type": "stream",
     "text": [
      "      in on_lesson_page http://www.prathamopenschool.org/hn/Lesson/LES24\n"
     ]
    },
    {
     "name": "stderr",
     "output_type": "stream",
     "text": [
      "      content: 858: अभाज्य गुणनखंडन\n",
      "      content: 172: अभाज्य गुणनखंडों द्वारा महत्तम समापवर्तक\n",
      "      content: 1412: कौनसी बाल्टी?\n",
      "      content: 857: बूझो मेरी संख्या\n",
      "Content not supported: http://www.prathamopenschool.org/CourseContent/Games/primeFactorsHindi/primeFactors.html, \n",
      "      content: 126: बूझो तो सही - म.स\n",
      "      content: 125: बूझो तो सही - ल.स\n",
      "      content: 173: लघुतम समापवर्त्य\n"
     ]
    },
    {
     "name": "stdout",
     "output_type": "stream",
     "text": [
      "      in on_lesson_page http://www.prathamopenschool.org/hn/Lesson/LES25\n"
     ]
    },
    {
     "name": "stderr",
     "output_type": "stream",
     "text": [
      "      content: 456: दोस्ती की ट्रेन\n",
      "      content: 858: अभाज्य गुणनखंडन\n",
      "      content: 174: अभाज्य गुणनखंडो द्वारा लघुतम समापवर्त्य\n",
      "      content: 175: म.स. और ल.स. के मजेदार खेल\n"
     ]
    },
    {
     "name": "stdout",
     "output_type": "stream",
     "text": [
      "      in on_lesson_page http://www.prathamopenschool.org/hn/Lesson/LES26\n"
     ]
    },
    {
     "name": "stderr",
     "output_type": "stream",
     "text": [
      "      content: 889: रंगीन भिन्ने\n",
      "Content not supported: http://www.prathamopenschool.org/CourseContent/Games/newFractionGame_H/MainPage.html, \n",
      "      content: 114: भिन्न\n"
     ]
    },
    {
     "name": "stdout",
     "output_type": "stream",
     "text": [
      "      in on_lesson_page http://www.prathamopenschool.org/hn/Lesson/LES27\n"
     ]
    },
    {
     "name": "stderr",
     "output_type": "stream",
     "text": [
      "      content: 1121: भिन्नों के प्रकार\n",
      "      content: 1122: भिन्न का सरलतम रूप\n",
      "      content: 851: समतुल्य भिन्नें\n",
      "      content: 115: भिन्नों की तुलना\n",
      "      content: 1123: अनुचित भिन्न और मिश्रित भिन्न\n",
      "      content: 1343: भिन्नों का जोड़\n"
     ]
    },
    {
     "name": "stdout",
     "output_type": "stream",
     "text": [
      "      in on_lesson_page http://www.prathamopenschool.org/hn/Lesson/LES28\n"
     ]
    },
    {
     "name": "stderr",
     "output_type": "stream",
     "text": [
      "      content: 1344: भिन्नों का घटाव\n",
      "      content: 1345: भिन्नों का गुणा\n",
      "      content: 1346: गुणात्मक प्रतिलोम\n",
      "      content: 1121: भिन्नों के प्रकार\n",
      "      content: 1122: भिन्न का सरलतम रूप\n",
      "      content: 1123: अनुचित भिन्न और मिश्रित भिन्न\n",
      "      content: 114: भिन्न\n",
      "      content: 115: भिन्नों की तुलना\n",
      "      content: 1365: भिन्न से दशमलव\n",
      "      content: 1367: प्रतिशत भिन्नों के रूप में\n",
      "      content: 1368: भिन्न प्रतिशत के रूप में\n",
      "      content: 851: समतुल्य भिन्नें\n",
      "      content: 886: दशांश अपूर्णांक\n",
      "Content not supported: http://www.prathamopenschool.org/CourseContent/Games/Mathematics/hn_decimal.html, \n",
      "      content: 891: दशमलव\n"
     ]
    },
    {
     "name": "stdout",
     "output_type": "stream",
     "text": [
      "      in on_lesson_page http://www.prathamopenschool.org/hn/Lesson/LES29\n"
     ]
    },
    {
     "name": "stderr",
     "output_type": "stream",
     "text": [
      "      content: 805: दशमलव भिन्न\n",
      "      content: 886: दशांश अपूर्णांक\n",
      "Content not supported: http://www.prathamopenschool.org/CourseContent/Games/Mathematics/hn_decimal.html, \n",
      "      content: 864: बूझो मेरी कीमत\n",
      "Content not supported: http://www.prathamopenschool.org/CourseContent/Games/PlaceValueHindi/main.html, \n",
      "      content: 1362: दशमलव संख्याओ को जोड़ना\n"
     ]
    },
    {
     "name": "stdout",
     "output_type": "stream",
     "text": [
      "      in on_lesson_page http://www.prathamopenschool.org/hn/Lesson/LES30\n"
     ]
    },
    {
     "name": "stderr",
     "output_type": "stream",
     "text": [
      "      content: 1363: दशमलव संख्यओं को घटाना\n",
      "      content: 847: दशमलव संख्याओ को जोड़ना\n",
      "      content: 4605: दशमलव संख्याओं को जोडना और घटाना\n",
      "      content: 4606: दशमलव संख्यओं को घटाना\n",
      "      content: 849: दशमलव संख्या से भिन्न\n",
      "      content: 892: दशमलव संख्याओं की तुलना\n",
      "      content: 850: दशमलव संख्याओं को विभाजित करना\n",
      "      content: 891: दशमलव\n",
      "      content: 4613: दशमलव का गुणा\n",
      "      content: 1367: प्रतिशत भिन्नों के रूप में\n"
     ]
    },
    {
     "name": "stdout",
     "output_type": "stream",
     "text": [
      "      in on_lesson_page http://www.prathamopenschool.org/hn/Lesson/LES31\n"
     ]
    },
    {
     "name": "stderr",
     "output_type": "stream",
     "text": [
      "      content: 1368: भिन्न प्रतिशत के रूप में\n",
      "      content: 118: प्रतिशत देखें\n",
      "      content: 1366: प्रतिशत\n"
     ]
    },
    {
     "name": "stdout",
     "output_type": "stream",
     "text": [
      "      in on_lesson_page http://www.prathamopenschool.org/hn/Lesson/LES828\n"
     ]
    },
    {
     "name": "stderr",
     "output_type": "stream",
     "text": [
      "      content: 1539: ब्याज की भूमिका\n"
     ]
    },
    {
     "name": "stdout",
     "output_type": "stream",
     "text": [
      "      in on_lesson_page http://www.prathamopenschool.org/hn/Lesson/LES32\n"
     ]
    },
    {
     "name": "stderr",
     "output_type": "stream",
     "text": [
      "      content: 1540: साधारण ब्याज की भूमिका\n",
      "      content: 1541: साधारण ब्याज उदाहरण\n",
      "      content: 4614: साधारण ब्याज उधारण - 2\n",
      "      content: 163: बीजगणित की भूमिका 1\n"
     ]
    },
    {
     "name": "stdout",
     "output_type": "stream",
     "text": [
      "      in on_lesson_page http://www.prathamopenschool.org/hn/Lesson/LES33\n"
     ]
    },
    {
     "name": "stderr",
     "output_type": "stream",
     "text": [
      "      content: 164: बीजगणित की भूमिका 2\n",
      "      content: 4615: वर्ग की संक्षिप्त विधि\n"
     ]
    },
    {
     "name": "stdout",
     "output_type": "stream",
     "text": [
      "      in on_lesson_page http://www.prathamopenschool.org/hn/Lesson/LES34\n"
     ]
    },
    {
     "name": "stderr",
     "output_type": "stream",
     "text": [
      "      content: 1542: वर्ग संख्याएँ\n",
      "      content: 1543: वर्गमूल\n",
      "      content: 1544: खेल खेल में वर्गमूल\n",
      "      content: 1545: त्रिकोणीय संख्याएँ और वर्ग\n",
      "      content: 4607: घन और घनमूल\n"
     ]
    },
    {
     "name": "stdout",
     "output_type": "stream",
     "text": [
      "      in on_lesson_page http://www.prathamopenschool.org/hn/Lesson/LES35\n"
     ]
    },
    {
     "name": "stderr",
     "output_type": "stream",
     "text": [
      "      content: 4608: अभाज्य गुणनखंड के द्वारा घनमूल\n",
      "      content: 4609: घन संख्याओं के साथ खेलना\n",
      "      content: 854: विषम संख्याओं के खेल\n"
     ]
    },
    {
     "name": "stdout",
     "output_type": "stream",
     "text": [
      "      in on_lesson_page http://www.prathamopenschool.org/hn/Lesson/LES36\n"
     ]
    },
    {
     "name": "stderr",
     "output_type": "stream",
     "text": [
      "      content: 855: मुरजबंध संख्याऍ\n",
      "      content: 856: परिपूर्ण संख्याऍ\n",
      "      content: 859: मौखिक प्रतिशत\n",
      "      content: 4616: कंप्यूटर का काम\n",
      "      content: 1342: Match the words\n",
      "      content: 266: Translation Machine 1\n",
      "      content: 199: 1.1 राहुल से मुलाकात\n"
     ]
    },
    {
     "name": "stdout",
     "output_type": "stream",
     "text": [
      "      in on_lesson_page http://www.prathamopenschool.org/hn/Lesson/LES1\n"
     ]
    },
    {
     "name": "stderr",
     "output_type": "stream",
     "text": [
      "      content: 200: 1.2 राहुल से दोस्ती\n",
      "      content: 201: 1.3 मधु और दीपक से मुलाकात\n",
      "      content: 202: 1.4 मधु और दीपक से दोस्ती\n",
      "      content: 203: 1.5 नये दोस्तों से बातचीत\n",
      "      content: 204: 1.6 राहुल से मुलाकात - दोहराएँ\n",
      "      content: 205: 1.7 मधु और दीपक से मुलाकात - दोहराएँ\n",
      "      content: 279: Translation Machine - 2\n",
      "      content: 206: 2.1 राहुल के मम्मी पापा से मुलाकात\n"
     ]
    },
    {
     "name": "stdout",
     "output_type": "stream",
     "text": [
      "      in on_lesson_page http://www.prathamopenschool.org/hn/Lesson/LES2\n"
     ]
    },
    {
     "name": "stderr",
     "output_type": "stream",
     "text": [
      "      content: 207: 2.2 राहुल के मम्मी पापा से शाम को मुलाकात\n",
      "      content: 208: 2.3 दो परिवारों की मुलाकात\n",
      "      content: 209: 2.4 नयी दोस्ती\n",
      "      content: 210: 2.5 हमारा प्यारा परिवार ( दोहराएँ )\n",
      "      content: 280: Translation Machine - 3\n",
      "      content: 241: 3.1 नया दोस्त जतिन\n"
     ]
    },
    {
     "name": "stdout",
     "output_type": "stream",
     "text": [
      "      in on_lesson_page http://www.prathamopenschool.org/hn/Lesson/LES3\n"
     ]
    },
    {
     "name": "stderr",
     "output_type": "stream",
     "text": [
      "      content: 242: 3.2 खाने पर गप्पें\n",
      "      content: 243: 3.3 सीमा के सवाल\n",
      "      content: 244: 3.4 कहाँ गए सब ?\n",
      "      content: 245: 3.5 सीमा और डॉली फिर मिलगये (दोहराएँ)\n",
      "      content: 246: 3.6 सीमा और डॉली की बातें (दोहराएँ)\n",
      "      content: 567: Build a sentence\n",
      "      content: 281: Translation Machine - 4\n",
      "      content: 247: 4.1 मनपसंद हीरो\n"
     ]
    },
    {
     "name": "stdout",
     "output_type": "stream",
     "text": [
      "      in on_lesson_page http://www.prathamopenschool.org/hn/Lesson/LES4\n"
     ]
    },
    {
     "name": "stderr",
     "output_type": "stream",
     "text": [
      "      content: 248: 4.2 नापसंद हीरो\n",
      "      content: 249: 4.3 पिक्चर देखने जाना\n",
      "      content: 250: 4.4 पिक्चर पर चर्चा\n",
      "      content: 251: 4.5 सीमा और मधु की पसंद नापसंद (दोहराएँ)\n",
      "      content: 252: 4.6 दीपक और राहुल की पसंद नापसंद (दोहराएँ)\n",
      "      content: 1342: Match the words\n",
      "      content: 1146: 5.1 सुबह हो गयी मामू\n"
     ]
    },
    {
     "name": "stdout",
     "output_type": "stream",
     "text": [
      "      in on_lesson_page http://www.prathamopenschool.org/hn/Lesson/LES5\n"
     ]
    },
    {
     "name": "stderr",
     "output_type": "stream",
     "text": [
      "      content: 1147: 5.2 स्कूल चले हम\n",
      "      content: 1148: 5.3 टाइमपास\n",
      "      content: 1149: 5.4 एक दिन मे दो-दो पार्टी\n",
      "      content: 1150: 5.5 चलो रेस लगाये\n",
      "      content: 1151: निशा के प्लान - दोहराए\n",
      "      content: 1369: Vanishing sentences\n",
      "      content: 1152: 6.1 खरीददारी\n"
     ]
    },
    {
     "name": "stdout",
     "output_type": "stream",
     "text": [
      "      in on_lesson_page http://www.prathamopenschool.org/hn/Lesson/LES6\n"
     ]
    },
    {
     "name": "stderr",
     "output_type": "stream",
     "text": [
      "      content: 1153: 6.2 रामू काका की दुकान\n",
      "      content: 1154: 6.3 किराने का सामान\n",
      "      content: 1155: 6.4 फैशन पॉइंट - कपडे की दुकान\n",
      "      content: 1156: 6.5 रामू काका की दुकान (दोहराए)\n",
      "      content: 1157: 7.1 कहानी चुनिए\n"
     ]
    },
    {
     "name": "stdout",
     "output_type": "stream",
     "text": [
      "      in on_lesson_page http://www.prathamopenschool.org/hn/Lesson/LES7\n"
     ]
    },
    {
     "name": "stderr",
     "output_type": "stream",
     "text": [
      "      content: 1158: 7.2 पिक्चर के बड़े बड़े प्लान\n",
      "      content: 1159: 7.3 किरदार चुनना\n",
      "      content: 1160: 7.4 शूटिंग\n",
      "      content: 1161: 8.1 शादी की खुशखबरी\n"
     ]
    },
    {
     "name": "stdout",
     "output_type": "stream",
     "text": [
      "      in on_lesson_page http://www.prathamopenschool.org/hn/Lesson/LES8\n"
     ]
    },
    {
     "name": "stderr",
     "output_type": "stream",
     "text": [
      "      content: 1162: 8.2 मेरे दोस्तों को निमंत्रण\n",
      "      content: 1163: 8.3 शादी के रंग-बिरंगी कपड़े\n",
      "      content: 1164: 8.4 सलमा दीदी की पार्टी\n",
      "      content: 1165: 9.1 आज की ताजा खबर\n"
     ]
    },
    {
     "name": "stdout",
     "output_type": "stream",
     "text": [
      "      in on_lesson_page http://www.prathamopenschool.org/hn/Lesson/LES9\n"
     ]
    },
    {
     "name": "stderr",
     "output_type": "stream",
     "text": [
      "      content: 1166: 9.2 मेरी दोस्त का इंटरव्यू\n",
      "      content: 1167: 9.3 मम्मी का इंटरव्यू\n",
      "      content: 1592: 10.1 भागो भूत आया\n"
     ]
    },
    {
     "name": "stdout",
     "output_type": "stream",
     "text": [
      "      in on_lesson_page http://www.prathamopenschool.org/hn/Lesson/LES10\n"
     ]
    },
    {
     "name": "stderr",
     "output_type": "stream",
     "text": [
      "      content: 1593: 10.2 कहाँ गयी जलेबी ?\n",
      "      content: 1594: 10.3 घर में घुस गया चूहा\n",
      "      content: 1595: 10.4 चूहा पकड़ा\n",
      "      content: 1596: 10.5 चूहा भाग गया\n",
      "      content: 3416: 12.1 बिजली नहीं, तो काम नहीं\n"
     ]
    },
    {
     "name": "stdout",
     "output_type": "stream",
     "text": [
      "      in on_lesson_page http://www.prathamopenschool.org/hn/Lesson/LES12\n"
     ]
    },
    {
     "name": "stderr",
     "output_type": "stream",
     "text": [
      "      content: 3417: 12.2 लाइट का जुगाड़\n",
      "      content: 3418: 12.3 नन्हे इंजीनियर\n",
      "      content: 3419: 12.4 जल गयी बत्ती\n",
      "      content: 3420: 13.1 टॉस में कौन जीता?\n"
     ]
    },
    {
     "name": "stdout",
     "output_type": "stream",
     "text": [
      "      in on_lesson_page http://www.prathamopenschool.org/hn/Lesson/LES13\n"
     ]
    },
    {
     "name": "stderr",
     "output_type": "stream",
     "text": [
      "      content: 3421: 13.2 कौन हारा? कौन जीता?\n",
      "      content: 3422: 13.3 पकड़म-पकड़ाई\n",
      "      content: 1597: 11.1 शैतान बच्चा\n"
     ]
    },
    {
     "name": "stdout",
     "output_type": "stream",
     "text": [
      "      in on_lesson_page http://www.prathamopenschool.org/hn/Lesson/LES11\n"
     ]
    },
    {
     "name": "stderr",
     "output_type": "stream",
     "text": [
      "      content: 1598: 11.2 डॉक्टर दीदी को बुलाओ\n",
      "      content: 1599: 11.3 समझे बेटा यश!\n",
      "      content: 1600: 11.4 छोटे खली\n",
      "      content: 1601: 11.5 शाबाश!\n",
      "      content: 1602: मिठाई हमारे पेट में\n"
     ]
    },
    {
     "name": "stdout",
     "output_type": "stream",
     "text": [
      "      in on_lesson_page http://www.prathamopenschool.org/hn/Lesson/LES830\n"
     ]
    },
    {
     "name": "stderr",
     "output_type": "stream",
     "text": [
      "      content: 1603: लता की चोरी\n",
      "      content: 1604: पुलिस की पूछताछ\n",
      "      content: 1605: वेलकम लता\n",
      "      content: 3614: FlipIt\n",
      "Content not supported: http://www.prathamopenschool.org/CourseContent/Games/FlipIt/index.html, \n"
     ]
    },
    {
     "name": "stdout",
     "output_type": "stream",
     "text": [
      "      in on_lesson_page http://www.prathamopenschool.org/hn/Lesson/LES409\n"
     ]
    },
    {
     "name": "stderr",
     "output_type": "stream",
     "text": [
      "      content: 3615: Crumble Trumble\n",
      "Content not supported: http://www.prathamopenschool.org/CourseContent/Games/CrumbleTumble/index.html, \n"
     ]
    },
    {
     "name": "stdout",
     "output_type": "stream",
     "text": [
      "      in on_lesson_page http://www.prathamopenschool.org/hn/Lesson/LES410\n"
     ]
    },
    {
     "name": "stderr",
     "output_type": "stream",
     "text": [
      "      content: 3484: Fix-Up Mix-Up\n",
      "Content not supported: http://www.prathamopenschool.org/CourseContent/Games/fixUpMixUp/index.html, \n"
     ]
    },
    {
     "name": "stdout",
     "output_type": "stream",
     "text": [
      "      in on_lesson_page http://www.prathamopenschool.org/hn/Lesson/LES411\n"
     ]
    },
    {
     "name": "stderr",
     "output_type": "stream",
     "text": [
      "      content: 3485: You Said\n",
      "Content not supported: http://www.prathamopenschool.org/CourseContent/Games/YouSaid/index.html, \n"
     ]
    },
    {
     "name": "stdout",
     "output_type": "stream",
     "text": [
      "      in on_lesson_page http://www.prathamopenschool.org/hn/Lesson/LES412\n"
     ]
    },
    {
     "name": "stderr",
     "output_type": "stream",
     "text": [
      "      content: 3486: Point Me Out\n",
      "Content not supported: http://www.prathamopenschool.org/CourseContent/Games/PointMeOut/index.html, \n"
     ]
    },
    {
     "name": "stdout",
     "output_type": "stream",
     "text": [
      "      in on_lesson_page http://www.prathamopenschool.org/hn/Lesson/LES413\n"
     ]
    },
    {
     "name": "stderr",
     "output_type": "stream",
     "text": [
      "      content: 3487: Guess Who\n",
      "Content not supported: http://www.prathamopenschool.org/CourseContent/Games/GuessWho/index.html, \n"
     ]
    },
    {
     "name": "stdout",
     "output_type": "stream",
     "text": [
      "      in on_lesson_page http://www.prathamopenschool.org/hn/Lesson/LES414\n"
     ]
    },
    {
     "name": "stderr",
     "output_type": "stream",
     "text": [
      "      content: 3488: ABCD\n",
      "Content not supported: http://www.prathamopenschool.org/CourseContent/Games/ABCD/index.html, \n"
     ]
    },
    {
     "name": "stdout",
     "output_type": "stream",
     "text": [
      "      in on_lesson_page http://www.prathamopenschool.org/hn/Lesson/LES415\n"
     ]
    },
    {
     "name": "stderr",
     "output_type": "stream",
     "text": [
      "      content: 3489: Letter Box\n",
      "Content not supported: http://www.prathamopenschool.org/CourseContent/Games/LetterBox/index.html, \n"
     ]
    },
    {
     "name": "stdout",
     "output_type": "stream",
     "text": [
      "      in on_lesson_page http://www.prathamopenschool.org/hn/Lesson/LES416\n"
     ]
    },
    {
     "name": "stderr",
     "output_type": "stream",
     "text": [
      "      content: 3490: Jumble Tumble\n",
      "Content not supported: http://www.prathamopenschool.org/CourseContent/Games/JumbleTumble/index.html, \n"
     ]
    },
    {
     "name": "stdout",
     "output_type": "stream",
     "text": [
      "      in on_lesson_page http://www.prathamopenschool.org/hn/Lesson/LES417\n"
     ]
    },
    {
     "name": "stderr",
     "output_type": "stream",
     "text": [
      "      content: 3491: Count & Know\n",
      "Content not supported: http://www.prathamopenschool.org/CourseContent/Games/CountAndKnow_HI/index.html, \n"
     ]
    },
    {
     "name": "stdout",
     "output_type": "stream",
     "text": [
      "      in on_lesson_page http://www.prathamopenschool.org/hn/Lesson/LES418\n"
     ]
    },
    {
     "name": "stderr",
     "output_type": "stream",
     "text": [
      "      content: 3492: Count It\n",
      "Content not supported: http://www.prathamopenschool.org/CourseContent/Games/CountIt/index.html, \n"
     ]
    },
    {
     "name": "stdout",
     "output_type": "stream",
     "text": [
      "      in on_lesson_page http://www.prathamopenschool.org/hn/Lesson/LES419\n"
     ]
    },
    {
     "name": "stderr",
     "output_type": "stream",
     "text": [
      "      content: 273: अंग्रेजी ओके 1.1\n"
     ]
    },
    {
     "name": "stdout",
     "output_type": "stream",
     "text": [
      "      in on_lesson_page http://www.prathamopenschool.org/hn/Lesson/LES909\n"
     ]
    },
    {
     "name": "stderr",
     "output_type": "stream",
     "text": [
      "      content: 274: अंग्रेजी ओके 1.2\n",
      "      content: 275: अंग्रेजी ओके 1.3\n",
      "      content: 534: अंग्रेजी ओके 2.1\n"
     ]
    },
    {
     "name": "stdout",
     "output_type": "stream",
     "text": [
      "      in on_lesson_page http://www.prathamopenschool.org/hn/Lesson/LES910\n"
     ]
    },
    {
     "name": "stderr",
     "output_type": "stream",
     "text": [
      "      content: 535: अंग्रेजी ओके 2.2\n",
      "      content: 536: अंग्रेजी ओके 2.3\n",
      "      content: 537: अंग्रेजी ओके 3.1\n"
     ]
    },
    {
     "name": "stdout",
     "output_type": "stream",
     "text": [
      "      in on_lesson_page http://www.prathamopenschool.org/hn/Lesson/LES911\n"
     ]
    },
    {
     "name": "stderr",
     "output_type": "stream",
     "text": [
      "      content: 538: अंग्रेजी ओके 3.2\n",
      "      content: 539: अंग्रेजी ओके 3.3\n",
      "      content: 540: अंग्रेजी ओके 4.1\n"
     ]
    },
    {
     "name": "stdout",
     "output_type": "stream",
     "text": [
      "      in on_lesson_page http://www.prathamopenschool.org/hn/Lesson/LES912\n"
     ]
    },
    {
     "name": "stderr",
     "output_type": "stream",
     "text": [
      "      content: 541: अंग्रेजी ओके 4.2\n",
      "      content: 542: अंग्रेजी ओके 4.3\n",
      "      content: 543: अंग्रेजी ओके 5.1\n"
     ]
    },
    {
     "name": "stdout",
     "output_type": "stream",
     "text": [
      "      in on_lesson_page http://www.prathamopenschool.org/hn/Lesson/LES913\n"
     ]
    },
    {
     "name": "stderr",
     "output_type": "stream",
     "text": [
      "      content: 544: अंग्रेजी ओके 5.2\n",
      "      content: 545: अंग्रेजी ओके 5.3\n",
      "      content: 546: अंग्रेजी ओके 6.1\n"
     ]
    },
    {
     "name": "stdout",
     "output_type": "stream",
     "text": [
      "      in on_lesson_page http://www.prathamopenschool.org/hn/Lesson/LES914\n"
     ]
    },
    {
     "name": "stderr",
     "output_type": "stream",
     "text": [
      "      content: 547: अंग्रेजी ओके 6.2\n",
      "      content: 548: अंग्रेजी ओके 6.3\n",
      "      content: 549: अंग्रेजी ओके 8.1\n"
     ]
    },
    {
     "name": "stdout",
     "output_type": "stream",
     "text": [
      "      in on_lesson_page http://www.prathamopenschool.org/hn/Lesson/LES915\n"
     ]
    },
    {
     "name": "stderr",
     "output_type": "stream",
     "text": [
      "      content: 550: अंग्रेजी ओके 8.2\n",
      "      content: 551: अंग्रेजी ओके 8.3\n",
      "      content: 552: अंग्रेजी ओके 9.1\n"
     ]
    },
    {
     "name": "stdout",
     "output_type": "stream",
     "text": [
      "      in on_lesson_page http://www.prathamopenschool.org/hn/Lesson/LES916\n"
     ]
    },
    {
     "name": "stderr",
     "output_type": "stream",
     "text": [
      "      content: 553: अंग्रेजी ओके 9.2\n",
      "      content: 554: अंग्रेजी ओके 9.3\n",
      "      content: 555: अंग्रेजी ओके 10.1\n"
     ]
    },
    {
     "name": "stdout",
     "output_type": "stream",
     "text": [
      "      in on_lesson_page http://www.prathamopenschool.org/hn/Lesson/LES917\n"
     ]
    },
    {
     "name": "stderr",
     "output_type": "stream",
     "text": [
      "      content: 556: अंग्रेजी ओके 10.2\n",
      "      content: 557: अंग्रेजी ओके 10.3\n",
      "      content: 558: अंग्रेजी ओके 11.1\n"
     ]
    },
    {
     "name": "stdout",
     "output_type": "stream",
     "text": [
      "      in on_lesson_page http://www.prathamopenschool.org/hn/Lesson/LES918\n"
     ]
    },
    {
     "name": "stderr",
     "output_type": "stream",
     "text": [
      "      content: 559: अंग्रेजी ओके 11.2\n",
      "      content: 560: अंग्रेजी ओके 11.3\n",
      "      content: 561: अंग्रेजी ओके 12.1\n"
     ]
    },
    {
     "name": "stdout",
     "output_type": "stream",
     "text": [
      "      in on_lesson_page http://www.prathamopenschool.org/hn/Lesson/LES919\n"
     ]
    },
    {
     "name": "stderr",
     "output_type": "stream",
     "text": [
      "      content: 562: अंग्रेजी ओके 12.2\n",
      "      content: 563: अंग्रेजी ओके 12.3\n",
      "      content: 564: अंग्रेजी ओके 13.1\n"
     ]
    },
    {
     "name": "stdout",
     "output_type": "stream",
     "text": [
      "      in on_lesson_page http://www.prathamopenschool.org/hn/Lesson/LES920\n"
     ]
    },
    {
     "name": "stderr",
     "output_type": "stream",
     "text": [
      "      content: 565: अंग्रेजी ओके 13.2\n",
      "      content: 566: अंग्रेजी ओके 13.3\n",
      "      content: 601: क्या है भोजन और हैं क्या इसके काम?\n"
     ]
    },
    {
     "name": "stdout",
     "output_type": "stream",
     "text": [
      "      in on_lesson_page http://www.prathamopenschool.org/hn/Lesson/LES870\n"
     ]
    },
    {
     "name": "stderr",
     "output_type": "stream",
     "text": [
      "      content: 621: भोजन और उसके कार्य\n",
      "      content: 602: कौनसा भोजन देता है हमे बल?\n"
     ]
    },
    {
     "name": "stdout",
     "output_type": "stream",
     "text": [
      "      in on_lesson_page http://www.prathamopenschool.org/hn/Lesson/LES871\n"
     ]
    },
    {
     "name": "stderr",
     "output_type": "stream",
     "text": [
      "      content: 622: बल देने वाले भोजन\n",
      "      content: 603: कौनसा भोजन करता है बढ़त में मदद?\n"
     ]
    },
    {
     "name": "stdout",
     "output_type": "stream",
     "text": [
      "      in on_lesson_page http://www.prathamopenschool.org/hn/Lesson/LES872\n"
     ]
    },
    {
     "name": "stderr",
     "output_type": "stream",
     "text": [
      "      content: 623: बढ़त में मदद करने वाले भोजन\n",
      "      content: 604: कौनसा भोजन करता है हमारा बचाव?\n"
     ]
    },
    {
     "name": "stdout",
     "output_type": "stream",
     "text": [
      "      in on_lesson_page http://www.prathamopenschool.org/hn/Lesson/LES873\n"
     ]
    },
    {
     "name": "stderr",
     "output_type": "stream",
     "text": [
      "      content: 624: बचाव करने वाले भोजन\n",
      "      content: 605: संतुलित आहार है क्या?\n"
     ]
    },
    {
     "name": "stdout",
     "output_type": "stream",
     "text": [
      "      in on_lesson_page http://www.prathamopenschool.org/hn/Lesson/LES874\n"
     ]
    },
    {
     "name": "stderr",
     "output_type": "stream",
     "text": [
      "      content: 625: संतुलित आहार\n",
      "      content: 139: संतुलित आहार\n",
      "Content not supported: http://www.prathamopenschool.org/CourseContent/Games/sorting diet/sorting.html, \n",
      "      content: 139: संतुलित आहार\n",
      "Content not supported: http://www.prathamopenschool.org/CourseContent/Games/sorting diet/sorting.html, \n",
      "      content: 606: हमारे शरीर में भोजन करता है कैसे काम?\n"
     ]
    },
    {
     "name": "stdout",
     "output_type": "stream",
     "text": [
      "      in on_lesson_page http://www.prathamopenschool.org/hn/Lesson/LES875\n"
     ]
    },
    {
     "name": "stderr",
     "output_type": "stream",
     "text": [
      "      content: 626: पोषक तत्व\n",
      "      content: 607: कैसे पायें विटामिन ए की कमी से छुटकारा?\n"
     ]
    },
    {
     "name": "stdout",
     "output_type": "stream",
     "text": [
      "      in on_lesson_page http://www.prathamopenschool.org/hn/Lesson/LES876\n"
     ]
    },
    {
     "name": "stderr",
     "output_type": "stream",
     "text": [
      "      content: 627: विटामिन ए\n",
      "      content: 641: पोषक तत्वों का खेल\n",
      "Content not supported: http://www.prathamopenschool.org/CourseContent/Games/DietQuiz(HindiVersion)/www/MainScreen.html, \n",
      "      content: 641: पोषक तत्वों का खेल\n",
      "Content not supported: http://www.prathamopenschool.org/CourseContent/Games/DietQuiz(HindiVersion)/www/MainScreen.html, \n",
      "      content: 608: कैसे पायें आयरन (लौह तत्व) की कमी से छुटकारा?\n"
     ]
    },
    {
     "name": "stdout",
     "output_type": "stream",
     "text": [
      "      in on_lesson_page http://www.prathamopenschool.org/hn/Lesson/LES877\n"
     ]
    },
    {
     "name": "stderr",
     "output_type": "stream",
     "text": [
      "      content: 609: कैसे पायें आयोडीन की कमी से छुटकारा?\n"
     ]
    },
    {
     "name": "stdout",
     "output_type": "stream",
     "text": [
      "      in on_lesson_page http://www.prathamopenschool.org/hn/Lesson/LES878\n"
     ]
    },
    {
     "name": "stderr",
     "output_type": "stream",
     "text": [
      "      content: 629: आयोडीन\n",
      "      content: 641: पोषक तत्वों का खेल\n",
      "Content not supported: http://www.prathamopenschool.org/CourseContent/Games/DietQuiz(HindiVersion)/www/MainScreen.html, \n",
      "      content: 610: दलिया मिश्रण\n"
     ]
    },
    {
     "name": "stdout",
     "output_type": "stream",
     "text": [
      "      in on_lesson_page http://www.prathamopenschool.org/hn/Lesson/LES879\n"
     ]
    },
    {
     "name": "stderr",
     "output_type": "stream",
     "text": [
      "      content: 611: गेंहू आहार मिश्रण\n",
      "      content: 612: गेंहू सोया मिश्रण\n",
      "      content: 613: गोला रोटी\n",
      "      content: 614: खिचड़ी\n",
      "      content: 615: सूजी का हलवा\n",
      "      content: 616: रवा दलिया\n",
      "      content: 617: मीठा दलिया\n",
      "      content: 630: दलिया मिश्रण\n",
      "      content: 631: गेंहू आहार मिश्रण\n",
      "      content: 632: गेंहू सोया मिश्रण\n",
      "      content: 633: गोला रोटी\n",
      "      content: 634: खिचड़ी\n",
      "      content: 635: सूजी का हलवा\n",
      "      content: 636: रवा दलिया\n",
      "      content: 637: मीठा दलिया\n",
      "      content: 860: मात्राएँ और संख्याएँ 1\n"
     ]
    },
    {
     "name": "stdout",
     "output_type": "stream",
     "text": [
      "      in on_lesson_page http://www.prathamopenschool.org/hn/Lesson/LES829\n"
     ]
    },
    {
     "name": "stderr",
     "output_type": "stream",
     "text": [
      "      content: 861: मात्राएँ और संख्याएँ 2\n",
      "      content: 862: मात्राएँ और संख्याएँ 3\n",
      "      content: 863: मात्राएँ और संख्याएँ 4\n",
      "      content: 475: मात्राएँ और संख्याएँ 5\n",
      "      content: 476: ईमारत की ऊंचाई का अंदाज़ा\n",
      "      content: 477: खम्बे की ऊंचाई\n",
      "      content: 478: ढील\n",
      "      content: 344: परावर्तन\n"
     ]
    },
    {
     "name": "stdout",
     "output_type": "stream",
     "text": [
      "      in on_lesson_page http://www.prathamopenschool.org/hn/Lesson/LES38\n"
     ]
    },
    {
     "name": "stderr",
     "output_type": "stream",
     "text": [
      "      content: 345: दर्पण व प्रकाश की अवधारणाओं से परिचय\n",
      "      content: 417: प्रकाश और छाया से परिचय\n",
      "      content: 349: सूर्य की रौशनी सफ़ेद या रंगीन\n",
      "      content: 895: कौनसी बाल्टी?\n",
      "Content not supported: http://www.prathamopenschool.org/CourseContent/Games/ScienceBucketGame_H/BucketGame.html, \n",
      "      content: 366: एक पिंजडे़ में चिड़ियाँ\n",
      "      content: 370: पानी डालें सिक्का देखें\n",
      "      content: 368: गायब होते सिक्के\n",
      "      content: 365: अपने घर को प्रकाशित करे\n",
      "      content: 420: प्रकाश का संचरण\n",
      "      content: 1169: शीशाबाज़ी\n",
      "      content: 459: रंगीन दुनिया 1\n"
     ]
    },
    {
     "name": "stdout",
     "output_type": "stream",
     "text": [
      "      in on_lesson_page http://www.prathamopenschool.org/hn/Lesson/LES39\n"
     ]
    },
    {
     "name": "stderr",
     "output_type": "stream",
     "text": [
      "      content: 460: रंगीन दुनिया 2\n",
      "      content: 436: आंतरराष्ट्रीय प्रकाश वर्ष\n"
     ]
    },
    {
     "name": "stdout",
     "output_type": "stream",
     "text": [
      "      in on_lesson_page http://www.prathamopenschool.org/hn/Lesson/LES40\n"
     ]
    },
    {
     "name": "stderr",
     "output_type": "stream",
     "text": [
      "      content: 895: कौनसी बाल्टी?\n",
      "Content not supported: http://www.prathamopenschool.org/CourseContent/Games/ScienceBucketGame_H/BucketGame.html, \n",
      "      content: 433: पदार्थ अवस्था\n"
     ]
    },
    {
     "name": "stdout",
     "output_type": "stream",
     "text": [
      "      in on_lesson_page http://www.prathamopenschool.org/hn/Lesson/LES41\n"
     ]
    },
    {
     "name": "stderr",
     "output_type": "stream",
     "text": [
      "      content: 878: वज़न पहचाने\n",
      "Content not supported: http://www.prathamopenschool.org/CourseContent/Games/planetGame_H/welcomeScreen.html, \n",
      "      content: 430: भार और द्रव्यमान १\n"
     ]
    },
    {
     "name": "stdout",
     "output_type": "stream",
     "text": [
      "      in on_lesson_page http://www.prathamopenschool.org/hn/Lesson/LES42\n"
     ]
    },
    {
     "name": "stderr",
     "output_type": "stream",
     "text": [
      "      content: 431: भार और द्रव्यमान २\n",
      "      content: 432: समय दूरी द्रव्यमान\n",
      "      content: 314: हवाई द्रव्यमान\n",
      "      content: 311: अंतरिक्ष में द्रव्यमान और भार 1\n",
      "      content: 312: अंतरिक्ष में द्रव्यमान त्वरित!\n",
      "      content: 313: अंतरिक्ष में द्रव्यमान बनाम भार\n",
      "      content: 310: अंतरिक्ष में द्रव्यमान और भार 2\n",
      "      content: 1356: अणुओं की संरचना\n"
     ]
    },
    {
     "name": "stdout",
     "output_type": "stream",
     "text": [
      "      in on_lesson_page http://www.prathamopenschool.org/hn/Lesson/LES43\n"
     ]
    },
    {
     "name": "stderr",
     "output_type": "stream",
     "text": [
      "      content: 434: पदार्थ घनत्व\n"
     ]
    },
    {
     "name": "stdout",
     "output_type": "stream",
     "text": [
      "      in on_lesson_page http://www.prathamopenschool.org/hn/Lesson/LES44\n"
     ]
    },
    {
     "name": "stderr",
     "output_type": "stream",
     "text": [
      "      content: 3114: बोलो भाई आर्किमिडीज़ - वजन क्या होगा?\n",
      "      content: 3115: बोलो भाई आर्किमिडीज़ - डूबेगा या तैरेगा?\n",
      "      content: 3116: बोलो भाई आर्किमिडीज़ - गुब्बारे उड़ेंगे?\n",
      "      content: 1120: डॉ. हड्डी\n",
      "      content: 479: हमारा कंकाल\n"
     ]
    },
    {
     "name": "stdout",
     "output_type": "stream",
     "text": [
      "      in on_lesson_page http://www.prathamopenschool.org/hn/Lesson/LES45\n"
     ]
    },
    {
     "name": "stderr",
     "output_type": "stream",
     "text": [
      "      content: 480: हमारे कंकाल के मुख्य भाग\n",
      "      content: 481: कैसे विकसित हुआ ये कंकाल?\n",
      "      content: 482: हमारी खोपड़ी\n",
      "      content: 483: जोड़ से जुड़े हम\n",
      "      content: 484: रीढ़ को जानें\n",
      "      content: 893: कंकाल की कलाबाज़ियाँ\n",
      "      content: 894: कब्जों वाला आदमी\n",
      "      content: 5524: रक्तचाप होता क्या है?\n"
     ]
    },
    {
     "name": "stdout",
     "output_type": "stream",
     "text": [
      "      in on_lesson_page http://www.prathamopenschool.org/hn/Lesson/LES46\n"
     ]
    },
    {
     "name": "stderr",
     "output_type": "stream",
     "text": [
      "      content: 5525: रक्तचाप की जाँच कैसे की जाती है?\n",
      "      content: 1589: रक्त परिचय\n",
      "      content: 1590: रक्त में होता क्या हैं ?\n",
      "      content: 1591: रक्त परिसंचरण तंत्र\n",
      "      content: 5510: चिंटू बन गया चश्मेबद्दूर\n"
     ]
    },
    {
     "name": "stdout",
     "output_type": "stream",
     "text": [
      "      in on_lesson_page http://www.prathamopenschool.org/hn/Lesson/LES834\n"
     ]
    },
    {
     "name": "stderr",
     "output_type": "stream",
     "text": [
      "      content: 5511: आंख की कार्यप्रणाली\n",
      "      content: 5512: आंख का मॉडल\n",
      "      content: 5513: मूवी टाइम\n",
      "      content: 459: रंगीन दुनिया 1\n",
      "      content: 4622: आँखें क्या कहती हैं\n",
      "      content: 5536: राधा क्यों गोरी, मैं क्यों काला?\n"
     ]
    },
    {
     "name": "stdout",
     "output_type": "stream",
     "text": [
      "      in on_lesson_page http://www.prathamopenschool.org/hn/Lesson/LES840\n"
     ]
    },
    {
     "name": "stderr",
     "output_type": "stream",
     "text": [
      "      content: 1347: विभिन्न प्रकार की गतियां\n"
     ]
    },
    {
     "name": "stdout",
     "output_type": "stream",
     "text": [
      "      in on_lesson_page http://www.prathamopenschool.org/hn/Lesson/LES47\n"
     ]
    },
    {
     "name": "stderr",
     "output_type": "stream",
     "text": [
      "      content: 1348: न्यूटन का पहला नियम - जडत्व\n",
      "      content: 1349: न्यूटन का गति का दूसरा नियम\n",
      "      content: 1350: न्यूटन का तीसरा नियम - क्रिया और प्रतिक्रिया\n",
      "      content: 1351: चाल और वेग\n",
      "      content: 1352: मोटर सायकल से सीखना -भाग 1\n",
      "      content: 1353: मोटर सायकल से सीखना -भाग 2\n",
      "      content: 1354: दौड\n",
      "      content: 1355: कौन डरता है...त्वरण से ?\n",
      "      content: 1357: बोलो भाई गैलिलियो जमीन पर पहले कौन ?\n"
     ]
    },
    {
     "name": "stdout",
     "output_type": "stream",
     "text": [
      "      in on_lesson_page http://www.prathamopenschool.org/hn/Lesson/LES48\n"
     ]
    },
    {
     "name": "stderr",
     "output_type": "stream",
     "text": [
      "      content: 1358: बोलो भाई न्यूटन गेंद कहाँ गयी ?\n",
      "      content: 1359: बोलो भाई न्यूटन स्पीड क्या होगी ?\n",
      "      content: 1360: बोलो भाई न्यूटन जोर लगाके हैश्या !\n",
      "      content: 1361: बोलो भाई न्यूटन अंडे का फंडा क्या है ?\n",
      "      content: 5535: पेंडुलम से परिचय\n"
     ]
    },
    {
     "name": "stdout",
     "output_type": "stream",
     "text": [
      "      in on_lesson_page http://www.prathamopenschool.org/hn/Lesson/LES839\n"
     ]
    },
    {
     "name": "stderr",
     "output_type": "stream",
     "text": [
      "      content: 5514: गैलीलियो की कहानी भाग 1\n"
     ]
    },
    {
     "name": "stdout",
     "output_type": "stream",
     "text": [
      "      in on_lesson_page http://www.prathamopenschool.org/hn/Lesson/LES49\n"
     ]
    },
    {
     "name": "stderr",
     "output_type": "stream",
     "text": [
      "      content: 5515: गैलीलियो की कहानी भाग 2\n",
      "      content: 1528: सौरमंडल\n",
      "      content: 1531: नक्शे पर जगहों को ढूंढना\n"
     ]
    },
    {
     "name": "stdout",
     "output_type": "stream",
     "text": [
      "      in on_lesson_page http://www.prathamopenschool.org/hn/Lesson/LES50\n"
     ]
    },
    {
     "name": "stderr",
     "output_type": "stream",
     "text": [
      "      content: 1532: चलो समझे नक्शे को\n",
      "      content: 1533: समय समय की बात 1\n",
      "      content: 1534: समय समय की बात 2\n",
      "      content: 1529: अंतरिक्ष से पृथ्वी\n",
      "      content: 4617: नक्शेपर और पृथ्वी के गोलेपर जगहों को ढूंढना\n",
      "      content: 4618: अपनी पृथ्वी को जाने\n",
      "      content: 1535: रूप बदलती ऊर्जा\n"
     ]
    },
    {
     "name": "stdout",
     "output_type": "stream",
     "text": [
      "      in on_lesson_page http://www.prathamopenschool.org/hn/Lesson/LES52\n"
     ]
    },
    {
     "name": "stderr",
     "output_type": "stream",
     "text": [
      "      content: 1536: ऊर्जा से पहली मुलाकात\n",
      "      content: 1537: ऊर्जा परिवार\n",
      "      content: 1538: बिट्टूजी की मेहनत\n"
     ]
    },
    {
     "name": "stdout",
     "output_type": "stream",
     "text": [
      "      in on_lesson_page http://www.prathamopenschool.org/hn/Lesson/LES53\n"
     ]
    },
    {
     "name": "stderr",
     "output_type": "stream",
     "text": [
      "      content: 5517: उत्तोलक और यांत्रिक लाभ\n"
     ]
    },
    {
     "name": "stdout",
     "output_type": "stream",
     "text": [
      "      in on_lesson_page http://www.prathamopenschool.org/hn/Lesson/LES51\n"
     ]
    },
    {
     "name": "stderr",
     "output_type": "stream",
     "text": [
      "      content: 5518: उत्तोलक के प्रकार\n",
      "      content: 5519: झुका हुआ समतल एक सरल मशीन\n",
      "      content: 5520: घिरनी और उसके फायदे\n",
      "      content: 5521: घिरनी के फायदे और नुकसान 1\n",
      "      content: 5522: घिरनी के फायदे और नुकसान 2\n",
      "      content: 5523: बिना इंजन की ट्रेन\n",
      "      content: 1553: अनोखा द्वार\n"
     ]
    },
    {
     "name": "stdout",
     "output_type": "stream",
     "text": [
      "      in on_lesson_page http://www.prathamopenschool.org/hn/Lesson/LES54\n"
     ]
    },
    {
     "name": "stderr",
     "output_type": "stream",
     "text": [
      "      content: 5526: जलतरंग\n",
      "      content: 1552: कागज़ का पुल\n",
      "      content: 5527: पेराशूट\n",
      "      content: 378: स्थिर गुब्बारा\n",
      "      content: 5528: मूवी टाइम\n",
      "      content: 379: स्थिर स्ट्रॉ 1\n",
      "      content: 5529: आंख का मॉडल\n",
      "      content: 380: स्थिर स्ट्रॉ 2\n",
      "      content: 5530: मनचाही बरसात\n",
      "      content: 4610: स्थिर कागज\n",
      "      content: 5531: ट्रिंग ट्रिंग - पेपर कप टेलीफोन\n",
      "      content: 376: स्ट्रॉ को घुमानेवाला\n",
      "      content: 5532: बॉटल रॉकेट\n",
      "      content: 375: स्ट्रॉ की बाँसुरी\n",
      "      content: 5533: बिना इंजन की ट्रेन\n",
      "      content: 373: शानदार मोटर\n",
      "      content: 372: मौत का कुआ\n",
      "      content: 369: चुंबकीय उडा़न\n",
      "      content: 4611: किलों को संतुलित करना\n",
      "      content: 371: बिना चुंबक का मोटर\n",
      "      content: 5516: गाँव की सैर\n"
     ]
    },
    {
     "name": "stdout",
     "output_type": "stream",
     "text": [
      "      in on_lesson_page http://www.prathamopenschool.org/hn/Lesson/LES836\n"
     ]
    },
    {
     "name": "stderr",
     "output_type": "stream",
     "text": [
      "      content: 5544: उत्तोलक और यांत्रिक लाभ\n"
     ]
    },
    {
     "name": "stdout",
     "output_type": "stream",
     "text": [
      "      in on_lesson_page http://www.prathamopenschool.org/hn/Lesson/LES842\n"
     ]
    },
    {
     "name": "stderr",
     "output_type": "stream",
     "text": [
      "      content: 5545: उत्तोलक के प्रकार\n",
      "      content: 5546: झुका हुआ समतल एक सरल मशीन\n",
      "      content: 5547: घिरनी और उसके फायदे\n",
      "      content: 5548: घिरनी के फायदे और नुकसान 1\n",
      "      content: 5549: घिरनी के फायदे और नुकसान 2\n",
      "      content: 5550: बिना इंजन की ट्रेन\n",
      "      content: 5534: फर्स्ट एड बॉक्स\n"
     ]
    },
    {
     "name": "stdout",
     "output_type": "stream",
     "text": [
      "      in on_lesson_page http://www.prathamopenschool.org/hn/Lesson/LES838\n"
     ]
    },
    {
     "name": "stderr",
     "output_type": "stream",
     "text": [
      "      content: 1413: परिचय\n"
     ]
    },
    {
     "name": "stdout",
     "output_type": "stream",
     "text": [
      "      in on_lesson_page http://www.prathamopenschool.org/hn/Lesson/LES890\n"
     ]
    },
    {
     "name": "stderr",
     "output_type": "stream",
     "text": [
      "      content: 1414: होटल के विभागों\n"
     ]
    },
    {
     "name": "stdout",
     "output_type": "stream",
     "text": [
      "      in on_lesson_page http://www.prathamopenschool.org/hn/Lesson/LES891\n"
     ]
    },
    {
     "name": "stderr",
     "output_type": "stream",
     "text": [
      "      content: 1415: होटल उद्योग\n",
      "      content: 1416: उद्योग विशेषज्ञ - ताज\n",
      "      content: 1417: उद्योग विशेषज्ञ 1\n",
      "      content: 1418: उद्योग विशेषज्ञ 2\n",
      "      content: 1419: मंगल और देवीदास की कहानी\n"
     ]
    },
    {
     "name": "stdout",
     "output_type": "stream",
     "text": [
      "      in on_lesson_page http://www.prathamopenschool.org/hn/Lesson/LES892\n"
     ]
    },
    {
     "name": "stderr",
     "output_type": "stream",
     "text": [
      "      content: 1420: खाद्य और पेय सिलेबस\n"
     ]
    },
    {
     "name": "stdout",
     "output_type": "stream",
     "text": [
      "      in on_lesson_page http://www.prathamopenschool.org/hn/Lesson/LES893\n"
     ]
    },
    {
     "name": "stderr",
     "output_type": "stream",
     "text": [
      "      content: 1421: रात का खाना\n"
     ]
    },
    {
     "name": "stdout",
     "output_type": "stream",
     "text": [
      "      in on_lesson_page http://www.prathamopenschool.org/hn/Lesson/LES894\n"
     ]
    },
    {
     "name": "stderr",
     "output_type": "stream",
     "text": [
      "      content: 1422: टेबल सेट अप\n",
      "      content: 1423: टेबल सेट अप\n",
      "      content: 1424: फूड प्रोडक्शन सिलेबस\n"
     ]
    },
    {
     "name": "stdout",
     "output_type": "stream",
     "text": [
      "      in on_lesson_page http://www.prathamopenschool.org/hn/Lesson/LES895\n"
     ]
    },
    {
     "name": "stderr",
     "output_type": "stream",
     "text": [
      "      content: 1425: बन्स पकाने की विधि\n"
     ]
    },
    {
     "name": "stdout",
     "output_type": "stream",
     "text": [
      "      in on_lesson_page http://www.prathamopenschool.org/hn/Lesson/LES896\n"
     ]
    },
    {
     "name": "stderr",
     "output_type": "stream",
     "text": [
      "      content: 1426: सब्जी कश पकाने की विधि\n",
      "      content: 1427: केक सजावट\n",
      "      content: 1428: ब्रेड रोल पकाने की विधि\n",
      "      content: 1429: मफ़िन पकाने की विध\n",
      "      content: 1430: हाउसकीपिंग सिलेबस\n"
     ]
    },
    {
     "name": "stdout",
     "output_type": "stream",
     "text": [
      "      in on_lesson_page http://www.prathamopenschool.org/hn/Lesson/LES897\n"
     ]
    },
    {
     "name": "stderr",
     "output_type": "stream",
     "text": [
      "      content: 1431: इन-हाउस सफाई उपकरण\n"
     ]
    },
    {
     "name": "stdout",
     "output_type": "stream",
     "text": [
      "      in on_lesson_page http://www.prathamopenschool.org/hn/Lesson/LES898\n"
     ]
    },
    {
     "name": "stderr",
     "output_type": "stream",
     "text": [
      "      content: 1432: आउटडोर सफाई उपकरण\n",
      "      content: 1433: बिस्तर बनाने\n",
      "      content: 1434: फर्श की सफाई\n",
      "      content: 1435: अतिथि कक्ष सफाई\n",
      "      content: 1436: पींछ डालना\n",
      "      content: 1437: कमरे की व्यवस्था\n",
      "      content: 1438: बाथरूम की सफाई\n",
      "      content: 1447: निर्माण उद्योग के लिए परिचय\n"
     ]
    },
    {
     "name": "stdout",
     "output_type": "stream",
     "text": [
      "      in on_lesson_page http://www.prathamopenschool.org/hn/Lesson/LES899\n"
     ]
    },
    {
     "name": "stderr",
     "output_type": "stream",
     "text": [
      "      content: 1448: ऑटोमोबाइल उद्योग के लिए परिचय\n"
     ]
    },
    {
     "name": "stdout",
     "output_type": "stream",
     "text": [
      "      in on_lesson_page http://www.prathamopenschool.org/hn/Lesson/LES900\n"
     ]
    },
    {
     "name": "stderr",
     "output_type": "stream",
     "text": [
      "      content: 1449: ऑटोमोबाइल सिलेबस\n"
     ]
    },
    {
     "name": "stdout",
     "output_type": "stream",
     "text": [
      "      in on_lesson_page http://www.prathamopenschool.org/hn/Lesson/LES901\n"
     ]
    },
    {
     "name": "stderr",
     "output_type": "stream",
     "text": [
      "      content: 1439: उद्योग के बारे में\n"
     ]
    },
    {
     "name": "stdout",
     "output_type": "stream",
     "text": [
      "      in on_lesson_page http://www.prathamopenschool.org/hn/Lesson/LES902\n"
     ]
    },
    {
     "name": "stderr",
     "output_type": "stream",
     "text": [
      "      content: 1440: धर्म की कहानी\n"
     ]
    },
    {
     "name": "stdout",
     "output_type": "stream",
     "text": [
      "      in on_lesson_page http://www.prathamopenschool.org/hn/Lesson/LES903\n"
     ]
    },
    {
     "name": "stderr",
     "output_type": "stream",
     "text": [
      "      content: 1450: संघमित्रा की कहानी\n"
     ]
    },
    {
     "name": "stdout",
     "output_type": "stream",
     "text": [
      "      in on_lesson_page http://www.prathamopenschool.org/hn/Lesson/LES904\n"
     ]
    },
    {
     "name": "stderr",
     "output_type": "stream",
     "text": [
      "ERROR 404 when getting url=http://www.prathamopenschool.org/CourseContent/Beauty/Video/H_Sanghmitra.mp4\n",
      "      content: 1451: थ्रेडिंग सीखना\n"
     ]
    },
    {
     "name": "stdout",
     "output_type": "stream",
     "text": [
      "      in on_lesson_page http://www.prathamopenschool.org/hn/Lesson/LES905\n"
     ]
    },
    {
     "name": "stderr",
     "output_type": "stream",
     "text": [
      "ERROR 404 when getting url=http://www.prathamopenschool.org/CourseContent/Beauty/Video/H_Learn threading.mp4\n",
      "      content: 1441: बेडसाइड सहायक\n"
     ]
    },
    {
     "name": "stdout",
     "output_type": "stream",
     "text": [
      "      in on_lesson_page http://www.prathamopenschool.org/hn/Lesson/LES906\n"
     ]
    },
    {
     "name": "stderr",
     "output_type": "stream",
     "text": [
      "      content: 1442: हाथ धोना\n"
     ]
    },
    {
     "name": "stdout",
     "output_type": "stream",
     "text": [
      "      in on_lesson_page http://www.prathamopenschool.org/hn/Lesson/LES907\n"
     ]
    },
    {
     "name": "stderr",
     "output_type": "stream",
     "text": [
      "      content: 1443: बिस्तर बनाने\n",
      "      content: 1444: ऑटो क्लेव\n",
      "      content: 1445: तापमान\n",
      "      content: 1446: एक बिस्तर सहायक की कहानी\n"
     ]
    },
    {
     "name": "stdout",
     "output_type": "stream",
     "text": [
      "      in on_lesson_page http://www.prathamopenschool.org/hn/Lesson/LES908\n"
     ]
    },
    {
     "name": "stderr",
     "output_type": "stream",
     "text": [
      "      content: 3002: जानो सांप के बारे में\n"
     ]
    },
    {
     "name": "stdout",
     "output_type": "stream",
     "text": [
      "      in on_lesson_page http://www.prathamopenschool.org/hn/Lesson/LES73\n"
     ]
    },
    {
     "name": "stderr",
     "output_type": "stream",
     "text": [
      "      content: 3003: तस्वीरों के द्वारा बातचीत ?\n"
     ]
    },
    {
     "name": "stdout",
     "output_type": "stream",
     "text": [
      "      in on_lesson_page http://www.prathamopenschool.org/hn/Lesson/LES74\n"
     ]
    },
    {
     "name": "stderr",
     "output_type": "stream",
     "text": [
      "      content: 3004: पाचन\n"
     ]
    },
    {
     "name": "stdout",
     "output_type": "stream",
     "text": [
      "      in on_lesson_page http://www.prathamopenschool.org/hn/Lesson/LES75\n"
     ]
    },
    {
     "name": "stderr",
     "output_type": "stream",
     "text": [
      "      content: 3005: ग्लूकोज़ से उर्जा प्राप्ति\n"
     ]
    },
    {
     "name": "stdout",
     "output_type": "stream",
     "text": [
      "      in on_lesson_page http://www.prathamopenschool.org/hn/Lesson/LES76\n"
     ]
    },
    {
     "name": "stderr",
     "output_type": "stream",
     "text": [
      "      content: 3006: बीज अंकुरण\n"
     ]
    },
    {
     "name": "stdout",
     "output_type": "stream",
     "text": [
      "      in on_lesson_page http://www.prathamopenschool.org/hn/Lesson/LES77\n"
     ]
    },
    {
     "name": "stderr",
     "output_type": "stream",
     "text": [
      "      content: 3007: पौधें कैसे उगते हैं?\n"
     ]
    },
    {
     "name": "stdout",
     "output_type": "stream",
     "text": [
      "      in on_lesson_page http://www.prathamopenschool.org/hn/Lesson/LES78\n"
     ]
    },
    {
     "name": "stderr",
     "output_type": "stream",
     "text": [
      "      content: 3008: बहुमूल्य जल\n"
     ]
    },
    {
     "name": "stdout",
     "output_type": "stream",
     "text": [
      "      in on_lesson_page http://www.prathamopenschool.org/hn/Lesson/LES79\n"
     ]
    },
    {
     "name": "stderr",
     "output_type": "stream",
     "text": [
      "      content: 3009: दो मच्छरों की कहानी\n"
     ]
    },
    {
     "name": "stdout",
     "output_type": "stream",
     "text": [
      "      in on_lesson_page http://www.prathamopenschool.org/hn/Lesson/LES80\n"
     ]
    },
    {
     "name": "stderr",
     "output_type": "stream",
     "text": [
      "      content: 3010: समुदाय और परिवार\n"
     ]
    },
    {
     "name": "stdout",
     "output_type": "stream",
     "text": [
      "      in on_lesson_page http://www.prathamopenschool.org/hn/Lesson/LES81\n"
     ]
    },
    {
     "name": "stderr",
     "output_type": "stream",
     "text": [
      "      content: 3011: भूकंप से उबरना\n"
     ]
    },
    {
     "name": "stdout",
     "output_type": "stream",
     "text": [
      "      in on_lesson_page http://www.prathamopenschool.org/hn/Lesson/LES82\n"
     ]
    },
    {
     "name": "stderr",
     "output_type": "stream",
     "text": [
      "      content: 3012: सांस लेना\n"
     ]
    },
    {
     "name": "stdout",
     "output_type": "stream",
     "text": [
      "      in on_lesson_page http://www.prathamopenschool.org/hn/Lesson/LES83\n"
     ]
    },
    {
     "name": "stderr",
     "output_type": "stream",
     "text": [
      "      content: 3013: हवा फूंककर चीजों को ठंडा करना\n"
     ]
    },
    {
     "name": "stdout",
     "output_type": "stream",
     "text": [
      "      in on_lesson_page http://www.prathamopenschool.org/hn/Lesson/LES84\n"
     ]
    },
    {
     "name": "stderr",
     "output_type": "stream",
     "text": [
      "      content: 3014: सामाजिक भेदभाव\n"
     ]
    },
    {
     "name": "stdout",
     "output_type": "stream",
     "text": [
      "      in on_lesson_page http://www.prathamopenschool.org/hn/Lesson/LES85\n"
     ]
    },
    {
     "name": "stderr",
     "output_type": "stream",
     "text": [
      "      content: 3015: अभिगमन\n"
     ]
    },
    {
     "name": "stdout",
     "output_type": "stream",
     "text": [
      "      in on_lesson_page http://www.prathamopenschool.org/hn/Lesson/LES86\n"
     ]
    },
    {
     "name": "stderr",
     "output_type": "stream",
     "text": [
      "      content: 3016: गॉव में जीवन\n"
     ]
    },
    {
     "name": "stdout",
     "output_type": "stream",
     "text": [
      "      in on_lesson_page http://www.prathamopenschool.org/hn/Lesson/LES87\n"
     ]
    },
    {
     "name": "stderr",
     "output_type": "stream",
     "text": [
      "      content: 3017: एक पारंपरिक किसान\n"
     ]
    },
    {
     "name": "stdout",
     "output_type": "stream",
     "text": [
      "      in on_lesson_page http://www.prathamopenschool.org/hn/Lesson/LES88\n"
     ]
    },
    {
     "name": "stderr",
     "output_type": "stream",
     "text": [
      "      content: 3018: जैविक खेती\n"
     ]
    },
    {
     "name": "stdout",
     "output_type": "stream",
     "text": [
      "      in on_lesson_page http://www.prathamopenschool.org/hn/Lesson/LES89\n"
     ]
    },
    {
     "name": "stderr",
     "output_type": "stream",
     "text": [
      "      content: 3019: वनोन्मूलन के प्रभाव\n"
     ]
    },
    {
     "name": "stdout",
     "output_type": "stream",
     "text": [
      "      in on_lesson_page http://www.prathamopenschool.org/hn/Lesson/LES90\n"
     ]
    },
    {
     "name": "stderr",
     "output_type": "stream",
     "text": [
      "      content: 3020: वन-गुज्जर\n"
     ]
    },
    {
     "name": "stdout",
     "output_type": "stream",
     "text": [
      "      in on_lesson_page http://www.prathamopenschool.org/hn/Lesson/LES91\n"
     ]
    },
    {
     "name": "stderr",
     "output_type": "stream",
     "text": [
      "      content: 3001: बाघ\n"
     ]
    },
    {
     "name": "stdout",
     "output_type": "stream",
     "text": [
      "      in on_lesson_page http://www.prathamopenschool.org/hn/Lesson/LES72\n"
     ]
    },
    {
     "name": "stderr",
     "output_type": "stream",
     "text": [
      "      content: 3021: आकृति बनाएं\n"
     ]
    },
    {
     "name": "stdout",
     "output_type": "stream",
     "text": [
      "      in on_lesson_page http://www.prathamopenschool.org/hn/Lesson/LES92\n"
     ]
    },
    {
     "name": "stderr",
     "output_type": "stream",
     "text": [
      "      content: 3022: आकृति - परिमाप\n"
     ]
    },
    {
     "name": "stdout",
     "output_type": "stream",
     "text": [
      "      in on_lesson_page http://www.prathamopenschool.org/hn/Lesson/LES93\n"
     ]
    },
    {
     "name": "stderr",
     "output_type": "stream",
     "text": [
      "      content: 3023: आकृति- क्षेत्रफ़ल\n"
     ]
    },
    {
     "name": "stdout",
     "output_type": "stream",
     "text": [
      "      in on_lesson_page http://www.prathamopenschool.org/hn/Lesson/LES94\n"
     ]
    },
    {
     "name": "stderr",
     "output_type": "stream",
     "text": [
      "      content: 3024: आकृति- तोरन\n"
     ]
    },
    {
     "name": "stdout",
     "output_type": "stream",
     "text": [
      "      in on_lesson_page http://www.prathamopenschool.org/hn/Lesson/LES95\n"
     ]
    },
    {
     "name": "stderr",
     "output_type": "stream",
     "text": [
      "      content: 3025: गुणक\n"
     ]
    },
    {
     "name": "stdout",
     "output_type": "stream",
     "text": [
      "      in on_lesson_page http://www.prathamopenschool.org/hn/Lesson/LES96\n"
     ]
    },
    {
     "name": "stderr",
     "output_type": "stream",
     "text": [
      "      content: 3026: पैटर्न\n"
     ]
    },
    {
     "name": "stdout",
     "output_type": "stream",
     "text": [
      "      in on_lesson_page http://www.prathamopenschool.org/hn/Lesson/LES97\n"
     ]
    },
    {
     "name": "stderr",
     "output_type": "stream",
     "text": [
      "      content: 3027: नक्षा बनाएं\n"
     ]
    },
    {
     "name": "stdout",
     "output_type": "stream",
     "text": [
      "      in on_lesson_page http://www.prathamopenschool.org/hn/Lesson/LES98\n"
     ]
    },
    {
     "name": "stderr",
     "output_type": "stream",
     "text": [
      "      content: 3028: फर्श का नक्षा\n"
     ]
    },
    {
     "name": "stdout",
     "output_type": "stream",
     "text": [
      "      in on_lesson_page http://www.prathamopenschool.org/hn/Lesson/LES99\n"
     ]
    },
    {
     "name": "stderr",
     "output_type": "stream",
     "text": [
      "      content: 3029: लम्बाई नापें\n"
     ]
    },
    {
     "name": "stdout",
     "output_type": "stream",
     "text": [
      "      in on_lesson_page http://www.prathamopenschool.org/hn/Lesson/LES100\n"
     ]
    },
    {
     "name": "stderr",
     "output_type": "stream",
     "text": [
      "      content: 3030: मापिय रूपांतरण\n"
     ]
    },
    {
     "name": "stdout",
     "output_type": "stream",
     "text": [
      "      in on_lesson_page http://www.prathamopenschool.org/hn/Lesson/LES101\n"
     ]
    },
    {
     "name": "stderr",
     "output_type": "stream",
     "text": [
      "      content: 3031: परिमाप और क्षेत्रफ़ल\n"
     ]
    },
    {
     "name": "stdout",
     "output_type": "stream",
     "text": [
      "      in on_lesson_page http://www.prathamopenschool.org/hn/Lesson/LES102\n"
     ]
    },
    {
     "name": "stderr",
     "output_type": "stream",
     "text": [
      "      content: 3032: असमान आकृतियों का क्षेत्रफ़ल\n"
     ]
    },
    {
     "name": "stdout",
     "output_type": "stream",
     "text": [
      "      in on_lesson_page http://www.prathamopenschool.org/hn/Lesson/LES103\n"
     ]
    },
    {
     "name": "stderr",
     "output_type": "stream",
     "text": [
      "      content: 3033: आलेख\n"
     ]
    },
    {
     "name": "stdout",
     "output_type": "stream",
     "text": [
      "      in on_lesson_page http://www.prathamopenschool.org/hn/Lesson/LES104\n"
     ]
    },
    {
     "name": "stderr",
     "output_type": "stream",
     "text": [
      "      content: 3034: गुणा करना सीखें\n"
     ]
    },
    {
     "name": "stdout",
     "output_type": "stream",
     "text": [
      "      in on_lesson_page http://www.prathamopenschool.org/hn/Lesson/LES105\n"
     ]
    },
    {
     "name": "stderr",
     "output_type": "stream",
     "text": [
      "      content: 3035: आयतन\n"
     ]
    },
    {
     "name": "stdout",
     "output_type": "stream",
     "text": [
      "      in on_lesson_page http://www.prathamopenschool.org/hn/Lesson/LES106\n"
     ]
    },
    {
     "name": "stderr",
     "output_type": "stream",
     "text": [
      "      content: 3036: मार्टी की प्रयोगशाला\n"
     ]
    },
    {
     "name": "stdout",
     "output_type": "stream",
     "text": [
      "      in on_lesson_page http://www.prathamopenschool.org/hn/Lesson/LES108\n"
     ]
    },
    {
     "name": "stderr",
     "output_type": "stream",
     "text": [
      "      content: 3037: शुद्ध नमक\n"
     ]
    },
    {
     "name": "stdout",
     "output_type": "stream",
     "text": [
      "      in on_lesson_page http://www.prathamopenschool.org/hn/Lesson/LES109\n"
     ]
    },
    {
     "name": "stderr",
     "output_type": "stream",
     "text": [
      "      content: 3038: जड़ी बूटियों और पेड़\n"
     ]
    },
    {
     "name": "stdout",
     "output_type": "stream",
     "text": [
      "      in on_lesson_page http://www.prathamopenschool.org/hn/Lesson/LES110\n"
     ]
    },
    {
     "name": "stderr",
     "output_type": "stream",
     "text": [
      "      content: 3039: मार्टि और फूड फैक्ट्री\n"
     ]
    },
    {
     "name": "stdout",
     "output_type": "stream",
     "text": [
      "      in on_lesson_page http://www.prathamopenschool.org/hn/Lesson/LES111\n"
     ]
    },
    {
     "name": "stderr",
     "output_type": "stream",
     "text": [
      "      content: 3040: स्टेम, जीवन का मार्ग\n"
     ]
    },
    {
     "name": "stdout",
     "output_type": "stream",
     "text": [
      "      in on_lesson_page http://www.prathamopenschool.org/hn/Lesson/LES112\n"
     ]
    },
    {
     "name": "stderr",
     "output_type": "stream",
     "text": [
      "      content: 3041: जोड़\n"
     ]
    },
    {
     "name": "stdout",
     "output_type": "stream",
     "text": [
      "      in on_lesson_page http://www.prathamopenschool.org/hn/Lesson/LES113\n"
     ]
    },
    {
     "name": "stderr",
     "output_type": "stream",
     "text": [
      "      content: 3042: पेशिय तंत्र\n"
     ]
    },
    {
     "name": "stdout",
     "output_type": "stream",
     "text": [
      "      in on_lesson_page http://www.prathamopenschool.org/hn/Lesson/LES114\n"
     ]
    },
    {
     "name": "stderr",
     "output_type": "stream",
     "text": [
      "      content: 3043: इस कदम पर\n"
     ]
    },
    {
     "name": "stdout",
     "output_type": "stream",
     "text": [
      "      in on_lesson_page http://www.prathamopenschool.org/hn/Lesson/LES115\n"
     ]
    },
    {
     "name": "stderr",
     "output_type": "stream",
     "text": [
      "      content: 3044: प्रकाश का मार्ग\n"
     ]
    },
    {
     "name": "stdout",
     "output_type": "stream",
     "text": [
      "      in on_lesson_page http://www.prathamopenschool.org/hn/Lesson/LES116\n"
     ]
    },
    {
     "name": "stderr",
     "output_type": "stream",
     "text": [
      "      content: 3045: चुम्बक\n"
     ]
    },
    {
     "name": "stdout",
     "output_type": "stream",
     "text": [
      "      in on_lesson_page http://www.prathamopenschool.org/hn/Lesson/LES117\n"
     ]
    },
    {
     "name": "stderr",
     "output_type": "stream",
     "text": [
      "      content: 3046: बारिश के पानी का संग्रहण\n"
     ]
    },
    {
     "name": "stdout",
     "output_type": "stream",
     "text": [
      "      in on_lesson_page http://www.prathamopenschool.org/hn/Lesson/LES118\n"
     ]
    },
    {
     "name": "stderr",
     "output_type": "stream",
     "text": [
      "      content: 3047: जल चक्र\n"
     ]
    },
    {
     "name": "stdout",
     "output_type": "stream",
     "text": [
      "      in on_lesson_page http://www.prathamopenschool.org/hn/Lesson/LES119\n"
     ]
    },
    {
     "name": "stderr",
     "output_type": "stream",
     "text": [
      "      content: 3048: ओक्सीजन कार्बन डेयोक्साइड\n"
     ]
    },
    {
     "name": "stdout",
     "output_type": "stream",
     "text": [
      "      in on_lesson_page http://www.prathamopenschool.org/hn/Lesson/LES120\n"
     ]
    },
    {
     "name": "stderr",
     "output_type": "stream",
     "text": [
      "      content: 3049: प्लास्टिक के हानिकारक प्रभाव\n"
     ]
    },
    {
     "name": "stdout",
     "output_type": "stream",
     "text": [
      "      in on_lesson_page http://www.prathamopenschool.org/hn/Lesson/LES121\n"
     ]
    },
    {
     "name": "stderr",
     "output_type": "stream",
     "text": [
      "      content: 3050: कागज़ का पुनर्चक्रण\n"
     ]
    },
    {
     "name": "stdout",
     "output_type": "stream",
     "text": [
      "      in on_lesson_page http://www.prathamopenschool.org/hn/Lesson/LES122\n"
     ]
    },
    {
     "name": "stderr",
     "output_type": "stream",
     "text": [
      "      content: 3051: संख्याओं की पूर्णता\n"
     ]
    },
    {
     "name": "stdout",
     "output_type": "stream",
     "text": [
      "      in on_lesson_page http://www.prathamopenschool.org/hn/Lesson/LES124\n"
     ]
    },
    {
     "name": "stderr",
     "output_type": "stream",
     "text": [
      "      content: 3052: मैक्स भूखा है\n"
     ]
    },
    {
     "name": "stdout",
     "output_type": "stream",
     "text": [
      "      in on_lesson_page http://www.prathamopenschool.org/hn/Lesson/LES125\n"
     ]
    },
    {
     "name": "stderr",
     "output_type": "stream",
     "text": [
      "      content: 3053: कुर्सियों की गिनती\n"
     ]
    },
    {
     "name": "stdout",
     "output_type": "stream",
     "text": [
      "      in on_lesson_page http://www.prathamopenschool.org/hn/Lesson/LES126\n"
     ]
    },
    {
     "name": "stderr",
     "output_type": "stream",
     "text": [
      "      content: 3054: उलम की कुंडली\n"
     ]
    },
    {
     "name": "stdout",
     "output_type": "stream",
     "text": [
      "      in on_lesson_page http://www.prathamopenschool.org/hn/Lesson/LES127\n"
     ]
    },
    {
     "name": "stderr",
     "output_type": "stream",
     "text": [
      "      content: 3055: डॉट्स के माध्यम से लाइन बनाने के लिए\n"
     ]
    },
    {
     "name": "stdout",
     "output_type": "stream",
     "text": [
      "      in on_lesson_page http://www.prathamopenschool.org/hn/Lesson/LES128\n"
     ]
    },
    {
     "name": "stderr",
     "output_type": "stream",
     "text": [
      "      content: 3056: कोणों को जानें\n"
     ]
    },
    {
     "name": "stdout",
     "output_type": "stream",
     "text": [
      "      in on_lesson_page http://www.prathamopenschool.org/hn/Lesson/LES129\n"
     ]
    },
    {
     "name": "stderr",
     "output_type": "stream",
     "text": [
      "      content: 3057: ऋणात्मक संख्याएं\n"
     ]
    },
    {
     "name": "stdout",
     "output_type": "stream",
     "text": [
      "      in on_lesson_page http://www.prathamopenschool.org/hn/Lesson/LES130\n"
     ]
    },
    {
     "name": "stderr",
     "output_type": "stream",
     "text": [
      "      content: 3058: सामान और असमान भिन्न की तुलना\n"
     ]
    },
    {
     "name": "stdout",
     "output_type": "stream",
     "text": [
      "      in on_lesson_page http://www.prathamopenschool.org/hn/Lesson/LES131\n"
     ]
    },
    {
     "name": "stderr",
     "output_type": "stream",
     "text": [
      "      content: 3059: भिन्नों के रूप\n"
     ]
    },
    {
     "name": "stdout",
     "output_type": "stream",
     "text": [
      "      in on_lesson_page http://www.prathamopenschool.org/hn/Lesson/LES132\n"
     ]
    },
    {
     "name": "stderr",
     "output_type": "stream",
     "text": [
      "      content: 3060: दंड आलेख बनाना सीखें\n"
     ]
    },
    {
     "name": "stdout",
     "output_type": "stream",
     "text": [
      "      in on_lesson_page http://www.prathamopenschool.org/hn/Lesson/LES133\n"
     ]
    },
    {
     "name": "stderr",
     "output_type": "stream",
     "text": [
      "      content: 3061: दंड आलेख समझें\n"
     ]
    },
    {
     "name": "stdout",
     "output_type": "stream",
     "text": [
      "      in on_lesson_page http://www.prathamopenschool.org/hn/Lesson/LES134\n"
     ]
    },
    {
     "name": "stderr",
     "output_type": "stream",
     "text": [
      "      content: 3062: क्षेत्रफल बारे में सब कुछ\n"
     ]
    },
    {
     "name": "stdout",
     "output_type": "stream",
     "text": [
      "      in on_lesson_page http://www.prathamopenschool.org/hn/Lesson/LES135\n"
     ]
    },
    {
     "name": "stderr",
     "output_type": "stream",
     "text": [
      "      content: 3063: अनियमित आंकड़े और क्षेत्र\n"
     ]
    },
    {
     "name": "stdout",
     "output_type": "stream",
     "text": [
      "      in on_lesson_page http://www.prathamopenschool.org/hn/Lesson/LES136\n"
     ]
    },
    {
     "name": "stderr",
     "output_type": "stream",
     "text": [
      "      content: 3064: समीकरण\n"
     ]
    },
    {
     "name": "stdout",
     "output_type": "stream",
     "text": [
      "      in on_lesson_page http://www.prathamopenschool.org/hn/Lesson/LES137\n"
     ]
    },
    {
     "name": "stderr",
     "output_type": "stream",
     "text": [
      "      content: 3065: चर के नियम\n"
     ]
    },
    {
     "name": "stdout",
     "output_type": "stream",
     "text": [
      "      in on_lesson_page http://www.prathamopenschool.org/hn/Lesson/LES138\n"
     ]
    },
    {
     "name": "stderr",
     "output_type": "stream",
     "text": [
      "      content: 3066: समानुपात और एकिक विधि\n"
     ]
    },
    {
     "name": "stdout",
     "output_type": "stream",
     "text": [
      "      in on_lesson_page http://www.prathamopenschool.org/hn/Lesson/LES139\n"
     ]
    },
    {
     "name": "stderr",
     "output_type": "stream",
     "text": [
      "      content: 3067: नाइट्रोजन की पुनः पूर्ति\n"
     ]
    },
    {
     "name": "stdout",
     "output_type": "stream",
     "text": [
      "      in on_lesson_page http://www.prathamopenschool.org/hn/Lesson/LES141\n"
     ]
    },
    {
     "name": "stderr",
     "output_type": "stream",
     "text": [
      "      content: 30671: प्रकाश संश्लेषण\n"
     ]
    },
    {
     "name": "stdout",
     "output_type": "stream",
     "text": [
      "      in on_lesson_page http://www.prathamopenschool.org/hn/Lesson/LES142\n"
     ]
    },
    {
     "name": "stderr",
     "output_type": "stream",
     "text": [
      "      content: 3068: आहार नली\n"
     ]
    },
    {
     "name": "stdout",
     "output_type": "stream",
     "text": [
      "      in on_lesson_page http://www.prathamopenschool.org/hn/Lesson/LES143\n"
     ]
    },
    {
     "name": "stderr",
     "output_type": "stream",
     "text": [
      "      content: 3069: घास खाने वाले पशु में पाचन तंत्र\n"
     ]
    },
    {
     "name": "stdout",
     "output_type": "stream",
     "text": [
      "      in on_lesson_page http://www.prathamopenschool.org/hn/Lesson/LES144\n"
     ]
    },
    {
     "name": "stderr",
     "output_type": "stream",
     "text": [
      "      content: 3070: अमीबा में भोजन और पाचन\n"
     ]
    },
    {
     "name": "stdout",
     "output_type": "stream",
     "text": [
      "      in on_lesson_page http://www.prathamopenschool.org/hn/Lesson/LES145\n"
     ]
    },
    {
     "name": "stderr",
     "output_type": "stream",
     "text": [
      "      content: 3071: भारत में रेशम उद्योग\n"
     ]
    },
    {
     "name": "stdout",
     "output_type": "stream",
     "text": [
      "      in on_lesson_page http://www.prathamopenschool.org/hn/Lesson/LES146\n"
     ]
    },
    {
     "name": "stderr",
     "output_type": "stream",
     "text": [
      "      content: 3072: कंवेक्शन\n"
     ]
    },
    {
     "name": "stdout",
     "output_type": "stream",
     "text": [
      "      in on_lesson_page http://www.prathamopenschool.org/hn/Lesson/LES147\n"
     ]
    },
    {
     "name": "stderr",
     "output_type": "stream",
     "text": [
      "      content: 3073: अम्लों एवं क्षारकों के गुणधर्म\n"
     ]
    },
    {
     "name": "stdout",
     "output_type": "stream",
     "text": [
      "      in on_lesson_page http://www.prathamopenschool.org/hn/Lesson/LES148\n"
     ]
    },
    {
     "name": "stderr",
     "output_type": "stream",
     "text": [
      "      content: 3074: मौसम\n"
     ]
    },
    {
     "name": "stdout",
     "output_type": "stream",
     "text": [
      "      in on_lesson_page http://www.prathamopenschool.org/hn/Lesson/LES149\n"
     ]
    },
    {
     "name": "stderr",
     "output_type": "stream",
     "text": [
      "      content: 3075: तूफान का निर्माण\n"
     ]
    },
    {
     "name": "stdout",
     "output_type": "stream",
     "text": [
      "      in on_lesson_page http://www.prathamopenschool.org/hn/Lesson/LES150\n"
     ]
    },
    {
     "name": "stderr",
     "output_type": "stream",
     "text": [
      "      content: 3076: आंधी का निर्माण\n"
     ]
    },
    {
     "name": "stdout",
     "output_type": "stream",
     "text": [
      "      in on_lesson_page http://www.prathamopenschool.org/hn/Lesson/LES151\n"
     ]
    },
    {
     "name": "stderr",
     "output_type": "stream",
     "text": [
      "      content: 3077: मिट्टी का क्षरण- कारण और प्रभाव\n"
     ]
    },
    {
     "name": "stdout",
     "output_type": "stream",
     "text": [
      "      in on_lesson_page http://www.prathamopenschool.org/hn/Lesson/LES152\n"
     ]
    },
    {
     "name": "stderr",
     "output_type": "stream",
     "text": [
      "      content: 3078: एक गहरी सास लो\n"
     ]
    },
    {
     "name": "stdout",
     "output_type": "stream",
     "text": [
      "      in on_lesson_page http://www.prathamopenschool.org/hn/Lesson/LES153\n"
     ]
    },
    {
     "name": "stderr",
     "output_type": "stream",
     "text": [
      "      content: 3079: श्वसन\n"
     ]
    },
    {
     "name": "stdout",
     "output_type": "stream",
     "text": [
      "      in on_lesson_page http://www.prathamopenschool.org/hn/Lesson/LES154\n"
     ]
    },
    {
     "name": "stderr",
     "output_type": "stream",
     "text": [
      "      content: 3080: उत्सर्जी तंत्र\n"
     ]
    },
    {
     "name": "stdout",
     "output_type": "stream",
     "text": [
      "      in on_lesson_page http://www.prathamopenschool.org/hn/Lesson/LES155\n"
     ]
    },
    {
     "name": "stderr",
     "output_type": "stream",
     "text": [
      "      content: 3081: परागण और निषेचन\n"
     ]
    },
    {
     "name": "stdout",
     "output_type": "stream",
     "text": [
      "      in on_lesson_page http://www.prathamopenschool.org/hn/Lesson/LES156\n"
     ]
    },
    {
     "name": "stderr",
     "output_type": "stream",
     "text": [
      "      content: 3082: परिपत घटक\n"
     ]
    },
    {
     "name": "stdout",
     "output_type": "stream",
     "text": [
      "      in on_lesson_page http://www.prathamopenschool.org/hn/Lesson/LES157\n"
     ]
    },
    {
     "name": "stderr",
     "output_type": "stream",
     "text": [
      "      content: 3083: अवतल दर्पण\n"
     ]
    },
    {
     "name": "stdout",
     "output_type": "stream",
     "text": [
      "      in on_lesson_page http://www.prathamopenschool.org/hn/Lesson/LES158\n"
     ]
    },
    {
     "name": "stderr",
     "output_type": "stream",
     "text": [
      "      content: 3084: पानी की बचाव कैसे करें?\n"
     ]
    },
    {
     "name": "stdout",
     "output_type": "stream",
     "text": [
      "      in on_lesson_page http://www.prathamopenschool.org/hn/Lesson/LES159\n"
     ]
    },
    {
     "name": "stderr",
     "output_type": "stream",
     "text": [
      "      content: 3085: धरती पर पानी\n"
     ]
    },
    {
     "name": "stdout",
     "output_type": "stream",
     "text": [
      "      in on_lesson_page http://www.prathamopenschool.org/hn/Lesson/LES160\n"
     ]
    },
    {
     "name": "stderr",
     "output_type": "stream",
     "text": [
      "      content: 3086: भोजन श्रृंखला\n"
     ]
    },
    {
     "name": "stdout",
     "output_type": "stream",
     "text": [
      "      in on_lesson_page http://www.prathamopenschool.org/hn/Lesson/LES161\n"
     ]
    },
    {
     "name": "stderr",
     "output_type": "stream",
     "text": [
      "      content: 3087: भोजन वेब\n"
     ]
    },
    {
     "name": "stdout",
     "output_type": "stream",
     "text": [
      "      in on_lesson_page http://www.prathamopenschool.org/hn/Lesson/LES162\n"
     ]
    },
    {
     "name": "stderr",
     "output_type": "stream",
     "text": [
      "      content: 3088: वायुमंडल पर वनों का प्रभाव\n"
     ]
    },
    {
     "name": "stdout",
     "output_type": "stream",
     "text": [
      "      in on_lesson_page http://www.prathamopenschool.org/hn/Lesson/LES163\n"
     ]
    },
    {
     "name": "stderr",
     "output_type": "stream",
     "text": [
      "      content: 3089: जंगल के लोग\n"
     ]
    },
    {
     "name": "stdout",
     "output_type": "stream",
     "text": [
      "      in on_lesson_page http://www.prathamopenschool.org/hn/Lesson/LES164\n"
     ]
    },
    {
     "name": "stderr",
     "output_type": "stream",
     "text": [
      "      content: 3090: गुणन को आसान बनाते हुए\n"
     ]
    },
    {
     "name": "stdout",
     "output_type": "stream",
     "text": [
      "      in on_lesson_page http://www.prathamopenschool.org/hn/Lesson/LES166\n"
     ]
    },
    {
     "name": "stderr",
     "output_type": "stream",
     "text": [
      "      content: 3091: पूर्णांकों का गुणा\n"
     ]
    },
    {
     "name": "stdout",
     "output_type": "stream",
     "text": [
      "      in on_lesson_page http://www.prathamopenschool.org/hn/Lesson/LES167\n"
     ]
    },
    {
     "name": "stderr",
     "output_type": "stream",
     "text": [
      "      content: 3092: 10,100 और 1000 से विभाजित\n"
     ]
    },
    {
     "name": "stdout",
     "output_type": "stream",
     "text": [
      "      in on_lesson_page http://www.prathamopenschool.org/hn/Lesson/LES168\n"
     ]
    },
    {
     "name": "stderr",
     "output_type": "stream",
     "text": [
      "      content: 3093: विभाजन का समय\n"
     ]
    },
    {
     "name": "stdout",
     "output_type": "stream",
     "text": [
      "      in on_lesson_page http://www.prathamopenschool.org/hn/Lesson/LES169\n"
     ]
    },
    {
     "name": "stderr",
     "output_type": "stream",
     "text": [
      "      content: 3094: गुणा करने का समय\n"
     ]
    },
    {
     "name": "stdout",
     "output_type": "stream",
     "text": [
      "      in on_lesson_page http://www.prathamopenschool.org/hn/Lesson/LES170\n"
     ]
    },
    {
     "name": "stderr",
     "output_type": "stream",
     "text": [
      "      content: 3095: 10, 100 और 1000 से गुणा करना\n"
     ]
    },
    {
     "name": "stdout",
     "output_type": "stream",
     "text": [
      "      in on_lesson_page http://www.prathamopenschool.org/hn/Lesson/LES171\n"
     ]
    },
    {
     "name": "stderr",
     "output_type": "stream",
     "text": [
      "      content: 3096: एक त्रिभुज में माध्यिका\n"
     ]
    },
    {
     "name": "stdout",
     "output_type": "stream",
     "text": [
      "      in on_lesson_page http://www.prathamopenschool.org/hn/Lesson/LES172\n"
     ]
    },
    {
     "name": "stderr",
     "output_type": "stream",
     "text": [
      "      content: 3097: पायथागोरस प्रमेय की जांच करना\n"
     ]
    },
    {
     "name": "stdout",
     "output_type": "stream",
     "text": [
      "      in on_lesson_page http://www.prathamopenschool.org/hn/Lesson/LES173\n"
     ]
    },
    {
     "name": "stderr",
     "output_type": "stream",
     "text": [
      "      content: 3098: अनुपात\n"
     ]
    },
    {
     "name": "stdout",
     "output_type": "stream",
     "text": [
      "      in on_lesson_page http://www.prathamopenschool.org/hn/Lesson/LES174\n"
     ]
    },
    {
     "name": "stderr",
     "output_type": "stream",
     "text": [
      "      content: 3099: प्रतिशत का रूपांतरण\n"
     ]
    },
    {
     "name": "stdout",
     "output_type": "stream",
     "text": [
      "      in on_lesson_page http://www.prathamopenschool.org/hn/Lesson/LES175\n"
     ]
    },
    {
     "name": "stderr",
     "output_type": "stream",
     "text": [
      "      content: 3100: परिमेय संख्या\n"
     ]
    },
    {
     "name": "stdout",
     "output_type": "stream",
     "text": [
      "      in on_lesson_page http://www.prathamopenschool.org/hn/Lesson/LES176\n"
     ]
    },
    {
     "name": "stderr",
     "output_type": "stream",
     "text": [
      "      content: 3101: परिमय संख्याओं का परिचय 1\n"
     ]
    },
    {
     "name": "stdout",
     "output_type": "stream",
     "text": [
      "      in on_lesson_page http://www.prathamopenschool.org/hn/Lesson/LES177\n"
     ]
    },
    {
     "name": "stderr",
     "output_type": "stream",
     "text": [
      "      content: 3102: समानांतर लाइनों का निर्माण\n"
     ]
    },
    {
     "name": "stdout",
     "output_type": "stream",
     "text": [
      "      in on_lesson_page http://www.prathamopenschool.org/hn/Lesson/LES178\n"
     ]
    },
    {
     "name": "stderr",
     "output_type": "stream",
     "text": [
      "      content: 3103: त्रिकोण का निर्माण\n"
     ]
    },
    {
     "name": "stdout",
     "output_type": "stream",
     "text": [
      "      in on_lesson_page http://www.prathamopenschool.org/hn/Lesson/LES179\n"
     ]
    },
    {
     "name": "stderr",
     "output_type": "stream",
     "text": [
      "      content: 3104: एक वृत्त का क्षेत्र\n"
     ]
    },
    {
     "name": "stdout",
     "output_type": "stream",
     "text": [
      "      in on_lesson_page http://www.prathamopenschool.org/hn/Lesson/LES180\n"
     ]
    },
    {
     "name": "stderr",
     "output_type": "stream",
     "text": [
      "      content: 3105: त्रिभुज और समानांतर चतुर्भुज\n"
     ]
    },
    {
     "name": "stdout",
     "output_type": "stream",
     "text": [
      "      in on_lesson_page http://www.prathamopenschool.org/hn/Lesson/LES181\n"
     ]
    },
    {
     "name": "stderr",
     "output_type": "stream",
     "text": [
      "      content: 3106: क्षेत्रफल की इकाइयाँ\n"
     ]
    },
    {
     "name": "stdout",
     "output_type": "stream",
     "text": [
      "      in on_lesson_page http://www.prathamopenschool.org/hn/Lesson/LES182\n"
     ]
    },
    {
     "name": "stderr",
     "output_type": "stream",
     "text": [
      "      content: 3107: बीजीय व्यंजक को जोड़ना और घटाना\n"
     ]
    },
    {
     "name": "stdout",
     "output_type": "stream",
     "text": [
      "      in on_lesson_page http://www.prathamopenschool.org/hn/Lesson/LES183\n"
     ]
    },
    {
     "name": "stderr",
     "output_type": "stream",
     "text": [
      "      content: 3108: बीजगणित का जादूगर\n"
     ]
    },
    {
     "name": "stdout",
     "output_type": "stream",
     "text": [
      "      in on_lesson_page http://www.prathamopenschool.org/hn/Lesson/LES184\n"
     ]
    },
    {
     "name": "stderr",
     "output_type": "stream",
     "text": [
      "      content: 3109: घातांकों के नियम\n"
     ]
    },
    {
     "name": "stdout",
     "output_type": "stream",
     "text": [
      "      in on_lesson_page http://www.prathamopenschool.org/hn/Lesson/LES185\n"
     ]
    },
    {
     "name": "stderr",
     "output_type": "stream",
     "text": [
      "      content: 3110: नियमित बहुभुजों में समरूपता\n"
     ]
    },
    {
     "name": "stdout",
     "output_type": "stream",
     "text": [
      "      in on_lesson_page http://www.prathamopenschool.org/hn/Lesson/LES186\n"
     ]
    },
    {
     "name": "stderr",
     "output_type": "stream",
     "text": [
      "      content: 3111: सतह, किनारे और शीर्ष\n"
     ]
    },
    {
     "name": "stdout",
     "output_type": "stream",
     "text": [
      "      in on_lesson_page http://www.prathamopenschool.org/hn/Lesson/LES187\n"
     ]
    },
    {
     "name": "stderr",
     "output_type": "stream",
     "text": [
      "      content: 3112: त्रि आयामी वस्तओं का रेखा चित्र\n"
     ]
    },
    {
     "name": "stdout",
     "output_type": "stream",
     "text": [
      "      in on_lesson_page http://www.prathamopenschool.org/hn/Lesson/LES188\n"
     ]
    },
    {
     "name": "stderr",
     "output_type": "stream",
     "text": [
      "      content: 3545: पशु पालन\n"
     ]
    },
    {
     "name": "stdout",
     "output_type": "stream",
     "text": [
      "      in on_lesson_page http://www.prathamopenschool.org/hn/Lesson/LES190\n"
     ]
    },
    {
     "name": "stderr",
     "output_type": "stream",
     "text": [
      "      content: 3546: भारत की जलवायु\n"
     ]
    },
    {
     "name": "stdout",
     "output_type": "stream",
     "text": [
      "      in on_lesson_page http://www.prathamopenschool.org/hn/Lesson/LES191\n"
     ]
    },
    {
     "name": "stderr",
     "output_type": "stream",
     "text": [
      "      content: 3547: खेतों की सिंचाई\n"
     ]
    },
    {
     "name": "stdout",
     "output_type": "stream",
     "text": [
      "      in on_lesson_page http://www.prathamopenschool.org/hn/Lesson/LES192\n"
     ]
    },
    {
     "name": "stderr",
     "output_type": "stream",
     "text": [
      "      content: 3548: मिट्टी में पोशाक्तात्वों के पुनर्भरण\n"
     ]
    },
    {
     "name": "stdout",
     "output_type": "stream",
     "text": [
      "      in on_lesson_page http://www.prathamopenschool.org/hn/Lesson/LES193\n"
     ]
    },
    {
     "name": "stderr",
     "output_type": "stream",
     "text": [
      "      content: 3549: मिट्टी तैयार करने के चरण\n"
     ]
    },
    {
     "name": "stdout",
     "output_type": "stream",
     "text": [
      "      in on_lesson_page http://www.prathamopenschool.org/hn/Lesson/LES194\n"
     ]
    },
    {
     "name": "stderr",
     "output_type": "stream",
     "text": [
      "      content: 3550: बीज चयन\n"
     ]
    },
    {
     "name": "stdout",
     "output_type": "stream",
     "text": [
      "      in on_lesson_page http://www.prathamopenschool.org/hn/Lesson/LES195\n"
     ]
    },
    {
     "name": "stderr",
     "output_type": "stream",
     "text": [
      "      content: 3551: रोगों से लड़ने के लिए टीकाकरण\n"
     ]
    },
    {
     "name": "stdout",
     "output_type": "stream",
     "text": [
      "      in on_lesson_page http://www.prathamopenschool.org/hn/Lesson/LES196\n"
     ]
    },
    {
     "name": "stderr",
     "output_type": "stream",
     "text": [
      "      content: 3552: राइजोबियम जीवाणु\n"
     ]
    },
    {
     "name": "stdout",
     "output_type": "stream",
     "text": [
      "      in on_lesson_page http://www.prathamopenschool.org/hn/Lesson/LES197\n"
     ]
    },
    {
     "name": "stderr",
     "output_type": "stream",
     "text": [
      "      content: 3553: पिनिसिल्लिन की कहानी\n"
     ]
    },
    {
     "name": "stdout",
     "output_type": "stream",
     "text": [
      "      in on_lesson_page http://www.prathamopenschool.org/hn/Lesson/LES198\n"
     ]
    },
    {
     "name": "stderr",
     "output_type": "stream",
     "text": [
      "      content: 3554: संश्लेशित रेशो की कहानी\n"
     ]
    },
    {
     "name": "stdout",
     "output_type": "stream",
     "text": [
      "      in on_lesson_page http://www.prathamopenschool.org/hn/Lesson/LES199\n"
     ]
    },
    {
     "name": "stderr",
     "output_type": "stream",
     "text": [
      "      content: 3555: एकलक एवं बहुलक\n"
     ]
    },
    {
     "name": "stdout",
     "output_type": "stream",
     "text": [
      "      in on_lesson_page http://www.prathamopenschool.org/hn/Lesson/LES200\n"
     ]
    },
    {
     "name": "stderr",
     "output_type": "stream",
     "text": [
      "      content: 3556: पानी के साथ धातुओं और गैर धातु प्रतिक्रियाएं\n"
     ]
    },
    {
     "name": "stdout",
     "output_type": "stream",
     "text": [
      "      in on_lesson_page http://www.prathamopenschool.org/hn/Lesson/LES201\n"
     ]
    },
    {
     "name": "stderr",
     "output_type": "stream",
     "text": [
      "      content: 3557: कार्बनीकरण\n"
     ]
    },
    {
     "name": "stdout",
     "output_type": "stream",
     "text": [
      "      in on_lesson_page http://www.prathamopenschool.org/hn/Lesson/LES202\n"
     ]
    },
    {
     "name": "stderr",
     "output_type": "stream",
     "text": [
      "      content: 3558: पेट्रोलियम और प्राकृतिक गैस का निर्माण\n"
     ]
    },
    {
     "name": "stdout",
     "output_type": "stream",
     "text": [
      "      in on_lesson_page http://www.prathamopenschool.org/hn/Lesson/LES203\n"
     ]
    },
    {
     "name": "stderr",
     "output_type": "stream",
     "text": [
      "      content: 3559: संसाधनों का सावधानीपूर्वक उपयोग\n"
     ]
    },
    {
     "name": "stdout",
     "output_type": "stream",
     "text": [
      "      in on_lesson_page http://www.prathamopenschool.org/hn/Lesson/LES204\n"
     ]
    },
    {
     "name": "stderr",
     "output_type": "stream",
     "text": [
      "      content: 3560: जंगल का पहरा\n"
     ]
    },
    {
     "name": "stdout",
     "output_type": "stream",
     "text": [
      "      in on_lesson_page http://www.prathamopenschool.org/hn/Lesson/LES205\n"
     ]
    },
    {
     "name": "stderr",
     "output_type": "stream",
     "text": [
      "      content: 3561: एक कोशिय एवं बहुकोशिय जीव\n"
     ]
    },
    {
     "name": "stdout",
     "output_type": "stream",
     "text": [
      "      in on_lesson_page http://www.prathamopenschool.org/hn/Lesson/LES206\n"
     ]
    },
    {
     "name": "stderr",
     "output_type": "stream",
     "text": [
      "      content: 3562: मादा जनन प्रणाली\n"
     ]
    },
    {
     "name": "stdout",
     "output_type": "stream",
     "text": [
      "      in on_lesson_page http://www.prathamopenschool.org/hn/Lesson/LES207\n"
     ]
    },
    {
     "name": "stderr",
     "output_type": "stream",
     "text": [
      "      content: 3563: निशेचन से भ्रूण\n"
     ]
    },
    {
     "name": "stdout",
     "output_type": "stream",
     "text": [
      "      in on_lesson_page http://www.prathamopenschool.org/hn/Lesson/LES208\n"
     ]
    },
    {
     "name": "stderr",
     "output_type": "stream",
     "text": [
      "      content: 3564: सजीव किस प्रकार से प्रजनन करते है?\n"
     ]
    },
    {
     "name": "stdout",
     "output_type": "stream",
     "text": [
      "      in on_lesson_page http://www.prathamopenschool.org/hn/Lesson/LES209\n"
     ]
    },
    {
     "name": "stderr",
     "output_type": "stream",
     "text": [
      "      content: 3565: नर जनन प्रक्रिया\n"
     ]
    },
    {
     "name": "stdout",
     "output_type": "stream",
     "text": [
      "      in on_lesson_page http://www.prathamopenschool.org/hn/Lesson/LES210\n"
     ]
    },
    {
     "name": "stderr",
     "output_type": "stream",
     "text": [
      "      content: 3566: प्रजनन चरण और लिंग निर्धारण\n"
     ]
    },
    {
     "name": "stdout",
     "output_type": "stream",
     "text": [
      "      in on_lesson_page http://www.prathamopenschool.org/hn/Lesson/LES211\n"
     ]
    },
    {
     "name": "stderr",
     "output_type": "stream",
     "text": [
      "      content: 3567: किशोरावस्था के दौरान आपका शरीर\n"
     ]
    },
    {
     "name": "stdout",
     "output_type": "stream",
     "text": [
      "      in on_lesson_page http://www.prathamopenschool.org/hn/Lesson/LES212\n"
     ]
    },
    {
     "name": "stderr",
     "output_type": "stream",
     "text": [
      "      content: 3568: घर्षण के प्रकार\n"
     ]
    },
    {
     "name": "stdout",
     "output_type": "stream",
     "text": [
      "      in on_lesson_page http://www.prathamopenschool.org/hn/Lesson/LES213\n"
     ]
    },
    {
     "name": "stderr",
     "output_type": "stream",
     "text": [
      "      content: 3569: ताम्बे का विद्युत्लेपन\n"
     ]
    },
    {
     "name": "stdout",
     "output_type": "stream",
     "text": [
      "      in on_lesson_page http://www.prathamopenschool.org/hn/Lesson/LES214\n"
     ]
    },
    {
     "name": "stderr",
     "output_type": "stream",
     "text": [
      "      content: 3570: आकाशीय बिजली\n"
     ]
    },
    {
     "name": "stdout",
     "output_type": "stream",
     "text": [
      "      in on_lesson_page http://www.prathamopenschool.org/hn/Lesson/LES215\n"
     ]
    },
    {
     "name": "stderr",
     "output_type": "stream",
     "text": [
      "      content: 3571: पानी पीने योग्य बनाना\n"
     ]
    },
    {
     "name": "stdout",
     "output_type": "stream",
     "text": [
      "      in on_lesson_page http://www.prathamopenschool.org/hn/Lesson/LES216\n"
     ]
    },
    {
     "name": "stderr",
     "output_type": "stream",
     "text": [
      "      content: 3572: परिमे य संख्याओं का परिचय\n"
     ]
    },
    {
     "name": "stdout",
     "output_type": "stream",
     "text": [
      "      in on_lesson_page http://www.prathamopenschool.org/hn/Lesson/LES218\n"
     ]
    },
    {
     "name": "stderr",
     "output_type": "stream",
     "text": [
      "      content: 3573: परिमेय संख्याओं\n"
     ]
    },
    {
     "name": "stdout",
     "output_type": "stream",
     "text": [
      "      in on_lesson_page http://www.prathamopenschool.org/hn/Lesson/LES219\n"
     ]
    },
    {
     "name": "stderr",
     "output_type": "stream",
     "text": [
      "      content: 3574: एक चतुर्भुज के कोणों का योग\n"
     ]
    },
    {
     "name": "stdout",
     "output_type": "stream",
     "text": [
      "      in on_lesson_page http://www.prathamopenschool.org/hn/Lesson/LES220\n"
     ]
    },
    {
     "name": "stderr",
     "output_type": "stream",
     "text": [
      "      content: 3575: एक चतुर्भुज का निर्माण\n"
     ]
    },
    {
     "name": "stdout",
     "output_type": "stream",
     "text": [
      "      in on_lesson_page http://www.prathamopenschool.org/hn/Lesson/LES221\n"
     ]
    },
    {
     "name": "stderr",
     "output_type": "stream",
     "text": [
      "      content: 3576: कोण का निर्माण- दोहराना\n"
     ]
    },
    {
     "name": "stdout",
     "output_type": "stream",
     "text": [
      "      in on_lesson_page http://www.prathamopenschool.org/hn/Lesson/LES222\n"
     ]
    },
    {
     "name": "stderr",
     "output_type": "stream",
     "text": [
      "      content: 3577: स्थिर त्रिकोण\n"
     ]
    },
    {
     "name": "stdout",
     "output_type": "stream",
     "text": [
      "      in on_lesson_page http://www.prathamopenschool.org/hn/Lesson/LES223\n"
     ]
    },
    {
     "name": "stderr",
     "output_type": "stream",
     "text": [
      "      content: 3578: वृत्त चार्ट बनाना सीखें\n"
     ]
    },
    {
     "name": "stdout",
     "output_type": "stream",
     "text": [
      "      in on_lesson_page http://www.prathamopenschool.org/hn/Lesson/LES224\n"
     ]
    },
    {
     "name": "stderr",
     "output_type": "stream",
     "text": [
      "      content: 3579: आकड़ों को व्यवस्थित करना\n"
     ]
    },
    {
     "name": "stdout",
     "output_type": "stream",
     "text": [
      "      in on_lesson_page http://www.prathamopenschool.org/hn/Lesson/LES225\n"
     ]
    },
    {
     "name": "stderr",
     "output_type": "stream",
     "text": [
      "      content: 3580: वितरण नियम का इस्तेमाल का वर्ग की गणना करना\n"
     ]
    },
    {
     "name": "stdout",
     "output_type": "stream",
     "text": [
      "      in on_lesson_page http://www.prathamopenschool.org/hn/Lesson/LES226\n"
     ]
    },
    {
     "name": "stderr",
     "output_type": "stream",
     "text": [
      "      content: 3581: वर्ग संख्याओं मे पैटर्न्स\n"
     ]
    },
    {
     "name": "stdout",
     "output_type": "stream",
     "text": [
      "      in on_lesson_page http://www.prathamopenschool.org/hn/Lesson/LES227\n"
     ]
    },
    {
     "name": "stderr",
     "output_type": "stream",
     "text": [
      "      content: 3582: वर्ग संख्याओं के नियम\n"
     ]
    },
    {
     "name": "stdout",
     "output_type": "stream",
     "text": [
      "      in on_lesson_page http://www.prathamopenschool.org/hn/Lesson/LES228\n"
     ]
    },
    {
     "name": "stderr",
     "output_type": "stream",
     "text": [
      "      content: 3583: अभाज्य गुनंखंड से वर्गमूल निकालना\n"
     ]
    },
    {
     "name": "stdout",
     "output_type": "stream",
     "text": [
      "      in on_lesson_page http://www.prathamopenschool.org/hn/Lesson/LES229\n"
     ]
    },
    {
     "name": "stderr",
     "output_type": "stream",
     "text": [
      "      content: 3584: अनुमान से घन मूल निकालना\n"
     ]
    },
    {
     "name": "stdout",
     "output_type": "stream",
     "text": [
      "      in on_lesson_page http://www.prathamopenschool.org/hn/Lesson/LES230\n"
     ]
    },
    {
     "name": "stderr",
     "output_type": "stream",
     "text": [
      "      content: 3585: संख्या का घनमूल ज्ञात करना\n"
     ]
    },
    {
     "name": "stdout",
     "output_type": "stream",
     "text": [
      "      in on_lesson_page http://www.prathamopenschool.org/hn/Lesson/LES231\n"
     ]
    },
    {
     "name": "stderr",
     "output_type": "stream",
     "text": [
      "      content: 3586: अभाज्य गुनंखंड से घनमूल निकालना\n"
     ]
    },
    {
     "name": "stdout",
     "output_type": "stream",
     "text": [
      "      in on_lesson_page http://www.prathamopenschool.org/hn/Lesson/LES232\n"
     ]
    },
    {
     "name": "stderr",
     "output_type": "stream",
     "text": [
      "      content: 3587: सावधि जमा करना\n"
     ]
    },
    {
     "name": "stdout",
     "output_type": "stream",
     "text": [
      "      in on_lesson_page http://www.prathamopenschool.org/hn/Lesson/LES233\n"
     ]
    },
    {
     "name": "stderr",
     "output_type": "stream",
     "text": [
      "      content: 3588: छूट और छूट प्रतिशत की गणना करना\n"
     ]
    },
    {
     "name": "stdout",
     "output_type": "stream",
     "text": [
      "      in on_lesson_page http://www.prathamopenschool.org/hn/Lesson/LES234\n"
     ]
    },
    {
     "name": "stderr",
     "output_type": "stream",
     "text": [
      "      content: 3589: बीजीय व्यंजक का गुणा\n"
     ]
    },
    {
     "name": "stdout",
     "output_type": "stream",
     "text": [
      "      in on_lesson_page http://www.prathamopenschool.org/hn/Lesson/LES235\n"
     ]
    },
    {
     "name": "stderr",
     "output_type": "stream",
     "text": [
      "      content: 3590: बीजगणित का जादूगर\n"
     ]
    },
    {
     "name": "stdout",
     "output_type": "stream",
     "text": [
      "      in on_lesson_page http://www.prathamopenschool.org/hn/Lesson/LES236\n"
     ]
    },
    {
     "name": "stderr",
     "output_type": "stream",
     "text": [
      "      content: 3591: एक ठोस के सतह क्षेत्रफल\n"
     ]
    },
    {
     "name": "stdout",
     "output_type": "stream",
     "text": [
      "      in on_lesson_page http://www.prathamopenschool.org/hn/Lesson/LES237\n"
     ]
    },
    {
     "name": "stderr",
     "output_type": "stream",
     "text": [
      "      content: 3592: घनाभ, घन और बेलन का आयतन\n"
     ]
    },
    {
     "name": "stdout",
     "output_type": "stream",
     "text": [
      "      in on_lesson_page http://www.prathamopenschool.org/hn/Lesson/LES238\n"
     ]
    },
    {
     "name": "stderr",
     "output_type": "stream",
     "text": [
      "      content: 3593: बड़ी संख्याओं का वस्तारित रूप घातांक के रूप\n"
     ]
    },
    {
     "name": "stdout",
     "output_type": "stream",
     "text": [
      "      in on_lesson_page http://www.prathamopenschool.org/hn/Lesson/LES239\n"
     ]
    },
    {
     "name": "stderr",
     "output_type": "stream",
     "text": [
      "      content: 3594: मानक रूप मे संख्या\n"
     ]
    },
    {
     "name": "stdout",
     "output_type": "stream",
     "text": [
      "      in on_lesson_page http://www.prathamopenschool.org/hn/Lesson/LES240\n"
     ]
    },
    {
     "name": "stderr",
     "output_type": "stream",
     "text": [
      "      content: 3595: घातांक के नियमो को समझे\n"
     ]
    },
    {
     "name": "stdout",
     "output_type": "stream",
     "text": [
      "      in on_lesson_page http://www.prathamopenschool.org/hn/Lesson/LES241\n"
     ]
    },
    {
     "name": "stderr",
     "output_type": "stream",
     "text": [
      "      content: 3596: सीधा अनुपात\n"
     ]
    },
    {
     "name": "stdout",
     "output_type": "stream",
     "text": [
      "      in on_lesson_page http://www.prathamopenschool.org/hn/Lesson/LES242\n"
     ]
    },
    {
     "name": "stderr",
     "output_type": "stream",
     "text": [
      "      content: 3597: व्युत क्रमनुपात\n"
     ]
    },
    {
     "name": "stdout",
     "output_type": "stream",
     "text": [
      "      in on_lesson_page http://www.prathamopenschool.org/hn/Lesson/LES243\n"
     ]
    },
    {
     "name": "stderr",
     "output_type": "stream",
     "text": [
      "      content: 3598: बीजीय व्यंजक\n"
     ]
    },
    {
     "name": "stdout",
     "output_type": "stream",
     "text": [
      "      in on_lesson_page http://www.prathamopenschool.org/hn/Lesson/LES244\n"
     ]
    },
    {
     "name": "stderr",
     "output_type": "stream",
     "text": [
      "      content: 3599: बीजीय व्यनको गुणनखंड निकलाने की विधि\n"
     ]
    },
    {
     "name": "stdout",
     "output_type": "stream",
     "text": [
      "      in on_lesson_page http://www.prathamopenschool.org/hn/Lesson/LES245\n"
     ]
    },
    {
     "name": "stderr",
     "output_type": "stream",
     "text": [
      "      content: 3600: आलेख का परिचय\n"
     ]
    },
    {
     "name": "stdout",
     "output_type": "stream",
     "text": [
      "      in on_lesson_page http://www.prathamopenschool.org/hn/Lesson/LES246\n"
     ]
    },
    {
     "name": "stderr",
     "output_type": "stream",
     "text": [
      "      content: 3601: मैथ ट्रिक्स\n"
     ]
    },
    {
     "name": "stdout",
     "output_type": "stream",
     "text": [
      "      in on_lesson_page http://www.prathamopenschool.org/hn/Lesson/LES247\n"
     ]
    },
    {
     "name": "stderr",
     "output_type": "stream",
     "text": [
      "      content: 3113: अवस्था परिवर्तन\n"
     ]
    },
    {
     "name": "stdout",
     "output_type": "stream",
     "text": [
      "      in on_lesson_page http://www.prathamopenschool.org/hn/Lesson/LES249\n"
     ]
    },
    {
     "name": "stderr",
     "output_type": "stream",
     "text": [
      "      content: 03114: गतिज उर्जा और स्थितिज उर्जा\n"
     ]
    },
    {
     "name": "stdout",
     "output_type": "stream",
     "text": [
      "      in on_lesson_page http://www.prathamopenschool.org/hn/Lesson/LES250\n"
     ]
    },
    {
     "name": "stderr",
     "output_type": "stream",
     "text": [
      "      content: 03115: ध्वनी तरंग की आवृत्ती\n"
     ]
    },
    {
     "name": "stdout",
     "output_type": "stream",
     "text": [
      "      in on_lesson_page http://www.prathamopenschool.org/hn/Lesson/LES251\n"
     ]
    },
    {
     "name": "stderr",
     "output_type": "stream",
     "text": [
      "      content: 31161: प्रतिरक्षण तंत्र\n"
     ]
    },
    {
     "name": "stdout",
     "output_type": "stream",
     "text": [
      "      in on_lesson_page http://www.prathamopenschool.org/hn/Lesson/LES252\n"
     ]
    },
    {
     "name": "stderr",
     "output_type": "stream",
     "text": [
      "      content: 3117: सूजन प्रतिक्रिया\n"
     ]
    },
    {
     "name": "stdout",
     "output_type": "stream",
     "text": [
      "      in on_lesson_page http://www.prathamopenschool.org/hn/Lesson/LES253\n"
     ]
    },
    {
     "name": "stderr",
     "output_type": "stream",
     "text": [
      "      content: 3118: संक्रामक रोग\n"
     ]
    },
    {
     "name": "stdout",
     "output_type": "stream",
     "text": [
      "      in on_lesson_page http://www.prathamopenschool.org/hn/Lesson/LES254\n"
     ]
    },
    {
     "name": "stderr",
     "output_type": "stream",
     "text": [
      "      content: 3119: रोग और लक्षण\n"
     ]
    },
    {
     "name": "stdout",
     "output_type": "stream",
     "text": [
      "      in on_lesson_page http://www.prathamopenschool.org/hn/Lesson/LES255\n"
     ]
    },
    {
     "name": "stderr",
     "output_type": "stream",
     "text": [
      "      content: 3120: लक्षण और रोग\n"
     ]
    },
    {
     "name": "stdout",
     "output_type": "stream",
     "text": [
      "      in on_lesson_page http://www.prathamopenschool.org/hn/Lesson/LES256\n"
     ]
    },
    {
     "name": "stderr",
     "output_type": "stream",
     "text": [
      "      content: 3121: वायुमंडल\n"
     ]
    },
    {
     "name": "stdout",
     "output_type": "stream",
     "text": [
      "      in on_lesson_page http://www.prathamopenschool.org/hn/Lesson/LES257\n"
     ]
    },
    {
     "name": "stderr",
     "output_type": "stream",
     "text": [
      "      content: 3122: कार्बन और इसकी उपस्थिति\n"
     ]
    },
    {
     "name": "stdout",
     "output_type": "stream",
     "text": [
      "      in on_lesson_page http://www.prathamopenschool.org/hn/Lesson/LES258\n"
     ]
    },
    {
     "name": "stderr",
     "output_type": "stream",
     "text": [
      "      content: 3123: नाइट्रोजन - क्या ये लाभदय है?\n"
     ]
    },
    {
     "name": "stdout",
     "output_type": "stream",
     "text": [
      "      in on_lesson_page http://www.prathamopenschool.org/hn/Lesson/LES259\n"
     ]
    },
    {
     "name": "stderr",
     "output_type": "stream",
     "text": [
      "      content: 3124: पशु पालन\n"
     ]
    },
    {
     "name": "stdout",
     "output_type": "stream",
     "text": [
      "      in on_lesson_page http://www.prathamopenschool.org/hn/Lesson/LES260\n"
     ]
    },
    {
     "name": "stderr",
     "output_type": "stream",
     "text": [
      "      content: 3125: मछली - प्रोटीन स्त्रोत\n"
     ]
    },
    {
     "name": "stdout",
     "output_type": "stream",
     "text": [
      "      in on_lesson_page http://www.prathamopenschool.org/hn/Lesson/LES261\n"
     ]
    },
    {
     "name": "stderr",
     "output_type": "stream",
     "text": [
      "      content: 3127: मिश्रण के प्रकार\n"
     ]
    },
    {
     "name": "stdout",
     "output_type": "stream",
     "text": [
      "      in on_lesson_page http://www.prathamopenschool.org/hn/Lesson/LES263\n"
     ]
    },
    {
     "name": "stderr",
     "output_type": "stream",
     "text": [
      "      content: 3128: मिश्रणों को घटकों को पृथक करने की विधियाँ - 1\n"
     ]
    },
    {
     "name": "stdout",
     "output_type": "stream",
     "text": [
      "      in on_lesson_page http://www.prathamopenschool.org/hn/Lesson/LES264\n"
     ]
    },
    {
     "name": "stderr",
     "output_type": "stream",
     "text": [
      "      content: 3129: मिश्रणों को घटकों को पृथक करने की विधियाँ - 2\n"
     ]
    },
    {
     "name": "stdout",
     "output_type": "stream",
     "text": [
      "      in on_lesson_page http://www.prathamopenschool.org/hn/Lesson/LES265\n"
     ]
    },
    {
     "name": "stderr",
     "output_type": "stream",
     "text": [
      "      content: 3130: मिश्रणों को घटकों को पृथक करने की विधियाँ - 3\n"
     ]
    },
    {
     "name": "stdout",
     "output_type": "stream",
     "text": [
      "      in on_lesson_page http://www.prathamopenschool.org/hn/Lesson/LES266\n"
     ]
    },
    {
     "name": "stderr",
     "output_type": "stream",
     "text": [
      "      content: 3131: एक तत्व का का प्रतीक\n"
     ]
    },
    {
     "name": "stdout",
     "output_type": "stream",
     "text": [
      "      in on_lesson_page http://www.prathamopenschool.org/hn/Lesson/LES267\n"
     ]
    },
    {
     "name": "stderr",
     "output_type": "stream",
     "text": [
      "      content: 3132: आणिवक द्रव्यमान\n"
     ]
    },
    {
     "name": "stdout",
     "output_type": "stream",
     "text": [
      "      in on_lesson_page http://www.prathamopenschool.org/hn/Lesson/LES268\n"
     ]
    },
    {
     "name": "stderr",
     "output_type": "stream",
     "text": [
      "      content: 3133: सबसे छोटा कण\n"
     ]
    },
    {
     "name": "stdout",
     "output_type": "stream",
     "text": [
      "      in on_lesson_page http://www.prathamopenschool.org/hn/Lesson/LES269\n"
     ]
    },
    {
     "name": "stderr",
     "output_type": "stream",
     "text": [
      "      content: 3134: द्रव्यमान संरक्षण का नीयम\n"
     ]
    },
    {
     "name": "stdout",
     "output_type": "stream",
     "text": [
      "      in on_lesson_page http://www.prathamopenschool.org/hn/Lesson/LES270\n"
     ]
    },
    {
     "name": "stderr",
     "output_type": "stream",
     "text": [
      "      content: 3135: आयन\n"
     ]
    },
    {
     "name": "stdout",
     "output_type": "stream",
     "text": [
      "      in on_lesson_page http://www.prathamopenschool.org/hn/Lesson/LES271\n"
     ]
    },
    {
     "name": "stderr",
     "output_type": "stream",
     "text": [
      "      content: 3136: मोल क्या हैं\n"
     ]
    },
    {
     "name": "stdout",
     "output_type": "stream",
     "text": [
      "      in on_lesson_page http://www.prathamopenschool.org/hn/Lesson/LES272\n"
     ]
    },
    {
     "name": "stderr",
     "output_type": "stream",
     "text": [
      "      content: 3137: कक्षाओं में इलेक्ट्रान\n"
     ]
    },
    {
     "name": "stdout",
     "output_type": "stream",
     "text": [
      "      in on_lesson_page http://www.prathamopenschool.org/hn/Lesson/LES273\n"
     ]
    },
    {
     "name": "stderr",
     "output_type": "stream",
     "text": [
      "      content: 3138: समस्थानिक\n"
     ]
    },
    {
     "name": "stdout",
     "output_type": "stream",
     "text": [
      "      in on_lesson_page http://www.prathamopenschool.org/hn/Lesson/LES274\n"
     ]
    },
    {
     "name": "stderr",
     "output_type": "stream",
     "text": [
      "      content: 3139: परमाणु की संरचना\n"
     ]
    },
    {
     "name": "stdout",
     "output_type": "stream",
     "text": [
      "      in on_lesson_page http://www.prathamopenschool.org/hn/Lesson/LES275\n"
     ]
    },
    {
     "name": "stderr",
     "output_type": "stream",
     "text": [
      "      content: 3140: वापस्पति ऊतक\n"
     ]
    },
    {
     "name": "stdout",
     "output_type": "stream",
     "text": [
      "      in on_lesson_page http://www.prathamopenschool.org/hn/Lesson/LES276\n"
     ]
    },
    {
     "name": "stderr",
     "output_type": "stream",
     "text": [
      "      content: 3141: जटिल स्थायी ऊतक\n"
     ]
    },
    {
     "name": "stdout",
     "output_type": "stream",
     "text": [
      "      in on_lesson_page http://www.prathamopenschool.org/hn/Lesson/LES277\n"
     ]
    },
    {
     "name": "stderr",
     "output_type": "stream",
     "text": [
      "      content: 3142: संयोजी ऊतक और तंत्रिका ऊतक\n"
     ]
    },
    {
     "name": "stdout",
     "output_type": "stream",
     "text": [
      "      in on_lesson_page http://www.prathamopenschool.org/hn/Lesson/LES278\n"
     ]
    },
    {
     "name": "stderr",
     "output_type": "stream",
     "text": [
      "      content: 3143: पादप ऊतक\n"
     ]
    },
    {
     "name": "stdout",
     "output_type": "stream",
     "text": [
      "      in on_lesson_page http://www.prathamopenschool.org/hn/Lesson/LES279\n"
     ]
    },
    {
     "name": "stderr",
     "output_type": "stream",
     "text": [
      "      content: 3144: ऊतकों के प्रकार\n"
     ]
    },
    {
     "name": "stdout",
     "output_type": "stream",
     "text": [
      "      in on_lesson_page http://www.prathamopenschool.org/hn/Lesson/LES280\n"
     ]
    },
    {
     "name": "stderr",
     "output_type": "stream",
     "text": [
      "      content: 3145: वनस्पति वर्गीकरण\n"
     ]
    },
    {
     "name": "stdout",
     "output_type": "stream",
     "text": [
      "      in on_lesson_page http://www.prathamopenschool.org/hn/Lesson/LES281\n"
     ]
    },
    {
     "name": "stderr",
     "output_type": "stream",
     "text": [
      "      content: 3146: वन्यजीवन भ्रमण\n"
     ]
    },
    {
     "name": "stdout",
     "output_type": "stream",
     "text": [
      "      in on_lesson_page http://www.prathamopenschool.org/hn/Lesson/LES282\n"
     ]
    },
    {
     "name": "stderr",
     "output_type": "stream",
     "text": [
      "      content: 3147: बालों के प्रकार\n"
     ]
    },
    {
     "name": "stdout",
     "output_type": "stream",
     "text": [
      "      in on_lesson_page http://www.prathamopenschool.org/hn/Lesson/LES283\n"
     ]
    },
    {
     "name": "stderr",
     "output_type": "stream",
     "text": [
      "      content: 3148: न्यूटन का गति का दूसरा नियम\n"
     ]
    },
    {
     "name": "stdout",
     "output_type": "stream",
     "text": [
      "      in on_lesson_page http://www.prathamopenschool.org/hn/Lesson/LES284\n"
     ]
    },
    {
     "name": "stderr",
     "output_type": "stream",
     "text": [
      "      content: 3149: समय से संख्या पद्धति\n"
     ]
    },
    {
     "name": "stdout",
     "output_type": "stream",
     "text": [
      "      in on_lesson_page http://www.prathamopenschool.org/hn/Lesson/LES286\n"
     ]
    },
    {
     "name": "stderr",
     "output_type": "stream",
     "text": [
      "      content: 3150: कई बिंदुओं के माध्यम से चक्र\n"
     ]
    },
    {
     "name": "stdout",
     "output_type": "stream",
     "text": [
      "      in on_lesson_page http://www.prathamopenschool.org/hn/Lesson/LES287\n"
     ]
    },
    {
     "name": "stderr",
     "output_type": "stream",
     "text": [
      "      content: 3151: लम्ब-समद्विभाजक - रचना\n"
     ]
    },
    {
     "name": "stdout",
     "output_type": "stream",
     "text": [
      "      in on_lesson_page http://www.prathamopenschool.org/hn/Lesson/LES288\n"
     ]
    },
    {
     "name": "stderr",
     "output_type": "stream",
     "text": [
      "      content: 3152: कोण समद्विभाजक की रचना\n"
     ]
    },
    {
     "name": "stdout",
     "output_type": "stream",
     "text": [
      "      in on_lesson_page http://www.prathamopenschool.org/hn/Lesson/LES289\n"
     ]
    },
    {
     "name": "stderr",
     "output_type": "stream",
     "text": [
      "      content: 3153: 60 ° कोण\n"
     ]
    },
    {
     "name": "stdout",
     "output_type": "stream",
     "text": [
      "      in on_lesson_page http://www.prathamopenschool.org/hn/Lesson/LES290\n"
     ]
    },
    {
     "name": "stderr",
     "output_type": "stream",
     "text": [
      "      content: 3154: त्रिभुज की रचना - विधि 1\n"
     ]
    },
    {
     "name": "stdout",
     "output_type": "stream",
     "text": [
      "      in on_lesson_page http://www.prathamopenschool.org/hn/Lesson/LES291\n"
     ]
    },
    {
     "name": "stderr",
     "output_type": "stream",
     "text": [
      "      content: 3155: त्रिभुज की रचना - विधि 2\n"
     ]
    },
    {
     "name": "stdout",
     "output_type": "stream",
     "text": [
      "      in on_lesson_page http://www.prathamopenschool.org/hn/Lesson/LES292\n"
     ]
    },
    {
     "name": "stderr",
     "output_type": "stream",
     "text": [
      "      content: 3156: हीरोन का सूत्र\n"
     ]
    },
    {
     "name": "stdout",
     "output_type": "stream",
     "text": [
      "      in on_lesson_page http://www.prathamopenschool.org/hn/Lesson/LES293\n"
     ]
    },
    {
     "name": "stderr",
     "output_type": "stream",
     "text": [
      "      content: 3157: लंब वृतीय शंकु का पृष्ट क्षेत्र\n"
     ]
    },
    {
     "name": "stdout",
     "output_type": "stream",
     "text": [
      "      in on_lesson_page http://www.prathamopenschool.org/hn/Lesson/LES294\n"
     ]
    },
    {
     "name": "stderr",
     "output_type": "stream",
     "text": [
      "      content: 3158: एक गोले का पृष्ठी क्षेत्रफल\n"
     ]
    },
    {
     "name": "stdout",
     "output_type": "stream",
     "text": [
      "      in on_lesson_page http://www.prathamopenschool.org/hn/Lesson/LES295\n"
     ]
    },
    {
     "name": "stderr",
     "output_type": "stream",
     "text": [
      "      content: 3159: घनाभ, घन का पृष्ठी क्षेत्रफल ?\n"
     ]
    },
    {
     "name": "stdout",
     "output_type": "stream",
     "text": [
      "      in on_lesson_page http://www.prathamopenschool.org/hn/Lesson/LES296\n"
     ]
    },
    {
     "name": "stderr",
     "output_type": "stream",
     "text": [
      "      content: 3160: शंकु, गोला और अर्ध गोला का आयतन\n"
     ]
    },
    {
     "name": "stdout",
     "output_type": "stream",
     "text": [
      "      in on_lesson_page http://www.prathamopenschool.org/hn/Lesson/LES297\n"
     ]
    },
    {
     "name": "stderr",
     "output_type": "stream",
     "text": [
      "      content: 3161: घनाभ, घन और बेलन का आयतन\n"
     ]
    },
    {
     "name": "stdout",
     "output_type": "stream",
     "text": [
      "      in on_lesson_page http://www.prathamopenschool.org/hn/Lesson/LES298\n"
     ]
    },
    {
     "name": "stderr",
     "output_type": "stream",
     "text": [
      "      content: 3162: आयत चित्र\n"
     ]
    },
    {
     "name": "stdout",
     "output_type": "stream",
     "text": [
      "      in on_lesson_page http://www.prathamopenschool.org/hn/Lesson/LES299\n"
     ]
    },
    {
     "name": "stderr",
     "output_type": "stream",
     "text": [
      "      content: 3163: केंद्रीय प्रवृत्ती की मापों की गणना करना:माध्य\n"
     ]
    },
    {
     "name": "stdout",
     "output_type": "stream",
     "text": [
      "      in on_lesson_page http://www.prathamopenschool.org/hn/Lesson/LES300\n"
     ]
    },
    {
     "name": "stderr",
     "output_type": "stream",
     "text": [
      "      content: 3164: बारंबारता बंटन सारणी\n"
     ]
    },
    {
     "name": "stdout",
     "output_type": "stream",
     "text": [
      "      in on_lesson_page http://www.prathamopenschool.org/hn/Lesson/LES301\n"
     ]
    },
    {
     "name": "stderr",
     "output_type": "stream",
     "text": [
      "      content: 3165: प्रायिकता: आनुभविक बनाम सौध्दांतिक\n"
     ]
    },
    {
     "name": "stdout",
     "output_type": "stream",
     "text": [
      "      in on_lesson_page http://www.prathamopenschool.org/hn/Lesson/LES302\n"
     ]
    },
    {
     "name": "stderr",
     "output_type": "stream",
     "text": [
      "      content: 3166: पास्कल का त्रिकोण\n"
     ]
    },
    {
     "name": "stdout",
     "output_type": "stream",
     "text": [
      "      in on_lesson_page http://www.prathamopenschool.org/hn/Lesson/LES303\n"
     ]
    },
    {
     "name": "stderr",
     "output_type": "stream",
     "text": [
      "      content: 3167: परिभाषाएं और प्रस्ताव\n"
     ]
    },
    {
     "name": "stdout",
     "output_type": "stream",
     "text": [
      "      in on_lesson_page http://www.prathamopenschool.org/hn/Lesson/LES304\n"
     ]
    },
    {
     "name": "stderr",
     "output_type": "stream",
     "text": [
      "      content: 3168: यूक्लिड के कार्य\n"
     ]
    },
    {
     "name": "stdout",
     "output_type": "stream",
     "text": [
      "      in on_lesson_page http://www.prathamopenschool.org/hn/Lesson/LES305\n"
     ]
    },
    {
     "name": "stderr",
     "output_type": "stream",
     "text": [
      "      content: 3169: हमारे आस पास रेखाएं और कोण\n"
     ]
    },
    {
     "name": "stdout",
     "output_type": "stream",
     "text": [
      "      in on_lesson_page http://www.prathamopenschool.org/hn/Lesson/LES306\n"
     ]
    },
    {
     "name": "stderr",
     "output_type": "stream",
     "text": [
      "      content: 3170: सूक्तियां और प्रमेय\n"
     ]
    },
    {
     "name": "stdout",
     "output_type": "stream",
     "text": [
      "      in on_lesson_page http://www.prathamopenschool.org/hn/Lesson/LES307\n"
     ]
    },
    {
     "name": "stderr",
     "output_type": "stream",
     "text": [
      "      content: 3171: कोण योगफल गुण\n"
     ]
    },
    {
     "name": "stdout",
     "output_type": "stream",
     "text": [
      "      in on_lesson_page http://www.prathamopenschool.org/hn/Lesson/LES308\n"
     ]
    },
    {
     "name": "stderr",
     "output_type": "stream",
     "text": [
      "      content: 3172: मध्य बिंदु प्रमेय\n"
     ]
    },
    {
     "name": "stdout",
     "output_type": "stream",
     "text": [
      "      in on_lesson_page http://www.prathamopenschool.org/hn/Lesson/LES309\n"
     ]
    },
    {
     "name": "stderr",
     "output_type": "stream",
     "text": [
      "      content: 3173: चतुर्भुज के कोनों का योग\n"
     ]
    },
    {
     "name": "stdout",
     "output_type": "stream",
     "text": [
      "      in on_lesson_page http://www.prathamopenschool.org/hn/Lesson/LES310\n"
     ]
    },
    {
     "name": "stderr",
     "output_type": "stream",
     "text": [
      "      content: 3174: विकर्ण - दो सर्वंगसम त्रिभुज\n"
     ]
    },
    {
     "name": "stdout",
     "output_type": "stream",
     "text": [
      "      in on_lesson_page http://www.prathamopenschool.org/hn/Lesson/LES311\n"
     ]
    },
    {
     "name": "stderr",
     "output_type": "stream",
     "text": [
      "      content: 3175: समान्तर - चतुर्भुज\n"
     ]
    },
    {
     "name": "stdout",
     "output_type": "stream",
     "text": [
      "      in on_lesson_page http://www.prathamopenschool.org/hn/Lesson/LES312\n"
     ]
    },
    {
     "name": "stderr",
     "output_type": "stream",
     "text": [
      "      content: 3176: त्रिभुजों का क्षेत्रफल\n"
     ]
    },
    {
     "name": "stdout",
     "output_type": "stream",
     "text": [
      "      in on_lesson_page http://www.prathamopenschool.org/hn/Lesson/LES313\n"
     ]
    },
    {
     "name": "stderr",
     "output_type": "stream",
     "text": [
      "      content: 3177: समान्तर चतुर्भुजों का और त्रिभुजों का क्षेत्रफल\n"
     ]
    },
    {
     "name": "stdout",
     "output_type": "stream",
     "text": [
      "      in on_lesson_page http://www.prathamopenschool.org/hn/Lesson/LES314\n"
     ]
    },
    {
     "name": "stderr",
     "output_type": "stream",
     "text": [
      "      content: 3178: समीकरण\n"
     ]
    },
    {
     "name": "stdout",
     "output_type": "stream",
     "text": [
      "      in on_lesson_page http://www.prathamopenschool.org/hn/Lesson/LES316\n"
     ]
    },
    {
     "name": "stderr",
     "output_type": "stream",
     "text": [
      "      content: 3179: सुल्फुरिक अम्ल और चीनी की अभिक्रिया\n"
     ]
    },
    {
     "name": "stdout",
     "output_type": "stream",
     "text": [
      "      in on_lesson_page http://www.prathamopenschool.org/hn/Lesson/LES317\n"
     ]
    },
    {
     "name": "stderr",
     "output_type": "stream",
     "text": [
      "      content: 3180: अभिक्रियाओं का संशोधन\n"
     ]
    },
    {
     "name": "stdout",
     "output_type": "stream",
     "text": [
      "      in on_lesson_page http://www.prathamopenschool.org/hn/Lesson/LES318\n"
     ]
    },
    {
     "name": "stderr",
     "output_type": "stream",
     "text": [
      "      content: 3181: अभिक्रियाओ के प्रकार\n"
     ]
    },
    {
     "name": "stdout",
     "output_type": "stream",
     "text": [
      "      in on_lesson_page http://www.prathamopenschool.org/hn/Lesson/LES319\n"
     ]
    },
    {
     "name": "stderr",
     "output_type": "stream",
     "text": [
      "      content: 3182: गोलीय दर्पणों द्वारा बनने वाले प्रतिबिंब\n"
     ]
    },
    {
     "name": "stdout",
     "output_type": "stream",
     "text": [
      "      in on_lesson_page http://www.prathamopenschool.org/hn/Lesson/LES320\n"
     ]
    },
    {
     "name": "stderr",
     "output_type": "stream",
     "text": [
      "      content: 3183: प्रकाश रेखाओं का खेल\n"
     ]
    },
    {
     "name": "stdout",
     "output_type": "stream",
     "text": [
      "      in on_lesson_page http://www.prathamopenschool.org/hn/Lesson/LES321\n"
     ]
    },
    {
     "name": "stderr",
     "output_type": "stream",
     "text": [
      "      content: 3184: गोलीय दर्पण\n"
     ]
    },
    {
     "name": "stdout",
     "output_type": "stream",
     "text": [
      "      in on_lesson_page http://www.prathamopenschool.org/hn/Lesson/LES322\n"
     ]
    },
    {
     "name": "stderr",
     "output_type": "stream",
     "text": [
      "      content: 3185: तारे क्यों टिमटिमाते हैं?\n"
     ]
    },
    {
     "name": "stdout",
     "output_type": "stream",
     "text": [
      "      in on_lesson_page http://www.prathamopenschool.org/hn/Lesson/LES323\n"
     ]
    },
    {
     "name": "stderr",
     "output_type": "stream",
     "text": [
      "      content: 3186: प्रकाश का परिक्षेपण\n"
     ]
    },
    {
     "name": "stdout",
     "output_type": "stream",
     "text": [
      "      in on_lesson_page http://www.prathamopenschool.org/hn/Lesson/LES324\n"
     ]
    },
    {
     "name": "stderr",
     "output_type": "stream",
     "text": [
      "      content: 3187: भूसंपर्कण एवं फ्यूज़\n"
     ]
    },
    {
     "name": "stdout",
     "output_type": "stream",
     "text": [
      "      in on_lesson_page http://www.prathamopenschool.org/hn/Lesson/LES325\n"
     ]
    },
    {
     "name": "stderr",
     "output_type": "stream",
     "text": [
      "      content: 3188: विद्युत जनित्र\n"
     ]
    },
    {
     "name": "stdout",
     "output_type": "stream",
     "text": [
      "      in on_lesson_page http://www.prathamopenschool.org/hn/Lesson/LES326\n"
     ]
    },
    {
     "name": "stderr",
     "output_type": "stream",
     "text": [
      "      content: 3189: विद्युत मोटर\n"
     ]
    },
    {
     "name": "stdout",
     "output_type": "stream",
     "text": [
      "      in on_lesson_page http://www.prathamopenschool.org/hn/Lesson/LES327\n"
     ]
    },
    {
     "name": "stderr",
     "output_type": "stream",
     "text": [
      "      content: 3190: चुंबक और चुंबकीय क्षेत्र\n"
     ]
    },
    {
     "name": "stdout",
     "output_type": "stream",
     "text": [
      "      in on_lesson_page http://www.prathamopenschool.org/hn/Lesson/LES328\n"
     ]
    },
    {
     "name": "stderr",
     "output_type": "stream",
     "text": [
      "      content: 3191: गैर-परंपरागत ऊर्जा के स्रोत\n"
     ]
    },
    {
     "name": "stdout",
     "output_type": "stream",
     "text": [
      "      in on_lesson_page http://www.prathamopenschool.org/hn/Lesson/LES329\n"
     ]
    },
    {
     "name": "stderr",
     "output_type": "stream",
     "text": [
      "      content: 3192: ज्वारीय, तरंग और भूतापीय ऊर्जा\n"
     ]
    },
    {
     "name": "stdout",
     "output_type": "stream",
     "text": [
      "      in on_lesson_page http://www.prathamopenschool.org/hn/Lesson/LES330\n"
     ]
    },
    {
     "name": "stderr",
     "output_type": "stream",
     "text": [
      "      content: 3193: जीवाश्मी इंधन और पवन ऊर्जा\n"
     ]
    },
    {
     "name": "stdout",
     "output_type": "stream",
     "text": [
      "      in on_lesson_page http://www.prathamopenschool.org/hn/Lesson/LES331\n"
     ]
    },
    {
     "name": "stderr",
     "output_type": "stream",
     "text": [
      "      content: 3194: जल विद्युत\n"
     ]
    },
    {
     "name": "stdout",
     "output_type": "stream",
     "text": [
      "      in on_lesson_page http://www.prathamopenschool.org/hn/Lesson/LES332\n"
     ]
    },
    {
     "name": "stderr",
     "output_type": "stream",
     "text": [
      "      content: 3195: नाभिकीय ऊर्जा\n"
     ]
    },
    {
     "name": "stdout",
     "output_type": "stream",
     "text": [
      "      in on_lesson_page http://www.prathamopenschool.org/hn/Lesson/LES333\n"
     ]
    },
    {
     "name": "stderr",
     "output_type": "stream",
     "text": [
      "      content: 3196: महासागरीय और भूतापीय ऊर्जा\n"
     ]
    },
    {
     "name": "stdout",
     "output_type": "stream",
     "text": [
      "      in on_lesson_page http://www.prathamopenschool.org/hn/Lesson/LES334\n"
     ]
    },
    {
     "name": "stderr",
     "output_type": "stream",
     "text": [
      "      content: 3197: रसायनों का सर्वाधिक सांद्रण\n"
     ]
    },
    {
     "name": "stdout",
     "output_type": "stream",
     "text": [
      "      in on_lesson_page http://www.prathamopenschool.org/hn/Lesson/LES335\n"
     ]
    },
    {
     "name": "stderr",
     "output_type": "stream",
     "text": [
      "      content: 3198: ओजोन परत का अपक्षय\n"
     ]
    },
    {
     "name": "stdout",
     "output_type": "stream",
     "text": [
      "      in on_lesson_page http://www.prathamopenschool.org/hn/Lesson/LES336\n"
     ]
    },
    {
     "name": "stderr",
     "output_type": "stream",
     "text": [
      "      content: 3199: पारितंत्र के विभिन्न घटकों के बीच अनम्य क्रिया\n"
     ]
    },
    {
     "name": "stdout",
     "output_type": "stream",
     "text": [
      "      in on_lesson_page http://www.prathamopenschool.org/hn/Lesson/LES337\n"
     ]
    },
    {
     "name": "stderr",
     "output_type": "stream",
     "text": [
      "      content: 3200: बांध, एक परिचय\n"
     ]
    },
    {
     "name": "stdout",
     "output_type": "stream",
     "text": [
      "      in on_lesson_page http://www.prathamopenschool.org/hn/Lesson/LES338\n"
     ]
    },
    {
     "name": "stderr",
     "output_type": "stream",
     "text": [
      "      content: 3201: एल्युमीनियम के एनोडीकरण\n"
     ]
    },
    {
     "name": "stdout",
     "output_type": "stream",
     "text": [
      "      in on_lesson_page http://www.prathamopenschool.org/hn/Lesson/LES339\n"
     ]
    },
    {
     "name": "stderr",
     "output_type": "stream",
     "text": [
      "      content: 3202: धातु और अधातु आयनिक यौगिक निर्माण\n"
     ]
    },
    {
     "name": "stdout",
     "output_type": "stream",
     "text": [
      "      in on_lesson_page http://www.prathamopenschool.org/hn/Lesson/LES340\n"
     ]
    },
    {
     "name": "stderr",
     "output_type": "stream",
     "text": [
      "      content: 3203: धातुओं का शोधन\n"
     ]
    },
    {
     "name": "stdout",
     "output_type": "stream",
     "text": [
      "      in on_lesson_page http://www.prathamopenschool.org/hn/Lesson/LES341\n"
     ]
    },
    {
     "name": "stderr",
     "output_type": "stream",
     "text": [
      "      content: 3204: सीधी, शाखाब्द एवं चक्रीय श्रंखला\n"
     ]
    },
    {
     "name": "stdout",
     "output_type": "stream",
     "text": [
      "      in on_lesson_page http://www.prathamopenschool.org/hn/Lesson/LES342\n"
     ]
    },
    {
     "name": "stderr",
     "output_type": "stream",
     "text": [
      "      content: 3205: कार्बन यौगिकों का दहन\n"
     ]
    },
    {
     "name": "stdout",
     "output_type": "stream",
     "text": [
      "      in on_lesson_page http://www.prathamopenschool.org/hn/Lesson/LES343\n"
     ]
    },
    {
     "name": "stderr",
     "output_type": "stream",
     "text": [
      "      content: 3206: इथेनाँल एवं इथेनिक अम्ल - एक परिचय\n"
     ]
    },
    {
     "name": "stdout",
     "output_type": "stream",
     "text": [
      "      in on_lesson_page http://www.prathamopenschool.org/hn/Lesson/LES344\n"
     ]
    },
    {
     "name": "stderr",
     "output_type": "stream",
     "text": [
      "      content: 3207: संतृप्त एवं असंतृप्त हाइड्रोकार्बन - एक परिचय\n"
     ]
    },
    {
     "name": "stdout",
     "output_type": "stream",
     "text": [
      "      in on_lesson_page http://www.prathamopenschool.org/hn/Lesson/LES345\n"
     ]
    },
    {
     "name": "stderr",
     "output_type": "stream",
     "text": [
      "      content: 3208: आयनिक एवं सहसंयोजी यौगिक बंधन\n"
     ]
    },
    {
     "name": "stdout",
     "output_type": "stream",
     "text": [
      "      in on_lesson_page http://www.prathamopenschool.org/hn/Lesson/LES346\n"
     ]
    },
    {
     "name": "stderr",
     "output_type": "stream",
     "text": [
      "      content: 3209: साबुन - निर्माण एवं साबुनीकरण\n"
     ]
    },
    {
     "name": "stdout",
     "output_type": "stream",
     "text": [
      "      in on_lesson_page http://www.prathamopenschool.org/hn/Lesson/LES347\n"
     ]
    },
    {
     "name": "stderr",
     "output_type": "stream",
     "text": [
      "      content: 3210: इस्टरीफ़िकेशन - एक परिचय\n"
     ]
    },
    {
     "name": "stdout",
     "output_type": "stream",
     "text": [
      "      in on_lesson_page http://www.prathamopenschool.org/hn/Lesson/LES348\n"
     ]
    },
    {
     "name": "stderr",
     "output_type": "stream",
     "text": [
      "      content: 3211: मानव पाचन तंत्र\n"
     ]
    },
    {
     "name": "stdout",
     "output_type": "stream",
     "text": [
      "      in on_lesson_page http://www.prathamopenschool.org/hn/Lesson/LES349\n"
     ]
    },
    {
     "name": "stderr",
     "output_type": "stream",
     "text": [
      "      content: 3212: रंध्र का विशिष्ट व्यवहार\n"
     ]
    },
    {
     "name": "stdout",
     "output_type": "stream",
     "text": [
      "      in on_lesson_page http://www.prathamopenschool.org/hn/Lesson/LES350\n"
     ]
    },
    {
     "name": "stderr",
     "output_type": "stream",
     "text": [
      "      content: 3213: उत्सर्जन प्रक्रिया\n"
     ]
    },
    {
     "name": "stdout",
     "output_type": "stream",
     "text": [
      "      in on_lesson_page http://www.prathamopenschool.org/hn/Lesson/LES351\n"
     ]
    },
    {
     "name": "stderr",
     "output_type": "stream",
     "text": [
      "      content: 3214: हमारे शरीर की प्रतिवर्ती क्रियाएं\n"
     ]
    },
    {
     "name": "stdout",
     "output_type": "stream",
     "text": [
      "      in on_lesson_page http://www.prathamopenschool.org/hn/Lesson/LES352\n"
     ]
    },
    {
     "name": "stderr",
     "output_type": "stream",
     "text": [
      "      content: 3215: न्यूरॉन और तंत्रिका आवेश\n"
     ]
    },
    {
     "name": "stdout",
     "output_type": "stream",
     "text": [
      "      in on_lesson_page http://www.prathamopenschool.org/hn/Lesson/LES353\n"
     ]
    },
    {
     "name": "stderr",
     "output_type": "stream",
     "text": [
      "      content: 3216: पौधे के ग्रन्थिरस\n"
     ]
    },
    {
     "name": "stdout",
     "output_type": "stream",
     "text": [
      "      in on_lesson_page http://www.prathamopenschool.org/hn/Lesson/LES354\n"
     ]
    },
    {
     "name": "stderr",
     "output_type": "stream",
     "text": [
      "      content: 3217: हारमोन की भूमिका - एड्रिनलिन एवं इंसुलिन\n"
     ]
    },
    {
     "name": "stdout",
     "output_type": "stream",
     "text": [
      "      in on_lesson_page http://www.prathamopenschool.org/hn/Lesson/LES355\n"
     ]
    },
    {
     "name": "stderr",
     "output_type": "stream",
     "text": [
      "      content: 3218: अलैंगिक जनन - एक परिचय\n"
     ]
    },
    {
     "name": "stdout",
     "output_type": "stream",
     "text": [
      "      in on_lesson_page http://www.prathamopenschool.org/hn/Lesson/LES356\n"
     ]
    },
    {
     "name": "stderr",
     "output_type": "stream",
     "text": [
      "      content: 3219: मादा जनन तंत्र\n"
     ]
    },
    {
     "name": "stdout",
     "output_type": "stream",
     "text": [
      "      in on_lesson_page http://www.prathamopenschool.org/hn/Lesson/LES357\n"
     ]
    },
    {
     "name": "stderr",
     "output_type": "stream",
     "text": [
      "      content: 3220: गर्भधारण से जन्म तक की प्रक्रियाँ\n"
     ]
    },
    {
     "name": "stdout",
     "output_type": "stream",
     "text": [
      "      in on_lesson_page http://www.prathamopenschool.org/hn/Lesson/LES358\n"
     ]
    },
    {
     "name": "stderr",
     "output_type": "stream",
     "text": [
      "      content: 3221: नर जनन तंत्र\n"
     ]
    },
    {
     "name": "stdout",
     "output_type": "stream",
     "text": [
      "      in on_lesson_page http://www.prathamopenschool.org/hn/Lesson/LES359\n"
     ]
    },
    {
     "name": "stderr",
     "output_type": "stream",
     "text": [
      "      content: 3222: पुष्प के भूमिका - एक परिचय\n"
     ]
    },
    {
     "name": "stdout",
     "output_type": "stream",
     "text": [
      "      in on_lesson_page http://www.prathamopenschool.org/hn/Lesson/LES360\n"
     ]
    },
    {
     "name": "stderr",
     "output_type": "stream",
     "text": [
      "      content: 3223: जैव विकास\n"
     ]
    },
    {
     "name": "stdout",
     "output_type": "stream",
     "text": [
      "      in on_lesson_page http://www.prathamopenschool.org/hn/Lesson/LES361\n"
     ]
    },
    {
     "name": "stderr",
     "output_type": "stream",
     "text": [
      "      content: 3224: मेंडल का नियम\n"
     ]
    },
    {
     "name": "stdout",
     "output_type": "stream",
     "text": [
      "      in on_lesson_page http://www.prathamopenschool.org/hn/Lesson/LES362\n"
     ]
    },
    {
     "name": "stderr",
     "output_type": "stream",
     "text": [
      "      content: 3225: ज़ाती उद्भव - एक विकासीय प्रक्रिया\n"
     ]
    },
    {
     "name": "stdout",
     "output_type": "stream",
     "text": [
      "      in on_lesson_page http://www.prathamopenschool.org/hn/Lesson/LES363\n"
     ]
    },
    {
     "name": "stderr",
     "output_type": "stream",
     "text": [
      "      content: 3226: स्पर्श रेखा से परिचय\n"
     ]
    },
    {
     "name": "stdout",
     "output_type": "stream",
     "text": [
      "      in on_lesson_page http://www.prathamopenschool.org/hn/Lesson/LES365\n"
     ]
    },
    {
     "name": "stderr",
     "output_type": "stream",
     "text": [
      "      content: 3227: स्पर्श रेखा और त्रिज्या का संभंध\n"
     ]
    },
    {
     "name": "stdout",
     "output_type": "stream",
     "text": [
      "      in on_lesson_page http://www.prathamopenschool.org/hn/Lesson/LES366\n"
     ]
    },
    {
     "name": "stderr",
     "output_type": "stream",
     "text": [
      "      content: 3228: व्रत्त और स्पर्श रेखाएँ\n"
     ]
    },
    {
     "name": "stdout",
     "output_type": "stream",
     "text": [
      "      in on_lesson_page http://www.prathamopenschool.org/hn/Lesson/LES367\n"
     ]
    },
    {
     "name": "stderr",
     "output_type": "stream",
     "text": [
      "      content: 3229: स्पर्श रेखाओं के दैनिक उदाहरण\n"
     ]
    },
    {
     "name": "stdout",
     "output_type": "stream",
     "text": [
      "      in on_lesson_page http://www.prathamopenschool.org/hn/Lesson/LES368\n"
     ]
    },
    {
     "name": "stderr",
     "output_type": "stream",
     "text": [
      "      content: 3230: समरूप त्रिभुजों की रचना\n"
     ]
    },
    {
     "name": "stdout",
     "output_type": "stream",
     "text": [
      "      in on_lesson_page http://www.prathamopenschool.org/hn/Lesson/LES369\n"
     ]
    },
    {
     "name": "stderr",
     "output_type": "stream",
     "text": [
      "      content: 3231: स्पर्शज्या की रचना\n"
     ]
    },
    {
     "name": "stdout",
     "output_type": "stream",
     "text": [
      "      in on_lesson_page http://www.prathamopenschool.org/hn/Lesson/LES370\n"
     ]
    },
    {
     "name": "stderr",
     "output_type": "stream",
     "text": [
      "      content: 3232: एक रेखाखंड को विभाजित करना - 1\n"
     ]
    },
    {
     "name": "stdout",
     "output_type": "stream",
     "text": [
      "      in on_lesson_page http://www.prathamopenschool.org/hn/Lesson/LES371\n"
     ]
    },
    {
     "name": "stderr",
     "output_type": "stream",
     "text": [
      "      content: 3233: एक रेखाखंड को विभाजित करना - 2\n"
     ]
    },
    {
     "name": "stdout",
     "output_type": "stream",
     "text": [
      "      in on_lesson_page http://www.prathamopenschool.org/hn/Lesson/LES372\n"
     ]
    },
    {
     "name": "stderr",
     "output_type": "stream",
     "text": [
      "      content: 3234: त्रिज्यखंड एवं व्रतखंड का क्षेत्रफल\n"
     ]
    },
    {
     "name": "stdout",
     "output_type": "stream",
     "text": [
      "      in on_lesson_page http://www.prathamopenschool.org/hn/Lesson/LES373\n"
     ]
    },
    {
     "name": "stderr",
     "output_type": "stream",
     "text": [
      "      content: 3235: एक ठोस आकृति से अन्य ठोस आकृति में रूपांतरण\n"
     ]
    },
    {
     "name": "stdout",
     "output_type": "stream",
     "text": [
      "      in on_lesson_page http://www.prathamopenschool.org/hn/Lesson/LES374\n"
     ]
    },
    {
     "name": "stderr",
     "output_type": "stream",
     "text": [
      "      content: 3236: ठोस वस्तुओं के बाह्य-प्रष्ट क्षेत्रफल एवं आयतन\n"
     ]
    },
    {
     "name": "stdout",
     "output_type": "stream",
     "text": [
      "      in on_lesson_page http://www.prathamopenschool.org/hn/Lesson/LES375\n"
     ]
    },
    {
     "name": "stderr",
     "output_type": "stream",
     "text": [
      "      content: 3237: शंकु का छिन्नक\n"
     ]
    },
    {
     "name": "stdout",
     "output_type": "stream",
     "text": [
      "      in on_lesson_page http://www.prathamopenschool.org/hn/Lesson/LES376\n"
     ]
    },
    {
     "name": "stderr",
     "output_type": "stream",
     "text": [
      "      content: 3238: संचयी बारम्बारता की गणना\n"
     ]
    },
    {
     "name": "stdout",
     "output_type": "stream",
     "text": [
      "      in on_lesson_page http://www.prathamopenschool.org/hn/Lesson/LES377\n"
     ]
    },
    {
     "name": "stderr",
     "output_type": "stream",
     "text": [
      "      content: 3239: माध्यका की गणना\n"
     ]
    },
    {
     "name": "stdout",
     "output_type": "stream",
     "text": [
      "      in on_lesson_page http://www.prathamopenschool.org/hn/Lesson/LES378\n"
     ]
    },
    {
     "name": "stderr",
     "output_type": "stream",
     "text": [
      "      content: 3240: माध्य की गणना\n"
     ]
    },
    {
     "name": "stdout",
     "output_type": "stream",
     "text": [
      "      in on_lesson_page http://www.prathamopenschool.org/hn/Lesson/LES379\n"
     ]
    },
    {
     "name": "stderr",
     "output_type": "stream",
     "text": [
      "      content: 3241: व्रगिकृत आंकड़ों के बहुलक की गणना\n"
     ]
    },
    {
     "name": "stdout",
     "output_type": "stream",
     "text": [
      "      in on_lesson_page http://www.prathamopenschool.org/hn/Lesson/LES380\n"
     ]
    },
    {
     "name": "stderr",
     "output_type": "stream",
     "text": [
      "      content: 3242: प्रायिकता पर एक नजर\n"
     ]
    },
    {
     "name": "stdout",
     "output_type": "stream",
     "text": [
      "      in on_lesson_page http://www.prathamopenschool.org/hn/Lesson/LES381\n"
     ]
    },
    {
     "name": "stderr",
     "output_type": "stream",
     "text": [
      "      content: 3243: रैखिक समीकरण\n"
     ]
    },
    {
     "name": "stdout",
     "output_type": "stream",
     "text": [
      "      in on_lesson_page http://www.prathamopenschool.org/hn/Lesson/LES382\n"
     ]
    },
    {
     "name": "stderr",
     "output_type": "stream",
     "text": [
      "      content: 3244: विलोपन विधि\n"
     ]
    },
    {
     "name": "stdout",
     "output_type": "stream",
     "text": [
      "      in on_lesson_page http://www.prathamopenschool.org/hn/Lesson/LES383\n"
     ]
    },
    {
     "name": "stderr",
     "output_type": "stream",
     "text": [
      "      content: 3245: अरैखिक समीकरणों को रैखिक समीकरण के रूप में लिखना\n"
     ]
    },
    {
     "name": "stdout",
     "output_type": "stream",
     "text": [
      "      in on_lesson_page http://www.prathamopenschool.org/hn/Lesson/LES384\n"
     ]
    },
    {
     "name": "stderr",
     "output_type": "stream",
     "text": [
      "      content: 3246: वज्र गुणन विधि\n"
     ]
    },
    {
     "name": "stdout",
     "output_type": "stream",
     "text": [
      "      in on_lesson_page http://www.prathamopenschool.org/hn/Lesson/LES385\n"
     ]
    },
    {
     "name": "stderr",
     "output_type": "stream",
     "text": [
      "      content: 3247: पूर्ण-वर्ग से हल करना\n"
     ]
    },
    {
     "name": "stdout",
     "output_type": "stream",
     "text": [
      "      in on_lesson_page http://www.prathamopenschool.org/hn/Lesson/LES386\n"
     ]
    },
    {
     "name": "stderr",
     "output_type": "stream",
     "text": [
      "      content: 3248: द्विघात समीकरण के मूलों का पता लगाना\n"
     ]
    },
    {
     "name": "stdout",
     "output_type": "stream",
     "text": [
      "      in on_lesson_page http://www.prathamopenschool.org/hn/Lesson/LES387\n"
     ]
    },
    {
     "name": "stderr",
     "output_type": "stream",
     "text": [
      "      content: 3249: द्विघात समीकरण को हल करना\n"
     ]
    },
    {
     "name": "stdout",
     "output_type": "stream",
     "text": [
      "      in on_lesson_page http://www.prathamopenschool.org/hn/Lesson/LES388\n"
     ]
    },
    {
     "name": "stderr",
     "output_type": "stream",
     "text": [
      "      content: 3250: द्विघाती सूत्र से हल करना\n"
     ]
    },
    {
     "name": "stdout",
     "output_type": "stream",
     "text": [
      "      in on_lesson_page http://www.prathamopenschool.org/hn/Lesson/LES389\n"
     ]
    },
    {
     "name": "stderr",
     "output_type": "stream",
     "text": [
      "      content: 3251: समांतर श्रेणी\n"
     ]
    },
    {
     "name": "stdout",
     "output_type": "stream",
     "text": [
      "      in on_lesson_page http://www.prathamopenschool.org/hn/Lesson/LES390\n"
     ]
    },
    {
     "name": "stderr",
     "output_type": "stream",
     "text": [
      "      content: 3252: समांतर श्रेणी के सभी पदों का योग\n"
     ]
    },
    {
     "name": "stdout",
     "output_type": "stream",
     "text": [
      "      in on_lesson_page http://www.prathamopenschool.org/hn/Lesson/LES391\n"
     ]
    },
    {
     "name": "stderr",
     "output_type": "stream",
     "text": [
      "      content: 3253: मूल समानुपाति प्रमेय\n"
     ]
    },
    {
     "name": "stdout",
     "output_type": "stream",
     "text": [
      "      in on_lesson_page http://www.prathamopenschool.org/hn/Lesson/LES392\n"
     ]
    },
    {
     "name": "stderr",
     "output_type": "stream",
     "text": [
      "      content: 3254: मूल समानुपाति प्रमेय का प्रतिलूम\n"
     ]
    },
    {
     "name": "stdout",
     "output_type": "stream",
     "text": [
      "      in on_lesson_page http://www.prathamopenschool.org/hn/Lesson/LES393\n"
     ]
    },
    {
     "name": "stderr",
     "output_type": "stream",
     "text": [
      "      content: 3255: पाइथागोरस प्रमेय\n"
     ]
    },
    {
     "name": "stdout",
     "output_type": "stream",
     "text": [
      "      in on_lesson_page http://www.prathamopenschool.org/hn/Lesson/LES394\n"
     ]
    },
    {
     "name": "stderr",
     "output_type": "stream",
     "text": [
      "      content: 3256: त्रिभुजों की समरूपता के नियम\n"
     ]
    },
    {
     "name": "stdout",
     "output_type": "stream",
     "text": [
      "      in on_lesson_page http://www.prathamopenschool.org/hn/Lesson/LES395\n"
     ]
    },
    {
     "name": "stderr",
     "output_type": "stream",
     "text": [
      "      content: 3257: समरूपता को समझना\n"
     ]
    },
    {
     "name": "stdout",
     "output_type": "stream",
     "text": [
      "      in on_lesson_page http://www.prathamopenschool.org/hn/Lesson/LES396\n"
     ]
    },
    {
     "name": "stderr",
     "output_type": "stream",
     "text": [
      "      content: 3258: त्रिभुजों का क्षेत्रफल\n"
     ]
    },
    {
     "name": "stdout",
     "output_type": "stream",
     "text": [
      "      in on_lesson_page http://www.prathamopenschool.org/hn/Lesson/LES397\n"
     ]
    },
    {
     "name": "stderr",
     "output_type": "stream",
     "text": [
      "      content: 3259: दूरी को मापना\n"
     ]
    },
    {
     "name": "stdout",
     "output_type": "stream",
     "text": [
      "      in on_lesson_page http://www.prathamopenschool.org/hn/Lesson/LES398\n"
     ]
    },
    {
     "name": "stderr",
     "output_type": "stream",
     "text": [
      "      content: 3260: विभाजन सूत्र\n"
     ]
    },
    {
     "name": "stdout",
     "output_type": "stream",
     "text": [
      "      in on_lesson_page http://www.prathamopenschool.org/hn/Lesson/LES399\n"
     ]
    },
    {
     "name": "stderr",
     "output_type": "stream",
     "text": [
      "      content: 3261: संरेखिकता का परीक्षण\n"
     ]
    },
    {
     "name": "stdout",
     "output_type": "stream",
     "text": [
      "      in on_lesson_page http://www.prathamopenschool.org/hn/Lesson/LES400\n"
     ]
    },
    {
     "name": "stderr",
     "output_type": "stream",
     "text": [
      "      content: 3262: समकोण त्रिभुज\n"
     ]
    },
    {
     "name": "stdout",
     "output_type": "stream",
     "text": [
      "      in on_lesson_page http://www.prathamopenschool.org/hn/Lesson/LES401\n"
     ]
    },
    {
     "name": "stderr",
     "output_type": "stream",
     "text": [
      "      content: 3263: समकोण त्रिभुजों के उदाहरण\n"
     ]
    },
    {
     "name": "stdout",
     "output_type": "stream",
     "text": [
      "      in on_lesson_page http://www.prathamopenschool.org/hn/Lesson/LES402\n"
     ]
    },
    {
     "name": "stderr",
     "output_type": "stream",
     "text": [
      "      content: 3264: 0 और 90 डिग्री के त्रिकोणमितीय अनुपात\n"
     ]
    },
    {
     "name": "stdout",
     "output_type": "stream",
     "text": [
      "      in on_lesson_page http://www.prathamopenschool.org/hn/Lesson/LES403\n"
     ]
    },
    {
     "name": "stderr",
     "output_type": "stream",
     "text": [
      "      content: 3265: 30, 45 और 60 डिग्री के त्रिकोणमितीय अनुपात\n"
     ]
    },
    {
     "name": "stdout",
     "output_type": "stream",
     "text": [
      "      in on_lesson_page http://www.prathamopenschool.org/hn/Lesson/LES404\n"
     ]
    },
    {
     "name": "stderr",
     "output_type": "stream",
     "text": [
      "      content: 3266: लंबाई और दूरी का पता लगाना\n"
     ]
    },
    {
     "name": "stdout",
     "output_type": "stream",
     "text": [
      "      in on_lesson_page http://www.prathamopenschool.org/hn/Lesson/LES405\n"
     ]
    },
    {
     "name": "stderr",
     "output_type": "stream",
     "text": [
      "      content: 3267: त्रिकोणमितीय शब्दों का परिचय\n"
     ]
    },
    {
     "name": "stdout",
     "output_type": "stream",
     "text": [
      "      in on_lesson_page http://www.prathamopenschool.org/hn/Lesson/LES406\n",
      "\n",
      "\n",
      "\n",
      "\n",
      "################################################################################\n",
      "# CRAWLER RECOMMENDATIONS BASED ON URLS ENCOUNTERED:\n",
      "################################################################################\n",
      "\n",
      "1. These URLs are very common and look like global navigation links:\n",
      "\n",
      "2. These are common path fragments found in URLs paths, so could correspond to site struture:\n",
      "  -  794 urls on site start with  /CourseContent\n",
      "  -  487 urls on site start with  /hn\n",
      "  -  1 urls on site start with  /Video\n",
      "\n",
      "\n",
      "################################################################################\n",
      "\n",
      "\n",
      "\n"
     ]
    }
   ],
   "source": [
    "web_resource_tree = crawler.crawl()"
   ]
  },
  {
   "cell_type": "code",
   "execution_count": 4,
   "metadata": {
    "scrolled": true
   },
   "outputs": [],
   "source": [
    "# web_resource_tree"
   ]
  },
  {
   "cell_type": "code",
   "execution_count": 5,
   "metadata": {
    "scrolled": false
   },
   "outputs": [
    {
     "name": "stdout",
     "output_type": "stream",
     "text": [
      "     - path: /hn/  (lang_page) \n",
      "       children:\n",
      "        - path: /hn/Course/Mathematics  (topic_page) \n",
      "          children:\n",
      "           - path: /hn/Course/Mathematics/CRS3  (subtopic_page) \n",
      "             children:\n",
      "              - path: /hn/Lesson/LES14  (lesson_page) \n",
      "                children:\n",
      "                 - path: /CourseContent/videos/h_quantityNmeasure1.mp4  (PrathamVideoResource) \n",
      "                 - path: /CourseContent/videos/h_quantityNmeasure2.mp4  (PrathamVideoResource) \n",
      "                 - path: /CourseContent/videos/h_quantityNmeasure3.mp4  (PrathamVideoResource) \n",
      "                 - path: /CourseContent/videos/h_quantityNmeasure4.mp4  (PrathamVideoResource) \n",
      "                 - path: /CourseContent/videos/h_quantityNmeasure5.mp4  (PrathamVideoResource) \n",
      "                 - path: /CourseContent/videos/h_estimate_building_height.mp4  (PrathamVideoResource) \n",
      "                 - path: /CourseContent/videos/h_measure_pole_height.mp4  (PrathamVideoResource) \n",
      "                 - path: /CourseContent/videos/h_dheel.mp4  (PrathamVideoResource) \n",
      "           - path: /hn/Course/Mathematics/CRS4  (subtopic_page) \n",
      "             children:\n",
      "              - path: /hn/Lesson/LES15  (lesson_page) \n",
      "                children:\n",
      "                 - path: /CourseContent/videos/Shapes_and_Polygons.mp4  (PrathamVideoResource) \n",
      "              - path: /hn/Lesson/LES16  (lesson_page) \n",
      "                children:\n",
      "                 - path: /CourseContent/Games/Mathematics.zip  (PrathamZipResource) \n",
      "                 - path: /CourseContent/Games/Mathematics.zip  (PrathamZipResource) \n",
      "                 - path: /CourseContent/videos/h_angle.mp4  (PrathamVideoResource) \n",
      "                 - path: /CourseContent/videos/h_angle_types.mp4  (PrathamVideoResource) \n",
      "                 - path: /CourseContent/PDF/Reading_Cards_5_H.pdf  (PrathamPdfResource) \n",
      "                 - path: /CourseContent/videos/h_Geometry terms.mp4  (PrathamVideoResource) \n",
      "              - path: /hn/Lesson/LES17  (lesson_page) \n",
      "                children:\n",
      "                 - path: /CourseContent/Games/Mathematics/hn_triangle_est_home.html  (UnsupportedPrathamWebResource) \n",
      "                 - path: /CourseContent/Games/Mathematics.zip  (PrathamZipResource) \n",
      "                 - path: /CourseContent/videos/h_triangle_fun.mp4  (PrathamVideoResource) \n",
      "                 - path: /CourseContent/videos/h_triangle_types.mp4  (PrathamVideoResource) \n",
      "                 - path: /CourseContent/PDF/Reading_Cards_6_H.pdf  (PrathamPdfResource) \n",
      "                 - path: /CourseContent/PDF/Reading_Cards_7_H.pdf  (PrathamPdfResource) \n",
      "                 - path: /CourseContent/PDF/Reading_Cards_8_H.pdf  (PrathamPdfResource) \n",
      "              - path: /hn/Lesson/LES18  (lesson_page) \n",
      "                children:\n",
      "                 - path: /CourseContent/Games/Mathematics/hn_circle_est.html  (UnsupportedPrathamWebResource) \n",
      "                 - path: /CourseContent/Games/Mathematics.zip  (PrathamZipResource) \n",
      "                 - path: /CourseContent/videos/h_circle.mp4  (PrathamVideoResource) \n",
      "                 - path: /CourseContent/PDF/Reading_Cards_9_H.pdf  (PrathamPdfResource) \n",
      "                 - path: /CourseContent/PDF/Reading_Cards_9_H.pdf  (PrathamPdfResource) \n",
      "              - path: /hn/Lesson/LES19  (lesson_page) \n",
      "                children:\n",
      "                 - path: /CourseContent/Games/Mathematics/hn_rect_est_home.html  (UnsupportedPrathamWebResource) \n",
      "                 - path: /CourseContent/Games/Mathematics.zip  (PrathamZipResource) \n",
      "                 - path: /CourseContent/videos/h_area.mp4  (PrathamVideoResource) \n",
      "                 - path: /CourseContent/videos/Bolo_bhai_Euclid_Tiles_on_the_floor.mp4  (PrathamVideoResource) \n",
      "              - path: /hn/Lesson/LES20  (lesson_page) \n",
      "                children:\n",
      "                 - path: /CourseContent/Games/Mathematics/hn_peri_triangle_est_home.html  (UnsupportedPrathamWebResource) \n",
      "                 - path: /CourseContent/Games/Mathematics/hn_peri_square_est_home.html  (UnsupportedPrathamWebResource) \n",
      "                 - path: /CourseContent/Games/Mathematics/hn_peri_rectangle_est_home.html  (UnsupportedPrathamWebResource) \n",
      "                 - path: /CourseContent/Games/Mathematics.zip  (PrathamZipResource) \n",
      "                 - path: /CourseContent/videos/h_perimeter.mp4  (PrathamVideoResource) \n",
      "           - path: /hn/Course/Mathematics/CRS5  (subtopic_page) \n",
      "             children:\n",
      "              - path: /hn/Lesson/LES21  (lesson_page) \n",
      "                children:\n",
      "                 - path: /CourseContent/Games/Gunaj_Apvartya(Hindi).zip  (PrathamZipResource) \n",
      "                 - path: /CourseContent/videos/h_multiple1.mp4  (PrathamVideoResource) \n",
      "                 - path: /CourseContent/videos/h_multiple2.mp4  (PrathamVideoResource) \n",
      "                 - path: /CourseContent/videos/Divisibility_Test.mp4  (PrathamVideoResource) \n",
      "              - path: /hn/Lesson/LES22  (lesson_page) \n",
      "                children:\n",
      "                 - path: /CourseContent/Games/FactorsGameNew_H/gamePage.html  (UnsupportedPrathamWebResource) \n",
      "                 - path: /CourseContent/Games/Gunankhand_Apvartak(Hindi).zip  (PrathamZipResource) \n",
      "                 - path: /CourseContent/videos/h_factor1.mp4  (PrathamVideoResource) \n",
      "                 - path: /CourseContent/videos/h_factor2.mp4  (PrathamVideoResource) \n",
      "                 - path: /CourseContent/videos/h_prime_factor.mp4  (PrathamVideoResource) \n",
      "              - path: /hn/Lesson/LES23  (lesson_page) \n",
      "                children:\n",
      "                 - path: /CourseContent/videos/h_math_relations1.mp4  (PrathamVideoResource) \n",
      "                 - path: /CourseContent/videos/h_math_relations2.mp4  (PrathamVideoResource) \n",
      "              - path: /hn/Lesson/LES24  (lesson_page) \n",
      "                children:\n",
      "                 - path: /CourseContent/Games/MathsBucketGame_H.zip  (PrathamZipResource) \n",
      "                 - path: /CourseContent/Games/primeFactorsHindi/primeFactors.html  (UnsupportedPrathamWebResource) \n",
      "                 - path: /CourseContent/Games/M.S(Hindi).zip  (PrathamZipResource) \n",
      "                 - path: /CourseContent/videos/h_hcf.mp4  (PrathamVideoResource) \n",
      "                 - path: /CourseContent/videos/h_prime_factor.mp4  (PrathamVideoResource) \n",
      "                 - path: /CourseContent/videos/h_hcf_pf.mp4  (PrathamVideoResource) \n",
      "              - path: /hn/Lesson/LES25  (lesson_page) \n",
      "                children:\n",
      "                 - path: /CourseContent/Games/MathsBucketGame_H.zip  (PrathamZipResource) \n",
      "                 - path: /CourseContent/Games/primeFactorsHindi/primeFactors.html  (UnsupportedPrathamWebResource) \n",
      "                 - path: /CourseContent/Games/M.S(Hindi).zip  (PrathamZipResource) \n",
      "                 - path: /CourseContent/Games/L.S(Hindi).zip  (PrathamZipResource) \n",
      "                 - path: /CourseContent/videos/h_lcm.mp4  (PrathamVideoResource) \n",
      "                 - path: /CourseContent/videos/h_lcm_train.mp4  (PrathamVideoResource) \n",
      "                 - path: /CourseContent/videos/h_prime_factor.mp4  (PrathamVideoResource) \n",
      "                 - path: /CourseContent/videos/h_lcm_pf.mp4  (PrathamVideoResource) \n",
      "              - path: /hn/Lesson/LES26  (lesson_page) \n",
      "                children:\n",
      "                 - path: /CourseContent/videos/h_lcm_hcf_fun.mp4  (PrathamVideoResource) \n",
      "           - path: /hn/Course/Mathematics/CRS6  (subtopic_page) \n",
      "             children:\n",
      "              - path: /hn/Lesson/LES27  (lesson_page) \n",
      "                children:\n",
      "                 - path: /CourseContent/Games/newFractionGame_H/MainPage.html  (UnsupportedPrathamWebResource) \n",
      "                 - path: /CourseContent/videos/h_fraction.mp4  (PrathamVideoResource) \n",
      "                 - path: /CourseContent/videos/h_fraction_types.mp4  (PrathamVideoResource) \n",
      "                 - path: /CourseContent/videos/h_fraction_lowest.mp4  (PrathamVideoResource) \n",
      "                 - path: /CourseContent/videos/h_equivalent_fraction.mp4  (PrathamVideoResource) \n",
      "                 - path: /CourseContent/videos/h_fraction_compare.mp4  (PrathamVideoResource) \n",
      "                 - path: /CourseContent/videos/h_improper_mixed.mp4  (PrathamVideoResource) \n",
      "              - path: /hn/Lesson/LES28  (lesson_page) \n",
      "                children:\n",
      "                 - path: /CourseContent/videos/h_fraction_addition.mp4  (PrathamVideoResource) \n",
      "                 - path: /CourseContent/videos/h_fraction_subtraction.mp4  (PrathamVideoResource) \n",
      "                 - path: /CourseContent/videos/h_fraction_multiplication1.mp4  (PrathamVideoResource) \n",
      "                 - path: /CourseContent/videos/h_fraction_multiplication2.mp4  (PrathamVideoResource) \n",
      "                 - path: /CourseContent/videos/h_fraction_types.mp4  (PrathamVideoResource) \n",
      "                 - path: /CourseContent/videos/h_fraction_lowest.mp4  (PrathamVideoResource) \n",
      "                 - path: /CourseContent/videos/h_improper_mixed.mp4  (PrathamVideoResource) \n",
      "                 - path: /CourseContent/videos/h_fraction.mp4  (PrathamVideoResource) \n",
      "                 - path: /CourseContent/videos/h_fraction_compare.mp4  (PrathamVideoResource) \n",
      "                 - path: /CourseContent/videos/Fraction_To_Decimal1.mp4  (PrathamVideoResource) \n",
      "                 - path: /CourseContent/videos/h_percent_fraction.mp4  (PrathamVideoResource) \n",
      "                 - path: /CourseContent/videos/h_fraction_percent.mp4  (PrathamVideoResource) \n",
      "                 - path: /CourseContent/videos/h_equivalent_fraction.mp4  (PrathamVideoResource) \n",
      "              - path: /hn/Lesson/LES29  (lesson_page) \n",
      "                children:\n",
      "                 - path: /CourseContent/Games/Mathematics/hn_decimal.html  (UnsupportedPrathamWebResource) \n",
      "                 - path: /CourseContent/videos/h_decimal.mp4  (PrathamVideoResource) \n",
      "                 - path: /CourseContent/PDF/Reading_Cards_4_H.pdf  (PrathamPdfResource) \n",
      "              - path: /hn/Lesson/LES30  (lesson_page) \n",
      "                children:\n",
      "                 - path: /CourseContent/Games/Mathematics/hn_decimal.html  (UnsupportedPrathamWebResource) \n",
      "                 - path: /CourseContent/Games/PlaceValueHindi/main.html  (UnsupportedPrathamWebResource) \n",
      "                 - path: /CourseContent/videos/h_decimal_addition.mp4  (PrathamVideoResource) \n",
      "                 - path: /CourseContent/videos/h_decimal_subtraction.mp4  (PrathamVideoResource) \n",
      "                 - path: /CourseContent/videos/Decimal_Add.mp4  (PrathamVideoResource) \n",
      "                 - path: /CourseContent/videos/Decimal_Add_Sub.mp4  (PrathamVideoResource) \n",
      "                 - path: /CourseContent/videos/Decimal_Subtraction.mp4  (PrathamVideoResource) \n",
      "                 - path: /CourseContent/videos/Decimal_To_Fraction.mp4  (PrathamVideoResource) \n",
      "                 - path: /CourseContent/videos/h_decimal_compare.mp4  (PrathamVideoResource) \n",
      "                 - path: /CourseContent/videos/h_dividing_decimal2.mp4  (PrathamVideoResource) \n",
      "                 - path: /CourseContent/videos/h_decimal.mp4  (PrathamVideoResource) \n",
      "                 - path: /CourseContent/videos/Multiplying_decimal_compress.mp4  (PrathamVideoResource) \n",
      "              - path: /hn/Lesson/LES31  (lesson_page) \n",
      "                children:\n",
      "                 - path: /CourseContent/videos/h_percent_fraction.mp4  (PrathamVideoResource) \n",
      "                 - path: /CourseContent/videos/h_fraction_percent.mp4  (PrathamVideoResource) \n",
      "              - path: /hn/Lesson/LES828  (lesson_page) \n",
      "                children:\n",
      "                 - path: /CourseContent/Games/Mathematics.zip  (PrathamZipResource) \n",
      "                 - path: /CourseContent/videos/h_percent.mp4  (PrathamVideoResource) \n",
      "           - path: /hn/Course/Mathematics/CRS7  (subtopic_page) \n",
      "             children:\n",
      "              - path: /hn/Lesson/LES32  (lesson_page) \n",
      "                children:\n",
      "                 - path: /CourseContent/videos/h_interest_intro.mp4  (PrathamVideoResource) \n",
      "                 - path: /CourseContent/videos/h_simple_interest.mp4  (PrathamVideoResource) \n",
      "                 - path: /CourseContent/videos/h_simple_int_prob1.mp4  (PrathamVideoResource) \n",
      "                 - path: /CourseContent/videos/Simple_Interest_Ex-2_Compress.mp4  (PrathamVideoResource) \n",
      "           - path: /hn/Course/Mathematics/CRS8  (subtopic_page) \n",
      "             children:\n",
      "              - path: /hn/Lesson/LES33  (lesson_page) \n",
      "                children:\n",
      "                 - path: /CourseContent/videos/h_algebra1.mp4  (PrathamVideoResource) \n",
      "                 - path: /CourseContent/videos/h_algebra2.mp4  (PrathamVideoResource) \n",
      "           - path: /hn/Course/Mathematics/CRS9  (subtopic_page) \n",
      "             children:\n",
      "              - path: /hn/Lesson/LES34  (lesson_page) \n",
      "                children:\n",
      "                 - path: /CourseContent/videos/SquaringTricks_compress.mp4  (PrathamVideoResource) \n",
      "                 - path: /CourseContent/videos/h_squares_intro.mp4  (PrathamVideoResource) \n",
      "                 - path: /CourseContent/videos/h_square_root.mp4  (PrathamVideoResource) \n",
      "                 - path: /CourseContent/videos/h_square_fun.mp4  (PrathamVideoResource) \n",
      "                 - path: /CourseContent/videos/h_triangular_square.mp4  (PrathamVideoResource) \n",
      "              - path: /hn/Lesson/LES35  (lesson_page) \n",
      "                children:\n",
      "                 - path: /CourseContent/videos/Cube_and_cube_roots.mp4  (PrathamVideoResource) \n",
      "                 - path: /CourseContent/videos/Cuberoot_by_prime factorization_Compress.mp4  (PrathamVideoResource) \n",
      "                 - path: /CourseContent/videos/Play_with_cuberoots_Compress.mp4  (PrathamVideoResource) \n",
      "           - path: /hn/Course/Mathematics/CRS10  (subtopic_page) \n",
      "             children:\n",
      "              - path: /hn/Lesson/LES36  (lesson_page) \n",
      "                children:\n",
      "                 - path: /CourseContent/videos/h_odd_numbers_fun.mp4  (PrathamVideoResource) \n",
      "                 - path: /CourseContent/videos/h_palindromes.mp4  (PrathamVideoResource) \n",
      "                 - path: /CourseContent/videos/h_perfect_numbers.mp4  (PrathamVideoResource) \n",
      "                 - path: /CourseContent/videos/Mental_Percentage.mp4  (PrathamVideoResource) \n",
      "                 - path: /CourseContent/videos/fun_Computer_Work.mp4  (PrathamVideoResource) \n",
      "        - path: /hn/Course/English  (topic_page) \n",
      "          children:\n",
      "           - path: /hn/Course/English/CRS1  (subtopic_page) \n",
      "             children:\n",
      "              - path: /hn/Lesson/LES1  (lesson_page) \n",
      "                children:\n",
      "                 - path: /CourseContent/Games/matchWords_H.zip  (PrathamZipResource) \n",
      "                 - path: /CourseContent/Games/TranslateHindiEnglish.zip  (PrathamZipResource) \n",
      "                 - path: /CourseContent/videos/m_meeting_with_Rahul.mp4  (PrathamVideoResource) \n",
      "                 - path: /CourseContent/videos/friendshi_with_rahul.mp4  (PrathamVideoResource) \n",
      "                 - path: /CourseContent/videos/meeting_madhu_and_deepak.mp4  (PrathamVideoResource) \n",
      "                 - path: /CourseContent/videos/friendship_with_madhu_deepak.mp4  (PrathamVideoResource) \n",
      "                 - path: /CourseContent/videos/Talking_with_new_friends.mp4  (PrathamVideoResource) \n",
      "                 - path: /CourseContent/videos/meeting_with_Rahul.mp4  (PrathamVideoResource) \n",
      "                 - path: /CourseContent/videos/meeting_madhu_and_deepak_revision.mp4  (PrathamVideoResource) \n",
      "              - path: /hn/Lesson/LES2  (lesson_page) \n",
      "                children:\n",
      "                 - path: /CourseContent/Games/TranslateHindiEnglishLevel2.zip  (PrathamZipResource) \n",
      "                 - path: /CourseContent/videos/rahul_parents_meeting.mp4  (PrathamVideoResource) \n",
      "                 - path: /CourseContent/videos/meeting_rahul_parents_at_evening.mp4  (PrathamVideoResource) \n",
      "                 - path: /CourseContent/videos/2_family_meeting.mp4  (PrathamVideoResource) \n",
      "                 - path: /CourseContent/videos/new_friendship.mp4  (PrathamVideoResource) \n",
      "                 - path: /CourseContent/videos/lovely_family.mp4  (PrathamVideoResource) \n",
      "              - path: /hn/Lesson/LES3  (lesson_page) \n",
      "                children:\n",
      "                 - path: /CourseContent/Games/TranslateHindiEnglishLevel3.zip  (PrathamZipResource) \n",
      "                 - path: /CourseContent/videos/3.1_New_guy_in_town.mp4  (PrathamVideoResource) \n",
      "                 - path: /CourseContent/videos/3.2_Lunch_with_Dolly.mp4  (PrathamVideoResource) \n",
      "                 - path: /CourseContent/videos/3.3_Seemas_questions.mp4  (PrathamVideoResource) \n",
      "                 - path: /CourseContent/videos/3.4_Where_is_everyone_.mp4  (PrathamVideoResource) \n",
      "                 - path: /CourseContent/videos/3.5_Seema_runs_into_dolly.mp4  (PrathamVideoResource) \n",
      "                 - path: /CourseContent/videos/3.6_Seema_meets_Dolly_in_her_house.mp4  (PrathamVideoResource) \n",
      "              - path: /hn/Lesson/LES4  (lesson_page) \n",
      "                children:\n",
      "                 - path: /CourseContent/Games/Build-a-Sentence(English).zip  (PrathamZipResource) \n",
      "                 - path: /CourseContent/Games/TranslateHindiEnglishLevel4.zip  (PrathamZipResource) \n",
      "                 - path: /CourseContent/videos/4.1_Favorite_actors.mp4  (PrathamVideoResource) \n",
      "                 - path: /CourseContent/videos/4.2_Fight_of_the_fans.mp4  (PrathamVideoResource) \n",
      "                 - path: /CourseContent/videos/4.3_Going_to_the_movie.mp4  (PrathamVideoResource) \n",
      "                 - path: /CourseContent/videos/4.4_Discussion_about_the_movie.mp4  (PrathamVideoResource) \n",
      "                 - path: /CourseContent/videos/4.5_Likes_and_dislikes_Seema_and_Madhu.mp4  (PrathamVideoResource) \n",
      "                 - path: /CourseContent/videos/4.6_Likes_and_dislikes_Deepak_and_Rahul (Revison).mp4  (PrathamVideoResource) \n",
      "              - path: /hn/Lesson/LES5  (lesson_page) \n",
      "                children:\n",
      "                 - path: /CourseContent/Games/matchWords_H.zip  (PrathamZipResource) \n",
      "                 - path: /CourseContent/videos/5.1_Good_Morning.mp4  (PrathamVideoResource) \n",
      "                 - path: /CourseContent/videos/5.2_On_the_way_to_school.mp4  (PrathamVideoResource) \n",
      "                 - path: /CourseContent/videos/5.3_Time_Pass.mp4  (PrathamVideoResource) \n",
      "                 - path: /CourseContent/videos/5.4_Birthdays_in_one_day.mp4  (PrathamVideoResource) \n",
      "                 - path: /CourseContent/videos/5.5_Running_race.mp4  (PrathamVideoResource) \n",
      "                 - path: /CourseContent/videos/5.6_Revision_Nishas_plans.mp4  (PrathamVideoResource) \n",
      "              - path: /hn/Lesson/LES6  (lesson_page) \n",
      "                children:\n",
      "                 - path: /CourseContent/Games/vanishingSentenceGame_H.zip  (PrathamZipResource) \n",
      "                 - path: /CourseContent/videos/6.1_Shopping.mp4  (PrathamVideoResource) \n",
      "                 - path: /CourseContent/videos/6.2_Ramu_kakas_shop.mp4  (PrathamVideoResource) \n",
      "                 - path: /CourseContent/videos/6.3_Grocery_shopping.mp4  (PrathamVideoResource) \n",
      "                 - path: /CourseContent/videos/6.4_Fashion_point-Garment_store.mp4  (PrathamVideoResource) \n",
      "                 - path: /CourseContent/videos/6.5_Revision-Ramu_kakas_shop.mp4  (PrathamVideoResource) \n",
      "              - path: /hn/Lesson/LES7  (lesson_page) \n",
      "                children:\n",
      "                 - path: /CourseContent/videos/7.1_Story_Slection.mp4  (PrathamVideoResource) \n",
      "                 - path: /CourseContent/videos/7.2_Big_plans_for_the_movie.mp4  (PrathamVideoResource) \n",
      "                 - path: /CourseContent/videos/7.3_Deciding_the_roles.mp4  (PrathamVideoResource) \n",
      "                 - path: /CourseContent/videos/7.4_Shooting.mp4  (PrathamVideoResource) \n",
      "              - path: /hn/Lesson/LES8  (lesson_page) \n",
      "                children:\n",
      "                 - path: /CourseContent/videos/8.1_Wedding_News.mp4  (PrathamVideoResource) \n",
      "                 - path: /CourseContent/videos/8.2_Inviting_my_friends.mp4  (PrathamVideoResource) \n",
      "                 - path: /CourseContent/videos/8.3_Colorful_wedding_clothes.mp4  (PrathamVideoResource) \n",
      "                 - path: /CourseContent/videos/8.4_Salma_didis_Party.mp4  (PrathamVideoResource) \n",
      "              - path: /hn/Lesson/LES9  (lesson_page) \n",
      "                children:\n",
      "                 - path: /CourseContent/videos/9.01_Todays_news_with_Kavita.mp4  (PrathamVideoResource) \n",
      "                 - path: /CourseContent/videos/9.02_My_friends_interview.mp4  (PrathamVideoResource) \n",
      "                 - path: /CourseContent/videos/9.03_Mummys_interview.mp4  (PrathamVideoResource) \n",
      "              - path: /hn/Lesson/LES10  (lesson_page) \n",
      "                children:\n",
      "                 - path: /CourseContent/videos/10.1_Oh_no_It’s_a_ghost.mp4  (PrathamVideoResource) \n",
      "                 - path: /CourseContent/videos/10.2_Where_did_the_jalebi_go.mp4  (PrathamVideoResource) \n",
      "                 - path: /CourseContent/videos/10.3_Rat_in_the_house.mp4  (PrathamVideoResource) \n",
      "                 - path: /CourseContent/videos/10.4_Catch_the_rat.mp4  (PrathamVideoResource) \n",
      "                 - path: /CourseContent/videos/10.5_The_rat_is_gone.mp4  (PrathamVideoResource) \n",
      "              - path: /hn/Lesson/LES12  (lesson_page) \n",
      "                children:\n",
      "                 - path: /CourseContent/videos/No_light_no_work.mp4  (PrathamVideoResource) \n",
      "                 - path: /CourseContent/videos/Rohit_Bhaiya_Ideas.mp4  (PrathamVideoResource) \n",
      "                 - path: /CourseContent/videos/Little_Engineers.mp4  (PrathamVideoResource) \n",
      "                 - path: /CourseContent/videos/Our_new_lightbulb.mp4  (PrathamVideoResource) \n",
      "              - path: /hn/Lesson/LES13  (lesson_page) \n",
      "                children:\n",
      "                 - path: /CourseContent/videos/Game_1.mp4  (PrathamVideoResource) \n",
      "                 - path: /CourseContent/videos/Game_2.mp4  (PrathamVideoResource) \n",
      "                 - path: /CourseContent/videos/Game_3.mp4  (PrathamVideoResource) \n",
      "              - path: /hn/Lesson/LES11  (lesson_page) \n",
      "                children:\n",
      "                 - path: /CourseContent/videos/11.1_Naughty_kid.mp4  (PrathamVideoResource) \n",
      "                 - path: /CourseContent/videos/11.2_Call_Dr_Didi.mp4  (PrathamVideoResource) \n",
      "                 - path: /CourseContent/videos/11.3_Yash_understands.mp4  (PrathamVideoResource) \n",
      "                 - path: /CourseContent/videos/11.4_Young_Khalis.mp4  (PrathamVideoResource) \n",
      "                 - path: /CourseContent/videos/11.5_Well_done.mp4  (PrathamVideoResource) \n",
      "              - path: /hn/Lesson/LES830  (lesson_page) \n",
      "                children:\n",
      "                 - path: /CourseContent/videos/12.1_Tasty_sweets.mp4  (PrathamVideoResource) \n",
      "                 - path: /CourseContent/videos/12.2_Stealing_Lata.mp4  (PrathamVideoResource) \n",
      "                 - path: /CourseContent/videos/12.3_Where_is_Lata.mp4  (PrathamVideoResource) \n",
      "                 - path: /CourseContent/videos/12.4_Welcome_Lata.mp4  (PrathamVideoResource) \n",
      "           - path: /hn/Course/English/CRS2  (subtopic_page) \n",
      "             children:\n",
      "              - path: /hn/Lesson/LES409  (lesson_page) \n",
      "                children:\n",
      "                 - path: /CourseContent/Games/FlipIt/index.html  (UnsupportedPrathamWebResource) \n",
      "              - path: /hn/Lesson/LES410  (lesson_page) \n",
      "                children:\n",
      "                 - path: /CourseContent/Games/CrumbleTumble/index.html  (UnsupportedPrathamWebResource) \n",
      "              - path: /hn/Lesson/LES411  (lesson_page) \n",
      "                children:\n",
      "                 - path: /CourseContent/Games/fixUpMixUp/index.html  (UnsupportedPrathamWebResource) \n",
      "              - path: /hn/Lesson/LES412  (lesson_page) \n",
      "                children:\n",
      "                 - path: /CourseContent/Games/YouSaid/index.html  (UnsupportedPrathamWebResource) \n",
      "              - path: /hn/Lesson/LES413  (lesson_page) \n",
      "                children:\n",
      "                 - path: /CourseContent/Games/PointMeOut/index.html  (UnsupportedPrathamWebResource) \n",
      "              - path: /hn/Lesson/LES414  (lesson_page) \n",
      "                children:\n",
      "                 - path: /CourseContent/Games/GuessWho/index.html  (UnsupportedPrathamWebResource) \n",
      "              - path: /hn/Lesson/LES415  (lesson_page) \n",
      "                children:\n",
      "                 - path: /CourseContent/Games/ABCD/index.html  (UnsupportedPrathamWebResource) \n",
      "              - path: /hn/Lesson/LES416  (lesson_page) \n",
      "                children:\n",
      "                 - path: /CourseContent/Games/LetterBox/index.html  (UnsupportedPrathamWebResource) \n",
      "              - path: /hn/Lesson/LES417  (lesson_page) \n",
      "                children:\n",
      "                 - path: /CourseContent/Games/JumbleTumble/index.html  (UnsupportedPrathamWebResource) \n",
      "              - path: /hn/Lesson/LES418  (lesson_page) \n",
      "                children:\n",
      "                 - path: /CourseContent/Games/CountAndKnow_HI/index.html  (UnsupportedPrathamWebResource) \n",
      "              - path: /hn/Lesson/LES419  (lesson_page) \n",
      "                children:\n",
      "                 - path: /CourseContent/Games/CountIt/index.html  (UnsupportedPrathamWebResource) \n",
      "           - path: /hn/Course/English/CRS96  (subtopic_page) \n",
      "             children:\n",
      "              - path: /hn/Lesson/LES909  (lesson_page) \n",
      "                children:\n",
      "                 - path: /CourseContent/videos/AOK_1.1.mp4  (PrathamVideoResource) \n",
      "                 - path: /CourseContent/videos/AOK_1.2.mp4  (PrathamVideoResource) \n",
      "                 - path: /CourseContent/videos/AOK_1.3.mp4  (PrathamVideoResource) \n",
      "              - path: /hn/Lesson/LES910  (lesson_page) \n",
      "                children:\n",
      "                 - path: /CourseContent/videos/AOK_2.1.mp4  (PrathamVideoResource) \n",
      "                 - path: /CourseContent/videos/AOK_2.2.mp4  (PrathamVideoResource) \n",
      "                 - path: /CourseContent/videos/AOK_2.3.mp4  (PrathamVideoResource) \n",
      "              - path: /hn/Lesson/LES911  (lesson_page) \n",
      "                children:\n",
      "                 - path: /CourseContent/videos/AOK_3.1.mp4  (PrathamVideoResource) \n",
      "                 - path: /CourseContent/videos/AOK_3.2.mp4  (PrathamVideoResource) \n",
      "                 - path: /CourseContent/videos/AOK_3.3.mp4  (PrathamVideoResource) \n",
      "              - path: /hn/Lesson/LES912  (lesson_page) \n",
      "                children:\n",
      "                 - path: /CourseContent/videos/AOK_4.1.mp4  (PrathamVideoResource) \n",
      "                 - path: /CourseContent/videos/AOK_4.2.mp4  (PrathamVideoResource) \n",
      "                 - path: /CourseContent/videos/AOK_4.3.mp4  (PrathamVideoResource) \n",
      "              - path: /hn/Lesson/LES913  (lesson_page) \n",
      "                children:\n",
      "                 - path: /CourseContent/videos/AOK_5.1.mp4  (PrathamVideoResource) \n",
      "                 - path: /CourseContent/videos/AOK_5.2.mp4  (PrathamVideoResource) \n",
      "                 - path: /CourseContent/videos/AOK_5.3.mp4  (PrathamVideoResource) \n",
      "              - path: /hn/Lesson/LES914  (lesson_page) \n",
      "                children:\n",
      "                 - path: /CourseContent/videos/AOK_6.1.mp4  (PrathamVideoResource) \n",
      "                 - path: /CourseContent/videos/AOK_6.2.mp4  (PrathamVideoResource) \n",
      "                 - path: /CourseContent/videos/AOK_6.3.mp4  (PrathamVideoResource) \n",
      "              - path: /hn/Lesson/LES915  (lesson_page) \n",
      "                children:\n",
      "                 - path: /CourseContent/videos/AOK_8.1.mp4  (PrathamVideoResource) \n",
      "                 - path: /CourseContent/videos/AOK_8.2.mp4  (PrathamVideoResource) \n",
      "                 - path: /CourseContent/videos/AOK_8.3.mp4  (PrathamVideoResource) \n",
      "              - path: /hn/Lesson/LES916  (lesson_page) \n",
      "                children:\n",
      "                 - path: /CourseContent/videos/AOK_9.1.mp4  (PrathamVideoResource) \n",
      "                 - path: /CourseContent/videos/AOK_9.2.mp4  (PrathamVideoResource) \n",
      "                 - path: /CourseContent/videos/AOK_9.3.mp4  (PrathamVideoResource) \n",
      "              - path: /hn/Lesson/LES917  (lesson_page) \n",
      "                children:\n",
      "                 - path: /CourseContent/videos/AOK_10.1.mp4  (PrathamVideoResource) \n",
      "                 - path: /CourseContent/videos/AOK_10.2.mp4  (PrathamVideoResource) \n",
      "                 - path: /CourseContent/videos/AOK_10.3.mp4  (PrathamVideoResource) \n",
      "              - path: /hn/Lesson/LES918  (lesson_page) \n",
      "                children:\n",
      "                 - path: /CourseContent/videos/AOK_11.1.mp4  (PrathamVideoResource) \n",
      "                 - path: /CourseContent/videos/AOK_11.2.mp4  (PrathamVideoResource) \n",
      "                 - path: /CourseContent/videos/AOK_11.3.mp4  (PrathamVideoResource) \n",
      "              - path: /hn/Lesson/LES919  (lesson_page) \n",
      "                children:\n",
      "                 - path: /CourseContent/videos/AOK_12.1.mp4  (PrathamVideoResource) \n",
      "                 - path: /CourseContent/videos/AOK_12.2.mp4  (PrathamVideoResource) \n",
      "                 - path: /CourseContent/videos/AOK_12.3.mp4  (PrathamVideoResource) \n",
      "              - path: /hn/Lesson/LES920  (lesson_page) \n",
      "                children:\n",
      "                 - path: /CourseContent/videos/AOK_13.1.mp4  (PrathamVideoResource) \n",
      "                 - path: /CourseContent/videos/AOK_13.2.mp4  (PrathamVideoResource) \n",
      "                 - path: /CourseContent/videos/AOK_13.3.mp4  (PrathamVideoResource) \n",
      "        - path: /hn/Course/Health  (topic_page) \n",
      "          children:\n",
      "           - path: /hn/Course/Health/CRS114  (subtopic_page) \n",
      "             children:\n",
      "              - path: /hn/Lesson/LES870  (lesson_page) \n",
      "                children:\n",
      "                 - path: /CourseContent/videos/kya_h_bhoja_or_kam_144.mp4  (PrathamVideoResource) \n",
      "                 - path: /CourseContent/PDF/Food_groups_and_nutrients.pdf  (PrathamPdfResource) \n",
      "              - path: /hn/Lesson/LES871  (lesson_page) \n",
      "                children:\n",
      "                 - path: /CourseContent/videos/bal_denevale_bhojan_816.mp4  (PrathamVideoResource) \n",
      "                 - path: /CourseContent/PDF/bal_denevale_bhojan_282.pdf  (PrathamPdfResource) \n",
      "              - path: /hn/Lesson/LES872  (lesson_page) \n",
      "                children:\n",
      "                 - path: /CourseContent/videos/badhatvale_bhijan.mp4  (PrathamVideoResource) \n",
      "                 - path: /CourseContent/PDF/badhat_me_madat_karnevale_bhojan_750.pdf  (PrathamPdfResource) \n",
      "              - path: /hn/Lesson/LES873  (lesson_page) \n",
      "                children:\n",
      "                 - path: /CourseContent/videos/bachav_karnevale_bhojan_929.mp4  (PrathamVideoResource) \n",
      "                 - path: /CourseContent/PDF/bachav_karnevale_bhojan_747.pdf  (PrathamPdfResource) \n",
      "              - path: /hn/Lesson/LES874  (lesson_page) \n",
      "                children:\n",
      "                 - path: /CourseContent/videos/santulit_aahar_29.mp4  (PrathamVideoResource) \n",
      "                 - path: /CourseContent/PDF/santulit_ahar_825.pdf  (PrathamPdfResource) \n",
      "                 - path: /CourseContent/Games/sorting diet/sorting.html  (UnsupportedPrathamWebResource) \n",
      "                 - path: /CourseContent/Games/sorting diet/sorting.html  (UnsupportedPrathamWebResource) \n",
      "              - path: /hn/Lesson/LES875  (lesson_page) \n",
      "                children:\n",
      "                 - path: /CourseContent/videos/sharir_me_bhojan_k_kam_25.mp4  (PrathamVideoResource) \n",
      "                 - path: /CourseContent/PDF/poshak_tatva_623.pdf  (PrathamPdfResource) \n",
      "              - path: /hn/Lesson/LES876  (lesson_page) \n",
      "                children:\n",
      "                 - path: /CourseContent/videos/vitamin_a_ki_kami_se_chhutakara_630.mp4  (PrathamVideoResource) \n",
      "                 - path: /CourseContent/PDF/vitamin_a_215.pdf  (PrathamPdfResource) \n",
      "                 - path: /CourseContent/Games/DietQuiz(HindiVersion)/www/MainScreen.html  (UnsupportedPrathamWebResource) \n",
      "              - path: /hn/Lesson/LES877  (lesson_page) \n",
      "                children:\n",
      "                 - path: /CourseContent/Games/DietQuiz(HindiVersion)/www/MainScreen.html  (UnsupportedPrathamWebResource) \n",
      "                 - path: /CourseContent/videos/iron_ki_kami_se_chhutkara_394.mp4  (PrathamVideoResource) \n",
      "              - path: /hn/Lesson/LES878  (lesson_page) \n",
      "                children:\n",
      "                 - path: /CourseContent/videos/iodine_ke_kami_se_chhutka.mp4  (PrathamVideoResource) \n",
      "                 - path: /CourseContent/PDF/Iodine_941.pdf  (PrathamPdfResource) \n",
      "                 - path: /CourseContent/Games/DietQuiz(HindiVersion)/www/MainScreen.html  (UnsupportedPrathamWebResource) \n",
      "              - path: /hn/Lesson/LES879  (lesson_page) \n",
      "                children:\n",
      "                 - path: /CourseContent/videos/daliya_mishran.mp4  (PrathamVideoResource) \n",
      "                 - path: /CourseContent/videos/gehu_aahar_mishran.mp4  (PrathamVideoResource) \n",
      "                 - path: /CourseContent/videos/gehu_soya_mishran.mp4  (PrathamVideoResource) \n",
      "                 - path: /CourseContent/videos/gola_roti.mp4  (PrathamVideoResource) \n",
      "                 - path: /CourseContent/videos/khichadi.mp4  (PrathamVideoResource) \n",
      "                 - path: /CourseContent/videos/suji_ka-halwa.mp4  (PrathamVideoResource) \n",
      "                 - path: /CourseContent/videos/rava_daliya.mp4  (PrathamVideoResource) \n",
      "                 - path: /CourseContent/videos/meetha_daliya.mp4  (PrathamVideoResource) \n",
      "                 - path: /CourseContent/PDF/daliya_mishran.pdf  (PrathamPdfResource) \n",
      "                 - path: /CourseContent/PDF/gehu_aahar_mishran.pdf  (PrathamPdfResource) \n",
      "                 - path: /CourseContent/PDF/gehu_soya_mishran.pdf  (PrathamPdfResource) \n",
      "                 - path: /CourseContent/PDF/gola_roti.pdf  (PrathamPdfResource) \n",
      "                 - path: /CourseContent/PDF/khichadi.pdf  (PrathamPdfResource) \n",
      "                 - path: /CourseContent/PDF/suji_ka_halwa.pdf  (PrathamPdfResource) \n",
      "                 - path: /CourseContent/PDF/rava_daliya.pdf  (PrathamPdfResource) \n",
      "                 - path: /CourseContent/PDF/meetha_daliya.pdf  (PrathamPdfResource) \n",
      "        - path: /hn/Course/Science  (topic_page) \n",
      "          children:\n",
      "           - path: /hn/Course/Science/CRS62  (subtopic_page) \n",
      "             children:\n",
      "              - path: /hn/Lesson/LES829  (lesson_page) \n",
      "                children:\n",
      "                 - path: /CourseContent/videos/h_quantityNmeasure1.mp4  (PrathamVideoResource) \n",
      "                 - path: /CourseContent/videos/h_quantityNmeasure2.mp4  (PrathamVideoResource) \n",
      "                 - path: /CourseContent/videos/h_quantityNmeasure3.mp4  (PrathamVideoResource) \n",
      "                 - path: /CourseContent/videos/h_quantityNmeasure4.mp4  (PrathamVideoResource) \n",
      "                 - path: /CourseContent/videos/h_quantityNmeasure5.mp4  (PrathamVideoResource) \n",
      "                 - path: /CourseContent/videos/h_estimate_building_height.mp4  (PrathamVideoResource) \n",
      "                 - path: /CourseContent/videos/h_measure_pole_height.mp4  (PrathamVideoResource) \n",
      "                 - path: /CourseContent/videos/h_dheel.mp4  (PrathamVideoResource) \n",
      "           - path: /hn/Course/Science/CRS12  (subtopic_page) \n",
      "             children:\n",
      "              - path: /hn/Lesson/LES38  (lesson_page) \n",
      "                children:\n",
      "                 - path: /CourseContent/videos/h_reflection.mp4  (PrathamVideoResource) \n",
      "                 - path: /CourseContent/videos/h_mirror.mp4  (PrathamVideoResource) \n",
      "                 - path: /CourseContent/videos/h_shadow.mp4  (PrathamVideoResource) \n",
      "                 - path: /CourseContent/videos/h_sun_colour.mp4  (PrathamVideoResource) \n",
      "                 - path: /CourseContent/Games/ScienceBucketGame_H/BucketGame.html  (UnsupportedPrathamWebResource) \n",
      "                 - path: /CourseContent/videos/h_cage_bird.mp4  (PrathamVideoResource) \n",
      "                 - path: /CourseContent/videos/h_magic_coin.mp4  (PrathamVideoResource) \n",
      "                 - path: /CourseContent/videos/h_invisible_coin.mp4  (PrathamVideoResource) \n",
      "                 - path: /CourseContent/videos/Sunlight_in_the_House.mp4  (PrathamVideoResource) \n",
      "                 - path: /CourseContent/PDF/h_Prakash_Ka_Sancharan.pdf  (PrathamPdfResource) \n",
      "                 - path: /CourseContent/videos/mirror.mp4  (PrathamVideoResource) \n",
      "              - path: /hn/Lesson/LES39  (lesson_page) \n",
      "                children:\n",
      "                 - path: /CourseContent/videos/h_colourful_world1.mp4  (PrathamVideoResource) \n",
      "                 - path: /CourseContent/videos/h_colourful_world2.mp4  (PrathamVideoResource) \n",
      "              - path: /hn/Lesson/LES40  (lesson_page) \n",
      "                children:\n",
      "                 - path: /CourseContent/videos/h_light_day.mp4  (PrathamVideoResource) \n",
      "           - path: /hn/Course/Science/CRS13  (subtopic_page) \n",
      "             children:\n",
      "              - path: /hn/Lesson/LES41  (lesson_page) \n",
      "                children:\n",
      "                 - path: /CourseContent/Games/ScienceBucketGame_H/BucketGame.html  (UnsupportedPrathamWebResource) \n",
      "                 - path: /CourseContent/videos/h_substance_state.mp4  (PrathamVideoResource) \n",
      "              - path: /hn/Lesson/LES42  (lesson_page) \n",
      "                children:\n",
      "                 - path: /CourseContent/Games/planetGame_H/welcomeScreen.html  (UnsupportedPrathamWebResource) \n",
      "                 - path: /CourseContent/videos/h_mass_weight1.mp4  (PrathamVideoResource) \n",
      "                 - path: /CourseContent/videos/h_mass_weight2.mp4  (PrathamVideoResource) \n",
      "                 - path: /CourseContent/videos/h_time_distance_weight.mp4  (PrathamVideoResource) \n",
      "                 - path: /CourseContent/videos/h_force.mp4  (PrathamVideoResource) \n",
      "                 - path: /CourseContent/videos/h_pressure.mp4  (PrathamVideoResource) \n",
      "                 - path: /CourseContent/videos/h_acceleration.mp4  (PrathamVideoResource) \n",
      "                 - path: /CourseContent/videos/h_weight1.mp4  (PrathamVideoResource) \n",
      "                 - path: /CourseContent/videos/h_weight2.mp4  (PrathamVideoResource) \n",
      "              - path: /hn/Lesson/LES43  (lesson_page) \n",
      "                children:\n",
      "                 - path: /CourseContent/videos/h_molecule_structure.mp4  (PrathamVideoResource) \n",
      "              - path: /hn/Lesson/LES44  (lesson_page) \n",
      "                children:\n",
      "                 - path: /CourseContent/videos/h_substance_density.mp4  (PrathamVideoResource) \n",
      "                 - path: /CourseContent/videos/vajankyahoga.mp4  (PrathamVideoResource) \n",
      "                 - path: /CourseContent/videos/doobegayatairega.mp4  (PrathamVideoResource) \n",
      "                 - path: /CourseContent/videos/gubbareudengey.mp4  (PrathamVideoResource) \n",
      "           - path: /hn/Course/Science/CRS14  (subtopic_page) \n",
      "             children:\n",
      "              - path: /hn/Lesson/LES45  (lesson_page) \n",
      "                children:\n",
      "                 - path: /CourseContent/Games/Bone Game(Dr. Haddi)_H.zip  (PrathamZipResource) \n",
      "                 - path: /CourseContent/videos/h_skeleton_system_general.mp4  (PrathamVideoResource) \n",
      "                 - path: /CourseContent/videos/h_skeleton_system1.mp4  (PrathamVideoResource) \n",
      "                 - path: /CourseContent/videos/h_skeleton_system2.mp4  (PrathamVideoResource) \n",
      "                 - path: /CourseContent/videos/h_skeleton_system3.mp4  (PrathamVideoResource) \n",
      "                 - path: /CourseContent/videos/h_skeleton_system4.mp4  (PrathamVideoResource) \n",
      "                 - path: /CourseContent/videos/h_skeleton_system5.mp4  (PrathamVideoResource) \n",
      "                 - path: /CourseContent/videos/h_ackrobat_skeleton.mp4  (PrathamVideoResource) \n",
      "                 - path: /CourseContent/videos/h_hingeMan.mp4  (PrathamVideoResource) \n",
      "              - path: /hn/Lesson/LES46  (lesson_page) \n",
      "                children:\n",
      "                 - path: /CourseContent/videos/h_Blood_pressure.mp4  (PrathamVideoResource) \n",
      "                 - path: /CourseContent/videos/h_Blood_pressure_checking.mp4  (PrathamVideoResource) \n",
      "                 - path: /CourseContent/videos/h_bloodIntro.mp4  (PrathamVideoResource) \n",
      "                 - path: /CourseContent/videos/h_formationOfBlood.mp4  (PrathamVideoResource) \n",
      "                 - path: /CourseContent/videos/h_circulatorySystem.mp4  (PrathamVideoResource) \n",
      "              - path: /hn/Lesson/LES834  (lesson_page) \n",
      "                children:\n",
      "                 - path: /CourseContent/videos/h_Chintu_ban_gaya_chashmebaddur.mp4  (PrathamVideoResource) \n",
      "                 - path: /CourseContent/videos/h_Working_of_eye.mp4  (PrathamVideoResource) \n",
      "                 - path: /CourseContent/videos/h_ModelhumanEye.mp4  (PrathamVideoResource) \n",
      "                 - path: /CourseContent/videos/h_Movie_time.mp4  (PrathamVideoResource) \n",
      "                 - path: /CourseContent/videos/h_colourful_world1.mp4  (PrathamVideoResource) \n",
      "                 - path: /CourseContent/videos/Pupil_Purpose.mp4  (PrathamVideoResource) \n",
      "              - path: /hn/Lesson/LES840  (lesson_page) \n",
      "                children:\n",
      "                 - path: /CourseContent/videos/h_Skin.mp4  (PrathamVideoResource) \n",
      "           - path: /hn/Course/Science/CRS15  (subtopic_page) \n",
      "             children:\n",
      "              - path: /hn/Lesson/LES47  (lesson_page) \n",
      "                children:\n",
      "                 - path: /CourseContent/videos/h_motion_types.mp4  (PrathamVideoResource) \n",
      "                 - path: /CourseContent/videos/h_newton_law1.mp4  (PrathamVideoResource) \n",
      "                 - path: /CourseContent/videos/h_newton_law2.mp4  (PrathamVideoResource) \n",
      "                 - path: /CourseContent/videos/h_newton_law3.mp4  (PrathamVideoResource) \n",
      "                 - path: /CourseContent/videos/h_speed_velocity.mp4  (PrathamVideoResource) \n",
      "                 - path: /CourseContent/videos/h_learning_bike1.mp4  (PrathamVideoResource) \n",
      "                 - path: /CourseContent/videos/h_learning_bike2.mp4  (PrathamVideoResource) \n",
      "                 - path: /CourseContent/videos/h_race_speed.mp4  (PrathamVideoResource) \n",
      "                 - path: /CourseContent/videos/h_acceleration_fear.mp4  (PrathamVideoResource) \n",
      "              - path: /hn/Lesson/LES48  (lesson_page) \n",
      "                children:\n",
      "                 - path: /CourseContent/videos/h_galileo_ground.mp4  (PrathamVideoResource) \n",
      "                 - path: /CourseContent/videos/h_newton_ball.mp4  (PrathamVideoResource) \n",
      "                 - path: /CourseContent/videos/h_newton_speed.mp4  (PrathamVideoResource) \n",
      "                 - path: /CourseContent/videos/h_newton_force.mp4  (PrathamVideoResource) \n",
      "                 - path: /CourseContent/videos/h_newton_egg.mp4  (PrathamVideoResource) \n",
      "              - path: /hn/Lesson/LES839  (lesson_page) \n",
      "                children:\n",
      "                 - path: /CourseContent/videos/h_Pendulum_Intro.mp4  (PrathamVideoResource) \n",
      "           - path: /hn/Course/Science/CRS16  (subtopic_page) \n"
     ]
    },
    {
     "name": "stdout",
     "output_type": "stream",
     "text": [
      "             children:\n",
      "              - path: /hn/Lesson/LES49  (lesson_page) \n",
      "                children:\n",
      "                 - path: /CourseContent/videos/h_Story_of_Galileo_part_1.mp4  (PrathamVideoResource) \n",
      "                 - path: /CourseContent/videos/h_Story_of_Galileo_part_2.mp4  (PrathamVideoResource) \n",
      "                 - path: /CourseContent/videos/h_solar_system.mp4  (PrathamVideoResource) \n",
      "              - path: /hn/Lesson/LES50  (lesson_page) \n",
      "                children:\n",
      "                 - path: /CourseContent/videos/h_place_map.mp4  (PrathamVideoResource) \n",
      "                 - path: /CourseContent/videos/h_know_map.mp4  (PrathamVideoResource) \n",
      "                 - path: /CourseContent/videos/h_time_story1.mp4  (PrathamVideoResource) \n",
      "                 - path: /CourseContent/videos/h_time_story2.mp4  (PrathamVideoResource) \n",
      "                 - path: /CourseContent/videos/h_earth_space.mp4  (PrathamVideoResource) \n",
      "                 - path: /CourseContent/videos/Finding_places_on_Map_and_Globe.mp4  (PrathamVideoResource) \n",
      "                 - path: /CourseContent/videos/Know_our_earth.mp4  (PrathamVideoResource) \n",
      "           - path: /hn/Course/Science/CRS17  (subtopic_page) \n",
      "             children:\n",
      "              - path: /hn/Lesson/LES52  (lesson_page) \n",
      "                children:\n",
      "                 - path: /CourseContent/videos/h_changing_energy.mp4  (PrathamVideoResource) \n",
      "                 - path: /CourseContent/videos/h_energy_intro.mp4  (PrathamVideoResource) \n",
      "                 - path: /CourseContent/videos/h_energy_family.mp4  (PrathamVideoResource) \n",
      "              - path: /hn/Lesson/LES53  (lesson_page) \n",
      "                children:\n",
      "                 - path: /CourseContent/videos/h_chintu_work.mp4  (PrathamVideoResource) \n",
      "              - path: /hn/Lesson/LES51  (lesson_page) \n",
      "                children:\n",
      "                 - path: /CourseContent/videos/h_Lever_&_mechanical_advantage.mp4  (PrathamVideoResource) \n",
      "                 - path: /CourseContent/videos/h_Lever_Simple_machine.mp4  (PrathamVideoResource) \n",
      "                 - path: /CourseContent/videos/h_Inclined_plane_Simple_machine.mp4  (PrathamVideoResource) \n",
      "                 - path: /CourseContent/videos/h_Pulley_and_its_advantage.mp4  (PrathamVideoResource) \n",
      "                 - path: /CourseContent/videos/h_Pulley_advantage_and_disadvantages_1.mp4  (PrathamVideoResource) \n",
      "                 - path: /CourseContent/videos/h_Pulley_advantage_and_disadvantages_2.mp4  (PrathamVideoResource) \n",
      "                 - path: /CourseContent/videos/h_Funicular_railway.mp4  (PrathamVideoResource) \n",
      "           - path: /hn/Course/Science/CRS18  (subtopic_page) \n",
      "             children:\n",
      "              - path: /hn/Lesson/LES54  (lesson_page) \n",
      "                children:\n",
      "                 - path: /CourseContent/videos/h_self_opearating_gate.mp4  (PrathamVideoResource) \n",
      "                 - path: /CourseContent/videos/h_Jaltarang.mp4  (PrathamVideoResource) \n",
      "                 - path: /CourseContent/videos/h_paper_bridge.mp4  (PrathamVideoResource) \n",
      "                 - path: /CourseContent/videos/h_Parachute.mp4  (PrathamVideoResource) \n",
      "                 - path: /CourseContent/videos/Magic_Balloon.mp4  (PrathamVideoResource) \n",
      "                 - path: /CourseContent/videos/h_Movie_time.mp4  (PrathamVideoResource) \n",
      "                 - path: /CourseContent/videos/Static_Electricity1.mp4  (PrathamVideoResource) \n",
      "                 - path: /CourseContent/videos/h_ModelhumanEye.mp4  (PrathamVideoResource) \n",
      "                 - path: /CourseContent/videos/Static_Electricity2.mp4  (PrathamVideoResource) \n",
      "                 - path: /CourseContent/videos/h_Manchahi_Barsat.mp4  (PrathamVideoResource) \n",
      "                 - path: /CourseContent/videos/Static_Magic_Wand.mp4  (PrathamVideoResource) \n",
      "                 - path: /CourseContent/videos/h_Tring_tring_paper_cup_telephone.mp4  (PrathamVideoResource) \n",
      "                 - path: /CourseContent/videos/Straw_Spindle.mp4  (PrathamVideoResource) \n",
      "                 - path: /CourseContent/videos/h_bottle_rocket.mp4  (PrathamVideoResource) \n",
      "                 - path: /CourseContent/videos/Straw_Flute.mp4  (PrathamVideoResource) \n",
      "                 - path: /CourseContent/videos/h_Funicular_railway.mp4  (PrathamVideoResource) \n",
      "                 - path: /CourseContent/videos/Funny_Motor.mp4  (PrathamVideoResource) \n",
      "                 - path: /CourseContent/videos/Funny_Balloon.mp4  (PrathamVideoResource) \n",
      "                 - path: /CourseContent/videos/Magnetic_Levitation.mp4  (PrathamVideoResource) \n",
      "                 - path: /CourseContent/videos/Nails_Puzzle.mp4  (PrathamVideoResource) \n",
      "                 - path: /CourseContent/videos/Non_Magnetic_Motor.mp4  (PrathamVideoResource) \n",
      "           - path: /hn/Course/Science/CRS66  (subtopic_page) \n",
      "             children:\n",
      "              - path: /hn/Lesson/LES836  (lesson_page) \n",
      "                children:\n",
      "                 - path: /CourseContent/videos/h_Ganv_ki_Sair.mp4  (PrathamVideoResource) \n",
      "           - path: /hn/Course/Science/CRS67  (subtopic_page) \n",
      "             children:\n",
      "              - path: /hn/Lesson/LES842  (lesson_page) \n",
      "                children:\n",
      "                 - path: /CourseContent/videos/h_Lever_&_mechanical_advantage.mp4  (PrathamVideoResource) \n",
      "                 - path: /CourseContent/videos/h_Lever_Simple_machine.mp4  (PrathamVideoResource) \n",
      "                 - path: /CourseContent/videos/h_Inclined_plane_Simple_machine.mp4  (PrathamVideoResource) \n",
      "                 - path: /CourseContent/videos/h_Pulley_and_its_advantage.mp4  (PrathamVideoResource) \n",
      "                 - path: /CourseContent/videos/h_Pulley_advantage_and_disadvantages_1.mp4  (PrathamVideoResource) \n",
      "                 - path: /CourseContent/videos/h_Pulley_advantage_and_disadvantages_2.mp4  (PrathamVideoResource) \n",
      "                 - path: /CourseContent/videos/h_Funicular_railway.mp4  (PrathamVideoResource) \n",
      "           - path: /hn/Course/Science/CRS68  (subtopic_page) \n",
      "             children:\n",
      "              - path: /hn/Lesson/LES838  (lesson_page) \n",
      "                children:\n",
      "                 - path: /CourseContent/videos/h_First_Aid_box.mp4  (PrathamVideoResource) \n",
      "        - path: /hn/Course/Hospitality  (topic_page) \n",
      "          children:\n",
      "           - path: /hn/Course/Hospitality/CRS86  (subtopic_page) \n",
      "             children:\n",
      "              - path: /hn/Lesson/LES890  (lesson_page) \n",
      "                children:\n",
      "                 - path: /CourseContent/videos/H_Hospitality Intro.mp4  (PrathamVideoResource) \n",
      "              - path: /hn/Lesson/LES891  (lesson_page) \n",
      "                children:\n",
      "                 - path: /CourseContent/videos/H_Departments of a Hotel.mp4  (PrathamVideoResource) \n",
      "                 - path: /CourseContent/videos/H_Hotel Industry.mp4  (PrathamVideoResource) \n",
      "                 - path: /CourseContent/videos/H_Discussion with Taj industry expert.mp4  (PrathamVideoResource) \n",
      "                 - path: /CourseContent/videos/H_Discussion with industry experts.mp4  (PrathamVideoResource) \n",
      "                 - path: /CourseContent/videos/H_Discussion with industry experts - II.mp4  (PrathamVideoResource) \n",
      "              - path: /hn/Lesson/LES892  (lesson_page) \n",
      "                children:\n",
      "                 - path: /CourseContent/videos/H_mangalDevi.mp4  (PrathamVideoResource) \n",
      "           - path: /hn/Course/Hospitality/CRS87  (subtopic_page) \n",
      "             children:\n",
      "              - path: /hn/Lesson/LES893  (lesson_page) \n",
      "                children:\n",
      "                 - path: /CourseContent/videos/H_F&B Syllabus.mp4  (PrathamVideoResource) \n",
      "              - path: /hn/Lesson/LES894  (lesson_page) \n",
      "                children:\n",
      "                 - path: /CourseContent/videos/H_Dinner.mp4  (PrathamVideoResource) \n",
      "                 - path: /CourseContent/videos/H_Table set up.mp4  (PrathamVideoResource) \n",
      "                 - path: /CourseContent/videos/H_Table Setup Long.mp4  (PrathamVideoResource) \n",
      "           - path: /hn/Course/Hospitality/CRS88  (subtopic_page) \n",
      "             children:\n",
      "              - path: /hn/Lesson/LES895  (lesson_page) \n",
      "                children:\n",
      "                 - path: /CourseContent/videos/H_Food production syllabus.mp4  (PrathamVideoResource) \n",
      "              - path: /hn/Lesson/LES896  (lesson_page) \n",
      "                children:\n",
      "                 - path: /CourseContent/videos/H_Buns recipe.mp4  (PrathamVideoResource) \n",
      "                 - path: /CourseContent/videos/H_Veg puffs recipe.mp4  (PrathamVideoResource) \n",
      "                 - path: /CourseContent/videos/H_Cake icing.mp4  (PrathamVideoResource) \n",
      "                 - path: /CourseContent/videos/H_Bread rolls recipe.mp4  (PrathamVideoResource) \n",
      "                 - path: /CourseContent/videos/H_Muffins recipe.mp4  (PrathamVideoResource) \n",
      "           - path: /hn/Course/Hospitality/CRS89  (subtopic_page) \n",
      "             children:\n",
      "              - path: /hn/Lesson/LES897  (lesson_page) \n",
      "                children:\n",
      "                 - path: /CourseContent/videos/H_Housekeeping syllabus.mp4  (PrathamVideoResource) \n",
      "              - path: /hn/Lesson/LES898  (lesson_page) \n",
      "                children:\n",
      "                 - path: /CourseContent/videos/H_Inhouse Cleaning Equipments.mp4  (PrathamVideoResource) \n",
      "                 - path: /CourseContent/videos/H_Outdoor Cleaning Equipments.mp4  (PrathamVideoResource) \n",
      "                 - path: /CourseContent/videos/H_Bed making.mp4  (PrathamVideoResource) \n",
      "                 - path: /CourseContent/videos/H_Floor cleaning.mp4  (PrathamVideoResource) \n",
      "                 - path: /CourseContent/videos/H_Guest room cleaning.mp4  (PrathamVideoResource) \n",
      "                 - path: /CourseContent/videos/H_Dusting.mp4  (PrathamVideoResource) \n",
      "                 - path: /CourseContent/videos/H_Room Arrangement.mp4  (PrathamVideoResource) \n",
      "                 - path: /CourseContent/videos/H_Bathroom_cleaning.mp4  (PrathamVideoResource) \n",
      "        - path: /hn/Course/Construction  (topic_page) \n",
      "          children:\n",
      "           - path: /hn/Course/Construction/CRS93  (subtopic_page) \n",
      "             children:\n",
      "              - path: /hn/Lesson/LES899  (lesson_page) \n",
      "                children:\n",
      "                 - path: /CourseContent/videos/H_Construction Orientation.mp4  (PrathamVideoResource) \n",
      "        - path: /hn/Course/Automobile  (topic_page) \n",
      "          children:\n",
      "           - path: /hn/Course/Automobile/CRS94  (subtopic_page) \n",
      "             children:\n",
      "              - path: /hn/Lesson/LES900  (lesson_page) \n",
      "                children:\n",
      "                 - path: /CourseContent/videos/H_Automobile orientation.mp4  (PrathamVideoResource) \n",
      "              - path: /hn/Lesson/LES901  (lesson_page) \n",
      "                children:\n",
      "                 - path: /CourseContent/videos/H_Automobile Syllabus.mp4  (PrathamVideoResource) \n",
      "        - path: /hn/Course/Electric  (topic_page) \n",
      "          children:\n",
      "           - path: /hn/Course/Electric/CRS90  (subtopic_page) \n",
      "             children:\n",
      "              - path: /hn/Lesson/LES902  (lesson_page) \n",
      "                children:\n",
      "                 - path: /CourseContent/videos/H_About the industry.mp4  (PrathamVideoResource) \n",
      "              - path: /hn/Lesson/LES903  (lesson_page) \n",
      "                children:\n",
      "                 - path: /CourseContent/videos/H_Dharma story.mp4  (PrathamVideoResource) \n",
      "        - path: /hn/Course/Beauty  (topic_page) \n",
      "          children:\n",
      "           - path: /hn/Course/Beauty/CRS95  (subtopic_page) \n",
      "             children:\n",
      "              - path: /hn/Lesson/LES904  (lesson_page) \n",
      "                children:\n",
      "                 - path: /CourseContent/Beauty/Video/H_Sanghmitra.mp4  (PrathamVideoResource) \n",
      "              - path: /hn/Lesson/LES905  (lesson_page) \n",
      "                children:\n",
      "                 - path: /CourseContent/Beauty/Video/H_Learn threading.mp4  (PrathamVideoResource) \n",
      "        - path: /hn/Course/Healthcare  (topic_page) \n",
      "          children:\n",
      "           - path: /hn/Course/Healthcare/CRS91  (subtopic_page) \n",
      "             children:\n",
      "              - path: /hn/Lesson/LES906  (lesson_page) \n",
      "                children:\n",
      "                 - path: /CourseContent/videos/H_Bedside-Assistant.mp4  (PrathamVideoResource) \n",
      "              - path: /hn/Lesson/LES907  (lesson_page) \n",
      "                children:\n",
      "                 - path: /CourseContent/videos/H_Hand Wash.mp4  (PrathamVideoResource) \n",
      "                 - path: /CourseContent/videos/H_Bed making.mp4  (PrathamVideoResource) \n",
      "                 - path: /CourseContent/videos/H_Auto Clave.mp4  (PrathamVideoResource) \n",
      "                 - path: /CourseContent/videos/H_Temperature.mp4  (PrathamVideoResource) \n",
      "              - path: /hn/Lesson/LES908  (lesson_page) \n",
      "                children:\n",
      "                 - path: /CourseContent/videos/H_Story Bedside.mp4  (PrathamVideoResource) \n",
      "        - path: /hn/Course/Std5  (topic_page) \n",
      "          children:\n",
      "           - path: /hn/Course/Std5/CRS21  (subtopic_page) \n",
      "             children:\n",
      "              - path: /hn/Lesson/LES73  (lesson_page) \n",
      "                children:\n",
      "                 - path: /CourseContent/videos/Snakes_and_Venom.mp4  (PrathamVideoResource) \n",
      "              - path: /hn/Lesson/LES74  (lesson_page) \n",
      "                children:\n",
      "                 - path: /CourseContent/videos/Talking_Through_Pictures.mp4  (PrathamVideoResource) \n",
      "              - path: /hn/Lesson/LES75  (lesson_page) \n",
      "                children:\n",
      "                 - path: /CourseContent/videos/Digestion.mp4  (PrathamVideoResource) \n",
      "              - path: /hn/Lesson/LES76  (lesson_page) \n",
      "                children:\n",
      "                 - path: /CourseContent/videos/Glucose_-_A_Source_of_Energy.mp4  (PrathamVideoResource) \n",
      "              - path: /hn/Lesson/LES77  (lesson_page) \n",
      "                children:\n",
      "                 - path: /CourseContent/videos/Factors_for_Seed_Germination.mp4  (PrathamVideoResource) \n",
      "              - path: /hn/Lesson/LES78  (lesson_page) \n",
      "                children:\n",
      "                 - path: /CourseContent/videos/Growing_Plants.mp4  (PrathamVideoResource) \n",
      "              - path: /hn/Lesson/LES79  (lesson_page) \n",
      "                children:\n",
      "                 - path: /CourseContent/videos/Water_Today.mp4  (PrathamVideoResource) \n",
      "              - path: /hn/Lesson/LES80  (lesson_page) \n",
      "                children:\n",
      "                 - path: /CourseContent/videos/A_Tale_of_Two_Mosquitoes.mp4  (PrathamVideoResource) \n",
      "              - path: /hn/Lesson/LES81  (lesson_page) \n",
      "                children:\n",
      "                 - path: /CourseContent/videos/A_Sense_of_Belonging.mp4  (PrathamVideoResource) \n",
      "              - path: /hn/Lesson/LES82  (lesson_page) \n",
      "                children:\n",
      "                 - path: /CourseContent/videos/Recovering_from_an_Earthquake.mp4  (PrathamVideoResource) \n",
      "              - path: /hn/Lesson/LES83  (lesson_page) \n",
      "                children:\n",
      "                 - path: /CourseContent/videos/Breathing.mp4  (PrathamVideoResource) \n",
      "              - path: /hn/Lesson/LES84  (lesson_page) \n",
      "                children:\n",
      "                 - path: /CourseContent/videos/Cooling_and_Warming_Effects_of_Blowing_Air.mp4  (PrathamVideoResource) \n",
      "              - path: /hn/Lesson/LES85  (lesson_page) \n",
      "                children:\n",
      "                 - path: /CourseContent/videos/Elimination_of_Social_Discrimination.mp4  (PrathamVideoResource) \n",
      "              - path: /hn/Lesson/LES86  (lesson_page) \n",
      "                children:\n",
      "                 - path: /CourseContent/videos/Migration.mp4  (PrathamVideoResource) \n",
      "              - path: /hn/Lesson/LES87  (lesson_page) \n",
      "                children:\n",
      "                 - path: /CourseContent/videos/Village_Life.mp4  (PrathamVideoResource) \n",
      "              - path: /hn/Lesson/LES88  (lesson_page) \n",
      "                children:\n",
      "                 - path: /CourseContent/videos/A_Traditional_Farmer.mp4  (PrathamVideoResource) \n",
      "              - path: /hn/Lesson/LES89  (lesson_page) \n",
      "                children:\n",
      "                 - path: /CourseContent/videos/Organic_Farming.mp4  (PrathamVideoResource) \n",
      "              - path: /hn/Lesson/LES90  (lesson_page) \n",
      "                children:\n",
      "                 - path: /CourseContent/videos/Effects_of_Deforestation.mp4  (PrathamVideoResource) \n",
      "              - path: /hn/Lesson/LES91  (lesson_page) \n",
      "                children:\n",
      "                 - path: /CourseContent/videos/Forest_People.mp4  (PrathamVideoResource) \n",
      "              - path: /hn/Lesson/LES72  (lesson_page) \n",
      "                children:\n",
      "                 - path: /CourseContent/videos/Tiger.mp4  (PrathamVideoResource) \n",
      "           - path: /hn/Course/Std5/CRS22  (subtopic_page) \n",
      "             children:\n",
      "              - path: /hn/Lesson/LES92  (lesson_page) \n",
      "                children:\n",
      "                 - path: /CourseContent/videos/Shape_Up.mp4  (PrathamVideoResource) \n",
      "              - path: /hn/Lesson/LES93  (lesson_page) \n",
      "                children:\n",
      "                 - path: /CourseContent/videos/Lets_Go_Around.mp4  (PrathamVideoResource) \n",
      "              - path: /hn/Lesson/LES94  (lesson_page) \n",
      "                children:\n",
      "                 - path: /CourseContent/videos/Whats_the_Area.mp4  (PrathamVideoResource) \n",
      "              - path: /hn/Lesson/LES95  (lesson_page) \n",
      "                children:\n",
      "                 - path: /CourseContent/videos/Creating_a_Toran.mp4  (PrathamVideoResource) \n",
      "              - path: /hn/Lesson/LES96  (lesson_page) \n",
      "                children:\n",
      "                 - path: /CourseContent/videos/Factors.mp4  (PrathamVideoResource) \n",
      "              - path: /hn/Lesson/LES97  (lesson_page) \n",
      "                children:\n",
      "                 - path: /CourseContent/videos/Exploring_Patterns.mp4  (PrathamVideoResource) \n",
      "              - path: /hn/Lesson/LES98  (lesson_page) \n",
      "                children:\n",
      "                 - path: /CourseContent/videos/Create_a_Floor_Map.mp4  (PrathamVideoResource) \n",
      "              - path: /hn/Lesson/LES99  (lesson_page) \n",
      "                children:\n",
      "                 - path: /CourseContent/videos/Floor_Maps_to_Deep_Drawings.mp4  (PrathamVideoResource) \n",
      "              - path: /hn/Lesson/LES100  (lesson_page) \n",
      "                children:\n",
      "                 - path: /CourseContent/videos/Measuring_Lengths.mp4  (PrathamVideoResource) \n",
      "              - path: /hn/Lesson/LES101  (lesson_page) \n",
      "                children:\n",
      "                 - path: /CourseContent/videos/Metric_Conversions.mp4  (PrathamVideoResource) \n",
      "              - path: /hn/Lesson/LES102  (lesson_page) \n",
      "                children:\n",
      "                 - path: /CourseContent/videos/An_Introduction_to_Perimeter_and_Area.mp4  (PrathamVideoResource) \n",
      "              - path: /hn/Lesson/LES103  (lesson_page) \n",
      "                children:\n",
      "                 - path: /CourseContent/videos/Area_of_Irregular_Figures.mp4  (PrathamVideoResource) \n",
      "              - path: /hn/Lesson/LES104  (lesson_page) \n",
      "                children:\n",
      "                 - path: /CourseContent/videos/Chart_It.mp4  (PrathamVideoResource) \n",
      "              - path: /hn/Lesson/LES105  (lesson_page) \n",
      "                children:\n",
      "                 - path: /CourseContent/videos/Learning_to_Multiply.mp4  (PrathamVideoResource) \n",
      "              - path: /hn/Lesson/LES106  (lesson_page) \n",
      "                children:\n",
      "                 - path: /CourseContent/videos/Volume_through_Verse.mp4  (PrathamVideoResource) \n",
      "        - path: /hn/Course/Std6  (topic_page) \n",
      "          children:\n",
      "           - path: /hn/Course/Std6/CRS23  (subtopic_page) \n",
      "             children:\n",
      "              - path: /hn/Lesson/LES108  (lesson_page) \n",
      "                children:\n",
      "                 - path: /CourseContent/videos/An_Alien_Quest.mp4  (PrathamVideoResource) \n",
      "              - path: /hn/Lesson/LES109  (lesson_page) \n",
      "                children:\n",
      "                 - path: /CourseContent/videos/Pure_Salt.mp4  (PrathamVideoResource) \n",
      "              - path: /hn/Lesson/LES110  (lesson_page) \n",
      "                children:\n",
      "                 - path: /CourseContent/videos/Herbs,_Shrubs_and_Trees.mp4  (PrathamVideoResource) \n",
      "              - path: /hn/Lesson/LES111  (lesson_page) \n",
      "                children:\n",
      "                 - path: /CourseContent/videos/Marty_and_the_Food_Factory.mp4  (PrathamVideoResource) \n",
      "              - path: /hn/Lesson/LES112  (lesson_page) \n",
      "                children:\n",
      "                 - path: /CourseContent/videos/Stem-The_Pathway_of_Life.mp4  (PrathamVideoResource) \n",
      "              - path: /hn/Lesson/LES113  (lesson_page) \n",
      "                children:\n",
      "                 - path: /CourseContent/videos/Joints.mp4  (PrathamVideoResource) \n",
      "              - path: /hn/Lesson/LES114  (lesson_page) \n",
      "                children:\n",
      "                 - path: /CourseContent/videos/Muscle_Movement.mp4  (PrathamVideoResource) \n",
      "              - path: /hn/Lesson/LES115  (lesson_page) \n",
      "                children:\n",
      "                 - path: /CourseContent/videos/On_the_Move.mp4  (PrathamVideoResource) \n",
      "              - path: /hn/Lesson/LES116  (lesson_page) \n",
      "                children:\n",
      "                 - path: /CourseContent/videos/The_Path_of_Light.mp4  (PrathamVideoResource) \n",
      "              - path: /hn/Lesson/LES117  (lesson_page) \n",
      "                children:\n",
      "                 - path: /CourseContent/videos/Magnets.mp4  (PrathamVideoResource) \n",
      "              - path: /hn/Lesson/LES118  (lesson_page) \n",
      "                children:\n",
      "                 - path: /CourseContent/videos/Rainwater_Harvesting.mp4  (PrathamVideoResource) \n",
      "              - path: /hn/Lesson/LES119  (lesson_page) \n",
      "                children:\n",
      "                 - path: /CourseContent/videos/Water_Cycle.mp4  (PrathamVideoResource) \n",
      "              - path: /hn/Lesson/LES120  (lesson_page) \n",
      "                children:\n",
      "                 - path: /CourseContent/videos/The_Oxygen-Carbon_Dioxide_Balance.mp4  (PrathamVideoResource) \n",
      "              - path: /hn/Lesson/LES121  (lesson_page) \n",
      "                children:\n",
      "                 - path: /CourseContent/videos/Harmful_Effects_of_Plastics.mp4  (PrathamVideoResource) \n",
      "              - path: /hn/Lesson/LES122  (lesson_page) \n",
      "                children:\n",
      "                 - path: /CourseContent/videos/Waste_Paper_Recycling_Plant.mp4  (PrathamVideoResource) \n",
      "           - path: /hn/Course/Std6/CRS24  (subtopic_page) \n",
      "             children:\n",
      "              - path: /hn/Lesson/LES124  (lesson_page) \n",
      "                children:\n",
      "                 - path: /CourseContent/videos/Rounding_Off_Numbers.mp4  (PrathamVideoResource) \n",
      "              - path: /hn/Lesson/LES125  (lesson_page) \n",
      "                children:\n",
      "                 - path: /CourseContent/videos/Max_is_Hungry.mp4  (PrathamVideoResource) \n",
      "              - path: /hn/Lesson/LES126  (lesson_page) \n",
      "                children:\n",
      "                 - path: /CourseContent/videos/Count_the_Chairs.mp4  (PrathamVideoResource) \n",
      "              - path: /hn/Lesson/LES127  (lesson_page) \n",
      "                children:\n",
      "                 - path: /CourseContent/videos/Ulam_Spiral.mp4  (PrathamVideoResource) \n",
      "              - path: /hn/Lesson/LES128  (lesson_page) \n",
      "                children:\n",
      "                 - path: /CourseContent/videos/Dots_to_Lines.mp4  (PrathamVideoResource) \n",
      "              - path: /hn/Lesson/LES129  (lesson_page) \n",
      "                children:\n",
      "                 - path: /CourseContent/videos/Know_Your_Angles.mp4  (PrathamVideoResource) \n",
      "              - path: /hn/Lesson/LES130  (lesson_page) \n",
      "                children:\n",
      "                 - path: /CourseContent/videos/Negative_Numbers.mp4  (PrathamVideoResource) \n",
      "              - path: /hn/Lesson/LES131  (lesson_page) \n",
      "                children:\n",
      "                 - path: /CourseContent/videos/Comparing_Like_and_Unlike_Fractions.mp4  (PrathamVideoResource) \n",
      "              - path: /hn/Lesson/LES132  (lesson_page) \n",
      "                children:\n",
      "                 - path: /CourseContent/videos/Fraction_Types.mp4  (PrathamVideoResource) \n",
      "              - path: /hn/Lesson/LES133  (lesson_page) \n",
      "                children:\n",
      "                 - path: /CourseContent/videos/Drawing_A_Bar_Graph.mp4  (PrathamVideoResource) \n",
      "              - path: /hn/Lesson/LES134  (lesson_page) \n",
      "                children:\n",
      "                 - path: /CourseContent/videos/Interpreting_Bar_Graphs.mp4  (PrathamVideoResource) \n",
      "              - path: /hn/Lesson/LES135  (lesson_page) \n",
      "                children:\n",
      "                 - path: /CourseContent/videos/All_About_Area.mp4  (PrathamVideoResource) \n",
      "              - path: /hn/Lesson/LES136  (lesson_page) \n",
      "                children:\n",
      "                 - path: /CourseContent/videos/Irregular_Figures_and_Area.mp4  (PrathamVideoResource) \n",
      "              - path: /hn/Lesson/LES137  (lesson_page) \n",
      "                children:\n",
      "                 - path: /CourseContent/videos/Equations.mp4  (PrathamVideoResource) \n",
      "              - path: /hn/Lesson/LES138  (lesson_page) \n",
      "                children:\n",
      "                 - path: /CourseContent/videos/Forming_Rules_Using_Variables.mp4  (PrathamVideoResource) \n",
      "              - path: /hn/Lesson/LES139  (lesson_page) \n",
      "                children:\n",
      "                 - path: /CourseContent/videos/Proportion_and_Unitary_Method.mp4  (PrathamVideoResource) \n",
      "        - path: /hn/Course/Std7  (topic_page) \n",
      "          children:\n",
      "           - path: /hn/Course/Std7/CRS25  (subtopic_page) \n",
      "             children:\n",
      "              - path: /hn/Lesson/LES141  (lesson_page) \n",
      "                children:\n",
      "                 - path: /CourseContent/videos/Back_to_Soil.mp4  (PrathamVideoResource) \n",
      "              - path: /hn/Lesson/LES142  (lesson_page) \n",
      "                children:\n",
      "                 - path: /CourseContent/videos/Photosynthesis.mp4  (PrathamVideoResource) \n",
      "              - path: /hn/Lesson/LES143  (lesson_page) \n",
      "                children:\n",
      "                 - path: /CourseContent/videos/Alimentary_Canal.mp4  (PrathamVideoResource) \n",
      "              - path: /hn/Lesson/LES144  (lesson_page) \n",
      "                children:\n",
      "                 - path: /CourseContent/videos/Digestive_System_in_Grass-eating_Animals.mp4  (PrathamVideoResource) \n",
      "              - path: /hn/Lesson/LES145  (lesson_page) \n",
      "                children:\n",
      "                 - path: /CourseContent/videos/Feeding_and_Digestion_in_Amoeba.mp4  (PrathamVideoResource) \n",
      "              - path: /hn/Lesson/LES146  (lesson_page) \n",
      "                children:\n",
      "                 - path: /CourseContent/videos/Silk_Industry_in_India.mp4  (PrathamVideoResource) \n",
      "              - path: /hn/Lesson/LES147  (lesson_page) \n",
      "                children:\n",
      "                 - path: /CourseContent/videos/Convection.mp4  (PrathamVideoResource) \n",
      "              - path: /hn/Lesson/LES148  (lesson_page) \n",
      "                children:\n",
      "                 - path: /CourseContent/videos/Acid-Base_Reactions.mp4  (PrathamVideoResource) \n",
      "              - path: /hn/Lesson/LES149  (lesson_page) \n",
      "                children:\n",
      "                 - path: /CourseContent/videos/Elements_of_Weather.mp4  (PrathamVideoResource) \n",
      "              - path: /hn/Lesson/LES150  (lesson_page) \n",
      "                children:\n",
      "                 - path: /CourseContent/videos/Formation_of_Thunderstorms_and_Cyclones.mp4  (PrathamVideoResource) \n",
      "              - path: /hn/Lesson/LES151  (lesson_page) \n",
      "                children:\n",
      "                 - path: /CourseContent/videos/High_Speed_Air.mp4  (PrathamVideoResource) \n",
      "              - path: /hn/Lesson/LES152  (lesson_page) \n",
      "                children:\n",
      "                 - path: /CourseContent/videos/Soil_Erosion-Causes_and_Impact.mp4  (PrathamVideoResource) \n",
      "              - path: /hn/Lesson/LES153  (lesson_page) \n",
      "                children:\n",
      "                 - path: /CourseContent/videos/Take_a_Deep_Breath.mp4  (PrathamVideoResource) \n",
      "              - path: /hn/Lesson/LES154  (lesson_page) \n",
      "                children:\n",
      "                 - path: /CourseContent/videos/The_Breath_of_Life.mp4  (PrathamVideoResource) \n"
     ]
    },
    {
     "name": "stdout",
     "output_type": "stream",
     "text": [
      "              - path: /hn/Lesson/LES155  (lesson_page) \n",
      "                children:\n",
      "                 - path: /CourseContent/videos/The_Excretory_System.mp4  (PrathamVideoResource) \n",
      "              - path: /hn/Lesson/LES156  (lesson_page) \n",
      "                children:\n",
      "                 - path: /CourseContent/videos/Pollination_and_Fertilisation.mp4  (PrathamVideoResource) \n",
      "              - path: /hn/Lesson/LES157  (lesson_page) \n",
      "                children:\n",
      "                 - path: /CourseContent/videos/Circuit_Components_and_Their_Symbols.mp4  (PrathamVideoResource) \n",
      "              - path: /hn/Lesson/LES158  (lesson_page) \n",
      "                children:\n",
      "                 - path: /CourseContent/videos/Concave_Mirrors.mp4  (PrathamVideoResource) \n",
      "              - path: /hn/Lesson/LES159  (lesson_page) \n",
      "                children:\n",
      "                 - path: /CourseContent/videos/How_to_Save_Water.mp4  (PrathamVideoResource) \n",
      "              - path: /hn/Lesson/LES160  (lesson_page) \n",
      "                children:\n",
      "                 - path: /CourseContent/videos/The_Earths_Water.mp4  (PrathamVideoResource) \n",
      "              - path: /hn/Lesson/LES161  (lesson_page) \n",
      "                children:\n",
      "                 - path: /CourseContent/videos/Food_Chain.mp4  (PrathamVideoResource) \n",
      "              - path: /hn/Lesson/LES162  (lesson_page) \n",
      "                children:\n",
      "                 - path: /CourseContent/videos/Food_Web.mp4  (PrathamVideoResource) \n",
      "              - path: /hn/Lesson/LES163  (lesson_page) \n",
      "                children:\n",
      "                 - path: /CourseContent/videos/Influence_of_Forests_on_Atmosphere.mp4  (PrathamVideoResource) \n",
      "              - path: /hn/Lesson/LES164  (lesson_page) \n",
      "                children:\n",
      "                 - path: /CourseContent/videos/People_of_the_Forest.mp4  (PrathamVideoResource) \n",
      "           - path: /hn/Course/Std7/CRS26  (subtopic_page) \n",
      "             children:\n",
      "              - path: /hn/Lesson/LES166  (lesson_page) \n",
      "                children:\n",
      "                 - path: /CourseContent/videos/Making_Multiplication_Easier.mp4  (PrathamVideoResource) \n",
      "              - path: /hn/Lesson/LES167  (lesson_page) \n",
      "                children:\n",
      "                 - path: /CourseContent/videos/Multiplying_Integers.mp4  (PrathamVideoResource) \n",
      "              - path: /hn/Lesson/LES168  (lesson_page) \n",
      "                children:\n",
      "                 - path: /CourseContent/videos/Dividing_by_10,_100_and_1000.mp4  (PrathamVideoResource) \n",
      "              - path: /hn/Lesson/LES169  (lesson_page) \n",
      "                children:\n",
      "                 - path: /CourseContent/videos/Division_Time.mp4  (PrathamVideoResource) \n",
      "              - path: /hn/Lesson/LES170  (lesson_page) \n",
      "                children:\n",
      "                 - path: /CourseContent/videos/Multiplication_Time.mp4  (PrathamVideoResource) \n",
      "              - path: /hn/Lesson/LES171  (lesson_page) \n",
      "                children:\n",
      "                 - path: /CourseContent/videos/Multiplying_by_10,_100_and_1000.mp4  (PrathamVideoResource) \n",
      "              - path: /hn/Lesson/LES172  (lesson_page) \n",
      "                children:\n",
      "                 - path: /CourseContent/videos/Medians_in_a_Triangle.mp4  (PrathamVideoResource) \n",
      "              - path: /hn/Lesson/LES173  (lesson_page) \n",
      "                children:\n",
      "                 - path: /CourseContent/videos/Verifying_Pythagoras_Property.mp4  (PrathamVideoResource) \n",
      "              - path: /hn/Lesson/LES174  (lesson_page) \n",
      "                children:\n",
      "                 - path: /CourseContent/videos/Cooking_Up_Ratios.mp4  (PrathamVideoResource) \n",
      "              - path: /hn/Lesson/LES175  (lesson_page) \n",
      "                children:\n",
      "                 - path: /CourseContent/videos/Percentage_Conversions.mp4  (PrathamVideoResource) \n",
      "              - path: /hn/Lesson/LES176  (lesson_page) \n",
      "                children:\n",
      "                 - path: /CourseContent/videos/Find_Me_a_Place.mp4  (PrathamVideoResource) \n",
      "              - path: /hn/Lesson/LES177  (lesson_page) \n",
      "                children:\n",
      "                 - path: /CourseContent/videos/Introduction_to_Rational_Numbers.mp4  (PrathamVideoResource) \n",
      "              - path: /hn/Lesson/LES178  (lesson_page) \n",
      "                children:\n",
      "                 - path: /CourseContent/videos/Constructing_Parallel_Lines.mp4  (PrathamVideoResource) \n",
      "              - path: /hn/Lesson/LES179  (lesson_page) \n",
      "                children:\n",
      "                 - path: /CourseContent/videos/Constructing_Triangles.mp4  (PrathamVideoResource) \n",
      "              - path: /hn/Lesson/LES180  (lesson_page) \n",
      "                children:\n",
      "                 - path: /CourseContent/videos/Area_of_a_Circle.mp4  (PrathamVideoResource) \n",
      "              - path: /hn/Lesson/LES181  (lesson_page) \n",
      "                children:\n",
      "                 - path: /CourseContent/videos/Triangles_&_Parallelograms.mp4  (PrathamVideoResource) \n",
      "              - path: /hn/Lesson/LES182  (lesson_page) \n",
      "                children:\n",
      "                 - path: /CourseContent/videos/Units_of_Area.mp4  (PrathamVideoResource) \n",
      "              - path: /hn/Lesson/LES183  (lesson_page) \n",
      "                children:\n",
      "                 - path: /CourseContent/videos/Adding_and_Subtracting_Algebraic_Expressions.mp4  (PrathamVideoResource) \n",
      "              - path: /hn/Lesson/LES184  (lesson_page) \n",
      "                children:\n",
      "                 - path: /CourseContent/videos/Wizard_of_Algebra.mp4  (PrathamVideoResource) \n",
      "              - path: /hn/Lesson/LES185  (lesson_page) \n",
      "                children:\n",
      "                 - path: /CourseContent/videos/Laws_of_Exponents.mp4  (PrathamVideoResource) \n",
      "              - path: /hn/Lesson/LES186  (lesson_page) \n",
      "                children:\n",
      "                 - path: /CourseContent/videos/Symmetry_in_Regular_Polygons.mp4  (PrathamVideoResource) \n",
      "              - path: /hn/Lesson/LES187  (lesson_page) \n",
      "                children:\n",
      "                 - path: /CourseContent/videos/Faces,_Edges_and_Vertices.mp4  (PrathamVideoResource) \n",
      "              - path: /hn/Lesson/LES188  (lesson_page) \n",
      "                children:\n",
      "                 - path: /CourseContent/videos/Oblique_and_Isometric_Sketches.mp4  (PrathamVideoResource) \n",
      "        - path: /hn/Course/Std8  (topic_page) \n",
      "          children:\n",
      "           - path: /hn/Course/Std8/CRS27  (subtopic_page) \n",
      "             children:\n",
      "              - path: /hn/Lesson/LES190  (lesson_page) \n",
      "                children:\n",
      "                 - path: /CourseContent/videos/Animal_Husbandry.mp4  (PrathamVideoResource) \n",
      "              - path: /hn/Lesson/LES191  (lesson_page) \n",
      "                children:\n",
      "                 - path: /CourseContent/videos/Crops_and_Climatic_Conditions.mp4  (PrathamVideoResource) \n",
      "              - path: /hn/Lesson/LES192  (lesson_page) \n",
      "                children:\n",
      "                 - path: /CourseContent/videos/Irrigation.mp4  (PrathamVideoResource) \n",
      "              - path: /hn/Lesson/LES193  (lesson_page) \n",
      "                children:\n",
      "                 - path: /CourseContent/videos/Soil_Fertility_and_the_Nitrogen_Cycle.mp4  (PrathamVideoResource) \n",
      "              - path: /hn/Lesson/LES194  (lesson_page) \n",
      "                children:\n",
      "                 - path: /CourseContent/videos/Soil_Preparation.mp4  (PrathamVideoResource) \n",
      "              - path: /hn/Lesson/LES195  (lesson_page) \n",
      "                children:\n",
      "                 - path: /CourseContent/videos/Sowing_Seeds.mp4  (PrathamVideoResource) \n",
      "              - path: /hn/Lesson/LES196  (lesson_page) \n",
      "                children:\n",
      "                 - path: /CourseContent/videos/Gathering_the_Troops.mp4  (PrathamVideoResource) \n",
      "              - path: /hn/Lesson/LES197  (lesson_page) \n",
      "                children:\n",
      "                 - path: /CourseContent/videos/Root_Nodule_Formation.mp4  (PrathamVideoResource) \n",
      "              - path: /hn/Lesson/LES198  (lesson_page) \n",
      "                children:\n",
      "                 - path: /CourseContent/videos/The_Story_of_Penicillin.mp4  (PrathamVideoResource) \n",
      "              - path: /hn/Lesson/LES199  (lesson_page) \n",
      "                children:\n",
      "                 - path: /CourseContent/videos/History_of_Synthetic_Fibres.mp4  (PrathamVideoResource) \n",
      "              - path: /hn/Lesson/LES200  (lesson_page) \n",
      "                children:\n",
      "                 - path: /CourseContent/videos/Monomers_and_Polymers.mp4  (PrathamVideoResource) \n",
      "              - path: /hn/Lesson/LES201  (lesson_page) \n",
      "                children:\n",
      "                 - path: /CourseContent/videos/Reactions_of_Metals_and_Non-metals_With_Water.mp4  (PrathamVideoResource) \n",
      "              - path: /hn/Lesson/LES202  (lesson_page) \n",
      "                children:\n",
      "                 - path: /CourseContent/videos/Carbonisation.mp4  (PrathamVideoResource) \n",
      "              - path: /hn/Lesson/LES203  (lesson_page) \n",
      "                children:\n",
      "                 - path: /CourseContent/videos/Formation_of_Petroleum_and_Natural_Gas.mp4  (PrathamVideoResource) \n",
      "              - path: /hn/Lesson/LES204  (lesson_page) \n",
      "                children:\n",
      "                 - path: /CourseContent/videos/How_Much_Longer.mp4  (PrathamVideoResource) \n",
      "              - path: /hn/Lesson/LES205  (lesson_page) \n",
      "                children:\n",
      "                 - path: /CourseContent/videos/Save_the_World.mp4  (PrathamVideoResource) \n",
      "              - path: /hn/Lesson/LES206  (lesson_page) \n",
      "                children:\n",
      "                 - path: /CourseContent/videos/A_Single_Life.mp4  (PrathamVideoResource) \n",
      "              - path: /hn/Lesson/LES207  (lesson_page) \n",
      "                children:\n",
      "                 - path: /CourseContent/videos/Female_Reproductive_Organs.mp4  (PrathamVideoResource) \n",
      "              - path: /hn/Lesson/LES208  (lesson_page) \n",
      "                children:\n",
      "                 - path: /CourseContent/videos/Fertilization_to_Foetus.mp4  (PrathamVideoResource) \n",
      "              - path: /hn/Lesson/LES209  (lesson_page) \n",
      "                children:\n",
      "                 - path: /CourseContent/videos/Hydra.mp4  (PrathamVideoResource) \n",
      "              - path: /hn/Lesson/LES210  (lesson_page) \n",
      "                children:\n",
      "                 - path: /CourseContent/videos/Male_Reproductive_Organs.mp4  (PrathamVideoResource) \n",
      "              - path: /hn/Lesson/LES211  (lesson_page) \n",
      "                children:\n",
      "                 - path: /CourseContent/videos/Reproductive_Phase_and_Sex_Determination.mp4  (PrathamVideoResource) \n",
      "              - path: /hn/Lesson/LES212  (lesson_page) \n",
      "                children:\n",
      "                 - path: /CourseContent/videos/Your_Body_During_Adolescence.mp4  (PrathamVideoResource) \n",
      "              - path: /hn/Lesson/LES213  (lesson_page) \n",
      "                children:\n",
      "                 - path: /CourseContent/videos/Types_of_Friction.mp4  (PrathamVideoResource) \n",
      "              - path: /hn/Lesson/LES214  (lesson_page) \n",
      "                children:\n",
      "                 - path: /CourseContent/videos/Copper_Plating.mp4  (PrathamVideoResource) \n",
      "              - path: /hn/Lesson/LES215  (lesson_page) \n",
      "                children:\n",
      "                 - path: /CourseContent/videos/Lightning.mp4  (PrathamVideoResource) \n",
      "              - path: /hn/Lesson/LES216  (lesson_page) \n",
      "                children:\n",
      "                 - path: /CourseContent/videos/Making_Water_Potable.mp4  (PrathamVideoResource) \n",
      "           - path: /hn/Course/Std8/CRS28  (subtopic_page) \n",
      "             children:\n",
      "              - path: /hn/Lesson/LES218  (lesson_page) \n",
      "                children:\n",
      "                 - path: /CourseContent/videos/Introduction_to_Rational_Numbers.mp4  (PrathamVideoResource) \n",
      "              - path: /hn/Lesson/LES219  (lesson_page) \n",
      "                children:\n",
      "                 - path: /CourseContent/videos/Rational_Numbers.mp4  (PrathamVideoResource) \n",
      "              - path: /hn/Lesson/LES220  (lesson_page) \n",
      "                children:\n",
      "                 - path: /CourseContent/videos/Sum_of_Angles_of_a_Quadrilateral.mp4  (PrathamVideoResource) \n",
      "              - path: /hn/Lesson/LES221  (lesson_page) \n",
      "                children:\n",
      "                 - path: /CourseContent/videos/Construct_a_Quadrilateral.mp4  (PrathamVideoResource) \n",
      "              - path: /hn/Lesson/LES222  (lesson_page) \n",
      "                children:\n",
      "                 - path: /CourseContent/videos/Constructing_Angles_Revision.mp4  (PrathamVideoResource) \n",
      "              - path: /hn/Lesson/LES223  (lesson_page) \n",
      "                children:\n",
      "                 - path: /CourseContent/videos/Stable_Triangles.mp4  (PrathamVideoResource) \n",
      "              - path: /hn/Lesson/LES224  (lesson_page) \n",
      "                children:\n",
      "                 - path: /CourseContent/videos/Drawing_Pie_Charts.mp4  (PrathamVideoResource) \n",
      "              - path: /hn/Lesson/LES225  (lesson_page) \n",
      "                children:\n",
      "                 - path: /CourseContent/videos/Organising_and_Grouping_Data.mp4  (PrathamVideoResource) \n",
      "              - path: /hn/Lesson/LES226  (lesson_page) \n",
      "                children:\n",
      "                 - path: /CourseContent/videos/Calculating_Squares_Through_Distributive_Property.mp4  (PrathamVideoResource) \n",
      "              - path: /hn/Lesson/LES227  (lesson_page) \n",
      "                children:\n",
      "                 - path: /CourseContent/videos/Patterns_in_Square_Numbers.mp4  (PrathamVideoResource) \n",
      "              - path: /hn/Lesson/LES228  (lesson_page) \n",
      "                children:\n",
      "                 - path: /CourseContent/videos/Properties_of_Square_Numbers.mp4  (PrathamVideoResource) \n",
      "              - path: /hn/Lesson/LES229  (lesson_page) \n",
      "                children:\n",
      "                 - path: /CourseContent/videos/Square_Roots_by_Prime_Factorisation.mp4  (PrathamVideoResource) \n",
      "              - path: /hn/Lesson/LES230  (lesson_page) \n",
      "                children:\n",
      "                 - path: /CourseContent/videos/Cube_Root_Through_Estimation.mp4  (PrathamVideoResource) \n",
      "              - path: /hn/Lesson/LES231  (lesson_page) \n",
      "                children:\n",
      "                 - path: /CourseContent/videos/Cube_Root_Through_Prime_Factorisation.mp4  (PrathamVideoResource) \n",
      "              - path: /hn/Lesson/LES232  (lesson_page) \n",
      "                children:\n",
      "                 - path: /CourseContent/videos/Identifying_Cubes_Using_Prime_Factorisation.mp4  (PrathamVideoResource) \n",
      "              - path: /hn/Lesson/LES233  (lesson_page) \n",
      "                children:\n",
      "                 - path: /CourseContent/videos/Power_of_Compounding.mp4  (PrathamVideoResource) \n",
      "              - path: /hn/Lesson/LES234  (lesson_page) \n",
      "                children:\n",
      "                 - path: /CourseContent/videos/Steal_a_Bargain.mp4  (PrathamVideoResource) \n",
      "              - path: /hn/Lesson/LES235  (lesson_page) \n",
      "                children:\n",
      "                 - path: /CourseContent/videos/Multiplying_Algebraic_Expressions.mp4  (PrathamVideoResource) \n",
      "              - path: /hn/Lesson/LES236  (lesson_page) \n",
      "                children:\n",
      "                 - path: /CourseContent/videos/Wizard_of_Algebra.mp4  (PrathamVideoResource) \n",
      "              - path: /hn/Lesson/LES237  (lesson_page) \n",
      "                children:\n",
      "                 - path: /CourseContent/videos/Surface_Areas_of_Solids.mp4  (PrathamVideoResource) \n",
      "              - path: /hn/Lesson/LES238  (lesson_page) \n",
      "                children:\n",
      "                 - path: /CourseContent/videos/Volume_of_Cuboid,_Cube_and_Cylinder.mp4  (PrathamVideoResource) \n",
      "              - path: /hn/Lesson/LES239  (lesson_page) \n",
      "                children:\n",
      "                 - path: /CourseContent/videos/Expanded_Form_and_Exponents.mp4  (PrathamVideoResource) \n",
      "              - path: /hn/Lesson/LES240  (lesson_page) \n",
      "                children:\n",
      "                 - path: /CourseContent/videos/Express_Numbers_in_Standard_Form.mp4  (PrathamVideoResource) \n",
      "              - path: /hn/Lesson/LES241  (lesson_page) \n",
      "                children:\n",
      "                 - path: /CourseContent/videos/Understanding_the_Laws_of_Exponents.mp4  (PrathamVideoResource) \n",
      "              - path: /hn/Lesson/LES242  (lesson_page) \n",
      "                children:\n",
      "                 - path: /CourseContent/videos/Direct_Proportion.mp4  (PrathamVideoResource) \n",
      "              - path: /hn/Lesson/LES243  (lesson_page) \n",
      "                children:\n",
      "                 - path: /CourseContent/videos/Inverse_Proportion.mp4  (PrathamVideoResource) \n",
      "              - path: /hn/Lesson/LES244  (lesson_page) \n",
      "                children:\n",
      "                 - path: /CourseContent/videos/Division_of_Algebraic_Expressions.mp4  (PrathamVideoResource) \n",
      "              - path: /hn/Lesson/LES245  (lesson_page) \n",
      "                children:\n",
      "                 - path: /CourseContent/videos/Factorisation_of_Algebraic_Expressions.mp4  (PrathamVideoResource) \n",
      "              - path: /hn/Lesson/LES246  (lesson_page) \n",
      "                children:\n",
      "                 - path: /CourseContent/videos/Introduction_to_Graphs.mp4  (PrathamVideoResource) \n",
      "              - path: /hn/Lesson/LES247  (lesson_page) \n",
      "                children:\n",
      "                 - path: /CourseContent/videos/The_1089_Math_Trick.mp4  (PrathamVideoResource) \n",
      "        - path: /hn/Course/Std9  (topic_page) \n",
      "          children:\n",
      "           - path: /hn/Course/Std9/CRS29  (subtopic_page) \n",
      "             children:\n",
      "              - path: /hn/Lesson/LES249  (lesson_page) \n",
      "                children:\n",
      "                 - path: /CourseContent/videos/Latent_Heat.mp4  (PrathamVideoResource) \n",
      "              - path: /hn/Lesson/LES250  (lesson_page) \n",
      "                children:\n",
      "                 - path: /CourseContent/videos/Law_of_Conversionss.mp4  (PrathamVideoResource) \n",
      "              - path: /hn/Lesson/LES251  (lesson_page) \n",
      "                children:\n",
      "                 - path: /CourseContent/videos/Frequency_and_Amplitude_of_a_Sound_Wave.mp4  (PrathamVideoResource) \n",
      "              - path: /hn/Lesson/LES252  (lesson_page) \n",
      "                children:\n",
      "                 - path: /CourseContent/videos/Immunisation_Principle.mp4  (PrathamVideoResource) \n",
      "              - path: /hn/Lesson/LES253  (lesson_page) \n",
      "                children:\n",
      "                 - path: /CourseContent/videos/Inflammatory_Response.mp4  (PrathamVideoResource) \n",
      "              - path: /hn/Lesson/LES254  (lesson_page) \n",
      "                children:\n",
      "                 - path: /CourseContent/videos/Methods_of_Disease_Transmission.mp4  (PrathamVideoResource) \n",
      "              - path: /hn/Lesson/LES255  (lesson_page) \n",
      "                children:\n",
      "                 - path: /CourseContent/videos/Symptoms_of_Diseases.mp4  (PrathamVideoResource) \n",
      "              - path: /hn/Lesson/LES256  (lesson_page) \n",
      "                children:\n",
      "                 - path: /CourseContent/videos/Types_of_Diseases.mp4  (PrathamVideoResource) \n",
      "              - path: /hn/Lesson/LES257  (lesson_page) \n",
      "                children:\n",
      "                 - path: /CourseContent/videos/Air_A_Natural_Resource.mp4  (PrathamVideoResource) \n",
      "              - path: /hn/Lesson/LES258  (lesson_page) \n",
      "                children:\n",
      "                 - path: /CourseContent/videos/Carbon_Cycle.mp4  (PrathamVideoResource) \n",
      "              - path: /hn/Lesson/LES259  (lesson_page) \n",
      "                children:\n",
      "                 - path: /CourseContent/videos/Nitrogen_Cycle.mp4  (PrathamVideoResource) \n",
      "              - path: /hn/Lesson/LES260  (lesson_page) \n",
      "                children:\n",
      "                 - path: /CourseContent/videos/Animal_Husbandry.mp4  (PrathamVideoResource) \n",
      "              - path: /hn/Lesson/LES261  (lesson_page) \n",
      "                children:\n",
      "                 - path: /CourseContent/videos/Culture_Fishery.mp4  (PrathamVideoResource) \n",
      "              - path: /hn/Lesson/LES263  (lesson_page) \n",
      "                children:\n",
      "                 - path: /CourseContent/videos/Ready_to_Settle.mp4  (PrathamVideoResource) \n",
      "              - path: /hn/Lesson/LES264  (lesson_page) \n",
      "                children:\n",
      "                 - path: /CourseContent/videos/Separation_Lab_1.mp4  (PrathamVideoResource) \n",
      "              - path: /hn/Lesson/LES265  (lesson_page) \n",
      "                children:\n",
      "                 - path: /CourseContent/videos/Separation_Lab_2.mp4  (PrathamVideoResource) \n",
      "              - path: /hn/Lesson/LES266  (lesson_page) \n",
      "                children:\n",
      "                 - path: /CourseContent/videos/Separation_Lab_3.mp4  (PrathamVideoResource) \n",
      "              - path: /hn/Lesson/LES267  (lesson_page) \n",
      "                children:\n",
      "                 - path: /CourseContent/videos/A_Formulaic_Approach.mp4  (PrathamVideoResource) \n",
      "              - path: /hn/Lesson/LES268  (lesson_page) \n",
      "                children:\n",
      "                 - path: /CourseContent/videos/All_about_Masses.mp4  (PrathamVideoResource) \n",
      "              - path: /hn/Lesson/LES269  (lesson_page) \n",
      "                children:\n",
      "                 - path: /CourseContent/videos/Atomic_Mass.mp4  (PrathamVideoResource) \n",
      "              - path: /hn/Lesson/LES270  (lesson_page) \n",
      "                children:\n",
      "                 - path: /CourseContent/videos/Balancing_Act.mp4  (PrathamVideoResource) \n",
      "              - path: /hn/Lesson/LES271  (lesson_page) \n",
      "                children:\n",
      "                 - path: /CourseContent/videos/Catch_an_Ion.mp4  (PrathamVideoResource) \n",
      "              - path: /hn/Lesson/LES272  (lesson_page) \n",
      "                children:\n",
      "                 - path: /CourseContent/videos/Role_of_a_Mole.mp4  (PrathamVideoResource) \n",
      "              - path: /hn/Lesson/LES273  (lesson_page) \n",
      "                children:\n",
      "                 - path: /CourseContent/videos/Distribution_of_Electrons.mp4  (PrathamVideoResource) \n",
      "              - path: /hn/Lesson/LES274  (lesson_page) \n",
      "                children:\n",
      "                 - path: /CourseContent/videos/Isotopes.mp4  (PrathamVideoResource) \n",
      "              - path: /hn/Lesson/LES275  (lesson_page) \n",
      "                children:\n",
      "                 - path: /CourseContent/videos/Structure_of_Atom.mp4  (PrathamVideoResource) \n",
      "              - path: /hn/Lesson/LES276  (lesson_page) \n",
      "                children:\n",
      "                 - path: /CourseContent/videos/A_Growth_Tip.mp4  (PrathamVideoResource) \n",
      "              - path: /hn/Lesson/LES277  (lesson_page) \n",
      "                children:\n",
      "                 - path: /CourseContent/videos/Complex_Permanent_Tissues.mp4  (PrathamVideoResource) \n",
      "              - path: /hn/Lesson/LES278  (lesson_page) \n",
      "                children:\n",
      "                 - path: /CourseContent/videos/Function_Determines_Structure.mp4  (PrathamVideoResource) \n",
      "              - path: /hn/Lesson/LES279  (lesson_page) \n",
      "                children:\n",
      "                 - path: /CourseContent/videos/Simple_Permanent_Tissues.mp4  (PrathamVideoResource) \n",
      "              - path: /hn/Lesson/LES280  (lesson_page) \n",
      "                children:\n",
      "                 - path: /CourseContent/videos/Types_of_Animal_Tissues.mp4  (PrathamVideoResource) \n",
      "              - path: /hn/Lesson/LES281  (lesson_page) \n",
      "                children:\n",
      "                 - path: /CourseContent/videos/Learning_in_the_Garden.mp4  (PrathamVideoResource) \n",
      "              - path: /hn/Lesson/LES282  (lesson_page) \n",
      "                children:\n",
      "                 - path: /CourseContent/videos/Wildlife_Safari.mp4  (PrathamVideoResource) \n",
      "              - path: /hn/Lesson/LES283  (lesson_page) \n",
      "                children:\n",
      "                 - path: /CourseContent/videos/Balanced_and_Unbalanced_Forces.mp4  (PrathamVideoResource) \n",
      "              - path: /hn/Lesson/LES284  (lesson_page) \n",
      "                children:\n",
      "                 - path: /CourseContent/videos/Newtons_Second_Law_of_Motion.mp4  (PrathamVideoResource) \n",
      "           - path: /hn/Course/Std9/CRS30  (subtopic_page) \n",
      "             children:\n",
      "              - path: /hn/Lesson/LES286  (lesson_page) \n",
      "                children:\n",
      "                 - path: /CourseContent/videos/Number_Systems_Through_Time.mp4  (PrathamVideoResource) \n",
      "              - path: /hn/Lesson/LES287  (lesson_page) \n",
      "                children:\n",
      "                 - path: /CourseContent/videos/Circles_Through_Multiple_Points.mp4  (PrathamVideoResource) \n",
      "              - path: /hn/Lesson/LES288  (lesson_page) \n",
      "                children:\n",
      "                 - path: /CourseContent/videos/Constructing_a_Perpendicular_Bisector.mp4  (PrathamVideoResource) \n",
      "              - path: /hn/Lesson/LES289  (lesson_page) \n",
      "                children:\n",
      "                 - path: /CourseContent/videos/Constructing_an_Angle_Bisector.mp4  (PrathamVideoResource) \n",
      "              - path: /hn/Lesson/LES290  (lesson_page) \n",
      "                children:\n",
      "                 - path: /CourseContent/videos/Constructing_an_Angle_Measuring_60°.mp4  (PrathamVideoResource) \n",
      "              - path: /hn/Lesson/LES291  (lesson_page) \n",
      "                children:\n",
      "                 - path: /CourseContent/videos/Construction_of_a_Triangle_I.mp4  (PrathamVideoResource) \n",
      "              - path: /hn/Lesson/LES292  (lesson_page) \n",
      "                children:\n",
      "                 - path: /CourseContent/videos/Construction_of_a_Triangle_II.mp4  (PrathamVideoResource) \n",
      "              - path: /hn/Lesson/LES293  (lesson_page) \n",
      "                children:\n",
      "                 - path: /CourseContent/videos/Applying_Herons_Formula.mp4  (PrathamVideoResource) \n",
      "              - path: /hn/Lesson/LES294  (lesson_page) \n",
      "                children:\n",
      "                 - path: /CourseContent/videos/Surface_Area_of_Right_Circular_Cone.mp4  (PrathamVideoResource) \n",
      "              - path: /hn/Lesson/LES295  (lesson_page) \n",
      "                children:\n",
      "                 - path: /CourseContent/videos/Surface_Area_of_Sphere.mp4  (PrathamVideoResource) \n",
      "              - path: /hn/Lesson/LES296  (lesson_page) \n",
      "                children:\n",
      "                 - path: /CourseContent/videos/Surface_Areas_of_Cuboids_and_Cubes.mp4  (PrathamVideoResource) \n",
      "              - path: /hn/Lesson/LES297  (lesson_page) \n",
      "                children:\n",
      "                 - path: /CourseContent/videos/Volume_of_Cone_Sphere_and_Hemisphere.mp4  (PrathamVideoResource) \n",
      "              - path: /hn/Lesson/LES298  (lesson_page) \n",
      "                children:\n",
      "                 - path: /CourseContent/videos/Volume_of_Cuboid_Cube_and_Cylinder.mp4  (PrathamVideoResource) \n",
      "              - path: /hn/Lesson/LES299  (lesson_page) \n",
      "                children:\n",
      "                 - path: /CourseContent/videos/Data_and_Graphs.mp4  (PrathamVideoResource) \n",
      "              - path: /hn/Lesson/LES300  (lesson_page) \n",
      "                children:\n",
      "                 - path: /CourseContent/videos/Measures_of_Central_Tendency.mp4  (PrathamVideoResource) \n",
      "              - path: /hn/Lesson/LES301  (lesson_page) \n",
      "                children:\n",
      "                 - path: /CourseContent/videos/Show_Me_the_Data.mp4  (PrathamVideoResource) \n",
      "              - path: /hn/Lesson/LES302  (lesson_page) \n",
      "                children:\n",
      "                 - path: /CourseContent/videos/Introduction_to_Empirical_and_theoretical_probability.mp4  (PrathamVideoResource) \n",
      "              - path: /hn/Lesson/LES303  (lesson_page) \n",
      "                children:\n",
      "                 - path: /CourseContent/videos/Identity_Pyramid.mp4  (PrathamVideoResource) \n",
      "              - path: /hn/Lesson/LES304  (lesson_page) \n",
      "                children:\n",
      "                 - path: /CourseContent/videos/Definitions_and_Propositions.mp4  (PrathamVideoResource) \n",
      "              - path: /hn/Lesson/LES305  (lesson_page) \n",
      "                children:\n",
      "                 - path: /CourseContent/videos/Euclids_Works_-_An_Introduction.mp4  (PrathamVideoResource) \n",
      "              - path: /hn/Lesson/LES306  (lesson_page) \n",
      "                children:\n",
      "                 - path: /CourseContent/videos/Lines_and_Angles_in_Design.mp4  (PrathamVideoResource) \n",
      "              - path: /hn/Lesson/LES307  (lesson_page) \n",
      "                children:\n",
      "                 - path: /CourseContent/videos/Parallel_Lines_Transversals_Axioms_and_Theorems.mp4  (PrathamVideoResource) \n",
      "              - path: /hn/Lesson/LES308  (lesson_page) \n",
      "                children:\n",
      "                 - path: /CourseContent/videos/Proof_of_Angle_Sum_Property.mp4  (PrathamVideoResource) \n",
      "              - path: /hn/Lesson/LES309  (lesson_page) \n",
      "                children:\n",
      "                 - path: /CourseContent/videos/Proof_of_Mid-point_Theorem.mp4  (PrathamVideoResource) \n",
      "              - path: /hn/Lesson/LES310  (lesson_page) \n",
      "                children:\n",
      "                 - path: /CourseContent/videos/Sum_of_Angles_of_a_Quadrilateral.mp4  (PrathamVideoResource) \n",
      "              - path: /hn/Lesson/LES311  (lesson_page) \n",
      "                children:\n",
      "                 - path: /CourseContent/videos/Theorems_on_Parallelograms.mp4  (PrathamVideoResource) \n",
      "              - path: /hn/Lesson/LES312  (lesson_page) \n",
      "                children:\n",
      "                 - path: /CourseContent/videos/When_Can_a_Quadrilateral_be_a_Parallelogram.mp4  (PrathamVideoResource) \n",
      "              - path: /hn/Lesson/LES313  (lesson_page) \n",
      "                children:\n",
      "                 - path: /CourseContent/videos/Area_of_Triangles.mp4  (PrathamVideoResource) \n",
      "              - path: /hn/Lesson/LES314  (lesson_page) \n",
      "                children:\n",
      "                 - path: /CourseContent/videos/Areas_Parallelograms_and_Triangles.mp4  (PrathamVideoResource) \n",
      "        - path: /hn/Course/Std10  (topic_page) \n",
      "          children:\n",
      "           - path: /hn/Course/Std10/CRS31  (subtopic_page) \n",
      "             children:\n",
      "              - path: /hn/Lesson/LES316  (lesson_page) \n",
      "                children:\n",
      "                 - path: /CourseContent/videos/Balancing_Act.mp4  (PrathamVideoResource) \n",
      "              - path: /hn/Lesson/LES317  (lesson_page) \n",
      "                children:\n",
      "                 - path: /CourseContent/videos/Carbon_Column.mp4  (PrathamVideoResource) \n",
      "              - path: /hn/Lesson/LES318  (lesson_page) \n",
      "                children:\n",
      "                 - path: /CourseContent/videos/Crash_Course.mp4  (PrathamVideoResource) \n",
      "              - path: /hn/Lesson/LES319  (lesson_page) \n",
      "                children:\n",
      "                 - path: /CourseContent/videos/Stop_Press!.mp4  (PrathamVideoResource) \n",
      "              - path: /hn/Lesson/LES320  (lesson_page) \n",
      "                children:\n",
      "                 - path: /CourseContent/videos/Images_Formed_by_Spherical_Mirrors.mp4  (PrathamVideoResource) \n",
      "              - path: /hn/Lesson/LES321  (lesson_page) \n",
      "                children:\n",
      "                 - path: /CourseContent/videos/Play_of_Rays.mp4  (PrathamVideoResource) \n",
      "              - path: /hn/Lesson/LES322  (lesson_page) \n",
      "                children:\n",
      "                 - path: /CourseContent/videos/Spherical_Mirrors.mp4  (PrathamVideoResource) \n",
      "              - path: /hn/Lesson/LES323  (lesson_page) \n",
      "                children:\n",
      "                 - path: /CourseContent/videos/Atmospheric_Refraction.mp4  (PrathamVideoResource) \n",
      "              - path: /hn/Lesson/LES324  (lesson_page) \n",
      "                children:\n",
      "                 - path: /CourseContent/videos/Dispersion_of_White_Light_by_a_Glass_Prism.mp4  (PrathamVideoResource) \n",
      "              - path: /hn/Lesson/LES325  (lesson_page) \n",
      "                children:\n",
      "                 - path: /CourseContent/videos/Earthing_and_Fuse.mp4  (PrathamVideoResource) \n",
      "              - path: /hn/Lesson/LES326  (lesson_page) \n",
      "                children:\n",
      "                 - path: /CourseContent/videos/Electric_Generator.mp4  (PrathamVideoResource) \n",
      "              - path: /hn/Lesson/LES327  (lesson_page) \n",
      "                children:\n",
      "                 - path: /CourseContent/videos/Electric_Motor.mp4  (PrathamVideoResource) \n",
      "              - path: /hn/Lesson/LES328  (lesson_page) \n",
      "                children:\n",
      "                 - path: /CourseContent/videos/Introduction_to_Magnetic_Effect.mp4  (PrathamVideoResource) \n",
      "              - path: /hn/Lesson/LES329  (lesson_page) \n",
      "                children:\n",
      "                 - path: /CourseContent/videos/Energy_from_Fossil_Fuels.mp4  (PrathamVideoResource) \n",
      "              - path: /hn/Lesson/LES330  (lesson_page) \n",
      "                children:\n",
      "                 - path: /CourseContent/videos/Energy_from_the_Sea_and_Geothermal_Energy.mp4  (PrathamVideoResource) \n",
      "              - path: /hn/Lesson/LES331  (lesson_page) \n",
      "                children:\n",
      "                 - path: /CourseContent/videos/Energy_from_Wind_and_Bio-mass.mp4  (PrathamVideoResource) \n",
      "              - path: /hn/Lesson/LES332  (lesson_page) \n",
      "                children:\n",
      "                 - path: /CourseContent/videos/Hydroelectricity.mp4  (PrathamVideoResource) \n",
      "              - path: /hn/Lesson/LES333  (lesson_page) \n",
      "                children:\n",
      "                 - path: /CourseContent/videos/Nuclear_Energy.mp4  (PrathamVideoResource) \n",
      "              - path: /hn/Lesson/LES334  (lesson_page) \n",
      "                children:\n",
      "                 - path: /CourseContent/videos/Solar_Energy.mp4  (PrathamVideoResource) \n",
      "              - path: /hn/Lesson/LES335  (lesson_page) \n",
      "                children:\n",
      "                 - path: /CourseContent/videos/Biological_Magnification.mp4  (PrathamVideoResource) \n",
      "              - path: /hn/Lesson/LES336  (lesson_page) \n",
      "                children:\n",
      "                 - path: /CourseContent/videos/Depletion_of_the_Ozone_Layer.mp4  (PrathamVideoResource) \n",
      "              - path: /hn/Lesson/LES337  (lesson_page) \n",
      "                children:\n",
      "                 - path: /CourseContent/videos/Interactions_in_Ecosystems.mp4  (PrathamVideoResource) \n",
      "              - path: /hn/Lesson/LES338  (lesson_page) \n",
      "                children:\n",
      "                 - path: /CourseContent/videos/Dams.mp4  (PrathamVideoResource) \n",
      "              - path: /hn/Lesson/LES339  (lesson_page) \n",
      "                children:\n"
     ]
    },
    {
     "name": "stdout",
     "output_type": "stream",
     "text": [
      "                 - path: /CourseContent/videos/Anodising_Aluminium.mp4  (PrathamVideoResource) \n",
      "              - path: /hn/Lesson/LES340  (lesson_page) \n",
      "                children:\n",
      "                 - path: /CourseContent/videos/Give_and_Take.mp4  (PrathamVideoResource) \n",
      "              - path: /hn/Lesson/LES341  (lesson_page) \n",
      "                children:\n",
      "                 - path: /CourseContent/videos/Metal_Refining.mp4  (PrathamVideoResource) \n",
      "              - path: /hn/Lesson/LES342  (lesson_page) \n",
      "                children:\n",
      "                 - path: /CourseContent/videos/Branches_Chains_and_Rings.mp4  (PrathamVideoResource) \n",
      "              - path: /hn/Lesson/LES343  (lesson_page) \n",
      "                children:\n",
      "                 - path: /CourseContent/videos/Carbon_Combustion.mp4  (PrathamVideoResource) \n",
      "              - path: /hn/Lesson/LES344  (lesson_page) \n",
      "                children:\n",
      "                 - path: /CourseContent/videos/Ethanol_and_Ethanoic_Acid.mp4  (PrathamVideoResource) \n",
      "              - path: /hn/Lesson/LES345  (lesson_page) \n",
      "                children:\n",
      "                 - path: /CourseContent/videos/Saturated_and_Unsaturated_Hydrocarbons.mp4  (PrathamVideoResource) \n",
      "              - path: /hn/Lesson/LES346  (lesson_page) \n",
      "                children:\n",
      "                 - path: /CourseContent/videos/Sharing_and_Bonding.mp4  (PrathamVideoResource) \n",
      "              - path: /hn/Lesson/LES347  (lesson_page) \n",
      "                children:\n",
      "                 - path: /CourseContent/videos/Soap_Stories.mp4  (PrathamVideoResource) \n",
      "              - path: /hn/Lesson/LES348  (lesson_page) \n",
      "                children:\n",
      "                 - path: /CourseContent/videos/The_Flavour_Factory.mp4  (PrathamVideoResource) \n",
      "              - path: /hn/Lesson/LES349  (lesson_page) \n",
      "                children:\n",
      "                 - path: /CourseContent/videos/Digestion_in_Humans.mp4  (PrathamVideoResource) \n",
      "              - path: /hn/Lesson/LES350  (lesson_page) \n",
      "                children:\n",
      "                 - path: /CourseContent/videos/Role_of_Stomata_in_Transpiration.mp4  (PrathamVideoResource) \n",
      "              - path: /hn/Lesson/LES351  (lesson_page) \n",
      "                children:\n",
      "                 - path: /CourseContent/videos/Waste_Management.mp4  (PrathamVideoResource) \n",
      "              - path: /hn/Lesson/LES352  (lesson_page) \n",
      "                children:\n",
      "                 - path: /CourseContent/videos/A_Touch_Apart.mp4  (PrathamVideoResource) \n",
      "              - path: /hn/Lesson/LES353  (lesson_page) \n",
      "                children:\n",
      "                 - path: /CourseContent/videos/Itinerary_of_a_Nerve_Impulse.mp4  (PrathamVideoResource) \n",
      "              - path: /hn/Lesson/LES354  (lesson_page) \n",
      "                children:\n",
      "                 - path: /CourseContent/videos/Plants_and_Hormones.mp4  (PrathamVideoResource) \n",
      "              - path: /hn/Lesson/LES355  (lesson_page) \n",
      "                children:\n",
      "                 - path: /CourseContent/videos/The_Regulator.mp4  (PrathamVideoResource) \n",
      "              - path: /hn/Lesson/LES356  (lesson_page) \n",
      "                children:\n",
      "                 - path: /CourseContent/videos/Asexual_Reproduction.mp4  (PrathamVideoResource) \n",
      "              - path: /hn/Lesson/LES357  (lesson_page) \n",
      "                children:\n",
      "                 - path: /CourseContent/videos/Female_Reproductive_System.mp4  (PrathamVideoResource) \n",
      "              - path: /hn/Lesson/LES358  (lesson_page) \n",
      "                children:\n",
      "                 - path: /CourseContent/videos/Fertilization_to_Birth.mp4  (PrathamVideoResource) \n",
      "              - path: /hn/Lesson/LES359  (lesson_page) \n",
      "                children:\n",
      "                 - path: /CourseContent/videos/Male_Reproductive_System.mp4  (PrathamVideoResource) \n",
      "              - path: /hn/Lesson/LES360  (lesson_page) \n",
      "                children:\n",
      "                 - path: /CourseContent/videos/Sexual_Reproduction_in_Flowering_Plants.mp4  (PrathamVideoResource) \n",
      "              - path: /hn/Lesson/LES361  (lesson_page) \n",
      "                children:\n",
      "                 - path: /CourseContent/videos/Evolve_and_Move.mp4  (PrathamVideoResource) \n",
      "              - path: /hn/Lesson/LES362  (lesson_page) \n",
      "                children:\n",
      "                 - path: /CourseContent/videos/Patterns_of_Inheritance.mp4  (PrathamVideoResource) \n",
      "              - path: /hn/Lesson/LES363  (lesson_page) \n",
      "                children:\n",
      "                 - path: /CourseContent/videos/Speciation.mp4  (PrathamVideoResource) \n",
      "           - path: /hn/Course/Std10/CRS32  (subtopic_page) \n",
      "             children:\n",
      "              - path: /hn/Lesson/LES365  (lesson_page) \n",
      "                children:\n",
      "                 - path: /CourseContent/videos/Going_Off_on_a_Tangent.mp4  (PrathamVideoResource) \n",
      "              - path: /hn/Lesson/LES366  (lesson_page) \n",
      "                children:\n",
      "                 - path: /CourseContent/videos/Tangent_Radius_Relationship.mp4  (PrathamVideoResource) \n",
      "              - path: /hn/Lesson/LES367  (lesson_page) \n",
      "                children:\n",
      "                 - path: /CourseContent/videos/Tangents_From_a_Point_Outside_the_Circle.mp4  (PrathamVideoResource) \n",
      "              - path: /hn/Lesson/LES368  (lesson_page) \n",
      "                children:\n",
      "                 - path: /CourseContent/videos/Tangents_in_Daily_Life.mp4  (PrathamVideoResource) \n",
      "              - path: /hn/Lesson/LES369  (lesson_page) \n",
      "                children:\n",
      "                 - path: /CourseContent/videos/Constructing_Similar_Triangles.mp4  (PrathamVideoResource) \n",
      "              - path: /hn/Lesson/LES370  (lesson_page) \n",
      "                children:\n",
      "                 - path: /CourseContent/videos/Constructing_Tangents.mp4  (PrathamVideoResource) \n",
      "              - path: /hn/Lesson/LES371  (lesson_page) \n",
      "                children:\n",
      "                 - path: /CourseContent/videos/Dividing_a_Line_Segment_Method_1.mp4  (PrathamVideoResource) \n",
      "              - path: /hn/Lesson/LES372  (lesson_page) \n",
      "                children:\n",
      "                 - path: /CourseContent/videos/Dividing_a_Line_Segment_Method_2.mp4  (PrathamVideoResource) \n",
      "              - path: /hn/Lesson/LES373  (lesson_page) \n",
      "                children:\n",
      "                 - path: /CourseContent/videos/Areas_of_Sector_and_Segment.mp4  (PrathamVideoResource) \n",
      "              - path: /hn/Lesson/LES374  (lesson_page) \n",
      "                children:\n",
      "                 - path: /CourseContent/videos/Converting_One_Solid_Shape_to_Another.mp4  (PrathamVideoResource) \n",
      "              - path: /hn/Lesson/LES375  (lesson_page) \n",
      "                children:\n",
      "                 - path: /CourseContent/videos/SA_and_Volume_of_Combinations_of_Solids.mp4  (PrathamVideoResource) \n",
      "              - path: /hn/Lesson/LES376  (lesson_page) \n",
      "                children:\n",
      "                 - path: /CourseContent/videos/The_Frustum_of_a_Cone.mp4  (PrathamVideoResource) \n",
      "              - path: /hn/Lesson/LES377  (lesson_page) \n",
      "                children:\n",
      "                 - path: /CourseContent/videos/Cumulative_Effort.mp4  (PrathamVideoResource) \n",
      "              - path: /hn/Lesson/LES378  (lesson_page) \n",
      "                children:\n",
      "                 - path: /CourseContent/videos/Finding_the_Median_of_Grouped_Data.mp4  (PrathamVideoResource) \n",
      "              - path: /hn/Lesson/LES379  (lesson_page) \n",
      "                children:\n",
      "                 - path: /CourseContent/videos/Mean_of_Ungrouped_Data.mp4  (PrathamVideoResource) \n",
      "              - path: /hn/Lesson/LES380  (lesson_page) \n",
      "                children:\n",
      "                 - path: /CourseContent/videos/Mode_of_Grouped_Data.mp4  (PrathamVideoResource) \n",
      "              - path: /hn/Lesson/LES381  (lesson_page) \n",
      "                children:\n",
      "                 - path: /CourseContent/videos/Probability_Revisited.mp4  (PrathamVideoResource) \n",
      "              - path: /hn/Lesson/LES382  (lesson_page) \n",
      "                children:\n",
      "                 - path: /CourseContent/videos/Cross-Multiplication_Method.mp4  (PrathamVideoResource) \n",
      "              - path: /hn/Lesson/LES383  (lesson_page) \n",
      "                children:\n",
      "                 - path: /CourseContent/videos/Elimination_Method.mp4  (PrathamVideoResource) \n",
      "              - path: /hn/Lesson/LES384  (lesson_page) \n",
      "                children:\n",
      "                 - path: /CourseContent/videos/Equations_Reducible_to_Linear_Equations.mp4  (PrathamVideoResource) \n",
      "              - path: /hn/Lesson/LES385  (lesson_page) \n",
      "                children:\n",
      "                 - path: /CourseContent/videos/Substitution_Method.mp4  (PrathamVideoResource) \n",
      "              - path: /hn/Lesson/LES386  (lesson_page) \n",
      "                children:\n",
      "                 - path: /CourseContent/videos/Completing_the_Square.mp4  (PrathamVideoResource) \n",
      "              - path: /hn/Lesson/LES387  (lesson_page) \n",
      "                children:\n",
      "                 - path: /CourseContent/videos/Determining_the_Nature_of_Roots.mp4  (PrathamVideoResource) \n",
      "              - path: /hn/Lesson/LES388  (lesson_page) \n",
      "                children:\n",
      "                 - path: /CourseContent/videos/Factorising_Quadratic_Equations.mp4  (PrathamVideoResource) \n",
      "              - path: /hn/Lesson/LES389  (lesson_page) \n",
      "                children:\n",
      "                 - path: /CourseContent/videos/Using_Quadratic_Formula.mp4  (PrathamVideoResource) \n",
      "              - path: /hn/Lesson/LES390  (lesson_page) \n",
      "                children:\n",
      "                 - path: /CourseContent/videos/Arithmetic_Progression.mp4  (PrathamVideoResource) \n",
      "              - path: /hn/Lesson/LES391  (lesson_page) \n",
      "                children:\n",
      "                 - path: /CourseContent/videos/Sum_It_Up.mp4  (PrathamVideoResource) \n",
      "              - path: /hn/Lesson/LES392  (lesson_page) \n",
      "                children:\n",
      "                 - path: /CourseContent/videos/Basic_Proportionality_Theorem.mp4  (PrathamVideoResource) \n",
      "              - path: /hn/Lesson/LES393  (lesson_page) \n",
      "                children:\n",
      "                 - path: /CourseContent/videos/Converse_of_Basic_Proportionality_Theorem.mp4  (PrathamVideoResource) \n",
      "              - path: /hn/Lesson/LES394  (lesson_page) \n",
      "                children:\n",
      "                 - path: /CourseContent/videos/Proving_Pythagoras_Theorem.mp4  (PrathamVideoResource) \n",
      "              - path: /hn/Lesson/LES395  (lesson_page) \n",
      "                children:\n",
      "                 - path: /CourseContent/videos/SAS_Criterion_of_Similarity.mp4  (PrathamVideoResource) \n",
      "              - path: /hn/Lesson/LES396  (lesson_page) \n",
      "                children:\n",
      "                 - path: /CourseContent/videos/Understanding_Similarity.mp4  (PrathamVideoResource) \n",
      "              - path: /hn/Lesson/LES397  (lesson_page) \n",
      "                children:\n",
      "                 - path: /CourseContent/videos/Area_of_a_Triangle.mp4  (PrathamVideoResource) \n",
      "              - path: /hn/Lesson/LES398  (lesson_page) \n",
      "                children:\n",
      "                 - path: /CourseContent/videos/Find_the_Distance.mp4  (PrathamVideoResource) \n",
      "              - path: /hn/Lesson/LES399  (lesson_page) \n",
      "                children:\n",
      "                 - path: /CourseContent/videos/Section_Formula.mp4  (PrathamVideoResource) \n",
      "              - path: /hn/Lesson/LES400  (lesson_page) \n",
      "                children:\n",
      "                 - path: /CourseContent/videos/Test_of_Collinearity.mp4  (PrathamVideoResource) \n",
      "              - path: /hn/Lesson/LES401  (lesson_page) \n",
      "                children:\n",
      "                 - path: /CourseContent/videos/Right_Triangles_in_Everyday_Life.mp4  (PrathamVideoResource) \n",
      "              - path: /hn/Lesson/LES402  (lesson_page) \n",
      "                children:\n",
      "                 - path: /CourseContent/videos/Six_Trigonometric_Ratios.mp4  (PrathamVideoResource) \n",
      "              - path: /hn/Lesson/LES403  (lesson_page) \n",
      "                children:\n",
      "                 - path: /CourseContent/videos/Trigonometric_Ratios_of_0_and_90_Degrees.mp4  (PrathamVideoResource) \n",
      "              - path: /hn/Lesson/LES404  (lesson_page) \n",
      "                children:\n",
      "                 - path: /CourseContent/videos/Trigonometric_Ratios_of_30_45_and_60.mp4  (PrathamVideoResource) \n",
      "              - path: /hn/Lesson/LES405  (lesson_page) \n",
      "                children:\n",
      "                 - path: /CourseContent/videos/Finding_Heights_and_Distances.mp4  (PrathamVideoResource) \n",
      "              - path: /hn/Lesson/LES406  (lesson_page) \n",
      "                children:\n",
      "                 - path: /CourseContent/videos/Trigonometric_Terms.mp4  (PrathamVideoResource) \n",
      "        - path: /hn/Fun  (fun_page) \n",
      "          children:\n",
      "           - path: /CourseContent/videos/fun_Computer_Work.mp4  (PrathamVideoResource) \n",
      "           - path: /CourseContent/videos/Geeta_Babita.mp4  (PrathamVideoResource) \n",
      "           - path: /CourseContent/videos/h_pressure.mp4  (PrathamVideoResource) \n",
      "           - path: /CourseContent/Games/phet/index.html?id=build-an-atom-hn  (PrathamHtmlResource) \n",
      "           - path: /CourseContent/videos/Pupil_Purpose.mp4  (PrathamVideoResource) \n",
      "           - path: /CourseContent/videos/h_sandwich.mp4  (PrathamVideoResource) \n",
      "           - path: /CourseContent/videos/h_howToSwim.mp4  (PrathamVideoResource) \n",
      "           - path: /CourseContent/Hindi/videos/Laure_&amp;_hardy.mp4  (UnsupportedPrathamWebResource) \n",
      "           - path: /CourseContent/Games/phet/index.html?id=resistance-in-a-wire-hn  (PrathamHtmlResource) \n",
      "           - path: /CourseContent/videos/Straw_Spindle.mp4  (PrathamVideoResource) \n",
      "           - path: /CourseContent/videos/Static_Magic_Wand.mp4  (PrathamVideoResource) \n",
      "           - path: /CourseContent/videos/mirror.mp4  (PrathamVideoResource) \n",
      "           - path: /CourseContent/videos/h_Pulley_advantage_and_disadvantages_2.mp4  (PrathamVideoResource) \n",
      "           - path: /CourseContent/videos/h_real_players.mp4  (PrathamVideoResource) \n",
      "           - path: /CourseContent/Games/HistoryOfPlane_H.zip  (PrathamZipResource) \n",
      "           - path: /CourseContent/videos/h_howToFly.mp4  (PrathamVideoResource) \n",
      "           - path: /CourseContent/Games/AtulyaBharat_HI/index.html  (PrathamHtmlResource) \n",
      "           - path: /CourseContent/videos/h_Pulley_advantage_and_disadvantages_1.mp4  (PrathamVideoResource) \n",
      "           - path: /CourseContent/Games/phet/index.html?id=color-vision-master-hn  (PrathamHtmlResource) \n",
      "           - path: /CourseContent/videos/h_acceleration.mp4  (PrathamVideoResource) \n",
      "           - path: /CourseContent/Games/CorrectPair/index.html  (PrathamHtmlResource) \n",
      "           - path: /CourseContent/videos/h_odd_numbers_fun.mp4  (PrathamVideoResource) \n",
      "           - path: /CourseContent/videos/h_paper_bridge.mp4  (PrathamVideoResource) \n",
      "           - path: /CourseContent/videos/h_periodic_table.mp4  (PrathamVideoResource) \n",
      "           - path: /CourseContent/Games/phet/index.html?id=ohms-law-hn  (PrathamHtmlResource) \n",
      "           - path: /CourseContent/Games/Palat_HI/index.html  (PrathamHtmlResource) \n",
      "           - path: /CourseContent/videos/h_howToDrink.mp4  (PrathamVideoResource) \n",
      "           - path: /CourseContent/Games/timeglider_ISRO_hn/isro_history.html  (PrathamHtmlResource) \n",
      "           - path: /CourseContent/Games/Cricket_HI/index.html  (PrathamHtmlResource) \n",
      "           - path: /CourseContent/videos/m_Que.mp4  (PrathamVideoResource) \n",
      "           - path: /CourseContent/Games/Build-a-Sentence(Hindi)/mainexpand.html  (PrathamHtmlResource) \n",
      "           - path: /CourseContent/Games/Dhoom_2_HI/index.html  (PrathamHtmlResource) \n",
      "           - path: /CourseContent/Games/AksharMatra_HI/index.html  (PrathamHtmlResource) \n",
      "           - path: /CourseContent/Games/clockGameHindi/index.html  (PrathamHtmlResource) \n",
      "           - path: /CourseContent/videos/India_golden_girl.mp4  (PrathamVideoResource) \n",
      "           - path: /CourseContent/videos/h_coriolis_effect.mp4  (PrathamVideoResource) \n",
      "           - path: /CourseContent/videos/h_dry_clothes.mp4  (PrathamVideoResource) \n",
      "           - path: /CourseContent/videos/h_important_work.mp4  (PrathamVideoResource) \n",
      "           - path: /CourseContent/Games/AgePiche_HI/index.html  (PrathamHtmlResource) \n",
      "           - path: /CourseContent/Games/4 clues (Countries) Hindi.zip  (PrathamZipResource) \n",
      "           - path: /CourseContent/videos/Funny_Balloon.mp4  (PrathamVideoResource) \n",
      "           - path: /CourseContent/Games/ScienceBucketGame_H/BucketGame.html  (PrathamHtmlResource) \n",
      "           - path: /CourseContent/Games/H_calculator/main.html  (PrathamHtmlResource) \n",
      "           - path: /CourseContent/videos/h_perfect_numbers.mp4  (PrathamVideoResource) \n",
      "           - path: /CourseContent/Games/timeglider_light_hn/light_history.html  (PrathamHtmlResource) \n",
      "           - path: /CourseContent/Games/timeglider_aircraft_hn/aircraft_history.html  (PrathamHtmlResource) \n",
      "           - path: /CourseContent/Games/newFractionGame_H/MainPage.html  (PrathamHtmlResource) \n",
      "           - path: /CourseContent/Games/sorting Game (Hindi).zip  (PrathamZipResource) \n",
      "           - path: /CourseContent/videos/h_bridge_secret.mp4  (PrathamVideoResource) \n",
      "           - path: /CourseContent/videos/h_weight1.mp4  (PrathamVideoResource) \n",
      "           - path: /CourseContent/Games/MathsBucketGame_H.zip  (PrathamZipResource) \n",
      "           - path: /CourseContent/videos/h_cow_pump.mp4  (PrathamVideoResource) \n",
      "           - path: /CourseContent/videos/h_weight2.mp4  (PrathamVideoResource) \n",
      "           - path: /CourseContent/Games/Bone Game(Dr. Haddi)_H.zip  (PrathamZipResource) \n",
      "           - path: /CourseContent/videos/h_force.mp4  (PrathamVideoResource) \n",
      "           - path: /CourseContent/videos/h_nasa_satellite.mp4  (PrathamVideoResource) \n",
      "           - path: /CourseContent/Games/FlipImage Game(Palat)_H.zip  (PrathamZipResource) \n",
      "           - path: /CourseContent/Games/Jigsaw_HI/index.html  (PrathamHtmlResource) \n",
      "           - path: /CourseContent/videos/Straw_Flute.mp4  (PrathamVideoResource) \n",
      "           - path: /CourseContent/Games/Awazchitra_HI/index.html  (PrathamHtmlResource) \n",
      "           - path: /CourseContent/videos/h_howToRun.mp4  (PrathamVideoResource) \n",
      "           - path: /CourseContent/videos/h_Airplane_landing.mp4  (PrathamVideoResource) \n",
      "           - path: /CourseContent/videos/h_palindromes.mp4  (PrathamVideoResource) \n",
      "           - path: /CourseContent/videos/h_self_opearating_gate.mp4  (PrathamVideoResource) \n",
      "        - path: /hn/Story  (story_page) \n",
      "          children:\n",
      "           - path: /CourseContent/PDF/h_Rainbow_Fish.pdf  (story_resource_page) \n",
      "           - path: /CourseContent/PDF/h_Goodnight_Tinku.pdf  (story_resource_page) \n",
      "           - path: /CourseContent/PDF/h_Rain_Rain.pdf  (story_resource_page) \n",
      "           - path: /CourseContent/PDF/h_Kallus_World_02.pdf  (story_resource_page) \n",
      "           - path: /CourseContent/PDF/h_Shantis_Friend.pdf  (story_resource_page) \n",
      "           - path: /CourseContent/PDF/h_Paplu_The_Giant.pdf  (story_resource_page) \n",
      "           - path: /CourseContent/PDF/h_Row_Your_Boat.pdf  (story_resource_page) \n",
      "           - path: /CourseContent/PDF/h_Aunty_Juis_Baby.pdf  (story_resource_page) \n",
      "           - path: /CourseContent/PDF/h_Kato_Clever.pdf  (story_resource_page) \n",
      "           - path: /CourseContent/PDF/h_Wedding.pdf  (story_resource_page) \n",
      "           - path: /CourseContent/PDF/h_Cat_in_the_ghat.pdf  (story_resource_page) \n",
      "           - path: /CourseContent/PDF/h_History_02.pdf  (story_resource_page) \n",
      "           - path: /CourseContent/PDF/h_Chulbuls_Tail.pdf  (story_resource_page) \n",
      "           - path: /CourseContent/PDF/h_Koels_Song.pdf  (story_resource_page) \n",
      "           - path: /CourseContent/PDF/h_Anayas_Thumb.pdf  (story_resource_page) \n",
      "           - path: /CourseContent/PDF/h_Parrot.pdf  (story_resource_page) \n",
      "           - path: /CourseContent/PDF/h_Jungle_Brew.pdf  (story_resource_page) \n",
      "           - path: /CourseContent/PDF/h_Chuskit_Goes_to_School.pdf  (story_resource_page) \n",
      "           - path: /CourseContent/PDF/h_Cheenus_Gift.pdf  (story_resource_page) \n",
      "           - path: /CourseContent/PDF/h_Kaka_and_Munni.pdf  (story_resource_page) \n",
      "           - path: /CourseContent/PDF/h_Sniffles_and_Punch.pdf  (story_resource_page) \n",
      "           - path: /CourseContent/PDF/h_Grandmas_Glasses.pdf  (story_resource_page) \n",
      "           - path: /CourseContent/PDF/h_Missing_Bat.pdf  (story_resource_page) \n",
      "           - path: /CourseContent/PDF/h_Sparrow_and_the_Fruit.pdf  (story_resource_page) \n",
      "           - path: /CourseContent/PDF/h_Finance_01.pdf  (story_resource_page) \n",
      "           - path: /CourseContent/PDF/h_Kallus_World_01.pdf  (story_resource_page) \n",
      "           - path: /CourseContent/PDF/h_Our_Wonderful_World.pdf  (story_resource_page) \n",
      "           - path: /CourseContent/PDF/h_Generous_Crow.pdf  (story_resource_page) \n",
      "           - path: /CourseContent/PDF/h_Daddys_Mo.pdf  (story_resource_page) \n",
      "           - path: /CourseContent/PDF/h_History_01.pdf  (story_resource_page) \n",
      "           - path: /CourseContent/PDF/h_No_smiles_today.pdf  (story_resource_page) \n",
      "           - path: /CourseContent/PDF/h_Counting_on_Moru.pdf  (story_resource_page) \n",
      "           - path: /CourseContent/PDF/h_Spincy_Spider.pdf  (story_resource_page) \n",
      "           - path: /CourseContent/PDF/h_Shobhini_and_Nani.pdf  (story_resource_page) \n",
      "           - path: /CourseContent/PDF/h_Hare_and_Tortoise.pdf  (story_resource_page) \n",
      "           - path: /CourseContent/PDF/h_Finance_02.pdf  (story_resource_page) \n",
      "           - path: /CourseContent/PDF/h_Dastkari_03.pdf  (story_resource_page) \n",
      "           - path: /CourseContent/PDF/h_Annual_Haircut_Day.pdf  (story_resource_page) \n",
      "           - path: /CourseContent/PDF/h_Grandpa_Fish_and_Radio.pdf  (story_resource_page) \n",
      "           - path: /CourseContent/PDF/h_Moo_Moo.pdf  (story_resource_page) \n",
      "        - path: /hn/gamelist/CRS104  (topic_page) \n",
      "          children:\n",
      "           - path: /hn/gamelist/CRS104/LES407  (subtopic_page) \n",
      "           - path: /hn/gamelist/CRS104/LES408  (subtopic_page) \n",
      "        - path: /Video/Index  (topic_page) \n"
     ]
    }
   ],
   "source": [
    "crawler.print_tree(web_resource_tree, print_depth=5)"
   ]
  },
  {
   "cell_type": "code",
   "execution_count": null,
   "metadata": {},
   "outputs": [],
   "source": []
  },
  {
   "cell_type": "code",
   "execution_count": null,
   "metadata": {},
   "outputs": [],
   "source": []
  },
  {
   "cell_type": "code",
   "execution_count": 4,
   "metadata": {
    "scrolled": false
   },
   "outputs": [],
   "source": [
    "\n"
   ]
  },
  {
   "cell_type": "code",
   "execution_count": null,
   "metadata": {
    "scrolled": false
   },
   "outputs": [],
   "source": []
  },
  {
   "cell_type": "code",
   "execution_count": null,
   "metadata": {
    "scrolled": false
   },
   "outputs": [],
   "source": []
  },
  {
   "cell_type": "code",
   "execution_count": null,
   "metadata": {},
   "outputs": [],
   "source": []
  },
  {
   "cell_type": "code",
   "execution_count": null,
   "metadata": {},
   "outputs": [],
   "source": []
  },
  {
   "cell_type": "code",
   "execution_count": null,
   "metadata": {},
   "outputs": [],
   "source": []
  },
  {
   "cell_type": "code",
   "execution_count": null,
   "metadata": {},
   "outputs": [],
   "source": []
  },
  {
   "cell_type": "code",
   "execution_count": null,
   "metadata": {},
   "outputs": [],
   "source": []
  },
  {
   "cell_type": "code",
   "execution_count": null,
   "metadata": {},
   "outputs": [],
   "source": []
  },
  {
   "cell_type": "code",
   "execution_count": null,
   "metadata": {},
   "outputs": [],
   "source": []
  },
  {
   "cell_type": "code",
   "execution_count": null,
   "metadata": {},
   "outputs": [],
   "source": []
  }
 ],
 "metadata": {
  "kernelspec": {
   "display_name": "Python 3",
   "language": "python",
   "name": "python3"
  },
  "language_info": {
   "codemirror_mode": {
    "name": "ipython",
    "version": 3
   },
   "file_extension": ".py",
   "mimetype": "text/x-python",
   "name": "python",
   "nbconvert_exporter": "python",
   "pygments_lexer": "ipython3",
   "version": "3.6.4"
  }
 },
 "nbformat": 4,
 "nbformat_minor": 2
}
