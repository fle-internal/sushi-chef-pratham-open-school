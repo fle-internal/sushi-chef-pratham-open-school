{
 "cells": [
  {
   "cell_type": "code",
   "execution_count": 1,
   "metadata": {},
   "outputs": [],
   "source": [
    "import logging\n",
    "import ricecooker.config\n",
    "import chef\n",
    "ricecooker.config.LOGGER.setLevel(logging.INFO)\n",
    "ricecooker.config.LOGGER.addHandler(logging.StreamHandler())\n",
    "#chef.construct_channel(language='hn').print_tree()"
   ]
  },
  {
   "cell_type": "code",
   "execution_count": 1,
   "metadata": {
    "scrolled": false
   },
   "outputs": [],
   "source": [
    "from bs4 import BeautifulSoup\n",
    "\n",
    "from chef import LOGGER, PRADIGI_LANG_URL_MAP\n",
    "\n",
    "\n",
    "hindi_start = PRADIGI_LANG_URL_MAP['hn']\n",
    "\n",
    "from chef import PraDigiCrawler\n",
    "    \n",
    "crawler = PraDigiCrawler(start_page=hindi_start)\n"
   ]
  },
  {
   "cell_type": "code",
   "execution_count": 2,
   "metadata": {
    "scrolled": true
   },
   "outputs": [
    {
     "name": "stderr",
     "output_type": "stream",
     "text": [
      "Downloaded page http://www.prathamopenschool.org/hn/ title:POS\n",
      "in on_lang_page http://www.prathamopenschool.org/hn/\n",
      "found topic: Mathematics: गणित\n",
      "found topic: English: अंग्रेजी\n",
      "found topic: Health: स्वास्थ्य\n",
      "found topic: Science: विज्ञान\n",
      "found topic: Hospitality: अतिथी सत्कार\n",
      "found topic: Construction: भवन-निर्माण\n",
      "found topic: Automobile: वाहन\n",
      "found topic: Electric: इलेक्ट्रिक\n",
      "found topic: Beauty: ब्युटी\n",
      "found topic: Healthcare: स्वास्थ्य सेवा\n",
      "found topic: Std8: 8 वी कक्षा\n",
      "found games page: Fun: मौज\n",
      "found games page: Story: कहानियाँ\n",
      "found topic: CRS104: खेल\n"
     ]
    },
    {
     "name": "stdout",
     "output_type": "stream",
     "text": [
      "skipping <a class=\"dropdown-toggle\" data-toggle=\"dropdown\" href=\"#\" style=\"background: transparent;\">\r\n",
      "                                                कौशल <span class=\"caret\"></span>\n",
      "</a>\n"
     ]
    },
    {
     "name": "stderr",
     "output_type": "stream",
     "text": [
      "Downloaded page http://www.prathamopenschool.org/hn/Course/Mathematics title:Course\n",
      "in on_topic_page http://www.prathamopenschool.org/hn/Course/Mathematics\n",
      "  found subtopic: CRS17: ज्यामिती से परिचय\n",
      "  found subtopic: CRS98: ब्याज\n",
      "  found subtopic: CRS99: वर्ग संख्याएँ\n",
      "  found subtopic: CRS27: गुणज और गुणनखंड\n",
      "  found subtopic: CRS82: अलग संख्याएँ\n",
      "  found subtopic: CRS41: मात्राएँ और संख्याएँ\n",
      "  found subtopic: CRS24: प्रतिशत\n",
      "  found subtopic: CRS21: बीजगणित से परिचय\n",
      "  found subtopic: CRS40: दशमलव\n",
      "Downloaded page http://www.prathamopenschool.org/hn/Course/English title:Course\n",
      "in on_topic_page http://www.prathamopenschool.org/hn/Course/English\n",
      "  found subtopic: CRS34: अंग्रेजी बोलो\n",
      "  found subtopic: CRS36: अंग्रेजी ओके प्लीज\n",
      "Downloaded page http://www.prathamopenschool.org/hn/Course/Health title:Course\n",
      "in on_topic_page http://www.prathamopenschool.org/hn/Course/Health\n",
      "  found subtopic: CRS28: आहार\n",
      "Downloaded page http://www.prathamopenschool.org/hn/Course/Science title:Course\n",
      "in on_topic_page http://www.prathamopenschool.org/hn/Course/Science\n",
      "  found subtopic: CRS44: मानव शरीर\n",
      "  found subtopic: CRS96: सूर्य और पृथ्वी\n",
      "  found subtopic: CRS97: ऊर्जा\n",
      "  found subtopic: CRS83: हलचल\n",
      "  found subtopic: CRS46: नापना\n",
      "  found subtopic: CRS84: पदार्थ\n",
      "  found subtopic: CRS92: प्रकाश\n",
      "Downloaded page http://www.prathamopenschool.org/hn/Course/Hospitality title:Course\n",
      "in on_topic_page http://www.prathamopenschool.org/hn/Course/Hospitality\n",
      "  found subtopic: CRS86: उद्योग का परिचय\n",
      "  found subtopic: CRS87: खाद्य और पेय पदार्थ\n",
      "  found subtopic: CRS88: खाद्य उत्पादन\n",
      "  found subtopic: CRS89: गृह व्यवस्था\n",
      "Downloaded page http://www.prathamopenschool.org/hn/Course/Construction title:Course\n",
      "in on_topic_page http://www.prathamopenschool.org/hn/Course/Construction\n",
      "  found subtopic: CRS93: निर्माण\n",
      "Downloaded page http://www.prathamopenschool.org/hn/Course/Automobile title:Course\n",
      "in on_topic_page http://www.prathamopenschool.org/hn/Course/Automobile\n",
      "  found subtopic: CRS94: ऑटोमोबाइल\n",
      "Downloaded page http://www.prathamopenschool.org/hn/Course/Electric title:Course\n",
      "in on_topic_page http://www.prathamopenschool.org/hn/Course/Electric\n",
      "  found subtopic: CRS90: इलेक्ट्रीशियन\n",
      "Downloaded page http://www.prathamopenschool.org/hn/Course/Beauty title:Course\n",
      "in on_topic_page http://www.prathamopenschool.org/hn/Course/Beauty\n",
      "  found subtopic: CRS95: ब्यूटिशियन\n",
      "Downloaded page http://www.prathamopenschool.org/hn/Course/Healthcare title:Course\n",
      "in on_topic_page http://www.prathamopenschool.org/hn/Course/Healthcare\n",
      "  found subtopic: CRS91: बेडसाइड असिस्टंट\n",
      "Downloaded page http://www.prathamopenschool.org/hn/Course/Std8 title:Course\n",
      "in on_topic_page http://www.prathamopenschool.org/hn/Course/Std8\n",
      "  found subtopic: CRS79: विज्ञान\n",
      "  found subtopic: CRS80: गणित\n",
      "Downloaded page http://www.prathamopenschool.org/hn/Fun title:Fun\n"
     ]
    },
    {
     "name": "stdout",
     "output_type": "stream",
     "text": [
      "     in on_games_page http://www.prathamopenschool.org/hn/Fun\n"
     ]
    },
    {
     "name": "stderr",
     "output_type": "stream",
     "text": [
      "Downloaded page http://www.prathamopenschool.org/hn/Story title:Story\n"
     ]
    },
    {
     "name": "stdout",
     "output_type": "stream",
     "text": [
      "     in on_games_page http://www.prathamopenschool.org/hn/Story\n"
     ]
    },
    {
     "name": "stderr",
     "output_type": "stream",
     "text": [
      "Downloaded page http://www.prathamopenschool.org/hn/gamelist/CRS104 title:GameList\n",
      "in on_topic_page http://www.prathamopenschool.org/hn/gamelist/CRS104\n",
      "  found subtopic: LES620: 3 to 6\n",
      "  found subtopic: LES621: 6 to 10\n",
      "  found subtopic: LES622: 10 to 14\n",
      "Downloaded page http://www.prathamopenschool.org/hn/Course/Mathematics/CRS17 title:Course\n",
      "     lesson: LES55: त्रिभुज\n",
      "     lesson: LES56: कोण\n",
      "     lesson: LES57: वृत्त\n",
      "     lesson: LES58: परिमाप\n",
      "     lesson: LES74: आकृतियाँ और बहुभुज\n",
      "     lesson: LES76: क्षेत्रफल\n"
     ]
    },
    {
     "name": "stdout",
     "output_type": "stream",
     "text": [
      "     in on_subtopic_page http://www.prathamopenschool.org/hn/Course/Mathematics/CRS17\n"
     ]
    },
    {
     "name": "stderr",
     "output_type": "stream",
     "text": [
      "Downloaded page http://www.prathamopenschool.org/hn/Course/Mathematics/CRS98 title:Course\n",
      "     lesson: LES603: ब्याज\n"
     ]
    },
    {
     "name": "stdout",
     "output_type": "stream",
     "text": [
      "     in on_subtopic_page http://www.prathamopenschool.org/hn/Course/Mathematics/CRS98\n"
     ]
    },
    {
     "name": "stderr",
     "output_type": "stream",
     "text": [
      "Downloaded page http://www.prathamopenschool.org/hn/Course/Mathematics/CRS99 title:Course\n",
      "     lesson: LES604: वर्ग संख्याएँ\n"
     ]
    },
    {
     "name": "stdout",
     "output_type": "stream",
     "text": [
      "     in on_subtopic_page http://www.prathamopenschool.org/hn/Course/Mathematics/CRS99\n"
     ]
    },
    {
     "name": "stderr",
     "output_type": "stream",
     "text": [
      "Downloaded page http://www.prathamopenschool.org/hn/Course/Mathematics/CRS27 title:Course\n",
      "     lesson: LES86: गुणज\n",
      "     lesson: LES87: गुणनखंड\n",
      "     lesson: LES88: महत्तम समापवर्तक\n",
      "     lesson: LES89: लघुत्तम समापवर्त्य\n",
      "     lesson: LES90: महत्तम समापवर्तक, लघुत्तम समापवर्त्य\n",
      "     lesson: LES537: रिश्ते गणित में\n"
     ]
    },
    {
     "name": "stdout",
     "output_type": "stream",
     "text": [
      "     in on_subtopic_page http://www.prathamopenschool.org/hn/Course/Mathematics/CRS27\n"
     ]
    },
    {
     "name": "stderr",
     "output_type": "stream",
     "text": [
      "Downloaded page http://www.prathamopenschool.org/hn/Course/Mathematics/CRS82 title:Course\n",
      "     lesson: LES509: भिन्न में और क्या!\n",
      "     lesson: LES513: दशमलव में और क्या!\n",
      "     lesson: LES514: दो अंकों के बीच\n",
      "     lesson: LES515: सौ में से कितने?\n",
      "     lesson: LES112: अंक के भाग\n"
     ]
    },
    {
     "name": "stdout",
     "output_type": "stream",
     "text": [
      "     in on_subtopic_page http://www.prathamopenschool.org/hn/Course/Mathematics/CRS82\n"
     ]
    },
    {
     "name": "stderr",
     "output_type": "stream",
     "text": [
      "Downloaded page http://www.prathamopenschool.org/hn/Course/Mathematics/CRS41 title:Course\n",
      "     lesson: LES107: मात्राएँ और संख्याएँ\n"
     ]
    },
    {
     "name": "stdout",
     "output_type": "stream",
     "text": [
      "     in on_subtopic_page http://www.prathamopenschool.org/hn/Course/Mathematics/CRS41\n"
     ]
    },
    {
     "name": "stderr",
     "output_type": "stream",
     "text": [
      "Downloaded page http://www.prathamopenschool.org/hn/Course/Mathematics/CRS24 title:Course\n",
      "     lesson: LES75: प्रतिशत\n"
     ]
    },
    {
     "name": "stdout",
     "output_type": "stream",
     "text": [
      "     in on_subtopic_page http://www.prathamopenschool.org/hn/Course/Mathematics/CRS24\n"
     ]
    },
    {
     "name": "stderr",
     "output_type": "stream",
     "text": [
      "Downloaded page http://www.prathamopenschool.org/hn/Course/Mathematics/CRS21 title:Course\n",
      "     lesson: LES85: बीजगणित की भूमिका\n"
     ]
    },
    {
     "name": "stdout",
     "output_type": "stream",
     "text": [
      "     in on_subtopic_page http://www.prathamopenschool.org/hn/Course/Mathematics/CRS21\n"
     ]
    },
    {
     "name": "stderr",
     "output_type": "stream",
     "text": [
      "Downloaded page http://www.prathamopenschool.org/hn/Course/Mathematics/CRS40 title:Course\n",
      "     lesson: LES100: दशमलव\n",
      "     lesson: LES101: दशमलव जोडना,घटाना\n"
     ]
    },
    {
     "name": "stdout",
     "output_type": "stream",
     "text": [
      "     in on_subtopic_page http://www.prathamopenschool.org/hn/Course/Mathematics/CRS40\n"
     ]
    },
    {
     "name": "stderr",
     "output_type": "stream",
     "text": [
      "Downloaded page http://www.prathamopenschool.org/hn/Course/English/CRS34 title:Course\n",
      "     lesson: LES405: बोलो हेलो!\n",
      "     lesson: LES406: मेरे अपने\n",
      "     lesson: LES407: ना ना की बातें\n",
      "     lesson: LES408: मेरी मर्ज़ी\n",
      "     lesson: LES442: समय को समझे\n",
      "     lesson: LES444: खरीददारी\n",
      "     lesson: LES445: अपना मुव्ही बनाइए\n",
      "     lesson: LES446: सलमा दीदी की शादी\n",
      "     lesson: LES447: आज की ताजा खबर\n",
      "     lesson: LES612: डरना मना हैं\n",
      "     lesson: LES613: बच्चों की टोली\n",
      "     lesson: LES614: गाँव में चोर\n"
     ]
    },
    {
     "name": "stdout",
     "output_type": "stream",
     "text": [
      "     in on_subtopic_page http://www.prathamopenschool.org/hn/Course/English/CRS34\n"
     ]
    },
    {
     "name": "stderr",
     "output_type": "stream",
     "text": [
      "Downloaded page http://www.prathamopenschool.org/hn/Course/English/CRS36 title:Course\n",
      "     lesson: LES414: अंग्रेजी ओके 1\n",
      "     lesson: LES426: अंग्रेजी ओके 2\n",
      "     lesson: LES427: अंग्रेजी ओके 3\n",
      "     lesson: LES428: अंग्रेजी ओके 4\n",
      "     lesson: LES429: अंग्रेजी ओके 5\n",
      "     lesson: LES430: अंग्रेजी ओके 6\n",
      "     lesson: LES431: अंग्रेजी ओके 8\n",
      "     lesson: LES432: अंग्रेजी ओके 9\n",
      "     lesson: LES433: अंग्रेजी ओके 10\n",
      "     lesson: LES434: अंग्रेजी ओके 11\n",
      "     lesson: LES435: अंग्रेजी ओके 12\n",
      "     lesson: LES436: अंग्रेजी ओके 13\n"
     ]
    },
    {
     "name": "stdout",
     "output_type": "stream",
     "text": [
      "     in on_subtopic_page http://www.prathamopenschool.org/hn/Course/English/CRS36\n"
     ]
    },
    {
     "name": "stderr",
     "output_type": "stream",
     "text": [
      "Downloaded page http://www.prathamopenschool.org/hn/Course/Health/CRS28 title:Course\n",
      "     lesson: LES301: क्या है भोजन और हैं क्या इसके काम?\n",
      "     lesson: LES302: कौन सा भोजन देता है हमे बल?\n",
      "     lesson: LES303: कौन सा भोजन करता है बढ़त में मदद?\n",
      "     lesson: LES304: कौन सा भोजन करता है हमारा बचाव?\n",
      "     lesson: LES305: संतुलित आहार है क्या?\n",
      "     lesson: LES306: हमारे शरीर में भोजन करता है कैसे काम?\n",
      "     lesson: LES307: कैसे पायें विटामिन ए की कमी से छुटकारा?\n",
      "     lesson: LES308: कैसे पायें आयरन (लौह तत्व) की कमी से छुटकारा?\n",
      "     lesson: LES309: कैसे पायें आयोडीन की कमी से छुटकारा?\n",
      "     lesson: LES310: पौष्टिक भोजन\n"
     ]
    },
    {
     "name": "stdout",
     "output_type": "stream",
     "text": [
      "     in on_subtopic_page http://www.prathamopenschool.org/hn/Course/Health/CRS28\n"
     ]
    },
    {
     "name": "stderr",
     "output_type": "stream",
     "text": [
      "Downloaded page http://www.prathamopenschool.org/hn/Course/Science/CRS44 title:Course\n",
      "     lesson: LES225: शरीर में गति\n",
      "     lesson: LES618: रक्त परिसंचरण तंत्र\n"
     ]
    },
    {
     "name": "stdout",
     "output_type": "stream",
     "text": [
      "     in on_subtopic_page http://www.prathamopenschool.org/hn/Course/Science/CRS44\n"
     ]
    },
    {
     "name": "stderr",
     "output_type": "stream",
     "text": [
      "Downloaded page http://www.prathamopenschool.org/hn/Course/Science/CRS96 title:Course\n",
      "     lesson: LES600: सौरमंडल की पहचान\n",
      "     lesson: LES601: पृथ्वी का सफ़र\n"
     ]
    },
    {
     "name": "stdout",
     "output_type": "stream",
     "text": [
      "     in on_subtopic_page http://www.prathamopenschool.org/hn/Course/Science/CRS96\n"
     ]
    },
    {
     "name": "stderr",
     "output_type": "stream",
     "text": [
      "Downloaded page http://www.prathamopenschool.org/hn/Course/Science/CRS97 title:Course\n",
      "     lesson: LES602: ऊर्जा से पहचान\n",
      "     lesson: LES610: कार्य और ऊर्जा\n"
     ]
    },
    {
     "name": "stdout",
     "output_type": "stream",
     "text": [
      "     in on_subtopic_page http://www.prathamopenschool.org/hn/Course/Science/CRS97\n"
     ]
    },
    {
     "name": "stderr",
     "output_type": "stream",
     "text": [
      "Downloaded page http://www.prathamopenschool.org/hn/Course/Science/CRS83 title:Course\n",
      "     lesson: LES510: गति से पहचान\n",
      "     lesson: LES113: बोलो भाई!\n"
     ]
    },
    {
     "name": "stdout",
     "output_type": "stream",
     "text": [
      "     in on_subtopic_page http://www.prathamopenschool.org/hn/Course/Science/CRS83\n"
     ]
    },
    {
     "name": "stderr",
     "output_type": "stream",
     "text": [
      "Downloaded page http://www.prathamopenschool.org/hn/Course/Science/CRS46 title:Course\n",
      "     lesson: LES224: नापे कैसें ?\n"
     ]
    },
    {
     "name": "stdout",
     "output_type": "stream",
     "text": [
      "     in on_subtopic_page http://www.prathamopenschool.org/hn/Course/Science/CRS46\n"
     ]
    },
    {
     "name": "stderr",
     "output_type": "stream",
     "text": [
      "Downloaded page http://www.prathamopenschool.org/hn/Course/Science/CRS84 title:Course\n",
      "     lesson: LES511: अणु और परमाणु\n",
      "     lesson: LES110: भार और द्रव्यमान\n",
      "     lesson: LES111: पदार्थ की पहचान\n"
     ]
    },
    {
     "name": "stdout",
     "output_type": "stream",
     "text": [
      "     in on_subtopic_page http://www.prathamopenschool.org/hn/Course/Science/CRS84\n"
     ]
    },
    {
     "name": "stderr",
     "output_type": "stream",
     "text": [
      "Downloaded page http://www.prathamopenschool.org/hn/Course/Science/CRS92 title:Course\n",
      "     lesson: LES103: प्रकाश के गुण\n",
      "     lesson: LES109: रंगीन दुनिया\n",
      "     lesson: LES559: आविष्कारों का इतिहास\n"
     ]
    },
    {
     "name": "stdout",
     "output_type": "stream",
     "text": [
      "     in on_subtopic_page http://www.prathamopenschool.org/hn/Course/Science/CRS92\n"
     ]
    },
    {
     "name": "stderr",
     "output_type": "stream",
     "text": [
      "Downloaded page http://www.prathamopenschool.org/hn/Course/Hospitality/CRS86 title:Course\n",
      "     lesson: LES539: आतिथ्य उद्योग का परिचय\n",
      "     lesson: LES540: उद्योग के बारे में जानें\n",
      "     lesson: LES541: छात्रों से सुनो\n"
     ]
    },
    {
     "name": "stdout",
     "output_type": "stream",
     "text": [
      "     in on_subtopic_page http://www.prathamopenschool.org/hn/Course/Hospitality/CRS86\n"
     ]
    },
    {
     "name": "stderr",
     "output_type": "stream",
     "text": [
      "Downloaded page http://www.prathamopenschool.org/hn/Course/Hospitality/CRS87 title:Course\n",
      "     lesson: LES542: सिलेबस\n",
      "     lesson: LES543: विषय\n"
     ]
    },
    {
     "name": "stdout",
     "output_type": "stream",
     "text": [
      "     in on_subtopic_page http://www.prathamopenschool.org/hn/Course/Hospitality/CRS87\n"
     ]
    },
    {
     "name": "stderr",
     "output_type": "stream",
     "text": [
      "Downloaded page http://www.prathamopenschool.org/hn/Course/Hospitality/CRS88 title:Course\n",
      "     lesson: LES544: परिचय और सिलेबस\n",
      "     lesson: LES545: व्यंजनों और प्रैक्टिकल\n"
     ]
    },
    {
     "name": "stdout",
     "output_type": "stream",
     "text": [
      "     in on_subtopic_page http://www.prathamopenschool.org/hn/Course/Hospitality/CRS88\n"
     ]
    },
    {
     "name": "stderr",
     "output_type": "stream",
     "text": [
      "Downloaded page http://www.prathamopenschool.org/hn/Course/Hospitality/CRS89 title:Course\n",
      "     lesson: LES546: सिलेबस\n",
      "     lesson: LES547: प्रत्यक्ष-कार्य\n"
     ]
    },
    {
     "name": "stdout",
     "output_type": "stream",
     "text": [
      "     in on_subtopic_page http://www.prathamopenschool.org/hn/Course/Hospitality/CRS89\n"
     ]
    },
    {
     "name": "stderr",
     "output_type": "stream",
     "text": [
      "Downloaded page http://www.prathamopenschool.org/hn/Course/Construction/CRS93 title:Course\n",
      "     lesson: LES553: निर्माण उद्योग के बारे में जानें\n"
     ]
    },
    {
     "name": "stdout",
     "output_type": "stream",
     "text": [
      "     in on_subtopic_page http://www.prathamopenschool.org/hn/Course/Construction/CRS93\n"
     ]
    },
    {
     "name": "stderr",
     "output_type": "stream",
     "text": [
      "Downloaded page http://www.prathamopenschool.org/hn/Course/Automobile/CRS94 title:Course\n",
      "     lesson: LES554: ऑटोमोबाइल उद्योग के बारे में जानें\n",
      "     lesson: LES555: मोटर मेकैनिक\n"
     ]
    },
    {
     "name": "stdout",
     "output_type": "stream",
     "text": [
      "     in on_subtopic_page http://www.prathamopenschool.org/hn/Course/Automobile/CRS94\n"
     ]
    },
    {
     "name": "stderr",
     "output_type": "stream",
     "text": [
      "Downloaded page http://www.prathamopenschool.org/hn/Course/Electric/CRS90 title:Course\n",
      "     lesson: LES548: विद्युत उद्योग के बारे में जानें\n",
      "     lesson: LES549: विद्युत केंद्र की कहानियां\n"
     ]
    },
    {
     "name": "stdout",
     "output_type": "stream",
     "text": [
      "     in on_subtopic_page http://www.prathamopenschool.org/hn/Course/Electric/CRS90\n"
     ]
    },
    {
     "name": "stderr",
     "output_type": "stream",
     "text": [
      "Downloaded page http://www.prathamopenschool.org/hn/Course/Beauty/CRS95 title:Course\n",
      "     lesson: LES556: बेडसाइड सहायक उद्योग के बारे में जानें\n",
      "     lesson: LES557: प्रत्यक्ष-कार्य\n"
     ]
    },
    {
     "name": "stdout",
     "output_type": "stream",
     "text": [
      "     in on_subtopic_page http://www.prathamopenschool.org/hn/Course/Beauty/CRS95\n"
     ]
    },
    {
     "name": "stderr",
     "output_type": "stream",
     "text": [
      "Downloaded page http://www.prathamopenschool.org/hn/Course/Healthcare/CRS91 title:Course\n",
      "     lesson: LES550: परिचय\n",
      "     lesson: LES551: प्रत्यक्ष-कार्य\n",
      "     lesson: LES552: बेडसाइड असिस्टेंट के कहानियां\n"
     ]
    },
    {
     "name": "stdout",
     "output_type": "stream",
     "text": [
      "     in on_subtopic_page http://www.prathamopenschool.org/hn/Course/Healthcare/CRS91\n"
     ]
    },
    {
     "name": "stderr",
     "output_type": "stream",
     "text": [
      "Downloaded page http://www.prathamopenschool.org/hn/Course/Std8/CRS79 title:Course\n",
      "     lesson: LES527: धातु और दुनिया\n",
      "     lesson: LES528: ईंधन कैसे बनते है ?\n",
      "     lesson: LES529: दुनिया को बचाए!\n",
      "     lesson: LES530: छोटी सी जिंदगी\n",
      "     lesson: LES531: प्रजनन का कमाल\n",
      "     lesson: LES532: हम कैसे बड़े हुए?\n",
      "     lesson: LES533: परिचय\n",
      "     lesson: LES534: चमकदार दुनिया\n",
      "     lesson: LES535: बिजली चमकी\n",
      "     lesson: LES536: पानी ही पानी\n"
     ]
    },
    {
     "name": "stdout",
     "output_type": "stream",
     "text": [
      "     in on_subtopic_page http://www.prathamopenschool.org/hn/Course/Std8/CRS79\n"
     ]
    },
    {
     "name": "stderr",
     "output_type": "stream",
     "text": [
      "Downloaded page http://www.prathamopenschool.org/hn/Course/Std8/CRS80 title:Course\n",
      "     lesson: LES517: वर्गो का कमाल\n",
      "     lesson: LES518: चलो घन संख्या निकाले\n",
      "     lesson: LES519: बीजगणित का जादू\n",
      "     lesson: LES520: क्षेत्रफल कैसे निकाले?\n",
      "     lesson: LES521: संख्याओ का खेल\n",
      "     lesson: LES522: अनुपात\n",
      "     lesson: LES523: बीजगणित - २\n",
      "     lesson: LES524: बीजगणित - ३\n",
      "     lesson: LES525: आलेख\n",
      "     lesson: LES526: संख्या का रहस्य\n"
     ]
    },
    {
     "name": "stdout",
     "output_type": "stream",
     "text": [
      "     in on_subtopic_page http://www.prathamopenschool.org/hn/Course/Std8/CRS80\n"
     ]
    },
    {
     "name": "stderr",
     "output_type": "stream",
     "text": [
      "Downloaded page http://www.prathamopenschool.org/hn/gamelist/CRS104/LES620 title:GameList\n"
     ]
    },
    {
     "name": "stdout",
     "output_type": "stream",
     "text": [
      "     in on_subtopic_page http://www.prathamopenschool.org/hn/gamelist/CRS104/LES620\n"
     ]
    },
    {
     "name": "stderr",
     "output_type": "stream",
     "text": [
      "Downloaded page http://www.prathamopenschool.org/hn/gamelist/CRS104/LES621 title:GameList\n"
     ]
    },
    {
     "name": "stdout",
     "output_type": "stream",
     "text": [
      "     in on_subtopic_page http://www.prathamopenschool.org/hn/gamelist/CRS104/LES621\n"
     ]
    },
    {
     "name": "stderr",
     "output_type": "stream",
     "text": [
      "Downloaded page http://www.prathamopenschool.org/hn/gamelist/CRS104/LES622 title:GameList\n"
     ]
    },
    {
     "name": "stdout",
     "output_type": "stream",
     "text": [
      "     in on_subtopic_page http://www.prathamopenschool.org/hn/gamelist/CRS104/LES622\n"
     ]
    },
    {
     "name": "stderr",
     "output_type": "stream",
     "text": [
      "Downloaded page http://www.prathamopenschool.org/hn/Lesson/LES55 title:POS-Lesson\n"
     ]
    },
    {
     "name": "stdout",
     "output_type": "stream",
     "text": [
      "      in on_lesson_page http://www.prathamopenschool.org/hn/Lesson/LES55\n"
     ]
    },
    {
     "name": "stderr",
     "output_type": "stream",
     "text": [
      "Downloaded page http://www.prathamopenschool.org/hn/Lesson/LES56 title:POS-Lesson\n"
     ]
    },
    {
     "name": "stdout",
     "output_type": "stream",
     "text": [
      "      in on_lesson_page http://www.prathamopenschool.org/hn/Lesson/LES56\n"
     ]
    },
    {
     "name": "stderr",
     "output_type": "stream",
     "text": [
      "Downloaded page http://www.prathamopenschool.org/hn/Lesson/LES57 title:POS-Lesson\n"
     ]
    },
    {
     "name": "stdout",
     "output_type": "stream",
     "text": [
      "      in on_lesson_page http://www.prathamopenschool.org/hn/Lesson/LES57\n"
     ]
    },
    {
     "name": "stderr",
     "output_type": "stream",
     "text": [
      "Downloaded page http://www.prathamopenschool.org/hn/Lesson/LES58 title:POS-Lesson\n"
     ]
    },
    {
     "name": "stdout",
     "output_type": "stream",
     "text": [
      "      in on_lesson_page http://www.prathamopenschool.org/hn/Lesson/LES58\n"
     ]
    },
    {
     "name": "stderr",
     "output_type": "stream",
     "text": [
      "Downloaded page http://www.prathamopenschool.org/hn/Lesson/LES74 title:POS-Lesson\n"
     ]
    },
    {
     "name": "stdout",
     "output_type": "stream",
     "text": [
      "      in on_lesson_page http://www.prathamopenschool.org/hn/Lesson/LES74\n"
     ]
    },
    {
     "name": "stderr",
     "output_type": "stream",
     "text": [
      "Downloaded page http://www.prathamopenschool.org/hn/Lesson/LES76 title:POS-Lesson\n"
     ]
    },
    {
     "name": "stdout",
     "output_type": "stream",
     "text": [
      "      in on_lesson_page http://www.prathamopenschool.org/hn/Lesson/LES76\n"
     ]
    },
    {
     "name": "stderr",
     "output_type": "stream",
     "text": [
      "Downloaded page http://www.prathamopenschool.org/hn/Lesson/LES603 title:POS-Lesson\n"
     ]
    },
    {
     "name": "stdout",
     "output_type": "stream",
     "text": [
      "      in on_lesson_page http://www.prathamopenschool.org/hn/Lesson/LES603\n"
     ]
    },
    {
     "name": "stderr",
     "output_type": "stream",
     "text": [
      "Downloaded page http://www.prathamopenschool.org/hn/Lesson/LES604 title:POS-Lesson\n"
     ]
    },
    {
     "name": "stdout",
     "output_type": "stream",
     "text": [
      "      in on_lesson_page http://www.prathamopenschool.org/hn/Lesson/LES604\n"
     ]
    },
    {
     "name": "stderr",
     "output_type": "stream",
     "text": [
      "Downloaded page http://www.prathamopenschool.org/hn/Lesson/LES86 title:POS-Lesson\n"
     ]
    },
    {
     "name": "stdout",
     "output_type": "stream",
     "text": [
      "      in on_lesson_page http://www.prathamopenschool.org/hn/Lesson/LES86\n"
     ]
    },
    {
     "name": "stderr",
     "output_type": "stream",
     "text": [
      "Downloaded page http://www.prathamopenschool.org/hn/Lesson/LES87 title:POS-Lesson\n"
     ]
    },
    {
     "name": "stdout",
     "output_type": "stream",
     "text": [
      "      in on_lesson_page http://www.prathamopenschool.org/hn/Lesson/LES87\n"
     ]
    },
    {
     "name": "stderr",
     "output_type": "stream",
     "text": [
      "Downloaded page http://www.prathamopenschool.org/hn/Lesson/LES88 title:POS-Lesson\n"
     ]
    },
    {
     "name": "stdout",
     "output_type": "stream",
     "text": [
      "      in on_lesson_page http://www.prathamopenschool.org/hn/Lesson/LES88\n"
     ]
    },
    {
     "name": "stderr",
     "output_type": "stream",
     "text": [
      "Downloaded page http://www.prathamopenschool.org/hn/Lesson/LES89 title:POS-Lesson\n"
     ]
    },
    {
     "name": "stdout",
     "output_type": "stream",
     "text": [
      "      in on_lesson_page http://www.prathamopenschool.org/hn/Lesson/LES89\n"
     ]
    },
    {
     "name": "stderr",
     "output_type": "stream",
     "text": [
      "Downloaded page http://www.prathamopenschool.org/hn/Lesson/LES90 title:POS-Lesson\n"
     ]
    },
    {
     "name": "stdout",
     "output_type": "stream",
     "text": [
      "      in on_lesson_page http://www.prathamopenschool.org/hn/Lesson/LES90\n"
     ]
    },
    {
     "name": "stderr",
     "output_type": "stream",
     "text": [
      "Downloaded page http://www.prathamopenschool.org/hn/Lesson/LES537 title:POS-Lesson\n"
     ]
    },
    {
     "name": "stdout",
     "output_type": "stream",
     "text": [
      "      in on_lesson_page http://www.prathamopenschool.org/hn/Lesson/LES537\n"
     ]
    },
    {
     "name": "stderr",
     "output_type": "stream",
     "text": [
      "Downloaded page http://www.prathamopenschool.org/hn/Lesson/LES509 title:POS-Lesson\n"
     ]
    },
    {
     "name": "stdout",
     "output_type": "stream",
     "text": [
      "      in on_lesson_page http://www.prathamopenschool.org/hn/Lesson/LES509\n"
     ]
    },
    {
     "name": "stderr",
     "output_type": "stream",
     "text": [
      "Downloaded page http://www.prathamopenschool.org/hn/Lesson/LES513 title:POS-Lesson\n"
     ]
    },
    {
     "name": "stdout",
     "output_type": "stream",
     "text": [
      "      in on_lesson_page http://www.prathamopenschool.org/hn/Lesson/LES513\n"
     ]
    },
    {
     "name": "stderr",
     "output_type": "stream",
     "text": [
      "Downloaded page http://www.prathamopenschool.org/hn/Lesson/LES514 title:POS-Lesson\n"
     ]
    },
    {
     "name": "stdout",
     "output_type": "stream",
     "text": [
      "      in on_lesson_page http://www.prathamopenschool.org/hn/Lesson/LES514\n"
     ]
    },
    {
     "name": "stderr",
     "output_type": "stream",
     "text": [
      "Downloaded page http://www.prathamopenschool.org/hn/Lesson/LES515 title:POS-Lesson\n"
     ]
    },
    {
     "name": "stdout",
     "output_type": "stream",
     "text": [
      "      in on_lesson_page http://www.prathamopenschool.org/hn/Lesson/LES515\n"
     ]
    },
    {
     "name": "stderr",
     "output_type": "stream",
     "text": [
      "Downloaded page http://www.prathamopenschool.org/hn/Lesson/LES112 title:POS-Lesson\n"
     ]
    },
    {
     "name": "stdout",
     "output_type": "stream",
     "text": [
      "      in on_lesson_page http://www.prathamopenschool.org/hn/Lesson/LES112\n"
     ]
    },
    {
     "name": "stderr",
     "output_type": "stream",
     "text": [
      "Downloaded page http://www.prathamopenschool.org/hn/Lesson/LES107 title:POS-Lesson\n"
     ]
    },
    {
     "name": "stdout",
     "output_type": "stream",
     "text": [
      "      in on_lesson_page http://www.prathamopenschool.org/hn/Lesson/LES107\n"
     ]
    },
    {
     "name": "stderr",
     "output_type": "stream",
     "text": [
      "Downloaded page http://www.prathamopenschool.org/hn/Lesson/LES75 title:POS-Lesson\n"
     ]
    },
    {
     "name": "stdout",
     "output_type": "stream",
     "text": [
      "      in on_lesson_page http://www.prathamopenschool.org/hn/Lesson/LES75\n"
     ]
    },
    {
     "name": "stderr",
     "output_type": "stream",
     "text": [
      "Downloaded page http://www.prathamopenschool.org/hn/Lesson/LES85 title:POS-Lesson\n"
     ]
    },
    {
     "name": "stdout",
     "output_type": "stream",
     "text": [
      "      in on_lesson_page http://www.prathamopenschool.org/hn/Lesson/LES85\n"
     ]
    },
    {
     "name": "stderr",
     "output_type": "stream",
     "text": [
      "Downloaded page http://www.prathamopenschool.org/hn/Lesson/LES100 title:POS-Lesson\n"
     ]
    },
    {
     "name": "stdout",
     "output_type": "stream",
     "text": [
      "      in on_lesson_page http://www.prathamopenschool.org/hn/Lesson/LES100\n"
     ]
    },
    {
     "name": "stderr",
     "output_type": "stream",
     "text": [
      "Downloaded page http://www.prathamopenschool.org/hn/Lesson/LES101 title:POS-Lesson\n"
     ]
    },
    {
     "name": "stdout",
     "output_type": "stream",
     "text": [
      "      in on_lesson_page http://www.prathamopenschool.org/hn/Lesson/LES101\n"
     ]
    },
    {
     "name": "stderr",
     "output_type": "stream",
     "text": [
      "Downloaded page http://www.prathamopenschool.org/hn/Lesson/LES405 title:POS-Lesson\n"
     ]
    },
    {
     "name": "stdout",
     "output_type": "stream",
     "text": [
      "      in on_lesson_page http://www.prathamopenschool.org/hn/Lesson/LES405\n"
     ]
    },
    {
     "name": "stderr",
     "output_type": "stream",
     "text": [
      "Downloaded page http://www.prathamopenschool.org/hn/Lesson/LES406 title:POS-Lesson\n"
     ]
    },
    {
     "name": "stdout",
     "output_type": "stream",
     "text": [
      "      in on_lesson_page http://www.prathamopenschool.org/hn/Lesson/LES406\n"
     ]
    },
    {
     "name": "stderr",
     "output_type": "stream",
     "text": [
      "Downloaded page http://www.prathamopenschool.org/hn/Lesson/LES407 title:POS-Lesson\n"
     ]
    },
    {
     "name": "stdout",
     "output_type": "stream",
     "text": [
      "      in on_lesson_page http://www.prathamopenschool.org/hn/Lesson/LES407\n"
     ]
    },
    {
     "name": "stderr",
     "output_type": "stream",
     "text": [
      "Downloaded page http://www.prathamopenschool.org/hn/Lesson/LES408 title:POS-Lesson\n"
     ]
    },
    {
     "name": "stdout",
     "output_type": "stream",
     "text": [
      "      in on_lesson_page http://www.prathamopenschool.org/hn/Lesson/LES408\n"
     ]
    },
    {
     "name": "stderr",
     "output_type": "stream",
     "text": [
      "Downloaded page http://www.prathamopenschool.org/hn/Lesson/LES442 title:POS-Lesson\n"
     ]
    },
    {
     "name": "stdout",
     "output_type": "stream",
     "text": [
      "      in on_lesson_page http://www.prathamopenschool.org/hn/Lesson/LES442\n"
     ]
    },
    {
     "name": "stderr",
     "output_type": "stream",
     "text": [
      "Downloaded page http://www.prathamopenschool.org/hn/Lesson/LES444 title:POS-Lesson\n"
     ]
    },
    {
     "name": "stdout",
     "output_type": "stream",
     "text": [
      "      in on_lesson_page http://www.prathamopenschool.org/hn/Lesson/LES444\n"
     ]
    },
    {
     "name": "stderr",
     "output_type": "stream",
     "text": [
      "Downloaded page http://www.prathamopenschool.org/hn/Lesson/LES445 title:POS-Lesson\n"
     ]
    },
    {
     "name": "stdout",
     "output_type": "stream",
     "text": [
      "      in on_lesson_page http://www.prathamopenschool.org/hn/Lesson/LES445\n"
     ]
    },
    {
     "name": "stderr",
     "output_type": "stream",
     "text": [
      "Downloaded page http://www.prathamopenschool.org/hn/Lesson/LES446 title:POS-Lesson\n"
     ]
    },
    {
     "name": "stdout",
     "output_type": "stream",
     "text": [
      "      in on_lesson_page http://www.prathamopenschool.org/hn/Lesson/LES446\n"
     ]
    },
    {
     "name": "stderr",
     "output_type": "stream",
     "text": [
      "Downloaded page http://www.prathamopenschool.org/hn/Lesson/LES447 title:POS-Lesson\n"
     ]
    },
    {
     "name": "stdout",
     "output_type": "stream",
     "text": [
      "      in on_lesson_page http://www.prathamopenschool.org/hn/Lesson/LES447\n"
     ]
    },
    {
     "name": "stderr",
     "output_type": "stream",
     "text": [
      "Downloaded page http://www.prathamopenschool.org/hn/Lesson/LES612 title:POS-Lesson\n"
     ]
    },
    {
     "name": "stdout",
     "output_type": "stream",
     "text": [
      "      in on_lesson_page http://www.prathamopenschool.org/hn/Lesson/LES612\n"
     ]
    },
    {
     "name": "stderr",
     "output_type": "stream",
     "text": [
      "Downloaded page http://www.prathamopenschool.org/hn/Lesson/LES613 title:POS-Lesson\n"
     ]
    },
    {
     "name": "stdout",
     "output_type": "stream",
     "text": [
      "      in on_lesson_page http://www.prathamopenschool.org/hn/Lesson/LES613\n"
     ]
    },
    {
     "name": "stderr",
     "output_type": "stream",
     "text": [
      "Downloaded page http://www.prathamopenschool.org/hn/Lesson/LES614 title:POS-Lesson\n"
     ]
    },
    {
     "name": "stdout",
     "output_type": "stream",
     "text": [
      "      in on_lesson_page http://www.prathamopenschool.org/hn/Lesson/LES614\n"
     ]
    },
    {
     "name": "stderr",
     "output_type": "stream",
     "text": [
      "Downloaded page http://www.prathamopenschool.org/hn/Lesson/LES414 title:POS-Lesson\n"
     ]
    },
    {
     "name": "stdout",
     "output_type": "stream",
     "text": [
      "      in on_lesson_page http://www.prathamopenschool.org/hn/Lesson/LES414\n"
     ]
    },
    {
     "name": "stderr",
     "output_type": "stream",
     "text": [
      "Downloaded page http://www.prathamopenschool.org/hn/Lesson/LES426 title:POS-Lesson\n"
     ]
    },
    {
     "name": "stdout",
     "output_type": "stream",
     "text": [
      "      in on_lesson_page http://www.prathamopenschool.org/hn/Lesson/LES426\n"
     ]
    },
    {
     "name": "stderr",
     "output_type": "stream",
     "text": [
      "Downloaded page http://www.prathamopenschool.org/hn/Lesson/LES427 title:POS-Lesson\n"
     ]
    },
    {
     "name": "stdout",
     "output_type": "stream",
     "text": [
      "      in on_lesson_page http://www.prathamopenschool.org/hn/Lesson/LES427\n"
     ]
    },
    {
     "name": "stderr",
     "output_type": "stream",
     "text": [
      "Downloaded page http://www.prathamopenschool.org/hn/Lesson/LES428 title:POS-Lesson\n"
     ]
    },
    {
     "name": "stdout",
     "output_type": "stream",
     "text": [
      "      in on_lesson_page http://www.prathamopenschool.org/hn/Lesson/LES428\n"
     ]
    },
    {
     "name": "stderr",
     "output_type": "stream",
     "text": [
      "Downloaded page http://www.prathamopenschool.org/hn/Lesson/LES429 title:POS-Lesson\n"
     ]
    },
    {
     "name": "stdout",
     "output_type": "stream",
     "text": [
      "      in on_lesson_page http://www.prathamopenschool.org/hn/Lesson/LES429\n"
     ]
    },
    {
     "name": "stderr",
     "output_type": "stream",
     "text": [
      "Downloaded page http://www.prathamopenschool.org/hn/Lesson/LES430 title:POS-Lesson\n"
     ]
    },
    {
     "name": "stdout",
     "output_type": "stream",
     "text": [
      "      in on_lesson_page http://www.prathamopenschool.org/hn/Lesson/LES430\n"
     ]
    },
    {
     "name": "stderr",
     "output_type": "stream",
     "text": [
      "Downloaded page http://www.prathamopenschool.org/hn/Lesson/LES431 title:POS-Lesson\n"
     ]
    },
    {
     "name": "stdout",
     "output_type": "stream",
     "text": [
      "      in on_lesson_page http://www.prathamopenschool.org/hn/Lesson/LES431\n"
     ]
    },
    {
     "name": "stderr",
     "output_type": "stream",
     "text": [
      "Downloaded page http://www.prathamopenschool.org/hn/Lesson/LES432 title:POS-Lesson\n"
     ]
    },
    {
     "name": "stdout",
     "output_type": "stream",
     "text": [
      "      in on_lesson_page http://www.prathamopenschool.org/hn/Lesson/LES432\n"
     ]
    },
    {
     "name": "stderr",
     "output_type": "stream",
     "text": [
      "Downloaded page http://www.prathamopenschool.org/hn/Lesson/LES433 title:POS-Lesson\n"
     ]
    },
    {
     "name": "stdout",
     "output_type": "stream",
     "text": [
      "      in on_lesson_page http://www.prathamopenschool.org/hn/Lesson/LES433\n"
     ]
    },
    {
     "name": "stderr",
     "output_type": "stream",
     "text": [
      "Downloaded page http://www.prathamopenschool.org/hn/Lesson/LES434 title:POS-Lesson\n"
     ]
    },
    {
     "name": "stdout",
     "output_type": "stream",
     "text": [
      "      in on_lesson_page http://www.prathamopenschool.org/hn/Lesson/LES434\n"
     ]
    },
    {
     "name": "stderr",
     "output_type": "stream",
     "text": [
      "Downloaded page http://www.prathamopenschool.org/hn/Lesson/LES435 title:POS-Lesson\n"
     ]
    },
    {
     "name": "stdout",
     "output_type": "stream",
     "text": [
      "      in on_lesson_page http://www.prathamopenschool.org/hn/Lesson/LES435\n"
     ]
    },
    {
     "name": "stderr",
     "output_type": "stream",
     "text": [
      "Downloaded page http://www.prathamopenschool.org/hn/Lesson/LES436 title:POS-Lesson\n"
     ]
    },
    {
     "name": "stdout",
     "output_type": "stream",
     "text": [
      "      in on_lesson_page http://www.prathamopenschool.org/hn/Lesson/LES436\n"
     ]
    },
    {
     "name": "stderr",
     "output_type": "stream",
     "text": [
      "Downloaded page http://www.prathamopenschool.org/hn/Lesson/LES301 title:POS-Lesson\n"
     ]
    },
    {
     "name": "stdout",
     "output_type": "stream",
     "text": [
      "      in on_lesson_page http://www.prathamopenschool.org/hn/Lesson/LES301\n"
     ]
    },
    {
     "name": "stderr",
     "output_type": "stream",
     "text": [
      "Downloaded page http://www.prathamopenschool.org/hn/Lesson/LES302 title:POS-Lesson\n"
     ]
    },
    {
     "name": "stdout",
     "output_type": "stream",
     "text": [
      "      in on_lesson_page http://www.prathamopenschool.org/hn/Lesson/LES302\n"
     ]
    },
    {
     "name": "stderr",
     "output_type": "stream",
     "text": [
      "Downloaded page http://www.prathamopenschool.org/hn/Lesson/LES303 title:POS-Lesson\n"
     ]
    },
    {
     "name": "stdout",
     "output_type": "stream",
     "text": [
      "      in on_lesson_page http://www.prathamopenschool.org/hn/Lesson/LES303\n"
     ]
    },
    {
     "name": "stderr",
     "output_type": "stream",
     "text": [
      "Downloaded page http://www.prathamopenschool.org/hn/Lesson/LES304 title:POS-Lesson\n"
     ]
    },
    {
     "name": "stdout",
     "output_type": "stream",
     "text": [
      "      in on_lesson_page http://www.prathamopenschool.org/hn/Lesson/LES304\n"
     ]
    },
    {
     "name": "stderr",
     "output_type": "stream",
     "text": [
      "Downloaded page http://www.prathamopenschool.org/hn/Lesson/LES305 title:POS-Lesson\n"
     ]
    },
    {
     "name": "stdout",
     "output_type": "stream",
     "text": [
      "      in on_lesson_page http://www.prathamopenschool.org/hn/Lesson/LES305\n"
     ]
    },
    {
     "name": "stderr",
     "output_type": "stream",
     "text": [
      "Downloaded page http://www.prathamopenschool.org/hn/Lesson/LES306 title:POS-Lesson\n"
     ]
    },
    {
     "name": "stdout",
     "output_type": "stream",
     "text": [
      "      in on_lesson_page http://www.prathamopenschool.org/hn/Lesson/LES306\n"
     ]
    },
    {
     "name": "stderr",
     "output_type": "stream",
     "text": [
      "Downloaded page http://www.prathamopenschool.org/hn/Lesson/LES307 title:POS-Lesson\n"
     ]
    },
    {
     "name": "stdout",
     "output_type": "stream",
     "text": [
      "      in on_lesson_page http://www.prathamopenschool.org/hn/Lesson/LES307\n"
     ]
    },
    {
     "name": "stderr",
     "output_type": "stream",
     "text": [
      "Downloaded page http://www.prathamopenschool.org/hn/Lesson/LES308 title:POS-Lesson\n"
     ]
    },
    {
     "name": "stdout",
     "output_type": "stream",
     "text": [
      "      in on_lesson_page http://www.prathamopenschool.org/hn/Lesson/LES308\n"
     ]
    },
    {
     "name": "stderr",
     "output_type": "stream",
     "text": [
      "Downloaded page http://www.prathamopenschool.org/hn/Lesson/LES309 title:POS-Lesson\n"
     ]
    },
    {
     "name": "stdout",
     "output_type": "stream",
     "text": [
      "      in on_lesson_page http://www.prathamopenschool.org/hn/Lesson/LES309\n"
     ]
    },
    {
     "name": "stderr",
     "output_type": "stream",
     "text": [
      "Downloaded page http://www.prathamopenschool.org/hn/Lesson/LES310 title:POS-Lesson\n"
     ]
    },
    {
     "name": "stdout",
     "output_type": "stream",
     "text": [
      "      in on_lesson_page http://www.prathamopenschool.org/hn/Lesson/LES310\n"
     ]
    },
    {
     "name": "stderr",
     "output_type": "stream",
     "text": [
      "Downloaded page http://www.prathamopenschool.org/hn/Lesson/LES225 title:POS-Lesson\n"
     ]
    },
    {
     "name": "stdout",
     "output_type": "stream",
     "text": [
      "      in on_lesson_page http://www.prathamopenschool.org/hn/Lesson/LES225\n"
     ]
    },
    {
     "name": "stderr",
     "output_type": "stream",
     "text": [
      "Downloaded page http://www.prathamopenschool.org/hn/Lesson/LES618 title:POS-Lesson\n"
     ]
    },
    {
     "name": "stdout",
     "output_type": "stream",
     "text": [
      "      in on_lesson_page http://www.prathamopenschool.org/hn/Lesson/LES618\n"
     ]
    },
    {
     "name": "stderr",
     "output_type": "stream",
     "text": [
      "Downloaded page http://www.prathamopenschool.org/hn/Lesson/LES600 title:POS-Lesson\n"
     ]
    },
    {
     "name": "stdout",
     "output_type": "stream",
     "text": [
      "      in on_lesson_page http://www.prathamopenschool.org/hn/Lesson/LES600\n"
     ]
    },
    {
     "name": "stderr",
     "output_type": "stream",
     "text": [
      "Downloaded page http://www.prathamopenschool.org/hn/Lesson/LES601 title:POS-Lesson\n"
     ]
    },
    {
     "name": "stdout",
     "output_type": "stream",
     "text": [
      "      in on_lesson_page http://www.prathamopenschool.org/hn/Lesson/LES601\n"
     ]
    },
    {
     "name": "stderr",
     "output_type": "stream",
     "text": [
      "Downloaded page http://www.prathamopenschool.org/hn/Lesson/LES602 title:POS-Lesson\n"
     ]
    },
    {
     "name": "stdout",
     "output_type": "stream",
     "text": [
      "      in on_lesson_page http://www.prathamopenschool.org/hn/Lesson/LES602\n"
     ]
    },
    {
     "name": "stderr",
     "output_type": "stream",
     "text": [
      "Downloaded page http://www.prathamopenschool.org/hn/Lesson/LES610 title:POS-Lesson\n"
     ]
    },
    {
     "name": "stdout",
     "output_type": "stream",
     "text": [
      "      in on_lesson_page http://www.prathamopenschool.org/hn/Lesson/LES610\n"
     ]
    },
    {
     "name": "stderr",
     "output_type": "stream",
     "text": [
      "Downloaded page http://www.prathamopenschool.org/hn/Lesson/LES510 title:POS-Lesson\n"
     ]
    },
    {
     "name": "stdout",
     "output_type": "stream",
     "text": [
      "      in on_lesson_page http://www.prathamopenschool.org/hn/Lesson/LES510\n"
     ]
    },
    {
     "name": "stderr",
     "output_type": "stream",
     "text": [
      "Downloaded page http://www.prathamopenschool.org/hn/Lesson/LES113 title:POS-Lesson\n"
     ]
    },
    {
     "name": "stdout",
     "output_type": "stream",
     "text": [
      "      in on_lesson_page http://www.prathamopenschool.org/hn/Lesson/LES113\n"
     ]
    },
    {
     "name": "stderr",
     "output_type": "stream",
     "text": [
      "Downloaded page http://www.prathamopenschool.org/hn/Lesson/LES224 title:POS-Lesson\n"
     ]
    },
    {
     "name": "stdout",
     "output_type": "stream",
     "text": [
      "      in on_lesson_page http://www.prathamopenschool.org/hn/Lesson/LES224\n"
     ]
    },
    {
     "name": "stderr",
     "output_type": "stream",
     "text": [
      "Downloaded page http://www.prathamopenschool.org/hn/Lesson/LES511 title:POS-Lesson\n"
     ]
    },
    {
     "name": "stdout",
     "output_type": "stream",
     "text": [
      "      in on_lesson_page http://www.prathamopenschool.org/hn/Lesson/LES511\n"
     ]
    },
    {
     "name": "stderr",
     "output_type": "stream",
     "text": [
      "Downloaded page http://www.prathamopenschool.org/hn/Lesson/LES110 title:POS-Lesson\n"
     ]
    },
    {
     "name": "stdout",
     "output_type": "stream",
     "text": [
      "      in on_lesson_page http://www.prathamopenschool.org/hn/Lesson/LES110\n"
     ]
    },
    {
     "name": "stderr",
     "output_type": "stream",
     "text": [
      "Downloaded page http://www.prathamopenschool.org/hn/Lesson/LES111 title:POS-Lesson\n"
     ]
    },
    {
     "name": "stdout",
     "output_type": "stream",
     "text": [
      "      in on_lesson_page http://www.prathamopenschool.org/hn/Lesson/LES111\n"
     ]
    },
    {
     "name": "stderr",
     "output_type": "stream",
     "text": [
      "Downloaded page http://www.prathamopenschool.org/hn/Lesson/LES103 title:POS-Lesson\n"
     ]
    },
    {
     "name": "stdout",
     "output_type": "stream",
     "text": [
      "      in on_lesson_page http://www.prathamopenschool.org/hn/Lesson/LES103\n"
     ]
    },
    {
     "name": "stderr",
     "output_type": "stream",
     "text": [
      "Downloaded page http://www.prathamopenschool.org/hn/Lesson/LES109 title:POS-Lesson\n"
     ]
    },
    {
     "name": "stdout",
     "output_type": "stream",
     "text": [
      "      in on_lesson_page http://www.prathamopenschool.org/hn/Lesson/LES109\n"
     ]
    },
    {
     "name": "stderr",
     "output_type": "stream",
     "text": [
      "Downloaded page http://www.prathamopenschool.org/hn/Lesson/LES559 title:POS-Lesson\n"
     ]
    },
    {
     "name": "stdout",
     "output_type": "stream",
     "text": [
      "      in on_lesson_page http://www.prathamopenschool.org/hn/Lesson/LES559\n"
     ]
    },
    {
     "name": "stderr",
     "output_type": "stream",
     "text": [
      "Downloaded page http://www.prathamopenschool.org/hn/Lesson/LES539 title:POS-Lesson\n"
     ]
    },
    {
     "name": "stdout",
     "output_type": "stream",
     "text": [
      "      in on_lesson_page http://www.prathamopenschool.org/hn/Lesson/LES539\n"
     ]
    },
    {
     "name": "stderr",
     "output_type": "stream",
     "text": [
      "Downloaded page http://www.prathamopenschool.org/hn/Lesson/LES540 title:POS-Lesson\n"
     ]
    },
    {
     "name": "stdout",
     "output_type": "stream",
     "text": [
      "      in on_lesson_page http://www.prathamopenschool.org/hn/Lesson/LES540\n"
     ]
    },
    {
     "name": "stderr",
     "output_type": "stream",
     "text": [
      "Downloaded page http://www.prathamopenschool.org/hn/Lesson/LES541 title:POS-Lesson\n"
     ]
    },
    {
     "name": "stdout",
     "output_type": "stream",
     "text": [
      "      in on_lesson_page http://www.prathamopenschool.org/hn/Lesson/LES541\n"
     ]
    },
    {
     "name": "stderr",
     "output_type": "stream",
     "text": [
      "Downloaded page http://www.prathamopenschool.org/hn/Lesson/LES542 title:POS-Lesson\n"
     ]
    },
    {
     "name": "stdout",
     "output_type": "stream",
     "text": [
      "      in on_lesson_page http://www.prathamopenschool.org/hn/Lesson/LES542\n"
     ]
    },
    {
     "name": "stderr",
     "output_type": "stream",
     "text": [
      "Downloaded page http://www.prathamopenschool.org/hn/Lesson/LES543 title:POS-Lesson\n"
     ]
    },
    {
     "name": "stdout",
     "output_type": "stream",
     "text": [
      "      in on_lesson_page http://www.prathamopenschool.org/hn/Lesson/LES543\n"
     ]
    },
    {
     "name": "stderr",
     "output_type": "stream",
     "text": [
      "Downloaded page http://www.prathamopenschool.org/hn/Lesson/LES544 title:POS-Lesson\n"
     ]
    },
    {
     "name": "stdout",
     "output_type": "stream",
     "text": [
      "      in on_lesson_page http://www.prathamopenschool.org/hn/Lesson/LES544\n"
     ]
    },
    {
     "name": "stderr",
     "output_type": "stream",
     "text": [
      "Downloaded page http://www.prathamopenschool.org/hn/Lesson/LES545 title:POS-Lesson\n"
     ]
    },
    {
     "name": "stdout",
     "output_type": "stream",
     "text": [
      "      in on_lesson_page http://www.prathamopenschool.org/hn/Lesson/LES545\n"
     ]
    },
    {
     "name": "stderr",
     "output_type": "stream",
     "text": [
      "Downloaded page http://www.prathamopenschool.org/hn/Lesson/LES546 title:POS-Lesson\n"
     ]
    },
    {
     "name": "stdout",
     "output_type": "stream",
     "text": [
      "      in on_lesson_page http://www.prathamopenschool.org/hn/Lesson/LES546\n"
     ]
    },
    {
     "name": "stderr",
     "output_type": "stream",
     "text": [
      "Downloaded page http://www.prathamopenschool.org/hn/Lesson/LES547 title:POS-Lesson\n"
     ]
    },
    {
     "name": "stdout",
     "output_type": "stream",
     "text": [
      "      in on_lesson_page http://www.prathamopenschool.org/hn/Lesson/LES547\n"
     ]
    },
    {
     "name": "stderr",
     "output_type": "stream",
     "text": [
      "Downloaded page http://www.prathamopenschool.org/hn/Lesson/LES553 title:POS-Lesson\n"
     ]
    },
    {
     "name": "stdout",
     "output_type": "stream",
     "text": [
      "      in on_lesson_page http://www.prathamopenschool.org/hn/Lesson/LES553\n"
     ]
    },
    {
     "name": "stderr",
     "output_type": "stream",
     "text": [
      "Downloaded page http://www.prathamopenschool.org/hn/Lesson/LES554 title:POS-Lesson\n"
     ]
    },
    {
     "name": "stdout",
     "output_type": "stream",
     "text": [
      "      in on_lesson_page http://www.prathamopenschool.org/hn/Lesson/LES554\n"
     ]
    },
    {
     "name": "stderr",
     "output_type": "stream",
     "text": [
      "Downloaded page http://www.prathamopenschool.org/hn/Lesson/LES555 title:POS-Lesson\n"
     ]
    },
    {
     "name": "stdout",
     "output_type": "stream",
     "text": [
      "      in on_lesson_page http://www.prathamopenschool.org/hn/Lesson/LES555\n"
     ]
    },
    {
     "name": "stderr",
     "output_type": "stream",
     "text": [
      "Downloaded page http://www.prathamopenschool.org/hn/Lesson/LES548 title:POS-Lesson\n"
     ]
    },
    {
     "name": "stdout",
     "output_type": "stream",
     "text": [
      "      in on_lesson_page http://www.prathamopenschool.org/hn/Lesson/LES548\n"
     ]
    },
    {
     "name": "stderr",
     "output_type": "stream",
     "text": [
      "Downloaded page http://www.prathamopenschool.org/hn/Lesson/LES549 title:POS-Lesson\n"
     ]
    },
    {
     "name": "stdout",
     "output_type": "stream",
     "text": [
      "      in on_lesson_page http://www.prathamopenschool.org/hn/Lesson/LES549\n"
     ]
    },
    {
     "name": "stderr",
     "output_type": "stream",
     "text": [
      "Downloaded page http://www.prathamopenschool.org/hn/Lesson/LES556 title:POS-Lesson\n"
     ]
    },
    {
     "name": "stdout",
     "output_type": "stream",
     "text": [
      "      in on_lesson_page http://www.prathamopenschool.org/hn/Lesson/LES556\n"
     ]
    },
    {
     "name": "stderr",
     "output_type": "stream",
     "text": [
      "Downloaded page http://www.prathamopenschool.org/hn/Lesson/LES557 title:POS-Lesson\n"
     ]
    },
    {
     "name": "stdout",
     "output_type": "stream",
     "text": [
      "      in on_lesson_page http://www.prathamopenschool.org/hn/Lesson/LES557\n"
     ]
    },
    {
     "name": "stderr",
     "output_type": "stream",
     "text": [
      "Downloaded page http://www.prathamopenschool.org/hn/Lesson/LES550 title:POS-Lesson\n"
     ]
    },
    {
     "name": "stdout",
     "output_type": "stream",
     "text": [
      "      in on_lesson_page http://www.prathamopenschool.org/hn/Lesson/LES550\n"
     ]
    },
    {
     "name": "stderr",
     "output_type": "stream",
     "text": [
      "Downloaded page http://www.prathamopenschool.org/hn/Lesson/LES551 title:POS-Lesson\n"
     ]
    },
    {
     "name": "stdout",
     "output_type": "stream",
     "text": [
      "      in on_lesson_page http://www.prathamopenschool.org/hn/Lesson/LES551\n"
     ]
    },
    {
     "name": "stderr",
     "output_type": "stream",
     "text": [
      "Downloaded page http://www.prathamopenschool.org/hn/Lesson/LES552 title:POS-Lesson\n"
     ]
    },
    {
     "name": "stdout",
     "output_type": "stream",
     "text": [
      "      in on_lesson_page http://www.prathamopenschool.org/hn/Lesson/LES552\n"
     ]
    },
    {
     "name": "stderr",
     "output_type": "stream",
     "text": [
      "Downloaded page http://www.prathamopenschool.org/hn/Lesson/LES527 title:POS-Lesson\n"
     ]
    },
    {
     "name": "stdout",
     "output_type": "stream",
     "text": [
      "      in on_lesson_page http://www.prathamopenschool.org/hn/Lesson/LES527\n"
     ]
    },
    {
     "name": "stderr",
     "output_type": "stream",
     "text": [
      "Downloaded page http://www.prathamopenschool.org/hn/Lesson/LES528 title:POS-Lesson\n"
     ]
    },
    {
     "name": "stdout",
     "output_type": "stream",
     "text": [
      "      in on_lesson_page http://www.prathamopenschool.org/hn/Lesson/LES528\n"
     ]
    },
    {
     "name": "stderr",
     "output_type": "stream",
     "text": [
      "Downloaded page http://www.prathamopenschool.org/hn/Lesson/LES529 title:POS-Lesson\n"
     ]
    },
    {
     "name": "stdout",
     "output_type": "stream",
     "text": [
      "      in on_lesson_page http://www.prathamopenschool.org/hn/Lesson/LES529\n"
     ]
    },
    {
     "name": "stderr",
     "output_type": "stream",
     "text": [
      "Downloaded page http://www.prathamopenschool.org/hn/Lesson/LES530 title:POS-Lesson\n"
     ]
    },
    {
     "name": "stdout",
     "output_type": "stream",
     "text": [
      "      in on_lesson_page http://www.prathamopenschool.org/hn/Lesson/LES530\n"
     ]
    },
    {
     "name": "stderr",
     "output_type": "stream",
     "text": [
      "Downloaded page http://www.prathamopenschool.org/hn/Lesson/LES531 title:POS-Lesson\n"
     ]
    },
    {
     "name": "stdout",
     "output_type": "stream",
     "text": [
      "      in on_lesson_page http://www.prathamopenschool.org/hn/Lesson/LES531\n"
     ]
    },
    {
     "name": "stderr",
     "output_type": "stream",
     "text": [
      "Downloaded page http://www.prathamopenschool.org/hn/Lesson/LES532 title:POS-Lesson\n"
     ]
    },
    {
     "name": "stdout",
     "output_type": "stream",
     "text": [
      "      in on_lesson_page http://www.prathamopenschool.org/hn/Lesson/LES532\n"
     ]
    },
    {
     "name": "stderr",
     "output_type": "stream",
     "text": [
      "Downloaded page http://www.prathamopenschool.org/hn/Lesson/LES533 title:POS-Lesson\n"
     ]
    },
    {
     "name": "stdout",
     "output_type": "stream",
     "text": [
      "      in on_lesson_page http://www.prathamopenschool.org/hn/Lesson/LES533\n"
     ]
    },
    {
     "name": "stderr",
     "output_type": "stream",
     "text": [
      "Downloaded page http://www.prathamopenschool.org/hn/Lesson/LES534 title:POS-Lesson\n"
     ]
    },
    {
     "name": "stdout",
     "output_type": "stream",
     "text": [
      "      in on_lesson_page http://www.prathamopenschool.org/hn/Lesson/LES534\n"
     ]
    },
    {
     "name": "stderr",
     "output_type": "stream",
     "text": [
      "Downloaded page http://www.prathamopenschool.org/hn/Lesson/LES535 title:POS-Lesson\n"
     ]
    },
    {
     "name": "stdout",
     "output_type": "stream",
     "text": [
      "      in on_lesson_page http://www.prathamopenschool.org/hn/Lesson/LES535\n"
     ]
    },
    {
     "name": "stderr",
     "output_type": "stream",
     "text": [
      "Downloaded page http://www.prathamopenschool.org/hn/Lesson/LES536 title:POS-Lesson\n"
     ]
    },
    {
     "name": "stdout",
     "output_type": "stream",
     "text": [
      "      in on_lesson_page http://www.prathamopenschool.org/hn/Lesson/LES536\n"
     ]
    },
    {
     "name": "stderr",
     "output_type": "stream",
     "text": [
      "Downloaded page http://www.prathamopenschool.org/hn/Lesson/LES517 title:POS-Lesson\n"
     ]
    },
    {
     "name": "stdout",
     "output_type": "stream",
     "text": [
      "      in on_lesson_page http://www.prathamopenschool.org/hn/Lesson/LES517\n"
     ]
    },
    {
     "name": "stderr",
     "output_type": "stream",
     "text": [
      "Downloaded page http://www.prathamopenschool.org/hn/Lesson/LES518 title:POS-Lesson\n"
     ]
    },
    {
     "name": "stdout",
     "output_type": "stream",
     "text": [
      "      in on_lesson_page http://www.prathamopenschool.org/hn/Lesson/LES518\n"
     ]
    },
    {
     "name": "stderr",
     "output_type": "stream",
     "text": [
      "Downloaded page http://www.prathamopenschool.org/hn/Lesson/LES519 title:POS-Lesson\n"
     ]
    },
    {
     "name": "stdout",
     "output_type": "stream",
     "text": [
      "      in on_lesson_page http://www.prathamopenschool.org/hn/Lesson/LES519\n"
     ]
    },
    {
     "name": "stderr",
     "output_type": "stream",
     "text": [
      "Downloaded page http://www.prathamopenschool.org/hn/Lesson/LES520 title:POS-Lesson\n"
     ]
    },
    {
     "name": "stdout",
     "output_type": "stream",
     "text": [
      "      in on_lesson_page http://www.prathamopenschool.org/hn/Lesson/LES520\n"
     ]
    },
    {
     "name": "stderr",
     "output_type": "stream",
     "text": [
      "Downloaded page http://www.prathamopenschool.org/hn/Lesson/LES521 title:POS-Lesson\n"
     ]
    },
    {
     "name": "stdout",
     "output_type": "stream",
     "text": [
      "      in on_lesson_page http://www.prathamopenschool.org/hn/Lesson/LES521\n"
     ]
    },
    {
     "name": "stderr",
     "output_type": "stream",
     "text": [
      "Downloaded page http://www.prathamopenschool.org/hn/Lesson/LES522 title:POS-Lesson\n"
     ]
    },
    {
     "name": "stdout",
     "output_type": "stream",
     "text": [
      "      in on_lesson_page http://www.prathamopenschool.org/hn/Lesson/LES522\n"
     ]
    },
    {
     "name": "stderr",
     "output_type": "stream",
     "text": [
      "Downloaded page http://www.prathamopenschool.org/hn/Lesson/LES523 title:POS-Lesson\n"
     ]
    },
    {
     "name": "stdout",
     "output_type": "stream",
     "text": [
      "      in on_lesson_page http://www.prathamopenschool.org/hn/Lesson/LES523\n"
     ]
    },
    {
     "name": "stderr",
     "output_type": "stream",
     "text": [
      "Downloaded page http://www.prathamopenschool.org/hn/Lesson/LES524 title:POS-Lesson\n"
     ]
    },
    {
     "name": "stdout",
     "output_type": "stream",
     "text": [
      "      in on_lesson_page http://www.prathamopenschool.org/hn/Lesson/LES524\n"
     ]
    },
    {
     "name": "stderr",
     "output_type": "stream",
     "text": [
      "Downloaded page http://www.prathamopenschool.org/hn/Lesson/LES525 title:POS-Lesson\n"
     ]
    },
    {
     "name": "stdout",
     "output_type": "stream",
     "text": [
      "      in on_lesson_page http://www.prathamopenschool.org/hn/Lesson/LES525\n"
     ]
    },
    {
     "name": "stderr",
     "output_type": "stream",
     "text": [
      "Downloaded page http://www.prathamopenschool.org/hn/Lesson/LES526 title:POS-Lesson\n"
     ]
    },
    {
     "name": "stdout",
     "output_type": "stream",
     "text": [
      "      in on_lesson_page http://www.prathamopenschool.org/hn/Lesson/LES526\n",
      "\n",
      "\n",
      "\n",
      "\n",
      "################################################################################\n",
      "# CRAWLER RECOMMENDATIONS BASED ON URLS ENCOUNTERED:\n",
      "################################################################################\n",
      "\n",
      "1. These URLs are very common and look like global navigation links:\n",
      "\n",
      "2. These are common path fragments found in URLs paths, so could correspond to site struture:\n",
      "  -  148 urls on site start with  /hn\n",
      "\n",
      "\n",
      "################################################################################\n",
      "\n",
      "\n",
      "\n"
     ]
    }
   ],
   "source": [
    "web_resource_tree = crawler.crawl()"
   ]
  },
  {
   "cell_type": "code",
   "execution_count": 4,
   "metadata": {
    "scrolled": true
   },
   "outputs": [],
   "source": [
    "# web_resource_tree"
   ]
  },
  {
   "cell_type": "code",
   "execution_count": 3,
   "metadata": {
    "scrolled": false
   },
   "outputs": [
    {
     "name": "stdout",
     "output_type": "stream",
     "text": [
      "     - path: /hn/  (lang_page) \n",
      "       children:\n",
      "        - path: /hn/Course/Mathematics  (topic_page) \n",
      "          children:\n",
      "           - path: /hn/Course/Mathematics/CRS17  (subtopic_page) \n",
      "             children:\n",
      "              - path: /hn/Lesson/LES55  (lesson_page) \n",
      "              - path: /hn/Lesson/LES56  (lesson_page) \n",
      "              - path: /hn/Lesson/LES57  (lesson_page) \n",
      "              - path: /hn/Lesson/LES58  (lesson_page) \n",
      "              - path: /hn/Lesson/LES74  (lesson_page) \n",
      "              - path: /hn/Lesson/LES76  (lesson_page) \n",
      "           - path: /hn/Course/Mathematics/CRS98  (subtopic_page) \n",
      "             children:\n",
      "              - path: /hn/Lesson/LES603  (lesson_page) \n",
      "           - path: /hn/Course/Mathematics/CRS99  (subtopic_page) \n",
      "             children:\n",
      "              - path: /hn/Lesson/LES604  (lesson_page) \n",
      "           - path: /hn/Course/Mathematics/CRS27  (subtopic_page) \n",
      "             children:\n",
      "              - path: /hn/Lesson/LES86  (lesson_page) \n",
      "              - path: /hn/Lesson/LES87  (lesson_page) \n",
      "              - path: /hn/Lesson/LES88  (lesson_page) \n",
      "              - path: /hn/Lesson/LES89  (lesson_page) \n",
      "              - path: /hn/Lesson/LES90  (lesson_page) \n",
      "              - path: /hn/Lesson/LES537  (lesson_page) \n",
      "           - path: /hn/Course/Mathematics/CRS82  (subtopic_page) \n",
      "             children:\n",
      "              - path: /hn/Lesson/LES509  (lesson_page) \n",
      "              - path: /hn/Lesson/LES513  (lesson_page) \n",
      "              - path: /hn/Lesson/LES514  (lesson_page) \n",
      "              - path: /hn/Lesson/LES515  (lesson_page) \n",
      "              - path: /hn/Lesson/LES112  (lesson_page) \n",
      "           - path: /hn/Course/Mathematics/CRS41  (subtopic_page) \n",
      "             children:\n",
      "              - path: /hn/Lesson/LES107  (lesson_page) \n",
      "           - path: /hn/Course/Mathematics/CRS24  (subtopic_page) \n",
      "             children:\n",
      "              - path: /hn/Lesson/LES75  (lesson_page) \n",
      "           - path: /hn/Course/Mathematics/CRS21  (subtopic_page) \n",
      "             children:\n",
      "              - path: /hn/Lesson/LES85  (lesson_page) \n",
      "           - path: /hn/Course/Mathematics/CRS40  (subtopic_page) \n",
      "             children:\n",
      "              - path: /hn/Lesson/LES100  (lesson_page) \n",
      "              - path: /hn/Lesson/LES101  (lesson_page) \n",
      "        - path: /hn/Course/English  (topic_page) \n",
      "          children:\n",
      "           - path: /hn/Course/English/CRS34  (subtopic_page) \n",
      "             children:\n",
      "              - path: /hn/Lesson/LES405  (lesson_page) \n",
      "              - path: /hn/Lesson/LES406  (lesson_page) \n",
      "              - path: /hn/Lesson/LES407  (lesson_page) \n",
      "              - path: /hn/Lesson/LES408  (lesson_page) \n",
      "              - path: /hn/Lesson/LES442  (lesson_page) \n",
      "              - path: /hn/Lesson/LES444  (lesson_page) \n",
      "              - path: /hn/Lesson/LES445  (lesson_page) \n",
      "              - path: /hn/Lesson/LES446  (lesson_page) \n",
      "              - path: /hn/Lesson/LES447  (lesson_page) \n",
      "              - path: /hn/Lesson/LES612  (lesson_page) \n",
      "              - path: /hn/Lesson/LES613  (lesson_page) \n",
      "              - path: /hn/Lesson/LES614  (lesson_page) \n",
      "           - path: /hn/Course/English/CRS36  (subtopic_page) \n",
      "             children:\n",
      "              - path: /hn/Lesson/LES414  (lesson_page) \n",
      "              - path: /hn/Lesson/LES426  (lesson_page) \n",
      "              - path: /hn/Lesson/LES427  (lesson_page) \n",
      "              - path: /hn/Lesson/LES428  (lesson_page) \n",
      "              - path: /hn/Lesson/LES429  (lesson_page) \n",
      "              - path: /hn/Lesson/LES430  (lesson_page) \n",
      "              - path: /hn/Lesson/LES431  (lesson_page) \n",
      "              - path: /hn/Lesson/LES432  (lesson_page) \n",
      "              - path: /hn/Lesson/LES433  (lesson_page) \n",
      "              - path: /hn/Lesson/LES434  (lesson_page) \n",
      "              - path: /hn/Lesson/LES435  (lesson_page) \n",
      "              - path: /hn/Lesson/LES436  (lesson_page) \n",
      "        - path: /hn/Course/Health  (topic_page) \n",
      "          children:\n",
      "           - path: /hn/Course/Health/CRS28  (subtopic_page) \n",
      "             children:\n",
      "              - path: /hn/Lesson/LES301  (lesson_page) \n",
      "              - path: /hn/Lesson/LES302  (lesson_page) \n",
      "              - path: /hn/Lesson/LES303  (lesson_page) \n",
      "              - path: /hn/Lesson/LES304  (lesson_page) \n",
      "              - path: /hn/Lesson/LES305  (lesson_page) \n",
      "              - path: /hn/Lesson/LES306  (lesson_page) \n",
      "              - path: /hn/Lesson/LES307  (lesson_page) \n",
      "              - path: /hn/Lesson/LES308  (lesson_page) \n",
      "              - path: /hn/Lesson/LES309  (lesson_page) \n",
      "              - path: /hn/Lesson/LES310  (lesson_page) \n",
      "        - path: /hn/Course/Science  (topic_page) \n",
      "          children:\n",
      "           - path: /hn/Course/Science/CRS44  (subtopic_page) \n",
      "             children:\n",
      "              - path: /hn/Lesson/LES225  (lesson_page) \n",
      "              - path: /hn/Lesson/LES618  (lesson_page) \n",
      "           - path: /hn/Course/Science/CRS96  (subtopic_page) \n",
      "             children:\n",
      "              - path: /hn/Lesson/LES600  (lesson_page) \n",
      "              - path: /hn/Lesson/LES601  (lesson_page) \n",
      "           - path: /hn/Course/Science/CRS97  (subtopic_page) \n",
      "             children:\n",
      "              - path: /hn/Lesson/LES602  (lesson_page) \n",
      "              - path: /hn/Lesson/LES610  (lesson_page) \n",
      "           - path: /hn/Course/Science/CRS83  (subtopic_page) \n",
      "             children:\n",
      "              - path: /hn/Lesson/LES510  (lesson_page) \n",
      "              - path: /hn/Lesson/LES113  (lesson_page) \n",
      "           - path: /hn/Course/Science/CRS46  (subtopic_page) \n",
      "             children:\n",
      "              - path: /hn/Lesson/LES224  (lesson_page) \n",
      "           - path: /hn/Course/Science/CRS84  (subtopic_page) \n",
      "             children:\n",
      "              - path: /hn/Lesson/LES511  (lesson_page) \n",
      "              - path: /hn/Lesson/LES110  (lesson_page) \n",
      "              - path: /hn/Lesson/LES111  (lesson_page) \n",
      "           - path: /hn/Course/Science/CRS92  (subtopic_page) \n",
      "             children:\n",
      "              - path: /hn/Lesson/LES103  (lesson_page) \n",
      "              - path: /hn/Lesson/LES109  (lesson_page) \n",
      "              - path: /hn/Lesson/LES559  (lesson_page) \n",
      "        - path: /hn/Course/Hospitality  (topic_page) \n",
      "          children:\n",
      "           - path: /hn/Course/Hospitality/CRS86  (subtopic_page) \n",
      "             children:\n",
      "              - path: /hn/Lesson/LES539  (lesson_page) \n",
      "              - path: /hn/Lesson/LES540  (lesson_page) \n",
      "              - path: /hn/Lesson/LES541  (lesson_page) \n",
      "           - path: /hn/Course/Hospitality/CRS87  (subtopic_page) \n",
      "             children:\n",
      "              - path: /hn/Lesson/LES542  (lesson_page) \n",
      "              - path: /hn/Lesson/LES543  (lesson_page) \n",
      "           - path: /hn/Course/Hospitality/CRS88  (subtopic_page) \n",
      "             children:\n",
      "              - path: /hn/Lesson/LES544  (lesson_page) \n",
      "              - path: /hn/Lesson/LES545  (lesson_page) \n",
      "           - path: /hn/Course/Hospitality/CRS89  (subtopic_page) \n",
      "             children:\n",
      "              - path: /hn/Lesson/LES546  (lesson_page) \n",
      "              - path: /hn/Lesson/LES547  (lesson_page) \n",
      "        - path: /hn/Course/Construction  (topic_page) \n",
      "          children:\n",
      "           - path: /hn/Course/Construction/CRS93  (subtopic_page) \n",
      "             children:\n",
      "              - path: /hn/Lesson/LES553  (lesson_page) \n",
      "        - path: /hn/Course/Automobile  (topic_page) \n",
      "          children:\n",
      "           - path: /hn/Course/Automobile/CRS94  (subtopic_page) \n",
      "             children:\n",
      "              - path: /hn/Lesson/LES554  (lesson_page) \n",
      "              - path: /hn/Lesson/LES555  (lesson_page) \n",
      "        - path: /hn/Course/Electric  (topic_page) \n",
      "          children:\n",
      "           - path: /hn/Course/Electric/CRS90  (subtopic_page) \n",
      "             children:\n",
      "              - path: /hn/Lesson/LES548  (lesson_page) \n",
      "              - path: /hn/Lesson/LES549  (lesson_page) \n",
      "        - path: /hn/Course/Beauty  (topic_page) \n",
      "          children:\n",
      "           - path: /hn/Course/Beauty/CRS95  (subtopic_page) \n",
      "             children:\n",
      "              - path: /hn/Lesson/LES556  (lesson_page) \n",
      "              - path: /hn/Lesson/LES557  (lesson_page) \n",
      "        - path: /hn/Course/Healthcare  (topic_page) \n",
      "          children:\n",
      "           - path: /hn/Course/Healthcare/CRS91  (subtopic_page) \n",
      "             children:\n",
      "              - path: /hn/Lesson/LES550  (lesson_page) \n",
      "              - path: /hn/Lesson/LES551  (lesson_page) \n",
      "              - path: /hn/Lesson/LES552  (lesson_page) \n",
      "        - path: /hn/Course/Std8  (topic_page) \n",
      "          children:\n",
      "           - path: /hn/Course/Std8/CRS79  (subtopic_page) \n",
      "             children:\n",
      "              - path: /hn/Lesson/LES527  (lesson_page) \n",
      "              - path: /hn/Lesson/LES528  (lesson_page) \n",
      "              - path: /hn/Lesson/LES529  (lesson_page) \n",
      "              - path: /hn/Lesson/LES530  (lesson_page) \n",
      "              - path: /hn/Lesson/LES531  (lesson_page) \n",
      "              - path: /hn/Lesson/LES532  (lesson_page) \n",
      "              - path: /hn/Lesson/LES533  (lesson_page) \n",
      "              - path: /hn/Lesson/LES534  (lesson_page) \n",
      "              - path: /hn/Lesson/LES535  (lesson_page) \n",
      "              - path: /hn/Lesson/LES536  (lesson_page) \n",
      "           - path: /hn/Course/Std8/CRS80  (subtopic_page) \n",
      "             children:\n",
      "              - path: /hn/Lesson/LES517  (lesson_page) \n",
      "              - path: /hn/Lesson/LES518  (lesson_page) \n",
      "              - path: /hn/Lesson/LES519  (lesson_page) \n",
      "              - path: /hn/Lesson/LES520  (lesson_page) \n",
      "              - path: /hn/Lesson/LES521  (lesson_page) \n",
      "              - path: /hn/Lesson/LES522  (lesson_page) \n",
      "              - path: /hn/Lesson/LES523  (lesson_page) \n",
      "              - path: /hn/Lesson/LES524  (lesson_page) \n",
      "              - path: /hn/Lesson/LES525  (lesson_page) \n",
      "              - path: /hn/Lesson/LES526  (lesson_page) \n",
      "        - path: /hn/Fun  (games_page) \n",
      "        - path: /hn/Story  (games_page) \n",
      "        - path: /hn/gamelist/CRS104  (topic_page) \n",
      "          children:\n",
      "           - path: /hn/gamelist/CRS104/LES620  (subtopic_page) \n",
      "           - path: /hn/gamelist/CRS104/LES621  (subtopic_page) \n",
      "           - path: /hn/gamelist/CRS104/LES622  (subtopic_page) \n"
     ]
    }
   ],
   "source": [
    "crawler.print_tree(web_resource_tree, print_depth=4)"
   ]
  },
  {
   "cell_type": "code",
   "execution_count": null,
   "metadata": {},
   "outputs": [],
   "source": []
  },
  {
   "cell_type": "code",
   "execution_count": null,
   "metadata": {},
   "outputs": [],
   "source": []
  },
  {
   "cell_type": "code",
   "execution_count": null,
   "metadata": {},
   "outputs": [],
   "source": []
  },
  {
   "cell_type": "code",
   "execution_count": null,
   "metadata": {},
   "outputs": [],
   "source": []
  },
  {
   "cell_type": "code",
   "execution_count": null,
   "metadata": {},
   "outputs": [],
   "source": []
  },
  {
   "cell_type": "code",
   "execution_count": null,
   "metadata": {},
   "outputs": [],
   "source": []
  },
  {
   "cell_type": "code",
   "execution_count": null,
   "metadata": {},
   "outputs": [],
   "source": []
  },
  {
   "cell_type": "code",
   "execution_count": null,
   "metadata": {},
   "outputs": [],
   "source": []
  },
  {
   "cell_type": "code",
   "execution_count": null,
   "metadata": {},
   "outputs": [],
   "source": []
  },
  {
   "cell_type": "code",
   "execution_count": null,
   "metadata": {},
   "outputs": [],
   "source": []
  }
 ],
 "metadata": {
  "kernelspec": {
   "display_name": "Python 3",
   "language": "python",
   "name": "python3"
  },
  "language_info": {
   "codemirror_mode": {
    "name": "ipython",
    "version": 3
   },
   "file_extension": ".py",
   "mimetype": "text/x-python",
   "name": "python",
   "nbconvert_exporter": "python",
   "pygments_lexer": "ipython3",
   "version": "3.6.4"
  }
 },
 "nbformat": 4,
 "nbformat_minor": 2
}
