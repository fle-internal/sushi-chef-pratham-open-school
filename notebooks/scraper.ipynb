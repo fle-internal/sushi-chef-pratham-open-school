{
 "cells": [
  {
   "cell_type": "markdown",
   "metadata": {},
   "source": [
    "# Testing PraDigiCrawler"
   ]
  },
  {
   "cell_type": "code",
   "execution_count": 1,
   "metadata": {
    "scrolled": false
   },
   "outputs": [],
   "source": [
    "from chef import PraDigiCrawler\n",
    "\n",
    "crawler = PraDigiCrawler(lang='hi')\n"
   ]
  },
  {
   "cell_type": "code",
   "execution_count": 2,
   "metadata": {
    "scrolled": false
   },
   "outputs": [
    {
     "name": "stderr",
     "output_type": "stream",
     "text": [
      "found topic: Mathematics: गणित\n",
      "found topic: English: अंग्रेजी\n",
      "found topic: Health: स्वास्थ्य\n",
      "found topic: Science: विज्ञान\n",
      "found topic: Hospitality: अतिथी सत्कार\n",
      "found topic: Construction: भवन-निर्माण\n",
      "found topic: Automobile: वाहन\n",
      "found topic: Electric: इलेक्ट्रिक\n",
      "found topic: Beauty: ब्युटी\n",
      "found topic: Healthcare: स्वास्थ्य सेवा\n",
      "found topic: Std8: 8 वी कक्षा\n",
      "found fun page: Fun: मौज\n",
      "found story page: Story: कहानियाँ\n",
      "found topic: CRS104: खेल\n"
     ]
    },
    {
     "name": "stdout",
     "output_type": "stream",
     "text": [
      "skipping <a class=\"dropdown-toggle\" data-toggle=\"dropdown\" href=\"#\" style=\"background: transparent;\">\r\n",
      "                                                कौशल <span class=\"caret\"></span>\n",
      "</a>\n"
     ]
    },
    {
     "name": "stderr",
     "output_type": "stream",
     "text": [
      "  found subtopic: CRS17: ज्यामिती से परिचय\n",
      "  found subtopic: CRS98: ब्याज\n",
      "  found subtopic: CRS99: वर्ग संख्याएँ\n",
      "  found subtopic: CRS27: गुणज और गुणनखंड\n",
      "  found subtopic: CRS82: अलग संख्याएँ\n",
      "  found subtopic: CRS41: मात्राएँ और संख्याएँ\n",
      "  found subtopic: CRS24: प्रतिशत\n",
      "  found subtopic: CRS21: बीजगणित से परिचय\n",
      "  found subtopic: CRS40: दशमलव\n",
      "  found subtopic: CRS34: अंग्रेजी बोलो\n",
      "  found subtopic: CRS36: अंग्रेजी ओके प्लीज\n",
      "  found subtopic: CRS28: आहार\n",
      "  found subtopic: CRS44: मानव शरीर\n",
      "  found subtopic: CRS96: सूर्य और पृथ्वी\n",
      "  found subtopic: CRS97: ऊर्जा\n",
      "  found subtopic: CRS83: हलचल\n",
      "  found subtopic: CRS46: नापना\n",
      "  found subtopic: CRS84: पदार्थ\n",
      "  found subtopic: CRS92: प्रकाश\n",
      "  found subtopic: CRS86: उद्योग का परिचय\n",
      "  found subtopic: CRS87: खाद्य और पेय पदार्थ\n",
      "  found subtopic: CRS88: खाद्य उत्पादन\n",
      "  found subtopic: CRS89: गृह व्यवस्था\n",
      "  found subtopic: CRS93: निर्माण\n",
      "  found subtopic: CRS94: ऑटोमोबाइल\n",
      "  found subtopic: CRS90: इलेक्ट्रीशियन\n",
      "  found subtopic: CRS95: ब्यूटिशियन\n",
      "  found subtopic: CRS91: बेडसाइड असिस्टंट\n",
      "  found subtopic: CRS79: विज्ञान\n",
      "  found subtopic: CRS80: गणित\n",
      "      content: hn/FunResource/310: अंतरिक्ष में द्रव्यमान और भार 2\n",
      "      content: hn/FunResource/1557: गीता और बबीता\n",
      "      content: hn/FunResource/1553: अनोखा द्वार\n",
      "      content: hn/FunResource/701: वाक्य बनाओ स्वयं\n"
     ]
    },
    {
     "name": "stdout",
     "output_type": "stream",
     "text": [
      "     in on_fun_page http://www.prathamopenschool.org/hn/Fun\n"
     ]
    },
    {
     "name": "stderr",
     "output_type": "stream",
     "text": [
      "      content: hn/FunResource/1119: पलट!\n",
      "      content: hn/FunResource/889: रंगीन भिन्ने\n",
      "      content: hn/FunResource/875: लाइन ही लाइन!\n",
      "      content: hn/FunResource/879: कितने बजे\n",
      "      content: hn/FunResource/100: पीछे मुड़कर - रौशनी का इतिहास\n",
      "Fun resource not supported: http://www.prathamopenschool.org/hn/FunResource/100, http://www.prathamopenschool.org/CourseContent/Simms/timeglider_light_hn/light_history.html\n",
      "      content: hn/FunResource/880: कल - का - लूटर\n",
      "      content: hn/FunResource/1568: कैसे उड़ते हैं ?\n",
      "      content: hn/FunResource/372: मौत का कुआ\n",
      "      content: hn/FunResource/137: अतुल्य भारत\n",
      "      content: hn/FunResource/309: हवा में तैरता सैंडविच\n",
      "      content: hn/FunResource/313: अंतरिक्ष में द्रव्यमान बनाम भार\n",
      "      content: hn/FunResource/1547: कोरिओलिस इफेक्ट\n",
      "      content: hn/FunResource/135: अरे भाई, लाइन में!\n",
      "      content: hn/FunResource/314: हवाई द्रव्यमान\n",
      "      content: hn/FunResource/1169: शीशाबाज़ी\n",
      "      content: hn/FunResource/1607: अक्षर मात्रा - शब्द यात्रा\n",
      "      content: hn/FunResource/134: विश्वदर्शन\n",
      "      content: hn/FunResource/893: कंकाल की कलाबाज़ियाँ\n",
      "      content: hn/FunResource/854: विषम संख्याओं के खेल\n",
      "      content: hn/FunResource/312: अंतरिक्ष में द्रव्यमान त्वरित!\n",
      "      content: hn/FunResource/1548: सफर सहारा रेगिस्तान की रेत का\n",
      "      content: hn/FunResource/1552: कागज का पुल\n",
      "      content: hn/FunResource/894: कब्ज़ों वाला आदमी\n",
      "      content: hn/FunResource/1550: गाय से सीखो पंप का रहस्य\n",
      "      content: hn/FunResource/1551: सबसे महत्वपूर्ण काम\n",
      "      content: hn/FunResource/1120: डॉ. हड्डी\n",
      "      content: hn/FunResource/360: भारत की गोल्डन गर्ल्स\n",
      "      content: hn/FunResource/1569: कैसे तैरते हैं ?\n",
      "      content: hn/FunResource/856: परिपूर्ण संख्याएँ\n",
      "      content: hn/FunResource/63: लगाओ करंट - तार का प्रतिरोध\n",
      "Fun resource not supported: http://www.prathamopenschool.org/hn/FunResource/63, http://www.prathamopenschool.org/CourseContent/Simms/phet/index.html?id=resistance-in-a-wire-hn\n",
      "      content: hn/FunResource/895: कौनसी बाल्टी?\n",
      "      content: hn/FunResource/311: अंतरिक्ष में द्रव्यमान और भार 1\n",
      "      content: hn/FunResource/60: लगाओ करंट - ओह्म का नियम\n",
      "Fun resource not supported: http://www.prathamopenschool.org/hn/FunResource/60, http://www.prathamopenschool.org/CourseContent/Simms/phet/index.html?id=ohms-law-hn\n",
      "      content: hn/FunResource/1567: कैसे पीते हैं ?\n",
      "      content: hn/FunResource/94: बनाओ कोई परमाणु\n",
      "Fun resource not supported: http://www.prathamopenschool.org/hn/FunResource/94, http://www.prathamopenschool.org/CourseContent/Simms/phet/index.html?id=build-an-atom-hn\n",
      "      content: hn/FunResource/1549: पेरियॉडिक टेबल\n",
      "      content: hn/FunResource/1559: आगे पीछे\n",
      "      content: hn/FunResource/1409: दे दनादन!!!\n",
      "      content: hn/FunResource/375: स्ट्रॉ की बाँसुरी\n",
      "      content: hn/FunResource/367: कीलों को संतुलित करना\n",
      "      content: hn/FunResource/1118: छुपने वाले सामने आ!\n",
      "      content: hn/FunResource/1606: आवाज चित्र\n",
      "      content: hn/FunResource/1412: कौनसी बाल्टी?\n",
      "      content: hn/FunResource/1560: शब्द-चित्र\n",
      "      content: hn/FunResource/57: रंगों के संग\n",
      "Fun resource not supported: http://www.prathamopenschool.org/hn/FunResource/57, http://www.prathamopenschool.org/CourseContent/Simms/phet/index.html?id=color-vision-master-hn\n",
      "      content: hn/FunResource/1554: सच्चे खिलाडी\n",
      "      content: hn/FunResource/855: मुरजबंध संख्याएँ\n",
      "      content: hn/FunResource/1530: पीछें मुड़कर - विमान\n",
      "      content: hn/FunResource/1566: कैसे दौड़ते हैं ?\n",
      "      content: hn/FunResource/308: अंतरिक्ष में पानी निचोड़ना\n",
      "      content: hn/FunResource/98: पीछे मुड़कर - इस्रो का इतिहास\n",
      "Fun resource not supported: http://www.prathamopenschool.org/hn/FunResource/98, http://www.prathamopenschool.org/CourseContent/Simms/timeglider_ISRO_hn/isro_history.html\n",
      "      content: hn/FunResource/1555: पूलों का रहस्य\n",
      "      content: hn/FunResource/376: स्ट्रॉ को घुमानेवाला\n",
      "      story_resource_page: hn/StoryResource/1044: नानी की ऐनक\n",
      "      story_resource_page: hn/StoryResource/1053: बुलबुलों वाला फेनीला दूध\n",
      "      story_resource_page: hn/StoryResource/1036: चुस्कित स्कूल चली\n",
      "      story_resource_page: hn/StoryResource/1062: छुटकू मकड़ा\n",
      "      story_resource_page: hn/StoryResource/1065: कुहू कुहू कोयल\n",
      "      story_resource_page: hn/StoryResource/1055: हमारी खूबसूरत दुनिया\n",
      "      story_resource_page: hn/StoryResource/1035: चुलबुल की पूँछ\n",
      "      story_resource_page: hn/StoryResource/1042: चाचा की शादी\n",
      "      story_resource_page: hn/StoryResource/1066: लापता बल्ला\n",
      "      story_resource_page: hn/StoryResource/1068: रंग बिरंगी सुंदर मछली\n",
      "      story_resource_page: hn/StoryResource/1069: गौरेया और अमरूद\n",
      "      story_resource_page: hn/StoryResource/1031: सालाना बाल - कटाई दिवस\n",
      "      story_resource_page: hn/StoryResource/1060: शोभिनी और नानी\n",
      "      story_resource_page: hn/StoryResource/1046: एक यादगार मेला\n",
      "      story_resource_page: hn/StoryResource/1058: नौका विहार\n",
      "      story_resource_page: hn/StoryResource/1047: अगस्त का एक दिन\n",
      "      story_resource_page: hn/StoryResource/1067: टूटी चोंच वाला तोता\n",
      "      story_resource_page: hn/StoryResource/1050: कल्लू के किस्से १\n",
      "      story_resource_page: hn/StoryResource/1030: अनया का अंगूठा\n",
      "      story_resource_page: hn/StoryResource/1041: पैसे की यात्रा\n",
      "      story_resource_page: hn/StoryResource/1037: मोरू एक पहेली\n",
      "      story_resource_page: hn/StoryResource/1043: सो जाओ टिंकु !\n",
      "      story_resource_page: hn/StoryResource/1059: शान्ति का मित्र\n",
      "      story_resource_page: hn/StoryResource/1034: कबाड़ी वाला\n",
      "      story_resource_page: hn/StoryResource/1040: पैसे की दुनिया\n",
      "      story_resource_page: hn/StoryResource/1052: एक बड़ी मुसीबत\n",
      "      story_resource_page: hn/StoryResource/1054: हँसना मना है\n",
      "      story_resource_page: hn/StoryResource/1051: कल्लू के किस्से २\n",
      "      story_resource_page: hn/StoryResource/1033: घाट की मायावी बिल्ली\n",
      "      story_resource_page: hn/StoryResource/1064: कछुआ और खरगोश\n",
      "      story_resource_page: hn/StoryResource/1039: मनु ने बनाया खुशियों का घड़ा\n",
      "      story_resource_page: hn/StoryResource/1063: कौए के रिश्तेदार\n",
      "      story_resource_page: hn/StoryResource/1038: पापा की मूँछें\n",
      "      story_resource_page: hn/StoryResource/1032: जुई मौसी की बेटी\n",
      "      story_resource_page: hn/StoryResource/1049: काका और मुन्नी\n",
      "      story_resource_page: hn/StoryResource/1061: रोन्दू और मुक्की\n",
      "      story_resource_page: hn/StoryResource/1045: मछली ने समाचार सुने\n",
      "      story_resource_page: hn/StoryResource/1057: बरसा बादल\n",
      "      story_resource_page: hn/StoryResource/1056: पपलू राक्षस\n",
      "      story_resource_page: hn/StoryResource/1048: मसाला चाय\n"
     ]
    },
    {
     "name": "stdout",
     "output_type": "stream",
     "text": [
      "     in on_story_page http://www.prathamopenschool.org/hn/Story\n"
     ]
    },
    {
     "name": "stderr",
     "output_type": "stream",
     "text": [
      "  found subtopic: LES620: 3 to 6\n",
      "  found subtopic: LES621: 6 to 10\n",
      "  found subtopic: LES622: 10 to 14\n",
      "     lesson: LES55: त्रिभुज\n",
      "     lesson: LES56: कोण\n",
      "     lesson: LES57: वृत्त\n",
      "     lesson: LES58: परिमाप\n",
      "     lesson: LES74: आकृतियाँ और बहुभुज\n",
      "     lesson: LES76: क्षेत्रफल\n"
     ]
    },
    {
     "name": "stdout",
     "output_type": "stream",
     "text": [
      "     in on_subtopic_page http://www.prathamopenschool.org/hn/Course/Mathematics/CRS17\n"
     ]
    },
    {
     "name": "stderr",
     "output_type": "stream",
     "text": [
      "     lesson: LES603: ब्याज\n"
     ]
    },
    {
     "name": "stdout",
     "output_type": "stream",
     "text": [
      "     in on_subtopic_page http://www.prathamopenschool.org/hn/Course/Mathematics/CRS98\n"
     ]
    },
    {
     "name": "stderr",
     "output_type": "stream",
     "text": [
      "     lesson: LES604: वर्ग संख्याएँ\n"
     ]
    },
    {
     "name": "stdout",
     "output_type": "stream",
     "text": [
      "     in on_subtopic_page http://www.prathamopenschool.org/hn/Course/Mathematics/CRS99\n"
     ]
    },
    {
     "name": "stderr",
     "output_type": "stream",
     "text": [
      "     lesson: LES86: गुणज\n",
      "     lesson: LES87: गुणनखंड\n",
      "     lesson: LES88: महत्तम समापवर्तक\n",
      "     lesson: LES89: लघुत्तम समापवर्त्य\n",
      "     lesson: LES90: महत्तम समापवर्तक, लघुत्तम समापवर्त्य\n",
      "     lesson: LES537: रिश्ते गणित में\n"
     ]
    },
    {
     "name": "stdout",
     "output_type": "stream",
     "text": [
      "     in on_subtopic_page http://www.prathamopenschool.org/hn/Course/Mathematics/CRS27\n"
     ]
    },
    {
     "name": "stderr",
     "output_type": "stream",
     "text": [
      "     lesson: LES509: भिन्न में और क्या!\n",
      "     lesson: LES513: दशमलव में और क्या!\n",
      "     lesson: LES514: दो अंकों के बीच\n",
      "     lesson: LES515: सौ में से कितने?\n",
      "     lesson: LES112: अंक के भाग\n"
     ]
    },
    {
     "name": "stdout",
     "output_type": "stream",
     "text": [
      "     in on_subtopic_page http://www.prathamopenschool.org/hn/Course/Mathematics/CRS82\n"
     ]
    },
    {
     "name": "stderr",
     "output_type": "stream",
     "text": [
      "     lesson: LES107: मात्राएँ और संख्याएँ\n"
     ]
    },
    {
     "name": "stdout",
     "output_type": "stream",
     "text": [
      "     in on_subtopic_page http://www.prathamopenschool.org/hn/Course/Mathematics/CRS41\n"
     ]
    },
    {
     "name": "stderr",
     "output_type": "stream",
     "text": [
      "     lesson: LES75: प्रतिशत\n"
     ]
    },
    {
     "name": "stdout",
     "output_type": "stream",
     "text": [
      "     in on_subtopic_page http://www.prathamopenschool.org/hn/Course/Mathematics/CRS24\n"
     ]
    },
    {
     "name": "stderr",
     "output_type": "stream",
     "text": [
      "     lesson: LES85: बीजगणित की भूमिका\n"
     ]
    },
    {
     "name": "stdout",
     "output_type": "stream",
     "text": [
      "     in on_subtopic_page http://www.prathamopenschool.org/hn/Course/Mathematics/CRS21\n"
     ]
    },
    {
     "name": "stderr",
     "output_type": "stream",
     "text": [
      "     lesson: LES100: दशमलव\n",
      "     lesson: LES101: दशमलव जोडना,घटाना\n"
     ]
    },
    {
     "name": "stdout",
     "output_type": "stream",
     "text": [
      "     in on_subtopic_page http://www.prathamopenschool.org/hn/Course/Mathematics/CRS40\n"
     ]
    },
    {
     "name": "stderr",
     "output_type": "stream",
     "text": [
      "     lesson: LES405: बोलो हेलो!\n",
      "     lesson: LES406: मेरे अपने\n",
      "     lesson: LES407: ना ना की बातें\n",
      "     lesson: LES408: मेरी मर्ज़ी\n",
      "     lesson: LES442: समय को समझे\n",
      "     lesson: LES444: खरीददारी\n",
      "     lesson: LES445: अपना मुव्ही बनाइए\n",
      "     lesson: LES446: सलमा दीदी की शादी\n",
      "     lesson: LES447: आज की ताजा खबर\n",
      "     lesson: LES612: डरना मना हैं\n",
      "     lesson: LES613: बच्चों की टोली\n",
      "     lesson: LES614: गाँव में चोर\n"
     ]
    },
    {
     "name": "stdout",
     "output_type": "stream",
     "text": [
      "     in on_subtopic_page http://www.prathamopenschool.org/hn/Course/English/CRS34\n"
     ]
    },
    {
     "name": "stderr",
     "output_type": "stream",
     "text": [
      "     lesson: LES414: अंग्रेजी ओके 1\n",
      "     lesson: LES426: अंग्रेजी ओके 2\n",
      "     lesson: LES427: अंग्रेजी ओके 3\n",
      "     lesson: LES428: अंग्रेजी ओके 4\n",
      "     lesson: LES429: अंग्रेजी ओके 5\n",
      "     lesson: LES430: अंग्रेजी ओके 6\n",
      "     lesson: LES431: अंग्रेजी ओके 8\n",
      "     lesson: LES432: अंग्रेजी ओके 9\n",
      "     lesson: LES433: अंग्रेजी ओके 10\n",
      "     lesson: LES434: अंग्रेजी ओके 11\n",
      "     lesson: LES435: अंग्रेजी ओके 12\n",
      "     lesson: LES436: अंग्रेजी ओके 13\n"
     ]
    },
    {
     "name": "stdout",
     "output_type": "stream",
     "text": [
      "     in on_subtopic_page http://www.prathamopenschool.org/hn/Course/English/CRS36\n"
     ]
    },
    {
     "name": "stderr",
     "output_type": "stream",
     "text": [
      "     lesson: LES301: क्या है भोजन और हैं क्या इसके काम?\n",
      "     lesson: LES302: कौन सा भोजन देता है हमे बल?\n",
      "     lesson: LES303: कौन सा भोजन करता है बढ़त में मदद?\n",
      "     lesson: LES304: कौन सा भोजन करता है हमारा बचाव?\n",
      "     lesson: LES305: संतुलित आहार है क्या?\n",
      "     lesson: LES306: हमारे शरीर में भोजन करता है कैसे काम?\n",
      "     lesson: LES307: कैसे पायें विटामिन ए की कमी से छुटकारा?\n",
      "     lesson: LES308: कैसे पायें आयरन (लौह तत्व) की कमी से छुटकारा?\n",
      "     lesson: LES309: कैसे पायें आयोडीन की कमी से छुटकारा?\n",
      "     lesson: LES310: पौष्टिक भोजन\n"
     ]
    },
    {
     "name": "stdout",
     "output_type": "stream",
     "text": [
      "     in on_subtopic_page http://www.prathamopenschool.org/hn/Course/Health/CRS28\n"
     ]
    },
    {
     "name": "stderr",
     "output_type": "stream",
     "text": [
      "     lesson: LES225: शरीर में गति\n",
      "     lesson: LES618: रक्त परिसंचरण तंत्र\n"
     ]
    },
    {
     "name": "stdout",
     "output_type": "stream",
     "text": [
      "     in on_subtopic_page http://www.prathamopenschool.org/hn/Course/Science/CRS44\n"
     ]
    },
    {
     "name": "stderr",
     "output_type": "stream",
     "text": [
      "     lesson: LES600: सौरमंडल की पहचान\n",
      "     lesson: LES601: पृथ्वी का सफ़र\n"
     ]
    },
    {
     "name": "stdout",
     "output_type": "stream",
     "text": [
      "     in on_subtopic_page http://www.prathamopenschool.org/hn/Course/Science/CRS96\n"
     ]
    },
    {
     "name": "stderr",
     "output_type": "stream",
     "text": [
      "     lesson: LES602: ऊर्जा से पहचान\n",
      "     lesson: LES610: कार्य और ऊर्जा\n"
     ]
    },
    {
     "name": "stdout",
     "output_type": "stream",
     "text": [
      "     in on_subtopic_page http://www.prathamopenschool.org/hn/Course/Science/CRS97\n"
     ]
    },
    {
     "name": "stderr",
     "output_type": "stream",
     "text": [
      "     lesson: LES510: गति से पहचान\n",
      "     lesson: LES113: बोलो भाई!\n"
     ]
    },
    {
     "name": "stdout",
     "output_type": "stream",
     "text": [
      "     in on_subtopic_page http://www.prathamopenschool.org/hn/Course/Science/CRS83\n"
     ]
    },
    {
     "name": "stderr",
     "output_type": "stream",
     "text": [
      "     lesson: LES224: नापे कैसें ?\n"
     ]
    },
    {
     "name": "stdout",
     "output_type": "stream",
     "text": [
      "     in on_subtopic_page http://www.prathamopenschool.org/hn/Course/Science/CRS46\n"
     ]
    },
    {
     "name": "stderr",
     "output_type": "stream",
     "text": [
      "     lesson: LES511: अणु और परमाणु\n",
      "     lesson: LES110: भार और द्रव्यमान\n",
      "     lesson: LES111: पदार्थ की पहचान\n"
     ]
    },
    {
     "name": "stdout",
     "output_type": "stream",
     "text": [
      "     in on_subtopic_page http://www.prathamopenschool.org/hn/Course/Science/CRS84\n"
     ]
    },
    {
     "name": "stderr",
     "output_type": "stream",
     "text": [
      "     lesson: LES103: प्रकाश के गुण\n",
      "     lesson: LES109: रंगीन दुनिया\n",
      "     lesson: LES559: आविष्कारों का इतिहास\n"
     ]
    },
    {
     "name": "stdout",
     "output_type": "stream",
     "text": [
      "     in on_subtopic_page http://www.prathamopenschool.org/hn/Course/Science/CRS92\n"
     ]
    },
    {
     "name": "stderr",
     "output_type": "stream",
     "text": [
      "     lesson: LES539: आतिथ्य उद्योग का परिचय\n",
      "     lesson: LES540: उद्योग के बारे में जानें\n",
      "     lesson: LES541: छात्रों से सुनो\n"
     ]
    },
    {
     "name": "stdout",
     "output_type": "stream",
     "text": [
      "     in on_subtopic_page http://www.prathamopenschool.org/hn/Course/Hospitality/CRS86\n"
     ]
    },
    {
     "name": "stderr",
     "output_type": "stream",
     "text": [
      "     lesson: LES542: सिलेबस\n",
      "     lesson: LES543: विषय\n"
     ]
    },
    {
     "name": "stdout",
     "output_type": "stream",
     "text": [
      "     in on_subtopic_page http://www.prathamopenschool.org/hn/Course/Hospitality/CRS87\n"
     ]
    },
    {
     "name": "stderr",
     "output_type": "stream",
     "text": [
      "     lesson: LES544: परिचय और सिलेबस\n",
      "     lesson: LES545: व्यंजनों और प्रैक्टिकल\n"
     ]
    },
    {
     "name": "stdout",
     "output_type": "stream",
     "text": [
      "     in on_subtopic_page http://www.prathamopenschool.org/hn/Course/Hospitality/CRS88\n"
     ]
    },
    {
     "name": "stderr",
     "output_type": "stream",
     "text": [
      "     lesson: LES546: सिलेबस\n",
      "     lesson: LES547: प्रत्यक्ष-कार्य\n"
     ]
    },
    {
     "name": "stdout",
     "output_type": "stream",
     "text": [
      "     in on_subtopic_page http://www.prathamopenschool.org/hn/Course/Hospitality/CRS89\n"
     ]
    },
    {
     "name": "stderr",
     "output_type": "stream",
     "text": [
      "     lesson: LES553: निर्माण उद्योग के बारे में जानें\n"
     ]
    },
    {
     "name": "stdout",
     "output_type": "stream",
     "text": [
      "     in on_subtopic_page http://www.prathamopenschool.org/hn/Course/Construction/CRS93\n"
     ]
    },
    {
     "name": "stderr",
     "output_type": "stream",
     "text": [
      "     lesson: LES554: ऑटोमोबाइल उद्योग के बारे में जानें\n",
      "     lesson: LES555: मोटर मेकैनिक\n"
     ]
    },
    {
     "name": "stdout",
     "output_type": "stream",
     "text": [
      "     in on_subtopic_page http://www.prathamopenschool.org/hn/Course/Automobile/CRS94\n"
     ]
    },
    {
     "name": "stderr",
     "output_type": "stream",
     "text": [
      "     lesson: LES548: विद्युत उद्योग के बारे में जानें\n",
      "     lesson: LES549: विद्युत केंद्र की कहानियां\n"
     ]
    },
    {
     "name": "stdout",
     "output_type": "stream",
     "text": [
      "     in on_subtopic_page http://www.prathamopenschool.org/hn/Course/Electric/CRS90\n"
     ]
    },
    {
     "name": "stderr",
     "output_type": "stream",
     "text": [
      "     lesson: LES556: बेडसाइड सहायक उद्योग के बारे में जानें\n",
      "     lesson: LES557: प्रत्यक्ष-कार्य\n"
     ]
    },
    {
     "name": "stdout",
     "output_type": "stream",
     "text": [
      "     in on_subtopic_page http://www.prathamopenschool.org/hn/Course/Beauty/CRS95\n"
     ]
    },
    {
     "name": "stderr",
     "output_type": "stream",
     "text": [
      "     lesson: LES550: परिचय\n",
      "     lesson: LES551: प्रत्यक्ष-कार्य\n",
      "     lesson: LES552: बेडसाइड असिस्टेंट के कहानियां\n"
     ]
    },
    {
     "name": "stdout",
     "output_type": "stream",
     "text": [
      "     in on_subtopic_page http://www.prathamopenschool.org/hn/Course/Healthcare/CRS91\n"
     ]
    },
    {
     "name": "stderr",
     "output_type": "stream",
     "text": [
      "     lesson: LES527: धातु और दुनिया\n",
      "     lesson: LES528: ईंधन कैसे बनते है ?\n",
      "     lesson: LES529: दुनिया को बचाए!\n",
      "     lesson: LES530: छोटी सी जिंदगी\n",
      "     lesson: LES531: प्रजनन का कमाल\n",
      "     lesson: LES532: हम कैसे बड़े हुए?\n",
      "     lesson: LES533: परिचय\n",
      "     lesson: LES534: चमकदार दुनिया\n",
      "     lesson: LES535: बिजली चमकी\n",
      "     lesson: LES536: पानी ही पानी\n"
     ]
    },
    {
     "name": "stdout",
     "output_type": "stream",
     "text": [
      "     in on_subtopic_page http://www.prathamopenschool.org/hn/Course/Std8/CRS79\n"
     ]
    },
    {
     "name": "stderr",
     "output_type": "stream",
     "text": [
      "     lesson: LES517: वर्गो का कमाल\n",
      "     lesson: LES518: चलो घन संख्या निकाले\n",
      "     lesson: LES519: बीजगणित का जादू\n",
      "     lesson: LES520: क्षेत्रफल कैसे निकाले?\n",
      "     lesson: LES521: संख्याओ का खेल\n",
      "     lesson: LES522: अनुपात\n",
      "     lesson: LES523: बीजगणित - २\n",
      "     lesson: LES524: बीजगणित - ३\n",
      "     lesson: LES525: आलेख\n",
      "     lesson: LES526: संख्या का रहस्य\n"
     ]
    },
    {
     "name": "stdout",
     "output_type": "stream",
     "text": [
      "     in on_subtopic_page http://www.prathamopenschool.org/hn/Course/Std8/CRS80\n",
      "     in on_story_resource_page http://www.prathamopenschool.org/hn/StoryResource/1044\n",
      "     in on_story_resource_page http://www.prathamopenschool.org/hn/StoryResource/1053\n",
      "     in on_story_resource_page http://www.prathamopenschool.org/hn/StoryResource/1036\n",
      "     in on_story_resource_page http://www.prathamopenschool.org/hn/StoryResource/1062\n",
      "     in on_story_resource_page http://www.prathamopenschool.org/hn/StoryResource/1065\n",
      "     in on_story_resource_page http://www.prathamopenschool.org/hn/StoryResource/1055\n",
      "     in on_story_resource_page http://www.prathamopenschool.org/hn/StoryResource/1035\n",
      "     in on_story_resource_page http://www.prathamopenschool.org/hn/StoryResource/1042\n",
      "     in on_story_resource_page http://www.prathamopenschool.org/hn/StoryResource/1066\n",
      "     in on_story_resource_page http://www.prathamopenschool.org/hn/StoryResource/1068\n",
      "     in on_story_resource_page http://www.prathamopenschool.org/hn/StoryResource/1069\n",
      "     in on_story_resource_page http://www.prathamopenschool.org/hn/StoryResource/1031\n",
      "     in on_story_resource_page http://www.prathamopenschool.org/hn/StoryResource/1060\n",
      "     in on_story_resource_page http://www.prathamopenschool.org/hn/StoryResource/1046\n",
      "     in on_story_resource_page http://www.prathamopenschool.org/hn/StoryResource/1058\n",
      "     in on_story_resource_page http://www.prathamopenschool.org/hn/StoryResource/1047\n",
      "     in on_story_resource_page http://www.prathamopenschool.org/hn/StoryResource/1067\n",
      "     in on_story_resource_page http://www.prathamopenschool.org/hn/StoryResource/1050\n",
      "     in on_story_resource_page http://www.prathamopenschool.org/hn/StoryResource/1030\n",
      "     in on_story_resource_page http://www.prathamopenschool.org/hn/StoryResource/1041\n",
      "     in on_story_resource_page http://www.prathamopenschool.org/hn/StoryResource/1037\n",
      "     in on_story_resource_page http://www.prathamopenschool.org/hn/StoryResource/1043\n",
      "     in on_story_resource_page http://www.prathamopenschool.org/hn/StoryResource/1059\n",
      "     in on_story_resource_page http://www.prathamopenschool.org/hn/StoryResource/1034\n",
      "     in on_story_resource_page http://www.prathamopenschool.org/hn/StoryResource/1040\n",
      "     in on_story_resource_page http://www.prathamopenschool.org/hn/StoryResource/1052\n",
      "     in on_story_resource_page http://www.prathamopenschool.org/hn/StoryResource/1054\n",
      "     in on_story_resource_page http://www.prathamopenschool.org/hn/StoryResource/1051\n",
      "     in on_story_resource_page http://www.prathamopenschool.org/hn/StoryResource/1033\n",
      "     in on_story_resource_page http://www.prathamopenschool.org/hn/StoryResource/1064\n",
      "     in on_story_resource_page http://www.prathamopenschool.org/hn/StoryResource/1039\n",
      "     in on_story_resource_page http://www.prathamopenschool.org/hn/StoryResource/1063\n",
      "     in on_story_resource_page http://www.prathamopenschool.org/hn/StoryResource/1038\n",
      "     in on_story_resource_page http://www.prathamopenschool.org/hn/StoryResource/1032\n",
      "     in on_story_resource_page http://www.prathamopenschool.org/hn/StoryResource/1049\n",
      "     in on_story_resource_page http://www.prathamopenschool.org/hn/StoryResource/1061\n",
      "     in on_story_resource_page http://www.prathamopenschool.org/hn/StoryResource/1045\n",
      "     in on_story_resource_page http://www.prathamopenschool.org/hn/StoryResource/1057\n",
      "     in on_story_resource_page http://www.prathamopenschool.org/hn/StoryResource/1056\n",
      "     in on_story_resource_page http://www.prathamopenschool.org/hn/StoryResource/1048\n",
      "     in on_subtopic_page http://www.prathamopenschool.org/hn/gamelist/CRS104/LES620\n",
      "     in on_subtopic_page http://www.prathamopenschool.org/hn/gamelist/CRS104/LES621\n",
      "     in on_subtopic_page http://www.prathamopenschool.org/hn/gamelist/CRS104/LES622\n"
     ]
    },
    {
     "name": "stderr",
     "output_type": "stream",
     "text": [
      "      content: 106: त्रिभुजों के प्रकार \n",
      "      content: 107: त्रिभुज के मज़ेदार खेल \n",
      "      content: 808: त्रिभुज और उसके प्रकार \n",
      "      content: 807: त्रिभुज 1 \n",
      "      content: 809: त्रिभुज 2 \n",
      "      content: 111: त्रिभुज बनायें \n",
      "      content: 828: तुक्काबाजी क्षेत्रफल - त्रिभुज \n"
     ]
    },
    {
     "name": "stdout",
     "output_type": "stream",
     "text": [
      "      in on_lesson_page http://www.prathamopenschool.org/hn/Lesson/LES55\n"
     ]
    },
    {
     "name": "stderr",
     "output_type": "stream",
     "text": [
      "      content: 806: कोण और उनके प्रकार \n",
      "      content: 103: कोण \n",
      "      content: 184: तुक्काबाजी कोण \n",
      "      content: 104: कोण और उनके प्रकार \n",
      "      content: 105: कोण बनायें \n"
     ]
    },
    {
     "name": "stdout",
     "output_type": "stream",
     "text": [
      "      in on_lesson_page http://www.prathamopenschool.org/hn/Lesson/LES56\n"
     ]
    },
    {
     "name": "stderr",
     "output_type": "stream",
     "text": [
      "      content: 109: वृत्त \n",
      "      content: 110: वृत्त का खेल \n",
      "      content: 810: वृत्त 1 \n",
      "      content: 811: वृत्त 2 \n",
      "      content: 826: तुक्काबाजी क्षेत्रफल - वृत्त \n"
     ]
    },
    {
     "name": "stdout",
     "output_type": "stream",
     "text": [
      "      in on_lesson_page http://www.prathamopenschool.org/hn/Lesson/LES57\n"
     ]
    },
    {
     "name": "stderr",
     "output_type": "stream",
     "text": [
      "      content: 112: परिमाप \n",
      "      content: 117: परिमाप देखें \n",
      "      content: 840: तुक्काबाजी परिमाप - आयत \n",
      "      content: 841: तुक्काबाजी परिमाप - वर्ग \n",
      "      content: 842: तुक्काबाजी परिमाप - त्रिभुज \n"
     ]
    },
    {
     "name": "stdout",
     "output_type": "stream",
     "text": [
      "      in on_lesson_page http://www.prathamopenschool.org/hn/Lesson/LES58\n"
     ]
    },
    {
     "name": "stderr",
     "output_type": "stream",
     "text": [
      "      content: 108: आकृतियाँ और बहुभुज \n"
     ]
    },
    {
     "name": "stdout",
     "output_type": "stream",
     "text": [
      "      in on_lesson_page http://www.prathamopenschool.org/hn/Lesson/LES74\n"
     ]
    },
    {
     "name": "stderr",
     "output_type": "stream",
     "text": [
      "      content: 113: क्षेत्रफल \n",
      "      content: 181: तुक्काबाजी क्षेत्रफल - आयत \n",
      "      content: 827: तुक्काबाजी क्षेत्रफल - वर्ग \n"
     ]
    },
    {
     "name": "stdout",
     "output_type": "stream",
     "text": [
      "      in on_lesson_page http://www.prathamopenschool.org/hn/Lesson/LES76\n"
     ]
    },
    {
     "name": "stderr",
     "output_type": "stream",
     "text": [
      "      content: 1539: ब्याज की भूमिका \n",
      "      content: 1540: साधारण ब्याज की भूमिका \n",
      "      content: 1541: साधारण ब्याज उदाहरण \n"
     ]
    },
    {
     "name": "stdout",
     "output_type": "stream",
     "text": [
      "      in on_lesson_page http://www.prathamopenschool.org/hn/Lesson/LES603\n"
     ]
    },
    {
     "name": "stderr",
     "output_type": "stream",
     "text": [
      "      content: 1542: वर्ग संख्याएँ \n",
      "      content: 1543: वर्गमूल \n",
      "      content: 1544: खेल खेल में वर्गमूल \n",
      "      content: 1545: त्रिकोणीय संख्याएँ और वर्ग \n"
     ]
    },
    {
     "name": "stdout",
     "output_type": "stream",
     "text": [
      "      in on_lesson_page http://www.prathamopenschool.org/hn/Lesson/LES604\n"
     ]
    },
    {
     "name": "stderr",
     "output_type": "stream",
     "text": [
      "      content: 165: गुणज 1 \n",
      "      content: 166: गुणज 2 \n",
      "      content: 127: बूझो तो सही - गुणज \n",
      "      content: 1409: दे दनादन!!! \n"
     ]
    },
    {
     "name": "stdout",
     "output_type": "stream",
     "text": [
      "      in on_lesson_page http://www.prathamopenschool.org/hn/Lesson/LES86\n"
     ]
    },
    {
     "name": "stderr",
     "output_type": "stream",
     "text": [
      "      content: 167: गुणनखंड 1 \n",
      "      content: 168: गुणनखंड 2 \n",
      "      content: 128: बूझो तो सही - गुणनखंड \n",
      "      content: 890: विभाजक फोडे \n"
     ]
    },
    {
     "name": "stdout",
     "output_type": "stream",
     "text": [
      "      in on_lesson_page http://www.prathamopenschool.org/hn/Lesson/LES87\n"
     ]
    },
    {
     "name": "stderr",
     "output_type": "stream",
     "text": [
      "      content: 171: महत्तम समापवर्तक \n",
      "      content: 172: अभाज्य गुणनखंडों द्वारा महत्तम समापवर्तक \n",
      "      content: 126: बूझो तो सही - म.स \n",
      "      content: 857: बूझो मेरी संख्या \n",
      "      content: 858: अभाज्य गुणनखंडन \n",
      "      content: 1412: कौनसी बाल्टी? \n"
     ]
    },
    {
     "name": "stdout",
     "output_type": "stream",
     "text": [
      "      in on_lesson_page http://www.prathamopenschool.org/hn/Lesson/LES88\n"
     ]
    },
    {
     "name": "stderr",
     "output_type": "stream",
     "text": [
      "      content: 173: लघुतम समापवर्त्य \n",
      "      content: 174: अभाज्य गुणनखंडो द्वारा लघुतम समापवर्त्य \n",
      "      content: 125: बूझो तो सही - ल.स \n",
      "      content: 857: बूझो मेरी संख्या \n",
      "      content: 858: अभाज्य गुणनखंडन \n",
      "      content: 456: दोस्ती की ट्रेन \n",
      "      content: 1412: कौनसी बाल्टी? \n"
     ]
    },
    {
     "name": "stdout",
     "output_type": "stream",
     "text": [
      "      in on_lesson_page http://www.prathamopenschool.org/hn/Lesson/LES89\n"
     ]
    },
    {
     "name": "stderr",
     "output_type": "stream",
     "text": [
      "      content: 175: म.स. और ल.स. के मजेदार खेल \n",
      "      content: 125: बूझो तो सही - ल.स \n",
      "      content: 126: बूझो तो सही - म.स \n",
      "      content: 1412: कौनसी बाल्टी? \n"
     ]
    },
    {
     "name": "stdout",
     "output_type": "stream",
     "text": [
      "      in on_lesson_page http://www.prathamopenschool.org/hn/Lesson/LES90\n"
     ]
    },
    {
     "name": "stderr",
     "output_type": "stream",
     "text": [
      "      content: 457: रिश्ते परिवार में और गणित में 1 \n",
      "      content: 458: रिश्ते परिवार में और गणित में 2 \n"
     ]
    },
    {
     "name": "stdout",
     "output_type": "stream",
     "text": [
      "      in on_lesson_page http://www.prathamopenschool.org/hn/Lesson/LES537\n"
     ]
    },
    {
     "name": "stderr",
     "output_type": "stream",
     "text": [
      "      content: 1343: भिन्नों को जोड़ \n",
      "      content: 1344: भिन्नों को घटाव \n",
      "      content: 1345: भिन्नों का गुणा \n",
      "      content: 1346: गुणात्मक प्रतिलोम \n"
     ]
    },
    {
     "name": "stdout",
     "output_type": "stream",
     "text": [
      "      in on_lesson_page http://www.prathamopenschool.org/hn/Lesson/LES509\n"
     ]
    },
    {
     "name": "stderr",
     "output_type": "stream",
     "text": [
      "      content: 1362: दशमलव संख्याओ को जोड़ना \n",
      "      content: 1363: दशमलव संख्यओं को घटाना \n"
     ]
    },
    {
     "name": "stdout",
     "output_type": "stream",
     "text": [
      "      in on_lesson_page http://www.prathamopenschool.org/hn/Lesson/LES513\n"
     ]
    },
    {
     "name": "stderr",
     "output_type": "stream",
     "text": [
      "      content: 891: दशमलव  \n",
      "      content: 886: दशांश अपूर्णांक \n",
      "      content: 805: दशमलव भिन्न \n",
      "      content: 1364: दशमलव संख्या से भिन्न \n",
      "      content: 1365: भिन्न से दशमलव \n"
     ]
    },
    {
     "name": "stdout",
     "output_type": "stream",
     "text": [
      "      in on_lesson_page http://www.prathamopenschool.org/hn/Lesson/LES514\n"
     ]
    },
    {
     "name": "stderr",
     "output_type": "stream",
     "text": [
      "      content: 1366: प्रतिशत \n",
      "      content: 1367: प्रतिशत भिन्नों के रूप में \n",
      "      content: 1368: भिन्न प्रतिशत के रूप में \n"
     ]
    },
    {
     "name": "stdout",
     "output_type": "stream",
     "text": [
      "      in on_lesson_page http://www.prathamopenschool.org/hn/Lesson/LES515\n"
     ]
    },
    {
     "name": "stderr",
     "output_type": "stream",
     "text": [
      "      content: 114: भिन्न \n",
      "      content: 115: भिन्नों की तुलना \n",
      "      content: 851: समतुल्य भिन्नें  \n",
      "      content: 889: रंगीन भिन्ने \n",
      "      content: 1121: भिन्नों के प्रकार \n",
      "      content: 1122: भिन्न का सरलतम रूप \n",
      "      content: 1123: अनुचित भिन्न औरमिश्रित भिन्न \n"
     ]
    },
    {
     "name": "stdout",
     "output_type": "stream",
     "text": [
      "      in on_lesson_page http://www.prathamopenschool.org/hn/Lesson/LES112\n"
     ]
    },
    {
     "name": "stderr",
     "output_type": "stream",
     "text": [
      "      content: 860: मात्राएँ और संख्याएँ भाग 1 \n",
      "      content: 861: मात्राएँ और संख्याएँ भाग 2 \n",
      "      content: 862: मात्राएँ और संख्याएँ भाग 3 \n",
      "      content: 863: मात्राएँ और संख्याएँ भाग 4 \n"
     ]
    },
    {
     "name": "stdout",
     "output_type": "stream",
     "text": [
      "      in on_lesson_page http://www.prathamopenschool.org/hn/Lesson/LES107\n"
     ]
    },
    {
     "name": "stderr",
     "output_type": "stream",
     "text": [
      "      content: 116: प्रतिशत \n",
      "      content: 118: प्रतिशत देखें \n",
      "      content: 803: प्रतिशतता \n",
      "      content: 859: मौखिक प्रतिशत \n"
     ]
    },
    {
     "name": "stdout",
     "output_type": "stream",
     "text": [
      "      in on_lesson_page http://www.prathamopenschool.org/hn/Lesson/LES75\n"
     ]
    },
    {
     "name": "stderr",
     "output_type": "stream",
     "text": [
      "      content: 163: बीजगणित की भूमिका 1 \n",
      "      content: 164: बीजगणित की भूमिका 2 \n"
     ]
    },
    {
     "name": "stdout",
     "output_type": "stream",
     "text": [
      "      in on_lesson_page http://www.prathamopenschool.org/hn/Lesson/LES85\n"
     ]
    },
    {
     "name": "stderr",
     "output_type": "stream",
     "text": [
      "      content: 849: दशमलव संख्या से भिन्न \n",
      "      content: 850: दशमलव संख्याओं को विभाजित करना (भाग २) \n",
      "      content: 864: बूझो मेरी कीमत \n",
      "      content: 805: दशमलव भिन्न \n",
      "      content: 886: दशांश अपूर्णांक \n",
      "      content: 891: दशमलव  \n",
      "      content: 892: दशांश अपूर्णांक तुलना \n"
     ]
    },
    {
     "name": "stdout",
     "output_type": "stream",
     "text": [
      "      in on_lesson_page http://www.prathamopenschool.org/hn/Lesson/LES100\n"
     ]
    },
    {
     "name": "stderr",
     "output_type": "stream",
     "text": [
      "      content: 847: दशमलव संख्याओं को जोड़ना \n",
      "      content: 848: दशमलव संख्याओं को घटाना \n"
     ]
    },
    {
     "name": "stdout",
     "output_type": "stream",
     "text": [
      "      in on_lesson_page http://www.prathamopenschool.org/hn/Lesson/LES101\n"
     ]
    },
    {
     "name": "stderr",
     "output_type": "stream",
     "text": [
      "      content: 199: राहुल से मुलाकात  \n",
      "      content: 200: राहुल से दोस्ती  \n",
      "      content: 201: मधु और दीपक से मुलाकात  \n",
      "      content: 202: मधु और दीपक से दोस्ती  \n",
      "      content: 203: नये दोस्तों से बातचीत  \n",
      "      content: 204: राहुल से मुलाकात - दोहराएँ \n",
      "      content: 205: मधु और दीपक से मुलाकात - दोहराएँ  \n",
      "      content: 266: Translation Machine 1 \n",
      "      content: 1342: Match the words \n"
     ]
    },
    {
     "name": "stdout",
     "output_type": "stream",
     "text": [
      "      in on_lesson_page http://www.prathamopenschool.org/hn/Lesson/LES405\n"
     ]
    },
    {
     "name": "stderr",
     "output_type": "stream",
     "text": [
      "      content: 206: राहुल के मम्मी पापा से मुलाकात  \n",
      "      content: 207: राहुल के मम्मी पापा से शाम को मुलाकात  \n",
      "      content: 208: दो परिवारों की मुलाकात  \n",
      "      content: 209: नयी दोस्ती  \n",
      "      content: 210: हमारा प्यारा परिवार ( दोहराएँ ) \n",
      "      content: 279: Translation Machine - 2 \n"
     ]
    },
    {
     "name": "stdout",
     "output_type": "stream",
     "text": [
      "      in on_lesson_page http://www.prathamopenschool.org/hn/Lesson/LES406\n"
     ]
    },
    {
     "name": "stderr",
     "output_type": "stream",
     "text": [
      "      content: 241: नया दोस्त जतिन  \n",
      "      content: 242: खाने पर गप्पें \n",
      "      content: 243: सीमा के सवाल \n",
      "      content: 244: कहाँ गए सब ?  \n",
      "      content: 245: सीमा और डॉली फिर मिलगये (दोहराएँ) \n",
      "      content: 246: सीमा और डॉली की बातें (दोहराएं) \n",
      "      content: 280: Translation Machine - 3 \n"
     ]
    },
    {
     "name": "stdout",
     "output_type": "stream",
     "text": [
      "      in on_lesson_page http://www.prathamopenschool.org/hn/Lesson/LES407\n"
     ]
    },
    {
     "name": "stderr",
     "output_type": "stream",
     "text": [
      "      content: 247: मनपसंद हीरो \n",
      "      content: 248: नापसंद हीरो \n",
      "      content: 249: पिक्चर देखने जाना \n",
      "      content: 250: पिक्चर पर चर्चा \n",
      "      content: 251: सीमा और मधु की पसंद नापसंद (दोहराएँ)  \n",
      "      content: 252: दीपक और राहुल की पसंद नापसंद (दोहराएँ) \n",
      "      content: 281: Translation Machine - 4 \n",
      "      content: 567: Build a sentence \n"
     ]
    },
    {
     "name": "stdout",
     "output_type": "stream",
     "text": [
      "      in on_lesson_page http://www.prathamopenschool.org/hn/Lesson/LES408\n"
     ]
    },
    {
     "name": "stderr",
     "output_type": "stream",
     "text": [
      "      content: 1146: सुबह हो गयी मामू \n",
      "      content: 1147: स्कूल चले हम \n",
      "      content: 1148: टाइमपास \n",
      "      content: 1149: एक दिन में दो-दो पार्टी \n",
      "      content: 1150: चलो रेस लगाये \n",
      "      content: 1151: निशा के प्लान - दोहराए \n",
      "      content: 1342: Match the words \n"
     ]
    },
    {
     "name": "stdout",
     "output_type": "stream",
     "text": [
      "      in on_lesson_page http://www.prathamopenschool.org/hn/Lesson/LES442\n"
     ]
    },
    {
     "name": "stderr",
     "output_type": "stream",
     "text": [
      "      content: 1152: खरीददारी \n",
      "      content: 1153: रामू काका की दुकान \n",
      "      content: 1154: किराने का सामान \n",
      "      content: 1155: फैशन पॉइंट - कपडे की दुकान \n",
      "      content: 1156: रामू काका की दुकान (दोहराए) \n",
      "      content: 1369: Vanishing sentences \n"
     ]
    },
    {
     "name": "stdout",
     "output_type": "stream",
     "text": [
      "      in on_lesson_page http://www.prathamopenschool.org/hn/Lesson/LES444\n"
     ]
    },
    {
     "name": "stderr",
     "output_type": "stream",
     "text": [
      "      content: 1157: कहानी चुनिए \n",
      "      content: 1158: पिक्चर के बड़े बड़े प्लान \n",
      "      content: 1159: किरदार चुनना \n",
      "      content: 1160: शूटिंग \n"
     ]
    },
    {
     "name": "stdout",
     "output_type": "stream",
     "text": [
      "      in on_lesson_page http://www.prathamopenschool.org/hn/Lesson/LES445\n"
     ]
    },
    {
     "name": "stderr",
     "output_type": "stream",
     "text": [
      "      content: 1161: शादी की खुशखबरी \n",
      "      content: 1162: मेरे दोस्तों को निमंत्रण \n",
      "      content: 1163: शादी के रंग-बिरंगी कपड़े \n",
      "      content: 1164: सलमा दीदी की पार्टी \n"
     ]
    },
    {
     "name": "stdout",
     "output_type": "stream",
     "text": [
      "      in on_lesson_page http://www.prathamopenschool.org/hn/Lesson/LES446\n"
     ]
    },
    {
     "name": "stderr",
     "output_type": "stream",
     "text": [
      "      content: 1165: आज की ताजा खबर \n",
      "      content: 1166: मेरी दोस्त का इंटरव्यू \n",
      "      content: 1167: मम्मी का इंटरव्यू \n"
     ]
    },
    {
     "name": "stdout",
     "output_type": "stream",
     "text": [
      "      in on_lesson_page http://www.prathamopenschool.org/hn/Lesson/LES447\n"
     ]
    },
    {
     "name": "stderr",
     "output_type": "stream",
     "text": [
      "      content: 1592: भागो भूत आया| \n",
      "      content: 1593: कहाँ गयी जलेबी ? \n",
      "      content: 1594: घर में घुस गया चूहा \n",
      "      content: 1595: चूहा पकड़ा \n",
      "      content: 1596: चूहा भाग गया \n"
     ]
    },
    {
     "name": "stdout",
     "output_type": "stream",
     "text": [
      "      in on_lesson_page http://www.prathamopenschool.org/hn/Lesson/LES612\n"
     ]
    },
    {
     "name": "stderr",
     "output_type": "stream",
     "text": [
      "      content: 1597: शैतान बच्चा \n",
      "      content: 1598: डॉक्टर दीदी को बुलाओ \n",
      "      content: 1599: समझे बेटा यश! \n",
      "      content: 1600: छोटे खली \n",
      "      content: 1601: शाबाश! \n"
     ]
    },
    {
     "name": "stdout",
     "output_type": "stream",
     "text": [
      "      in on_lesson_page http://www.prathamopenschool.org/hn/Lesson/LES613\n"
     ]
    },
    {
     "name": "stderr",
     "output_type": "stream",
     "text": [
      "      content: 1602: मिठाई हमारे पेट में \n",
      "      content: 1603: लता की चोरी \n",
      "      content: 1604: पुलिस की पूछताछ \n",
      "      content: 1605: वेलकम लता \n"
     ]
    },
    {
     "name": "stdout",
     "output_type": "stream",
     "text": [
      "      in on_lesson_page http://www.prathamopenschool.org/hn/Lesson/LES614\n"
     ]
    },
    {
     "name": "stderr",
     "output_type": "stream",
     "text": [
      "      content: 273: अंग्रेजी ओके 1.1 \n",
      "      content: 274: अंग्रेजी ओके 1.2 \n",
      "      content: 275: अंग्रेजी ओके 1.3 \n"
     ]
    },
    {
     "name": "stdout",
     "output_type": "stream",
     "text": [
      "      in on_lesson_page http://www.prathamopenschool.org/hn/Lesson/LES414\n"
     ]
    },
    {
     "name": "stderr",
     "output_type": "stream",
     "text": [
      "      content: 534: अंग्रेजी ओके 2.1 \n",
      "      content: 535: अंग्रेजी ओके 2.2 \n",
      "      content: 536: अंग्रेजी ओके 2.3 \n"
     ]
    },
    {
     "name": "stdout",
     "output_type": "stream",
     "text": [
      "      in on_lesson_page http://www.prathamopenschool.org/hn/Lesson/LES426\n"
     ]
    },
    {
     "name": "stderr",
     "output_type": "stream",
     "text": [
      "      content: 537: अंग्रेजी ओके 3.1 \n",
      "      content: 538: अंग्रेजी ओके 3.2 \n",
      "      content: 539: अंग्रेजी ओके 3.3 \n"
     ]
    },
    {
     "name": "stdout",
     "output_type": "stream",
     "text": [
      "      in on_lesson_page http://www.prathamopenschool.org/hn/Lesson/LES427\n"
     ]
    },
    {
     "name": "stderr",
     "output_type": "stream",
     "text": [
      "      content: 540: अंग्रेजी ओके 4.1 \n",
      "      content: 541: अंग्रेजी ओके 4.2 \n",
      "      content: 542: अंग्रेजी ओके 4.3 \n"
     ]
    },
    {
     "name": "stdout",
     "output_type": "stream",
     "text": [
      "      in on_lesson_page http://www.prathamopenschool.org/hn/Lesson/LES428\n"
     ]
    },
    {
     "name": "stderr",
     "output_type": "stream",
     "text": [
      "      content: 543: अंग्रेजी ओके 5.1 \n",
      "      content: 544: अंग्रेजी ओके 5.2 \n",
      "      content: 545: अंग्रेजी ओके 5.3 \n"
     ]
    },
    {
     "name": "stdout",
     "output_type": "stream",
     "text": [
      "      in on_lesson_page http://www.prathamopenschool.org/hn/Lesson/LES429\n"
     ]
    },
    {
     "name": "stderr",
     "output_type": "stream",
     "text": [
      "      content: 546: अंग्रेजी ओके 6.1 \n",
      "      content: 547: अंग्रेजी ओके 6.2 \n",
      "      content: 548: अंग्रेजी ओके 6.3 \n"
     ]
    },
    {
     "name": "stdout",
     "output_type": "stream",
     "text": [
      "      in on_lesson_page http://www.prathamopenschool.org/hn/Lesson/LES430\n"
     ]
    },
    {
     "name": "stderr",
     "output_type": "stream",
     "text": [
      "      content: 549: अंग्रेजी ओके 8.1 \n",
      "      content: 550: अंग्रेजी ओके 8.2 \n",
      "      content: 551: अंग्रेजी ओके 8.3 \n"
     ]
    },
    {
     "name": "stdout",
     "output_type": "stream",
     "text": [
      "      in on_lesson_page http://www.prathamopenschool.org/hn/Lesson/LES431\n"
     ]
    },
    {
     "name": "stderr",
     "output_type": "stream",
     "text": [
      "      content: 552: अंग्रेजी ओके 9.1 \n",
      "      content: 553: अंग्रेजी ओके 9.2 \n",
      "      content: 554: अंग्रेजी ओके 9.3 \n"
     ]
    },
    {
     "name": "stdout",
     "output_type": "stream",
     "text": [
      "      in on_lesson_page http://www.prathamopenschool.org/hn/Lesson/LES432\n"
     ]
    },
    {
     "name": "stderr",
     "output_type": "stream",
     "text": [
      "      content: 555: अंग्रेजी ओके 10.1 \n",
      "      content: 556: अंग्रेजी ओके 10.2 \n",
      "      content: 557: अंग्रेजी ओके 10.3 \n"
     ]
    },
    {
     "name": "stdout",
     "output_type": "stream",
     "text": [
      "      in on_lesson_page http://www.prathamopenschool.org/hn/Lesson/LES433\n"
     ]
    },
    {
     "name": "stderr",
     "output_type": "stream",
     "text": [
      "      content: 558: अंग्रेजी ओके 11.1 \n",
      "      content: 559: अंग्रेजी ओके 11.2 \n",
      "      content: 560: अंग्रेजी ओके 11.3 \n"
     ]
    },
    {
     "name": "stdout",
     "output_type": "stream",
     "text": [
      "      in on_lesson_page http://www.prathamopenschool.org/hn/Lesson/LES434\n"
     ]
    },
    {
     "name": "stderr",
     "output_type": "stream",
     "text": [
      "      content: 561: अंग्रेजी ओके 12.1 \n",
      "      content: 562: अंग्रेजी ओके 12.2 \n",
      "      content: 563: अंग्रेजी ओके 12.3 \n"
     ]
    },
    {
     "name": "stdout",
     "output_type": "stream",
     "text": [
      "      in on_lesson_page http://www.prathamopenschool.org/hn/Lesson/LES435\n"
     ]
    },
    {
     "name": "stderr",
     "output_type": "stream",
     "text": [
      "      content: 564: अंग्रेजी ओके 13.1 \n",
      "      content: 565: अंग्रेजी ओके 13.2 \n",
      "      content: 566: अंग्रेजी ओके 13.3 \n"
     ]
    },
    {
     "name": "stdout",
     "output_type": "stream",
     "text": [
      "      in on_lesson_page http://www.prathamopenschool.org/hn/Lesson/LES436\n"
     ]
    },
    {
     "name": "stderr",
     "output_type": "stream",
     "text": [
      "      content: 601: क्या है भोजन और हैं क्या इसके काम? 6/19/2015 5:55:00 PM\n",
      "      content: 621: भोजन और उसके कार्य 6/19/2015 5:55:00 PM\n"
     ]
    },
    {
     "name": "stdout",
     "output_type": "stream",
     "text": [
      "      in on_lesson_page http://www.prathamopenschool.org/hn/Lesson/LES301\n"
     ]
    },
    {
     "name": "stderr",
     "output_type": "stream",
     "text": [
      "      content: 602: कौनसा भोजन देता है हमे बल? 6/19/2015 5:55:00 PM\n",
      "      content: 622: बल देने वाले भोजन 6/19/2015 5:55:00 PM\n"
     ]
    },
    {
     "name": "stdout",
     "output_type": "stream",
     "text": [
      "      in on_lesson_page http://www.prathamopenschool.org/hn/Lesson/LES302\n"
     ]
    },
    {
     "name": "stderr",
     "output_type": "stream",
     "text": [
      "      content: 603: कौनसा भोजन करता है बढ़त में मदद? 6/19/2015 5:55:00 PM\n",
      "      content: 623: बढ़त में मदद करने वाले भोजन 6/19/2015 5:55:00 PM\n"
     ]
    },
    {
     "name": "stdout",
     "output_type": "stream",
     "text": [
      "      in on_lesson_page http://www.prathamopenschool.org/hn/Lesson/LES303\n"
     ]
    },
    {
     "name": "stderr",
     "output_type": "stream",
     "text": [
      "      content: 604: कौनसा भोजन करता है हमारा बचाव? 6/19/2015 5:55:00 PM\n",
      "      content: 624: बचाव करने वाले भोजन 6/19/2015 5:55:00 PM\n"
     ]
    },
    {
     "name": "stdout",
     "output_type": "stream",
     "text": [
      "      in on_lesson_page http://www.prathamopenschool.org/hn/Lesson/LES304\n"
     ]
    },
    {
     "name": "stderr",
     "output_type": "stream",
     "text": [
      "      content: 605: संतुलित आहार है क्या? 6/19/2015 5:55:00 PM\n",
      "      content: 625: संतुलित आहार 6/19/2015 5:55:00 PM\n",
      "      content: 139: संतुलित आहार \n"
     ]
    },
    {
     "name": "stdout",
     "output_type": "stream",
     "text": [
      "      in on_lesson_page http://www.prathamopenschool.org/hn/Lesson/LES305\n"
     ]
    },
    {
     "name": "stderr",
     "output_type": "stream",
     "text": [
      "      content: 606: हमारे शरीर में भोजन करता है कैसे काम? 6/19/2015 5:55:00 PM\n",
      "      content: 626: पोषक तत्व 6/19/2015 5:55:00 PM\n"
     ]
    },
    {
     "name": "stdout",
     "output_type": "stream",
     "text": [
      "      in on_lesson_page http://www.prathamopenschool.org/hn/Lesson/LES306\n"
     ]
    },
    {
     "name": "stderr",
     "output_type": "stream",
     "text": [
      "      content: 607: कैसे पायें विटामिन ए की कमी से छुटकारा? 6/19/2015 5:55:00 PM\n",
      "      content: 627: विटामिन ए 6/19/2015 5:55:00 PM\n",
      "      content: 641: पोषक तत्वों का खेल 6/19/2015 5:55:00 PM\n"
     ]
    },
    {
     "name": "stdout",
     "output_type": "stream",
     "text": [
      "      in on_lesson_page http://www.prathamopenschool.org/hn/Lesson/LES307\n"
     ]
    },
    {
     "name": "stderr",
     "output_type": "stream",
     "text": [
      "      content: 608: कैसे पायें आयरन (लौह तत्व) की कमी से छुटकारा? 6/19/2015 5:55:00 PM\n",
      "      content: 641: पोषक तत्वों का खेल 6/19/2015 5:55:00 PM\n"
     ]
    },
    {
     "name": "stdout",
     "output_type": "stream",
     "text": [
      "      in on_lesson_page http://www.prathamopenschool.org/hn/Lesson/LES308\n"
     ]
    },
    {
     "name": "stderr",
     "output_type": "stream",
     "text": [
      "      content: 609: कैसे पायें आयोडीन की कमी से छुटकारा? 6/19/2015 5:55:00 PM\n",
      "      content: 629: आयोडीन 6/19/2015 5:55:00 PM\n",
      "      content: 641: पोषक तत्वों का खेल 6/19/2015 5:55:00 PM\n"
     ]
    },
    {
     "name": "stdout",
     "output_type": "stream",
     "text": [
      "      in on_lesson_page http://www.prathamopenschool.org/hn/Lesson/LES309\n"
     ]
    },
    {
     "name": "stderr",
     "output_type": "stream",
     "text": [
      "      content: 610: दलिया मिश्रण 6/19/2015 5:55:00 PM\n",
      "      content: 611: गेंहू आहार मिश्रण 6/19/2015 5:55:00 PM\n",
      "      content: 612: गेंहू सोया मिश्रण 6/19/2015 5:55:00 PM\n",
      "      content: 613: गोला रोटी 6/19/2015 5:55:00 PM\n",
      "      content: 614: खिचड़ी 6/19/2015 5:55:00 PM\n",
      "      content: 615: सूजी का हलवा 6/19/2015 5:55:00 PM\n",
      "      content: 616: रवा दलिया 6/19/2015 5:55:00 PM\n",
      "      content: 617: मीठा दलिया 6/19/2015 5:55:00 PM\n",
      "      content: 630: दलिया मिश्रण 6/19/2015 5:55:00 PM\n",
      "      content: 631: गेंहू आहार मिश्रण 6/19/2015 5:55:00 PM\n",
      "      content: 632: गेंहू सोया मिश्रण 6/19/2015 5:55:00 PM\n",
      "      content: 633: गोला रोटी 6/19/2015 5:55:00 PM\n",
      "      content: 634: खिचड़ी 6/19/2015 5:55:00 PM\n",
      "      content: 635: सूजी का हलवा 6/19/2015 5:55:00 PM\n",
      "      content: 636: रवा दलिया 6/19/2015 5:55:00 PM\n",
      "      content: 637: मीठा दलिया 6/19/2015 5:55:00 PM\n"
     ]
    },
    {
     "name": "stdout",
     "output_type": "stream",
     "text": [
      "      in on_lesson_page http://www.prathamopenschool.org/hn/Lesson/LES310\n"
     ]
    },
    {
     "name": "stderr",
     "output_type": "stream",
     "text": [
      "      content: 479: हमारा कंकाल \n",
      "      content: 480: हमारे कंकाल के मुख्य भाग \n",
      "      content: 481: कैसे विकसित हुआ ये कंकाल? \n",
      "      content: 482: हमारी खोपड़ी \n",
      "      content: 483: जोड़ से जुड़े हम \n",
      "      content: 484: रीढ़ को जानें \n",
      "      content: 893: कंकाल की कलाबाज़ियाँ \n",
      "      content: 894: कब्ज़ों वाला आदमी \n",
      "      content: 1120: डॉ. हड्डी \n"
     ]
    },
    {
     "name": "stdout",
     "output_type": "stream",
     "text": [
      "      in on_lesson_page http://www.prathamopenschool.org/hn/Lesson/LES225\n"
     ]
    },
    {
     "name": "stderr",
     "output_type": "stream",
     "text": [
      "      content: 1589: रक्त परिचय \n",
      "      content: 1590: रक्त में होता क्या हैं ? \n",
      "      content: 1591: रक्त परिसंचरण तंत्र \n"
     ]
    },
    {
     "name": "stdout",
     "output_type": "stream",
     "text": [
      "      in on_lesson_page http://www.prathamopenschool.org/hn/Lesson/LES618\n"
     ]
    },
    {
     "name": "stderr",
     "output_type": "stream",
     "text": [
      "      content: 1528: सौरमंडल \n",
      "      content: 1529: अंतरिक्ष से पृथ्वी \n"
     ]
    },
    {
     "name": "stdout",
     "output_type": "stream",
     "text": [
      "      in on_lesson_page http://www.prathamopenschool.org/hn/Lesson/LES600\n"
     ]
    },
    {
     "name": "stderr",
     "output_type": "stream",
     "text": [
      "      content: 1531: नक्शे पर जगहों को ढूंढना \n",
      "      content: 1532: चलो समझे नक्शे को \n",
      "      content: 1533: समय समय की वात 1 \n",
      "      content: 1534: समय समय की वात 2 \n"
     ]
    },
    {
     "name": "stdout",
     "output_type": "stream",
     "text": [
      "      in on_lesson_page http://www.prathamopenschool.org/hn/Lesson/LES601\n"
     ]
    },
    {
     "name": "stderr",
     "output_type": "stream",
     "text": [
      "      content: 1535: रूप बदलती ऊर्जा \n",
      "      content: 1536: ऊर्जा से पहली मुलाकात \n",
      "      content: 1537: ऊर्जा परिवार \n"
     ]
    },
    {
     "name": "stdout",
     "output_type": "stream",
     "text": [
      "      in on_lesson_page http://www.prathamopenschool.org/hn/Lesson/LES602\n"
     ]
    },
    {
     "name": "stderr",
     "output_type": "stream",
     "text": [
      "      content: 1538: बिट्टूजी की मेहनत \n"
     ]
    },
    {
     "name": "stdout",
     "output_type": "stream",
     "text": [
      "      in on_lesson_page http://www.prathamopenschool.org/hn/Lesson/LES610\n"
     ]
    },
    {
     "name": "stderr",
     "output_type": "stream",
     "text": [
      "      content: 1347: विभिन्न प्रकार की गतियां \n",
      "      content: 1348: न्यूटन का पहला नियम - जडत्व \n",
      "      content: 1349: न्यूटन का गति का दूसरा नियम \n",
      "      content: 1350: न्यूटन का तीसरा नियम - क्रिया और प्रतिक्रिया \n",
      "      content: 1351: चाल और वेग \n",
      "      content: 1352: मोटर सायकल से सीखना भाग 1  \n",
      "      content: 1353: मोटर सायकल से सीखना भाग 2  \n",
      "      content: 1354: दौड \n",
      "      content: 1355: कौन डरता है...त्वरण से ? \n"
     ]
    },
    {
     "name": "stdout",
     "output_type": "stream",
     "text": [
      "      in on_lesson_page http://www.prathamopenschool.org/hn/Lesson/LES510\n"
     ]
    },
    {
     "name": "stderr",
     "output_type": "stream",
     "text": [
      "      content: 1357: बोलो भाई गैलिलियो ज़मीन पर पहले कौन? \n",
      "      content: 1358: बोलो भाई न्यूटन गेंद कहाँ गयी? \n",
      "      content: 1359: बोलो भाई न्यूटन स्पीड क्या होगी ?  \n",
      "      content: 1360: बोलो भाई न्यूटन जोर लगाके हैश्या ! \n",
      "      content: 1361: बोलो भाई न्यूटन अंडे का फंडा क्या है ? \n"
     ]
    },
    {
     "name": "stdout",
     "output_type": "stream",
     "text": [
      "      in on_lesson_page http://www.prathamopenschool.org/hn/Lesson/LES113\n"
     ]
    },
    {
     "name": "stderr",
     "output_type": "stream",
     "text": [
      "      content: 860: मात्राएँ और संख्याएँ भाग 1 \n",
      "      content: 861: मात्राएँ और संख्याएँ भाग 2 \n",
      "      content: 862: मात्राएँ और संख्याएँ भाग 3 \n",
      "      content: 863: मात्राएँ और संख्याएँ भाग 4 \n",
      "      content: 475: मात्राएँ और संख्याएँ भाग 5 \n",
      "      content: 476: ईमारत की ऊंचाई का अंदाजा \n",
      "      content: 477: खम्बे की ऊंचाई \n",
      "      content: 478: ढील \n"
     ]
    },
    {
     "name": "stdout",
     "output_type": "stream",
     "text": [
      "      in on_lesson_page http://www.prathamopenschool.org/hn/Lesson/LES224\n"
     ]
    },
    {
     "name": "stderr",
     "output_type": "stream",
     "text": [
      "      content: 1356: अणुओंकी संरचना  \n"
     ]
    },
    {
     "name": "stdout",
     "output_type": "stream",
     "text": [
      "      in on_lesson_page http://www.prathamopenschool.org/hn/Lesson/LES511\n"
     ]
    },
    {
     "name": "stderr",
     "output_type": "stream",
     "text": [
      "      content: 430: भार और द्रव्यमान भाग 1 \n",
      "      content: 431: भार और द्रव्यमान भाग 2 \n",
      "      content: 432: समय दूरी द्रव्यमान \n",
      "      content: 878: वज़न पहचाने \n",
      "      content: 314: हवाई द्रव्यमान \n",
      "      content: 311: अंतरिक्ष में द्रव्यमान और भार 1 \n",
      "      content: 312: अंतरिक्ष में द्रव्यमान त्वरित! \n",
      "      content: 313: अंतरिक्ष में द्रव्यमान बनाम भार \n",
      "      content: 310: अंतरिक्ष में द्रव्यमान और भार 2 \n"
     ]
    },
    {
     "name": "stdout",
     "output_type": "stream",
     "text": [
      "      in on_lesson_page http://www.prathamopenschool.org/hn/Lesson/LES110\n"
     ]
    },
    {
     "name": "stderr",
     "output_type": "stream",
     "text": [
      "      content: 434: पदार्थ घनत्व \n",
      "      content: 433: पदार्थ अवस्था \n",
      "      content: 895: कौनसी बाल्टी? \n"
     ]
    },
    {
     "name": "stdout",
     "output_type": "stream",
     "text": [
      "      in on_lesson_page http://www.prathamopenschool.org/hn/Lesson/LES111\n"
     ]
    },
    {
     "name": "stderr",
     "output_type": "stream",
     "text": [
      "      content: 420: प्रकाश का संचरण  \n",
      "      content: 366: एक पिंजडे़ में चिड़ियाँ \n",
      "      content: 370: पानी डालें सिक्का देखें \n",
      "      content: 368: गायब होते सिक्के \n",
      "      content: 365: अपने घर को प्रकाशित करे  \n",
      "      content: 1169: शीशाबाज़ी \n",
      "      content: 895: कौनसी बाल्टी? \n"
     ]
    },
    {
     "name": "stdout",
     "output_type": "stream",
     "text": [
      "      in on_lesson_page http://www.prathamopenschool.org/hn/Lesson/LES103\n"
     ]
    },
    {
     "name": "stderr",
     "output_type": "stream",
     "text": [
      "      content: 459: रंगीन दुनिया 1 \n",
      "      content: 460: रंगीन दुनिया 2 \n"
     ]
    },
    {
     "name": "stdout",
     "output_type": "stream",
     "text": [
      "      in on_lesson_page http://www.prathamopenschool.org/hn/Lesson/LES109\n"
     ]
    },
    {
     "name": "stderr",
     "output_type": "stream",
     "text": [
      "      content: 436: आंतरराष्ट्रीय प्रकाश वर्ष \n"
     ]
    },
    {
     "name": "stdout",
     "output_type": "stream",
     "text": [
      "      in on_lesson_page http://www.prathamopenschool.org/hn/Lesson/LES559\n"
     ]
    },
    {
     "name": "stderr",
     "output_type": "stream",
     "text": [
      "      content: 1413: परिचय \n"
     ]
    },
    {
     "name": "stdout",
     "output_type": "stream",
     "text": [
      "      in on_lesson_page http://www.prathamopenschool.org/hn/Lesson/LES539\n"
     ]
    },
    {
     "name": "stderr",
     "output_type": "stream",
     "text": [
      "      content: 1414: होटल के विभागों \n",
      "      content: 1415: होटल उद्योग \n",
      "      content: 1416: उद्योग विशेषज्ञ - ताज \n",
      "      content: 1417: उद्योग विशेषज्ञ 1 \n",
      "      content: 1418: उद्योग विशेषज्ञ 2 \n"
     ]
    },
    {
     "name": "stdout",
     "output_type": "stream",
     "text": [
      "      in on_lesson_page http://www.prathamopenschool.org/hn/Lesson/LES540\n"
     ]
    },
    {
     "name": "stderr",
     "output_type": "stream",
     "text": [
      "      content: 1419: मंगल और देवीदास की कहानी \n"
     ]
    },
    {
     "name": "stdout",
     "output_type": "stream",
     "text": [
      "      in on_lesson_page http://www.prathamopenschool.org/hn/Lesson/LES541\n"
     ]
    },
    {
     "name": "stderr",
     "output_type": "stream",
     "text": [
      "      content: 1420: खाद्य और पेय सिलेबस \n"
     ]
    },
    {
     "name": "stdout",
     "output_type": "stream",
     "text": [
      "      in on_lesson_page http://www.prathamopenschool.org/hn/Lesson/LES542\n"
     ]
    },
    {
     "name": "stderr",
     "output_type": "stream",
     "text": [
      "      content: 1421: रात का खाना \n",
      "      content: 1422: टेबल सेट अप \n",
      "      content: 1423: टेबल सेट अप \n"
     ]
    },
    {
     "name": "stdout",
     "output_type": "stream",
     "text": [
      "      in on_lesson_page http://www.prathamopenschool.org/hn/Lesson/LES543\n"
     ]
    },
    {
     "name": "stderr",
     "output_type": "stream",
     "text": [
      "      content: 1424: फूड प्रोडक्शन सिलेबस \n"
     ]
    },
    {
     "name": "stdout",
     "output_type": "stream",
     "text": [
      "      in on_lesson_page http://www.prathamopenschool.org/hn/Lesson/LES544\n"
     ]
    },
    {
     "name": "stderr",
     "output_type": "stream",
     "text": [
      "      content: 1425: बन्स पकाने की विधि \n",
      "      content: 1426: सब्जी कश पकाने की विधि \n",
      "      content: 1427: केक सजावट \n",
      "      content: 1428: ब्रेड रोल पकाने की विधि \n",
      "      content: 1429: मफ़िन पकाने की विध \n"
     ]
    },
    {
     "name": "stdout",
     "output_type": "stream",
     "text": [
      "      in on_lesson_page http://www.prathamopenschool.org/hn/Lesson/LES545\n"
     ]
    },
    {
     "name": "stderr",
     "output_type": "stream",
     "text": [
      "      content: 1430: हाउसकीपिंग सिलेबस \n"
     ]
    },
    {
     "name": "stdout",
     "output_type": "stream",
     "text": [
      "      in on_lesson_page http://www.prathamopenschool.org/hn/Lesson/LES546\n"
     ]
    },
    {
     "name": "stderr",
     "output_type": "stream",
     "text": [
      "      content: 1431: इन-हाउस सफाई उपकरण \n",
      "      content: 1432: आउटडोर सफाई उपकरण \n",
      "      content: 1433: बिस्तर बनाने \n",
      "      content: 1434: फर्श की सफाई \n",
      "      content: 1435: अतिथि कक्ष सफाई \n",
      "      content: 1436: पींछ डालना \n",
      "      content: 1437: कमरे की व्यवस्था \n",
      "      content: 1438: बाथरूम की सफाई \n"
     ]
    },
    {
     "name": "stdout",
     "output_type": "stream",
     "text": [
      "      in on_lesson_page http://www.prathamopenschool.org/hn/Lesson/LES547\n"
     ]
    },
    {
     "name": "stderr",
     "output_type": "stream",
     "text": [
      "      content: 1447: निर्माण उद्योग के लिए परिचय \n"
     ]
    },
    {
     "name": "stdout",
     "output_type": "stream",
     "text": [
      "      in on_lesson_page http://www.prathamopenschool.org/hn/Lesson/LES553\n"
     ]
    },
    {
     "name": "stderr",
     "output_type": "stream",
     "text": [
      "      content: 1448: ऑटोमोबाइल उद्योग के लिए परिचय \n"
     ]
    },
    {
     "name": "stdout",
     "output_type": "stream",
     "text": [
      "      in on_lesson_page http://www.prathamopenschool.org/hn/Lesson/LES554\n"
     ]
    },
    {
     "name": "stderr",
     "output_type": "stream",
     "text": [
      "      content: 1449: ऑटोमोबाइल सिलेबस \n"
     ]
    },
    {
     "name": "stdout",
     "output_type": "stream",
     "text": [
      "      in on_lesson_page http://www.prathamopenschool.org/hn/Lesson/LES555\n"
     ]
    },
    {
     "name": "stderr",
     "output_type": "stream",
     "text": [
      "      content: 1439: उद्योग के बारे में \n"
     ]
    },
    {
     "name": "stdout",
     "output_type": "stream",
     "text": [
      "      in on_lesson_page http://www.prathamopenschool.org/hn/Lesson/LES548\n"
     ]
    },
    {
     "name": "stderr",
     "output_type": "stream",
     "text": [
      "      content: 1440: धर्म की कहानी \n"
     ]
    },
    {
     "name": "stdout",
     "output_type": "stream",
     "text": [
      "      in on_lesson_page http://www.prathamopenschool.org/hn/Lesson/LES549\n"
     ]
    },
    {
     "name": "stderr",
     "output_type": "stream",
     "text": [
      "      content: 1450: संघमित्रा की कहानी \n"
     ]
    },
    {
     "name": "stdout",
     "output_type": "stream",
     "text": [
      "      in on_lesson_page http://www.prathamopenschool.org/hn/Lesson/LES556\n"
     ]
    },
    {
     "name": "stderr",
     "output_type": "stream",
     "text": [
      "      content: 1451: थ्रेडिंग सीखना \n"
     ]
    },
    {
     "name": "stdout",
     "output_type": "stream",
     "text": [
      "      in on_lesson_page http://www.prathamopenschool.org/hn/Lesson/LES557\n"
     ]
    },
    {
     "name": "stderr",
     "output_type": "stream",
     "text": [
      "      content: 1441: बेडसाइड सहायक \n"
     ]
    },
    {
     "name": "stdout",
     "output_type": "stream",
     "text": [
      "      in on_lesson_page http://www.prathamopenschool.org/hn/Lesson/LES550\n"
     ]
    },
    {
     "name": "stderr",
     "output_type": "stream",
     "text": [
      "      content: 1442: हाथ धोना \n",
      "      content: 1443: बिस्तर बनाने \n",
      "      content: 1444: ऑटो क्लेव \n",
      "      content: 1445: तापमान \n"
     ]
    },
    {
     "name": "stdout",
     "output_type": "stream",
     "text": [
      "      in on_lesson_page http://www.prathamopenschool.org/hn/Lesson/LES551\n"
     ]
    },
    {
     "name": "stderr",
     "output_type": "stream",
     "text": [
      "      content: 1446: एक बिस्तर सहायक की कहानी \n"
     ]
    },
    {
     "name": "stdout",
     "output_type": "stream",
     "text": [
      "      in on_lesson_page http://www.prathamopenschool.org/hn/Lesson/LES552\n"
     ]
    },
    {
     "name": "stderr",
     "output_type": "stream",
     "text": [
      "      content: 1392: धातुओं, अधातुओं की प्रतिक्रिया  \n"
     ]
    },
    {
     "name": "stdout",
     "output_type": "stream",
     "text": [
      "      in on_lesson_page http://www.prathamopenschool.org/hn/Lesson/LES527\n"
     ]
    },
    {
     "name": "stderr",
     "output_type": "stream",
     "text": [
      "      content: 1393: कार्बनीकरण \n",
      "      content: 1394: पेट्रोलियम, प्राकृतिक गैस-निर्माण  \n",
      "      content: 1395: उससे कितना लंबा \n"
     ]
    },
    {
     "name": "stdout",
     "output_type": "stream",
     "text": [
      "      in on_lesson_page http://www.prathamopenschool.org/hn/Lesson/LES528\n"
     ]
    },
    {
     "name": "stderr",
     "output_type": "stream",
     "text": [
      "      content: 1396: जंगल का पहरा  \n"
     ]
    },
    {
     "name": "stdout",
     "output_type": "stream",
     "text": [
      "      in on_lesson_page http://www.prathamopenschool.org/hn/Lesson/LES529\n"
     ]
    },
    {
     "name": "stderr",
     "output_type": "stream",
     "text": [
      "      content: 1397: एककोशिय, बहुकोशिय जीव   \n"
     ]
    },
    {
     "name": "stdout",
     "output_type": "stream",
     "text": [
      "      in on_lesson_page http://www.prathamopenschool.org/hn/Lesson/LES530\n"
     ]
    },
    {
     "name": "stderr",
     "output_type": "stream",
     "text": [
      "      content: 1398: मादा प्रजनन तंत्र   \n",
      "      content: 1399: भ्रूण का गर्भाधान  \n",
      "      content: 1400: हाइड्रा \n",
      "      content: 1401: नर प्रजनन तंत्र \n",
      "      content: 1402: रूपांतरण  \n"
     ]
    },
    {
     "name": "stdout",
     "output_type": "stream",
     "text": [
      "      in on_lesson_page http://www.prathamopenschool.org/hn/Lesson/LES531\n"
     ]
    },
    {
     "name": "stderr",
     "output_type": "stream",
     "text": [
      "      content: 1403: प्रजनन अवस्था  \n",
      "      content: 1404: किशोरावस्था \n"
     ]
    },
    {
     "name": "stdout",
     "output_type": "stream",
     "text": [
      "      in on_lesson_page http://www.prathamopenschool.org/hn/Lesson/LES532\n"
     ]
    },
    {
     "name": "stderr",
     "output_type": "stream",
     "text": [
      "      content: 1405: घर्षण के प्रकार  \n"
     ]
    },
    {
     "name": "stdout",
     "output_type": "stream",
     "text": [
      "      in on_lesson_page http://www.prathamopenschool.org/hn/Lesson/LES533\n"
     ]
    },
    {
     "name": "stderr",
     "output_type": "stream",
     "text": [
      "      content: 1406: इसे चमकदार बनाएं \n"
     ]
    },
    {
     "name": "stdout",
     "output_type": "stream",
     "text": [
      "      in on_lesson_page http://www.prathamopenschool.org/hn/Lesson/LES534\n"
     ]
    },
    {
     "name": "stderr",
     "output_type": "stream",
     "text": [
      "      content: 1407: बिजली चमकना  \n"
     ]
    },
    {
     "name": "stdout",
     "output_type": "stream",
     "text": [
      "      in on_lesson_page http://www.prathamopenschool.org/hn/Lesson/LES535\n"
     ]
    },
    {
     "name": "stderr",
     "output_type": "stream",
     "text": [
      "      content: 1408: जल ही जीवन  \n"
     ]
    },
    {
     "name": "stdout",
     "output_type": "stream",
     "text": [
      "      in on_lesson_page http://www.prathamopenschool.org/hn/Lesson/LES536\n"
     ]
    },
    {
     "name": "stderr",
     "output_type": "stream",
     "text": [
      "      content: 1370: वर्गों की गणना  \n",
      "      content: 1371: वर्ग संख्याओं में पैटर्न   \n",
      "      content: 1372: वर्ग संख्याओं के गुण \n",
      "      content: 1373: संख्या का वर्गमूल \n"
     ]
    },
    {
     "name": "stdout",
     "output_type": "stream",
     "text": [
      "      in on_lesson_page http://www.prathamopenschool.org/hn/Lesson/LES517\n"
     ]
    },
    {
     "name": "stderr",
     "output_type": "stream",
     "text": [
      "      content: 1374: संख्या का घनमूल \n",
      "      content: 1375: घन संख्या या पूर्ण घन  \n",
      "      content: 1376: घन क्या होते है  \n",
      "      content: 1377: चक्रवृद्धि की ताकत  \n",
      "      content: 1378: छूट की गणना करना  \n"
     ]
    },
    {
     "name": "stdout",
     "output_type": "stream",
     "text": [
      "      in on_lesson_page http://www.prathamopenschool.org/hn/Lesson/LES518\n"
     ]
    },
    {
     "name": "stderr",
     "output_type": "stream",
     "text": [
      "      content: 1379: बीजीय पदों का गुणा \n",
      "      content: 1380: बीजगणित का जादूगर \n"
     ]
    },
    {
     "name": "stdout",
     "output_type": "stream",
     "text": [
      "      in on_lesson_page http://www.prathamopenschool.org/hn/Lesson/LES519\n"
     ]
    },
    {
     "name": "stderr",
     "output_type": "stream",
     "text": [
      "      content: 1381: पृष्ठीय क्षेत्रफल \n",
      "      content: 1382: आयतन \n"
     ]
    },
    {
     "name": "stdout",
     "output_type": "stream",
     "text": [
      "      in on_lesson_page http://www.prathamopenschool.org/hn/Lesson/LES520\n"
     ]
    },
    {
     "name": "stderr",
     "output_type": "stream",
     "text": [
      "      content: 1383: विस्तारित रूप और घातांक  \n",
      "      content: 1384: मानक रूप में संख्या  \n",
      "      content: 1385: घातांकों के नियम \n"
     ]
    },
    {
     "name": "stdout",
     "output_type": "stream",
     "text": [
      "      in on_lesson_page http://www.prathamopenschool.org/hn/Lesson/LES521\n"
     ]
    },
    {
     "name": "stderr",
     "output_type": "stream",
     "text": [
      "      content: 1386: समानुपाती  \n",
      "      content: 1387: व्युत्क्रमानुपाती \n"
     ]
    },
    {
     "name": "stdout",
     "output_type": "stream",
     "text": [
      "      in on_lesson_page http://www.prathamopenschool.org/hn/Lesson/LES522\n"
     ]
    },
    {
     "name": "stderr",
     "output_type": "stream",
     "text": [
      "      content: 1388: बीजीय व्यंजकों का भाग  \n"
     ]
    },
    {
     "name": "stdout",
     "output_type": "stream",
     "text": [
      "      in on_lesson_page http://www.prathamopenschool.org/hn/Lesson/LES523\n"
     ]
    },
    {
     "name": "stderr",
     "output_type": "stream",
     "text": [
      "      content: 1389: बीजीय व्यंजकों का गुणनखंड  \n"
     ]
    },
    {
     "name": "stdout",
     "output_type": "stream",
     "text": [
      "      in on_lesson_page http://www.prathamopenschool.org/hn/Lesson/LES524\n"
     ]
    },
    {
     "name": "stderr",
     "output_type": "stream",
     "text": [
      "      content: 1390: आलेख से परिचय  \n"
     ]
    },
    {
     "name": "stdout",
     "output_type": "stream",
     "text": [
      "      in on_lesson_page http://www.prathamopenschool.org/hn/Lesson/LES525\n"
     ]
    },
    {
     "name": "stderr",
     "output_type": "stream",
     "text": [
      "      content: 1391: 1089  गणित के ट्रिक  \n"
     ]
    },
    {
     "name": "stdout",
     "output_type": "stream",
     "text": [
      "      in on_lesson_page http://www.prathamopenschool.org/hn/Lesson/LES526\n",
      "\n",
      "\n",
      "\n",
      "\n",
      "################################################################################\n",
      "# CRAWLER RECOMMENDATIONS BASED ON URLS ENCOUNTERED:\n",
      "################################################################################\n",
      "\n",
      "1. These URLs are very common and look like global navigation links:\n",
      "\n",
      "2. These are common path fragments found in URLs paths, so could correspond to site struture:\n",
      "  -  434 urls on site start with  /CourseContent\n",
      "  -  148 urls on site start with  /hn\n",
      "\n",
      "\n",
      "################################################################################\n",
      "\n",
      "\n",
      "\n"
     ]
    }
   ],
   "source": [
    "web_resource_tree = crawler.crawl()"
   ]
  },
  {
   "cell_type": "code",
   "execution_count": 4,
   "metadata": {
    "scrolled": true
   },
   "outputs": [],
   "source": [
    "# web_resource_tree"
   ]
  },
  {
   "cell_type": "code",
   "execution_count": 3,
   "metadata": {
    "scrolled": false
   },
   "outputs": [
    {
     "name": "stdout",
     "output_type": "stream",
     "text": [
      "     - path: /hn/  (lang_page) \n",
      "       children:\n",
      "        - path: /hn/Course/Mathematics  (topic_page) \n",
      "          children:\n",
      "           - path: /hn/Course/Mathematics/CRS17  (subtopic_page) \n",
      "             children:\n",
      "              - path: /hn/Lesson/LES55  (lesson_page) \n",
      "                children:\n",
      "                 - path: /CourseContent/Mathematics/Videos/h_triangle_types.mp4  (PrathamVideoResource) \n",
      "                 - path: /CourseContent/Mathematics/Videos/h_triangle_fun.mp4  (PrathamVideoResource) \n",
      "                 - path: /CourseContent/Mathematics/Read/Hindi/Reading Cards 7 - H.pdf  (PrathamPdfResource) \n",
      "                 - path: /CourseContent/Mathematics/Read/Hindi/Reading Cards 6 - H.pdf  (PrathamPdfResource) \n",
      "                 - path: /CourseContent/Mathematics/Read/Hindi/Reading Cards 8 - H.pdf  (PrathamPdfResource) \n",
      "                 - path: /CourseContent/Games/Mathematics.zip  (PrathamZipResource) \n",
      "                 - path: /CourseContent/Games/Mathematics.zip  (PrathamZipResource) \n",
      "              - path: /hn/Lesson/LES56  (lesson_page) \n",
      "                children:\n",
      "                 - path: /CourseContent/Mathematics/Read/Hindi/Reading Cards 5 - H.pdf  (PrathamPdfResource) \n",
      "                 - path: /CourseContent/Mathematics/Videos/h_angle.mp4  (PrathamVideoResource) \n",
      "                 - path: /CourseContent/Games/Mathematics.zip  (PrathamZipResource) \n",
      "                 - path: /CourseContent/Mathematics/Videos/h_angle_types.mp4  (PrathamVideoResource) \n",
      "                 - path: /CourseContent/Games/Mathematics.zip  (PrathamZipResource) \n",
      "              - path: /hn/Lesson/LES57  (lesson_page) \n",
      "                children:\n",
      "                 - path: /CourseContent/Mathematics/Videos/h_circle.mp4  (PrathamVideoResource) \n",
      "                 - path: /CourseContent/Games/Mathematics.zip  (PrathamZipResource) \n",
      "                 - path: /CourseContent/Mathematics/Read/Hindi/Reading Cards 9 - H.pdf  (PrathamPdfResource) \n",
      "                 - path: /CourseContent/Mathematics/Read/Hindi/Reading Cards 10 - H.pdf  (PrathamPdfResource) \n",
      "                 - path: /CourseContent/Games/Mathematics.zip  (PrathamZipResource) \n",
      "              - path: /hn/Lesson/LES58  (lesson_page) \n",
      "                children:\n",
      "                 - path: /CourseContent/Mathematics/Videos/h_perimeter.mp4  (PrathamVideoResource) \n",
      "                 - path: /CourseContent/Games/Mathematics.zip  (PrathamZipResource) \n",
      "                 - path: /CourseContent/Games/Mathematics.zip  (PrathamZipResource) \n",
      "                 - path: /CourseContent/Games/Mathematics.zip  (PrathamZipResource) \n",
      "                 - path: /CourseContent/Games/Mathematics.zip  (PrathamZipResource) \n",
      "              - path: /hn/Lesson/LES74  (lesson_page) \n",
      "                children:\n",
      "                 - path: /CourseContent/Mathematics/geometry/hn/video/6_2.mp4  (PrathamVideoResource) \n",
      "              - path: /hn/Lesson/LES76  (lesson_page) \n",
      "                children:\n",
      "                 - path: /CourseContent/Mathematics/Videos/h_area.mp4  (PrathamVideoResource) \n",
      "                 - path: /CourseContent/Games/Mathematics.zip  (PrathamZipResource) \n",
      "                 - path: /CourseContent/Games/Mathematics.zip  (PrathamZipResource) \n",
      "           - path: /hn/Course/Mathematics/CRS98  (subtopic_page) \n",
      "             children:\n",
      "              - path: /hn/Lesson/LES603  (lesson_page) \n",
      "                children:\n",
      "                 - path: /CourseContent/Mathematics/Videos/h_interest_intro.mp4  (PrathamVideoResource) \n",
      "                 - path: /CourseContent/Mathematics/Videos/h_simple_interest.mp4  (PrathamVideoResource) \n",
      "                 - path: /CourseContent/Mathematics/Videos/h_simple_int_prob1.mp4  (PrathamVideoResource) \n",
      "           - path: /hn/Course/Mathematics/CRS99  (subtopic_page) \n",
      "             children:\n",
      "              - path: /hn/Lesson/LES604  (lesson_page) \n",
      "                children:\n",
      "                 - path: /CourseContent/Mathematics/Videos/h_squares_intro.mp4  (PrathamVideoResource) \n",
      "                 - path: /CourseContent/Mathematics/Videos/h_square_root.mp4  (PrathamVideoResource) \n",
      "                 - path: /CourseContent/Mathematics/Videos/h_square_fun.mp4  (PrathamVideoResource) \n",
      "                 - path: /CourseContent/Mathematics/Videos/h_triangular_square.mp4  (PrathamVideoResource) \n",
      "           - path: /hn/Course/Mathematics/CRS27  (subtopic_page) \n",
      "             children:\n",
      "              - path: /hn/Lesson/LES86  (lesson_page) \n",
      "                children:\n",
      "                 - path: /CourseContent/Mathematics/Multiples-Factors/hn/h_multiple1.mp4  (PrathamVideoResource) \n",
      "                 - path: /CourseContent/Mathematics/Multiples-Factors/hn/h_multiple2.mp4  (PrathamVideoResource) \n",
      "                 - path: /CourseContent/Games/Gunaj_Apvartya(Hindi).zip  (PrathamZipResource) \n",
      "                 - path: /CourseContent/Games/CricketGameVersionOne_H.zip  (PrathamZipResource) \n",
      "              - path: /hn/Lesson/LES87  (lesson_page) \n",
      "                children:\n",
      "                 - path: /CourseContent/Mathematics/Multiples-Factors/hn/h_factor1.mp4  (PrathamVideoResource) \n",
      "                 - path: /CourseContent/Mathematics/Multiples-Factors/hn/h_factor2.mp4  (PrathamVideoResource) \n",
      "                 - path: /CourseContent/Games/Gunankhand_Apvartak(Hindi).zip  (PrathamZipResource) \n",
      "                 - path: /CourseContent/Games/FactorsGameNew_H.zip  (PrathamZipResource) \n",
      "              - path: /hn/Lesson/LES88  (lesson_page) \n",
      "                children:\n",
      "                 - path: /CourseContent/Mathematics/Multiples-Factors/hn/h_hcf.mp4  (PrathamVideoResource) \n",
      "                 - path: /CourseContent/Mathematics/Multiples-Factors/hn/h_hcf_pf.mp4  (PrathamVideoResource) \n",
      "                 - path: /CourseContent/Games/M.S(Hindi).zip  (PrathamZipResource) \n",
      "                 - path: /CourseContent/Games/primeFactorsHindi.zip  (PrathamZipResource) \n",
      "                 - path: /CourseContent/Mathematics/Algebra/hn/video/h_prime_factor.mp4  (PrathamVideoResource) \n",
      "                 - path: /CourseContent/Games/MathsBucketGame_H.zip  (PrathamZipResource) \n",
      "              - path: /hn/Lesson/LES89  (lesson_page) \n",
      "                children:\n",
      "                 - path: /CourseContent/Mathematics/Multiples-Factors/hn/h_lcm.mp4  (PrathamVideoResource) \n",
      "                 - path: /CourseContent/Mathematics/Multiples-Factors/hn/h_lcm_pf.mp4  (PrathamVideoResource) \n",
      "                 - path: /CourseContent/Games/L.S(Hindi).zip  (PrathamZipResource) \n",
      "                 - path: /CourseContent/Games/primeFactorsHindi.zip  (PrathamZipResource) \n",
      "                 - path: /CourseContent/Mathematics/Algebra/hn/video/h_prime_factor.mp4  (PrathamVideoResource) \n",
      "                 - path: /CourseContent/Mathematics/Videos/h_lcm_train.mp4  (PrathamVideoResource) \n",
      "                 - path: /CourseContent/Games/MathsBucketGame_H.zip  (PrathamZipResource) \n",
      "              - path: /hn/Lesson/LES90  (lesson_page) \n",
      "                children:\n",
      "                 - path: /CourseContent/Mathematics/Multiples-Factors/hn/h_lcm_hcf_fun.mp4  (PrathamVideoResource) \n",
      "                 - path: /CourseContent/Games/L.S(Hindi).zip  (PrathamZipResource) \n",
      "                 - path: /CourseContent/Games/M.S(Hindi).zip  (PrathamZipResource) \n",
      "                 - path: /CourseContent/Games/MathsBucketGame_H.zip  (PrathamZipResource) \n",
      "              - path: /hn/Lesson/LES537  (lesson_page) \n",
      "                children:\n",
      "                 - path: /CourseContent/Mathematics/Videos/h_math_relations1.mp4  (PrathamVideoResource) \n",
      "                 - path: /CourseContent/Mathematics/Videos/h_math_relations2.mp4  (PrathamVideoResource) \n",
      "           - path: /hn/Course/Mathematics/CRS82  (subtopic_page) \n",
      "             children:\n",
      "              - path: /hn/Lesson/LES509  (lesson_page) \n",
      "                children:\n",
      "                 - path: /CourseContent/Mathematics/Videos/h_fraction_addition.mp4  (PrathamVideoResource) \n",
      "                 - path: /CourseContent/Mathematics/Videos/h_fraction_subtraction.mp4  (PrathamVideoResource) \n",
      "                 - path: /CourseContent/Mathematics/Videos/h_fraction_multiplication1.mp4  (PrathamVideoResource) \n",
      "                 - path: /CourseContent/Mathematics/Videos/h_fraction_multiplication2.mp4  (PrathamVideoResource) \n",
      "              - path: /hn/Lesson/LES513  (lesson_page) \n",
      "                children:\n",
      "                 - path: /CourseContent/Mathematics/Videos/h_decimal_addition.mp4  (PrathamVideoResource) \n",
      "                 - path: /CourseContent/Mathematics/Videos/h_decimal_subtraction.mp4  (PrathamVideoResource) \n",
      "              - path: /hn/Lesson/LES514  (lesson_page) \n",
      "                children:\n",
      "                 - path: /CourseContent/Mathematics/Videos/h_decimal.mp4  (PrathamVideoResource) \n",
      "                 - path: /CourseContent/Games/Mathematics.zip  (PrathamZipResource) \n",
      "                 - path: /CourseContent/Mathematics/Read/Hindi/Reading Cards 4 - H.pdf  (PrathamPdfResource) \n",
      "                 - path: /CourseContent/Mathematics/Videos/h_decimal_fraction.mp4  (PrathamVideoResource) \n",
      "                 - path: /CourseContent/Mathematics/Videos/h_fraction_decimal.mp4  (PrathamVideoResource) \n",
      "              - path: /hn/Lesson/LES515  (lesson_page) \n",
      "                children:\n",
      "                 - path: /CourseContent/Mathematics/Videos/h_percent.mp4  (PrathamVideoResource) \n",
      "                 - path: /CourseContent/Mathematics/Videos/h_percent_fraction.mp4  (PrathamVideoResource) \n",
      "                 - path: /CourseContent/Mathematics/Videos/h_fraction_percent.mp4  (PrathamVideoResource) \n",
      "              - path: /hn/Lesson/LES112  (lesson_page) \n",
      "                children:\n",
      "                 - path: /CourseContent/Mathematics/Videos/h_fraction.mp4  (PrathamVideoResource) \n",
      "                 - path: /CourseContent/Mathematics/Videos/h_fraction_compare.mp4  (PrathamVideoResource) \n",
      "                 - path: /CourseContent/Mathematics/Algebra/hn/video/h_equivalent_fraction.mp4  (PrathamVideoResource) \n",
      "                 - path: /CourseContent/Games/newFractionGame_H.zip  (PrathamZipResource) \n",
      "                 - path: /CourseContent/Mathematics/Videos/h_fraction_types.mp4  (PrathamVideoResource) \n",
      "                 - path: /CourseContent/Mathematics/Videos/h_fraction_lowest.mp4  (PrathamVideoResource) \n",
      "                 - path: /CourseContent/Mathematics/Videos/h_improper_mixed.mp4  (PrathamVideoResource) \n",
      "           - path: /hn/Course/Mathematics/CRS41  (subtopic_page) \n",
      "             children:\n",
      "              - path: /hn/Lesson/LES107  (lesson_page) \n",
      "                children:\n",
      "                 - path: /CourseContent/Science/Videos/h_quantityNmeasure1.mp4  (PrathamVideoResource) \n",
      "                 - path: /CourseContent/Science/Videos/h_quantityNmeasure2.mp4  (PrathamVideoResource) \n",
      "                 - path: /CourseContent/Science/Videos/h_quantityNmeasure3.mp4  (PrathamVideoResource) \n",
      "                 - path: /CourseContent/Science/Videos/h_quantityNmeasure4.mp4  (PrathamVideoResource) \n",
      "           - path: /hn/Course/Mathematics/CRS24  (subtopic_page) \n",
      "             children:\n",
      "              - path: /hn/Lesson/LES75  (lesson_page) \n",
      "                children:\n",
      "                 - path: /CourseContent/Mathematics/Algebra/hn/video/3.mp4  (PrathamVideoResource) \n",
      "                 - path: /CourseContent/Games/Mathematics.zip  (PrathamZipResource) \n",
      "                 - path: /CourseContent/Mathematics/Read/Hindi/Reading Cards 2 - H.pdf  (PrathamPdfResource) \n",
      "                 - path: /CourseContent/Mathematics/Algebra/hn/video/h_percent_mental.mp4  (PrathamVideoResource) \n",
      "           - path: /hn/Course/Mathematics/CRS21  (subtopic_page) \n",
      "             children:\n",
      "              - path: /hn/Lesson/LES85  (lesson_page) \n",
      "                children:\n",
      "                 - path: /CourseContent/Mathematics/Algebra/hn/video/h_algebra_intro1.mp4  (PrathamVideoResource) \n",
      "                 - path: /CourseContent/Mathematics/Algebra/hn/video/h_algebra_intro2.mp4  (PrathamVideoResource) \n",
      "           - path: /hn/Course/Mathematics/CRS40  (subtopic_page) \n",
      "             children:\n",
      "              - path: /hn/Lesson/LES100  (lesson_page) \n",
      "                children:\n",
      "                 - path: /CourseContent/Mathematics/Decimals/hn/video/h_decimal_to_fraction.mp4  (PrathamVideoResource) \n",
      "                 - path: /CourseContent/Mathematics/Decimals/hn/video/h_dividing_decimal2.mp4  (PrathamVideoResource) \n",
      "                 - path: /CourseContent/Games/PlaceValueHindi.zip  (PrathamZipResource) \n",
      "                 - path: /CourseContent/Mathematics/Read/Hindi/Reading Cards 4 - H.pdf  (PrathamPdfResource) \n",
      "                 - path: /CourseContent/Games/Mathematics.zip  (PrathamZipResource) \n",
      "                 - path: /CourseContent/Mathematics/Videos/h_decimal.mp4  (PrathamVideoResource) \n",
      "                 - path: /CourseContent/Mathematics/Videos/h_decimal_compare.mp4  (PrathamVideoResource) \n",
      "              - path: /hn/Lesson/LES101  (lesson_page) \n",
      "                children:\n",
      "                 - path: /CourseContent/Mathematics/Decimals/hn/video/h_decimal_addition.mp4  (PrathamVideoResource) \n",
      "                 - path: /CourseContent/Mathematics/Decimals/hn/video/h_decimal_subtraction.mp4  (PrathamVideoResource) \n",
      "        - path: /hn/Course/English  (topic_page) \n",
      "          children:\n",
      "           - path: /hn/Course/English/CRS34  (subtopic_page) \n",
      "             children:\n",
      "              - path: /hn/Lesson/LES405  (lesson_page) \n",
      "                children:\n",
      "                 - path: /CourseContent/English/Watch/1.1.mp4  (PrathamVideoResource) \n",
      "                 - path: /CourseContent/English/Watch/1.2.mp4  (PrathamVideoResource) \n",
      "                 - path: /CourseContent/English/Watch/1.3.mp4  (PrathamVideoResource) \n",
      "                 - path: /CourseContent/English/Watch/1.4.mp4  (PrathamVideoResource) \n",
      "                 - path: /CourseContent/English/Watch/1.5.mp4  (PrathamVideoResource) \n",
      "                 - path: /CourseContent/English/Watch/1.6.mp4  (PrathamVideoResource) \n",
      "                 - path: /CourseContent/English/Watch/1.7.mp4  (PrathamVideoResource) \n",
      "                 - path: /CourseContent/Games/TranslateHindiEnglish.zip  (PrathamZipResource) \n",
      "                 - path: /CourseContent/Games/matchWords_H.zip  (PrathamZipResource) \n",
      "              - path: /hn/Lesson/LES406  (lesson_page) \n",
      "                children:\n",
      "                 - path: /CourseContent/English/Watch/2.1.mp4  (PrathamVideoResource) \n",
      "                 - path: /CourseContent/English/Watch/2.2.mp4  (PrathamVideoResource) \n",
      "                 - path: /CourseContent/English/Watch/2.3.mp4  (PrathamVideoResource) \n",
      "                 - path: /CourseContent/English/Watch/2.4.mp4  (PrathamVideoResource) \n",
      "                 - path: /CourseContent/English/Watch/2.5.mp4  (PrathamVideoResource) \n",
      "                 - path: /CourseContent/Games/TranslateHindiEnglishLevel2.zip  (PrathamZipResource) \n",
      "              - path: /hn/Lesson/LES407  (lesson_page) \n",
      "                children:\n",
      "                 - path: /CourseContent/English/Watch/3.1.mp4  (PrathamVideoResource) \n",
      "                 - path: /CourseContent/English/Watch/3.2.mp4  (PrathamVideoResource) \n",
      "                 - path: /CourseContent/English/Watch/3.3.mp4  (PrathamVideoResource) \n",
      "                 - path: /CourseContent/English/Watch/3.4.mp4  (PrathamVideoResource) \n",
      "                 - path: /CourseContent/English/Watch/3.5.mp4  (PrathamVideoResource) \n",
      "                 - path: /CourseContent/English/Watch/3.6.mp4  (PrathamVideoResource) \n",
      "                 - path: /CourseContent/Games/TranslateHindiEnglishLevel3.zip  (PrathamZipResource) \n",
      "              - path: /hn/Lesson/LES408  (lesson_page) \n",
      "                children:\n",
      "                 - path: /CourseContent/English/Watch/4.1.mp4  (PrathamVideoResource) \n",
      "                 - path: /CourseContent/English/Watch/4.2.mp4  (PrathamVideoResource) \n",
      "                 - path: /CourseContent/English/Watch/4.3.mp4  (PrathamVideoResource) \n",
      "                 - path: /CourseContent/English/Watch/4.4.mp4  (PrathamVideoResource) \n",
      "                 - path: /CourseContent/English/Watch/4.5.mp4  (PrathamVideoResource) \n",
      "                 - path: /CourseContent/English/Watch/4.6.mp4  (PrathamVideoResource) \n",
      "                 - path: /CourseContent/Games/TranslateHindiEnglishLevel4.zip  (PrathamZipResource) \n",
      "                 - path: /CourseContent/Games/Build-a-Sentence(English).zip  (PrathamZipResource) \n",
      "              - path: /hn/Lesson/LES442  (lesson_page) \n",
      "                children:\n",
      "                 - path: /CourseContent/English/Watch/5.1_Good_Morning.mp4  (PrathamVideoResource) \n",
      "                 - path: /CourseContent/English/Watch/5.2_On_the_way_to_school.mp4  (PrathamVideoResource) \n",
      "                 - path: /CourseContent/English/Watch/5.3_Time_Pass.mp4  (PrathamVideoResource) \n",
      "                 - path: /CourseContent/English/Watch/5.4_Birthdays_in_one_day.mp4  (PrathamVideoResource) \n",
      "                 - path: /CourseContent/English/Watch/5.5_Running_race.mp4  (PrathamVideoResource) \n",
      "                 - path: /CourseContent/English/Watch/5.6_Revision_Nishas_plans.mp4  (PrathamVideoResource) \n",
      "                 - path: /CourseContent/Games/matchWords_H.zip  (PrathamZipResource) \n",
      "              - path: /hn/Lesson/LES444  (lesson_page) \n",
      "                children:\n",
      "                 - path: /CourseContent/English/Watch/6.1_Shopping.mp4  (PrathamVideoResource) \n",
      "                 - path: /CourseContent/English/Watch/6.2_Ramu_kakas_shop.mp4  (PrathamVideoResource) \n",
      "                 - path: /CourseContent/English/Watch/6.3_Grocery_shopping.mp4  (PrathamVideoResource) \n",
      "                 - path: /CourseContent/English/Watch/6.4_Fashion_point-Garment_store.mp4  (PrathamVideoResource) \n",
      "                 - path: /CourseContent/English/Watch/6.5_Revision-Ramu_kakas_shop.mp4  (PrathamVideoResource) \n",
      "                 - path: /CourseContent/Games/vanishingSentenceGame_H.zip  (PrathamZipResource) \n",
      "              - path: /hn/Lesson/LES445  (lesson_page) \n",
      "                children:\n",
      "                 - path: /CourseContent/English/Watch/7.1_Story_Slection.mp4  (PrathamVideoResource) \n",
      "                 - path: /CourseContent/English/Watch/7.2_Big_plans_for_the_movie.mp4  (PrathamVideoResource) \n",
      "                 - path: /CourseContent/English/Watch/7.3_Deciding_the_roles.mp4  (PrathamVideoResource) \n",
      "                 - path: /CourseContent/English/Watch/7.4_Shooting.mp4  (PrathamVideoResource) \n",
      "              - path: /hn/Lesson/LES446  (lesson_page) \n",
      "                children:\n",
      "                 - path: /CourseContent/English/Watch/8.1_Wedding_News.mp4  (PrathamVideoResource) \n",
      "                 - path: /CourseContent/English/Watch/8.2_Inviting_my_friends.mp4  (PrathamVideoResource) \n",
      "                 - path: /CourseContent/English/Watch/8.3_Colorful_wedding_clothes.mp4  (PrathamVideoResource) \n",
      "                 - path: /CourseContent/English/Watch/8.4_Salma_didis_Party.mp4  (PrathamVideoResource) \n",
      "              - path: /hn/Lesson/LES447  (lesson_page) \n",
      "                children:\n",
      "                 - path: /CourseContent/English/Watch/9.01_Todays_news_with_Kavita.mp4  (PrathamVideoResource) \n",
      "                 - path: /CourseContent/English/Watch/9.02_My_friends_interview.mp4  (PrathamVideoResource) \n",
      "                 - path: /CourseContent/English/Watch/9.03_Mummys_interview.mp4  (PrathamVideoResource) \n",
      "              - path: /hn/Lesson/LES612  (lesson_page) \n",
      "                children:\n",
      "                 - path: /CourseContent/English/Watch/10.1_Oh_no_It’s_a_ghost.mp4  (PrathamVideoResource) \n",
      "                 - path: /CourseContent/English/Watch/10.2_Where_did_the_jalebi_go.mp4  (PrathamVideoResource) \n",
      "                 - path: /CourseContent/English/Watch/10.3_Rat_in_the_house.mp4  (PrathamVideoResource) \n",
      "                 - path: /CourseContent/English/Watch/10.4_Catch_the_rat.mp4  (PrathamVideoResource) \n",
      "                 - path: /CourseContent/English/Watch/10.5_The_rat_is_gone.mp4  (PrathamVideoResource) \n",
      "              - path: /hn/Lesson/LES613  (lesson_page) \n",
      "                children:\n",
      "                 - path: /CourseContent/English/Watch/11.1_Naughty_kid.mp4  (PrathamVideoResource) \n",
      "                 - path: /CourseContent/English/Watch/11.2_Call_Dr_Didi.mp4  (PrathamVideoResource) \n",
      "                 - path: /CourseContent/English/Watch/11.3_Yash_understands.mp4  (PrathamVideoResource) \n",
      "                 - path: /CourseContent/English/Watch/11.4_Young_Khalis.mp4  (PrathamVideoResource) \n",
      "                 - path: /CourseContent/English/Watch/11.5_Well_done.mp4  (PrathamVideoResource) \n",
      "              - path: /hn/Lesson/LES614  (lesson_page) \n",
      "                children:\n",
      "                 - path: /CourseContent/English/Watch/12.1_Tasty_sweets.mp4  (PrathamVideoResource) \n",
      "                 - path: /CourseContent/English/Watch/12.2_Stealing_Lata.mp4  (PrathamVideoResource) \n",
      "                 - path: /CourseContent/English/Watch/12.3_Where_is_Lata.mp4  (PrathamVideoResource) \n",
      "                 - path: /CourseContent/English/Watch/12.4_Welcome_Lata.mp4  (PrathamVideoResource) \n",
      "           - path: /hn/Course/English/CRS36  (subtopic_page) \n",
      "             children:\n",
      "              - path: /hn/Lesson/LES414  (lesson_page) \n",
      "                children:\n",
      "                 - path: /CourseContent/English/Watch/AngreziOkPlease/Angrezi Ok Please Ep 1-1.mp4  (PrathamVideoResource) \n",
      "                 - path: /CourseContent/English/Watch/AngreziOkPlease/Angrezi Ok Please Ep 1-2.mp4  (PrathamVideoResource) \n",
      "                 - path: /CourseContent/English/Watch/AngreziOkPlease/Angrezi Ok Please Ep 1-3.mp4  (PrathamVideoResource) \n",
      "              - path: /hn/Lesson/LES426  (lesson_page) \n",
      "                children:\n",
      "                 - path: /CourseContent/English/Watch/AngreziOkPlease/Angrezi Ok Please Ep 2-1.mp4  (PrathamVideoResource) \n",
      "                 - path: /CourseContent/English/Watch/AngreziOkPlease/Angrezi Ok Please Ep 2-2.mp4  (PrathamVideoResource) \n",
      "                 - path: /CourseContent/English/Watch/AngreziOkPlease/Angrezi Ok Please Ep 2-3.mp4  (PrathamVideoResource) \n",
      "              - path: /hn/Lesson/LES427  (lesson_page) \n",
      "                children:\n",
      "                 - path: /CourseContent/English/Watch/AngreziOkPlease/Angrezi Ok Please Ep 3-1.mp4  (PrathamVideoResource) \n",
      "                 - path: /CourseContent/English/Watch/AngreziOkPlease/Angrezi Ok Please Ep 3-2.mp4  (PrathamVideoResource) \n",
      "                 - path: /CourseContent/English/Watch/AngreziOkPlease/Angrezi Ok Please Ep 3-3.mp4  (PrathamVideoResource) \n",
      "              - path: /hn/Lesson/LES428  (lesson_page) \n",
      "                children:\n",
      "                 - path: /CourseContent/English/Watch/AngreziOkPlease/Angrezi Ok Please Ep 4-1.mp4  (PrathamVideoResource) \n",
      "                 - path: /CourseContent/English/Watch/AngreziOkPlease/Angrezi Ok Please Ep 4-2.mp4  (PrathamVideoResource) \n",
      "                 - path: /CourseContent/English/Watch/AngreziOkPlease/Angrezi Ok Please Ep 4-3.mp4  (PrathamVideoResource) \n",
      "              - path: /hn/Lesson/LES429  (lesson_page) \n",
      "                children:\n",
      "                 - path: /CourseContent/English/Watch/AngreziOkPlease/Angrezi Ok Please Ep 5-1.mp4  (PrathamVideoResource) \n",
      "                 - path: /CourseContent/English/Watch/AngreziOkPlease/Angrezi Ok Please Ep 5-2.mp4  (PrathamVideoResource) \n",
      "                 - path: /CourseContent/English/Watch/AngreziOkPlease/Angrezi Ok Please Ep 5-3.mp4  (PrathamVideoResource) \n",
      "              - path: /hn/Lesson/LES430  (lesson_page) \n",
      "                children:\n",
      "                 - path: /CourseContent/English/Watch/AngreziOkPlease/Angrezi Ok Please Ep 6-1.mp4  (PrathamVideoResource) \n",
      "                 - path: /CourseContent/English/Watch/AngreziOkPlease/Angrezi Ok Please Ep 6-2.mp4  (PrathamVideoResource) \n",
      "                 - path: /CourseContent/English/Watch/AngreziOkPlease/Angrezi Ok Please Ep 6-3.mp4  (PrathamVideoResource) \n",
      "              - path: /hn/Lesson/LES431  (lesson_page) \n",
      "                children:\n",
      "                 - path: /CourseContent/English/Watch/AngreziOkPlease/Angrezi Ok Please Ep 8-1.mp4  (PrathamVideoResource) \n",
      "                 - path: /CourseContent/English/Watch/AngreziOkPlease/Angrezi Ok Please Ep 8-2.mp4  (PrathamVideoResource) \n",
      "                 - path: /CourseContent/English/Watch/AngreziOkPlease/Angrezi Ok Please Ep 8-3.mp4  (PrathamVideoResource) \n",
      "              - path: /hn/Lesson/LES432  (lesson_page) \n",
      "                children:\n",
      "                 - path: /CourseContent/English/Watch/AngreziOkPlease/Angrezi Ok Please Ep 9-1.mp4  (PrathamVideoResource) \n",
      "                 - path: /CourseContent/English/Watch/AngreziOkPlease/Angrezi Ok Please Ep 9-2.mp4  (PrathamVideoResource) \n",
      "                 - path: /CourseContent/English/Watch/AngreziOkPlease/Angrezi Ok Please Ep 9-3.mp4  (PrathamVideoResource) \n",
      "              - path: /hn/Lesson/LES433  (lesson_page) \n",
      "                children:\n",
      "                 - path: /CourseContent/English/Watch/AngreziOkPlease/Angrezi Ok Please Ep 10-1.mp4  (PrathamVideoResource) \n",
      "                 - path: /CourseContent/English/Watch/AngreziOkPlease/Angrezi Ok Please Ep 10-2.mp4  (PrathamVideoResource) \n",
      "                 - path: /CourseContent/English/Watch/AngreziOkPlease/Angrezi Ok Please Ep 10-3.mp4  (PrathamVideoResource) \n",
      "              - path: /hn/Lesson/LES434  (lesson_page) \n",
      "                children:\n",
      "                 - path: /CourseContent/English/Watch/AngreziOkPlease/Angrezi Ok Please Ep 11-1.mp4  (PrathamVideoResource) \n",
      "                 - path: /CourseContent/English/Watch/AngreziOkPlease/Angrezi Ok Please Ep 11-2.mp4  (PrathamVideoResource) \n",
      "                 - path: /CourseContent/English/Watch/AngreziOkPlease/Angrezi Ok Please Ep 11-3.mp4  (PrathamVideoResource) \n",
      "              - path: /hn/Lesson/LES435  (lesson_page) \n",
      "                children:\n",
      "                 - path: /CourseContent/English/Watch/AngreziOkPlease/Angrezi Ok Please Ep 12-1.mp4  (PrathamVideoResource) \n",
      "                 - path: /CourseContent/English/Watch/AngreziOkPlease/Angrezi Ok Please Ep 12-2.mp4  (PrathamVideoResource) \n",
      "                 - path: /CourseContent/English/Watch/AngreziOkPlease/Angrezi Ok Please Ep 12-3.mp4  (PrathamVideoResource) \n",
      "              - path: /hn/Lesson/LES436  (lesson_page) \n",
      "                children:\n",
      "                 - path: /CourseContent/English/Watch/AngreziOkPlease/Angrezi Ok Please Ep 13-1.mp4  (PrathamVideoResource) \n",
      "                 - path: /CourseContent/English/Watch/AngreziOkPlease/Angrezi Ok Please Ep 13-2.mp4  (PrathamVideoResource) \n",
      "                 - path: /CourseContent/English/Watch/AngreziOkPlease/Angrezi Ok Please Ep 13-3.mp4  (PrathamVideoResource) \n",
      "        - path: /hn/Course/Health  (topic_page) \n",
      "          children:\n",
      "           - path: /hn/Course/Health/CRS28  (subtopic_page) \n",
      "             children:\n",
      "              - path: /hn/Lesson/LES301  (lesson_page) \n",
      "                children:\n",
      "                 - path: /CourseContent/UsefulTips/Diet/Watch/Hindi/kya_h_bhoja_or_kam_144.mp4  (PrathamVideoResource) \n",
      "                 - path: /CourseContent/UsefulTips/Diet/Read/Hindi/Food_groups_and_nutrients.pdf  (PrathamPdfResource) \n",
      "              - path: /hn/Lesson/LES302  (lesson_page) \n",
      "                children:\n",
      "                 - path: /CourseContent/UsefulTips/Diet/Watch/Hindi/bal_denevale_bhojan_816.mp4  (PrathamVideoResource) \n",
      "                 - path: /CourseContent/UsefulTips/Diet/Read/Hindi/bal_denevale_bhojan_282.pdf  (PrathamPdfResource) \n",
      "              - path: /hn/Lesson/LES303  (lesson_page) \n",
      "                children:\n",
      "                 - path: /CourseContent/UsefulTips/Diet/Watch/Hindi/badhatvale_bhijan.mp4  (PrathamVideoResource) \n",
      "                 - path: /CourseContent/UsefulTips/Diet/Read/Hindi/badhat_me_madat_karnevale_bhojan_750.pdf  (PrathamPdfResource) \n",
      "              - path: /hn/Lesson/LES304  (lesson_page) \n",
      "                children:\n",
      "                 - path: /CourseContent/UsefulTips/Diet/Watch/Hindi/bachav_karnevale_bhojan_929.mp4  (PrathamVideoResource) \n",
      "                 - path: /CourseContent/UsefulTips/Diet/Read/Hindi/bachav_karnevale_bhojan_747.pdf  (PrathamPdfResource) \n",
      "              - path: /hn/Lesson/LES305  (lesson_page) \n",
      "                children:\n",
      "                 - path: /CourseContent/UsefulTips/Diet/Watch/Hindi/santulit_aahar_29.mp4  (PrathamVideoResource) \n",
      "                 - path: /CourseContent/UsefulTips/Diet/Read/Hindi/santulit_ahar_825.pdf  (PrathamPdfResource) \n",
      "                 - path: /CourseContent/Games/sorting diet.zip  (PrathamZipResource) \n",
      "              - path: /hn/Lesson/LES306  (lesson_page) \n",
      "                children:\n",
      "                 - path: /CourseContent/UsefulTips/Diet/Watch/Hindi/sharir_me_bhojan_k_kam_25.mp4  (PrathamVideoResource) \n",
      "                 - path: /CourseContent/UsefulTips/Diet/Read/Hindi/poshak_tatva_623.pdf  (PrathamPdfResource) \n",
      "              - path: /hn/Lesson/LES307  (lesson_page) \n",
      "                children:\n",
      "                 - path: /CourseContent/UsefulTips/Diet/Watch/Hindi/vitamin_a_ki_kami_se_chhutakara_630.mp4  (PrathamVideoResource) \n",
      "                 - path: /CourseContent/UsefulTips/Diet/Read/Hindi/vitamin_a_215.pdf  (PrathamPdfResource) \n",
      "                 - path: /CourseContent/Games/DietQuiz(HindiVersion).zip  (PrathamZipResource) \n",
      "              - path: /hn/Lesson/LES308  (lesson_page) \n",
      "                children:\n",
      "                 - path: /CourseContent/UsefulTips/Diet/Watch/Hindi/iron_ki_kami_se_chhutkara_394.mp4  (PrathamVideoResource) \n",
      "                 - path: /CourseContent/Games/DietQuiz(HindiVersion).zip  (PrathamZipResource) \n",
      "              - path: /hn/Lesson/LES309  (lesson_page) \n",
      "                children:\n",
      "                 - path: /CourseContent/UsefulTips/Diet/Watch/Hindi/iodine_ke_kami_se_chhutka.mp4  (PrathamVideoResource) \n",
      "                 - path: /CourseContent/UsefulTips/Diet/Read/Hindi/Iodine_941.pdf  (PrathamPdfResource) \n",
      "                 - path: /CourseContent/Games/DietQuiz(HindiVersion).zip  (PrathamZipResource) \n",
      "              - path: /hn/Lesson/LES310  (lesson_page) \n",
      "                children:\n",
      "                 - path: /CourseContent/UsefulTips/Diet/Watch/Hindi/daliya_mishran.mp4  (PrathamVideoResource) \n",
      "                 - path: /CourseContent/UsefulTips/Diet/Watch/Hindi/gehu_aahar_mishran.mp4  (PrathamVideoResource) \n",
      "                 - path: /CourseContent/UsefulTips/Diet/Watch/Hindi/gehu_soya_mishran.mp4  (PrathamVideoResource) \n",
      "                 - path: /CourseContent/UsefulTips/Diet/Watch/Hindi/gola_roti.mp4  (PrathamVideoResource) \n",
      "                 - path: /CourseContent/UsefulTips/Diet/Watch/Hindi/khichadi.mp4  (PrathamVideoResource) \n",
      "                 - path: /CourseContent/UsefulTips/Diet/Watch/Hindi/suji_ka-halwa.mp4  (PrathamVideoResource) \n",
      "                 - path: /CourseContent/UsefulTips/Diet/Watch/Hindi/rava_daliya.mp4  (PrathamVideoResource) \n",
      "                 - path: /CourseContent/UsefulTips/Diet/Watch/Hindi/meetha_daliya.mp4  (PrathamVideoResource) \n",
      "                 - path: /CourseContent/UsefulTips/Diet/Read/Hindi/daliya_mishran.pdf  (PrathamPdfResource) \n",
      "                 - path: /CourseContent/UsefulTips/Diet/Read/Hindi/gehu_aahar_mishran.pdf  (PrathamPdfResource) \n",
      "                 - path: /CourseContent/UsefulTips/Diet/Read/Hindi/gehu_soya_mishran.pdf  (PrathamPdfResource) \n",
      "                 - path: /CourseContent/UsefulTips/Diet/Read/Hindi/gola_roti.pdf  (PrathamPdfResource) \n",
      "                 - path: /CourseContent/UsefulTips/Diet/Read/Hindi/khichadi.pdf  (PrathamPdfResource) \n",
      "                 - path: /CourseContent/UsefulTips/Diet/Read/Hindi/suji_ka_halwa.pdf  (PrathamPdfResource) \n",
      "                 - path: /CourseContent/UsefulTips/Diet/Read/Hindi/rava_daliya.pdf  (PrathamPdfResource) \n",
      "                 - path: /CourseContent/UsefulTips/Diet/Read/Hindi/meetha_daliya.pdf  (PrathamPdfResource) \n",
      "        - path: /hn/Course/Science  (topic_page) \n",
      "          children:\n",
      "           - path: /hn/Course/Science/CRS44  (subtopic_page) \n",
      "             children:\n",
      "              - path: /hn/Lesson/LES225  (lesson_page) \n",
      "                children:\n",
      "                 - path: /CourseContent/Science/Videos/h_skeleton_system_general.mp4  (PrathamVideoResource) \n",
      "                 - path: /CourseContent/Science/Videos/h_skeleton_system1.mp4  (PrathamVideoResource) \n",
      "                 - path: /CourseContent/Science/Videos/h_skeleton_system2.mp4  (PrathamVideoResource) \n",
      "                 - path: /CourseContent/Science/Videos/h_skeleton_system3.mp4  (PrathamVideoResource) \n",
      "                 - path: /CourseContent/Science/Videos/h_skeleton_system4.mp4  (PrathamVideoResource) \n",
      "                 - path: /CourseContent/Science/Videos/h_skeleton_system5.mp4  (PrathamVideoResource) \n",
      "                 - path: /CourseContent/OTHER/Hindi/कंकाल की  कलाबाजियाँ.mp4  (PrathamVideoResource) \n",
      "                 - path: /CourseContent/OTHER/Hindi/कब्जों वाला आदमी.mp4  (PrathamVideoResource) \n",
      "                 - path: /CourseContent/Games/Bone Game(Dr. Haddi)_H.zip  (PrathamZipResource) \n",
      "              - path: /hn/Lesson/LES618  (lesson_page) \n",
      "                children:\n",
      "                 - path: /CourseContent/Science/Videos/h_bloodIntro.mp4  (PrathamVideoResource) \n",
      "                 - path: /CourseContent/Science/Videos/h_formationOfBlood.mp4  (PrathamVideoResource) \n",
      "                 - path: /CourseContent/Science/Videos/h_circulatorySystem.mp4  (PrathamVideoResource) \n",
      "           - path: /hn/Course/Science/CRS96  (subtopic_page) \n",
      "             children:\n",
      "              - path: /hn/Lesson/LES600  (lesson_page) \n",
      "                children:\n",
      "                 - path: /CourseContent/Science/Videos/h_solar_system.mp4  (PrathamVideoResource) \n",
      "                 - path: /CourseContent/Science/Videos/h_earth_space.mp4  (PrathamVideoResource) \n",
      "              - path: /hn/Lesson/LES601  (lesson_page) \n",
      "                children:\n",
      "                 - path: /CourseContent/Science/Videos/h_place_map.mp4  (PrathamVideoResource) \n",
      "                 - path: /CourseContent/Science/Videos/h_know_map.mp4  (PrathamVideoResource) \n",
      "                 - path: /CourseContent/Science/Videos/h_time_story1.mp4  (PrathamVideoResource) \n",
      "                 - path: /CourseContent/Science/Videos/h_time_story2.mp4  (PrathamVideoResource) \n",
      "           - path: /hn/Course/Science/CRS97  (subtopic_page) \n",
      "             children:\n",
      "              - path: /hn/Lesson/LES602  (lesson_page) \n",
      "                children:\n",
      "                 - path: /CourseContent/Science/Videos/h_changing_energy.mp4  (PrathamVideoResource) \n",
      "                 - path: /CourseContent/Science/Videos/h_energy_intro.mp4  (PrathamVideoResource) \n",
      "                 - path: /CourseContent/Science/Videos/h_energy_family.mp4  (PrathamVideoResource) \n",
      "              - path: /hn/Lesson/LES610  (lesson_page) \n",
      "                children:\n",
      "                 - path: /CourseContent/Science/Videos/h_chintu_work.mp4  (PrathamVideoResource) \n",
      "           - path: /hn/Course/Science/CRS83  (subtopic_page) \n",
      "             children:\n",
      "              - path: /hn/Lesson/LES510  (lesson_page) \n",
      "                children:\n",
      "                 - path: /CourseContent/Science/Videos/h_motion_types.mp4  (PrathamVideoResource) \n",
      "                 - path: /CourseContent/Science/Videos/h_newton_law1.mp4  (PrathamVideoResource) \n",
      "                 - path: /CourseContent/Science/Videos/h_newton_law2.mp4  (PrathamVideoResource) \n",
      "                 - path: /CourseContent/Science/Videos/h_newton_law3.mp4  (PrathamVideoResource) \n",
      "                 - path: /CourseContent/Science/Videos/h_speed_velocity.mp4  (PrathamVideoResource) \n",
      "                 - path: /CourseContent/Science/Videos/h_learning_bike1.mp4  (PrathamVideoResource) \n",
      "                 - path: /CourseContent/Science/Videos/h_learning_bike2.mp4  (PrathamVideoResource) \n",
      "                 - path: /CourseContent/Science/Videos/h_race_speed.mp4  (PrathamVideoResource) \n",
      "                 - path: /CourseContent/Science/Videos/h_acceleration_fear.mp4  (PrathamVideoResource) \n",
      "              - path: /hn/Lesson/LES113  (lesson_page) \n",
      "                children:\n",
      "                 - path: /CourseContent/Science/Videos/h_galileo_ground.mp4  (PrathamVideoResource) \n",
      "                 - path: /CourseContent/Science/Videos/h_newton_ball.mp4  (PrathamVideoResource) \n",
      "                 - path: /CourseContent/Science/Videos/h_newton_speed.mp4  (PrathamVideoResource) \n",
      "                 - path: /CourseContent/Science/Videos/h_newton_force.mp4  (PrathamVideoResource) \n",
      "                 - path: /CourseContent/Science/Videos/h_newton_egg.mp4  (PrathamVideoResource) \n",
      "           - path: /hn/Course/Science/CRS46  (subtopic_page) \n",
      "             children:\n",
      "              - path: /hn/Lesson/LES224  (lesson_page) \n",
      "                children:\n",
      "                 - path: /CourseContent/Science/Videos/h_quantityNmeasure1.mp4  (PrathamVideoResource) \n",
      "                 - path: /CourseContent/Science/Videos/h_quantityNmeasure2.mp4  (PrathamVideoResource) \n",
      "                 - path: /CourseContent/Science/Videos/h_quantityNmeasure3.mp4  (PrathamVideoResource) \n",
      "                 - path: /CourseContent/Science/Videos/h_quantityNmeasure4.mp4  (PrathamVideoResource) \n",
      "                 - path: /CourseContent/Science/Videos/m_quantityNmeasure5.mp4  (PrathamVideoResource) \n",
      "                 - path: /CourseContent/Science/Videos/h_estimate_building_height.mp4  (PrathamVideoResource) \n",
      "                 - path: /CourseContent/Science/Videos/h_measure_pole_height.mp4  (PrathamVideoResource) \n",
      "                 - path: /CourseContent/Science/Videos/h_dheel.mp4  (PrathamVideoResource) \n",
      "           - path: /hn/Course/Science/CRS84  (subtopic_page) \n",
      "             children:\n",
      "              - path: /hn/Lesson/LES511  (lesson_page) \n",
      "                children:\n",
      "                 - path: /CourseContent/Science/Videos/h_molecule_structure.mp4  (PrathamVideoResource) \n",
      "              - path: /hn/Lesson/LES110  (lesson_page) \n",
      "                children:\n",
      "                 - path: /CourseContent/Science/Watch/hn/SCIENCE/h_mass_weight1.mp4  (PrathamVideoResource) \n",
      "                 - path: /CourseContent/Science/Watch/hn/SCIENCE/h_mass_weight2.mp4  (PrathamVideoResource) \n",
      "                 - path: /CourseContent/Science/Watch/hn/SCIENCE/h_time_distance_weight.mp4  (PrathamVideoResource) \n",
      "                 - path: /CourseContent/Games/planetGame_H.zip  (PrathamZipResource) \n",
      "                 - path: /CourseContent/Science/Videos/h_force.mp4  (PrathamVideoResource) \n",
      "                 - path: /CourseContent/Science/Watch/hn/SCIENCE/h_pressure.mp4  (PrathamVideoResource) \n",
      "                 - path: /CourseContent/Science/Watch/hn/SCIENCE/h_acceleration.mp4  (PrathamVideoResource) \n",
      "                 - path: /CourseContent/Science/Watch/hn/SCIENCE/h_weight1.mp4  (PrathamVideoResource) \n",
      "                 - path: /CourseContent/Science/Watch/hn/SCIENCE/h_weight2.mp4  (PrathamVideoResource) \n",
      "              - path: /hn/Lesson/LES111  (lesson_page) \n",
      "                children:\n",
      "                 - path: /CourseContent/Science/Watch/hn/SCIENCE/h_substance_density.mp4  (PrathamVideoResource) \n",
      "                 - path: /CourseContent/Science/Watch/hn/SCIENCE/h_substance_state.mp4  (PrathamVideoResource) \n",
      "                 - path: /CourseContent/Games/ScienceBucketGame_H.zip  (PrathamZipResource) \n",
      "           - path: /hn/Course/Science/CRS92  (subtopic_page) \n",
      "             children:\n",
      "              - path: /hn/Lesson/LES103  (lesson_page) \n",
      "                children:\n",
      "                 - path: /CourseContent/Science/Read/hn/Prakash Ka Sancharan.pdf  (PrathamPdfResource) \n",
      "                 - path: /CourseContent/Science/Watch/hn/SCIENCE/h_cage_bird.mp4  (PrathamVideoResource) \n",
      "                 - path: /CourseContent/Science/Watch/hn/SCIENCE/h_magic_coin.mp4  (PrathamVideoResource) \n",
      "                 - path: /CourseContent/Science/Watch/hn/SCIENCE/h_invisible_coin.mp4  (PrathamVideoResource) \n",
      "                 - path: /CourseContent/Science/Watch/hn/SCIENCE/h_house_light.mp4  (PrathamVideoResource) \n",
      "                 - path: /CourseContent/Science/Videos/mirror.mp4  (PrathamVideoResource) \n",
      "                 - path: /CourseContent/Games/ScienceBucketGame_H.zip  (PrathamZipResource) \n",
      "              - path: /hn/Lesson/LES109  (lesson_page) \n",
      "                children:\n",
      "                 - path: /CourseContent/Science/Videos/h_colourful_world1.mp4  (PrathamVideoResource) \n",
      "                 - path: /CourseContent/Science/Videos/h_colourful_world2.mp4  (PrathamVideoResource) \n",
      "              - path: /hn/Lesson/LES559  (lesson_page) \n",
      "                children:\n",
      "                 - path: /CourseContent/Science/Watch/hn/SCIENCE/h_light_day.mp4  (PrathamVideoResource) \n",
      "        - path: /hn/Course/Hospitality  (topic_page) \n",
      "          children:\n",
      "           - path: /hn/Course/Hospitality/CRS86  (subtopic_page) \n",
      "             children:\n",
      "              - path: /hn/Lesson/LES539  (lesson_page) \n",
      "                children:\n",
      "                 - path: /CourseContent/Hospitality/Video/H_Hospitality Intro.mp4  (PrathamVideoResource) \n",
      "              - path: /hn/Lesson/LES540  (lesson_page) \n",
      "                children:\n",
      "                 - path: /CourseContent/Hospitality/Video/H_Departments of a Hotel.mp4  (PrathamVideoResource) \n",
      "                 - path: /CourseContent/Hospitality/Video/H_Hotel Industry.mp4  (PrathamVideoResource) \n",
      "                 - path: /CourseContent/Hospitality/Video/H_Discussion with Taj industry expert.mp4  (PrathamVideoResource) \n",
      "                 - path: /CourseContent/Hospitality/Video/H_Discussion with industry experts.mp4  (PrathamVideoResource) \n",
      "                 - path: /CourseContent/Hospitality/Video/H_Discussion with industry experts - II.mp4  (PrathamVideoResource) \n",
      "              - path: /hn/Lesson/LES541  (lesson_page) \n"
     ]
    },
    {
     "name": "stdout",
     "output_type": "stream",
     "text": [
      "                children:\n",
      "                 - path: /CourseContent/Hospitality/Video/H_mangalDevi.mp4  (PrathamVideoResource) \n",
      "           - path: /hn/Course/Hospitality/CRS87  (subtopic_page) \n",
      "             children:\n",
      "              - path: /hn/Lesson/LES542  (lesson_page) \n",
      "                children:\n",
      "                 - path: /CourseContent/Hospitality/Video/H_F&B Syllabus.mp4  (PrathamVideoResource) \n",
      "              - path: /hn/Lesson/LES543  (lesson_page) \n",
      "                children:\n",
      "                 - path: /CourseContent/Hospitality/Video/H_Dinner.mp4  (PrathamVideoResource) \n",
      "                 - path: /CourseContent/Hospitality/Video/H_Table set up.mp4  (PrathamVideoResource) \n",
      "                 - path: /CourseContent/Hospitality/Video/H_Table Setup Long.mp4  (PrathamVideoResource) \n",
      "           - path: /hn/Course/Hospitality/CRS88  (subtopic_page) \n",
      "             children:\n",
      "              - path: /hn/Lesson/LES544  (lesson_page) \n",
      "                children:\n",
      "                 - path: /CourseContent/Hospitality/Video/H_Food production syllabus.mp4  (PrathamVideoResource) \n",
      "              - path: /hn/Lesson/LES545  (lesson_page) \n",
      "                children:\n",
      "                 - path: /CourseContent/Hospitality/Video/H_Buns recipe.mp4  (PrathamVideoResource) \n",
      "                 - path: /CourseContent/Hospitality/Video/H_Veg puffs recipe.mp4  (PrathamVideoResource) \n",
      "                 - path: /CourseContent/Hospitality/Video/H_Cake icing.mp4  (PrathamVideoResource) \n",
      "                 - path: /CourseContent/Hospitality/Video/H_Bread rolls recipe.mp4  (PrathamVideoResource) \n",
      "                 - path: /CourseContent/Hospitality/Video/H_Muffins recipe.mp4  (PrathamVideoResource) \n",
      "           - path: /hn/Course/Hospitality/CRS89  (subtopic_page) \n",
      "             children:\n",
      "              - path: /hn/Lesson/LES546  (lesson_page) \n",
      "                children:\n",
      "                 - path: /CourseContent/Hospitality/Video/H_Housekeeping syllabus.mp4  (PrathamVideoResource) \n",
      "              - path: /hn/Lesson/LES547  (lesson_page) \n",
      "                children:\n",
      "                 - path: /CourseContent/Hospitality/Video/H_Inhouse Cleaning Equipments.mp4  (PrathamVideoResource) \n",
      "                 - path: /CourseContent/Hospitality/Video/H_Outdoor Cleaning Equipments.mp4  (PrathamVideoResource) \n",
      "                 - path: /CourseContent/Hospitality/Video/H_Bed making.mp4  (PrathamVideoResource) \n",
      "                 - path: /CourseContent/Hospitality/Video/H_Floor cleaning.mp4  (PrathamVideoResource) \n",
      "                 - path: /CourseContent/Hospitality/Video/H_Guest room cleaning.mp4  (PrathamVideoResource) \n",
      "                 - path: /CourseContent/Hospitality/Video/H_Dusting.mp4  (PrathamVideoResource) \n",
      "                 - path: /CourseContent/Hospitality/Video/H_Room Arrangement.mp4  (PrathamVideoResource) \n",
      "                 - path: /CourseContent/Hospitality/Video/H_Bathroom_cleaning.mp4  (PrathamVideoResource) \n",
      "        - path: /hn/Course/Construction  (topic_page) \n",
      "          children:\n",
      "           - path: /hn/Course/Construction/CRS93  (subtopic_page) \n",
      "             children:\n",
      "              - path: /hn/Lesson/LES553  (lesson_page) \n",
      "                children:\n",
      "                 - path: /CourseContent/Construction/Video/H_Construction Orientation.mp4  (PrathamVideoResource) \n",
      "        - path: /hn/Course/Automobile  (topic_page) \n",
      "          children:\n",
      "           - path: /hn/Course/Automobile/CRS94  (subtopic_page) \n",
      "             children:\n",
      "              - path: /hn/Lesson/LES554  (lesson_page) \n",
      "                children:\n",
      "                 - path: /CourseContent/Automobile/Video/H_Automobile orientation.mp4  (PrathamVideoResource) \n",
      "              - path: /hn/Lesson/LES555  (lesson_page) \n",
      "                children:\n",
      "                 - path: /CourseContent/Automobile/Video/H_Automobile Syllabus.mp4  (PrathamVideoResource) \n",
      "        - path: /hn/Course/Electric  (topic_page) \n",
      "          children:\n",
      "           - path: /hn/Course/Electric/CRS90  (subtopic_page) \n",
      "             children:\n",
      "              - path: /hn/Lesson/LES548  (lesson_page) \n",
      "                children:\n",
      "                 - path: /CourseContent/Electric/Video/H_About the industry.mp4  (PrathamVideoResource) \n",
      "              - path: /hn/Lesson/LES549  (lesson_page) \n",
      "                children:\n",
      "                 - path: /CourseContent/Electric/Video/H_Dharma story.mp4  (PrathamVideoResource) \n",
      "        - path: /hn/Course/Beauty  (topic_page) \n",
      "          children:\n",
      "           - path: /hn/Course/Beauty/CRS95  (subtopic_page) \n",
      "             children:\n",
      "              - path: /hn/Lesson/LES556  (lesson_page) \n",
      "                children:\n",
      "                 - path: /CourseContent/Beauty/Video/H_Sanghmitra.mp4  (PrathamVideoResource) \n",
      "              - path: /hn/Lesson/LES557  (lesson_page) \n",
      "                children:\n",
      "                 - path: /CourseContent/Beauty/Video/H_Learn threading.mp4  (PrathamVideoResource) \n",
      "        - path: /hn/Course/Healthcare  (topic_page) \n",
      "          children:\n",
      "           - path: /hn/Course/Healthcare/CRS91  (subtopic_page) \n",
      "             children:\n",
      "              - path: /hn/Lesson/LES550  (lesson_page) \n",
      "                children:\n",
      "                 - path: /CourseContent/Healthcare/Video/H_Bedside-Assistant.mp4  (PrathamVideoResource) \n",
      "              - path: /hn/Lesson/LES551  (lesson_page) \n",
      "                children:\n",
      "                 - path: /CourseContent/Healthcare/Video/H_Hand Wash.mp4  (PrathamVideoResource) \n",
      "                 - path: /CourseContent/Healthcare/Video/H_Bed making.mp4  (PrathamVideoResource) \n",
      "                 - path: /CourseContent/Healthcare/Video/H_Auto Clave.mp4  (PrathamVideoResource) \n",
      "                 - path: /CourseContent/Healthcare/Video/H_Temperature.mp4  (PrathamVideoResource) \n",
      "              - path: /hn/Lesson/LES552  (lesson_page) \n",
      "                children:\n",
      "                 - path: /CourseContent/Healthcare/Video/H_Story Bedside.mp4  (PrathamVideoResource) \n",
      "        - path: /hn/Course/Std8  (topic_page) \n",
      "          children:\n",
      "           - path: /hn/Course/Std8/CRS79  (subtopic_page) \n",
      "             children:\n",
      "              - path: /hn/Lesson/LES527  (lesson_page) \n",
      "                children:\n",
      "                 - path: /CourseContent/STD8/Video/Reactions of Metals and Non-metals With Water.mp4  (PrathamVideoResource) \n",
      "              - path: /hn/Lesson/LES528  (lesson_page) \n",
      "                children:\n",
      "                 - path: /CourseContent/STD8/Video/Carbonisation_h.mp4  (PrathamVideoResource) \n",
      "                 - path: /CourseContent/STD8/Video/Formation of Petroleum and Natural Gas.mp4  (PrathamVideoResource) \n",
      "                 - path: /CourseContent/STD8/Video/How Much Longer.mp4  (PrathamVideoResource) \n",
      "              - path: /hn/Lesson/LES529  (lesson_page) \n",
      "                children:\n",
      "                 - path: /CourseContent/STD8/Video/Save the World.mp4  (PrathamVideoResource) \n",
      "              - path: /hn/Lesson/LES530  (lesson_page) \n",
      "                children:\n",
      "                 - path: /CourseContent/STD8/Video/A Single Life.mp4  (PrathamVideoResource) \n",
      "              - path: /hn/Lesson/LES531  (lesson_page) \n",
      "                children:\n",
      "                 - path: /CourseContent/STD8/Video/Female Reproductive Organs.mp4  (PrathamVideoResource) \n",
      "                 - path: /CourseContent/STD8/Video/Fertilization to Foetus.mp4  (PrathamVideoResource) \n",
      "                 - path: /CourseContent/STD8/Video/Hydra.mp4  (PrathamVideoResource) \n",
      "                 - path: /CourseContent/STD8/Video/Male Reproductive Organs.mp4  (PrathamVideoResource) \n",
      "                 - path: /CourseContent/STD8/Video/Metamorphosis.mp4  (PrathamVideoResource) \n",
      "              - path: /hn/Lesson/LES532  (lesson_page) \n",
      "                children:\n",
      "                 - path: /CourseContent/STD8/Video/Reproductive Phase and Sex Determination.mp4  (PrathamVideoResource) \n",
      "                 - path: /CourseContent/STD8/Video/Your Body During Adolescence.mp4  (PrathamVideoResource) \n",
      "              - path: /hn/Lesson/LES533  (lesson_page) \n",
      "                children:\n",
      "                 - path: /CourseContent/STD8/Video/Types of Friction.mp4  (PrathamVideoResource) \n",
      "              - path: /hn/Lesson/LES534  (lesson_page) \n",
      "                children:\n",
      "                 - path: /CourseContent/STD8/Video/Copper Plating.mp4  (PrathamVideoResource) \n",
      "              - path: /hn/Lesson/LES535  (lesson_page) \n",
      "                children:\n",
      "                 - path: /CourseContent/STD8/Video/Lightning.mp4  (PrathamVideoResource) \n",
      "              - path: /hn/Lesson/LES536  (lesson_page) \n",
      "                children:\n",
      "                 - path: /CourseContent/STD8/Video/Making Water Potable.mp4  (PrathamVideoResource) \n",
      "           - path: /hn/Course/Std8/CRS80  (subtopic_page) \n",
      "             children:\n",
      "              - path: /hn/Lesson/LES517  (lesson_page) \n",
      "                children:\n",
      "                 - path: /CourseContent/STD8/Video/Calculating Squares Through Distributive Property.mp4  (PrathamVideoResource) \n",
      "                 - path: /CourseContent/STD8/Video/Patterns in Square Numbers.mp4  (PrathamVideoResource) \n",
      "                 - path: /CourseContent/STD8/Video/Properties of Square Numbers.mp4  (PrathamVideoResource) \n",
      "                 - path: /CourseContent/STD8/Video/Square Roots by Prime Factorisation.mp4  (PrathamVideoResource) \n",
      "              - path: /hn/Lesson/LES518  (lesson_page) \n",
      "                children:\n",
      "                 - path: /CourseContent/STD8/Video/Cube Root Through Estimation.mp4  (PrathamVideoResource) \n",
      "                 - path: /CourseContent/STD8/Video/Cube Root Through Prime Factorisation.mp4  (PrathamVideoResource) \n",
      "                 - path: /CourseContent/STD8/Video/Identifying Cubes Using Prime Factorisation.mp4  (PrathamVideoResource) \n",
      "                 - path: /CourseContent/STD8/Video/Power of Compounding.mp4  (PrathamVideoResource) \n",
      "                 - path: /CourseContent/STD8/Video/Steal a Bargain.mp4  (PrathamVideoResource) \n",
      "              - path: /hn/Lesson/LES519  (lesson_page) \n",
      "                children:\n",
      "                 - path: /CourseContent/STD8/Video/Multiplying Algebraic Expressions.mp4  (PrathamVideoResource) \n",
      "                 - path: /CourseContent/STD8/Video/Wizard of Algebra.mp4  (PrathamVideoResource) \n",
      "              - path: /hn/Lesson/LES520  (lesson_page) \n",
      "                children:\n",
      "                 - path: /CourseContent/STD8/Video/Surface Areas of Solids.mp4  (PrathamVideoResource) \n",
      "                 - path: /CourseContent/STD8/Video/Volume of Cuboid, Cube and Cylinder.mp4  (PrathamVideoResource) \n",
      "              - path: /hn/Lesson/LES521  (lesson_page) \n",
      "                children:\n",
      "                 - path: /CourseContent/STD8/Video/Expanded Form and Exponents.mp4  (PrathamVideoResource) \n",
      "                 - path: /CourseContent/STD8/Video/Express Numbers in Standard Form.mp4  (PrathamVideoResource) \n",
      "                 - path: /CourseContent/STD8/Video/Understanding the Laws of Exponents.mp4  (PrathamVideoResource) \n",
      "              - path: /hn/Lesson/LES522  (lesson_page) \n",
      "                children:\n",
      "                 - path: /CourseContent/STD8/Video/Direct Proportion.mp4  (PrathamVideoResource) \n",
      "                 - path: /CourseContent/STD8/Video/Inverse Proportion.mp4  (PrathamVideoResource) \n",
      "              - path: /hn/Lesson/LES523  (lesson_page) \n",
      "                children:\n",
      "                 - path: /CourseContent/STD8/Video/Division of Algebraic Expressions.mp4  (PrathamVideoResource) \n",
      "              - path: /hn/Lesson/LES524  (lesson_page) \n",
      "                children:\n",
      "                 - path: /CourseContent/STD8/Video/Factorisation of Algebraic Expressions.mp4  (PrathamVideoResource) \n",
      "              - path: /hn/Lesson/LES525  (lesson_page) \n",
      "                children:\n",
      "                 - path: /CourseContent/STD8/Video/Introduction to Graphs.mp4  (PrathamVideoResource) \n",
      "              - path: /hn/Lesson/LES526  (lesson_page) \n",
      "                children:\n",
      "                 - path: /CourseContent/STD8/Video/The 1089 Math Trick.mp4  (PrathamVideoResource) \n",
      "        - path: /hn/Fun  (fun_page) \n",
      "          children:\n",
      "           - path: /CourseContent/Science/Watch/hn/SCIENCE/h_weight2.mp4  (PrathamVideoResource) \n",
      "           - path: /CourseContent/general/h_geetababita.mp4  (PrathamVideoResource) \n",
      "           - path: /CourseContent/Science/Videos/h_self_opearating_gate.mp4  (PrathamVideoResource) \n",
      "           - path: /CourseContent/Games/Build-a-Sentence(Hindi).zip  (PrathamZipResource) \n",
      "           - path: /CourseContent/Games/FlipImage Game(Palat)_H.zip  (PrathamZipResource) \n",
      "           - path: /CourseContent/Games/newFractionGame_H.zip  (PrathamZipResource) \n",
      "           - path: /CourseContent/OTHER/Hindi/Que.mp4  (PrathamVideoResource) \n",
      "           - path: /CourseContent/Games/clockGameHindi.zip  (PrathamZipResource) \n",
      "           - path: /CourseContent/Games/H_calculator.zip  (PrathamZipResource) \n",
      "           - path: /CourseContent/Science/Videos/h_howToFly.mp4  (PrathamVideoResource) \n",
      "           - path: /CourseContent/Science/Watch/hn/SCIENCE/h_funny_balloon.mp4  (PrathamVideoResource) \n",
      "           - path: /CourseContent/Games/IncredibleIndiaVERSION2_H.zip  (PrathamZipResource) \n",
      "           - path: /CourseContent/Science/Watch/hn/SCIENCE/h_sandwich.mp4  (PrathamVideoResource) \n",
      "           - path: /CourseContent/Science/Watch/hn/SCIENCE/h_weight1.mp4  (PrathamVideoResource) \n",
      "           - path: /CourseContent/Science/Videos/h_coriolis_effect.mp4  (PrathamVideoResource) \n",
      "           - path: /CourseContent/Games/sorting Game (Hindi).zip  (PrathamZipResource) \n",
      "           - path: /CourseContent/Science/Videos/h_force.mp4  (PrathamVideoResource) \n",
      "           - path: /CourseContent/Science/Videos/mirror.mp4  (PrathamVideoResource) \n",
      "           - path: /CourseContent/Games/AksharMatraShabdhYatra-Hindi.zip  (PrathamZipResource) \n",
      "           - path: /CourseContent/Games/4 clues (Countries) Hindi.zip  (PrathamZipResource) \n",
      "           - path: /CourseContent/OTHER/Hindi/कंकाल की  कलाबाजियाँ.mp4  (PrathamVideoResource) \n",
      "           - path: /CourseContent/Mathematics/Algebra/hn/video/h_odd_numbers_fun.mp4  (PrathamVideoResource) \n",
      "           - path: /CourseContent/Science/Watch/hn/SCIENCE/h_acceleration.mp4  (PrathamVideoResource) \n",
      "           - path: /CourseContent/Science/Videos/h_nasa_satellite.mp4  (PrathamVideoResource) \n",
      "           - path: /CourseContent/Science/Videos/h_paper_bridge.mp4  (PrathamVideoResource) \n",
      "           - path: /CourseContent/OTHER/Hindi/कब्जों वाला आदमी.mp4  (PrathamVideoResource) \n",
      "           - path: /CourseContent/Science/Videos/h_cow_pump.mp4  (PrathamVideoResource) \n",
      "           - path: /CourseContent/Science/Videos/h_important_work.mp4  (PrathamVideoResource) \n",
      "           - path: /CourseContent/Games/Bone Game(Dr. Haddi)_H.zip  (PrathamZipResource) \n",
      "           - path: /CourseContent/OTHER/Hindi/India_golden_girl.mp4  (PrathamVideoResource) \n",
      "           - path: /CourseContent/Science/Videos/h_howToSwim.mp4  (PrathamVideoResource) \n",
      "           - path: /CourseContent/Mathematics/Algebra/hn/video/h_perfect_numbers.mp4  (PrathamVideoResource) \n",
      "           - path: /CourseContent/Games/ScienceBucketGame_H.zip  (PrathamZipResource) \n",
      "           - path: /CourseContent/Science/Watch/hn/SCIENCE/h_pressure.mp4  (PrathamVideoResource) \n",
      "           - path: /CourseContent/Science/Videos/h_howToDrink.mp4  (PrathamVideoResource) \n",
      "           - path: /CourseContent/Science/Videos/h_periodic_table.mp4  (PrathamVideoResource) \n",
      "           - path: /CourseContent/Games/wordshop_H.zip  (PrathamZipResource) \n",
      "           - path: /CourseContent/Games/CricketGameVersionOne_H.zip  (PrathamZipResource) \n",
      "           - path: /CourseContent/Science/Watch/hn/SCIENCE/h_electric_straw2.mp4  (PrathamVideoResource) \n",
      "           - path: /CourseContent/Science/Watch/hn/SCIENCE/h_nails_puzzle.mp4  (PrathamVideoResource) \n",
      "           - path: /CourseContent/Games/JigsawGame_H.zip  (PrathamZipResource) \n",
      "           - path: /CourseContent/Games/Awazchitra-Hindi.zip  (PrathamZipResource) \n",
      "           - path: /CourseContent/Games/MathsBucketGame_H.zip  (PrathamZipResource) \n",
      "           - path: /CourseContent/Games/wordpicture_H.zip  (PrathamZipResource) \n",
      "           - path: /CourseContent/Science/Videos/h_real_players.mp4  (PrathamVideoResource) \n",
      "           - path: /CourseContent/Mathematics/Algebra/hn/video/h_palindromes.mp4  (PrathamVideoResource) \n",
      "           - path: /CourseContent/Games/HistoryOfPlane_H.zip  (PrathamZipResource) \n",
      "           - path: /CourseContent/Science/Videos/h_howToRun.mp4  (PrathamVideoResource) \n",
      "           - path: /CourseContent/Science/Watch/hn/SCIENCE/h_dry_clothes.mp4  (PrathamVideoResource) \n",
      "           - path: /CourseContent/Science/Videos/h_bridge_secret.mp4  (PrathamVideoResource) \n",
      "           - path: /CourseContent/Science/Watch/hn/SCIENCE/h_electric_straw1.mp4  (PrathamVideoResource) \n",
      "        - path: /hn/Story  (story_page) \n",
      "          children:\n",
      "           - path: /CourseContent/Story/PDF/Hindi/Grandmas_Glasses.pdf  (story_resource_page) \n",
      "           - path: /CourseContent/Story/PDF/Hindi/Moo_Moo_Brown_Cow.pdf  (story_resource_page) \n",
      "           - path: /CourseContent/Story/PDF/Hindi/Chuskit_Goes_to_School.pdf  (story_resource_page) \n",
      "           - path: /CourseContent/Story/PDF/Hindi/Spincy_Spider.pdf  (story_resource_page) \n",
      "           - path: /CourseContent/Story/PDF/Hindi/The_Koels_Song.pdf  (story_resource_page) \n",
      "           - path: /CourseContent/Story/PDF/Hindi/Our_Wonderful_World.pdf  (story_resource_page) \n",
      "           - path: /CourseContent/Story/PDF/Hindi/Chulbuls_Tail.pdf  (story_resource_page) \n",
      "           - path: /CourseContent/Story/PDF/Hindi/Going_to_a_Wedding.pdf  (story_resource_page) \n",
      "           - path: /CourseContent/Story/PDF/Hindi/The_Missing_Bat.pdf  (story_resource_page) \n",
      "           - path: /CourseContent/Story/PDF/Hindi/The_Rainbow_Fish.pdf  (story_resource_page) \n",
      "           - path: /CourseContent/Story/PDF/Hindi/The_Sparrow_and_the_Fruit.pdf  (story_resource_page) \n",
      "           - path: /CourseContent/Story/PDF/Hindi/Annual_Haircut_Day.pdf  (story_resource_page) \n",
      "           - path: /CourseContent/Story/PDF/Hindi/Shobhini_and_Nani.pdf  (story_resource_page) \n",
      "           - path: /CourseContent/Story/PDF/Hindi/History-Series-01.pdf  (story_resource_page) \n",
      "           - path: /CourseContent/Story/PDF/Hindi/Row_Your_Boat.pdf  (story_resource_page) \n",
      "           - path: /CourseContent/Story/PDF/Hindi/History-Series-02.pdf  (story_resource_page) \n",
      "           - path: /CourseContent/Story/PDF/Hindi/The_Parrot_with_a_Broken_Beak.pdf  (story_resource_page) \n",
      "           - path: /CourseContent/Story/PDF/Hindi/Kallus-World-01.pdf  (story_resource_page) \n",
      "           - path: /CourseContent/Story/PDF/Hindi/Anayas_Thumb.pdf  (story_resource_page) \n",
      "           - path: /CourseContent/Story/PDF/Hindi/Finance-02-Hindi.pdf  (story_resource_page) \n",
      "           - path: /CourseContent/Story/PDF/Hindi/Counting_on_Moru.pdf  (story_resource_page) \n",
      "           - path: /CourseContent/Story/PDF/Hindi/Goodnight_Tinku.pdf  (story_resource_page) \n",
      "           - path: /CourseContent/Story/PDF/Hindi/Shantis-Friend-Hindi.pdf  (story_resource_page) \n",
      "           - path: /CourseContent/Story/PDF/Hindi/Cheenus_Gift.pdf  (story_resource_page) \n",
      "           - path: /CourseContent/Story/PDF/Hindi/Finance-01.pdf  (story_resource_page) \n",
      "           - path: /CourseContent/Story/PDF/Hindi/Kato_Clever_and_the_Big_Trouble.pdf  (story_resource_page) \n",
      "           - path: /CourseContent/Story/PDF/Hindi/No_smiles_today.pdf  (story_resource_page) \n",
      "           - path: /CourseContent/Story/PDF/Hindi/Kallus-World-02.pdf  (story_resource_page) \n",
      "           - path: /CourseContent/Story/PDF/Hindi/Cat-in-the-ghat.pdf  (story_resource_page) \n",
      "           - path: /CourseContent/Story/PDF/Hindi/The_Hare_and_the_Tortoise.pdf  (story_resource_page) \n",
      "           - path: /CourseContent/Story/PDF/Hindi/Dastkari-Series-03.pdf  (story_resource_page) \n",
      "           - path: /CourseContent/Story/PDF/Hindi/The_Generous_Crow.pdf  (story_resource_page) \n",
      "           - path: /CourseContent/Story/PDF/Hindi/Daddys_Mo.pdf  (story_resource_page) \n",
      "           - path: /CourseContent/Story/PDF/Hindi/Aunty_Juis_Baby.pdf  (story_resource_page) \n",
      "           - path: /CourseContent/Story/PDF/Hindi/Kaka_and_Munni.pdf  (story_resource_page) \n",
      "           - path: /CourseContent/Story/PDF/Hindi/Sniffles_the_Crocodile_and_Punch.pdf  (story_resource_page) \n",
      "           - path: /CourseContent/Story/PDF/Hindi/Grandpa_Fish_and_Radio.pdf  (story_resource_page) \n",
      "           - path: /CourseContent/Story/PDF/Hindi/Rain_Rain.pdf  (story_resource_page) \n",
      "           - path: /CourseContent/Story/PDF/Hindi/Paplu_The_Giant.pdf  (story_resource_page) \n",
      "           - path: /CourseContent/Story/PDF/Hindi/Jungle-Brew-Hindi.pdf  (story_resource_page) \n",
      "        - path: /hn/gamelist/CRS104  (topic_page) \n",
      "          children:\n",
      "           - path: /hn/gamelist/CRS104/LES620  (subtopic_page) \n",
      "           - path: /hn/gamelist/CRS104/LES621  (subtopic_page) \n",
      "           - path: /hn/gamelist/CRS104/LES622  (subtopic_page) \n"
     ]
    }
   ],
   "source": [
    "crawler.print_tree(web_resource_tree, print_depth=5)"
   ]
  },
  {
   "cell_type": "code",
   "execution_count": null,
   "metadata": {},
   "outputs": [],
   "source": []
  },
  {
   "cell_type": "code",
   "execution_count": null,
   "metadata": {},
   "outputs": [],
   "source": []
  },
  {
   "cell_type": "code",
   "execution_count": 4,
   "metadata": {
    "scrolled": false
   },
   "outputs": [],
   "source": [
    "mr_crawler = PraDigiCrawler(lang='mr')\n",
    "\n"
   ]
  },
  {
   "cell_type": "code",
   "execution_count": 5,
   "metadata": {
    "scrolled": false
   },
   "outputs": [
    {
     "name": "stderr",
     "output_type": "stream",
     "text": [
      "found topic: Mathematics: गणित\n",
      "found topic: English: इंग्रजी\n",
      "found topic: Science: विज्ञान\n",
      "found topic: Std8: इयत्ता 8\n",
      "found fun page: Fun: मजा\n",
      "found story page: Story: गोष्टी\n",
      "  found subtopic: CRS102: व्याज\n",
      "  found subtopic: CRS103: वर्ग आणि वर्गमूळ\n",
      "  found subtopic: CRS14: ​आकारांची रहस्ये\n",
      "  found subtopic: CRS23: ​भागाकाराच्या पुढे\n",
      "  found subtopic: CRS75: वेगळ्या संख्या\n",
      "  found subtopic: CRS42: परिमाण आणि संख्या\n",
      "  found subtopic: CRS15: शेकडेवारी\n",
      "  found subtopic: CRS38: बीजगणिताशी मैत्री\n",
      "  found subtopic: CRS39: दशांश अपूर्णांक\n",
      "  found subtopic: CRS35: इंग्रजी बोला\n",
      "  found subtopic: CRS37: अंग्रेजी ओके प्लीज\n",
      "  found subtopic: CRS100: सूर्य आणि पृथ्वी\n",
      "  found subtopic: CRS101: ऊर्जा\n",
      "  found subtopic: CRS43: मानव शरीर\n",
      "  found subtopic: CRS73: हालचाल\n",
      "  found subtopic: CRS45: मापन\n",
      "  found subtopic: CRS74: पदार्थ\n",
      "  found subtopic: CRS85: प्रकाश\n",
      "  found subtopic: CRS78: विज्ञान\n",
      "  found subtopic: CRS77: गणित\n",
      "      content: mr/FunResource/138: अतुल्य भारत\n"
     ]
    },
    {
     "name": "stdout",
     "output_type": "stream",
     "text": [
      "     in on_fun_page http://www.prathamopenschool.org/mr/Fun\n"
     ]
    },
    {
     "name": "stderr",
     "output_type": "stream",
     "text": [
      "      content: mr/FunResource/129: वाक्ये करा मस्त\n",
      "      content: mr/FunResource/392: स्ट्रॉची बासरी\n",
      "      content: mr/FunResource/388: झपाटलेला फुगा\n",
      "      content: mr/FunResource/887: अपूर्णांक रंगवा\n",
      "      content: mr/FunResource/1168: जशास तसे\n",
      "      content: mr/FunResource/450: परिपूर्ण संख्या\n",
      "      content: mr/FunResource/1562: कसे धावतात ?\n",
      "      content: mr/FunResource/1527: पुलांचे रहस्य\n",
      "      content: mr/FunResource/307: अंतराळात बल आणि वस्तुमान!\n",
      "      content: mr/FunResource/306: अंतराळात ताणाचा प्रयोग!\n",
      "      content: mr/FunResource/393: स्ट्रॉचे भिरभिरे\n",
      "      content: mr/FunResource/1115: डॉ. हड्डी\n",
      "      content: mr/FunResource/1525: आगळेवेगळे फाटक\n",
      "      content: mr/FunResource/1558: पुढे मागे\n",
      "      content: mr/FunResource/338: प्रकाशाचा इतिहास\n",
      "Fun resource not supported: http://www.prathamopenschool.org/mr/FunResource/338, http://www.prathamopenschool.org/CourseContent/Simms/timeglider_light_mr/light_history.html\n",
      "      content: mr/FunResource/133: विश्वदर्शन\n",
      "      content: mr/FunResource/305: अंतराळात वजन 2\n",
      "      content: mr/FunResource/62: लावा करंट - तारेमध्ये रोध\n",
      "Fun resource not supported: http://www.prathamopenschool.org/mr/FunResource/62, http://www.prathamopenschool.org/CourseContent/Simms/phet/index.html?id=resistance-in-a-wire-mr\n",
      "      content: mr/FunResource/1519: कोरिओलिस इफेक्ट\n",
      "      content: mr/FunResource/56: संगत रंगांची\n",
      "Fun resource not supported: http://www.prathamopenschool.org/mr/FunResource/56, http://www.prathamopenschool.org/CourseContent/Simms/phet/index.html?id=color-vision-master-mr\n",
      "      content: mr/FunResource/1114: पलट!\n",
      "      content: mr/FunResource/1523: सगळ्यात महत्त्वाचे कार्य\n",
      "      content: mr/FunResource/302: तरंगते सँडविच\n",
      "      content: mr/FunResource/896: नाचणारा सांगाडा\n",
      "      content: mr/FunResource/383: खिळ्यांचं कोडं\n",
      "      content: mr/FunResource/897: बिजागरी माणूस\n",
      "      content: mr/FunResource/86: त्रिकोणाची गंमत\n",
      "      content: mr/FunResource/97: इस्रोचा इतिहास\n",
      "Fun resource not supported: http://www.prathamopenschool.org/mr/FunResource/97, http://www.prathamopenschool.org/CourseContent/Simms/timeglider_ISRO_mr/isro_history.html\n",
      "      content: mr/FunResource/59: लावा करंट - ओहमचा नियम\n",
      "Fun resource not supported: http://www.prathamopenschool.org/mr/FunResource/59, http://www.prathamopenschool.org/CourseContent/Simms/phet/index.html?id=ohms-law-mr\n",
      "      content: mr/FunResource/131: अहो, जरा लायनीत !\n",
      "      content: mr/FunResource/838: मुरजबंध संख्या\n",
      "      content: mr/FunResource/1502: मागे वळून बघता - विमान\n",
      "      content: mr/FunResource/898: भर भर भरा\n",
      "      content: mr/FunResource/449: विषम संख्यांची गंमत\n",
      "      content: mr/FunResource/359: भारताच्या सुवर्ण कन्या\n",
      "      content: mr/FunResource/1563: कसे पितात?\n",
      "Fun resource not supported: http://www.prathamopenschool.org/mr/FunResource/1563, http://www.prathamopenschool.org/CourseContent/Science/Videos/m_howToDrink.mp4\n",
      "\n",
      "      content: mr/FunResource/303: अंतराळात त्वरणाचा प्रयोग!\n",
      "      content: mr/FunResource/1526: खरे खेळाडू\n",
      "      content: mr/FunResource/1520: नासा उपग्रहाने वाळूचा पाठलाग\n",
      "      content: mr/FunResource/54: बनवाल तो अणू\n",
      "Fun resource not supported: http://www.prathamopenschool.org/mr/FunResource/54, http://www.prathamopenschool.org/CourseContent/Simms/phet/index.html?id=build-an-atom-mr\n",
      "      content: mr/FunResource/1524: कागदाचा पूल\n",
      "      content: mr/FunResource/876: रांगच रांग\n",
      "      content: mr/FunResource/1411: भर भर भरा!\n",
      "      content: mr/FunResource/884: कल - का - लूटर\n",
      "      content: mr/FunResource/301: अंतराळात ओले कपडे\n",
      "      content: mr/FunResource/304: अंतराळात वजन 1\n",
      "      content: mr/FunResource/883: वाजले किती?\n",
      "      content: mr/FunResource/1113: या चित्रात दडलंय काय?\n",
      "      content: mr/FunResource/1556: गीता आणि बबीता\n",
      "      content: mr/FunResource/1521: पिरिऑडिक टेबल\n",
      "      content: mr/FunResource/1561: शब्द-चित्र\n",
      "      content: mr/FunResource/1522: गाय चालवते पंप\n",
      "      content: mr/FunResource/888: विभाजक फोडा\n",
      "      content: mr/FunResource/1341: दे दणादण!!!\n",
      "      story_resource_page: mr/StoryResource/1073: जंगलातलं मांजर\n",
      "      story_resource_page: mr/StoryResource/1109: तुटक्या चोचीचा पोपट\n",
      "      story_resource_page: mr/StoryResource/1094: माझी गाडी\n",
      "      story_resource_page: mr/StoryResource/1108: चांदोबाची टोपी\n",
      "      story_resource_page: mr/StoryResource/1083: टिंकूची रात्रीची सैर\n",
      "      story_resource_page: mr/StoryResource/1098: पाऊस आला रे\n",
      "      story_resource_page: mr/StoryResource/1104: हत्ती, पक्षी आणि मुनिया\n",
      "      story_resource_page: mr/StoryResource/1106: ससा आणि कासव\n",
      "      story_resource_page: mr/StoryResource/1071: वार्षिक केशकर्तन दिवस\n",
      "      story_resource_page: mr/StoryResource/1077: मोरू नावाचे कोडे\n",
      "      story_resource_page: mr/StoryResource/1110: रंगीत मासा\n",
      "      story_resource_page: mr/StoryResource/1100: शोभिनी आणि आजी\n",
      "      story_resource_page: mr/StoryResource/1101: रडी आणि ठुशी\n",
      "      story_resource_page: mr/StoryResource/1099: राजुची नौका सफर\n",
      "      story_resource_page: mr/StoryResource/1085: रेडिओ आणि मासे\n",
      "      story_resource_page: mr/StoryResource/1079: मनूच्या आनंदाचा घडा\n",
      "      story_resource_page: mr/StoryResource/1084: आजीचा चष्मा\n",
      "      story_resource_page: mr/StoryResource/1074: भंगारवाला\n",
      "      story_resource_page: mr/StoryResource/1105: कावळ्याने नातलगांना बोलावले\n",
      "      story_resource_page: mr/StoryResource/1076: चुस्कीत शाळेत जाते\n",
      "      story_resource_page: mr/StoryResource/1080: पैशाचे सुंदर जग\n",
      "      story_resource_page: mr/StoryResource/1095: हसू मी कशी?\n",
      "      story_resource_page: mr/StoryResource/1107: कुहूss कुहूss !\n",
      "      story_resource_page: mr/StoryResource/1075: चुलबुलचे शेपुट\n",
      "      story_resource_page: mr/StoryResource/1093: ताजे दूध\n",
      "      story_resource_page: mr/StoryResource/1088: मसाला चहा\n",
      "      story_resource_page: mr/StoryResource/1086: एक अविस्मरणीय जत्रा\n",
      "      story_resource_page: mr/StoryResource/1096: सुंदर जग\n",
      "      story_resource_page: mr/StoryResource/1090: कल्लूचे किस्से १\n",
      "      story_resource_page: mr/StoryResource/1082: लग्नाला जायचंय\n",
      "      story_resource_page: mr/StoryResource/1103: राजू आणि भाज्या\n",
      "      story_resource_page: mr/StoryResource/1078: बाबांच्या मिश्या\n",
      "      story_resource_page: mr/StoryResource/1070: अनयाचा अंगठा\n",
      "      story_resource_page: mr/StoryResource/1092: मोठे संकट\n",
      "      story_resource_page: mr/StoryResource/1089: काका आणि मुन्नी\n",
      "      story_resource_page: mr/StoryResource/1072: काकूचं बाळ\n",
      "      story_resource_page: mr/StoryResource/1097: पपलू राक्षस\n",
      "      story_resource_page: mr/StoryResource/1081: पैशाचा अद्भुतरम्य प्रवास\n",
      "      story_resource_page: mr/StoryResource/1112: शहरी तळ्यात फुलले प्राणीजीवन\n",
      "      story_resource_page: mr/StoryResource/1091: कल्लूचे किस्से २\n",
      "      story_resource_page: mr/StoryResource/1102: छुटकू कोळी\n",
      "      story_resource_page: mr/StoryResource/1087: ऑगस्टमधला एक दिवस\n",
      "      story_resource_page: mr/StoryResource/1111: चिमणी आणि फळ\n"
     ]
    },
    {
     "name": "stdout",
     "output_type": "stream",
     "text": [
      "     in on_story_page http://www.prathamopenschool.org/mr/Story\n"
     ]
    },
    {
     "name": "stderr",
     "output_type": "stream",
     "text": [
      "     lesson: LES608: व्याज\n"
     ]
    },
    {
     "name": "stdout",
     "output_type": "stream",
     "text": [
      "     in on_subtopic_page http://www.prathamopenschool.org/mr/Course/Mathematics/CRS102\n"
     ]
    },
    {
     "name": "stderr",
     "output_type": "stream",
     "text": [
      "     lesson: LES609: वर्गसंख्या\n"
     ]
    },
    {
     "name": "stdout",
     "output_type": "stream",
     "text": [
      "     in on_subtopic_page http://www.prathamopenschool.org/mr/Course/Mathematics/CRS103\n"
     ]
    },
    {
     "name": "stderr",
     "output_type": "stream",
     "text": [
      "     lesson: LES41: परिमिती\n",
      "     lesson: LES42: कोन\n",
      "     lesson: LES48: त्रिकोण\n",
      "     lesson: LES63: आकार आणि बहुभुज आकृत्या\n",
      "     lesson: LES64: वर्तुळ\n",
      "     lesson: LES65: क्षेत्रफळ\n"
     ]
    },
    {
     "name": "stdout",
     "output_type": "stream",
     "text": [
      "     in on_subtopic_page http://www.prathamopenschool.org/mr/Course/Mathematics/CRS14\n"
     ]
    },
    {
     "name": "stderr",
     "output_type": "stream",
     "text": [
      "     lesson: LES68: विभाज्य संख्या\n",
      "     lesson: LES69: विभाजक संख्या\n",
      "     lesson: LES70: मसावि\n",
      "     lesson: LES71: लसावि\n",
      "     lesson: LES72: मूळ अवयव\n",
      "     lesson: LES73: लसावि आणि मसाविची गंमत\n",
      "     lesson: LES46: नाती गणितातली\n"
     ]
    },
    {
     "name": "stdout",
     "output_type": "stream",
     "text": [
      "     in on_subtopic_page http://www.prathamopenschool.org/mr/Course/Mathematics/CRS23\n"
     ]
    },
    {
     "name": "stderr",
     "output_type": "stream",
     "text": [
      "     lesson: LES477: दशांश अपूर्णांकात अजून काय?\n",
      "     lesson: LES478: दोन अकांच्या मध्ये\n",
      "     lesson: LES479: १०० पैकी किती?\n",
      "     lesson: LES480: अपूर्णांकात अजुन काय?\n",
      "     lesson: LES40: पूर्ण नसलेले अंक\n"
     ]
    },
    {
     "name": "stdout",
     "output_type": "stream",
     "text": [
      "     in on_subtopic_page http://www.prathamopenschool.org/mr/Course/Mathematics/CRS75\n"
     ]
    },
    {
     "name": "stderr",
     "output_type": "stream",
     "text": [
      "     lesson: LES108: परिमाण आणि संख्या\n"
     ]
    },
    {
     "name": "stdout",
     "output_type": "stream",
     "text": [
      "     in on_subtopic_page http://www.prathamopenschool.org/mr/Course/Mathematics/CRS42\n"
     ]
    },
    {
     "name": "stderr",
     "output_type": "stream",
     "text": [
      "     lesson: LES45: शेकडेवारी\n"
     ]
    },
    {
     "name": "stdout",
     "output_type": "stream",
     "text": [
      "     in on_subtopic_page http://www.prathamopenschool.org/mr/Course/Mathematics/CRS15\n"
     ]
    },
    {
     "name": "stderr",
     "output_type": "stream",
     "text": [
      "     lesson: LES91: बीजगणिताशी ओळख\n"
     ]
    },
    {
     "name": "stdout",
     "output_type": "stream",
     "text": [
      "     in on_subtopic_page http://www.prathamopenschool.org/mr/Course/Mathematics/CRS38\n"
     ]
    },
    {
     "name": "stderr",
     "output_type": "stream",
     "text": [
      "     lesson: LES93: दशांश अपूर्णांक\n",
      "     lesson: LES94: दशांश अपूर्णांकांची बेरीज आणि वजाबाकी\n"
     ]
    },
    {
     "name": "stdout",
     "output_type": "stream",
     "text": [
      "     in on_subtopic_page http://www.prathamopenschool.org/mr/Course/Mathematics/CRS39\n"
     ]
    },
    {
     "name": "stderr",
     "output_type": "stream",
     "text": [
      "     lesson: LES409: करा हॅलो ने सुरवात\n",
      "     lesson: LES410: नाती गोती\n",
      "     lesson: LES411: गप्पा\n",
      "     lesson: LES412: सिनेमा\n",
      "     lesson: LES437: वेळ समजून घेऊ या\n",
      "     lesson: LES438: खरेदीला चला\n",
      "     lesson: LES439: स्वत:चा सिनेमा बनवा\n",
      "     lesson: LES440: सलमा दिदीचे लग्न\n",
      "     lesson: LES441: बातम्या\n",
      "     lesson: LES615: घाबरायचं काम नाही\n",
      "     lesson: LES616: मुलांची टोळी\n",
      "     lesson: LES617: गावात चोर\n"
     ]
    },
    {
     "name": "stdout",
     "output_type": "stream",
     "text": [
      "     in on_subtopic_page http://www.prathamopenschool.org/mr/Course/English/CRS35\n"
     ]
    },
    {
     "name": "stderr",
     "output_type": "stream",
     "text": [
      "     lesson: LES413: अंग्रेजी ओके 1\n",
      "     lesson: LES415: अंग्रेजी ओके 2\n",
      "     lesson: LES416: अंग्रेजी ओके 3\n",
      "     lesson: LES417: अंग्रेजी ओके 4\n",
      "     lesson: LES418: अंग्रेजी ओके 5\n",
      "     lesson: LES419: अंग्रेजी ओके 6\n",
      "     lesson: LES420: अंग्रेजी ओके 8\n",
      "     lesson: LES421: अंग्रेजी ओके 9\n",
      "     lesson: LES422: अंग्रेजी ओके 10\n",
      "     lesson: LES423: अंग्रेजी ओके 11\n",
      "     lesson: LES424: अंग्रेजी ओके 12\n",
      "     lesson: LES425: अंग्रेजी ओके 13\n"
     ]
    },
    {
     "name": "stdout",
     "output_type": "stream",
     "text": [
      "     in on_subtopic_page http://www.prathamopenschool.org/mr/Course/English/CRS37\n"
     ]
    },
    {
     "name": "stderr",
     "output_type": "stream",
     "text": [
      "     lesson: LES605: सूर्यमालेशी ओळख\n",
      "     lesson: LES606: पृथ्वीची सफर\n"
     ]
    },
    {
     "name": "stdout",
     "output_type": "stream",
     "text": [
      "     in on_subtopic_page http://www.prathamopenschool.org/mr/Course/Science/CRS100\n"
     ]
    },
    {
     "name": "stderr",
     "output_type": "stream",
     "text": [
      "     lesson: LES607: ऊर्जेशी ओळख\n",
      "     lesson: LES611: कार्य आणि ऊर्जा\n"
     ]
    },
    {
     "name": "stdout",
     "output_type": "stream",
     "text": [
      "     in on_subtopic_page http://www.prathamopenschool.org/mr/Course/Science/CRS101\n"
     ]
    },
    {
     "name": "stderr",
     "output_type": "stream",
     "text": [
      "     lesson: LES223: शरीराची हालचाल\n",
      "     lesson: LES619: रक्ताभिसरण संस्था\n"
     ]
    },
    {
     "name": "stdout",
     "output_type": "stream",
     "text": [
      "     in on_subtopic_page http://www.prathamopenschool.org/mr/Course/Science/CRS43\n"
     ]
    },
    {
     "name": "stderr",
     "output_type": "stream",
     "text": [
      "     lesson: LES474: गतीशी ओळख\n",
      "     lesson: LES476: बोला बाबा!\n"
     ]
    },
    {
     "name": "stdout",
     "output_type": "stream",
     "text": [
      "     in on_subtopic_page http://www.prathamopenschool.org/mr/Course/Science/CRS73\n"
     ]
    },
    {
     "name": "stderr",
     "output_type": "stream",
     "text": [
      "     lesson: LES222: मोजायचं कसं ?\n"
     ]
    },
    {
     "name": "stdout",
     "output_type": "stream",
     "text": [
      "     in on_subtopic_page http://www.prathamopenschool.org/mr/Course/Science/CRS45\n"
     ]
    },
    {
     "name": "stderr",
     "output_type": "stream",
     "text": [
      "     lesson: LES475: अणू - रेणू\n",
      "     lesson: LES44: द्रव्याशी ओळख\n",
      "     lesson: LES102: वस्तुमान आणि वजन\n"
     ]
    },
    {
     "name": "stdout",
     "output_type": "stream",
     "text": [
      "     in on_subtopic_page http://www.prathamopenschool.org/mr/Course/Science/CRS74\n"
     ]
    },
    {
     "name": "stderr",
     "output_type": "stream",
     "text": [
      "     lesson: LES202: प्रकाशाचे गुणधर्म\n",
      "     lesson: LES538: रंगांची दुनिया\n",
      "     lesson: LES558: शोधांचा इतिहास\n"
     ]
    },
    {
     "name": "stdout",
     "output_type": "stream",
     "text": [
      "     in on_subtopic_page http://www.prathamopenschool.org/mr/Course/Science/CRS85\n"
     ]
    },
    {
     "name": "stderr",
     "output_type": "stream",
     "text": [
      "     lesson: LES498: उल्का\n",
      "     lesson: LES499: जंगल\n",
      "     lesson: LES500: चुंबक\n",
      "     lesson: LES501: अणू\n",
      "     lesson: LES502: लसीकरण\n",
      "     lesson: LES503: कार्बनीकरण\n",
      "     lesson: LES504: धातू, अधातू\n",
      "     lesson: LES505: आयन\n",
      "     lesson: LES506: मृदा\n",
      "     lesson: LES507: हवामान\n"
     ]
    },
    {
     "name": "stdout",
     "output_type": "stream",
     "text": [
      "     in on_subtopic_page http://www.prathamopenschool.org/mr/Course/Std8/CRS78\n"
     ]
    },
    {
     "name": "stderr",
     "output_type": "stream",
     "text": [
      "     lesson: LES483: वर्गमूळ\n",
      "     lesson: LES484: रेषा\n",
      "     lesson: LES485: चौकोन\n",
      "     lesson: LES486: वर्तुळ क्षेत्रफळ\n",
      "     lesson: LES487: माहिती\n",
      "     lesson: LES488: सम-व्यस्त प्रमाण\n",
      "     lesson: LES489: पास्कलचा त्रिकोण\n",
      "     lesson: LES490: घन, घनमूळ\n",
      "     lesson: LES491: घातांक\n",
      "     lesson: LES492: कोन, चौकोन\n",
      "     lesson: LES493: केंद्रीय कोन\n",
      "     lesson: LES494: बीजगणित जादू\n",
      "     lesson: LES495: दलाली\n",
      "     lesson: LES496: पृष्ठफळ आणि घनफळ\n",
      "     lesson: LES497: अवयव\n"
     ]
    },
    {
     "name": "stdout",
     "output_type": "stream",
     "text": [
      "     in on_subtopic_page http://www.prathamopenschool.org/mr/Course/Std8/CRS77\n",
      "     in on_story_resource_page http://www.prathamopenschool.org/mr/StoryResource/1073\n",
      "     in on_story_resource_page http://www.prathamopenschool.org/mr/StoryResource/1109\n",
      "     in on_story_resource_page http://www.prathamopenschool.org/mr/StoryResource/1094\n",
      "     in on_story_resource_page http://www.prathamopenschool.org/mr/StoryResource/1108\n",
      "     in on_story_resource_page http://www.prathamopenschool.org/mr/StoryResource/1083\n",
      "     in on_story_resource_page http://www.prathamopenschool.org/mr/StoryResource/1098\n",
      "     in on_story_resource_page http://www.prathamopenschool.org/mr/StoryResource/1104\n",
      "     in on_story_resource_page http://www.prathamopenschool.org/mr/StoryResource/1106\n",
      "     in on_story_resource_page http://www.prathamopenschool.org/mr/StoryResource/1071\n",
      "     in on_story_resource_page http://www.prathamopenschool.org/mr/StoryResource/1077\n",
      "     in on_story_resource_page http://www.prathamopenschool.org/mr/StoryResource/1110\n",
      "     in on_story_resource_page http://www.prathamopenschool.org/mr/StoryResource/1100\n",
      "     in on_story_resource_page http://www.prathamopenschool.org/mr/StoryResource/1101\n",
      "     in on_story_resource_page http://www.prathamopenschool.org/mr/StoryResource/1099\n",
      "     in on_story_resource_page http://www.prathamopenschool.org/mr/StoryResource/1085\n",
      "     in on_story_resource_page http://www.prathamopenschool.org/mr/StoryResource/1079\n",
      "     in on_story_resource_page http://www.prathamopenschool.org/mr/StoryResource/1084\n",
      "     in on_story_resource_page http://www.prathamopenschool.org/mr/StoryResource/1074\n",
      "     in on_story_resource_page http://www.prathamopenschool.org/mr/StoryResource/1105\n",
      "     in on_story_resource_page http://www.prathamopenschool.org/mr/StoryResource/1076\n",
      "     in on_story_resource_page http://www.prathamopenschool.org/mr/StoryResource/1080\n",
      "     in on_story_resource_page http://www.prathamopenschool.org/mr/StoryResource/1095\n",
      "     in on_story_resource_page http://www.prathamopenschool.org/mr/StoryResource/1107\n",
      "     in on_story_resource_page http://www.prathamopenschool.org/mr/StoryResource/1075\n",
      "     in on_story_resource_page http://www.prathamopenschool.org/mr/StoryResource/1093\n",
      "     in on_story_resource_page http://www.prathamopenschool.org/mr/StoryResource/1088\n",
      "     in on_story_resource_page http://www.prathamopenschool.org/mr/StoryResource/1086\n",
      "     in on_story_resource_page http://www.prathamopenschool.org/mr/StoryResource/1096\n",
      "     in on_story_resource_page http://www.prathamopenschool.org/mr/StoryResource/1090\n",
      "     in on_story_resource_page http://www.prathamopenschool.org/mr/StoryResource/1082\n",
      "     in on_story_resource_page http://www.prathamopenschool.org/mr/StoryResource/1103\n",
      "     in on_story_resource_page http://www.prathamopenschool.org/mr/StoryResource/1078\n",
      "     in on_story_resource_page http://www.prathamopenschool.org/mr/StoryResource/1070\n",
      "     in on_story_resource_page http://www.prathamopenschool.org/mr/StoryResource/1092\n",
      "     in on_story_resource_page http://www.prathamopenschool.org/mr/StoryResource/1089\n",
      "     in on_story_resource_page http://www.prathamopenschool.org/mr/StoryResource/1072\n",
      "     in on_story_resource_page http://www.prathamopenschool.org/mr/StoryResource/1097\n",
      "     in on_story_resource_page http://www.prathamopenschool.org/mr/StoryResource/1081\n",
      "     in on_story_resource_page http://www.prathamopenschool.org/mr/StoryResource/1112\n",
      "     in on_story_resource_page http://www.prathamopenschool.org/mr/StoryResource/1091\n",
      "     in on_story_resource_page http://www.prathamopenschool.org/mr/StoryResource/1102\n",
      "     in on_story_resource_page http://www.prathamopenschool.org/mr/StoryResource/1087\n",
      "     in on_story_resource_page http://www.prathamopenschool.org/mr/StoryResource/1111\n"
     ]
    },
    {
     "name": "stderr",
     "output_type": "stream",
     "text": [
      "      content: 1511: व्याज म्हणजे काय? \n",
      "      content: 1512: सरळव्याज काय असते? \n",
      "      content: 1513: सरळव्याज उदाहरणे \n"
     ]
    },
    {
     "name": "stdout",
     "output_type": "stream",
     "text": [
      "      in on_lesson_page http://www.prathamopenschool.org/mr/Lesson/LES608\n"
     ]
    },
    {
     "name": "stderr",
     "output_type": "stream",
     "text": [
      "      content: 1514: वर्गसंख्या म्हणजे? \n",
      "      content: 1515: वर्गमूळ कसे काढायचे? \n",
      "      content: 1516: वर्गसंख्या गंमत \n",
      "      content: 1517: त्रिकोणसंख्या गंमत \n"
     ]
    },
    {
     "name": "stdout",
     "output_type": "stream",
     "text": [
      "      in on_lesson_page http://www.prathamopenschool.org/mr/Lesson/LES609\n"
     ]
    },
    {
     "name": "stderr",
     "output_type": "stream",
     "text": [
      "      content: 844: अंदाजपंचे परिमिती - आयत \n",
      "      content: 845: अंदाजपंचे परिमिती - चौरस \n",
      "      content: 846: अंदाजपंचे परिमिती - त्रिकोण \n",
      "      content: 843: अंदाजपंचे परिमिती - वर्तुळ \n",
      "      content: 78: परिमिती म्हणजे काय? \n",
      "      content: 68: परिमितीशी खेळ \n",
      "      content: 865: परिमिती 1 \n",
      "      content: 822: परिमिती 2 \n"
     ]
    },
    {
     "name": "stdout",
     "output_type": "stream",
     "text": [
      "      in on_lesson_page http://www.prathamopenschool.org/mr/Lesson/LES41\n"
     ]
    },
    {
     "name": "stderr",
     "output_type": "stream",
     "text": [
      "      content: 67: कोन करा \n",
      "      content: 179: अंदाजपंचे कोन \n",
      "      content: 816: कोन आणि त्याचे प्रकार \n",
      "      content: 79: कोन म्हणजे? \n",
      "      content: 85: कोनांचे प्रकार \n"
     ]
    },
    {
     "name": "stdout",
     "output_type": "stream",
     "text": [
      "      in on_lesson_page http://www.prathamopenschool.org/mr/Lesson/LES42\n"
     ]
    },
    {
     "name": "stderr",
     "output_type": "stream",
     "text": [
      "      content: 83: त्रिकोणाशी खेळ \n",
      "      content: 817: त्रिकोण 1 \n",
      "      content: 818: त्रिकोण 2  \n",
      "      content: 819: त्रिकोण 3 \n",
      "      content: 825: अंदाजपंचे क्षेत्रफळ - त्रिकोण \n",
      "      content: 86: त्रिकोणाची गंमत \n",
      "      content: 84: त्रिकोणांचे प्रकार \n"
     ]
    },
    {
     "name": "stdout",
     "output_type": "stream",
     "text": [
      "      in on_lesson_page http://www.prathamopenschool.org/mr/Lesson/LES48\n"
     ]
    },
    {
     "name": "stderr",
     "output_type": "stream",
     "text": [
      "      content: 88: आकार आणि बहुभूज आकृत्या \n"
     ]
    },
    {
     "name": "stdout",
     "output_type": "stream",
     "text": [
      "      in on_lesson_page http://www.prathamopenschool.org/mr/Lesson/LES63\n"
     ]
    },
    {
     "name": "stderr",
     "output_type": "stream",
     "text": [
      "      content: 820: वर्तुळ 1 \n",
      "      content: 821: वर्तुळ 2 \n",
      "      content: 80: वर्तुळ म्हणजे काय? \n",
      "      content: 823: अंदाजपंचे क्षेत्रफळ - वर्तुळ \n",
      "      content: 69: वर्तुळाशी खेळ \n"
     ]
    },
    {
     "name": "stdout",
     "output_type": "stream",
     "text": [
      "      in on_lesson_page http://www.prathamopenschool.org/mr/Lesson/LES64\n"
     ]
    },
    {
     "name": "stderr",
     "output_type": "stream",
     "text": [
      "      content: 823: अंदाजपंचे क्षेत्रफळ - वर्तुळ \n",
      "      content: 825: अंदाजपंचे क्षेत्रफळ - त्रिकोण \n",
      "      content: 143: क्षेत्रफळ म्हणजे काय? \n",
      "      content: 176: अंदाजपंचे क्षेत्रफळ - आयत \n",
      "      content: 824: अंदाजपंचे क्षेत्रफळ - चौरस \n"
     ]
    },
    {
     "name": "stdout",
     "output_type": "stream",
     "text": [
      "      in on_lesson_page http://www.prathamopenschool.org/mr/Lesson/LES65\n"
     ]
    },
    {
     "name": "stderr",
     "output_type": "stream",
     "text": [
      "      content: 122: सांगा पाहू - विभाज्य \n",
      "      content: 145: विभाज्य संख्या \n",
      "      content: 146: विभाज्य संख्यांचे नियम \n",
      "      content: 1341: दे दणादण!!! \n"
     ]
    },
    {
     "name": "stdout",
     "output_type": "stream",
     "text": [
      "      in on_lesson_page http://www.prathamopenschool.org/mr/Lesson/LES68\n"
     ]
    },
    {
     "name": "stderr",
     "output_type": "stream",
     "text": [
      "      content: 121: सांगा पाहू - विभाजक \n",
      "      content: 147: विभाजक म्हणजे काय? \n",
      "      content: 148: विभाजक संख्या - नियम \n",
      "      content: 888: विभाजक फोडा \n"
     ]
    },
    {
     "name": "stdout",
     "output_type": "stream",
     "text": [
      "      in on_lesson_page http://www.prathamopenschool.org/mr/Lesson/LES69\n"
     ]
    },
    {
     "name": "stderr",
     "output_type": "stream",
     "text": [
      "      content: 124: सांगा पाहू - म.सा.वि \n",
      "      content: 874: सांगा माझी संख्या \n",
      "      content: 149: मसावि म्हणजे काय? \n",
      "      content: 153: मूळ अवयव \n",
      "      content: 150: मसावि मूळ अवयव पद्धतीने \n",
      "      content: 1411: भर भर भरा! \n"
     ]
    },
    {
     "name": "stdout",
     "output_type": "stream",
     "text": [
      "      in on_lesson_page http://www.prathamopenschool.org/mr/Lesson/LES70\n"
     ]
    },
    {
     "name": "stderr",
     "output_type": "stream",
     "text": [
      "      content: 123: सांगा पाहू - ल.सा.वि \n",
      "      content: 874: सांगा माझी संख्या \n",
      "      content: 151: लसावि म्हणजे काय? \n",
      "      content: 153: मूळ अवयव \n",
      "      content: 152: लसावि मूळ अवयव पद्धतीने \n",
      "      content: 451: मैत्री अशी असावी काढून बघा लसावि \n",
      "      content: 1411: भर भर भरा! \n"
     ]
    },
    {
     "name": "stdout",
     "output_type": "stream",
     "text": [
      "      in on_lesson_page http://www.prathamopenschool.org/mr/Lesson/LES71\n"
     ]
    },
    {
     "name": "stderr",
     "output_type": "stream",
     "text": [
      "      content: 153: मूळ अवयव \n"
     ]
    },
    {
     "name": "stdout",
     "output_type": "stream",
     "text": [
      "      in on_lesson_page http://www.prathamopenschool.org/mr/Lesson/LES72\n"
     ]
    },
    {
     "name": "stderr",
     "output_type": "stream",
     "text": [
      "      content: 124: सांगा पाहू - म.सा.वि \n",
      "      content: 154: लसावि आणि मसाविची गंमत \n",
      "      content: 123: सांगा पाहू - ल.सा.वि \n"
     ]
    },
    {
     "name": "stdout",
     "output_type": "stream",
     "text": [
      "      in on_lesson_page http://www.prathamopenschool.org/mr/Lesson/LES73\n"
     ]
    },
    {
     "name": "stderr",
     "output_type": "stream",
     "text": [
      "      content: 452: नाती आपली आणि गणितातली 1 \n",
      "      content: 453: नाती आपली आणि गणितातली 2 \n"
     ]
    },
    {
     "name": "stdout",
     "output_type": "stream",
     "text": [
      "      in on_lesson_page http://www.prathamopenschool.org/mr/Lesson/LES46\n"
     ]
    },
    {
     "name": "stderr",
     "output_type": "stream",
     "text": [
      "      content: 1284: दशांश अपूर्णाकांची बेरीज \n",
      "      content: 1285: दशांश अपूर्णाकांची वजाबाकी \n"
     ]
    },
    {
     "name": "stdout",
     "output_type": "stream",
     "text": [
      "      in on_lesson_page http://www.prathamopenschool.org/mr/Lesson/LES477\n"
     ]
    },
    {
     "name": "stderr",
     "output_type": "stream",
     "text": [
      "      content: 831: दशांश अपूर्णांक म्हणजे? \n",
      "      content: 833: दशांश अपूर्णांक तुलना \n",
      "      content: 815: दशांश अपूर्णांक \n",
      "      content: 885: दशांश अपूर्णांक \n",
      "      content: 1286: दशांश अपूर्णांक अंश-छेद रुपात \n",
      "      content: 1287: अंश-छेद अपूर्णाकांचे दशांश अपूर्णाकात रूपांतर \n",
      "      content: 801: अपूर्णांक ओळखा \n",
      "      content: 444: सांगा माझी किंमत \n"
     ]
    },
    {
     "name": "stdout",
     "output_type": "stream",
     "text": [
      "      in on_lesson_page http://www.prathamopenschool.org/mr/Lesson/LES478\n"
     ]
    },
    {
     "name": "stderr",
     "output_type": "stream",
     "text": [
      "      content: 1288: शेकडेवारी म्हणजे काय? \n",
      "      content: 1289: शेकडा अपूर्णांकात \n",
      "      content: 1290: अपूर्णांक शेकड्यात \n"
     ]
    },
    {
     "name": "stdout",
     "output_type": "stream",
     "text": [
      "      in on_lesson_page http://www.prathamopenschool.org/mr/Lesson/LES479\n"
     ]
    },
    {
     "name": "stderr",
     "output_type": "stream",
     "text": [
      "      content: 1291: पूर्णांकयुक्त अपूर्णांकांची बेरीज \n",
      "      content: 1292: अपूर्णांकांची वजाबाकी \n",
      "      content: 1293: अपूर्णांकांचा गुणाकार \n",
      "      content: 1294: गुणाकारव्यस्त \n"
     ]
    },
    {
     "name": "stdout",
     "output_type": "stream",
     "text": [
      "      in on_lesson_page http://www.prathamopenschool.org/mr/Lesson/LES480\n"
     ]
    },
    {
     "name": "stderr",
     "output_type": "stream",
     "text": [
      "      content: 887: अपूर्णांक रंगवा \n",
      "      content: 89: अपूर्णांक म्हणजे काय? \n",
      "      content: 71: अपूर्णांकाचे प्रकार \n",
      "      content: 144: अपूर्णांकांचे अतिसंक्षिप्त रूप \n",
      "      content: 835: सममूल्य अपूर्णांक \n",
      "      content: 1116: अपूर्णांकाची तुलना \n",
      "      content: 1117: अंशाधिक आणि पूर्णांकयुक्त अपूर्णांक \n"
     ]
    },
    {
     "name": "stdout",
     "output_type": "stream",
     "text": [
      "      in on_lesson_page http://www.prathamopenschool.org/mr/Lesson/LES40\n"
     ]
    },
    {
     "name": "stderr",
     "output_type": "stream",
     "text": [
      "      content: 869: परिमाण आणि संख्या 1 \n",
      "      content: 870: परिमाण आणि संख्या 2 \n",
      "      content: 871: परिमाण आणि संख्या 3 \n",
      "      content: 872: परिमाण आणि संख्या 4 \n"
     ]
    },
    {
     "name": "stdout",
     "output_type": "stream",
     "text": [
      "      in on_lesson_page http://www.prathamopenschool.org/mr/Lesson/LES108\n"
     ]
    },
    {
     "name": "stderr",
     "output_type": "stream",
     "text": [
      "      content: 73: टक्के बदलून पहा \n",
      "      content: 76: शेकडेवारी म्हणजे काय? \n",
      "      content: 141: तोंडी टक्केवारी \n",
      "      content: 813: शेकडेवारी \n"
     ]
    },
    {
     "name": "stdout",
     "output_type": "stream",
     "text": [
      "      in on_lesson_page http://www.prathamopenschool.org/mr/Lesson/LES45\n"
     ]
    },
    {
     "name": "stderr",
     "output_type": "stream",
     "text": [
      "      content: 829: बीजगणित म्हणजे काय? \n",
      "      content: 830: बीजगणितातले शब्द \n"
     ]
    },
    {
     "name": "stdout",
     "output_type": "stream",
     "text": [
      "      in on_lesson_page http://www.prathamopenschool.org/mr/Lesson/LES91\n"
     ]
    },
    {
     "name": "stderr",
     "output_type": "stream",
     "text": [
      "      content: 831: दशांश अपूर्णांक म्हणजे? \n",
      "      content: 833: दशांश अपूर्णांक तुलना \n",
      "      content: 444: सांगा माझी किंमत \n",
      "      content: 815: दशांश अपूर्णांक \n",
      "      content: 885: दशांश अपूर्णांक \n"
     ]
    },
    {
     "name": "stdout",
     "output_type": "stream",
     "text": [
      "      in on_lesson_page http://www.prathamopenschool.org/mr/Lesson/LES93\n"
     ]
    },
    {
     "name": "stderr",
     "output_type": "stream",
     "text": [
      "      content: 832: दशांश अपूर्णांकांची बेरीज \n",
      "      content: 834: दशांश अपूर्णांकांची वजाबाकी \n"
     ]
    },
    {
     "name": "stdout",
     "output_type": "stream",
     "text": [
      "      in on_lesson_page http://www.prathamopenschool.org/mr/Lesson/LES94\n"
     ]
    },
    {
     "name": "stderr",
     "output_type": "stream",
     "text": [
      "      content: 224: चित्र आणि शब्द \n",
      "      content: 211: राहुलशी ओळख \n",
      "      content: 265: Translation Machine - 1 \n",
      "      content: 212: राहुलशी मैत्री  \n",
      "      content: 213: मधु आणि दीपकशी ओळख \n",
      "      content: 214: मधु आणि दीपकशी मैत्री \n",
      "      content: 215: नवीन मित्रांशी गप्पा \n",
      "      content: 216: राहुलशी ओळख - सराव \n",
      "      content: 217: मधु आणि दीपकशी ओळख - सराव \n",
      "      content: 1295: Match the words \n"
     ]
    },
    {
     "name": "stdout",
     "output_type": "stream",
     "text": [
      "      in on_lesson_page http://www.prathamopenschool.org/mr/Lesson/LES409\n"
     ]
    },
    {
     "name": "stderr",
     "output_type": "stream",
     "text": [
      "      content: 276: Translation Machine - 2 \n",
      "      content: 218: राहुलच्या आई बाबांशी ओळख \n",
      "      content: 219: राहुलच्या आई बाबांशी भेट \n",
      "      content: 220: दोन परिवारांची भेट  \n",
      "      content: 221: नवीन मित्र \n",
      "      content: 222: आमचे सुंदर कुटुंब \n"
     ]
    },
    {
     "name": "stdout",
     "output_type": "stream",
     "text": [
      "      in on_lesson_page http://www.prathamopenschool.org/mr/Lesson/LES410\n"
     ]
    },
    {
     "name": "stderr",
     "output_type": "stream",
     "text": [
      "      content: 227: चित्र आणि शब्द 2 \n",
      "      content: 277: Translation Machine - 3 \n",
      "      content: 253: नवीन मित्र जतिन \n",
      "      content: 254: जेवताना गप्पा \n",
      "      content: 255: सीमाचे प्रश्न \n",
      "      content: 256: सगळे कुठे गेले? \n",
      "      content: 257: सीमा आणि डॉलीची पुन्हा भेट! \n",
      "      content: 258: सीमा आणि डॉलीच्या गप्पा (सराव) \n"
     ]
    },
    {
     "name": "stdout",
     "output_type": "stream",
     "text": [
      "      in on_lesson_page http://www.prathamopenschool.org/mr/Lesson/LES411\n"
     ]
    },
    {
     "name": "stderr",
     "output_type": "stream",
     "text": [
      "      content: 568: Build a sentence \n",
      "      content: 259: आवडता हिरो \n",
      "      content: 260: चाहत्यांमधली चढा-ओढ \n",
      "      content: 261: सिनेमाला जाणे \n",
      "      content: 262: सिनेमावर चर्चा \n",
      "      content: 263: सीमा आणि मधुच्या आवडी-निवडी (सराव) \n",
      "      content: 264: दीपक आणि राहुलच्या आवडी निवडी(सराव) \n",
      "      content: 278: Translation Machine - 4 \n"
     ]
    },
    {
     "name": "stdout",
     "output_type": "stream",
     "text": [
      "      in on_lesson_page http://www.prathamopenschool.org/mr/Lesson/LES412\n"
     ]
    },
    {
     "name": "stderr",
     "output_type": "stream",
     "text": [
      "      content: 1124: सूर्य उगवला प्रकाश पडला \n",
      "      content: 1125: आम्ही शाळेत चाललो \n",
      "      content: 1126: टाइमपास \n",
      "      content: 1127: एका दिवसात दोन दोन पार्ट्या \n",
      "      content: 1128: ही शर्यत रे अपुली \n",
      "      content: 1129: निशाचे प्लान (सराव) \n",
      "      content: 1295: Match the words \n"
     ]
    },
    {
     "name": "stdout",
     "output_type": "stream",
     "text": [
      "      in on_lesson_page http://www.prathamopenschool.org/mr/Lesson/LES437\n"
     ]
    },
    {
     "name": "stderr",
     "output_type": "stream",
     "text": [
      "      content: 1130: खरेदी \n",
      "      content: 1131: रामू काकाचे दुकान \n",
      "      content: 1132: किराणा सामान  \n",
      "      content: 1133: फॅशन पॉइंट \n",
      "      content: 1134: रामू काकाचे दुकान (सराव) \n",
      "      content: 1296: Vanishing sentences \n"
     ]
    },
    {
     "name": "stdout",
     "output_type": "stream",
     "text": [
      "      in on_lesson_page http://www.prathamopenschool.org/mr/Lesson/LES438\n"
     ]
    },
    {
     "name": "stderr",
     "output_type": "stream",
     "text": [
      "      content: 1135: गोष्ट निवडा \n",
      "      content: 1136: पिक्चरचा मोठा प्लान \n",
      "      content: 1137: पात्र निवडा \n",
      "      content: 1138: शूटिंग \n"
     ]
    },
    {
     "name": "stdout",
     "output_type": "stream",
     "text": [
      "      in on_lesson_page http://www.prathamopenschool.org/mr/Lesson/LES439\n"
     ]
    },
    {
     "name": "stderr",
     "output_type": "stream",
     "text": [
      "      content: 1139: लग्नाची आनंदाची बातमी \n",
      "      content: 1140: माझ्या मित्र-मैत्रिणींना आमंत्रण \n",
      "      content: 1141: लग्नातले रंगी बेरंगी कपडे \n",
      "      content: 1142: सलमा दिदीची पार्टी \n",
      "      content: 1518: Correct pairs \n"
     ]
    },
    {
     "name": "stdout",
     "output_type": "stream",
     "text": [
      "      in on_lesson_page http://www.prathamopenschool.org/mr/Lesson/LES440\n"
     ]
    },
    {
     "name": "stderr",
     "output_type": "stream",
     "text": [
      "      content: 1143: आजच्या बातम्या \n",
      "      content: 1144: मैत्रीणीची मुलाखत \n",
      "      content: 1145: आईची मुलाखत \n"
     ]
    },
    {
     "name": "stdout",
     "output_type": "stream",
     "text": [
      "      in on_lesson_page http://www.prathamopenschool.org/mr/Lesson/LES441\n"
     ]
    },
    {
     "name": "stderr",
     "output_type": "stream",
     "text": [
      "      content: 1575: अरे बाप रे भूत ! \n",
      "      content: 1576: जिलबी कुठे गेली? \n",
      "      content: 1577: घरात उंदीर ! \n",
      "      content: 1578: उंदीर शोधा ! \n",
      "      content: 1579: गेला उंदीर कुणीकडे  \n"
     ]
    },
    {
     "name": "stdout",
     "output_type": "stream",
     "text": [
      "      in on_lesson_page http://www.prathamopenschool.org/mr/Lesson/LES615\n"
     ]
    },
    {
     "name": "stderr",
     "output_type": "stream",
     "text": [
      "      content: 1580: मस्तीखोर पोर \n",
      "      content: 1581: डॉ दीदीला बोलवा  \n",
      "      content: 1582: यशला कळले  \n",
      "      content: 1583: छोटा खलीस \n",
      "      content: 1584: शाब्बास! \n"
     ]
    },
    {
     "name": "stdout",
     "output_type": "stream",
     "text": [
      "      in on_lesson_page http://www.prathamopenschool.org/mr/Lesson/LES616\n"
     ]
    },
    {
     "name": "stderr",
     "output_type": "stream",
     "text": [
      "      content: 1585: गोड गोड पदार्थ  \n",
      "      content: 1586: लता ची चोरी \n",
      "      content: 1587: लता कुठे गेली? \n",
      "      content: 1588: लताचे स्वागत! \n"
     ]
    },
    {
     "name": "stdout",
     "output_type": "stream",
     "text": [
      "      in on_lesson_page http://www.prathamopenschool.org/mr/Lesson/LES617\n"
     ]
    },
    {
     "name": "stderr",
     "output_type": "stream",
     "text": [
      "      content: 270: अंग्रेजी ओके प्लीज 1.1 \n",
      "      content: 271: अंग्रेजी ओके प्लीज 1.2 \n",
      "      content: 272: अंग्रेजी ओके प्लीज 1.3 \n"
     ]
    },
    {
     "name": "stdout",
     "output_type": "stream",
     "text": [
      "      in on_lesson_page http://www.prathamopenschool.org/mr/Lesson/LES413\n"
     ]
    },
    {
     "name": "stderr",
     "output_type": "stream",
     "text": [
      "      content: 501: अंग्रेजी ओके 2.1 \n",
      "      content: 502: अंग्रेजी ओके 2.2 \n",
      "      content: 503: अंग्रेजी ओके 2.3 \n"
     ]
    },
    {
     "name": "stdout",
     "output_type": "stream",
     "text": [
      "      in on_lesson_page http://www.prathamopenschool.org/mr/Lesson/LES415\n"
     ]
    },
    {
     "name": "stderr",
     "output_type": "stream",
     "text": [
      "      content: 504: अंग्रेजी ओके 3.1 \n",
      "      content: 505: अंग्रेजी ओके 3.2 \n",
      "      content: 506: अंग्रेजी ओके 3.3 \n"
     ]
    },
    {
     "name": "stdout",
     "output_type": "stream",
     "text": [
      "      in on_lesson_page http://www.prathamopenschool.org/mr/Lesson/LES416\n"
     ]
    },
    {
     "name": "stderr",
     "output_type": "stream",
     "text": [
      "      content: 507: अंग्रेजी ओके 4.1 \n",
      "      content: 508: अंग्रेजी ओके 4.2 \n",
      "      content: 509: अंग्रेजी ओके 4.3 \n"
     ]
    },
    {
     "name": "stdout",
     "output_type": "stream",
     "text": [
      "      in on_lesson_page http://www.prathamopenschool.org/mr/Lesson/LES417\n"
     ]
    },
    {
     "name": "stderr",
     "output_type": "stream",
     "text": [
      "      content: 510: अंग्रेजी ओके 5.1 \n",
      "      content: 511: अंग्रेजी ओके 5.2 \n",
      "      content: 512: अंग्रेजी ओके 5.3 \n"
     ]
    },
    {
     "name": "stdout",
     "output_type": "stream",
     "text": [
      "      in on_lesson_page http://www.prathamopenschool.org/mr/Lesson/LES418\n"
     ]
    },
    {
     "name": "stderr",
     "output_type": "stream",
     "text": [
      "      content: 513: अंग्रेजी ओके 6.1 \n",
      "      content: 514: अंग्रेजी ओके 6.2 \n",
      "      content: 515: अंग्रेजी ओके 6.3 \n"
     ]
    },
    {
     "name": "stdout",
     "output_type": "stream",
     "text": [
      "      in on_lesson_page http://www.prathamopenschool.org/mr/Lesson/LES419\n"
     ]
    },
    {
     "name": "stderr",
     "output_type": "stream",
     "text": [
      "      content: 516: अंग्रेजी ओके 8.1 \n",
      "      content: 517: अंग्रेजी ओके 8.2 \n",
      "      content: 518: अंग्रेजी ओके 8.3 \n"
     ]
    },
    {
     "name": "stdout",
     "output_type": "stream",
     "text": [
      "      in on_lesson_page http://www.prathamopenschool.org/mr/Lesson/LES420\n"
     ]
    },
    {
     "name": "stderr",
     "output_type": "stream",
     "text": [
      "      content: 519: अंग्रेजी ओके 9.1 \n",
      "      content: 520: अंग्रेजी ओके 9.2 \n",
      "      content: 521: अंग्रेजी ओके 9.3 \n"
     ]
    },
    {
     "name": "stdout",
     "output_type": "stream",
     "text": [
      "      in on_lesson_page http://www.prathamopenschool.org/mr/Lesson/LES421\n"
     ]
    },
    {
     "name": "stderr",
     "output_type": "stream",
     "text": [
      "      content: 522: अंग्रेजी ओके 10.1 \n",
      "      content: 523: अंग्रेजी ओके 10.2 \n",
      "      content: 524: अंग्रेजी ओके 10.3 \n"
     ]
    },
    {
     "name": "stdout",
     "output_type": "stream",
     "text": [
      "      in on_lesson_page http://www.prathamopenschool.org/mr/Lesson/LES422\n"
     ]
    },
    {
     "name": "stderr",
     "output_type": "stream",
     "text": [
      "      content: 525: अंग्रेजी ओके 11.1 \n",
      "      content: 526: अंग्रेजी ओके 11.2 \n",
      "      content: 527: अंग्रेजी ओके 11.3 \n"
     ]
    },
    {
     "name": "stdout",
     "output_type": "stream",
     "text": [
      "      in on_lesson_page http://www.prathamopenschool.org/mr/Lesson/LES423\n"
     ]
    },
    {
     "name": "stderr",
     "output_type": "stream",
     "text": [
      "      content: 528: अंग्रेजी ओके 12.1 \n",
      "      content: 529: अंग्रेजी ओके 12.2 \n",
      "      content: 530: अंग्रेजी ओके 12.3 \n"
     ]
    },
    {
     "name": "stdout",
     "output_type": "stream",
     "text": [
      "      in on_lesson_page http://www.prathamopenschool.org/mr/Lesson/LES424\n"
     ]
    },
    {
     "name": "stderr",
     "output_type": "stream",
     "text": [
      "      content: 531: अंग्रेजी ओके 13.1 \n",
      "      content: 532: अंग्रेजी ओके 13.2 \n",
      "      content: 533: अंग्रेजी ओके 13.3 \n"
     ]
    },
    {
     "name": "stdout",
     "output_type": "stream",
     "text": [
      "      in on_lesson_page http://www.prathamopenschool.org/mr/Lesson/LES425\n"
     ]
    },
    {
     "name": "stderr",
     "output_type": "stream",
     "text": [
      "      content: 1500: सूर्यमाला \n",
      "      content: 1501: अंतराळातून पृथ्वी \n"
     ]
    },
    {
     "name": "stdout",
     "output_type": "stream",
     "text": [
      "      in on_lesson_page http://www.prathamopenschool.org/mr/Lesson/LES605\n"
     ]
    },
    {
     "name": "stderr",
     "output_type": "stream",
     "text": [
      "      content: 1503: नकाशावर जागा शोधणे \n",
      "      content: 1504: नकाशा समजून घेणे \n",
      "      content: 1505: वेळेची गोष्ट 1 \n",
      "      content: 1506: वेळेची गोष्ट 2 \n"
     ]
    },
    {
     "name": "stdout",
     "output_type": "stream",
     "text": [
      "      in on_lesson_page http://www.prathamopenschool.org/mr/Lesson/LES606\n"
     ]
    },
    {
     "name": "stderr",
     "output_type": "stream",
     "text": [
      "      content: 1507: रूप बदलणारी ऊर्जा \n",
      "      content: 1508: ऊर्जेशी ओळख \n",
      "      content: 1509: ऊर्जा घराणे \n"
     ]
    },
    {
     "name": "stdout",
     "output_type": "stream",
     "text": [
      "      in on_lesson_page http://www.prathamopenschool.org/mr/Lesson/LES607\n"
     ]
    },
    {
     "name": "stderr",
     "output_type": "stream",
     "text": [
      "      content: 1510: चिंटूची मेहनत \n"
     ]
    },
    {
     "name": "stdout",
     "output_type": "stream",
     "text": [
      "      in on_lesson_page http://www.prathamopenschool.org/mr/Lesson/LES611\n"
     ]
    },
    {
     "name": "stderr",
     "output_type": "stream",
     "text": [
      "      content: 469: आपला सांगाडा \n",
      "      content: 470: आपल्या सांगाड्यातील मुख्य भाग  \n",
      "      content: 471: असा विकसित झाला आपला सांगाडा \n",
      "      content: 472: आपली कवटी \n",
      "      content: 473: हाडांना जोडून ठेवणारे सांधे \n",
      "      content: 474: पाठीचा कणा \n",
      "      content: 896: नाचणारा सांगाडा  \n",
      "      content: 897: बिजागरी माणूस \n",
      "      content: 1115: डॉ. हड्डी \n"
     ]
    },
    {
     "name": "stdout",
     "output_type": "stream",
     "text": [
      "      in on_lesson_page http://www.prathamopenschool.org/mr/Lesson/LES223\n"
     ]
    },
    {
     "name": "stderr",
     "output_type": "stream",
     "text": [
      "      content: 1572: रक्त परिचय \n",
      "      content: 1573: रक्त कशापासून बनते ? \n",
      "      content: 1574: रक्ताभिसरण संस्था \n"
     ]
    },
    {
     "name": "stdout",
     "output_type": "stream",
     "text": [
      "      in on_lesson_page http://www.prathamopenschool.org/mr/Lesson/LES619\n"
     ]
    },
    {
     "name": "stderr",
     "output_type": "stream",
     "text": [
      "      content: 1269: तिरकी का फिरकी - गतीचे विविध प्रकार \n",
      "      content: 1270: आळशी वस्तु - गतीचा पहिला नियम \n",
      "      content: 1271: बळामुळे पळपळ - गतीचा दुसरा नियम \n",
      "      content: 1272: जशास तसे - गतीचा तिसरा नियम \n",
      "      content: 1273: चाल आणि वेग \n",
      "      content: 1274: बुंगाट भाग 1 \n",
      "      content: 1275: बुंगाट भाग 2 \n",
      "      content: 1276: शर्यत \n",
      "      content: 1277: त्वरणला कोण घाबरतंय? \n"
     ]
    },
    {
     "name": "stdout",
     "output_type": "stream",
     "text": [
      "      in on_lesson_page http://www.prathamopenschool.org/mr/Lesson/LES474\n"
     ]
    },
    {
     "name": "stderr",
     "output_type": "stream",
     "text": [
      "      content: 1279: सांगा बाबा गैलिलियो...जमिनीवर आधी कोण \n",
      "      content: 1280: बोला बाबा न्यूटन...चेंडू कुठे गेला ? \n",
      "      content: 1281: बोला बाबा न्यूटन...स्पीड किती असेल ? \n",
      "      content: 1282: बोला बाबा न्यूटन...जोर लगाके हैशा? \n",
      "      content: 1283: बोला बाबा न्यूटन...अंड्याचा फंडा? \n"
     ]
    },
    {
     "name": "stdout",
     "output_type": "stream",
     "text": [
      "      in on_lesson_page http://www.prathamopenschool.org/mr/Lesson/LES476\n"
     ]
    },
    {
     "name": "stderr",
     "output_type": "stream",
     "text": [
      "      content: 461: परिमाण आणि संख्या भाग 1 \n",
      "      content: 462: परिमाण आणि संख्या भाग 2 \n",
      "      content: 463: परिमाण आणि संख्या भाग 3 \n",
      "      content: 464: परिमाण आणि संख्या भाग 4 \n",
      "      content: 465: परिमाण आणि संख्या भाग 5 \n",
      "      content: 466: इमारतीच्या उंचीचा अंदाज \n",
      "      content: 467: खांबाची उंची \n",
      "      content: 468: ढील \n"
     ]
    },
    {
     "name": "stdout",
     "output_type": "stream",
     "text": [
      "      in on_lesson_page http://www.prathamopenschool.org/mr/Lesson/LES222\n"
     ]
    },
    {
     "name": "stderr",
     "output_type": "stream",
     "text": [
      "      content: 1278: रेणूची संरचना \n"
     ]
    },
    {
     "name": "stdout",
     "output_type": "stream",
     "text": [
      "      in on_lesson_page http://www.prathamopenschool.org/mr/Lesson/LES475\n"
     ]
    },
    {
     "name": "stderr",
     "output_type": "stream",
     "text": [
      "      content: 437: द्रव्य आणि घनता \n",
      "      content: 438: द्रव्याच्या अवस्था \n",
      "      content: 898: भर भर भरा \n"
     ]
    },
    {
     "name": "stdout",
     "output_type": "stream",
     "text": [
      "      in on_lesson_page http://www.prathamopenschool.org/mr/Lesson/LES44\n"
     ]
    },
    {
     "name": "stderr",
     "output_type": "stream",
     "text": [
      "      content: 440: वस्तुमान आणि वजन भाग 1 \n",
      "      content: 441: वस्तुमान आणि वजन भाग 2 \n",
      "      content: 442: काळ अंतर वस्तुमान \n",
      "      content: 882: तुमचे वजन पहा \n"
     ]
    },
    {
     "name": "stdout",
     "output_type": "stream",
     "text": [
      "      in on_lesson_page http://www.prathamopenschool.org/mr/Lesson/LES102\n"
     ]
    },
    {
     "name": "stderr",
     "output_type": "stream",
     "text": [
      "      content: 426: प्रकाशाचे संक्रमण  \n",
      "      content: 390: पिंजऱ्यातला पक्षी \n",
      "      content: 389: पाणी घालताच नाणे प्रकट \n",
      "      content: 381: अदृश्य होणारी नाणी \n",
      "      content: 384: घरात उजेड  \n",
      "      content: 1168: जशास तसे \n",
      "      content: 898: भर भर भरा \n"
     ]
    },
    {
     "name": "stdout",
     "output_type": "stream",
     "text": [
      "      in on_lesson_page http://www.prathamopenschool.org/mr/Lesson/LES202\n"
     ]
    },
    {
     "name": "stderr",
     "output_type": "stream",
     "text": [
      "      content: 454: रंगीबेरंगी जग 1 \n",
      "      content: 455: रंगीबेरंगी जग 2 \n"
     ]
    },
    {
     "name": "stdout",
     "output_type": "stream",
     "text": [
      "      in on_lesson_page http://www.prathamopenschool.org/mr/Lesson/LES538\n"
     ]
    },
    {
     "name": "stderr",
     "output_type": "stream",
     "text": [
      "      content: 443: आंतरराष्ट्रीय प्रकाश वर्ष \n"
     ]
    },
    {
     "name": "stdout",
     "output_type": "stream",
     "text": [
      "      in on_lesson_page http://www.prathamopenschool.org/mr/Lesson/LES558\n"
     ]
    },
    {
     "name": "stderr",
     "output_type": "stream",
     "text": [
      "      content: 1321: उल्का \n"
     ]
    },
    {
     "name": "stdout",
     "output_type": "stream",
     "text": [
      "      in on_lesson_page http://www.prathamopenschool.org/mr/Lesson/LES498\n"
     ]
    },
    {
     "name": "stderr",
     "output_type": "stream",
     "text": [
      "      content: 1322: जंगल गस्त \n",
      "      content: 1323: मौनेरा जगत \n"
     ]
    },
    {
     "name": "stdout",
     "output_type": "stream",
     "text": [
      "      in on_lesson_page http://www.prathamopenschool.org/mr/Lesson/LES499\n"
     ]
    },
    {
     "name": "stderr",
     "output_type": "stream",
     "text": [
      "      content: 1324: चुंबक \n"
     ]
    },
    {
     "name": "stdout",
     "output_type": "stream",
     "text": [
      "      in on_lesson_page http://www.prathamopenschool.org/mr/Lesson/LES500\n"
     ]
    },
    {
     "name": "stderr",
     "output_type": "stream",
     "text": [
      "      content: 1325: आयसोटोप \n",
      "      content: 1326: अणुची रचना \n"
     ]
    },
    {
     "name": "stdout",
     "output_type": "stream",
     "text": [
      "      in on_lesson_page http://www.prathamopenschool.org/mr/Lesson/LES501\n"
     ]
    },
    {
     "name": "stderr",
     "output_type": "stream",
     "text": [
      "      content: 1327: लसीकरण \n",
      "      content: 1328: पेनिसिलींची गोष्ट \n"
     ]
    },
    {
     "name": "stdout",
     "output_type": "stream",
     "text": [
      "      in on_lesson_page http://www.prathamopenschool.org/mr/Lesson/LES502\n"
     ]
    },
    {
     "name": "stderr",
     "output_type": "stream",
     "text": [
      "      content: 1329: कार्बनीकरण \n",
      "      content: 1330: महासागरीय तापीय उर्जा \n",
      "      content: 1331: खनिज तेल व नैसर्गिक \n",
      "      content: 1332: अणुउर्जा \n",
      "      content: 1333: सौर उर्जा \n",
      "      content: 1334: स्थिती परिवर्तन \n"
     ]
    },
    {
     "name": "stdout",
     "output_type": "stream",
     "text": [
      "      in on_lesson_page http://www.prathamopenschool.org/mr/Lesson/LES503\n"
     ]
    },
    {
     "name": "stderr",
     "output_type": "stream",
     "text": [
      "      content: 1335: धातू, अधातूंच्या अभिक्रिया \n"
     ]
    },
    {
     "name": "stdout",
     "output_type": "stream",
     "text": [
      "      in on_lesson_page http://www.prathamopenschool.org/mr/Lesson/LES504\n"
     ]
    },
    {
     "name": "stderr",
     "output_type": "stream",
     "text": [
      "      content: 1336: आयनिक बंध \n"
     ]
    },
    {
     "name": "stdout",
     "output_type": "stream",
     "text": [
      "      in on_lesson_page http://www.prathamopenschool.org/mr/Lesson/LES505\n"
     ]
    },
    {
     "name": "stderr",
     "output_type": "stream",
     "text": [
      "      content: 1337: मृदेची रूपरेखा \n"
     ]
    },
    {
     "name": "stdout",
     "output_type": "stream",
     "text": [
      "      in on_lesson_page http://www.prathamopenschool.org/mr/Lesson/LES506\n"
     ]
    },
    {
     "name": "stderr",
     "output_type": "stream",
     "text": [
      "      content: 1338: भारताचे हवामान \n",
      "      content: 1339: मृदा तयार करणे \n",
      "      content: 1340: बियाण्याची निवड \n"
     ]
    },
    {
     "name": "stdout",
     "output_type": "stream",
     "text": [
      "      in on_lesson_page http://www.prathamopenschool.org/mr/Lesson/LES507\n"
     ]
    },
    {
     "name": "stderr",
     "output_type": "stream",
     "text": [
      "      content: 1297: संख्यांचे वर्गमूळ \n"
     ]
    },
    {
     "name": "stdout",
     "output_type": "stream",
     "text": [
      "      in on_lesson_page http://www.prathamopenschool.org/mr/Lesson/LES483\n"
     ]
    },
    {
     "name": "stderr",
     "output_type": "stream",
     "text": [
      "      content: 1298: रेषाखंडाचे विभाजन \n",
      "      content: 1299: समांतर रेषा काढणे \n"
     ]
    },
    {
     "name": "stdout",
     "output_type": "stream",
     "text": [
      "      in on_lesson_page http://www.prathamopenschool.org/mr/Lesson/LES484\n"
     ]
    },
    {
     "name": "stderr",
     "output_type": "stream",
     "text": [
      "      content: 1300: चौकोनाचे कोन \n"
     ]
    },
    {
     "name": "stdout",
     "output_type": "stream",
     "text": [
      "      in on_lesson_page http://www.prathamopenschool.org/mr/Lesson/LES485\n"
     ]
    },
    {
     "name": "stderr",
     "output_type": "stream",
     "text": [
      "      content: 1301: वर्तुळाचे क्षेत्रफळ \n"
     ]
    },
    {
     "name": "stdout",
     "output_type": "stream",
     "text": [
      "      in on_lesson_page http://www.prathamopenschool.org/mr/Lesson/LES486\n"
     ]
    },
    {
     "name": "stderr",
     "output_type": "stream",
     "text": [
      "      content: 1302: मध्य काढणे \n",
      "      content: 1303: माहिती जमवा \n"
     ]
    },
    {
     "name": "stdout",
     "output_type": "stream",
     "text": [
      "      in on_lesson_page http://www.prathamopenschool.org/mr/Lesson/LES487\n"
     ]
    },
    {
     "name": "stderr",
     "output_type": "stream",
     "text": [
      "      content: 1304: सम प्रमाण \n",
      "      content: 1305: व्यस्त प्रमाण \n"
     ]
    },
    {
     "name": "stdout",
     "output_type": "stream",
     "text": [
      "      in on_lesson_page http://www.prathamopenschool.org/mr/Lesson/LES488\n"
     ]
    },
    {
     "name": "stderr",
     "output_type": "stream",
     "text": [
      "      content: 1306: पास्कलचा त्रिकोण \n"
     ]
    },
    {
     "name": "stdout",
     "output_type": "stream",
     "text": [
      "      in on_lesson_page http://www.prathamopenschool.org/mr/Lesson/LES489\n"
     ]
    },
    {
     "name": "stderr",
     "output_type": "stream",
     "text": [
      "      content: 1307: घनमूळ काढा \n",
      "      content: 1308: घन ओळखा \n"
     ]
    },
    {
     "name": "stdout",
     "output_type": "stream",
     "text": [
      "      in on_lesson_page http://www.prathamopenschool.org/mr/Lesson/LES490\n"
     ]
    },
    {
     "name": "stderr",
     "output_type": "stream",
     "text": [
      "      content: 1309: घातांकाचे नियम \n"
     ]
    },
    {
     "name": "stdout",
     "output_type": "stream",
     "text": [
      "      in on_lesson_page http://www.prathamopenschool.org/mr/Lesson/LES491\n"
     ]
    },
    {
     "name": "stderr",
     "output_type": "stream",
     "text": [
      "      content: 1310: चौकोन बनवा \n",
      "      content: 1311: कोन बनवा (उजळणी) \n"
     ]
    },
    {
     "name": "stdout",
     "output_type": "stream",
     "text": [
      "      in on_lesson_page http://www.prathamopenschool.org/mr/Lesson/LES492\n"
     ]
    },
    {
     "name": "stderr",
     "output_type": "stream",
     "text": [
      "      content: 1312: केंद्रीय कोन प्रमेय \n"
     ]
    },
    {
     "name": "stdout",
     "output_type": "stream",
     "text": [
      "      in on_lesson_page http://www.prathamopenschool.org/mr/Lesson/LES493\n"
     ]
    },
    {
     "name": "stderr",
     "output_type": "stream",
     "text": [
      "      content: 1313: बीजगणिताचा जादूगार \n"
     ]
    },
    {
     "name": "stdout",
     "output_type": "stream",
     "text": [
      "      in on_lesson_page http://www.prathamopenschool.org/mr/Lesson/LES494\n"
     ]
    },
    {
     "name": "stderr",
     "output_type": "stream",
     "text": [
      "      content: 1314: दलाली \n"
     ]
    },
    {
     "name": "stdout",
     "output_type": "stream",
     "text": [
      "      in on_lesson_page http://www.prathamopenschool.org/mr/Lesson/LES495\n"
     ]
    },
    {
     "name": "stderr",
     "output_type": "stream",
     "text": [
      "      content: 1315: लंब नसलेले वृत्तचिती \n",
      "      content: 1316: गोलाचे पृष्ठफळ \n",
      "      content: 1317: घनाकृतीचे पृष्ठफळ \n",
      "      content: 1318: शंकूचे घनफळ \n",
      "      content: 1319: इष्टिकाचितीचे घनफळ \n"
     ]
    },
    {
     "name": "stdout",
     "output_type": "stream",
     "text": [
      "      in on_lesson_page http://www.prathamopenschool.org/mr/Lesson/LES496\n"
     ]
    },
    {
     "name": "stderr",
     "output_type": "stream",
     "text": [
      "      content: 1320: अवयव पाडणे \n"
     ]
    },
    {
     "name": "stdout",
     "output_type": "stream",
     "text": [
      "      in on_lesson_page http://www.prathamopenschool.org/mr/Lesson/LES497\n",
      "\n",
      "\n",
      "\n",
      "\n",
      "################################################################################\n",
      "# CRAWLER RECOMMENDATIONS BASED ON URLS ENCOUNTERED:\n",
      "################################################################################\n",
      "\n",
      "1. These URLs are very common and look like global navigation links:\n",
      "\n",
      "2. These are common path fragments found in URLs paths, so could correspond to site struture:\n",
      "  -  371 urls on site start with  /CourseContent\n",
      "  -  112 urls on site start with  /mr\n",
      "\n",
      "\n",
      "################################################################################\n",
      "\n",
      "\n",
      "\n"
     ]
    }
   ],
   "source": [
    "mr_web_resource_tree = mr_crawler.crawl()"
   ]
  },
  {
   "cell_type": "code",
   "execution_count": 6,
   "metadata": {
    "scrolled": false
   },
   "outputs": [
    {
     "name": "stdout",
     "output_type": "stream",
     "text": [
      "     - path: /mr/  (lang_page) \n",
      "       children:\n",
      "        - path: /mr/Course/Mathematics  (topic_page) \n",
      "          children:\n",
      "           - path: /mr/Course/Mathematics/CRS102  (subtopic_page) \n",
      "             children:\n",
      "              - path: /mr/Lesson/LES608  (lesson_page) \n",
      "                children:\n",
      "                 - path: /CourseContent/Mathematics/Videos/m_interest_intro.mp4  (PrathamVideoResource) \n",
      "                 - path: /CourseContent/Mathematics/Videos/m_simple_interest.mp4  (PrathamVideoResource) \n",
      "                 - path: /CourseContent/Mathematics/Videos/m_simple_int_prob1.mp4  (PrathamVideoResource) \n",
      "           - path: /mr/Course/Mathematics/CRS103  (subtopic_page) \n",
      "             children:\n",
      "              - path: /mr/Lesson/LES609  (lesson_page) \n",
      "                children:\n",
      "                 - path: /CourseContent/Mathematics/Videos/m_squares_intro.mp4  (PrathamVideoResource) \n",
      "                 - path: /CourseContent/Mathematics/Videos/m_square_root.mp4  (PrathamVideoResource) \n",
      "                 - path: /CourseContent/Mathematics/Videos/m_square_fun.mp4  (PrathamVideoResource) \n",
      "                 - path: /CourseContent/Mathematics/Videos/m_triangular_square.mp4  (PrathamVideoResource) \n",
      "           - path: /mr/Course/Mathematics/CRS14  (subtopic_page) \n",
      "             children:\n",
      "              - path: /mr/Lesson/LES41  (lesson_page) \n",
      "                children:\n",
      "                 - path: /CourseContent/Games/Mathematics.zip  (PrathamZipResource) \n",
      "                 - path: /CourseContent/Games/Mathematics.zip  (PrathamZipResource) \n",
      "                 - path: /CourseContent/Games/Mathematics.zip  (PrathamZipResource) \n",
      "                 - path: /CourseContent/Games/Mathematics.zip  (PrathamZipResource) \n",
      "                 - path: /CourseContent/Mathematics/Videos/m_perimeter.mp4  (PrathamVideoResource) \n",
      "                 - path: /CourseContent/Games/Mathematics.zip  (PrathamZipResource) \n",
      "                 - path: /CourseContent/Mathematics/Read/Marathi/perimeter.pdf  (PrathamPdfResource) \n",
      "                 - path: /CourseContent/Mathematics/Read/Marathi/Reading Card11.pdf  (PrathamPdfResource) \n",
      "              - path: /mr/Lesson/LES42  (lesson_page) \n",
      "                children:\n",
      "                 - path: /CourseContent/Games/Mathematics.zip  (PrathamZipResource) \n",
      "                 - path: /CourseContent/Games/Mathematics.zip  (PrathamZipResource) \n",
      "                 - path: /CourseContent/Mathematics/Read/Marathi/Reading Card5.pdf  (PrathamPdfResource) \n",
      "                 - path: /CourseContent/Mathematics/Videos/m_angle.mp4  (PrathamVideoResource) \n",
      "                 - path: /CourseContent/Mathematics/Videos/m_angle_types.mp4  (PrathamVideoResource) \n",
      "              - path: /mr/Lesson/LES48  (lesson_page) \n",
      "                children:\n",
      "                 - path: /CourseContent/Games/Mathematics.zip  (PrathamZipResource) \n",
      "                 - path: /CourseContent/Mathematics/Read/Marathi/Reading Card6.pdf  (PrathamPdfResource) \n",
      "                 - path: /CourseContent/Mathematics/Read/Marathi/Reading Card7.pdf  (PrathamPdfResource) \n",
      "                 - path: /CourseContent/Mathematics/Read/Marathi/Reading Card8.pdf  (PrathamPdfResource) \n",
      "                 - path: /CourseContent/Games/Mathematics.zip  (PrathamZipResource) \n",
      "                 - path: /CourseContent/Mathematics/Videos/m_triangle_fun.mp4  (PrathamVideoResource) \n",
      "                 - path: /CourseContent/Mathematics/Videos/m_triangle_types.mp4  (PrathamVideoResource) \n",
      "              - path: /mr/Lesson/LES63  (lesson_page) \n",
      "                children:\n",
      "                 - path: /CourseContent/Mathematics/geometry/mr/video/6_2.mp4  (PrathamVideoResource) \n",
      "              - path: /mr/Lesson/LES64  (lesson_page) \n",
      "                children:\n",
      "                 - path: /CourseContent/Mathematics/Read/Marathi/Reading Card9.pdf  (PrathamPdfResource) \n",
      "                 - path: /CourseContent/Mathematics/Read/Marathi/Reading Card10.pdf  (PrathamPdfResource) \n",
      "                 - path: /CourseContent/Mathematics/Videos/m_circle.mp4  (PrathamVideoResource) \n",
      "                 - path: /CourseContent/Games/Mathematics.zip  (PrathamZipResource) \n",
      "                 - path: /CourseContent/Games/Mathematics.zip  (PrathamZipResource) \n",
      "              - path: /mr/Lesson/LES65  (lesson_page) \n",
      "                children:\n",
      "                 - path: /CourseContent/Games/Mathematics.zip  (PrathamZipResource) \n",
      "                 - path: /CourseContent/Games/Mathematics.zip  (PrathamZipResource) \n",
      "                 - path: /CourseContent/Mathematics/geometry/mr/video/m_area.mp4  (PrathamVideoResource) \n",
      "                 - path: /CourseContent/Games/Mathematics.zip  (PrathamZipResource) \n",
      "                 - path: /CourseContent/Games/Mathematics.zip  (PrathamZipResource) \n",
      "           - path: /mr/Course/Mathematics/CRS23  (subtopic_page) \n",
      "             children:\n",
      "              - path: /mr/Lesson/LES68  (lesson_page) \n",
      "                children:\n",
      "                 - path: /CourseContent/Games/Vibhajya(Marathi).zip  (PrathamZipResource) \n",
      "                 - path: /CourseContent/Mathematics/Multiples-Factors/mr/m_multiple2.mp4  (PrathamVideoResource) \n",
      "                 - path: /CourseContent/Mathematics/Multiples-Factors/mr/m_multiple1.mp4  (PrathamVideoResource) \n",
      "                 - path: /CourseContent/Games/CricketGameVersionOne_M.zip  (PrathamZipResource) \n",
      "              - path: /mr/Lesson/LES69  (lesson_page) \n",
      "                children:\n",
      "                 - path: /CourseContent/Games/Vibhajak(Marathi).zip  (PrathamZipResource) \n",
      "                 - path: /CourseContent/Mathematics/Multiples-Factors/mr/m_factor1.mp4  (PrathamVideoResource) \n",
      "                 - path: /CourseContent/Mathematics/Multiples-Factors/mr/m_factor2.mp4  (PrathamVideoResource) \n",
      "                 - path: /CourseContent/Games/FactorsGameNew_M.zip  (PrathamZipResource) \n",
      "              - path: /mr/Lesson/LES70  (lesson_page) \n",
      "                children:\n",
      "                 - path: /CourseContent/Games/Masavi(Marathi).zip  (PrathamZipResource) \n",
      "                 - path: /CourseContent/Games/primeFactors_M.zip  (PrathamZipResource) \n",
      "                 - path: /CourseContent/Mathematics/Multiples-Factors/mr/m_hcf.mp4  (PrathamVideoResource) \n",
      "                 - path: /CourseContent/Mathematics/Multiples-Factors/mr/m_prime_factor.mp4  (PrathamVideoResource) \n",
      "                 - path: /CourseContent/Mathematics/Multiples-Factors/mr/m_hcf_pf.mp4  (PrathamVideoResource) \n",
      "                 - path: /CourseContent/Games/MathsBucketGame_M.zip  (PrathamZipResource) \n",
      "              - path: /mr/Lesson/LES71  (lesson_page) \n",
      "                children:\n",
      "                 - path: /CourseContent/Games/Lasavi(Marathi).zip  (PrathamZipResource) \n",
      "                 - path: /CourseContent/Games/primeFactors_M.zip  (PrathamZipResource) \n",
      "                 - path: /CourseContent/Mathematics/Multiples-Factors/mr/m_lcm.mp4  (PrathamVideoResource) \n",
      "                 - path: /CourseContent/Mathematics/Multiples-Factors/mr/m_prime_factor.mp4  (PrathamVideoResource) \n",
      "                 - path: /CourseContent/Mathematics/Multiples-Factors/mr/m_lcm_pf.mp4  (PrathamVideoResource) \n",
      "                 - path: /CourseContent/Mathematics/Videos/m_lcm_train.mp4  (PrathamVideoResource) \n",
      "                 - path: /CourseContent/Games/MathsBucketGame_M.zip  (PrathamZipResource) \n",
      "              - path: /mr/Lesson/LES72  (lesson_page) \n",
      "                children:\n",
      "                 - path: /CourseContent/Mathematics/Multiples-Factors/mr/m_prime_factor.mp4  (PrathamVideoResource) \n",
      "              - path: /mr/Lesson/LES73  (lesson_page) \n",
      "                children:\n",
      "                 - path: /CourseContent/Games/Masavi(Marathi).zip  (PrathamZipResource) \n",
      "                 - path: /CourseContent/Mathematics/Multiples-Factors/mr/m_lcm_hcf_fun.mp4  (PrathamVideoResource) \n",
      "                 - path: /CourseContent/Games/Lasavi(Marathi).zip  (PrathamZipResource) \n",
      "              - path: /mr/Lesson/LES46  (lesson_page) \n",
      "                children:\n",
      "                 - path: /CourseContent/Mathematics/Videos/m_math_relations1.mp4  (PrathamVideoResource) \n",
      "                 - path: /CourseContent/Mathematics/Videos/m_math_relations2.mp4  (PrathamVideoResource) \n",
      "           - path: /mr/Course/Mathematics/CRS75  (subtopic_page) \n",
      "             children:\n",
      "              - path: /mr/Lesson/LES477  (lesson_page) \n",
      "                children:\n",
      "                 - path: /CourseContent/Mathematics/Videos/m_decimal_addition.mp4  (PrathamVideoResource) \n",
      "                 - path: /CourseContent/Mathematics/Videos/m_decimal_subtraction.mp4  (PrathamVideoResource) \n",
      "              - path: /mr/Lesson/LES478  (lesson_page) \n",
      "                children:\n",
      "                 - path: /CourseContent/Mathematics/Decimals/mr/video/m_decimal.mp4  (PrathamVideoResource) \n",
      "                 - path: /CourseContent/Mathematics/Decimals/mr/video/m_decimal_compare.mp4  (PrathamVideoResource) \n",
      "                 - path: /CourseContent/Mathematics/Read/Marathi/Reading Card4.pdf  (PrathamPdfResource) \n",
      "                 - path: /CourseContent/Games/Mathematics.zip  (PrathamZipResource) \n",
      "                 - path: /CourseContent/Mathematics/Videos/m_decimalToFraction.mp4  (PrathamVideoResource) \n",
      "                 - path: /CourseContent/Mathematics/Videos/m_fractionToDecimal.mp4  (PrathamVideoResource) \n",
      "                 - path: /CourseContent/Games/fraction (marathi).zip  (PrathamZipResource) \n",
      "                 - path: /CourseContent/Games/PlaceValue_M.zip  (PrathamZipResource) \n",
      "              - path: /mr/Lesson/LES479  (lesson_page) \n",
      "                children:\n",
      "                 - path: /CourseContent/Mathematics/Videos/m_percent.mp4  (PrathamVideoResource) \n",
      "                 - path: /CourseContent/Mathematics/Videos/m_percent_fraction.mp4  (PrathamVideoResource) \n",
      "                 - path: /CourseContent/Mathematics/Videos/m_fraction_percent.mp4  (PrathamVideoResource) \n",
      "              - path: /mr/Lesson/LES480  (lesson_page) \n",
      "                children:\n",
      "                 - path: /CourseContent/Mathematics/Videos/m_fraction_addition.mp4  (PrathamVideoResource) \n",
      "                 - path: /CourseContent/Mathematics/Videos/m_fraction_subtraction.mp4  (PrathamVideoResource) \n",
      "                 - path: /CourseContent/Mathematics/Videos/m_fraction_multiplication1.mp4  (PrathamVideoResource) \n",
      "                 - path: /CourseContent/Mathematics/Videos/m_fraction_multiplication2.mp4  (PrathamVideoResource) \n",
      "              - path: /mr/Lesson/LES40  (lesson_page) \n",
      "                children:\n",
      "                 - path: /CourseContent/Games/newFractionGame_M.zip  (PrathamZipResource) \n",
      "                 - path: /CourseContent/Mathematics/Videos/m_fraction.mp4  (PrathamVideoResource) \n",
      "                 - path: /CourseContent/Mathematics/Videos/m_fraction_types.mp4  (PrathamVideoResource) \n",
      "                 - path: /CourseContent/Mathematics/Algebra/mr/video/m_fraction_lowest.mp4  (PrathamVideoResource) \n",
      "                 - path: /CourseContent/Mathematics/Algebra/mr/video/m_equivalent_fraction.mp4  (PrathamVideoResource) \n",
      "                 - path: /CourseContent/Mathematics/Videos/m_fraction_compare.mp4  (PrathamVideoResource) \n",
      "                 - path: /CourseContent/Mathematics/Videos/m_improper_fraction.mp4  (PrathamVideoResource) \n",
      "           - path: /mr/Course/Mathematics/CRS42  (subtopic_page) \n",
      "             children:\n",
      "              - path: /mr/Lesson/LES108  (lesson_page) \n",
      "                children:\n",
      "                 - path: /CourseContent/Mathematics/Algebra/mr/video/m_numbers_units1.mp4  (PrathamVideoResource) \n",
      "                 - path: /CourseContent/Mathematics/Algebra/mr/video/m_numbers_units2.mp4  (PrathamVideoResource) \n",
      "                 - path: /CourseContent/Mathematics/Algebra/mr/video/m_numbers_units3.mp4  (PrathamVideoResource) \n",
      "                 - path: /CourseContent/Mathematics/Algebra/mr/video/m_numbers_units4.mp4  (PrathamVideoResource) \n",
      "           - path: /mr/Course/Mathematics/CRS15  (subtopic_page) \n",
      "             children:\n",
      "              - path: /mr/Lesson/LES45  (lesson_page) \n",
      "                children:\n",
      "                 - path: /CourseContent/Games/Mathematics.zip  (PrathamZipResource) \n",
      "                 - path: /CourseContent/Mathematics/Algebra/mr/video/3.mp4  (PrathamVideoResource) \n",
      "                 - path: /CourseContent/Mathematics/Algebra/mr/video/3_1.mp4  (PrathamVideoResource) \n",
      "                 - path: /CourseContent/Mathematics/Read/Marathi/Reading Card2.pdf  (PrathamPdfResource) \n",
      "           - path: /mr/Course/Mathematics/CRS38  (subtopic_page) \n",
      "             children:\n",
      "              - path: /mr/Lesson/LES91  (lesson_page) \n",
      "                children:\n",
      "                 - path: /CourseContent/Mathematics/Algebra/mr/video/m_algebra1.mp4  (PrathamVideoResource) \n",
      "                 - path: /CourseContent/Mathematics/Algebra/mr/video/m_algebra2.mp4  (PrathamVideoResource) \n",
      "           - path: /mr/Course/Mathematics/CRS39  (subtopic_page) \n",
      "             children:\n",
      "              - path: /mr/Lesson/LES93  (lesson_page) \n",
      "                children:\n",
      "                 - path: /CourseContent/Mathematics/Decimals/mr/video/m_decimal.mp4  (PrathamVideoResource) \n",
      "                 - path: /CourseContent/Mathematics/Decimals/mr/video/m_decimal_compare.mp4  (PrathamVideoResource) \n",
      "                 - path: /CourseContent/Games/PlaceValue_M.zip  (PrathamZipResource) \n",
      "                 - path: /CourseContent/Mathematics/Read/Marathi/Reading Card4.pdf  (PrathamPdfResource) \n",
      "                 - path: /CourseContent/Games/Mathematics.zip  (PrathamZipResource) \n",
      "              - path: /mr/Lesson/LES94  (lesson_page) \n",
      "                children:\n",
      "                 - path: /CourseContent/Mathematics/Decimals/mr/video/m_decimal_addition.mp4  (PrathamVideoResource) \n",
      "                 - path: /CourseContent/Mathematics/Decimals/mr/video/m_decimal_subtraction.mp4  (PrathamVideoResource) \n",
      "        - path: /mr/Course/English  (topic_page) \n",
      "          children:\n",
      "           - path: /mr/Course/English/CRS35  (subtopic_page) \n",
      "             children:\n",
      "              - path: /mr/Lesson/LES409  (lesson_page) \n",
      "                children:\n",
      "                 - path: /CourseContent/Games/pictureReplacement.zip  (PrathamZipResource) \n",
      "                 - path: /CourseContent/English/Watch/1.1.mp4  (PrathamVideoResource) \n",
      "                 - path: /CourseContent/Games/TranslateMarathiToEnglish.zip  (PrathamZipResource) \n",
      "                 - path: /CourseContent/English/Watch/1.2.mp4  (PrathamVideoResource) \n",
      "                 - path: /CourseContent/English/Watch/1.3.mp4  (PrathamVideoResource) \n",
      "                 - path: /CourseContent/English/Watch/1.4.mp4  (PrathamVideoResource) \n",
      "                 - path: /CourseContent/English/Watch/1.5.mp4  (PrathamVideoResource) \n",
      "                 - path: /CourseContent/English/Watch/1.6.mp4  (PrathamVideoResource) \n",
      "                 - path: /CourseContent/English/Watch/1.7.mp4  (PrathamVideoResource) \n",
      "                 - path: /CourseContent/Games/matchWords_M.zip  (PrathamZipResource) \n",
      "              - path: /mr/Lesson/LES410  (lesson_page) \n",
      "                children:\n",
      "                 - path: /CourseContent/Games/TranslateMarathiToEnglishLevel2.zip  (PrathamZipResource) \n",
      "                 - path: /CourseContent/English/Watch/2.1.mp4  (PrathamVideoResource) \n",
      "                 - path: /CourseContent/English/Watch/2.2.mp4  (PrathamVideoResource) \n",
      "                 - path: /CourseContent/English/Watch/2.3.mp4  (PrathamVideoResource) \n",
      "                 - path: /CourseContent/English/Watch/2.4.mp4  (PrathamVideoResource) \n",
      "                 - path: /CourseContent/English/Watch/2.5.mp4  (PrathamVideoResource) \n",
      "              - path: /mr/Lesson/LES411  (lesson_page) \n",
      "                children:\n",
      "                 - path: /CourseContent/Games/pictureReplacement(-ing form).zip  (PrathamZipResource) \n",
      "                 - path: /CourseContent/Games/TranslateMarathiToEnglishLevel3.zip  (PrathamZipResource) \n",
      "                 - path: /CourseContent/English/Watch/3.1.mp4  (PrathamVideoResource) \n",
      "                 - path: /CourseContent/English/Watch/3.2.mp4  (PrathamVideoResource) \n",
      "                 - path: /CourseContent/English/Watch/3.3.mp4  (PrathamVideoResource) \n",
      "                 - path: /CourseContent/English/Watch/3.4.mp4  (PrathamVideoResource) \n",
      "                 - path: /CourseContent/English/Watch/3.5.mp4  (PrathamVideoResource) \n",
      "                 - path: /CourseContent/English/Watch/3.6.mp4  (PrathamVideoResource) \n",
      "              - path: /mr/Lesson/LES412  (lesson_page) \n",
      "                children:\n",
      "                 - path: /CourseContent/Games/Build-a-Sentence(English).zip  (PrathamZipResource) \n",
      "                 - path: /CourseContent/English/Watch/4.1.mp4  (PrathamVideoResource) \n",
      "                 - path: /CourseContent/English/Watch/4.2.mp4  (PrathamVideoResource) \n",
      "                 - path: /CourseContent/English/Watch/4.3.mp4  (PrathamVideoResource) \n",
      "                 - path: /CourseContent/English/Watch/4.4.mp4  (PrathamVideoResource) \n",
      "                 - path: /CourseContent/English/Watch/4.5.mp4  (PrathamVideoResource) \n",
      "                 - path: /CourseContent/English/Watch/4.6.mp4  (PrathamVideoResource) \n",
      "                 - path: /CourseContent/Games/TranslateMarathiToEnglishLevel4.zip  (PrathamZipResource) \n",
      "              - path: /mr/Lesson/LES437  (lesson_page) \n",
      "                children:\n",
      "                 - path: /CourseContent/English/Watch/5.1_Good_Morning.mp4  (PrathamVideoResource) \n",
      "                 - path: /CourseContent/English/Watch/5.2_On_the_way_to_school.mp4  (PrathamVideoResource) \n",
      "                 - path: /CourseContent/English/Watch/5.3_Time_Pass.mp4  (PrathamVideoResource) \n",
      "                 - path: /CourseContent/English/Watch/5.4_Birthdays_in_one_day.mp4  (PrathamVideoResource) \n",
      "                 - path: /CourseContent/English/Watch/5.5_Running_race.mp4  (PrathamVideoResource) \n",
      "                 - path: /CourseContent/English/Watch/5.6_Revision_Nishas_plans.mp4  (PrathamVideoResource) \n",
      "                 - path: /CourseContent/Games/matchWords_M.zip  (PrathamZipResource) \n",
      "              - path: /mr/Lesson/LES438  (lesson_page) \n",
      "                children:\n",
      "                 - path: /CourseContent/English/Watch/6.1_Shopping.mp4  (PrathamVideoResource) \n",
      "                 - path: /CourseContent/English/Watch/6.2_Ramu_kakas_shop.mp4  (PrathamVideoResource) \n",
      "                 - path: /CourseContent/English/Watch/6.3_Grocery_shopping.mp4  (PrathamVideoResource) \n",
      "                 - path: /CourseContent/English/Watch/6.4_Fashion_point-Garment_store.mp4  (PrathamVideoResource) \n",
      "                 - path: /CourseContent/English/Watch/6.5_Revision-Ramu_kakas_shop.mp4  (PrathamVideoResource) \n",
      "                 - path: /CourseContent/Games/vanishingSentenceGame_M.zip  (PrathamZipResource) \n",
      "              - path: /mr/Lesson/LES439  (lesson_page) \n",
      "                children:\n",
      "                 - path: /CourseContent/English/Watch/7.1_Story_Slection.mp4  (PrathamVideoResource) \n",
      "                 - path: /CourseContent/English/Watch/7.2_Big_plans_for_the_movie.mp4  (PrathamVideoResource) \n",
      "                 - path: /CourseContent/English/Watch/7.3_Deciding_the_roles.mp4  (PrathamVideoResource) \n",
      "                 - path: /CourseContent/English/Watch/7.4_Shooting.mp4  (PrathamVideoResource) \n",
      "              - path: /mr/Lesson/LES440  (lesson_page) \n",
      "                children:\n",
      "                 - path: /CourseContent/English/Watch/8.1_Wedding_News.mp4  (PrathamVideoResource) \n",
      "                 - path: /CourseContent/English/Watch/8.2_Inviting_my_friends.mp4  (PrathamVideoResource) \n",
      "                 - path: /CourseContent/English/Watch/8.3_Colorful_wedding_clothes.mp4  (PrathamVideoResource) \n",
      "                 - path: /CourseContent/English/Watch/8.4_Salma_didis_Party.mp4  (PrathamVideoResource) \n",
      "                 - path: /CourseContent/Games/RhymingWordsGame.zip  (PrathamZipResource) \n",
      "              - path: /mr/Lesson/LES441  (lesson_page) \n",
      "                children:\n",
      "                 - path: /CourseContent/English/Watch/9.01_Todays_news_with_Kavita.mp4  (PrathamVideoResource) \n",
      "                 - path: /CourseContent/English/Watch/9.02_My_friends_interview.mp4  (PrathamVideoResource) \n",
      "                 - path: /CourseContent/English/Watch/9.03_Mummys_interview.mp4  (PrathamVideoResource) \n",
      "              - path: /mr/Lesson/LES615  (lesson_page) \n",
      "                children:\n",
      "                 - path: /CourseContent/English/Watch/10.1_Oh_no_It’s_a_ghost.mp4  (PrathamVideoResource) \n",
      "                 - path: /CourseContent/English/Watch/10.2_Where_did_the_jalebi_go.mp4  (PrathamVideoResource) \n",
      "                 - path: /CourseContent/English/Watch/10.3_Rat_in_the_house.mp4  (PrathamVideoResource) \n",
      "                 - path: /CourseContent/English/Watch/10.4_Catch_the_rat.mp4  (PrathamVideoResource) \n",
      "                 - path: /CourseContent/English/Watch/10.5_The_rat_is_gone.mp4  (PrathamVideoResource) \n",
      "              - path: /mr/Lesson/LES616  (lesson_page) \n",
      "                children:\n",
      "                 - path: /CourseContent/English/Watch/11.1_Naughty_kid.mp4  (PrathamVideoResource) \n",
      "                 - path: /CourseContent/English/Watch/11.2_Call_Dr_Didi.mp4  (PrathamVideoResource) \n",
      "                 - path: /CourseContent/English/Watch/11.3_Yash_understands.mp4  (PrathamVideoResource) \n",
      "                 - path: /CourseContent/English/Watch/11.4_Young_Khalis.mp4  (PrathamVideoResource) \n",
      "                 - path: /CourseContent/English/Watch/11.5_Well_done.mp4  (PrathamVideoResource) \n",
      "              - path: /mr/Lesson/LES617  (lesson_page) \n",
      "                children:\n",
      "                 - path: /CourseContent/English/Watch/12.1_Tasty_sweets.mp4  (PrathamVideoResource) \n",
      "                 - path: /CourseContent/English/Watch/12.2_Stealing_Lata.mp4  (PrathamVideoResource) \n",
      "                 - path: /CourseContent/English/Watch/12.3_Where_is_Lata.mp4  (PrathamVideoResource) \n",
      "                 - path: /CourseContent/English/Watch/12.4_Welcome_Lata.mp4  (PrathamVideoResource) \n",
      "           - path: /mr/Course/English/CRS37  (subtopic_page) \n",
      "             children:\n",
      "              - path: /mr/Lesson/LES413  (lesson_page) \n",
      "                children:\n",
      "                 - path: /CourseContent/English/Watch/AngreziOkPlease/Angrezi Ok Please Ep 1-1.mp4  (PrathamVideoResource) \n",
      "                 - path: /CourseContent/English/Watch/AngreziOkPlease/Angrezi Ok Please Ep 1-2.mp4  (PrathamVideoResource) \n",
      "                 - path: /CourseContent/English/Watch/AngreziOkPlease/Angrezi Ok Please Ep 1-3.mp4  (PrathamVideoResource) \n",
      "              - path: /mr/Lesson/LES415  (lesson_page) \n",
      "                children:\n",
      "                 - path: /CourseContent/English/Watch/AngreziOkPlease/Angrezi Ok Please Ep 2-1.mp4  (PrathamVideoResource) \n",
      "                 - path: /CourseContent/English/Watch/AngreziOkPlease/Angrezi Ok Please Ep 2-2.mp4  (PrathamVideoResource) \n",
      "                 - path: /CourseContent/English/Watch/AngreziOkPlease/Angrezi Ok Please Ep 2-3.mp4  (PrathamVideoResource) \n",
      "              - path: /mr/Lesson/LES416  (lesson_page) \n",
      "                children:\n",
      "                 - path: /CourseContent/English/Watch/AngreziOkPlease/Angrezi Ok Please Ep 3-1.mp4  (PrathamVideoResource) \n",
      "                 - path: /CourseContent/English/Watch/AngreziOkPlease/Angrezi Ok Please Ep 3-2.mp4  (PrathamVideoResource) \n",
      "                 - path: /CourseContent/English/Watch/AngreziOkPlease/Angrezi Ok Please Ep 3-3.mp4  (PrathamVideoResource) \n",
      "              - path: /mr/Lesson/LES417  (lesson_page) \n",
      "                children:\n",
      "                 - path: /CourseContent/English/Watch/AngreziOkPlease/Angrezi Ok Please Ep 4-1.mp4  (PrathamVideoResource) \n",
      "                 - path: /CourseContent/English/Watch/AngreziOkPlease/Angrezi Ok Please Ep 4-2.mp4  (PrathamVideoResource) \n",
      "                 - path: /CourseContent/English/Watch/AngreziOkPlease/Angrezi Ok Please Ep 4-3.mp4  (PrathamVideoResource) \n",
      "              - path: /mr/Lesson/LES418  (lesson_page) \n",
      "                children:\n",
      "                 - path: /CourseContent/English/Watch/AngreziOkPlease/Angrezi Ok Please Ep 5-1.mp4  (PrathamVideoResource) \n",
      "                 - path: /CourseContent/English/Watch/AngreziOkPlease/Angrezi Ok Please Ep 5-2.mp4  (PrathamVideoResource) \n",
      "                 - path: /CourseContent/English/Watch/AngreziOkPlease/Angrezi Ok Please Ep 5-3.mp4  (PrathamVideoResource) \n",
      "              - path: /mr/Lesson/LES419  (lesson_page) \n",
      "                children:\n",
      "                 - path: /CourseContent/English/Watch/AngreziOkPlease/Angrezi Ok Please Ep 6-1.mp4  (PrathamVideoResource) \n",
      "                 - path: /CourseContent/English/Watch/AngreziOkPlease/Angrezi Ok Please Ep 6-2.mp4  (PrathamVideoResource) \n",
      "                 - path: /CourseContent/English/Watch/AngreziOkPlease/Angrezi Ok Please Ep 6-3.mp4  (PrathamVideoResource) \n",
      "              - path: /mr/Lesson/LES420  (lesson_page) \n",
      "                children:\n",
      "                 - path: /CourseContent/English/Watch/AngreziOkPlease/Angrezi Ok Please Ep 8-1.mp4  (PrathamVideoResource) \n",
      "                 - path: /CourseContent/English/Watch/AngreziOkPlease/Angrezi Ok Please Ep 8-2.mp4  (PrathamVideoResource) \n",
      "                 - path: /CourseContent/English/Watch/AngreziOkPlease/Angrezi Ok Please Ep 8-3.mp4  (PrathamVideoResource) \n",
      "              - path: /mr/Lesson/LES421  (lesson_page) \n",
      "                children:\n",
      "                 - path: /CourseContent/English/Watch/AngreziOkPlease/Angrezi Ok Please Ep 9-1.mp4  (PrathamVideoResource) \n",
      "                 - path: /CourseContent/English/Watch/AngreziOkPlease/Angrezi Ok Please Ep 9-2.mp4  (PrathamVideoResource) \n",
      "                 - path: /CourseContent/English/Watch/AngreziOkPlease/Angrezi Ok Please Ep 9-3.mp4  (PrathamVideoResource) \n",
      "              - path: /mr/Lesson/LES422  (lesson_page) \n",
      "                children:\n",
      "                 - path: /CourseContent/English/Watch/AngreziOkPlease/Angrezi Ok Please Ep 10-1.mp4  (PrathamVideoResource) \n",
      "                 - path: /CourseContent/English/Watch/AngreziOkPlease/Angrezi Ok Please Ep 10-2.mp4  (PrathamVideoResource) \n",
      "                 - path: /CourseContent/English/Watch/AngreziOkPlease/Angrezi Ok Please Ep 10-3.mp4  (PrathamVideoResource) \n",
      "              - path: /mr/Lesson/LES423  (lesson_page) \n",
      "                children:\n",
      "                 - path: /CourseContent/English/Watch/AngreziOkPlease/Angrezi Ok Please Ep 11-1.mp4  (PrathamVideoResource) \n",
      "                 - path: /CourseContent/English/Watch/AngreziOkPlease/Angrezi Ok Please Ep 11-2.mp4  (PrathamVideoResource) \n",
      "                 - path: /CourseContent/English/Watch/AngreziOkPlease/Angrezi Ok Please Ep 11-3.mp4  (PrathamVideoResource) \n",
      "              - path: /mr/Lesson/LES424  (lesson_page) \n",
      "                children:\n",
      "                 - path: /CourseContent/English/Watch/AngreziOkPlease/Angrezi Ok Please Ep 12-1.mp4  (PrathamVideoResource) \n",
      "                 - path: /CourseContent/English/Watch/AngreziOkPlease/Angrezi Ok Please Ep 12-2.mp4  (PrathamVideoResource) \n",
      "                 - path: /CourseContent/English/Watch/AngreziOkPlease/Angrezi Ok Please Ep 12-3.mp4  (PrathamVideoResource) \n",
      "              - path: /mr/Lesson/LES425  (lesson_page) \n",
      "                children:\n",
      "                 - path: /CourseContent/English/Watch/AngreziOkPlease/Angrezi Ok Please Ep 13-1.mp4  (PrathamVideoResource) \n",
      "                 - path: /CourseContent/English/Watch/AngreziOkPlease/Angrezi Ok Please Ep 13-2.mp4  (PrathamVideoResource) \n",
      "                 - path: /CourseContent/English/Watch/AngreziOkPlease/Angrezi Ok Please Ep 13-3.mp4  (PrathamVideoResource) \n",
      "        - path: /mr/Course/Science  (topic_page) \n",
      "          children:\n",
      "           - path: /mr/Course/Science/CRS100  (subtopic_page) \n",
      "             children:\n",
      "              - path: /mr/Lesson/LES605  (lesson_page) \n",
      "                children:\n",
      "                 - path: /CourseContent/Science/Videos/m_solar_system.mp4  (PrathamVideoResource) \n",
      "                 - path: /CourseContent/Science/Videos/m_earth_space.mp4  (PrathamVideoResource) \n",
      "              - path: /mr/Lesson/LES606  (lesson_page) \n",
      "                children:\n",
      "                 - path: /CourseContent/Science/Videos/m_place_map.mp4  (PrathamVideoResource) \n",
      "                 - path: /CourseContent/Science/Videos/m_know_map.mp4  (PrathamVideoResource) \n",
      "                 - path: /CourseContent/Science/Videos/m_time_story1.mp4  (PrathamVideoResource) \n",
      "                 - path: /CourseContent/Science/Videos/m_time_story2.mp4  (PrathamVideoResource) \n",
      "           - path: /mr/Course/Science/CRS101  (subtopic_page) \n",
      "             children:\n",
      "              - path: /mr/Lesson/LES607  (lesson_page) \n",
      "                children:\n",
      "                 - path: /CourseContent/Science/Videos/m_changing_energy.mp4  (PrathamVideoResource) \n",
      "                 - path: /CourseContent/Science/Videos/m_energy_intro.mp4  (PrathamVideoResource) \n",
      "                 - path: /CourseContent/Science/Videos/m_energy_family.mp4  (PrathamVideoResource) \n",
      "              - path: /mr/Lesson/LES611  (lesson_page) \n",
      "                children:\n",
      "                 - path: /CourseContent/Science/Videos/m_chintu_work.mp4  (PrathamVideoResource) \n",
      "           - path: /mr/Course/Science/CRS43  (subtopic_page) \n",
      "             children:\n",
      "              - path: /mr/Lesson/LES223  (lesson_page) \n",
      "                children:\n",
      "                 - path: /CourseContent/Science/Videos/m_skeleton_system_general.mp4  (PrathamVideoResource) \n",
      "                 - path: /CourseContent/Science/Videos/m_skeleton_system1.mp4  (PrathamVideoResource) \n",
      "                 - path: /CourseContent/Science/Videos/m_skeleton_system2.mp4  (PrathamVideoResource) \n",
      "                 - path: /CourseContent/Science/Videos/m_skeleton_system3.mp4  (PrathamVideoResource) \n",
      "                 - path: /CourseContent/Science/Videos/m_skeleton_system4.mp4  (PrathamVideoResource) \n",
      "                 - path: /CourseContent/Science/Videos/m_skeleton_system5.mp4  (PrathamVideoResource) \n",
      "                 - path: /CourseContent/OTHER/Marathi/नाचणारा सांगाडा.mp4  (PrathamVideoResource) \n",
      "                 - path: /CourseContent/OTHER/Marathi/बिजागरी माणूस.mp4  (PrathamVideoResource) \n",
      "                 - path: /CourseContent/Games/Bone Game(Dr. Haddi)_M.zip  (PrathamZipResource) \n",
      "              - path: /mr/Lesson/LES619  (lesson_page) \n",
      "                children:\n",
      "                 - path: /CourseContent/Science/Videos/m_bloodIntro.mp4  (PrathamVideoResource) \n",
      "                 - path: /CourseContent/Science/Videos/m_formationOfBlood.mp4  (PrathamVideoResource) \n",
      "                 - path: /CourseContent/Science/Videos/m_circulatorySystem.mp4  (PrathamVideoResource) \n",
      "           - path: /mr/Course/Science/CRS73  (subtopic_page) \n",
      "             children:\n",
      "              - path: /mr/Lesson/LES474  (lesson_page) \n",
      "                children:\n",
      "                 - path: /CourseContent/Science/Videos/m_motion_types.mp4  (PrathamVideoResource) \n",
      "                 - path: /CourseContent/Science/Videos/m_newton_law1.mp4  (PrathamVideoResource) \n",
      "                 - path: /CourseContent/Science/Videos/m_newton_law2.mp4  (PrathamVideoResource) \n",
      "                 - path: /CourseContent/Science/Videos/m_newton_law3.mp4  (PrathamVideoResource) \n",
      "                 - path: /CourseContent/Science/Videos/m_speed_velocity.mp4  (PrathamVideoResource) \n",
      "                 - path: /CourseContent/Science/Videos/m_learning_bike1.mp4  (PrathamVideoResource) \n",
      "                 - path: /CourseContent/Science/Videos/m_learning_bike2.mp4  (PrathamVideoResource) \n",
      "                 - path: /CourseContent/Science/Videos/m_race_speed.mp4  (PrathamVideoResource) \n",
      "                 - path: /CourseContent/Science/Videos/m_accelaration_fear.mp4  (PrathamVideoResource) \n",
      "              - path: /mr/Lesson/LES476  (lesson_page) \n",
      "                children:\n",
      "                 - path: /CourseContent/Science/Videos/m_galileo_ground.mp4  (PrathamVideoResource) \n",
      "                 - path: /CourseContent/Science/Videos/m_newton_ball.mp4  (PrathamVideoResource) \n",
      "                 - path: /CourseContent/Science/Videos/m_newton_speed.mp4  (PrathamVideoResource) \n",
      "                 - path: /CourseContent/Science/Videos/m_newton_force.mp4  (PrathamVideoResource) \n",
      "                 - path: /CourseContent/Science/Videos/m_newton_egg.mp4  (PrathamVideoResource) \n",
      "           - path: /mr/Course/Science/CRS45  (subtopic_page) \n",
      "             children:\n",
      "              - path: /mr/Lesson/LES222  (lesson_page) \n",
      "                children:\n",
      "                 - path: /CourseContent/Science/Videos/m_quantityNmeasure1.mp4  (PrathamVideoResource) \n",
      "                 - path: /CourseContent/Science/Videos/m_quantityNmeasure2.mp4  (PrathamVideoResource) \n",
      "                 - path: /CourseContent/Science/Videos/m_quantityNmeasure3.mp4  (PrathamVideoResource) \n",
      "                 - path: /CourseContent/Science/Videos/m_quantityNmeasure4.mp4  (PrathamVideoResource) \n",
      "                 - path: /CourseContent/Science/Videos/m_quantityNmeasure5.mp4  (PrathamVideoResource) \n",
      "                 - path: /CourseContent/Science/Videos/m_estimate_building_height.mp4  (PrathamVideoResource) \n",
      "                 - path: /CourseContent/Science/Videos/m_measure_pole_height.mp4  (PrathamVideoResource) \n",
      "                 - path: /CourseContent/Science/Videos/m_dheel.mp4  (PrathamVideoResource) \n",
      "           - path: /mr/Course/Science/CRS74  (subtopic_page) \n",
      "             children:\n",
      "              - path: /mr/Lesson/LES475  (lesson_page) \n",
      "                children:\n",
      "                 - path: /CourseContent/Science/Videos/m_molecule_structure.mp4  (PrathamVideoResource) \n",
      "              - path: /mr/Lesson/LES44  (lesson_page) \n",
      "                children:\n",
      "                 - path: /CourseContent/Science/Videos/m_liquid_solid.mp4  (PrathamVideoResource) \n",
      "                 - path: /CourseContent/Science/Videos/m_liquid_state.mp4  (PrathamVideoResource) \n",
      "                 - path: /CourseContent/Games/ScienceBucketGame_M.zip  (PrathamZipResource) \n",
      "              - path: /mr/Lesson/LES102  (lesson_page) \n",
      "                children:\n",
      "                 - path: /CourseContent/Science/Watch/mr/SCIENCE/m_mass_weight1.mp4  (PrathamVideoResource) \n",
      "                 - path: /CourseContent/Science/Watch/mr/SCIENCE/m_mass_weight2.mp4  (PrathamVideoResource) \n",
      "                 - path: /CourseContent/Science/Watch/mr/SCIENCE/m_time_distance_weight.mp4  (PrathamVideoResource) \n",
      "                 - path: /CourseContent/Games/planetGame_M.zip  (PrathamZipResource) \n",
      "           - path: /mr/Course/Science/CRS85  (subtopic_page) \n",
      "             children:\n",
      "              - path: /mr/Lesson/LES202  (lesson_page) \n",
      "                children:\n",
      "                 - path: /CourseContent/Science/Read/mr/Prakashyache Sankraman.pdf  (PrathamPdfResource) \n",
      "                 - path: /CourseContent/Science/Watch/mr/SCIENCE/m_cage_bird.mp4  (PrathamVideoResource) \n",
      "                 - path: /CourseContent/Science/Watch/mr/SCIENCE/m_magic_coin.mp4  (PrathamVideoResource) \n",
      "                 - path: /CourseContent/Science/Watch/mr/SCIENCE/m_invisible_coin.mp4  (PrathamVideoResource) \n",
      "                 - path: /CourseContent/Science/Watch/mr/SCIENCE/m_house_light.mp4  (PrathamVideoResource) \n",
      "                 - path: /CourseContent/Science/Videos/mirror.mp4  (PrathamVideoResource) \n",
      "                 - path: /CourseContent/Games/ScienceBucketGame_M.zip  (PrathamZipResource) \n",
      "              - path: /mr/Lesson/LES538  (lesson_page) \n",
      "                children:\n",
      "                 - path: /CourseContent/Science/Watch/mr/SCIENCE/m_colourful_world1.mp4  (PrathamVideoResource) \n",
      "                 - path: /CourseContent/Science/Watch/mr/SCIENCE/m_colourful_world2.mp4  (PrathamVideoResource) \n",
      "              - path: /mr/Lesson/LES558  (lesson_page) \n",
      "                children:\n",
      "                 - path: /CourseContent/Science/Watch/mr/SCIENCE/m_light_day.mp4  (PrathamVideoResource) \n",
      "        - path: /mr/Course/Std8  (topic_page) \n",
      "          children:\n",
      "           - path: /mr/Course/Std8/CRS78  (subtopic_page) \n",
      "             children:\n",
      "              - path: /mr/Lesson/LES498  (lesson_page) \n",
      "                children:\n",
      "                 - path: /CourseContent/STD8/Video/Meteors_Comets_Asteroids_and_Artificial_Satellites.mp4  (PrathamVideoResource) \n",
      "              - path: /mr/Lesson/LES499  (lesson_page) \n",
      "                children:\n",
      "                 - path: /CourseContent/STD8/Video/Save_the_World.mp4  (PrathamVideoResource) \n",
      "                 - path: /CourseContent/STD8/Video/The_Five_Kingdom_Classification..mp4  (PrathamVideoResource) \n",
      "              - path: /mr/Lesson/LES500  (lesson_page) \n",
      "                children:\n",
      "                 - path: /CourseContent/STD8/Video/Magnets.mp4  (PrathamVideoResource) \n",
      "              - path: /mr/Lesson/LES501  (lesson_page) \n",
      "                children:\n",
      "                 - path: /CourseContent/STD8/Video/Isotopes.mp4  (PrathamVideoResource) \n",
      "                 - path: /CourseContent/STD8/Video/Structure_of_Atom.mp4  (PrathamVideoResource) \n",
      "              - path: /mr/Lesson/LES502  (lesson_page) \n",
      "                children:\n",
      "                 - path: /CourseContent/STD8/Video/Gathering_the_Troops.mp4  (PrathamVideoResource) \n",
      "                 - path: /CourseContent/STD8/Video/The_Story_of_Penicillin.mp4  (PrathamVideoResource) \n",
      "              - path: /mr/Lesson/LES503  (lesson_page) \n",
      "                children:\n",
      "                 - path: /CourseContent/STD8/Video/Carbonisation_m.mp4  (PrathamVideoResource) \n",
      "                 - path: /CourseContent/STD8/Video/Energy_from_the_Sea_and_Geothermal_Energy.mp4  (PrathamVideoResource) \n",
      "                 - path: /CourseContent/STD8/Video/Formation_of_Petroleum_and_Natural_Gas.mp4  (PrathamVideoResource) \n",
      "                 - path: /CourseContent/STD8/Video/Nuclear_Energy.mp4  (PrathamVideoResource) \n",
      "                 - path: /CourseContent/STD8/Video/Solar_Energy.mp4  (PrathamVideoResource) \n",
      "                 - path: /CourseContent/STD8/Video/Latent_Heat.mp4  (PrathamVideoResource) \n",
      "              - path: /mr/Lesson/LES504  (lesson_page) \n",
      "                children:\n",
      "                 - path: /CourseContent/STD8/Video/Reactions_of_Metals_and_Non-metals_With_Water.mp4  (PrathamVideoResource) \n",
      "              - path: /mr/Lesson/LES505  (lesson_page) \n",
      "                children:\n"
     ]
    },
    {
     "name": "stdout",
     "output_type": "stream",
     "text": [
      "                 - path: /CourseContent/STD8/Video/Sharing_and_Bonding.mp4  (PrathamVideoResource) \n",
      "              - path: /mr/Lesson/LES506  (lesson_page) \n",
      "                children:\n",
      "                 - path: /CourseContent/STD8/Video/Formation_of_Soil.mp4  (PrathamVideoResource) \n",
      "              - path: /mr/Lesson/LES507  (lesson_page) \n",
      "                children:\n",
      "                 - path: /CourseContent/STD8/Video/Crops_and_Climatic_Conditions.mp4  (PrathamVideoResource) \n",
      "                 - path: /CourseContent/STD8/Video/Soil_Preparation.mp4  (PrathamVideoResource) \n",
      "                 - path: /CourseContent/STD8/Video/Sowing_Seeds.mp4  (PrathamVideoResource) \n",
      "           - path: /mr/Course/Std8/CRS77  (subtopic_page) \n",
      "             children:\n",
      "              - path: /mr/Lesson/LES483  (lesson_page) \n",
      "                children:\n",
      "                 - path: /CourseContent/STD8/Video/Square_Root.mp4  (PrathamVideoResource) \n",
      "              - path: /mr/Lesson/LES484  (lesson_page) \n",
      "                children:\n",
      "                 - path: /CourseContent/STD8/Video/Dividing_line_segment_into_equal_parts.mp4  (PrathamVideoResource) \n",
      "                 - path: /CourseContent/STD8/Video/Drawing_Parallels.mp4  (PrathamVideoResource) \n",
      "              - path: /mr/Lesson/LES485  (lesson_page) \n",
      "                children:\n",
      "                 - path: /CourseContent/STD8/Video/Sum_of_Angles_of_a_Quadrilateral.mp4  (PrathamVideoResource) \n",
      "              - path: /mr/Lesson/LES486  (lesson_page) \n",
      "                children:\n",
      "                 - path: /CourseContent/STD8/Video/Area_of_a_Circle.mp4  (PrathamVideoResource) \n",
      "              - path: /mr/Lesson/LES487  (lesson_page) \n",
      "                children:\n",
      "                 - path: /CourseContent/STD8/Video/Mean_of_Ungrouped_Data.mp4  (PrathamVideoResource) \n",
      "                 - path: /CourseContent/STD8/Video/Show_Me_the_Data.mp4  (PrathamVideoResource) \n",
      "              - path: /mr/Lesson/LES488  (lesson_page) \n",
      "                children:\n",
      "                 - path: /CourseContent/STD8/Video/Direct_Proportion.mp4  (PrathamVideoResource) \n",
      "                 - path: /CourseContent/STD8/Video/Inverse_Proportion.mp4  (PrathamVideoResource) \n",
      "              - path: /mr/Lesson/LES489  (lesson_page) \n",
      "                children:\n",
      "                 - path: /CourseContent/STD8/Video/Identity_Pyramid.mp4  (PrathamVideoResource) \n",
      "              - path: /mr/Lesson/LES490  (lesson_page) \n",
      "                children:\n",
      "                 - path: /CourseContent/STD8/Video/Cube_Root_Through_Prime_Factorisation.mp4  (PrathamVideoResource) \n",
      "                 - path: /CourseContent/STD8/Video/Identifying_Cubes_Using_Prime_Factorisation.mp4  (PrathamVideoResource) \n",
      "              - path: /mr/Lesson/LES491  (lesson_page) \n",
      "                children:\n",
      "                 - path: /CourseContent/STD8/Video/Rules_of_Indices.mp4  (PrathamVideoResource) \n",
      "              - path: /mr/Lesson/LES492  (lesson_page) \n",
      "                children:\n",
      "                 - path: /CourseContent/STD8/Video/Construct_a_Quadrilateral.mp4  (PrathamVideoResource) \n",
      "                 - path: /CourseContent/STD8/Video/Constructing_Angles_Revision.mp4  (PrathamVideoResource) \n",
      "              - path: /mr/Lesson/LES493  (lesson_page) \n",
      "                children:\n",
      "                 - path: /CourseContent/STD8/Video/Angles_and_Arcs.mp4  (PrathamVideoResource) \n",
      "              - path: /mr/Lesson/LES494  (lesson_page) \n",
      "                children:\n",
      "                 - path: /CourseContent/STD8/Video/Wizard_of_Al.mp4  (PrathamVideoResource) \n",
      "              - path: /mr/Lesson/LES495  (lesson_page) \n",
      "                children:\n",
      "                 - path: /CourseContent/STD8/Video/Commission.mp4  (PrathamVideoResource) \n",
      "              - path: /mr/Lesson/LES496  (lesson_page) \n",
      "                children:\n",
      "                 - path: /CourseContent/STD8/Video/Surface_Area_of_Sphere.mp4  (PrathamVideoResource) \n",
      "                 - path: /CourseContent/STD8/Video/Surface_Areas_of_Cuboids_and_Cubes.mp4  (PrathamVideoResource) \n",
      "                 - path: /CourseContent/STD8/Video/Surface_Areas_of_Solids.mp4  (PrathamVideoResource) \n",
      "                 - path: /CourseContent/STD8/Video/Volume_of_Cone_Sphere_and_Hemisphere.mp4  (PrathamVideoResource) \n",
      "                 - path: /CourseContent/STD8/Video/Volume_of_Cuboid_Cube_and_Cylinder.mp4  (PrathamVideoResource) \n",
      "              - path: /mr/Lesson/LES497  (lesson_page) \n",
      "                children:\n",
      "                 - path: /CourseContent/STD8/Video/Factorisation_of_Algebraic_Expressions.mp4  (PrathamVideoResource) \n",
      "        - path: /mr/Fun  (fun_page) \n",
      "          children:\n",
      "           - path: /CourseContent/Games/IncredibleIndiaVERSION2_M.zip  (PrathamZipResource) \n",
      "           - path: /CourseContent/Games/Build-a-Sentence(Marathi).zip  (PrathamZipResource) \n",
      "           - path: /CourseContent/Science/Watch/mr/SCIENCE/m_flute.mp4  (PrathamVideoResource) \n",
      "           - path: /CourseContent/Science/Watch/mr/SCIENCE/m_funny_balloon.mp4  (PrathamVideoResource) \n",
      "           - path: /CourseContent/Games/newFractionGame_M.zip  (PrathamZipResource) \n",
      "           - path: /CourseContent/Science/Videos/mirror.mp4  (PrathamVideoResource) \n",
      "           - path: /CourseContent/Mathematics/Videos/m_perfect_numbers.mp4  (PrathamVideoResource) \n",
      "           - path: /CourseContent/Science/Videos/m_howToRun.mp4  (PrathamVideoResource) \n",
      "           - path: /CourseContent/Science/Videos/m_bridge_secret.mp4  (PrathamVideoResource) \n",
      "           - path: /CourseContent/Science/Watch/mr/SCIENCE/m_force.mp4  (PrathamVideoResource) \n",
      "           - path: /CourseContent/Science/Watch/mr/SCIENCE/m_pressure.mp4  (PrathamVideoResource) \n",
      "           - path: /CourseContent/Science/Watch/mr/SCIENCE/m_straw_disc.mp4  (PrathamVideoResource) \n",
      "           - path: /CourseContent/Games/Bone Game(Dr. Haddi)_M.zip  (PrathamZipResource) \n",
      "           - path: /CourseContent/Science/Videos/m_self_opearating_gate.mp4  (PrathamVideoResource) \n",
      "           - path: /CourseContent/Games/wordshop_M.zip  (PrathamZipResource) \n",
      "           - path: /CourseContent/Games/4 clues (Countries) Marathi.zip  (PrathamZipResource) \n",
      "           - path: /CourseContent/Science/Watch/mr/SCIENCE/m_weight2.mp4  (PrathamVideoResource) \n",
      "           - path: /CourseContent/Science/Videos/m_coriolis_effect.mp4  (PrathamVideoResource) \n",
      "           - path: /CourseContent/Games/FlipImage Game(Palat)_M.zip  (PrathamZipResource) \n",
      "           - path: /CourseContent/Science/Videos/m_important_work.mp4  (PrathamVideoResource) \n",
      "           - path: /CourseContent/Science/Watch/mr/SCIENCE/m_sandwich.mp4  (PrathamVideoResource) \n",
      "           - path: /CourseContent/OTHER/Marathi/नाचणारा सांगाडा.mp4  (PrathamVideoResource) \n",
      "           - path: /CourseContent/Science/Watch/mr/SCIENCE/m_nails_puzzle.mp4  (PrathamVideoResource) \n",
      "           - path: /CourseContent/OTHER/Marathi/बिजागरी माणूस.mp4  (PrathamVideoResource) \n",
      "           - path: /CourseContent/Mathematics/Videos/m_triangle_fun.mp4  (PrathamVideoResource) \n",
      "           - path: /CourseContent/Games/Sorting Game  (Marathi).zip  (PrathamZipResource) \n",
      "           - path: /CourseContent/Mathematics/Algebra/mr/video/m_palindrome.mp4  (PrathamVideoResource) \n",
      "           - path: /CourseContent/Games/HistoryOfPlane_M.zip  (PrathamZipResource) \n",
      "           - path: /CourseContent/Games/ScienceBucketGame_M.zip  (PrathamZipResource) \n",
      "           - path: /CourseContent/Mathematics/Videos/m_odd_numbers_fun.mp4  (PrathamVideoResource) \n",
      "           - path: /CourseContent/OTHER/Marathi/India_golden_girl.mp4  (PrathamVideoResource) \n",
      "           - path: /CourseContent/Science/Watch/mr/SCIENCE/m_acceleration.mp4  (PrathamVideoResource) \n",
      "           - path: /CourseContent/Science/Videos/m_real_players.mp4  (PrathamVideoResource) \n",
      "           - path: /CourseContent/Science/Videos/m_nasa_satellite.mp4  (PrathamVideoResource) \n",
      "           - path: /CourseContent/Science/Videos/m_paper_bridge.mp4  (PrathamVideoResource) \n",
      "           - path: /CourseContent/OTHER/Marathi/Que.mp4  (PrathamVideoResource) \n",
      "           - path: /CourseContent/Games/MathsBucketGame_M.zip  (PrathamZipResource) \n",
      "           - path: /CourseContent/Games/M_calculator.zip  (PrathamZipResource) \n",
      "           - path: /CourseContent/Science/Watch/mr/SCIENCE/m_dry_clothes.mp4  (PrathamVideoResource) \n",
      "           - path: /CourseContent/Science/Watch/mr/SCIENCE/m_weight1.mp4  (PrathamVideoResource) \n",
      "           - path: /CourseContent/Games/clockGameMarathi.zip  (PrathamZipResource) \n",
      "           - path: /CourseContent/Games/JigsawGame_M.zip  (PrathamZipResource) \n",
      "           - path: /CourseContent/general/m_geetagabita.mp4  (PrathamVideoResource) \n",
      "           - path: /CourseContent/Science/Videos/m_periodic_table.mp4  (PrathamVideoResource) \n",
      "           - path: /CourseContent/Games/wordpicture_M.zip  (PrathamZipResource) \n",
      "           - path: /CourseContent/Science/Videos/m_cow_pump.mp4  (PrathamVideoResource) \n",
      "           - path: /CourseContent/Games/FactorsGameNew_M.zip  (PrathamZipResource) \n",
      "           - path: /CourseContent/Games/CricketGameVersionOne_M.zip  (PrathamZipResource) \n",
      "        - path: /mr/Story  (story_page) \n",
      "          children:\n",
      "           - path: /CourseContent/Story/PDF/Marathi/Cat_in_the_ghat.pdf  (story_resource_page) \n",
      "           - path: /CourseContent/Story/PDF/Marathi/The_Parrot_with_Broken_Beak.pdf  (story_resource_page) \n",
      "           - path: /CourseContent/Story/PDF/Marathi/My-Car-Marathi.pdf  (story_resource_page) \n",
      "           - path: /CourseContent/Story/PDF/Marathi/The_Moon_and_The_Cap.pdf  (story_resource_page) \n",
      "           - path: /CourseContent/Story/PDF/Marathi/Goodnight_Tinku.pdf  (story_resource_page) \n",
      "           - path: /CourseContent/Story/PDF/Marathi/Rain_Rain.pdf  (story_resource_page) \n",
      "           - path: /CourseContent/Story/PDF/Marathi/The-Elephant-Bird-Marathi.pdf  (story_resource_page) \n",
      "           - path: /CourseContent/Story/PDF/Marathi/The_Hare_and_Tortoise.pdf  (story_resource_page) \n",
      "           - path: /CourseContent/Story/PDF/Marathi/Annual_Haircut_Day.pdf  (story_resource_page) \n",
      "           - path: /CourseContent/Story/PDF/Marathi/Counting_on_Moru.pdf  (story_resource_page) \n",
      "           - path: /CourseContent/Story/PDF/Marathi/The_Rainbow_Fish.pdf  (story_resource_page) \n",
      "           - path: /CourseContent/Story/PDF/Marathi/Shobhini_and_Nani.pdf  (story_resource_page) \n",
      "           - path: /CourseContent/Story/PDF/Marathi/Sniffles_the_Crocodile_and_Punch.pdf  (story_resource_page) \n",
      "           - path: /CourseContent/Story/PDF/Marathi/Row_Row_Row_Your_Boat.pdf  (story_resource_page) \n",
      "           - path: /CourseContent/Story/PDF/Marathi/Grandpa_Fish_and_Radio.pdf  (story_resource_page) \n",
      "           - path: /CourseContent/Story/PDF/Marathi/Dastkari_Series_03.pdf  (story_resource_page) \n",
      "           - path: /CourseContent/Story/PDF/Marathi/Grandmas_Glasses.pdf  (story_resource_page) \n",
      "           - path: /CourseContent/Story/PDF/Marathi/Cheenus_Gift.pdf  (story_resource_page) \n",
      "           - path: /CourseContent/Story/PDF/Marathi/The_Generous_Crow.pdf  (story_resource_page) \n",
      "           - path: /CourseContent/Story/PDF/Marathi/Chuskit_Goes_to_School.pdf  (story_resource_page) \n",
      "           - path: /CourseContent/Story/PDF/Marathi/Finance_01.pdf  (story_resource_page) \n",
      "           - path: /CourseContent/Story/PDF/Marathi/No_smiles_today.pdf  (story_resource_page) \n",
      "           - path: /CourseContent/Story/PDF/Marathi/The_Koels_Song.pdf  (story_resource_page) \n",
      "           - path: /CourseContent/Story/PDF/Marathi/Chulbuls_Tail.pdf  (story_resource_page) \n",
      "           - path: /CourseContent/Story/PDF/Marathi/Moo_Moo_Brown_Cow.pdf  (story_resource_page) \n",
      "           - path: /CourseContent/Story/PDF/Marathi/Jungle_Brew.pdf  (story_resource_page) \n",
      "           - path: /CourseContent/Story/PDF/Marathi/History_Series_01.pdf  (story_resource_page) \n",
      "           - path: /CourseContent/Story/PDF/Marathi/Our_Wonderful_World.pdf  (story_resource_page) \n",
      "           - path: /CourseContent/Story/PDF/Marathi/Kallus_World_01.pdf  (story_resource_page) \n",
      "           - path: /CourseContent/Story/PDF/Marathi/Going_to_a_Wedding.pdf  (story_resource_page) \n",
      "           - path: /CourseContent/Story/PDF/Marathi/The-Day-the-Vegetables-Came-to-School-Marathi.pdf  (story_resource_page) \n",
      "           - path: /CourseContent/Story/PDF/Marathi/Daddys_Mo.pdf  (story_resource_page) \n",
      "           - path: /CourseContent/Story/PDF/Marathi/Anaya_Thumb.pdf  (story_resource_page) \n",
      "           - path: /CourseContent/Story/PDF/Marathi/Kato_Clever_and_the_Big_Trouble.pdf  (story_resource_page) \n",
      "           - path: /CourseContent/Story/PDF/Marathi/Kaka_and_Munni.pdf  (story_resource_page) \n",
      "           - path: /CourseContent/Story/PDF/Marathi/Aunty_Jui_Baby.pdf  (story_resource_page) \n",
      "           - path: /CourseContent/Story/PDF/Marathi/Paplu_The_Giant.pdf  (story_resource_page) \n",
      "           - path: /CourseContent/Story/PDF/Marathi/Finance_02.pdf  (story_resource_page) \n",
      "           - path: /CourseContent/Story/PDF/Marathi/Wildlife-in-a-City-Pond-Marathi.pdf  (story_resource_page) \n",
      "           - path: /CourseContent/Story/PDF/Marathi/Kallus_World_02.pdf  (story_resource_page) \n",
      "           - path: /CourseContent/Story/PDF/Marathi/Spincy_Spider.pdf  (story_resource_page) \n",
      "           - path: /CourseContent/Story/PDF/Marathi/History_Series_02.pdf  (story_resource_page) \n",
      "           - path: /CourseContent/Story/PDF/Marathi/The_Sparrow_and_the_Fruit.pdf  (story_resource_page) \n"
     ]
    }
   ],
   "source": [
    "mr_crawler.print_tree(mr_web_resource_tree, print_depth=5)"
   ]
  },
  {
   "cell_type": "code",
   "execution_count": null,
   "metadata": {},
   "outputs": [],
   "source": []
  },
  {
   "cell_type": "code",
   "execution_count": null,
   "metadata": {},
   "outputs": [],
   "source": []
  },
  {
   "cell_type": "code",
   "execution_count": null,
   "metadata": {},
   "outputs": [],
   "source": []
  },
  {
   "cell_type": "code",
   "execution_count": null,
   "metadata": {},
   "outputs": [],
   "source": []
  },
  {
   "cell_type": "code",
   "execution_count": null,
   "metadata": {},
   "outputs": [],
   "source": []
  },
  {
   "cell_type": "code",
   "execution_count": null,
   "metadata": {},
   "outputs": [],
   "source": []
  },
  {
   "cell_type": "code",
   "execution_count": null,
   "metadata": {},
   "outputs": [],
   "source": []
  },
  {
   "cell_type": "code",
   "execution_count": null,
   "metadata": {},
   "outputs": [],
   "source": []
  }
 ],
 "metadata": {
  "kernelspec": {
   "display_name": "Python 3",
   "language": "python",
   "name": "python3"
  },
  "language_info": {
   "codemirror_mode": {
    "name": "ipython",
    "version": 3
   },
   "file_extension": ".py",
   "mimetype": "text/x-python",
   "name": "python",
   "nbconvert_exporter": "python",
   "pygments_lexer": "ipython3",
   "version": "3.6.4"
  }
 },
 "nbformat": 4,
 "nbformat_minor": 2
}
