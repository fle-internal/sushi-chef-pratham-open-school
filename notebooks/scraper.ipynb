{
 "cells": [
  {
   "cell_type": "markdown",
   "metadata": {},
   "source": [
    "# Testing PraDigiCrawler"
   ]
  },
  {
   "cell_type": "code",
   "execution_count": 2,
   "metadata": {
    "scrolled": false
   },
   "outputs": [],
   "source": [
    "from chef import PraDigiCrawler\n",
    "\n",
    "crawler = PraDigiCrawler(lang='hi')\n"
   ]
  },
  {
   "cell_type": "code",
   "execution_count": 3,
   "metadata": {
    "scrolled": true
   },
   "outputs": [
    {
     "name": "stderr",
     "output_type": "stream",
     "text": [
      "Downloaded page http://www.prathamopenschool.org/hn/ title:POS\n",
      "in on_lang_page http://www.prathamopenschool.org/hn/\n",
      "found topic: Mathematics: गणित\n",
      "found topic: English: अंग्रेजी\n",
      "found topic: Health: स्वास्थ्य\n",
      "found topic: Science: विज्ञान\n",
      "found topic: Hospitality: अतिथी सत्कार\n",
      "found topic: Construction: भवन-निर्माण\n",
      "found topic: Automobile: वाहन\n",
      "found topic: Electric: इलेक्ट्रिक\n",
      "found topic: Beauty: ब्युटी\n",
      "found topic: Healthcare: स्वास्थ्य सेवा\n",
      "found topic: Std8: 8 वी कक्षा\n",
      "found games page: Fun: मौज\n",
      "found games page: Story: कहानियाँ\n",
      "found topic: CRS104: खेल\n"
     ]
    },
    {
     "name": "stdout",
     "output_type": "stream",
     "text": [
      "skipping <a class=\"dropdown-toggle\" data-toggle=\"dropdown\" href=\"#\" style=\"background: transparent;\">\r\n",
      "                                                कौशल <span class=\"caret\"></span>\n",
      "</a>\n"
     ]
    },
    {
     "name": "stderr",
     "output_type": "stream",
     "text": [
      "Downloaded page http://www.prathamopenschool.org/hn/Course/Mathematics title:Course\n",
      "in on_topic_page http://www.prathamopenschool.org/hn/Course/Mathematics\n",
      "  found subtopic: CRS17: ज्यामिती से परिचय\n",
      "  found subtopic: CRS98: ब्याज\n",
      "  found subtopic: CRS99: वर्ग संख्याएँ\n",
      "  found subtopic: CRS27: गुणज और गुणनखंड\n",
      "  found subtopic: CRS82: अलग संख्याएँ\n",
      "  found subtopic: CRS41: मात्राएँ और संख्याएँ\n",
      "  found subtopic: CRS24: प्रतिशत\n",
      "  found subtopic: CRS21: बीजगणित से परिचय\n",
      "  found subtopic: CRS40: दशमलव\n",
      "Downloaded page http://www.prathamopenschool.org/hn/Course/English title:Course\n",
      "in on_topic_page http://www.prathamopenschool.org/hn/Course/English\n",
      "  found subtopic: CRS34: अंग्रेजी बोलो\n",
      "  found subtopic: CRS36: अंग्रेजी ओके प्लीज\n",
      "Downloaded page http://www.prathamopenschool.org/hn/Course/Health title:Course\n",
      "in on_topic_page http://www.prathamopenschool.org/hn/Course/Health\n",
      "  found subtopic: CRS28: आहार\n",
      "Downloaded page http://www.prathamopenschool.org/hn/Course/Science title:Course\n",
      "in on_topic_page http://www.prathamopenschool.org/hn/Course/Science\n",
      "  found subtopic: CRS44: मानव शरीर\n",
      "  found subtopic: CRS96: सूर्य और पृथ्वी\n",
      "  found subtopic: CRS97: ऊर्जा\n",
      "  found subtopic: CRS83: हलचल\n",
      "  found subtopic: CRS46: नापना\n",
      "  found subtopic: CRS84: पदार्थ\n",
      "  found subtopic: CRS92: प्रकाश\n",
      "Downloaded page http://www.prathamopenschool.org/hn/Course/Hospitality title:Course\n",
      "in on_topic_page http://www.prathamopenschool.org/hn/Course/Hospitality\n",
      "  found subtopic: CRS86: उद्योग का परिचय\n",
      "  found subtopic: CRS87: खाद्य और पेय पदार्थ\n",
      "  found subtopic: CRS88: खाद्य उत्पादन\n",
      "  found subtopic: CRS89: गृह व्यवस्था\n",
      "Downloaded page http://www.prathamopenschool.org/hn/Course/Construction title:Course\n",
      "in on_topic_page http://www.prathamopenschool.org/hn/Course/Construction\n",
      "  found subtopic: CRS93: निर्माण\n",
      "Downloaded page http://www.prathamopenschool.org/hn/Course/Automobile title:Course\n",
      "in on_topic_page http://www.prathamopenschool.org/hn/Course/Automobile\n",
      "  found subtopic: CRS94: ऑटोमोबाइल\n",
      "Downloaded page http://www.prathamopenschool.org/hn/Course/Electric title:Course\n",
      "in on_topic_page http://www.prathamopenschool.org/hn/Course/Electric\n",
      "  found subtopic: CRS90: इलेक्ट्रीशियन\n",
      "Downloaded page http://www.prathamopenschool.org/hn/Course/Beauty title:Course\n",
      "in on_topic_page http://www.prathamopenschool.org/hn/Course/Beauty\n",
      "  found subtopic: CRS95: ब्यूटिशियन\n",
      "Downloaded page http://www.prathamopenschool.org/hn/Course/Healthcare title:Course\n",
      "in on_topic_page http://www.prathamopenschool.org/hn/Course/Healthcare\n",
      "  found subtopic: CRS91: बेडसाइड असिस्टंट\n",
      "Downloaded page http://www.prathamopenschool.org/hn/Course/Std8 title:Course\n",
      "in on_topic_page http://www.prathamopenschool.org/hn/Course/Std8\n",
      "  found subtopic: CRS79: विज्ञान\n",
      "  found subtopic: CRS80: गणित\n",
      "Downloaded page http://www.prathamopenschool.org/hn/Fun title:Fun\n"
     ]
    },
    {
     "name": "stdout",
     "output_type": "stream",
     "text": [
      "     in on_games_page http://www.prathamopenschool.org/hn/Fun\n"
     ]
    },
    {
     "name": "stderr",
     "output_type": "stream",
     "text": [
      "Downloaded page http://www.prathamopenschool.org/hn/Story title:Story\n"
     ]
    },
    {
     "name": "stdout",
     "output_type": "stream",
     "text": [
      "     in on_games_page http://www.prathamopenschool.org/hn/Story\n"
     ]
    },
    {
     "name": "stderr",
     "output_type": "stream",
     "text": [
      "Downloaded page http://www.prathamopenschool.org/hn/gamelist/CRS104 title:GameList\n",
      "in on_topic_page http://www.prathamopenschool.org/hn/gamelist/CRS104\n",
      "  found subtopic: LES620: 3 to 6\n",
      "  found subtopic: LES621: 6 to 10\n",
      "  found subtopic: LES622: 10 to 14\n",
      "Downloaded page http://www.prathamopenschool.org/hn/Course/Mathematics/CRS17 title:Course\n",
      "     lesson: LES55: त्रिभुज\n",
      "     lesson: LES56: कोण\n",
      "     lesson: LES57: वृत्त\n",
      "     lesson: LES58: परिमाप\n",
      "     lesson: LES74: आकृतियाँ और बहुभुज\n",
      "     lesson: LES76: क्षेत्रफल\n"
     ]
    },
    {
     "name": "stdout",
     "output_type": "stream",
     "text": [
      "     in on_subtopic_page http://www.prathamopenschool.org/hn/Course/Mathematics/CRS17\n"
     ]
    },
    {
     "name": "stderr",
     "output_type": "stream",
     "text": [
      "Downloaded page http://www.prathamopenschool.org/hn/Course/Mathematics/CRS98 title:Course\n",
      "     lesson: LES603: ब्याज\n"
     ]
    },
    {
     "name": "stdout",
     "output_type": "stream",
     "text": [
      "     in on_subtopic_page http://www.prathamopenschool.org/hn/Course/Mathematics/CRS98\n"
     ]
    },
    {
     "name": "stderr",
     "output_type": "stream",
     "text": [
      "Downloaded page http://www.prathamopenschool.org/hn/Course/Mathematics/CRS99 title:Course\n",
      "     lesson: LES604: वर्ग संख्याएँ\n"
     ]
    },
    {
     "name": "stdout",
     "output_type": "stream",
     "text": [
      "     in on_subtopic_page http://www.prathamopenschool.org/hn/Course/Mathematics/CRS99\n"
     ]
    },
    {
     "name": "stderr",
     "output_type": "stream",
     "text": [
      "Downloaded page http://www.prathamopenschool.org/hn/Course/Mathematics/CRS27 title:Course\n",
      "     lesson: LES86: गुणज\n",
      "     lesson: LES87: गुणनखंड\n",
      "     lesson: LES88: महत्तम समापवर्तक\n",
      "     lesson: LES89: लघुत्तम समापवर्त्य\n",
      "     lesson: LES90: महत्तम समापवर्तक, लघुत्तम समापवर्त्य\n",
      "     lesson: LES537: रिश्ते गणित में\n"
     ]
    },
    {
     "name": "stdout",
     "output_type": "stream",
     "text": [
      "     in on_subtopic_page http://www.prathamopenschool.org/hn/Course/Mathematics/CRS27\n"
     ]
    },
    {
     "name": "stderr",
     "output_type": "stream",
     "text": [
      "Downloaded page http://www.prathamopenschool.org/hn/Course/Mathematics/CRS82 title:Course\n",
      "     lesson: LES509: भिन्न में और क्या!\n",
      "     lesson: LES513: दशमलव में और क्या!\n",
      "     lesson: LES514: दो अंकों के बीच\n",
      "     lesson: LES515: सौ में से कितने?\n",
      "     lesson: LES112: अंक के भाग\n"
     ]
    },
    {
     "name": "stdout",
     "output_type": "stream",
     "text": [
      "     in on_subtopic_page http://www.prathamopenschool.org/hn/Course/Mathematics/CRS82\n"
     ]
    },
    {
     "name": "stderr",
     "output_type": "stream",
     "text": [
      "Downloaded page http://www.prathamopenschool.org/hn/Course/Mathematics/CRS41 title:Course\n",
      "     lesson: LES107: मात्राएँ और संख्याएँ\n"
     ]
    },
    {
     "name": "stdout",
     "output_type": "stream",
     "text": [
      "     in on_subtopic_page http://www.prathamopenschool.org/hn/Course/Mathematics/CRS41\n"
     ]
    },
    {
     "name": "stderr",
     "output_type": "stream",
     "text": [
      "Downloaded page http://www.prathamopenschool.org/hn/Course/Mathematics/CRS24 title:Course\n",
      "     lesson: LES75: प्रतिशत\n"
     ]
    },
    {
     "name": "stdout",
     "output_type": "stream",
     "text": [
      "     in on_subtopic_page http://www.prathamopenschool.org/hn/Course/Mathematics/CRS24\n"
     ]
    },
    {
     "name": "stderr",
     "output_type": "stream",
     "text": [
      "Downloaded page http://www.prathamopenschool.org/hn/Course/Mathematics/CRS21 title:Course\n",
      "     lesson: LES85: बीजगणित की भूमिका\n"
     ]
    },
    {
     "name": "stdout",
     "output_type": "stream",
     "text": [
      "     in on_subtopic_page http://www.prathamopenschool.org/hn/Course/Mathematics/CRS21\n"
     ]
    },
    {
     "name": "stderr",
     "output_type": "stream",
     "text": [
      "Downloaded page http://www.prathamopenschool.org/hn/Course/Mathematics/CRS40 title:Course\n",
      "     lesson: LES100: दशमलव\n",
      "     lesson: LES101: दशमलव जोडना,घटाना\n"
     ]
    },
    {
     "name": "stdout",
     "output_type": "stream",
     "text": [
      "     in on_subtopic_page http://www.prathamopenschool.org/hn/Course/Mathematics/CRS40\n"
     ]
    },
    {
     "name": "stderr",
     "output_type": "stream",
     "text": [
      "Downloaded page http://www.prathamopenschool.org/hn/Course/English/CRS34 title:Course\n",
      "     lesson: LES405: बोलो हेलो!\n",
      "     lesson: LES406: मेरे अपने\n",
      "     lesson: LES407: ना ना की बातें\n",
      "     lesson: LES408: मेरी मर्ज़ी\n",
      "     lesson: LES442: समय को समझे\n",
      "     lesson: LES444: खरीददारी\n",
      "     lesson: LES445: अपना मुव्ही बनाइए\n",
      "     lesson: LES446: सलमा दीदी की शादी\n",
      "     lesson: LES447: आज की ताजा खबर\n",
      "     lesson: LES612: डरना मना हैं\n",
      "     lesson: LES613: बच्चों की टोली\n",
      "     lesson: LES614: गाँव में चोर\n"
     ]
    },
    {
     "name": "stdout",
     "output_type": "stream",
     "text": [
      "     in on_subtopic_page http://www.prathamopenschool.org/hn/Course/English/CRS34\n"
     ]
    },
    {
     "name": "stderr",
     "output_type": "stream",
     "text": [
      "Downloaded page http://www.prathamopenschool.org/hn/Course/English/CRS36 title:Course\n",
      "     lesson: LES414: अंग्रेजी ओके 1\n",
      "     lesson: LES426: अंग्रेजी ओके 2\n",
      "     lesson: LES427: अंग्रेजी ओके 3\n",
      "     lesson: LES428: अंग्रेजी ओके 4\n",
      "     lesson: LES429: अंग्रेजी ओके 5\n",
      "     lesson: LES430: अंग्रेजी ओके 6\n",
      "     lesson: LES431: अंग्रेजी ओके 8\n",
      "     lesson: LES432: अंग्रेजी ओके 9\n",
      "     lesson: LES433: अंग्रेजी ओके 10\n",
      "     lesson: LES434: अंग्रेजी ओके 11\n",
      "     lesson: LES435: अंग्रेजी ओके 12\n",
      "     lesson: LES436: अंग्रेजी ओके 13\n"
     ]
    },
    {
     "name": "stdout",
     "output_type": "stream",
     "text": [
      "     in on_subtopic_page http://www.prathamopenschool.org/hn/Course/English/CRS36\n"
     ]
    },
    {
     "name": "stderr",
     "output_type": "stream",
     "text": [
      "Downloaded page http://www.prathamopenschool.org/hn/Course/Health/CRS28 title:Course\n",
      "     lesson: LES301: क्या है भोजन और हैं क्या इसके काम?\n",
      "     lesson: LES302: कौन सा भोजन देता है हमे बल?\n",
      "     lesson: LES303: कौन सा भोजन करता है बढ़त में मदद?\n",
      "     lesson: LES304: कौन सा भोजन करता है हमारा बचाव?\n",
      "     lesson: LES305: संतुलित आहार है क्या?\n",
      "     lesson: LES306: हमारे शरीर में भोजन करता है कैसे काम?\n",
      "     lesson: LES307: कैसे पायें विटामिन ए की कमी से छुटकारा?\n",
      "     lesson: LES308: कैसे पायें आयरन (लौह तत्व) की कमी से छुटकारा?\n",
      "     lesson: LES309: कैसे पायें आयोडीन की कमी से छुटकारा?\n",
      "     lesson: LES310: पौष्टिक भोजन\n"
     ]
    },
    {
     "name": "stdout",
     "output_type": "stream",
     "text": [
      "     in on_subtopic_page http://www.prathamopenschool.org/hn/Course/Health/CRS28\n"
     ]
    },
    {
     "name": "stderr",
     "output_type": "stream",
     "text": [
      "Downloaded page http://www.prathamopenschool.org/hn/Course/Science/CRS44 title:Course\n",
      "     lesson: LES225: शरीर में गति\n",
      "     lesson: LES618: रक्त परिसंचरण तंत्र\n"
     ]
    },
    {
     "name": "stdout",
     "output_type": "stream",
     "text": [
      "     in on_subtopic_page http://www.prathamopenschool.org/hn/Course/Science/CRS44\n"
     ]
    },
    {
     "name": "stderr",
     "output_type": "stream",
     "text": [
      "Downloaded page http://www.prathamopenschool.org/hn/Course/Science/CRS96 title:Course\n",
      "     lesson: LES600: सौरमंडल की पहचान\n",
      "     lesson: LES601: पृथ्वी का सफ़र\n"
     ]
    },
    {
     "name": "stdout",
     "output_type": "stream",
     "text": [
      "     in on_subtopic_page http://www.prathamopenschool.org/hn/Course/Science/CRS96\n"
     ]
    },
    {
     "name": "stderr",
     "output_type": "stream",
     "text": [
      "Downloaded page http://www.prathamopenschool.org/hn/Course/Science/CRS97 title:Course\n",
      "     lesson: LES602: ऊर्जा से पहचान\n",
      "     lesson: LES610: कार्य और ऊर्जा\n"
     ]
    },
    {
     "name": "stdout",
     "output_type": "stream",
     "text": [
      "     in on_subtopic_page http://www.prathamopenschool.org/hn/Course/Science/CRS97\n"
     ]
    },
    {
     "name": "stderr",
     "output_type": "stream",
     "text": [
      "Downloaded page http://www.prathamopenschool.org/hn/Course/Science/CRS83 title:Course\n",
      "     lesson: LES510: गति से पहचान\n",
      "     lesson: LES113: बोलो भाई!\n"
     ]
    },
    {
     "name": "stdout",
     "output_type": "stream",
     "text": [
      "     in on_subtopic_page http://www.prathamopenschool.org/hn/Course/Science/CRS83\n"
     ]
    },
    {
     "name": "stderr",
     "output_type": "stream",
     "text": [
      "Downloaded page http://www.prathamopenschool.org/hn/Course/Science/CRS46 title:Course\n",
      "     lesson: LES224: नापे कैसें ?\n"
     ]
    },
    {
     "name": "stdout",
     "output_type": "stream",
     "text": [
      "     in on_subtopic_page http://www.prathamopenschool.org/hn/Course/Science/CRS46\n"
     ]
    },
    {
     "name": "stderr",
     "output_type": "stream",
     "text": [
      "Downloaded page http://www.prathamopenschool.org/hn/Course/Science/CRS84 title:Course\n",
      "     lesson: LES511: अणु और परमाणु\n",
      "     lesson: LES110: भार और द्रव्यमान\n",
      "     lesson: LES111: पदार्थ की पहचान\n"
     ]
    },
    {
     "name": "stdout",
     "output_type": "stream",
     "text": [
      "     in on_subtopic_page http://www.prathamopenschool.org/hn/Course/Science/CRS84\n"
     ]
    },
    {
     "name": "stderr",
     "output_type": "stream",
     "text": [
      "Downloaded page http://www.prathamopenschool.org/hn/Course/Science/CRS92 title:Course\n",
      "     lesson: LES103: प्रकाश के गुण\n",
      "     lesson: LES109: रंगीन दुनिया\n",
      "     lesson: LES559: आविष्कारों का इतिहास\n"
     ]
    },
    {
     "name": "stdout",
     "output_type": "stream",
     "text": [
      "     in on_subtopic_page http://www.prathamopenschool.org/hn/Course/Science/CRS92\n"
     ]
    },
    {
     "name": "stderr",
     "output_type": "stream",
     "text": [
      "Downloaded page http://www.prathamopenschool.org/hn/Course/Hospitality/CRS86 title:Course\n",
      "     lesson: LES539: आतिथ्य उद्योग का परिचय\n",
      "     lesson: LES540: उद्योग के बारे में जानें\n",
      "     lesson: LES541: छात्रों से सुनो\n"
     ]
    },
    {
     "name": "stdout",
     "output_type": "stream",
     "text": [
      "     in on_subtopic_page http://www.prathamopenschool.org/hn/Course/Hospitality/CRS86\n"
     ]
    },
    {
     "name": "stderr",
     "output_type": "stream",
     "text": [
      "Downloaded page http://www.prathamopenschool.org/hn/Course/Hospitality/CRS87 title:Course\n",
      "     lesson: LES542: सिलेबस\n",
      "     lesson: LES543: विषय\n"
     ]
    },
    {
     "name": "stdout",
     "output_type": "stream",
     "text": [
      "     in on_subtopic_page http://www.prathamopenschool.org/hn/Course/Hospitality/CRS87\n"
     ]
    },
    {
     "name": "stderr",
     "output_type": "stream",
     "text": [
      "Downloaded page http://www.prathamopenschool.org/hn/Course/Hospitality/CRS88 title:Course\n",
      "     lesson: LES544: परिचय और सिलेबस\n",
      "     lesson: LES545: व्यंजनों और प्रैक्टिकल\n"
     ]
    },
    {
     "name": "stdout",
     "output_type": "stream",
     "text": [
      "     in on_subtopic_page http://www.prathamopenschool.org/hn/Course/Hospitality/CRS88\n"
     ]
    },
    {
     "name": "stderr",
     "output_type": "stream",
     "text": [
      "Downloaded page http://www.prathamopenschool.org/hn/Course/Hospitality/CRS89 title:Course\n",
      "     lesson: LES546: सिलेबस\n",
      "     lesson: LES547: प्रत्यक्ष-कार्य\n"
     ]
    },
    {
     "name": "stdout",
     "output_type": "stream",
     "text": [
      "     in on_subtopic_page http://www.prathamopenschool.org/hn/Course/Hospitality/CRS89\n"
     ]
    },
    {
     "name": "stderr",
     "output_type": "stream",
     "text": [
      "Downloaded page http://www.prathamopenschool.org/hn/Course/Construction/CRS93 title:Course\n",
      "     lesson: LES553: निर्माण उद्योग के बारे में जानें\n"
     ]
    },
    {
     "name": "stdout",
     "output_type": "stream",
     "text": [
      "     in on_subtopic_page http://www.prathamopenschool.org/hn/Course/Construction/CRS93\n"
     ]
    },
    {
     "name": "stderr",
     "output_type": "stream",
     "text": [
      "Downloaded page http://www.prathamopenschool.org/hn/Course/Automobile/CRS94 title:Course\n",
      "     lesson: LES554: ऑटोमोबाइल उद्योग के बारे में जानें\n",
      "     lesson: LES555: मोटर मेकैनिक\n"
     ]
    },
    {
     "name": "stdout",
     "output_type": "stream",
     "text": [
      "     in on_subtopic_page http://www.prathamopenschool.org/hn/Course/Automobile/CRS94\n"
     ]
    },
    {
     "name": "stderr",
     "output_type": "stream",
     "text": [
      "Downloaded page http://www.prathamopenschool.org/hn/Course/Electric/CRS90 title:Course\n",
      "     lesson: LES548: विद्युत उद्योग के बारे में जानें\n",
      "     lesson: LES549: विद्युत केंद्र की कहानियां\n"
     ]
    },
    {
     "name": "stdout",
     "output_type": "stream",
     "text": [
      "     in on_subtopic_page http://www.prathamopenschool.org/hn/Course/Electric/CRS90\n"
     ]
    },
    {
     "name": "stderr",
     "output_type": "stream",
     "text": [
      "Downloaded page http://www.prathamopenschool.org/hn/Course/Beauty/CRS95 title:Course\n",
      "     lesson: LES556: बेडसाइड सहायक उद्योग के बारे में जानें\n",
      "     lesson: LES557: प्रत्यक्ष-कार्य\n"
     ]
    },
    {
     "name": "stdout",
     "output_type": "stream",
     "text": [
      "     in on_subtopic_page http://www.prathamopenschool.org/hn/Course/Beauty/CRS95\n"
     ]
    },
    {
     "name": "stderr",
     "output_type": "stream",
     "text": [
      "Downloaded page http://www.prathamopenschool.org/hn/Course/Healthcare/CRS91 title:Course\n",
      "     lesson: LES550: परिचय\n",
      "     lesson: LES551: प्रत्यक्ष-कार्य\n",
      "     lesson: LES552: बेडसाइड असिस्टेंट के कहानियां\n"
     ]
    },
    {
     "name": "stdout",
     "output_type": "stream",
     "text": [
      "     in on_subtopic_page http://www.prathamopenschool.org/hn/Course/Healthcare/CRS91\n"
     ]
    },
    {
     "name": "stderr",
     "output_type": "stream",
     "text": [
      "Downloaded page http://www.prathamopenschool.org/hn/Course/Std8/CRS79 title:Course\n",
      "     lesson: LES527: धातु और दुनिया\n",
      "     lesson: LES528: ईंधन कैसे बनते है ?\n",
      "     lesson: LES529: दुनिया को बचाए!\n",
      "     lesson: LES530: छोटी सी जिंदगी\n",
      "     lesson: LES531: प्रजनन का कमाल\n",
      "     lesson: LES532: हम कैसे बड़े हुए?\n",
      "     lesson: LES533: परिचय\n",
      "     lesson: LES534: चमकदार दुनिया\n",
      "     lesson: LES535: बिजली चमकी\n",
      "     lesson: LES536: पानी ही पानी\n"
     ]
    },
    {
     "name": "stdout",
     "output_type": "stream",
     "text": [
      "     in on_subtopic_page http://www.prathamopenschool.org/hn/Course/Std8/CRS79\n"
     ]
    },
    {
     "name": "stderr",
     "output_type": "stream",
     "text": [
      "Downloaded page http://www.prathamopenschool.org/hn/Course/Std8/CRS80 title:Course\n",
      "     lesson: LES517: वर्गो का कमाल\n",
      "     lesson: LES518: चलो घन संख्या निकाले\n",
      "     lesson: LES519: बीजगणित का जादू\n",
      "     lesson: LES520: क्षेत्रफल कैसे निकाले?\n",
      "     lesson: LES521: संख्याओ का खेल\n",
      "     lesson: LES522: अनुपात\n",
      "     lesson: LES523: बीजगणित - २\n",
      "     lesson: LES524: बीजगणित - ३\n",
      "     lesson: LES525: आलेख\n",
      "     lesson: LES526: संख्या का रहस्य\n"
     ]
    },
    {
     "name": "stdout",
     "output_type": "stream",
     "text": [
      "     in on_subtopic_page http://www.prathamopenschool.org/hn/Course/Std8/CRS80\n"
     ]
    },
    {
     "name": "stderr",
     "output_type": "stream",
     "text": [
      "Downloaded page http://www.prathamopenschool.org/hn/gamelist/CRS104/LES620 title:GameList\n"
     ]
    },
    {
     "name": "stdout",
     "output_type": "stream",
     "text": [
      "     in on_subtopic_page http://www.prathamopenschool.org/hn/gamelist/CRS104/LES620\n"
     ]
    },
    {
     "name": "stderr",
     "output_type": "stream",
     "text": [
      "Downloaded page http://www.prathamopenschool.org/hn/gamelist/CRS104/LES621 title:GameList\n"
     ]
    },
    {
     "name": "stdout",
     "output_type": "stream",
     "text": [
      "     in on_subtopic_page http://www.prathamopenschool.org/hn/gamelist/CRS104/LES621\n"
     ]
    },
    {
     "name": "stderr",
     "output_type": "stream",
     "text": [
      "Downloaded page http://www.prathamopenschool.org/hn/gamelist/CRS104/LES622 title:GameList\n"
     ]
    },
    {
     "name": "stdout",
     "output_type": "stream",
     "text": [
      "     in on_subtopic_page http://www.prathamopenschool.org/hn/gamelist/CRS104/LES622\n"
     ]
    },
    {
     "name": "stderr",
     "output_type": "stream",
     "text": [
      "Downloaded page http://www.prathamopenschool.org/hn/Lesson/LES55 title:POS-Lesson\n"
     ]
    },
    {
     "name": "stdout",
     "output_type": "stream",
     "text": [
      "      in on_lesson_page http://www.prathamopenschool.org/hn/Lesson/LES55\n"
     ]
    },
    {
     "name": "stderr",
     "output_type": "stream",
     "text": [
      "Downloaded page http://www.prathamopenschool.org/hn/Lesson/LES56 title:POS-Lesson\n"
     ]
    },
    {
     "name": "stdout",
     "output_type": "stream",
     "text": [
      "      in on_lesson_page http://www.prathamopenschool.org/hn/Lesson/LES56\n"
     ]
    },
    {
     "name": "stderr",
     "output_type": "stream",
     "text": [
      "Downloaded page http://www.prathamopenschool.org/hn/Lesson/LES57 title:POS-Lesson\n"
     ]
    },
    {
     "name": "stdout",
     "output_type": "stream",
     "text": [
      "      in on_lesson_page http://www.prathamopenschool.org/hn/Lesson/LES57\n"
     ]
    },
    {
     "name": "stderr",
     "output_type": "stream",
     "text": [
      "Downloaded page http://www.prathamopenschool.org/hn/Lesson/LES58 title:POS-Lesson\n"
     ]
    },
    {
     "name": "stdout",
     "output_type": "stream",
     "text": [
      "      in on_lesson_page http://www.prathamopenschool.org/hn/Lesson/LES58\n"
     ]
    },
    {
     "name": "stderr",
     "output_type": "stream",
     "text": [
      "Downloaded page http://www.prathamopenschool.org/hn/Lesson/LES74 title:POS-Lesson\n"
     ]
    },
    {
     "name": "stdout",
     "output_type": "stream",
     "text": [
      "      in on_lesson_page http://www.prathamopenschool.org/hn/Lesson/LES74\n"
     ]
    },
    {
     "name": "stderr",
     "output_type": "stream",
     "text": [
      "Downloaded page http://www.prathamopenschool.org/hn/Lesson/LES76 title:POS-Lesson\n"
     ]
    },
    {
     "name": "stdout",
     "output_type": "stream",
     "text": [
      "      in on_lesson_page http://www.prathamopenschool.org/hn/Lesson/LES76\n"
     ]
    },
    {
     "name": "stderr",
     "output_type": "stream",
     "text": [
      "Downloaded page http://www.prathamopenschool.org/hn/Lesson/LES603 title:POS-Lesson\n"
     ]
    },
    {
     "name": "stdout",
     "output_type": "stream",
     "text": [
      "      in on_lesson_page http://www.prathamopenschool.org/hn/Lesson/LES603\n"
     ]
    },
    {
     "name": "stderr",
     "output_type": "stream",
     "text": [
      "Downloaded page http://www.prathamopenschool.org/hn/Lesson/LES604 title:POS-Lesson\n"
     ]
    },
    {
     "name": "stdout",
     "output_type": "stream",
     "text": [
      "      in on_lesson_page http://www.prathamopenschool.org/hn/Lesson/LES604\n"
     ]
    },
    {
     "name": "stderr",
     "output_type": "stream",
     "text": [
      "Downloaded page http://www.prathamopenschool.org/hn/Lesson/LES86 title:POS-Lesson\n"
     ]
    },
    {
     "name": "stdout",
     "output_type": "stream",
     "text": [
      "      in on_lesson_page http://www.prathamopenschool.org/hn/Lesson/LES86\n"
     ]
    },
    {
     "name": "stderr",
     "output_type": "stream",
     "text": [
      "Downloaded page http://www.prathamopenschool.org/hn/Lesson/LES87 title:POS-Lesson\n"
     ]
    },
    {
     "name": "stdout",
     "output_type": "stream",
     "text": [
      "      in on_lesson_page http://www.prathamopenschool.org/hn/Lesson/LES87\n"
     ]
    },
    {
     "name": "stderr",
     "output_type": "stream",
     "text": [
      "Downloaded page http://www.prathamopenschool.org/hn/Lesson/LES88 title:POS-Lesson\n"
     ]
    },
    {
     "name": "stdout",
     "output_type": "stream",
     "text": [
      "      in on_lesson_page http://www.prathamopenschool.org/hn/Lesson/LES88\n"
     ]
    },
    {
     "name": "stderr",
     "output_type": "stream",
     "text": [
      "Downloaded page http://www.prathamopenschool.org/hn/Lesson/LES89 title:POS-Lesson\n"
     ]
    },
    {
     "name": "stdout",
     "output_type": "stream",
     "text": [
      "      in on_lesson_page http://www.prathamopenschool.org/hn/Lesson/LES89\n"
     ]
    },
    {
     "name": "stderr",
     "output_type": "stream",
     "text": [
      "Downloaded page http://www.prathamopenschool.org/hn/Lesson/LES90 title:POS-Lesson\n"
     ]
    },
    {
     "name": "stdout",
     "output_type": "stream",
     "text": [
      "      in on_lesson_page http://www.prathamopenschool.org/hn/Lesson/LES90\n"
     ]
    },
    {
     "name": "stderr",
     "output_type": "stream",
     "text": [
      "Downloaded page http://www.prathamopenschool.org/hn/Lesson/LES537 title:POS-Lesson\n"
     ]
    },
    {
     "name": "stdout",
     "output_type": "stream",
     "text": [
      "      in on_lesson_page http://www.prathamopenschool.org/hn/Lesson/LES537\n"
     ]
    },
    {
     "name": "stderr",
     "output_type": "stream",
     "text": [
      "Downloaded page http://www.prathamopenschool.org/hn/Lesson/LES509 title:POS-Lesson\n"
     ]
    },
    {
     "name": "stdout",
     "output_type": "stream",
     "text": [
      "      in on_lesson_page http://www.prathamopenschool.org/hn/Lesson/LES509\n"
     ]
    },
    {
     "name": "stderr",
     "output_type": "stream",
     "text": [
      "Downloaded page http://www.prathamopenschool.org/hn/Lesson/LES513 title:POS-Lesson\n"
     ]
    },
    {
     "name": "stdout",
     "output_type": "stream",
     "text": [
      "      in on_lesson_page http://www.prathamopenschool.org/hn/Lesson/LES513\n"
     ]
    },
    {
     "name": "stderr",
     "output_type": "stream",
     "text": [
      "Downloaded page http://www.prathamopenschool.org/hn/Lesson/LES514 title:POS-Lesson\n"
     ]
    },
    {
     "name": "stdout",
     "output_type": "stream",
     "text": [
      "      in on_lesson_page http://www.prathamopenschool.org/hn/Lesson/LES514\n"
     ]
    },
    {
     "name": "stderr",
     "output_type": "stream",
     "text": [
      "Downloaded page http://www.prathamopenschool.org/hn/Lesson/LES515 title:POS-Lesson\n"
     ]
    },
    {
     "name": "stdout",
     "output_type": "stream",
     "text": [
      "      in on_lesson_page http://www.prathamopenschool.org/hn/Lesson/LES515\n"
     ]
    },
    {
     "name": "stderr",
     "output_type": "stream",
     "text": [
      "Downloaded page http://www.prathamopenschool.org/hn/Lesson/LES112 title:POS-Lesson\n"
     ]
    },
    {
     "name": "stdout",
     "output_type": "stream",
     "text": [
      "      in on_lesson_page http://www.prathamopenschool.org/hn/Lesson/LES112\n"
     ]
    },
    {
     "name": "stderr",
     "output_type": "stream",
     "text": [
      "Downloaded page http://www.prathamopenschool.org/hn/Lesson/LES107 title:POS-Lesson\n"
     ]
    },
    {
     "name": "stdout",
     "output_type": "stream",
     "text": [
      "      in on_lesson_page http://www.prathamopenschool.org/hn/Lesson/LES107\n"
     ]
    },
    {
     "name": "stderr",
     "output_type": "stream",
     "text": [
      "Downloaded page http://www.prathamopenschool.org/hn/Lesson/LES75 title:POS-Lesson\n"
     ]
    },
    {
     "name": "stdout",
     "output_type": "stream",
     "text": [
      "      in on_lesson_page http://www.prathamopenschool.org/hn/Lesson/LES75\n"
     ]
    },
    {
     "name": "stderr",
     "output_type": "stream",
     "text": [
      "Downloaded page http://www.prathamopenschool.org/hn/Lesson/LES85 title:POS-Lesson\n"
     ]
    },
    {
     "name": "stdout",
     "output_type": "stream",
     "text": [
      "      in on_lesson_page http://www.prathamopenschool.org/hn/Lesson/LES85\n"
     ]
    },
    {
     "name": "stderr",
     "output_type": "stream",
     "text": [
      "Downloaded page http://www.prathamopenschool.org/hn/Lesson/LES100 title:POS-Lesson\n"
     ]
    },
    {
     "name": "stdout",
     "output_type": "stream",
     "text": [
      "      in on_lesson_page http://www.prathamopenschool.org/hn/Lesson/LES100\n"
     ]
    },
    {
     "name": "stderr",
     "output_type": "stream",
     "text": [
      "Downloaded page http://www.prathamopenschool.org/hn/Lesson/LES101 title:POS-Lesson\n"
     ]
    },
    {
     "name": "stdout",
     "output_type": "stream",
     "text": [
      "      in on_lesson_page http://www.prathamopenschool.org/hn/Lesson/LES101\n"
     ]
    },
    {
     "name": "stderr",
     "output_type": "stream",
     "text": [
      "Downloaded page http://www.prathamopenschool.org/hn/Lesson/LES405 title:POS-Lesson\n"
     ]
    },
    {
     "name": "stdout",
     "output_type": "stream",
     "text": [
      "      in on_lesson_page http://www.prathamopenschool.org/hn/Lesson/LES405\n"
     ]
    },
    {
     "name": "stderr",
     "output_type": "stream",
     "text": [
      "Downloaded page http://www.prathamopenschool.org/hn/Lesson/LES406 title:POS-Lesson\n"
     ]
    },
    {
     "name": "stdout",
     "output_type": "stream",
     "text": [
      "      in on_lesson_page http://www.prathamopenschool.org/hn/Lesson/LES406\n"
     ]
    },
    {
     "name": "stderr",
     "output_type": "stream",
     "text": [
      "Downloaded page http://www.prathamopenschool.org/hn/Lesson/LES407 title:POS-Lesson\n"
     ]
    },
    {
     "name": "stdout",
     "output_type": "stream",
     "text": [
      "      in on_lesson_page http://www.prathamopenschool.org/hn/Lesson/LES407\n"
     ]
    },
    {
     "name": "stderr",
     "output_type": "stream",
     "text": [
      "Downloaded page http://www.prathamopenschool.org/hn/Lesson/LES408 title:POS-Lesson\n"
     ]
    },
    {
     "name": "stdout",
     "output_type": "stream",
     "text": [
      "      in on_lesson_page http://www.prathamopenschool.org/hn/Lesson/LES408\n"
     ]
    },
    {
     "name": "stderr",
     "output_type": "stream",
     "text": [
      "Downloaded page http://www.prathamopenschool.org/hn/Lesson/LES442 title:POS-Lesson\n"
     ]
    },
    {
     "name": "stdout",
     "output_type": "stream",
     "text": [
      "      in on_lesson_page http://www.prathamopenschool.org/hn/Lesson/LES442\n"
     ]
    },
    {
     "name": "stderr",
     "output_type": "stream",
     "text": [
      "Downloaded page http://www.prathamopenschool.org/hn/Lesson/LES444 title:POS-Lesson\n"
     ]
    },
    {
     "name": "stdout",
     "output_type": "stream",
     "text": [
      "      in on_lesson_page http://www.prathamopenschool.org/hn/Lesson/LES444\n"
     ]
    },
    {
     "name": "stderr",
     "output_type": "stream",
     "text": [
      "Downloaded page http://www.prathamopenschool.org/hn/Lesson/LES445 title:POS-Lesson\n"
     ]
    },
    {
     "name": "stdout",
     "output_type": "stream",
     "text": [
      "      in on_lesson_page http://www.prathamopenschool.org/hn/Lesson/LES445\n"
     ]
    },
    {
     "name": "stderr",
     "output_type": "stream",
     "text": [
      "Downloaded page http://www.prathamopenschool.org/hn/Lesson/LES446 title:POS-Lesson\n"
     ]
    },
    {
     "name": "stdout",
     "output_type": "stream",
     "text": [
      "      in on_lesson_page http://www.prathamopenschool.org/hn/Lesson/LES446\n"
     ]
    },
    {
     "name": "stderr",
     "output_type": "stream",
     "text": [
      "Downloaded page http://www.prathamopenschool.org/hn/Lesson/LES447 title:POS-Lesson\n"
     ]
    },
    {
     "name": "stdout",
     "output_type": "stream",
     "text": [
      "      in on_lesson_page http://www.prathamopenschool.org/hn/Lesson/LES447\n"
     ]
    },
    {
     "name": "stderr",
     "output_type": "stream",
     "text": [
      "Downloaded page http://www.prathamopenschool.org/hn/Lesson/LES612 title:POS-Lesson\n"
     ]
    },
    {
     "name": "stdout",
     "output_type": "stream",
     "text": [
      "      in on_lesson_page http://www.prathamopenschool.org/hn/Lesson/LES612\n"
     ]
    },
    {
     "name": "stderr",
     "output_type": "stream",
     "text": [
      "Downloaded page http://www.prathamopenschool.org/hn/Lesson/LES613 title:POS-Lesson\n"
     ]
    },
    {
     "name": "stdout",
     "output_type": "stream",
     "text": [
      "      in on_lesson_page http://www.prathamopenschool.org/hn/Lesson/LES613\n"
     ]
    },
    {
     "name": "stderr",
     "output_type": "stream",
     "text": [
      "Downloaded page http://www.prathamopenschool.org/hn/Lesson/LES614 title:POS-Lesson\n"
     ]
    },
    {
     "name": "stdout",
     "output_type": "stream",
     "text": [
      "      in on_lesson_page http://www.prathamopenschool.org/hn/Lesson/LES614\n"
     ]
    },
    {
     "name": "stderr",
     "output_type": "stream",
     "text": [
      "Downloaded page http://www.prathamopenschool.org/hn/Lesson/LES414 title:POS-Lesson\n"
     ]
    },
    {
     "name": "stdout",
     "output_type": "stream",
     "text": [
      "      in on_lesson_page http://www.prathamopenschool.org/hn/Lesson/LES414\n"
     ]
    },
    {
     "name": "stderr",
     "output_type": "stream",
     "text": [
      "Downloaded page http://www.prathamopenschool.org/hn/Lesson/LES426 title:POS-Lesson\n"
     ]
    },
    {
     "name": "stdout",
     "output_type": "stream",
     "text": [
      "      in on_lesson_page http://www.prathamopenschool.org/hn/Lesson/LES426\n"
     ]
    },
    {
     "name": "stderr",
     "output_type": "stream",
     "text": [
      "Downloaded page http://www.prathamopenschool.org/hn/Lesson/LES427 title:POS-Lesson\n"
     ]
    },
    {
     "name": "stdout",
     "output_type": "stream",
     "text": [
      "      in on_lesson_page http://www.prathamopenschool.org/hn/Lesson/LES427\n"
     ]
    },
    {
     "name": "stderr",
     "output_type": "stream",
     "text": [
      "Downloaded page http://www.prathamopenschool.org/hn/Lesson/LES428 title:POS-Lesson\n"
     ]
    },
    {
     "name": "stdout",
     "output_type": "stream",
     "text": [
      "      in on_lesson_page http://www.prathamopenschool.org/hn/Lesson/LES428\n"
     ]
    },
    {
     "name": "stderr",
     "output_type": "stream",
     "text": [
      "Downloaded page http://www.prathamopenschool.org/hn/Lesson/LES429 title:POS-Lesson\n"
     ]
    },
    {
     "name": "stdout",
     "output_type": "stream",
     "text": [
      "      in on_lesson_page http://www.prathamopenschool.org/hn/Lesson/LES429\n"
     ]
    },
    {
     "name": "stderr",
     "output_type": "stream",
     "text": [
      "Downloaded page http://www.prathamopenschool.org/hn/Lesson/LES430 title:POS-Lesson\n"
     ]
    },
    {
     "name": "stdout",
     "output_type": "stream",
     "text": [
      "      in on_lesson_page http://www.prathamopenschool.org/hn/Lesson/LES430\n"
     ]
    },
    {
     "name": "stderr",
     "output_type": "stream",
     "text": [
      "Downloaded page http://www.prathamopenschool.org/hn/Lesson/LES431 title:POS-Lesson\n"
     ]
    },
    {
     "name": "stdout",
     "output_type": "stream",
     "text": [
      "      in on_lesson_page http://www.prathamopenschool.org/hn/Lesson/LES431\n"
     ]
    },
    {
     "name": "stderr",
     "output_type": "stream",
     "text": [
      "Downloaded page http://www.prathamopenschool.org/hn/Lesson/LES432 title:POS-Lesson\n"
     ]
    },
    {
     "name": "stdout",
     "output_type": "stream",
     "text": [
      "      in on_lesson_page http://www.prathamopenschool.org/hn/Lesson/LES432\n"
     ]
    },
    {
     "name": "stderr",
     "output_type": "stream",
     "text": [
      "Downloaded page http://www.prathamopenschool.org/hn/Lesson/LES433 title:POS-Lesson\n"
     ]
    },
    {
     "name": "stdout",
     "output_type": "stream",
     "text": [
      "      in on_lesson_page http://www.prathamopenschool.org/hn/Lesson/LES433\n"
     ]
    },
    {
     "name": "stderr",
     "output_type": "stream",
     "text": [
      "Downloaded page http://www.prathamopenschool.org/hn/Lesson/LES434 title:POS-Lesson\n"
     ]
    },
    {
     "name": "stdout",
     "output_type": "stream",
     "text": [
      "      in on_lesson_page http://www.prathamopenschool.org/hn/Lesson/LES434\n"
     ]
    },
    {
     "name": "stderr",
     "output_type": "stream",
     "text": [
      "Downloaded page http://www.prathamopenschool.org/hn/Lesson/LES435 title:POS-Lesson\n"
     ]
    },
    {
     "name": "stdout",
     "output_type": "stream",
     "text": [
      "      in on_lesson_page http://www.prathamopenschool.org/hn/Lesson/LES435\n"
     ]
    },
    {
     "name": "stderr",
     "output_type": "stream",
     "text": [
      "Downloaded page http://www.prathamopenschool.org/hn/Lesson/LES436 title:POS-Lesson\n"
     ]
    },
    {
     "name": "stdout",
     "output_type": "stream",
     "text": [
      "      in on_lesson_page http://www.prathamopenschool.org/hn/Lesson/LES436\n"
     ]
    },
    {
     "name": "stderr",
     "output_type": "stream",
     "text": [
      "Downloaded page http://www.prathamopenschool.org/hn/Lesson/LES301 title:POS-Lesson\n"
     ]
    },
    {
     "name": "stdout",
     "output_type": "stream",
     "text": [
      "      in on_lesson_page http://www.prathamopenschool.org/hn/Lesson/LES301\n"
     ]
    },
    {
     "name": "stderr",
     "output_type": "stream",
     "text": [
      "Downloaded page http://www.prathamopenschool.org/hn/Lesson/LES302 title:POS-Lesson\n"
     ]
    },
    {
     "name": "stdout",
     "output_type": "stream",
     "text": [
      "      in on_lesson_page http://www.prathamopenschool.org/hn/Lesson/LES302\n"
     ]
    },
    {
     "name": "stderr",
     "output_type": "stream",
     "text": [
      "Downloaded page http://www.prathamopenschool.org/hn/Lesson/LES303 title:POS-Lesson\n"
     ]
    },
    {
     "name": "stdout",
     "output_type": "stream",
     "text": [
      "      in on_lesson_page http://www.prathamopenschool.org/hn/Lesson/LES303\n"
     ]
    },
    {
     "name": "stderr",
     "output_type": "stream",
     "text": [
      "Downloaded page http://www.prathamopenschool.org/hn/Lesson/LES304 title:POS-Lesson\n"
     ]
    },
    {
     "name": "stdout",
     "output_type": "stream",
     "text": [
      "      in on_lesson_page http://www.prathamopenschool.org/hn/Lesson/LES304\n"
     ]
    },
    {
     "name": "stderr",
     "output_type": "stream",
     "text": [
      "Downloaded page http://www.prathamopenschool.org/hn/Lesson/LES305 title:POS-Lesson\n"
     ]
    },
    {
     "name": "stdout",
     "output_type": "stream",
     "text": [
      "      in on_lesson_page http://www.prathamopenschool.org/hn/Lesson/LES305\n"
     ]
    },
    {
     "name": "stderr",
     "output_type": "stream",
     "text": [
      "Downloaded page http://www.prathamopenschool.org/hn/Lesson/LES306 title:POS-Lesson\n"
     ]
    },
    {
     "name": "stdout",
     "output_type": "stream",
     "text": [
      "      in on_lesson_page http://www.prathamopenschool.org/hn/Lesson/LES306\n"
     ]
    },
    {
     "name": "stderr",
     "output_type": "stream",
     "text": [
      "Downloaded page http://www.prathamopenschool.org/hn/Lesson/LES307 title:POS-Lesson\n"
     ]
    },
    {
     "name": "stdout",
     "output_type": "stream",
     "text": [
      "      in on_lesson_page http://www.prathamopenschool.org/hn/Lesson/LES307\n"
     ]
    },
    {
     "name": "stderr",
     "output_type": "stream",
     "text": [
      "Downloaded page http://www.prathamopenschool.org/hn/Lesson/LES308 title:POS-Lesson\n"
     ]
    },
    {
     "name": "stdout",
     "output_type": "stream",
     "text": [
      "      in on_lesson_page http://www.prathamopenschool.org/hn/Lesson/LES308\n"
     ]
    },
    {
     "name": "stderr",
     "output_type": "stream",
     "text": [
      "Downloaded page http://www.prathamopenschool.org/hn/Lesson/LES309 title:POS-Lesson\n"
     ]
    },
    {
     "name": "stdout",
     "output_type": "stream",
     "text": [
      "      in on_lesson_page http://www.prathamopenschool.org/hn/Lesson/LES309\n"
     ]
    },
    {
     "name": "stderr",
     "output_type": "stream",
     "text": [
      "Downloaded page http://www.prathamopenschool.org/hn/Lesson/LES310 title:POS-Lesson\n"
     ]
    },
    {
     "name": "stdout",
     "output_type": "stream",
     "text": [
      "      in on_lesson_page http://www.prathamopenschool.org/hn/Lesson/LES310\n"
     ]
    },
    {
     "name": "stderr",
     "output_type": "stream",
     "text": [
      "Downloaded page http://www.prathamopenschool.org/hn/Lesson/LES225 title:POS-Lesson\n"
     ]
    },
    {
     "name": "stdout",
     "output_type": "stream",
     "text": [
      "      in on_lesson_page http://www.prathamopenschool.org/hn/Lesson/LES225\n"
     ]
    },
    {
     "name": "stderr",
     "output_type": "stream",
     "text": [
      "Downloaded page http://www.prathamopenschool.org/hn/Lesson/LES618 title:POS-Lesson\n"
     ]
    },
    {
     "name": "stdout",
     "output_type": "stream",
     "text": [
      "      in on_lesson_page http://www.prathamopenschool.org/hn/Lesson/LES618\n"
     ]
    },
    {
     "name": "stderr",
     "output_type": "stream",
     "text": [
      "Downloaded page http://www.prathamopenschool.org/hn/Lesson/LES600 title:POS-Lesson\n"
     ]
    },
    {
     "name": "stdout",
     "output_type": "stream",
     "text": [
      "      in on_lesson_page http://www.prathamopenschool.org/hn/Lesson/LES600\n"
     ]
    },
    {
     "name": "stderr",
     "output_type": "stream",
     "text": [
      "Downloaded page http://www.prathamopenschool.org/hn/Lesson/LES601 title:POS-Lesson\n"
     ]
    },
    {
     "name": "stdout",
     "output_type": "stream",
     "text": [
      "      in on_lesson_page http://www.prathamopenschool.org/hn/Lesson/LES601\n"
     ]
    },
    {
     "name": "stderr",
     "output_type": "stream",
     "text": [
      "Downloaded page http://www.prathamopenschool.org/hn/Lesson/LES602 title:POS-Lesson\n"
     ]
    },
    {
     "name": "stdout",
     "output_type": "stream",
     "text": [
      "      in on_lesson_page http://www.prathamopenschool.org/hn/Lesson/LES602\n"
     ]
    },
    {
     "name": "stderr",
     "output_type": "stream",
     "text": [
      "Downloaded page http://www.prathamopenschool.org/hn/Lesson/LES610 title:POS-Lesson\n"
     ]
    },
    {
     "name": "stdout",
     "output_type": "stream",
     "text": [
      "      in on_lesson_page http://www.prathamopenschool.org/hn/Lesson/LES610\n"
     ]
    },
    {
     "name": "stderr",
     "output_type": "stream",
     "text": [
      "Downloaded page http://www.prathamopenschool.org/hn/Lesson/LES510 title:POS-Lesson\n"
     ]
    },
    {
     "name": "stdout",
     "output_type": "stream",
     "text": [
      "      in on_lesson_page http://www.prathamopenschool.org/hn/Lesson/LES510\n"
     ]
    },
    {
     "name": "stderr",
     "output_type": "stream",
     "text": [
      "Downloaded page http://www.prathamopenschool.org/hn/Lesson/LES113 title:POS-Lesson\n"
     ]
    },
    {
     "name": "stdout",
     "output_type": "stream",
     "text": [
      "      in on_lesson_page http://www.prathamopenschool.org/hn/Lesson/LES113\n"
     ]
    },
    {
     "name": "stderr",
     "output_type": "stream",
     "text": [
      "Downloaded page http://www.prathamopenschool.org/hn/Lesson/LES224 title:POS-Lesson\n"
     ]
    },
    {
     "name": "stdout",
     "output_type": "stream",
     "text": [
      "      in on_lesson_page http://www.prathamopenschool.org/hn/Lesson/LES224\n"
     ]
    },
    {
     "name": "stderr",
     "output_type": "stream",
     "text": [
      "Downloaded page http://www.prathamopenschool.org/hn/Lesson/LES511 title:POS-Lesson\n"
     ]
    },
    {
     "name": "stdout",
     "output_type": "stream",
     "text": [
      "      in on_lesson_page http://www.prathamopenschool.org/hn/Lesson/LES511\n"
     ]
    },
    {
     "name": "stderr",
     "output_type": "stream",
     "text": [
      "Downloaded page http://www.prathamopenschool.org/hn/Lesson/LES110 title:POS-Lesson\n"
     ]
    },
    {
     "name": "stdout",
     "output_type": "stream",
     "text": [
      "      in on_lesson_page http://www.prathamopenschool.org/hn/Lesson/LES110\n"
     ]
    },
    {
     "name": "stderr",
     "output_type": "stream",
     "text": [
      "Downloaded page http://www.prathamopenschool.org/hn/Lesson/LES111 title:POS-Lesson\n"
     ]
    },
    {
     "name": "stdout",
     "output_type": "stream",
     "text": [
      "      in on_lesson_page http://www.prathamopenschool.org/hn/Lesson/LES111\n"
     ]
    },
    {
     "name": "stderr",
     "output_type": "stream",
     "text": [
      "Downloaded page http://www.prathamopenschool.org/hn/Lesson/LES103 title:POS-Lesson\n"
     ]
    },
    {
     "name": "stdout",
     "output_type": "stream",
     "text": [
      "      in on_lesson_page http://www.prathamopenschool.org/hn/Lesson/LES103\n"
     ]
    },
    {
     "name": "stderr",
     "output_type": "stream",
     "text": [
      "Downloaded page http://www.prathamopenschool.org/hn/Lesson/LES109 title:POS-Lesson\n"
     ]
    },
    {
     "name": "stdout",
     "output_type": "stream",
     "text": [
      "      in on_lesson_page http://www.prathamopenschool.org/hn/Lesson/LES109\n"
     ]
    },
    {
     "name": "stderr",
     "output_type": "stream",
     "text": [
      "Downloaded page http://www.prathamopenschool.org/hn/Lesson/LES559 title:POS-Lesson\n"
     ]
    },
    {
     "name": "stdout",
     "output_type": "stream",
     "text": [
      "      in on_lesson_page http://www.prathamopenschool.org/hn/Lesson/LES559\n"
     ]
    },
    {
     "name": "stderr",
     "output_type": "stream",
     "text": [
      "Downloaded page http://www.prathamopenschool.org/hn/Lesson/LES539 title:POS-Lesson\n"
     ]
    },
    {
     "name": "stdout",
     "output_type": "stream",
     "text": [
      "      in on_lesson_page http://www.prathamopenschool.org/hn/Lesson/LES539\n"
     ]
    },
    {
     "name": "stderr",
     "output_type": "stream",
     "text": [
      "Downloaded page http://www.prathamopenschool.org/hn/Lesson/LES540 title:POS-Lesson\n"
     ]
    },
    {
     "name": "stdout",
     "output_type": "stream",
     "text": [
      "      in on_lesson_page http://www.prathamopenschool.org/hn/Lesson/LES540\n"
     ]
    },
    {
     "name": "stderr",
     "output_type": "stream",
     "text": [
      "Downloaded page http://www.prathamopenschool.org/hn/Lesson/LES541 title:POS-Lesson\n"
     ]
    },
    {
     "name": "stdout",
     "output_type": "stream",
     "text": [
      "      in on_lesson_page http://www.prathamopenschool.org/hn/Lesson/LES541\n"
     ]
    },
    {
     "name": "stderr",
     "output_type": "stream",
     "text": [
      "Downloaded page http://www.prathamopenschool.org/hn/Lesson/LES542 title:POS-Lesson\n"
     ]
    },
    {
     "name": "stdout",
     "output_type": "stream",
     "text": [
      "      in on_lesson_page http://www.prathamopenschool.org/hn/Lesson/LES542\n"
     ]
    },
    {
     "name": "stderr",
     "output_type": "stream",
     "text": [
      "Downloaded page http://www.prathamopenschool.org/hn/Lesson/LES543 title:POS-Lesson\n"
     ]
    },
    {
     "name": "stdout",
     "output_type": "stream",
     "text": [
      "      in on_lesson_page http://www.prathamopenschool.org/hn/Lesson/LES543\n"
     ]
    },
    {
     "name": "stderr",
     "output_type": "stream",
     "text": [
      "Downloaded page http://www.prathamopenschool.org/hn/Lesson/LES544 title:POS-Lesson\n"
     ]
    },
    {
     "name": "stdout",
     "output_type": "stream",
     "text": [
      "      in on_lesson_page http://www.prathamopenschool.org/hn/Lesson/LES544\n"
     ]
    },
    {
     "name": "stderr",
     "output_type": "stream",
     "text": [
      "Downloaded page http://www.prathamopenschool.org/hn/Lesson/LES545 title:POS-Lesson\n"
     ]
    },
    {
     "name": "stdout",
     "output_type": "stream",
     "text": [
      "      in on_lesson_page http://www.prathamopenschool.org/hn/Lesson/LES545\n"
     ]
    },
    {
     "name": "stderr",
     "output_type": "stream",
     "text": [
      "Downloaded page http://www.prathamopenschool.org/hn/Lesson/LES546 title:POS-Lesson\n"
     ]
    },
    {
     "name": "stdout",
     "output_type": "stream",
     "text": [
      "      in on_lesson_page http://www.prathamopenschool.org/hn/Lesson/LES546\n"
     ]
    },
    {
     "name": "stderr",
     "output_type": "stream",
     "text": [
      "Downloaded page http://www.prathamopenschool.org/hn/Lesson/LES547 title:POS-Lesson\n"
     ]
    },
    {
     "name": "stdout",
     "output_type": "stream",
     "text": [
      "      in on_lesson_page http://www.prathamopenschool.org/hn/Lesson/LES547\n"
     ]
    },
    {
     "name": "stderr",
     "output_type": "stream",
     "text": [
      "Downloaded page http://www.prathamopenschool.org/hn/Lesson/LES553 title:POS-Lesson\n"
     ]
    },
    {
     "name": "stdout",
     "output_type": "stream",
     "text": [
      "      in on_lesson_page http://www.prathamopenschool.org/hn/Lesson/LES553\n"
     ]
    },
    {
     "name": "stderr",
     "output_type": "stream",
     "text": [
      "Downloaded page http://www.prathamopenschool.org/hn/Lesson/LES554 title:POS-Lesson\n"
     ]
    },
    {
     "name": "stdout",
     "output_type": "stream",
     "text": [
      "      in on_lesson_page http://www.prathamopenschool.org/hn/Lesson/LES554\n"
     ]
    },
    {
     "name": "stderr",
     "output_type": "stream",
     "text": [
      "Downloaded page http://www.prathamopenschool.org/hn/Lesson/LES555 title:POS-Lesson\n"
     ]
    },
    {
     "name": "stdout",
     "output_type": "stream",
     "text": [
      "      in on_lesson_page http://www.prathamopenschool.org/hn/Lesson/LES555\n"
     ]
    },
    {
     "name": "stderr",
     "output_type": "stream",
     "text": [
      "Downloaded page http://www.prathamopenschool.org/hn/Lesson/LES548 title:POS-Lesson\n"
     ]
    },
    {
     "name": "stdout",
     "output_type": "stream",
     "text": [
      "      in on_lesson_page http://www.prathamopenschool.org/hn/Lesson/LES548\n"
     ]
    },
    {
     "name": "stderr",
     "output_type": "stream",
     "text": [
      "Downloaded page http://www.prathamopenschool.org/hn/Lesson/LES549 title:POS-Lesson\n"
     ]
    },
    {
     "name": "stdout",
     "output_type": "stream",
     "text": [
      "      in on_lesson_page http://www.prathamopenschool.org/hn/Lesson/LES549\n"
     ]
    },
    {
     "name": "stderr",
     "output_type": "stream",
     "text": [
      "Downloaded page http://www.prathamopenschool.org/hn/Lesson/LES556 title:POS-Lesson\n"
     ]
    },
    {
     "name": "stdout",
     "output_type": "stream",
     "text": [
      "      in on_lesson_page http://www.prathamopenschool.org/hn/Lesson/LES556\n"
     ]
    },
    {
     "name": "stderr",
     "output_type": "stream",
     "text": [
      "Downloaded page http://www.prathamopenschool.org/hn/Lesson/LES557 title:POS-Lesson\n"
     ]
    },
    {
     "name": "stdout",
     "output_type": "stream",
     "text": [
      "      in on_lesson_page http://www.prathamopenschool.org/hn/Lesson/LES557\n"
     ]
    },
    {
     "name": "stderr",
     "output_type": "stream",
     "text": [
      "Downloaded page http://www.prathamopenschool.org/hn/Lesson/LES550 title:POS-Lesson\n"
     ]
    },
    {
     "name": "stdout",
     "output_type": "stream",
     "text": [
      "      in on_lesson_page http://www.prathamopenschool.org/hn/Lesson/LES550\n"
     ]
    },
    {
     "name": "stderr",
     "output_type": "stream",
     "text": [
      "Downloaded page http://www.prathamopenschool.org/hn/Lesson/LES551 title:POS-Lesson\n"
     ]
    },
    {
     "name": "stdout",
     "output_type": "stream",
     "text": [
      "      in on_lesson_page http://www.prathamopenschool.org/hn/Lesson/LES551\n"
     ]
    },
    {
     "name": "stderr",
     "output_type": "stream",
     "text": [
      "Downloaded page http://www.prathamopenschool.org/hn/Lesson/LES552 title:POS-Lesson\n"
     ]
    },
    {
     "name": "stdout",
     "output_type": "stream",
     "text": [
      "      in on_lesson_page http://www.prathamopenschool.org/hn/Lesson/LES552\n"
     ]
    },
    {
     "name": "stderr",
     "output_type": "stream",
     "text": [
      "Downloaded page http://www.prathamopenschool.org/hn/Lesson/LES527 title:POS-Lesson\n"
     ]
    },
    {
     "name": "stdout",
     "output_type": "stream",
     "text": [
      "      in on_lesson_page http://www.prathamopenschool.org/hn/Lesson/LES527\n"
     ]
    },
    {
     "name": "stderr",
     "output_type": "stream",
     "text": [
      "Downloaded page http://www.prathamopenschool.org/hn/Lesson/LES528 title:POS-Lesson\n"
     ]
    },
    {
     "name": "stdout",
     "output_type": "stream",
     "text": [
      "      in on_lesson_page http://www.prathamopenschool.org/hn/Lesson/LES528\n"
     ]
    },
    {
     "name": "stderr",
     "output_type": "stream",
     "text": [
      "Downloaded page http://www.prathamopenschool.org/hn/Lesson/LES529 title:POS-Lesson\n"
     ]
    },
    {
     "name": "stdout",
     "output_type": "stream",
     "text": [
      "      in on_lesson_page http://www.prathamopenschool.org/hn/Lesson/LES529\n"
     ]
    },
    {
     "name": "stderr",
     "output_type": "stream",
     "text": [
      "Downloaded page http://www.prathamopenschool.org/hn/Lesson/LES530 title:POS-Lesson\n"
     ]
    },
    {
     "name": "stdout",
     "output_type": "stream",
     "text": [
      "      in on_lesson_page http://www.prathamopenschool.org/hn/Lesson/LES530\n"
     ]
    },
    {
     "name": "stderr",
     "output_type": "stream",
     "text": [
      "Downloaded page http://www.prathamopenschool.org/hn/Lesson/LES531 title:POS-Lesson\n"
     ]
    },
    {
     "name": "stdout",
     "output_type": "stream",
     "text": [
      "      in on_lesson_page http://www.prathamopenschool.org/hn/Lesson/LES531\n"
     ]
    },
    {
     "name": "stderr",
     "output_type": "stream",
     "text": [
      "Downloaded page http://www.prathamopenschool.org/hn/Lesson/LES532 title:POS-Lesson\n"
     ]
    },
    {
     "name": "stdout",
     "output_type": "stream",
     "text": [
      "      in on_lesson_page http://www.prathamopenschool.org/hn/Lesson/LES532\n"
     ]
    },
    {
     "name": "stderr",
     "output_type": "stream",
     "text": [
      "Downloaded page http://www.prathamopenschool.org/hn/Lesson/LES533 title:POS-Lesson\n"
     ]
    },
    {
     "name": "stdout",
     "output_type": "stream",
     "text": [
      "      in on_lesson_page http://www.prathamopenschool.org/hn/Lesson/LES533\n"
     ]
    },
    {
     "name": "stderr",
     "output_type": "stream",
     "text": [
      "Downloaded page http://www.prathamopenschool.org/hn/Lesson/LES534 title:POS-Lesson\n"
     ]
    },
    {
     "name": "stdout",
     "output_type": "stream",
     "text": [
      "      in on_lesson_page http://www.prathamopenschool.org/hn/Lesson/LES534\n"
     ]
    },
    {
     "name": "stderr",
     "output_type": "stream",
     "text": [
      "Downloaded page http://www.prathamopenschool.org/hn/Lesson/LES535 title:POS-Lesson\n"
     ]
    },
    {
     "name": "stdout",
     "output_type": "stream",
     "text": [
      "      in on_lesson_page http://www.prathamopenschool.org/hn/Lesson/LES535\n"
     ]
    },
    {
     "name": "stderr",
     "output_type": "stream",
     "text": [
      "Downloaded page http://www.prathamopenschool.org/hn/Lesson/LES536 title:POS-Lesson\n"
     ]
    },
    {
     "name": "stdout",
     "output_type": "stream",
     "text": [
      "      in on_lesson_page http://www.prathamopenschool.org/hn/Lesson/LES536\n"
     ]
    },
    {
     "name": "stderr",
     "output_type": "stream",
     "text": [
      "Downloaded page http://www.prathamopenschool.org/hn/Lesson/LES517 title:POS-Lesson\n"
     ]
    },
    {
     "name": "stdout",
     "output_type": "stream",
     "text": [
      "      in on_lesson_page http://www.prathamopenschool.org/hn/Lesson/LES517\n"
     ]
    },
    {
     "name": "stderr",
     "output_type": "stream",
     "text": [
      "Downloaded page http://www.prathamopenschool.org/hn/Lesson/LES518 title:POS-Lesson\n"
     ]
    },
    {
     "name": "stdout",
     "output_type": "stream",
     "text": [
      "      in on_lesson_page http://www.prathamopenschool.org/hn/Lesson/LES518\n"
     ]
    },
    {
     "name": "stderr",
     "output_type": "stream",
     "text": [
      "Downloaded page http://www.prathamopenschool.org/hn/Lesson/LES519 title:POS-Lesson\n"
     ]
    },
    {
     "name": "stdout",
     "output_type": "stream",
     "text": [
      "      in on_lesson_page http://www.prathamopenschool.org/hn/Lesson/LES519\n"
     ]
    },
    {
     "name": "stderr",
     "output_type": "stream",
     "text": [
      "Downloaded page http://www.prathamopenschool.org/hn/Lesson/LES520 title:POS-Lesson\n"
     ]
    },
    {
     "name": "stdout",
     "output_type": "stream",
     "text": [
      "      in on_lesson_page http://www.prathamopenschool.org/hn/Lesson/LES520\n"
     ]
    },
    {
     "name": "stderr",
     "output_type": "stream",
     "text": [
      "Downloaded page http://www.prathamopenschool.org/hn/Lesson/LES521 title:POS-Lesson\n"
     ]
    },
    {
     "name": "stdout",
     "output_type": "stream",
     "text": [
      "      in on_lesson_page http://www.prathamopenschool.org/hn/Lesson/LES521\n"
     ]
    },
    {
     "name": "stderr",
     "output_type": "stream",
     "text": [
      "Downloaded page http://www.prathamopenschool.org/hn/Lesson/LES522 title:POS-Lesson\n"
     ]
    },
    {
     "name": "stdout",
     "output_type": "stream",
     "text": [
      "      in on_lesson_page http://www.prathamopenschool.org/hn/Lesson/LES522\n"
     ]
    },
    {
     "name": "stderr",
     "output_type": "stream",
     "text": [
      "Downloaded page http://www.prathamopenschool.org/hn/Lesson/LES523 title:POS-Lesson\n"
     ]
    },
    {
     "name": "stdout",
     "output_type": "stream",
     "text": [
      "      in on_lesson_page http://www.prathamopenschool.org/hn/Lesson/LES523\n"
     ]
    },
    {
     "name": "stderr",
     "output_type": "stream",
     "text": [
      "Downloaded page http://www.prathamopenschool.org/hn/Lesson/LES524 title:POS-Lesson\n"
     ]
    },
    {
     "name": "stdout",
     "output_type": "stream",
     "text": [
      "      in on_lesson_page http://www.prathamopenschool.org/hn/Lesson/LES524\n"
     ]
    },
    {
     "name": "stderr",
     "output_type": "stream",
     "text": [
      "Downloaded page http://www.prathamopenschool.org/hn/Lesson/LES525 title:POS-Lesson\n"
     ]
    },
    {
     "name": "stdout",
     "output_type": "stream",
     "text": [
      "      in on_lesson_page http://www.prathamopenschool.org/hn/Lesson/LES525\n"
     ]
    },
    {
     "name": "stderr",
     "output_type": "stream",
     "text": [
      "Downloaded page http://www.prathamopenschool.org/hn/Lesson/LES526 title:POS-Lesson\n"
     ]
    },
    {
     "name": "stdout",
     "output_type": "stream",
     "text": [
      "      in on_lesson_page http://www.prathamopenschool.org/hn/Lesson/LES526\n",
      "\n",
      "\n",
      "\n",
      "\n",
      "################################################################################\n",
      "# CRAWLER RECOMMENDATIONS BASED ON URLS ENCOUNTERED:\n",
      "################################################################################\n",
      "\n",
      "1. These URLs are very common and look like global navigation links:\n",
      "\n",
      "2. These are common path fragments found in URLs paths, so could correspond to site struture:\n",
      "  -  148 urls on site start with  /hn\n",
      "\n",
      "\n",
      "################################################################################\n",
      "\n",
      "\n",
      "\n"
     ]
    }
   ],
   "source": [
    "web_resource_tree = crawler.crawl()"
   ]
  },
  {
   "cell_type": "code",
   "execution_count": 4,
   "metadata": {
    "scrolled": true
   },
   "outputs": [],
   "source": [
    "# web_resource_tree"
   ]
  },
  {
   "cell_type": "code",
   "execution_count": 4,
   "metadata": {
    "scrolled": false
   },
   "outputs": [
    {
     "name": "stdout",
     "output_type": "stream",
     "text": [
      "     - path: /hn/  (lang_page) \n",
      "       children:\n",
      "        - path: /hn/Course/Mathematics  (topic_page) \n",
      "          children:\n",
      "           - path: /hn/Course/Mathematics/CRS17  (subtopic_page) \n",
      "             children:\n",
      "              - path: /hn/Lesson/LES55  (lesson_page) \n",
      "              - path: /hn/Lesson/LES56  (lesson_page) \n",
      "              - path: /hn/Lesson/LES57  (lesson_page) \n",
      "              - path: /hn/Lesson/LES58  (lesson_page) \n",
      "              - path: /hn/Lesson/LES74  (lesson_page) \n",
      "              - path: /hn/Lesson/LES76  (lesson_page) \n",
      "           - path: /hn/Course/Mathematics/CRS98  (subtopic_page) \n",
      "             children:\n",
      "              - path: /hn/Lesson/LES603  (lesson_page) \n",
      "           - path: /hn/Course/Mathematics/CRS99  (subtopic_page) \n",
      "             children:\n",
      "              - path: /hn/Lesson/LES604  (lesson_page) \n",
      "           - path: /hn/Course/Mathematics/CRS27  (subtopic_page) \n",
      "             children:\n",
      "              - path: /hn/Lesson/LES86  (lesson_page) \n",
      "              - path: /hn/Lesson/LES87  (lesson_page) \n",
      "              - path: /hn/Lesson/LES88  (lesson_page) \n",
      "              - path: /hn/Lesson/LES89  (lesson_page) \n",
      "              - path: /hn/Lesson/LES90  (lesson_page) \n",
      "              - path: /hn/Lesson/LES537  (lesson_page) \n",
      "           - path: /hn/Course/Mathematics/CRS82  (subtopic_page) \n",
      "             children:\n",
      "              - path: /hn/Lesson/LES509  (lesson_page) \n",
      "              - path: /hn/Lesson/LES513  (lesson_page) \n",
      "              - path: /hn/Lesson/LES514  (lesson_page) \n",
      "              - path: /hn/Lesson/LES515  (lesson_page) \n",
      "              - path: /hn/Lesson/LES112  (lesson_page) \n",
      "           - path: /hn/Course/Mathematics/CRS41  (subtopic_page) \n",
      "             children:\n",
      "              - path: /hn/Lesson/LES107  (lesson_page) \n",
      "           - path: /hn/Course/Mathematics/CRS24  (subtopic_page) \n",
      "             children:\n",
      "              - path: /hn/Lesson/LES75  (lesson_page) \n",
      "           - path: /hn/Course/Mathematics/CRS21  (subtopic_page) \n",
      "             children:\n",
      "              - path: /hn/Lesson/LES85  (lesson_page) \n",
      "           - path: /hn/Course/Mathematics/CRS40  (subtopic_page) \n",
      "             children:\n",
      "              - path: /hn/Lesson/LES100  (lesson_page) \n",
      "              - path: /hn/Lesson/LES101  (lesson_page) \n",
      "        - path: /hn/Course/English  (topic_page) \n",
      "          children:\n",
      "           - path: /hn/Course/English/CRS34  (subtopic_page) \n",
      "             children:\n",
      "              - path: /hn/Lesson/LES405  (lesson_page) \n",
      "              - path: /hn/Lesson/LES406  (lesson_page) \n",
      "              - path: /hn/Lesson/LES407  (lesson_page) \n",
      "              - path: /hn/Lesson/LES408  (lesson_page) \n",
      "              - path: /hn/Lesson/LES442  (lesson_page) \n",
      "              - path: /hn/Lesson/LES444  (lesson_page) \n",
      "              - path: /hn/Lesson/LES445  (lesson_page) \n",
      "              - path: /hn/Lesson/LES446  (lesson_page) \n",
      "              - path: /hn/Lesson/LES447  (lesson_page) \n",
      "              - path: /hn/Lesson/LES612  (lesson_page) \n",
      "              - path: /hn/Lesson/LES613  (lesson_page) \n",
      "              - path: /hn/Lesson/LES614  (lesson_page) \n",
      "           - path: /hn/Course/English/CRS36  (subtopic_page) \n",
      "             children:\n",
      "              - path: /hn/Lesson/LES414  (lesson_page) \n",
      "              - path: /hn/Lesson/LES426  (lesson_page) \n",
      "              - path: /hn/Lesson/LES427  (lesson_page) \n",
      "              - path: /hn/Lesson/LES428  (lesson_page) \n",
      "              - path: /hn/Lesson/LES429  (lesson_page) \n",
      "              - path: /hn/Lesson/LES430  (lesson_page) \n",
      "              - path: /hn/Lesson/LES431  (lesson_page) \n",
      "              - path: /hn/Lesson/LES432  (lesson_page) \n",
      "              - path: /hn/Lesson/LES433  (lesson_page) \n",
      "              - path: /hn/Lesson/LES434  (lesson_page) \n",
      "              - path: /hn/Lesson/LES435  (lesson_page) \n",
      "              - path: /hn/Lesson/LES436  (lesson_page) \n",
      "        - path: /hn/Course/Health  (topic_page) \n",
      "          children:\n",
      "           - path: /hn/Course/Health/CRS28  (subtopic_page) \n",
      "             children:\n",
      "              - path: /hn/Lesson/LES301  (lesson_page) \n",
      "              - path: /hn/Lesson/LES302  (lesson_page) \n",
      "              - path: /hn/Lesson/LES303  (lesson_page) \n",
      "              - path: /hn/Lesson/LES304  (lesson_page) \n",
      "              - path: /hn/Lesson/LES305  (lesson_page) \n",
      "              - path: /hn/Lesson/LES306  (lesson_page) \n",
      "              - path: /hn/Lesson/LES307  (lesson_page) \n",
      "              - path: /hn/Lesson/LES308  (lesson_page) \n",
      "              - path: /hn/Lesson/LES309  (lesson_page) \n",
      "              - path: /hn/Lesson/LES310  (lesson_page) \n",
      "        - path: /hn/Course/Science  (topic_page) \n",
      "          children:\n",
      "           - path: /hn/Course/Science/CRS44  (subtopic_page) \n",
      "             children:\n",
      "              - path: /hn/Lesson/LES225  (lesson_page) \n",
      "              - path: /hn/Lesson/LES618  (lesson_page) \n",
      "           - path: /hn/Course/Science/CRS96  (subtopic_page) \n",
      "             children:\n",
      "              - path: /hn/Lesson/LES600  (lesson_page) \n",
      "              - path: /hn/Lesson/LES601  (lesson_page) \n",
      "           - path: /hn/Course/Science/CRS97  (subtopic_page) \n",
      "             children:\n",
      "              - path: /hn/Lesson/LES602  (lesson_page) \n",
      "              - path: /hn/Lesson/LES610  (lesson_page) \n",
      "           - path: /hn/Course/Science/CRS83  (subtopic_page) \n",
      "             children:\n",
      "              - path: /hn/Lesson/LES510  (lesson_page) \n",
      "              - path: /hn/Lesson/LES113  (lesson_page) \n",
      "           - path: /hn/Course/Science/CRS46  (subtopic_page) \n",
      "             children:\n",
      "              - path: /hn/Lesson/LES224  (lesson_page) \n",
      "           - path: /hn/Course/Science/CRS84  (subtopic_page) \n",
      "             children:\n",
      "              - path: /hn/Lesson/LES511  (lesson_page) \n",
      "              - path: /hn/Lesson/LES110  (lesson_page) \n",
      "              - path: /hn/Lesson/LES111  (lesson_page) \n",
      "           - path: /hn/Course/Science/CRS92  (subtopic_page) \n",
      "             children:\n",
      "              - path: /hn/Lesson/LES103  (lesson_page) \n",
      "              - path: /hn/Lesson/LES109  (lesson_page) \n",
      "              - path: /hn/Lesson/LES559  (lesson_page) \n",
      "        - path: /hn/Course/Hospitality  (topic_page) \n",
      "          children:\n",
      "           - path: /hn/Course/Hospitality/CRS86  (subtopic_page) \n",
      "             children:\n",
      "              - path: /hn/Lesson/LES539  (lesson_page) \n",
      "              - path: /hn/Lesson/LES540  (lesson_page) \n",
      "              - path: /hn/Lesson/LES541  (lesson_page) \n",
      "           - path: /hn/Course/Hospitality/CRS87  (subtopic_page) \n",
      "             children:\n",
      "              - path: /hn/Lesson/LES542  (lesson_page) \n",
      "              - path: /hn/Lesson/LES543  (lesson_page) \n",
      "           - path: /hn/Course/Hospitality/CRS88  (subtopic_page) \n",
      "             children:\n",
      "              - path: /hn/Lesson/LES544  (lesson_page) \n",
      "              - path: /hn/Lesson/LES545  (lesson_page) \n",
      "           - path: /hn/Course/Hospitality/CRS89  (subtopic_page) \n",
      "             children:\n",
      "              - path: /hn/Lesson/LES546  (lesson_page) \n",
      "              - path: /hn/Lesson/LES547  (lesson_page) \n",
      "        - path: /hn/Course/Construction  (topic_page) \n",
      "          children:\n",
      "           - path: /hn/Course/Construction/CRS93  (subtopic_page) \n",
      "             children:\n",
      "              - path: /hn/Lesson/LES553  (lesson_page) \n",
      "        - path: /hn/Course/Automobile  (topic_page) \n",
      "          children:\n",
      "           - path: /hn/Course/Automobile/CRS94  (subtopic_page) \n",
      "             children:\n",
      "              - path: /hn/Lesson/LES554  (lesson_page) \n",
      "              - path: /hn/Lesson/LES555  (lesson_page) \n",
      "        - path: /hn/Course/Electric  (topic_page) \n",
      "          children:\n",
      "           - path: /hn/Course/Electric/CRS90  (subtopic_page) \n",
      "             children:\n",
      "              - path: /hn/Lesson/LES548  (lesson_page) \n",
      "              - path: /hn/Lesson/LES549  (lesson_page) \n",
      "        - path: /hn/Course/Beauty  (topic_page) \n",
      "          children:\n",
      "           - path: /hn/Course/Beauty/CRS95  (subtopic_page) \n",
      "             children:\n",
      "              - path: /hn/Lesson/LES556  (lesson_page) \n",
      "              - path: /hn/Lesson/LES557  (lesson_page) \n",
      "        - path: /hn/Course/Healthcare  (topic_page) \n",
      "          children:\n",
      "           - path: /hn/Course/Healthcare/CRS91  (subtopic_page) \n",
      "             children:\n",
      "              - path: /hn/Lesson/LES550  (lesson_page) \n",
      "              - path: /hn/Lesson/LES551  (lesson_page) \n",
      "              - path: /hn/Lesson/LES552  (lesson_page) \n",
      "        - path: /hn/Course/Std8  (topic_page) \n",
      "          children:\n",
      "           - path: /hn/Course/Std8/CRS79  (subtopic_page) \n",
      "             children:\n",
      "              - path: /hn/Lesson/LES527  (lesson_page) \n",
      "              - path: /hn/Lesson/LES528  (lesson_page) \n",
      "              - path: /hn/Lesson/LES529  (lesson_page) \n",
      "              - path: /hn/Lesson/LES530  (lesson_page) \n",
      "              - path: /hn/Lesson/LES531  (lesson_page) \n",
      "              - path: /hn/Lesson/LES532  (lesson_page) \n",
      "              - path: /hn/Lesson/LES533  (lesson_page) \n",
      "              - path: /hn/Lesson/LES534  (lesson_page) \n",
      "              - path: /hn/Lesson/LES535  (lesson_page) \n",
      "              - path: /hn/Lesson/LES536  (lesson_page) \n",
      "           - path: /hn/Course/Std8/CRS80  (subtopic_page) \n",
      "             children:\n",
      "              - path: /hn/Lesson/LES517  (lesson_page) \n",
      "              - path: /hn/Lesson/LES518  (lesson_page) \n",
      "              - path: /hn/Lesson/LES519  (lesson_page) \n",
      "              - path: /hn/Lesson/LES520  (lesson_page) \n",
      "              - path: /hn/Lesson/LES521  (lesson_page) \n",
      "              - path: /hn/Lesson/LES522  (lesson_page) \n",
      "              - path: /hn/Lesson/LES523  (lesson_page) \n",
      "              - path: /hn/Lesson/LES524  (lesson_page) \n",
      "              - path: /hn/Lesson/LES525  (lesson_page) \n",
      "              - path: /hn/Lesson/LES526  (lesson_page) \n",
      "        - path: /hn/Fun  (games_page) \n",
      "        - path: /hn/Story  (games_page) \n",
      "        - path: /hn/gamelist/CRS104  (topic_page) \n",
      "          children:\n",
      "           - path: /hn/gamelist/CRS104/LES620  (subtopic_page) \n",
      "           - path: /hn/gamelist/CRS104/LES621  (subtopic_page) \n",
      "           - path: /hn/gamelist/CRS104/LES622  (subtopic_page) \n"
     ]
    }
   ],
   "source": [
    "crawler.print_tree(web_resource_tree, print_depth=4)"
   ]
  },
  {
   "cell_type": "code",
   "execution_count": null,
   "metadata": {},
   "outputs": [],
   "source": []
  },
  {
   "cell_type": "code",
   "execution_count": null,
   "metadata": {},
   "outputs": [],
   "source": []
  },
  {
   "cell_type": "code",
   "execution_count": 5,
   "metadata": {
    "scrolled": true
   },
   "outputs": [
    {
     "name": "stderr",
     "output_type": "stream",
     "text": [
      "Downloaded page http://www.prathamopenschool.org/mr/ title:POS\n",
      "in on_lang_page http://www.prathamopenschool.org/mr/\n",
      "found topic: Mathematics: गणित\n",
      "found topic: English: इंग्रजी\n",
      "found topic: Science: विज्ञान\n",
      "found topic: Std8: इयत्ता 8\n",
      "found games page: Fun: मजा\n",
      "found games page: Story: गोष्टी\n",
      "Downloaded page http://www.prathamopenschool.org/mr/Course/Mathematics title:Course\n",
      "in on_topic_page http://www.prathamopenschool.org/mr/Course/Mathematics\n",
      "  found subtopic: CRS102: व्याज\n",
      "  found subtopic: CRS103: वर्ग आणि वर्गमूळ\n",
      "  found subtopic: CRS14: ​आकारांची रहस्ये\n",
      "  found subtopic: CRS23: ​भागाकाराच्या पुढे\n",
      "  found subtopic: CRS75: वेगळ्या संख्या\n",
      "  found subtopic: CRS42: परिमाण आणि संख्या\n",
      "  found subtopic: CRS15: शेकडेवारी\n",
      "  found subtopic: CRS38: बीजगणिताशी मैत्री\n",
      "  found subtopic: CRS39: दशांश अपूर्णांक\n",
      "Downloaded page http://www.prathamopenschool.org/mr/Course/English title:Course\n",
      "in on_topic_page http://www.prathamopenschool.org/mr/Course/English\n",
      "  found subtopic: CRS35: इंग्रजी बोला\n",
      "  found subtopic: CRS37: अंग्रेजी ओके प्लीज\n",
      "Downloaded page http://www.prathamopenschool.org/mr/Course/Science title:Course\n",
      "in on_topic_page http://www.prathamopenschool.org/mr/Course/Science\n",
      "  found subtopic: CRS100: सूर्य आणि पृथ्वी\n",
      "  found subtopic: CRS101: ऊर्जा\n",
      "  found subtopic: CRS43: मानव शरीर\n",
      "  found subtopic: CRS73: हालचाल\n",
      "  found subtopic: CRS45: मापन\n",
      "  found subtopic: CRS74: पदार्थ\n",
      "  found subtopic: CRS85: प्रकाश\n",
      "Downloaded page http://www.prathamopenschool.org/mr/Course/Std8 title:Course\n",
      "in on_topic_page http://www.prathamopenschool.org/mr/Course/Std8\n",
      "  found subtopic: CRS78: विज्ञान\n",
      "  found subtopic: CRS77: गणित\n",
      "Downloaded page http://www.prathamopenschool.org/mr/Fun title:Fun\n"
     ]
    },
    {
     "name": "stdout",
     "output_type": "stream",
     "text": [
      "     in on_games_page http://www.prathamopenschool.org/mr/Fun\n"
     ]
    },
    {
     "name": "stderr",
     "output_type": "stream",
     "text": [
      "Downloaded page http://www.prathamopenschool.org/mr/Story title:Story\n"
     ]
    },
    {
     "name": "stdout",
     "output_type": "stream",
     "text": [
      "     in on_games_page http://www.prathamopenschool.org/mr/Story\n"
     ]
    },
    {
     "name": "stderr",
     "output_type": "stream",
     "text": [
      "Downloaded page http://www.prathamopenschool.org/mr/Course/Mathematics/CRS102 title:Course\n",
      "     lesson: LES608: व्याज\n"
     ]
    },
    {
     "name": "stdout",
     "output_type": "stream",
     "text": [
      "     in on_subtopic_page http://www.prathamopenschool.org/mr/Course/Mathematics/CRS102\n"
     ]
    },
    {
     "name": "stderr",
     "output_type": "stream",
     "text": [
      "Downloaded page http://www.prathamopenschool.org/mr/Course/Mathematics/CRS103 title:Course\n",
      "     lesson: LES609: वर्गसंख्या\n"
     ]
    },
    {
     "name": "stdout",
     "output_type": "stream",
     "text": [
      "     in on_subtopic_page http://www.prathamopenschool.org/mr/Course/Mathematics/CRS103\n"
     ]
    },
    {
     "name": "stderr",
     "output_type": "stream",
     "text": [
      "Downloaded page http://www.prathamopenschool.org/mr/Course/Mathematics/CRS14 title:Course\n",
      "     lesson: LES41: परिमिती\n",
      "     lesson: LES42: कोन\n",
      "     lesson: LES48: त्रिकोण\n",
      "     lesson: LES63: आकार आणि बहुभुज आकृत्या\n",
      "     lesson: LES64: वर्तुळ\n",
      "     lesson: LES65: क्षेत्रफळ\n"
     ]
    },
    {
     "name": "stdout",
     "output_type": "stream",
     "text": [
      "     in on_subtopic_page http://www.prathamopenschool.org/mr/Course/Mathematics/CRS14\n"
     ]
    },
    {
     "name": "stderr",
     "output_type": "stream",
     "text": [
      "Downloaded page http://www.prathamopenschool.org/mr/Course/Mathematics/CRS23 title:Course\n",
      "     lesson: LES68: विभाज्य संख्या\n",
      "     lesson: LES69: विभाजक संख्या\n",
      "     lesson: LES70: मसावि\n",
      "     lesson: LES71: लसावि\n",
      "     lesson: LES72: मूळ अवयव\n",
      "     lesson: LES73: लसावि आणि मसाविची गंमत\n",
      "     lesson: LES46: नाती गणितातली\n"
     ]
    },
    {
     "name": "stdout",
     "output_type": "stream",
     "text": [
      "     in on_subtopic_page http://www.prathamopenschool.org/mr/Course/Mathematics/CRS23\n"
     ]
    },
    {
     "name": "stderr",
     "output_type": "stream",
     "text": [
      "Downloaded page http://www.prathamopenschool.org/mr/Course/Mathematics/CRS75 title:Course\n",
      "     lesson: LES477: दशांश अपूर्णांकात अजून काय?\n",
      "     lesson: LES478: दोन अकांच्या मध्ये\n",
      "     lesson: LES479: १०० पैकी किती?\n",
      "     lesson: LES480: अपूर्णांकात अजुन काय?\n",
      "     lesson: LES40: पूर्ण नसलेले अंक\n"
     ]
    },
    {
     "name": "stdout",
     "output_type": "stream",
     "text": [
      "     in on_subtopic_page http://www.prathamopenschool.org/mr/Course/Mathematics/CRS75\n"
     ]
    },
    {
     "name": "stderr",
     "output_type": "stream",
     "text": [
      "Downloaded page http://www.prathamopenschool.org/mr/Course/Mathematics/CRS42 title:Course\n",
      "     lesson: LES108: परिमाण आणि संख्या\n"
     ]
    },
    {
     "name": "stdout",
     "output_type": "stream",
     "text": [
      "     in on_subtopic_page http://www.prathamopenschool.org/mr/Course/Mathematics/CRS42\n"
     ]
    },
    {
     "name": "stderr",
     "output_type": "stream",
     "text": [
      "Downloaded page http://www.prathamopenschool.org/mr/Course/Mathematics/CRS15 title:Course\n",
      "     lesson: LES45: शेकडेवारी\n"
     ]
    },
    {
     "name": "stdout",
     "output_type": "stream",
     "text": [
      "     in on_subtopic_page http://www.prathamopenschool.org/mr/Course/Mathematics/CRS15\n"
     ]
    },
    {
     "name": "stderr",
     "output_type": "stream",
     "text": [
      "Downloaded page http://www.prathamopenschool.org/mr/Course/Mathematics/CRS38 title:Course\n",
      "     lesson: LES91: बीजगणिताशी ओळख\n"
     ]
    },
    {
     "name": "stdout",
     "output_type": "stream",
     "text": [
      "     in on_subtopic_page http://www.prathamopenschool.org/mr/Course/Mathematics/CRS38\n"
     ]
    },
    {
     "name": "stderr",
     "output_type": "stream",
     "text": [
      "Downloaded page http://www.prathamopenschool.org/mr/Course/Mathematics/CRS39 title:Course\n",
      "     lesson: LES93: दशांश अपूर्णांक\n",
      "     lesson: LES94: दशांश अपूर्णांकांची बेरीज आणि वजाबाकी\n"
     ]
    },
    {
     "name": "stdout",
     "output_type": "stream",
     "text": [
      "     in on_subtopic_page http://www.prathamopenschool.org/mr/Course/Mathematics/CRS39\n"
     ]
    },
    {
     "name": "stderr",
     "output_type": "stream",
     "text": [
      "Downloaded page http://www.prathamopenschool.org/mr/Course/English/CRS35 title:Course\n",
      "     lesson: LES409: करा हॅलो ने सुरवात\n",
      "     lesson: LES410: नाती गोती\n",
      "     lesson: LES411: गप्पा\n",
      "     lesson: LES412: सिनेमा\n",
      "     lesson: LES437: वेळ समजून घेऊ या\n",
      "     lesson: LES438: खरेदीला चला\n",
      "     lesson: LES439: स्वत:चा सिनेमा बनवा\n",
      "     lesson: LES440: सलमा दिदीचे लग्न\n",
      "     lesson: LES441: बातम्या\n",
      "     lesson: LES615: घाबरायचं काम नाही\n",
      "     lesson: LES616: मुलांची टोळी\n",
      "     lesson: LES617: गावात चोर\n"
     ]
    },
    {
     "name": "stdout",
     "output_type": "stream",
     "text": [
      "     in on_subtopic_page http://www.prathamopenschool.org/mr/Course/English/CRS35\n"
     ]
    },
    {
     "name": "stderr",
     "output_type": "stream",
     "text": [
      "Downloaded page http://www.prathamopenschool.org/mr/Course/English/CRS37 title:Course\n",
      "     lesson: LES413: अंग्रेजी ओके 1\n",
      "     lesson: LES415: अंग्रेजी ओके 2\n",
      "     lesson: LES416: अंग्रेजी ओके 3\n",
      "     lesson: LES417: अंग्रेजी ओके 4\n",
      "     lesson: LES418: अंग्रेजी ओके 5\n",
      "     lesson: LES419: अंग्रेजी ओके 6\n",
      "     lesson: LES420: अंग्रेजी ओके 8\n",
      "     lesson: LES421: अंग्रेजी ओके 9\n",
      "     lesson: LES422: अंग्रेजी ओके 10\n",
      "     lesson: LES423: अंग्रेजी ओके 11\n",
      "     lesson: LES424: अंग्रेजी ओके 12\n",
      "     lesson: LES425: अंग्रेजी ओके 13\n"
     ]
    },
    {
     "name": "stdout",
     "output_type": "stream",
     "text": [
      "     in on_subtopic_page http://www.prathamopenschool.org/mr/Course/English/CRS37\n"
     ]
    },
    {
     "name": "stderr",
     "output_type": "stream",
     "text": [
      "Downloaded page http://www.prathamopenschool.org/mr/Course/Science/CRS100 title:Course\n",
      "     lesson: LES605: सूर्यमालेशी ओळख\n",
      "     lesson: LES606: पृथ्वीची सफर\n"
     ]
    },
    {
     "name": "stdout",
     "output_type": "stream",
     "text": [
      "     in on_subtopic_page http://www.prathamopenschool.org/mr/Course/Science/CRS100\n"
     ]
    },
    {
     "name": "stderr",
     "output_type": "stream",
     "text": [
      "Downloaded page http://www.prathamopenschool.org/mr/Course/Science/CRS101 title:Course\n",
      "     lesson: LES607: ऊर्जेशी ओळख\n",
      "     lesson: LES611: कार्य आणि ऊर्जा\n"
     ]
    },
    {
     "name": "stdout",
     "output_type": "stream",
     "text": [
      "     in on_subtopic_page http://www.prathamopenschool.org/mr/Course/Science/CRS101\n"
     ]
    },
    {
     "name": "stderr",
     "output_type": "stream",
     "text": [
      "Downloaded page http://www.prathamopenschool.org/mr/Course/Science/CRS43 title:Course\n",
      "     lesson: LES223: शरीराची हालचाल\n",
      "     lesson: LES619: रक्ताभिसरण संस्था\n"
     ]
    },
    {
     "name": "stdout",
     "output_type": "stream",
     "text": [
      "     in on_subtopic_page http://www.prathamopenschool.org/mr/Course/Science/CRS43\n"
     ]
    },
    {
     "name": "stderr",
     "output_type": "stream",
     "text": [
      "Downloaded page http://www.prathamopenschool.org/mr/Course/Science/CRS73 title:Course\n",
      "     lesson: LES474: गतीशी ओळख\n",
      "     lesson: LES476: बोला बाबा!\n"
     ]
    },
    {
     "name": "stdout",
     "output_type": "stream",
     "text": [
      "     in on_subtopic_page http://www.prathamopenschool.org/mr/Course/Science/CRS73\n"
     ]
    },
    {
     "name": "stderr",
     "output_type": "stream",
     "text": [
      "Downloaded page http://www.prathamopenschool.org/mr/Course/Science/CRS45 title:Course\n",
      "     lesson: LES222: मोजायचं कसं ?\n"
     ]
    },
    {
     "name": "stdout",
     "output_type": "stream",
     "text": [
      "     in on_subtopic_page http://www.prathamopenschool.org/mr/Course/Science/CRS45\n"
     ]
    },
    {
     "name": "stderr",
     "output_type": "stream",
     "text": [
      "Downloaded page http://www.prathamopenschool.org/mr/Course/Science/CRS74 title:Course\n",
      "     lesson: LES475: अणू - रेणू\n",
      "     lesson: LES44: द्रव्याशी ओळख\n",
      "     lesson: LES102: वस्तुमान आणि वजन\n"
     ]
    },
    {
     "name": "stdout",
     "output_type": "stream",
     "text": [
      "     in on_subtopic_page http://www.prathamopenschool.org/mr/Course/Science/CRS74\n"
     ]
    },
    {
     "name": "stderr",
     "output_type": "stream",
     "text": [
      "Downloaded page http://www.prathamopenschool.org/mr/Course/Science/CRS85 title:Course\n",
      "     lesson: LES202: प्रकाशाचे गुणधर्म\n",
      "     lesson: LES538: रंगांची दुनिया\n",
      "     lesson: LES558: शोधांचा इतिहास\n"
     ]
    },
    {
     "name": "stdout",
     "output_type": "stream",
     "text": [
      "     in on_subtopic_page http://www.prathamopenschool.org/mr/Course/Science/CRS85\n"
     ]
    },
    {
     "name": "stderr",
     "output_type": "stream",
     "text": [
      "Downloaded page http://www.prathamopenschool.org/mr/Course/Std8/CRS78 title:Course\n",
      "     lesson: LES498: उल्का\n",
      "     lesson: LES499: जंगल\n",
      "     lesson: LES500: चुंबक\n",
      "     lesson: LES501: अणू\n",
      "     lesson: LES502: लसीकरण\n",
      "     lesson: LES503: कार्बनीकरण\n",
      "     lesson: LES504: धातू, अधातू\n",
      "     lesson: LES505: आयन\n",
      "     lesson: LES506: मृदा\n",
      "     lesson: LES507: हवामान\n"
     ]
    },
    {
     "name": "stdout",
     "output_type": "stream",
     "text": [
      "     in on_subtopic_page http://www.prathamopenschool.org/mr/Course/Std8/CRS78\n"
     ]
    },
    {
     "name": "stderr",
     "output_type": "stream",
     "text": [
      "Downloaded page http://www.prathamopenschool.org/mr/Course/Std8/CRS77 title:Course\n",
      "     lesson: LES483: वर्गमूळ\n",
      "     lesson: LES484: रेषा\n",
      "     lesson: LES485: चौकोन\n",
      "     lesson: LES486: वर्तुळ क्षेत्रफळ\n",
      "     lesson: LES487: माहिती\n",
      "     lesson: LES488: सम-व्यस्त प्रमाण\n",
      "     lesson: LES489: पास्कलचा त्रिकोण\n",
      "     lesson: LES490: घन, घनमूळ\n",
      "     lesson: LES491: घातांक\n",
      "     lesson: LES492: कोन, चौकोन\n",
      "     lesson: LES493: केंद्रीय कोन\n",
      "     lesson: LES494: बीजगणित जादू\n",
      "     lesson: LES495: दलाली\n",
      "     lesson: LES496: पृष्ठफळ आणि घनफळ\n",
      "     lesson: LES497: अवयव\n"
     ]
    },
    {
     "name": "stdout",
     "output_type": "stream",
     "text": [
      "     in on_subtopic_page http://www.prathamopenschool.org/mr/Course/Std8/CRS77\n"
     ]
    },
    {
     "name": "stderr",
     "output_type": "stream",
     "text": [
      "Downloaded page http://www.prathamopenschool.org/mr/Lesson/LES608 title:POS-Lesson\n"
     ]
    },
    {
     "name": "stdout",
     "output_type": "stream",
     "text": [
      "      in on_lesson_page http://www.prathamopenschool.org/mr/Lesson/LES608\n"
     ]
    },
    {
     "name": "stderr",
     "output_type": "stream",
     "text": [
      "Downloaded page http://www.prathamopenschool.org/mr/Lesson/LES609 title:POS-Lesson\n"
     ]
    },
    {
     "name": "stdout",
     "output_type": "stream",
     "text": [
      "      in on_lesson_page http://www.prathamopenschool.org/mr/Lesson/LES609\n"
     ]
    },
    {
     "name": "stderr",
     "output_type": "stream",
     "text": [
      "Downloaded page http://www.prathamopenschool.org/mr/Lesson/LES41 title:POS-Lesson\n"
     ]
    },
    {
     "name": "stdout",
     "output_type": "stream",
     "text": [
      "      in on_lesson_page http://www.prathamopenschool.org/mr/Lesson/LES41\n"
     ]
    },
    {
     "name": "stderr",
     "output_type": "stream",
     "text": [
      "Downloaded page http://www.prathamopenschool.org/mr/Lesson/LES42 title:POS-Lesson\n"
     ]
    },
    {
     "name": "stdout",
     "output_type": "stream",
     "text": [
      "      in on_lesson_page http://www.prathamopenschool.org/mr/Lesson/LES42\n"
     ]
    },
    {
     "name": "stderr",
     "output_type": "stream",
     "text": [
      "Downloaded page http://www.prathamopenschool.org/mr/Lesson/LES48 title:POS-Lesson\n"
     ]
    },
    {
     "name": "stdout",
     "output_type": "stream",
     "text": [
      "      in on_lesson_page http://www.prathamopenschool.org/mr/Lesson/LES48\n"
     ]
    },
    {
     "name": "stderr",
     "output_type": "stream",
     "text": [
      "Downloaded page http://www.prathamopenschool.org/mr/Lesson/LES63 title:POS-Lesson\n"
     ]
    },
    {
     "name": "stdout",
     "output_type": "stream",
     "text": [
      "      in on_lesson_page http://www.prathamopenschool.org/mr/Lesson/LES63\n"
     ]
    },
    {
     "name": "stderr",
     "output_type": "stream",
     "text": [
      "Downloaded page http://www.prathamopenschool.org/mr/Lesson/LES64 title:POS-Lesson\n"
     ]
    },
    {
     "name": "stdout",
     "output_type": "stream",
     "text": [
      "      in on_lesson_page http://www.prathamopenschool.org/mr/Lesson/LES64\n"
     ]
    },
    {
     "name": "stderr",
     "output_type": "stream",
     "text": [
      "Downloaded page http://www.prathamopenschool.org/mr/Lesson/LES65 title:POS-Lesson\n"
     ]
    },
    {
     "name": "stdout",
     "output_type": "stream",
     "text": [
      "      in on_lesson_page http://www.prathamopenschool.org/mr/Lesson/LES65\n"
     ]
    },
    {
     "name": "stderr",
     "output_type": "stream",
     "text": [
      "Downloaded page http://www.prathamopenschool.org/mr/Lesson/LES68 title:POS-Lesson\n"
     ]
    },
    {
     "name": "stdout",
     "output_type": "stream",
     "text": [
      "      in on_lesson_page http://www.prathamopenschool.org/mr/Lesson/LES68\n"
     ]
    },
    {
     "name": "stderr",
     "output_type": "stream",
     "text": [
      "Downloaded page http://www.prathamopenschool.org/mr/Lesson/LES69 title:POS-Lesson\n"
     ]
    },
    {
     "name": "stdout",
     "output_type": "stream",
     "text": [
      "      in on_lesson_page http://www.prathamopenschool.org/mr/Lesson/LES69\n"
     ]
    },
    {
     "name": "stderr",
     "output_type": "stream",
     "text": [
      "Downloaded page http://www.prathamopenschool.org/mr/Lesson/LES70 title:POS-Lesson\n"
     ]
    },
    {
     "name": "stdout",
     "output_type": "stream",
     "text": [
      "      in on_lesson_page http://www.prathamopenschool.org/mr/Lesson/LES70\n"
     ]
    },
    {
     "name": "stderr",
     "output_type": "stream",
     "text": [
      "Downloaded page http://www.prathamopenschool.org/mr/Lesson/LES71 title:POS-Lesson\n"
     ]
    },
    {
     "name": "stdout",
     "output_type": "stream",
     "text": [
      "      in on_lesson_page http://www.prathamopenschool.org/mr/Lesson/LES71\n"
     ]
    },
    {
     "name": "stderr",
     "output_type": "stream",
     "text": [
      "Downloaded page http://www.prathamopenschool.org/mr/Lesson/LES72 title:POS-Lesson\n"
     ]
    },
    {
     "name": "stdout",
     "output_type": "stream",
     "text": [
      "      in on_lesson_page http://www.prathamopenschool.org/mr/Lesson/LES72\n"
     ]
    },
    {
     "name": "stderr",
     "output_type": "stream",
     "text": [
      "Downloaded page http://www.prathamopenschool.org/mr/Lesson/LES73 title:POS-Lesson\n"
     ]
    },
    {
     "name": "stdout",
     "output_type": "stream",
     "text": [
      "      in on_lesson_page http://www.prathamopenschool.org/mr/Lesson/LES73\n"
     ]
    },
    {
     "name": "stderr",
     "output_type": "stream",
     "text": [
      "Downloaded page http://www.prathamopenschool.org/mr/Lesson/LES46 title:POS-Lesson\n"
     ]
    },
    {
     "name": "stdout",
     "output_type": "stream",
     "text": [
      "      in on_lesson_page http://www.prathamopenschool.org/mr/Lesson/LES46\n"
     ]
    },
    {
     "name": "stderr",
     "output_type": "stream",
     "text": [
      "Downloaded page http://www.prathamopenschool.org/mr/Lesson/LES477 title:POS-Lesson\n"
     ]
    },
    {
     "name": "stdout",
     "output_type": "stream",
     "text": [
      "      in on_lesson_page http://www.prathamopenschool.org/mr/Lesson/LES477\n"
     ]
    },
    {
     "name": "stderr",
     "output_type": "stream",
     "text": [
      "Downloaded page http://www.prathamopenschool.org/mr/Lesson/LES478 title:POS-Lesson\n"
     ]
    },
    {
     "name": "stdout",
     "output_type": "stream",
     "text": [
      "      in on_lesson_page http://www.prathamopenschool.org/mr/Lesson/LES478\n"
     ]
    },
    {
     "name": "stderr",
     "output_type": "stream",
     "text": [
      "Downloaded page http://www.prathamopenschool.org/mr/Lesson/LES479 title:POS-Lesson\n"
     ]
    },
    {
     "name": "stdout",
     "output_type": "stream",
     "text": [
      "      in on_lesson_page http://www.prathamopenschool.org/mr/Lesson/LES479\n"
     ]
    },
    {
     "name": "stderr",
     "output_type": "stream",
     "text": [
      "Downloaded page http://www.prathamopenschool.org/mr/Lesson/LES480 title:POS-Lesson\n"
     ]
    },
    {
     "name": "stdout",
     "output_type": "stream",
     "text": [
      "      in on_lesson_page http://www.prathamopenschool.org/mr/Lesson/LES480\n"
     ]
    },
    {
     "name": "stderr",
     "output_type": "stream",
     "text": [
      "Downloaded page http://www.prathamopenschool.org/mr/Lesson/LES40 title:POS-Lesson\n"
     ]
    },
    {
     "name": "stdout",
     "output_type": "stream",
     "text": [
      "      in on_lesson_page http://www.prathamopenschool.org/mr/Lesson/LES40\n"
     ]
    },
    {
     "name": "stderr",
     "output_type": "stream",
     "text": [
      "Downloaded page http://www.prathamopenschool.org/mr/Lesson/LES108 title:POS-Lesson\n"
     ]
    },
    {
     "name": "stdout",
     "output_type": "stream",
     "text": [
      "      in on_lesson_page http://www.prathamopenschool.org/mr/Lesson/LES108\n"
     ]
    },
    {
     "name": "stderr",
     "output_type": "stream",
     "text": [
      "Downloaded page http://www.prathamopenschool.org/mr/Lesson/LES45 title:POS-Lesson\n"
     ]
    },
    {
     "name": "stdout",
     "output_type": "stream",
     "text": [
      "      in on_lesson_page http://www.prathamopenschool.org/mr/Lesson/LES45\n"
     ]
    },
    {
     "name": "stderr",
     "output_type": "stream",
     "text": [
      "Downloaded page http://www.prathamopenschool.org/mr/Lesson/LES91 title:POS-Lesson\n"
     ]
    },
    {
     "name": "stdout",
     "output_type": "stream",
     "text": [
      "      in on_lesson_page http://www.prathamopenschool.org/mr/Lesson/LES91\n"
     ]
    },
    {
     "name": "stderr",
     "output_type": "stream",
     "text": [
      "Downloaded page http://www.prathamopenschool.org/mr/Lesson/LES93 title:POS-Lesson\n"
     ]
    },
    {
     "name": "stdout",
     "output_type": "stream",
     "text": [
      "      in on_lesson_page http://www.prathamopenschool.org/mr/Lesson/LES93\n"
     ]
    },
    {
     "name": "stderr",
     "output_type": "stream",
     "text": [
      "Downloaded page http://www.prathamopenschool.org/mr/Lesson/LES94 title:POS-Lesson\n"
     ]
    },
    {
     "name": "stdout",
     "output_type": "stream",
     "text": [
      "      in on_lesson_page http://www.prathamopenschool.org/mr/Lesson/LES94\n"
     ]
    },
    {
     "name": "stderr",
     "output_type": "stream",
     "text": [
      "Downloaded page http://www.prathamopenschool.org/mr/Lesson/LES409 title:POS-Lesson\n"
     ]
    },
    {
     "name": "stdout",
     "output_type": "stream",
     "text": [
      "      in on_lesson_page http://www.prathamopenschool.org/mr/Lesson/LES409\n"
     ]
    },
    {
     "name": "stderr",
     "output_type": "stream",
     "text": [
      "Downloaded page http://www.prathamopenschool.org/mr/Lesson/LES410 title:POS-Lesson\n"
     ]
    },
    {
     "name": "stdout",
     "output_type": "stream",
     "text": [
      "      in on_lesson_page http://www.prathamopenschool.org/mr/Lesson/LES410\n"
     ]
    },
    {
     "name": "stderr",
     "output_type": "stream",
     "text": [
      "Downloaded page http://www.prathamopenschool.org/mr/Lesson/LES411 title:POS-Lesson\n"
     ]
    },
    {
     "name": "stdout",
     "output_type": "stream",
     "text": [
      "      in on_lesson_page http://www.prathamopenschool.org/mr/Lesson/LES411\n"
     ]
    },
    {
     "name": "stderr",
     "output_type": "stream",
     "text": [
      "Downloaded page http://www.prathamopenschool.org/mr/Lesson/LES412 title:POS-Lesson\n"
     ]
    },
    {
     "name": "stdout",
     "output_type": "stream",
     "text": [
      "      in on_lesson_page http://www.prathamopenschool.org/mr/Lesson/LES412\n"
     ]
    },
    {
     "name": "stderr",
     "output_type": "stream",
     "text": [
      "Downloaded page http://www.prathamopenschool.org/mr/Lesson/LES437 title:POS-Lesson\n"
     ]
    },
    {
     "name": "stdout",
     "output_type": "stream",
     "text": [
      "      in on_lesson_page http://www.prathamopenschool.org/mr/Lesson/LES437\n"
     ]
    },
    {
     "name": "stderr",
     "output_type": "stream",
     "text": [
      "Downloaded page http://www.prathamopenschool.org/mr/Lesson/LES438 title:POS-Lesson\n"
     ]
    },
    {
     "name": "stdout",
     "output_type": "stream",
     "text": [
      "      in on_lesson_page http://www.prathamopenschool.org/mr/Lesson/LES438\n"
     ]
    },
    {
     "name": "stderr",
     "output_type": "stream",
     "text": [
      "Downloaded page http://www.prathamopenschool.org/mr/Lesson/LES439 title:POS-Lesson\n"
     ]
    },
    {
     "name": "stdout",
     "output_type": "stream",
     "text": [
      "      in on_lesson_page http://www.prathamopenschool.org/mr/Lesson/LES439\n"
     ]
    },
    {
     "name": "stderr",
     "output_type": "stream",
     "text": [
      "Downloaded page http://www.prathamopenschool.org/mr/Lesson/LES440 title:POS-Lesson\n"
     ]
    },
    {
     "name": "stdout",
     "output_type": "stream",
     "text": [
      "      in on_lesson_page http://www.prathamopenschool.org/mr/Lesson/LES440\n"
     ]
    },
    {
     "name": "stderr",
     "output_type": "stream",
     "text": [
      "Downloaded page http://www.prathamopenschool.org/mr/Lesson/LES441 title:POS-Lesson\n"
     ]
    },
    {
     "name": "stdout",
     "output_type": "stream",
     "text": [
      "      in on_lesson_page http://www.prathamopenschool.org/mr/Lesson/LES441\n"
     ]
    },
    {
     "name": "stderr",
     "output_type": "stream",
     "text": [
      "Downloaded page http://www.prathamopenschool.org/mr/Lesson/LES615 title:POS-Lesson\n"
     ]
    },
    {
     "name": "stdout",
     "output_type": "stream",
     "text": [
      "      in on_lesson_page http://www.prathamopenschool.org/mr/Lesson/LES615\n"
     ]
    },
    {
     "name": "stderr",
     "output_type": "stream",
     "text": [
      "Downloaded page http://www.prathamopenschool.org/mr/Lesson/LES616 title:POS-Lesson\n"
     ]
    },
    {
     "name": "stdout",
     "output_type": "stream",
     "text": [
      "      in on_lesson_page http://www.prathamopenschool.org/mr/Lesson/LES616\n"
     ]
    },
    {
     "name": "stderr",
     "output_type": "stream",
     "text": [
      "Downloaded page http://www.prathamopenschool.org/mr/Lesson/LES617 title:POS-Lesson\n"
     ]
    },
    {
     "name": "stdout",
     "output_type": "stream",
     "text": [
      "      in on_lesson_page http://www.prathamopenschool.org/mr/Lesson/LES617\n"
     ]
    },
    {
     "name": "stderr",
     "output_type": "stream",
     "text": [
      "Downloaded page http://www.prathamopenschool.org/mr/Lesson/LES413 title:POS-Lesson\n"
     ]
    },
    {
     "name": "stdout",
     "output_type": "stream",
     "text": [
      "      in on_lesson_page http://www.prathamopenschool.org/mr/Lesson/LES413\n"
     ]
    },
    {
     "name": "stderr",
     "output_type": "stream",
     "text": [
      "Downloaded page http://www.prathamopenschool.org/mr/Lesson/LES415 title:POS-Lesson\n"
     ]
    },
    {
     "name": "stdout",
     "output_type": "stream",
     "text": [
      "      in on_lesson_page http://www.prathamopenschool.org/mr/Lesson/LES415\n"
     ]
    },
    {
     "name": "stderr",
     "output_type": "stream",
     "text": [
      "Downloaded page http://www.prathamopenschool.org/mr/Lesson/LES416 title:POS-Lesson\n"
     ]
    },
    {
     "name": "stdout",
     "output_type": "stream",
     "text": [
      "      in on_lesson_page http://www.prathamopenschool.org/mr/Lesson/LES416\n"
     ]
    },
    {
     "name": "stderr",
     "output_type": "stream",
     "text": [
      "Downloaded page http://www.prathamopenschool.org/mr/Lesson/LES417 title:POS-Lesson\n"
     ]
    },
    {
     "name": "stdout",
     "output_type": "stream",
     "text": [
      "      in on_lesson_page http://www.prathamopenschool.org/mr/Lesson/LES417\n"
     ]
    },
    {
     "name": "stderr",
     "output_type": "stream",
     "text": [
      "Downloaded page http://www.prathamopenschool.org/mr/Lesson/LES418 title:POS-Lesson\n"
     ]
    },
    {
     "name": "stdout",
     "output_type": "stream",
     "text": [
      "      in on_lesson_page http://www.prathamopenschool.org/mr/Lesson/LES418\n"
     ]
    },
    {
     "name": "stderr",
     "output_type": "stream",
     "text": [
      "Downloaded page http://www.prathamopenschool.org/mr/Lesson/LES419 title:POS-Lesson\n"
     ]
    },
    {
     "name": "stdout",
     "output_type": "stream",
     "text": [
      "      in on_lesson_page http://www.prathamopenschool.org/mr/Lesson/LES419\n"
     ]
    },
    {
     "name": "stderr",
     "output_type": "stream",
     "text": [
      "Downloaded page http://www.prathamopenschool.org/mr/Lesson/LES420 title:POS-Lesson\n"
     ]
    },
    {
     "name": "stdout",
     "output_type": "stream",
     "text": [
      "      in on_lesson_page http://www.prathamopenschool.org/mr/Lesson/LES420\n"
     ]
    },
    {
     "name": "stderr",
     "output_type": "stream",
     "text": [
      "Downloaded page http://www.prathamopenschool.org/mr/Lesson/LES421 title:POS-Lesson\n"
     ]
    },
    {
     "name": "stdout",
     "output_type": "stream",
     "text": [
      "      in on_lesson_page http://www.prathamopenschool.org/mr/Lesson/LES421\n"
     ]
    },
    {
     "name": "stderr",
     "output_type": "stream",
     "text": [
      "Downloaded page http://www.prathamopenschool.org/mr/Lesson/LES422 title:POS-Lesson\n"
     ]
    },
    {
     "name": "stdout",
     "output_type": "stream",
     "text": [
      "      in on_lesson_page http://www.prathamopenschool.org/mr/Lesson/LES422\n"
     ]
    },
    {
     "name": "stderr",
     "output_type": "stream",
     "text": [
      "Downloaded page http://www.prathamopenschool.org/mr/Lesson/LES423 title:POS-Lesson\n"
     ]
    },
    {
     "name": "stdout",
     "output_type": "stream",
     "text": [
      "      in on_lesson_page http://www.prathamopenschool.org/mr/Lesson/LES423\n"
     ]
    },
    {
     "name": "stderr",
     "output_type": "stream",
     "text": [
      "Downloaded page http://www.prathamopenschool.org/mr/Lesson/LES424 title:POS-Lesson\n"
     ]
    },
    {
     "name": "stdout",
     "output_type": "stream",
     "text": [
      "      in on_lesson_page http://www.prathamopenschool.org/mr/Lesson/LES424\n"
     ]
    },
    {
     "name": "stderr",
     "output_type": "stream",
     "text": [
      "Downloaded page http://www.prathamopenschool.org/mr/Lesson/LES425 title:POS-Lesson\n"
     ]
    },
    {
     "name": "stdout",
     "output_type": "stream",
     "text": [
      "      in on_lesson_page http://www.prathamopenschool.org/mr/Lesson/LES425\n"
     ]
    },
    {
     "name": "stderr",
     "output_type": "stream",
     "text": [
      "Downloaded page http://www.prathamopenschool.org/mr/Lesson/LES605 title:POS-Lesson\n"
     ]
    },
    {
     "name": "stdout",
     "output_type": "stream",
     "text": [
      "      in on_lesson_page http://www.prathamopenschool.org/mr/Lesson/LES605\n"
     ]
    },
    {
     "name": "stderr",
     "output_type": "stream",
     "text": [
      "Downloaded page http://www.prathamopenschool.org/mr/Lesson/LES606 title:POS-Lesson\n"
     ]
    },
    {
     "name": "stdout",
     "output_type": "stream",
     "text": [
      "      in on_lesson_page http://www.prathamopenschool.org/mr/Lesson/LES606\n"
     ]
    },
    {
     "name": "stderr",
     "output_type": "stream",
     "text": [
      "Downloaded page http://www.prathamopenschool.org/mr/Lesson/LES607 title:POS-Lesson\n"
     ]
    },
    {
     "name": "stdout",
     "output_type": "stream",
     "text": [
      "      in on_lesson_page http://www.prathamopenschool.org/mr/Lesson/LES607\n"
     ]
    },
    {
     "name": "stderr",
     "output_type": "stream",
     "text": [
      "Downloaded page http://www.prathamopenschool.org/mr/Lesson/LES611 title:POS-Lesson\n"
     ]
    },
    {
     "name": "stdout",
     "output_type": "stream",
     "text": [
      "      in on_lesson_page http://www.prathamopenschool.org/mr/Lesson/LES611\n"
     ]
    },
    {
     "name": "stderr",
     "output_type": "stream",
     "text": [
      "Downloaded page http://www.prathamopenschool.org/mr/Lesson/LES223 title:POS-Lesson\n"
     ]
    },
    {
     "name": "stdout",
     "output_type": "stream",
     "text": [
      "      in on_lesson_page http://www.prathamopenschool.org/mr/Lesson/LES223\n"
     ]
    },
    {
     "name": "stderr",
     "output_type": "stream",
     "text": [
      "Downloaded page http://www.prathamopenschool.org/mr/Lesson/LES619 title:POS-Lesson\n"
     ]
    },
    {
     "name": "stdout",
     "output_type": "stream",
     "text": [
      "      in on_lesson_page http://www.prathamopenschool.org/mr/Lesson/LES619\n"
     ]
    },
    {
     "name": "stderr",
     "output_type": "stream",
     "text": [
      "Downloaded page http://www.prathamopenschool.org/mr/Lesson/LES474 title:POS-Lesson\n"
     ]
    },
    {
     "name": "stdout",
     "output_type": "stream",
     "text": [
      "      in on_lesson_page http://www.prathamopenschool.org/mr/Lesson/LES474\n"
     ]
    },
    {
     "name": "stderr",
     "output_type": "stream",
     "text": [
      "Downloaded page http://www.prathamopenschool.org/mr/Lesson/LES476 title:POS-Lesson\n"
     ]
    },
    {
     "name": "stdout",
     "output_type": "stream",
     "text": [
      "      in on_lesson_page http://www.prathamopenschool.org/mr/Lesson/LES476\n"
     ]
    },
    {
     "name": "stderr",
     "output_type": "stream",
     "text": [
      "Downloaded page http://www.prathamopenschool.org/mr/Lesson/LES222 title:POS-Lesson\n"
     ]
    },
    {
     "name": "stdout",
     "output_type": "stream",
     "text": [
      "      in on_lesson_page http://www.prathamopenschool.org/mr/Lesson/LES222\n"
     ]
    },
    {
     "name": "stderr",
     "output_type": "stream",
     "text": [
      "Downloaded page http://www.prathamopenschool.org/mr/Lesson/LES475 title:POS-Lesson\n"
     ]
    },
    {
     "name": "stdout",
     "output_type": "stream",
     "text": [
      "      in on_lesson_page http://www.prathamopenschool.org/mr/Lesson/LES475\n"
     ]
    },
    {
     "name": "stderr",
     "output_type": "stream",
     "text": [
      "Downloaded page http://www.prathamopenschool.org/mr/Lesson/LES44 title:POS-Lesson\n"
     ]
    },
    {
     "name": "stdout",
     "output_type": "stream",
     "text": [
      "      in on_lesson_page http://www.prathamopenschool.org/mr/Lesson/LES44\n"
     ]
    },
    {
     "name": "stderr",
     "output_type": "stream",
     "text": [
      "Downloaded page http://www.prathamopenschool.org/mr/Lesson/LES102 title:POS-Lesson\n"
     ]
    },
    {
     "name": "stdout",
     "output_type": "stream",
     "text": [
      "      in on_lesson_page http://www.prathamopenschool.org/mr/Lesson/LES102\n"
     ]
    },
    {
     "name": "stderr",
     "output_type": "stream",
     "text": [
      "Downloaded page http://www.prathamopenschool.org/mr/Lesson/LES202 title:POS-Lesson\n"
     ]
    },
    {
     "name": "stdout",
     "output_type": "stream",
     "text": [
      "      in on_lesson_page http://www.prathamopenschool.org/mr/Lesson/LES202\n"
     ]
    },
    {
     "name": "stderr",
     "output_type": "stream",
     "text": [
      "Downloaded page http://www.prathamopenschool.org/mr/Lesson/LES538 title:POS-Lesson\n"
     ]
    },
    {
     "name": "stdout",
     "output_type": "stream",
     "text": [
      "      in on_lesson_page http://www.prathamopenschool.org/mr/Lesson/LES538\n"
     ]
    },
    {
     "name": "stderr",
     "output_type": "stream",
     "text": [
      "Downloaded page http://www.prathamopenschool.org/mr/Lesson/LES558 title:POS-Lesson\n"
     ]
    },
    {
     "name": "stdout",
     "output_type": "stream",
     "text": [
      "      in on_lesson_page http://www.prathamopenschool.org/mr/Lesson/LES558\n"
     ]
    },
    {
     "name": "stderr",
     "output_type": "stream",
     "text": [
      "Downloaded page http://www.prathamopenschool.org/mr/Lesson/LES498 title:POS-Lesson\n"
     ]
    },
    {
     "name": "stdout",
     "output_type": "stream",
     "text": [
      "      in on_lesson_page http://www.prathamopenschool.org/mr/Lesson/LES498\n"
     ]
    },
    {
     "name": "stderr",
     "output_type": "stream",
     "text": [
      "Downloaded page http://www.prathamopenschool.org/mr/Lesson/LES499 title:POS-Lesson\n"
     ]
    },
    {
     "name": "stdout",
     "output_type": "stream",
     "text": [
      "      in on_lesson_page http://www.prathamopenschool.org/mr/Lesson/LES499\n"
     ]
    },
    {
     "name": "stderr",
     "output_type": "stream",
     "text": [
      "Downloaded page http://www.prathamopenschool.org/mr/Lesson/LES500 title:POS-Lesson\n"
     ]
    },
    {
     "name": "stdout",
     "output_type": "stream",
     "text": [
      "      in on_lesson_page http://www.prathamopenschool.org/mr/Lesson/LES500\n"
     ]
    },
    {
     "name": "stderr",
     "output_type": "stream",
     "text": [
      "Downloaded page http://www.prathamopenschool.org/mr/Lesson/LES501 title:POS-Lesson\n"
     ]
    },
    {
     "name": "stdout",
     "output_type": "stream",
     "text": [
      "      in on_lesson_page http://www.prathamopenschool.org/mr/Lesson/LES501\n"
     ]
    },
    {
     "name": "stderr",
     "output_type": "stream",
     "text": [
      "Downloaded page http://www.prathamopenschool.org/mr/Lesson/LES502 title:POS-Lesson\n"
     ]
    },
    {
     "name": "stdout",
     "output_type": "stream",
     "text": [
      "      in on_lesson_page http://www.prathamopenschool.org/mr/Lesson/LES502\n"
     ]
    },
    {
     "name": "stderr",
     "output_type": "stream",
     "text": [
      "Downloaded page http://www.prathamopenschool.org/mr/Lesson/LES503 title:POS-Lesson\n"
     ]
    },
    {
     "name": "stdout",
     "output_type": "stream",
     "text": [
      "      in on_lesson_page http://www.prathamopenschool.org/mr/Lesson/LES503\n"
     ]
    },
    {
     "name": "stderr",
     "output_type": "stream",
     "text": [
      "Downloaded page http://www.prathamopenschool.org/mr/Lesson/LES504 title:POS-Lesson\n"
     ]
    },
    {
     "name": "stdout",
     "output_type": "stream",
     "text": [
      "      in on_lesson_page http://www.prathamopenschool.org/mr/Lesson/LES504\n"
     ]
    },
    {
     "name": "stderr",
     "output_type": "stream",
     "text": [
      "Downloaded page http://www.prathamopenschool.org/mr/Lesson/LES505 title:POS-Lesson\n"
     ]
    },
    {
     "name": "stdout",
     "output_type": "stream",
     "text": [
      "      in on_lesson_page http://www.prathamopenschool.org/mr/Lesson/LES505\n"
     ]
    },
    {
     "name": "stderr",
     "output_type": "stream",
     "text": [
      "Downloaded page http://www.prathamopenschool.org/mr/Lesson/LES506 title:POS-Lesson\n"
     ]
    },
    {
     "name": "stdout",
     "output_type": "stream",
     "text": [
      "      in on_lesson_page http://www.prathamopenschool.org/mr/Lesson/LES506\n"
     ]
    },
    {
     "name": "stderr",
     "output_type": "stream",
     "text": [
      "Downloaded page http://www.prathamopenschool.org/mr/Lesson/LES507 title:POS-Lesson\n"
     ]
    },
    {
     "name": "stdout",
     "output_type": "stream",
     "text": [
      "      in on_lesson_page http://www.prathamopenschool.org/mr/Lesson/LES507\n"
     ]
    },
    {
     "name": "stderr",
     "output_type": "stream",
     "text": [
      "Downloaded page http://www.prathamopenschool.org/mr/Lesson/LES483 title:POS-Lesson\n"
     ]
    },
    {
     "name": "stdout",
     "output_type": "stream",
     "text": [
      "      in on_lesson_page http://www.prathamopenschool.org/mr/Lesson/LES483\n"
     ]
    },
    {
     "name": "stderr",
     "output_type": "stream",
     "text": [
      "Downloaded page http://www.prathamopenschool.org/mr/Lesson/LES484 title:POS-Lesson\n"
     ]
    },
    {
     "name": "stdout",
     "output_type": "stream",
     "text": [
      "      in on_lesson_page http://www.prathamopenschool.org/mr/Lesson/LES484\n"
     ]
    },
    {
     "name": "stderr",
     "output_type": "stream",
     "text": [
      "Downloaded page http://www.prathamopenschool.org/mr/Lesson/LES485 title:POS-Lesson\n"
     ]
    },
    {
     "name": "stdout",
     "output_type": "stream",
     "text": [
      "      in on_lesson_page http://www.prathamopenschool.org/mr/Lesson/LES485\n"
     ]
    },
    {
     "name": "stderr",
     "output_type": "stream",
     "text": [
      "Downloaded page http://www.prathamopenschool.org/mr/Lesson/LES486 title:POS-Lesson\n"
     ]
    },
    {
     "name": "stdout",
     "output_type": "stream",
     "text": [
      "      in on_lesson_page http://www.prathamopenschool.org/mr/Lesson/LES486\n"
     ]
    },
    {
     "name": "stderr",
     "output_type": "stream",
     "text": [
      "Downloaded page http://www.prathamopenschool.org/mr/Lesson/LES487 title:POS-Lesson\n"
     ]
    },
    {
     "name": "stdout",
     "output_type": "stream",
     "text": [
      "      in on_lesson_page http://www.prathamopenschool.org/mr/Lesson/LES487\n"
     ]
    },
    {
     "name": "stderr",
     "output_type": "stream",
     "text": [
      "Downloaded page http://www.prathamopenschool.org/mr/Lesson/LES488 title:POS-Lesson\n"
     ]
    },
    {
     "name": "stdout",
     "output_type": "stream",
     "text": [
      "      in on_lesson_page http://www.prathamopenschool.org/mr/Lesson/LES488\n"
     ]
    },
    {
     "name": "stderr",
     "output_type": "stream",
     "text": [
      "Downloaded page http://www.prathamopenschool.org/mr/Lesson/LES489 title:POS-Lesson\n"
     ]
    },
    {
     "name": "stdout",
     "output_type": "stream",
     "text": [
      "      in on_lesson_page http://www.prathamopenschool.org/mr/Lesson/LES489\n"
     ]
    },
    {
     "name": "stderr",
     "output_type": "stream",
     "text": [
      "Downloaded page http://www.prathamopenschool.org/mr/Lesson/LES490 title:POS-Lesson\n"
     ]
    },
    {
     "name": "stdout",
     "output_type": "stream",
     "text": [
      "      in on_lesson_page http://www.prathamopenschool.org/mr/Lesson/LES490\n"
     ]
    },
    {
     "name": "stderr",
     "output_type": "stream",
     "text": [
      "Downloaded page http://www.prathamopenschool.org/mr/Lesson/LES491 title:POS-Lesson\n"
     ]
    },
    {
     "name": "stdout",
     "output_type": "stream",
     "text": [
      "      in on_lesson_page http://www.prathamopenschool.org/mr/Lesson/LES491\n"
     ]
    },
    {
     "name": "stderr",
     "output_type": "stream",
     "text": [
      "Downloaded page http://www.prathamopenschool.org/mr/Lesson/LES492 title:POS-Lesson\n"
     ]
    },
    {
     "name": "stdout",
     "output_type": "stream",
     "text": [
      "      in on_lesson_page http://www.prathamopenschool.org/mr/Lesson/LES492\n"
     ]
    },
    {
     "name": "stderr",
     "output_type": "stream",
     "text": [
      "Downloaded page http://www.prathamopenschool.org/mr/Lesson/LES493 title:POS-Lesson\n"
     ]
    },
    {
     "name": "stdout",
     "output_type": "stream",
     "text": [
      "      in on_lesson_page http://www.prathamopenschool.org/mr/Lesson/LES493\n"
     ]
    },
    {
     "name": "stderr",
     "output_type": "stream",
     "text": [
      "Downloaded page http://www.prathamopenschool.org/mr/Lesson/LES494 title:POS-Lesson\n"
     ]
    },
    {
     "name": "stdout",
     "output_type": "stream",
     "text": [
      "      in on_lesson_page http://www.prathamopenschool.org/mr/Lesson/LES494\n"
     ]
    },
    {
     "name": "stderr",
     "output_type": "stream",
     "text": [
      "Downloaded page http://www.prathamopenschool.org/mr/Lesson/LES495 title:POS-Lesson\n"
     ]
    },
    {
     "name": "stdout",
     "output_type": "stream",
     "text": [
      "      in on_lesson_page http://www.prathamopenschool.org/mr/Lesson/LES495\n"
     ]
    },
    {
     "name": "stderr",
     "output_type": "stream",
     "text": [
      "Downloaded page http://www.prathamopenschool.org/mr/Lesson/LES496 title:POS-Lesson\n"
     ]
    },
    {
     "name": "stdout",
     "output_type": "stream",
     "text": [
      "      in on_lesson_page http://www.prathamopenschool.org/mr/Lesson/LES496\n"
     ]
    },
    {
     "name": "stderr",
     "output_type": "stream",
     "text": [
      "Downloaded page http://www.prathamopenschool.org/mr/Lesson/LES497 title:POS-Lesson\n"
     ]
    },
    {
     "name": "stdout",
     "output_type": "stream",
     "text": [
      "      in on_lesson_page http://www.prathamopenschool.org/mr/Lesson/LES497\n",
      "\n",
      "\n",
      "\n",
      "\n",
      "################################################################################\n",
      "# CRAWLER RECOMMENDATIONS BASED ON URLS ENCOUNTERED:\n",
      "################################################################################\n",
      "\n",
      "1. These URLs are very common and look like global navigation links:\n",
      "\n",
      "2. These are common path fragments found in URLs paths, so could correspond to site struture:\n",
      "  -  112 urls on site start with  /mr\n",
      "\n",
      "\n",
      "################################################################################\n",
      "\n",
      "\n",
      "\n",
      "     - path: /mr/  (lang_page) \n",
      "       children:\n",
      "        - path: /mr/Course/Mathematics  (topic_page) \n",
      "          children:\n",
      "           - path: /mr/Course/Mathematics/CRS102  (subtopic_page) \n",
      "             children:\n",
      "              - path: /mr/Lesson/LES608  (lesson_page) \n",
      "           - path: /mr/Course/Mathematics/CRS103  (subtopic_page) \n",
      "             children:\n",
      "              - path: /mr/Lesson/LES609  (lesson_page) \n",
      "           - path: /mr/Course/Mathematics/CRS14  (subtopic_page) \n",
      "             children:\n",
      "              - path: /mr/Lesson/LES41  (lesson_page) \n",
      "              - path: /mr/Lesson/LES42  (lesson_page) \n",
      "              - path: /mr/Lesson/LES48  (lesson_page) \n",
      "              - path: /mr/Lesson/LES63  (lesson_page) \n",
      "              - path: /mr/Lesson/LES64  (lesson_page) \n",
      "              - path: /mr/Lesson/LES65  (lesson_page) \n",
      "           - path: /mr/Course/Mathematics/CRS23  (subtopic_page) \n",
      "             children:\n",
      "              - path: /mr/Lesson/LES68  (lesson_page) \n",
      "              - path: /mr/Lesson/LES69  (lesson_page) \n",
      "              - path: /mr/Lesson/LES70  (lesson_page) \n",
      "              - path: /mr/Lesson/LES71  (lesson_page) \n",
      "              - path: /mr/Lesson/LES72  (lesson_page) \n",
      "              - path: /mr/Lesson/LES73  (lesson_page) \n",
      "              - path: /mr/Lesson/LES46  (lesson_page) \n",
      "           - path: /mr/Course/Mathematics/CRS75  (subtopic_page) \n",
      "             children:\n",
      "              - path: /mr/Lesson/LES477  (lesson_page) \n",
      "              - path: /mr/Lesson/LES478  (lesson_page) \n",
      "              - path: /mr/Lesson/LES479  (lesson_page) \n",
      "              - path: /mr/Lesson/LES480  (lesson_page) \n",
      "              - path: /mr/Lesson/LES40  (lesson_page) \n",
      "           - path: /mr/Course/Mathematics/CRS42  (subtopic_page) \n",
      "             children:\n",
      "              - path: /mr/Lesson/LES108  (lesson_page) \n",
      "           - path: /mr/Course/Mathematics/CRS15  (subtopic_page) \n",
      "             children:\n",
      "              - path: /mr/Lesson/LES45  (lesson_page) \n",
      "           - path: /mr/Course/Mathematics/CRS38  (subtopic_page) \n",
      "             children:\n",
      "              - path: /mr/Lesson/LES91  (lesson_page) \n",
      "           - path: /mr/Course/Mathematics/CRS39  (subtopic_page) \n",
      "             children:\n",
      "              - path: /mr/Lesson/LES93  (lesson_page) \n",
      "              - path: /mr/Lesson/LES94  (lesson_page) \n",
      "        - path: /mr/Course/English  (topic_page) \n",
      "          children:\n",
      "           - path: /mr/Course/English/CRS35  (subtopic_page) \n",
      "             children:\n",
      "              - path: /mr/Lesson/LES409  (lesson_page) \n",
      "              - path: /mr/Lesson/LES410  (lesson_page) \n",
      "              - path: /mr/Lesson/LES411  (lesson_page) \n",
      "              - path: /mr/Lesson/LES412  (lesson_page) \n",
      "              - path: /mr/Lesson/LES437  (lesson_page) \n",
      "              - path: /mr/Lesson/LES438  (lesson_page) \n",
      "              - path: /mr/Lesson/LES439  (lesson_page) \n",
      "              - path: /mr/Lesson/LES440  (lesson_page) \n",
      "              - path: /mr/Lesson/LES441  (lesson_page) \n",
      "              - path: /mr/Lesson/LES615  (lesson_page) \n",
      "              - path: /mr/Lesson/LES616  (lesson_page) \n",
      "              - path: /mr/Lesson/LES617  (lesson_page) \n",
      "           - path: /mr/Course/English/CRS37  (subtopic_page) \n",
      "             children:\n",
      "              - path: /mr/Lesson/LES413  (lesson_page) \n",
      "              - path: /mr/Lesson/LES415  (lesson_page) \n",
      "              - path: /mr/Lesson/LES416  (lesson_page) \n",
      "              - path: /mr/Lesson/LES417  (lesson_page) \n",
      "              - path: /mr/Lesson/LES418  (lesson_page) \n",
      "              - path: /mr/Lesson/LES419  (lesson_page) \n",
      "              - path: /mr/Lesson/LES420  (lesson_page) \n",
      "              - path: /mr/Lesson/LES421  (lesson_page) \n",
      "              - path: /mr/Lesson/LES422  (lesson_page) \n",
      "              - path: /mr/Lesson/LES423  (lesson_page) \n",
      "              - path: /mr/Lesson/LES424  (lesson_page) \n",
      "              - path: /mr/Lesson/LES425  (lesson_page) \n",
      "        - path: /mr/Course/Science  (topic_page) \n",
      "          children:\n",
      "           - path: /mr/Course/Science/CRS100  (subtopic_page) \n",
      "             children:\n",
      "              - path: /mr/Lesson/LES605  (lesson_page) \n",
      "              - path: /mr/Lesson/LES606  (lesson_page) \n",
      "           - path: /mr/Course/Science/CRS101  (subtopic_page) \n",
      "             children:\n",
      "              - path: /mr/Lesson/LES607  (lesson_page) \n",
      "              - path: /mr/Lesson/LES611  (lesson_page) \n",
      "           - path: /mr/Course/Science/CRS43  (subtopic_page) \n",
      "             children:\n",
      "              - path: /mr/Lesson/LES223  (lesson_page) \n",
      "              - path: /mr/Lesson/LES619  (lesson_page) \n",
      "           - path: /mr/Course/Science/CRS73  (subtopic_page) \n",
      "             children:\n",
      "              - path: /mr/Lesson/LES474  (lesson_page) \n",
      "              - path: /mr/Lesson/LES476  (lesson_page) \n",
      "           - path: /mr/Course/Science/CRS45  (subtopic_page) \n",
      "             children:\n",
      "              - path: /mr/Lesson/LES222  (lesson_page) \n",
      "           - path: /mr/Course/Science/CRS74  (subtopic_page) \n",
      "             children:\n",
      "              - path: /mr/Lesson/LES475  (lesson_page) \n",
      "              - path: /mr/Lesson/LES44  (lesson_page) \n",
      "              - path: /mr/Lesson/LES102  (lesson_page) \n",
      "           - path: /mr/Course/Science/CRS85  (subtopic_page) \n",
      "             children:\n",
      "              - path: /mr/Lesson/LES202  (lesson_page) \n",
      "              - path: /mr/Lesson/LES538  (lesson_page) \n",
      "              - path: /mr/Lesson/LES558  (lesson_page) \n",
      "        - path: /mr/Course/Std8  (topic_page) \n",
      "          children:\n",
      "           - path: /mr/Course/Std8/CRS78  (subtopic_page) \n",
      "             children:\n",
      "              - path: /mr/Lesson/LES498  (lesson_page) \n",
      "              - path: /mr/Lesson/LES499  (lesson_page) \n",
      "              - path: /mr/Lesson/LES500  (lesson_page) \n",
      "              - path: /mr/Lesson/LES501  (lesson_page) \n",
      "              - path: /mr/Lesson/LES502  (lesson_page) \n",
      "              - path: /mr/Lesson/LES503  (lesson_page) \n",
      "              - path: /mr/Lesson/LES504  (lesson_page) \n",
      "              - path: /mr/Lesson/LES505  (lesson_page) \n",
      "              - path: /mr/Lesson/LES506  (lesson_page) \n",
      "              - path: /mr/Lesson/LES507  (lesson_page) \n",
      "           - path: /mr/Course/Std8/CRS77  (subtopic_page) \n",
      "             children:\n",
      "              - path: /mr/Lesson/LES483  (lesson_page) \n",
      "              - path: /mr/Lesson/LES484  (lesson_page) \n",
      "              - path: /mr/Lesson/LES485  (lesson_page) \n",
      "              - path: /mr/Lesson/LES486  (lesson_page) \n",
      "              - path: /mr/Lesson/LES487  (lesson_page) \n",
      "              - path: /mr/Lesson/LES488  (lesson_page) \n",
      "              - path: /mr/Lesson/LES489  (lesson_page) \n",
      "              - path: /mr/Lesson/LES490  (lesson_page) \n",
      "              - path: /mr/Lesson/LES491  (lesson_page) \n",
      "              - path: /mr/Lesson/LES492  (lesson_page) \n",
      "              - path: /mr/Lesson/LES493  (lesson_page) \n",
      "              - path: /mr/Lesson/LES494  (lesson_page) \n",
      "              - path: /mr/Lesson/LES495  (lesson_page) \n",
      "              - path: /mr/Lesson/LES496  (lesson_page) \n",
      "              - path: /mr/Lesson/LES497  (lesson_page) \n",
      "        - path: /mr/Fun  (games_page) \n",
      "        - path: /mr/Story  (games_page) \n"
     ]
    }
   ],
   "source": [
    "crawler = PraDigiCrawler(lang='mr')\n",
    "mr_web_resource_tree = crawler.crawl()\n"
   ]
  },
  {
   "cell_type": "code",
   "execution_count": 6,
   "metadata": {
    "scrolled": false
   },
   "outputs": [
    {
     "name": "stdout",
     "output_type": "stream",
     "text": [
      "     - path: /mr/  (lang_page) \n",
      "       children:\n",
      "        - path: /mr/Course/Mathematics  (topic_page) \n",
      "          children:\n",
      "           - path: /mr/Course/Mathematics/CRS102  (subtopic_page) \n",
      "             children:\n",
      "              - path: /mr/Lesson/LES608  (lesson_page) \n",
      "           - path: /mr/Course/Mathematics/CRS103  (subtopic_page) \n",
      "             children:\n",
      "              - path: /mr/Lesson/LES609  (lesson_page) \n",
      "           - path: /mr/Course/Mathematics/CRS14  (subtopic_page) \n",
      "             children:\n",
      "              - path: /mr/Lesson/LES41  (lesson_page) \n",
      "              - path: /mr/Lesson/LES42  (lesson_page) \n",
      "              - path: /mr/Lesson/LES48  (lesson_page) \n",
      "              - path: /mr/Lesson/LES63  (lesson_page) \n",
      "              - path: /mr/Lesson/LES64  (lesson_page) \n",
      "              - path: /mr/Lesson/LES65  (lesson_page) \n",
      "           - path: /mr/Course/Mathematics/CRS23  (subtopic_page) \n",
      "             children:\n",
      "              - path: /mr/Lesson/LES68  (lesson_page) \n",
      "              - path: /mr/Lesson/LES69  (lesson_page) \n",
      "              - path: /mr/Lesson/LES70  (lesson_page) \n",
      "              - path: /mr/Lesson/LES71  (lesson_page) \n",
      "              - path: /mr/Lesson/LES72  (lesson_page) \n",
      "              - path: /mr/Lesson/LES73  (lesson_page) \n",
      "              - path: /mr/Lesson/LES46  (lesson_page) \n",
      "           - path: /mr/Course/Mathematics/CRS75  (subtopic_page) \n",
      "             children:\n",
      "              - path: /mr/Lesson/LES477  (lesson_page) \n",
      "              - path: /mr/Lesson/LES478  (lesson_page) \n",
      "              - path: /mr/Lesson/LES479  (lesson_page) \n",
      "              - path: /mr/Lesson/LES480  (lesson_page) \n",
      "              - path: /mr/Lesson/LES40  (lesson_page) \n",
      "           - path: /mr/Course/Mathematics/CRS42  (subtopic_page) \n",
      "             children:\n",
      "              - path: /mr/Lesson/LES108  (lesson_page) \n",
      "           - path: /mr/Course/Mathematics/CRS15  (subtopic_page) \n",
      "             children:\n",
      "              - path: /mr/Lesson/LES45  (lesson_page) \n",
      "           - path: /mr/Course/Mathematics/CRS38  (subtopic_page) \n",
      "             children:\n",
      "              - path: /mr/Lesson/LES91  (lesson_page) \n",
      "           - path: /mr/Course/Mathematics/CRS39  (subtopic_page) \n",
      "             children:\n",
      "              - path: /mr/Lesson/LES93  (lesson_page) \n",
      "              - path: /mr/Lesson/LES94  (lesson_page) \n",
      "        - path: /mr/Course/English  (topic_page) \n",
      "          children:\n",
      "           - path: /mr/Course/English/CRS35  (subtopic_page) \n",
      "             children:\n",
      "              - path: /mr/Lesson/LES409  (lesson_page) \n",
      "              - path: /mr/Lesson/LES410  (lesson_page) \n",
      "              - path: /mr/Lesson/LES411  (lesson_page) \n",
      "              - path: /mr/Lesson/LES412  (lesson_page) \n",
      "              - path: /mr/Lesson/LES437  (lesson_page) \n",
      "              - path: /mr/Lesson/LES438  (lesson_page) \n",
      "              - path: /mr/Lesson/LES439  (lesson_page) \n",
      "              - path: /mr/Lesson/LES440  (lesson_page) \n",
      "              - path: /mr/Lesson/LES441  (lesson_page) \n",
      "              - path: /mr/Lesson/LES615  (lesson_page) \n",
      "              - path: /mr/Lesson/LES616  (lesson_page) \n",
      "              - path: /mr/Lesson/LES617  (lesson_page) \n",
      "           - path: /mr/Course/English/CRS37  (subtopic_page) \n",
      "             children:\n",
      "              - path: /mr/Lesson/LES413  (lesson_page) \n",
      "              - path: /mr/Lesson/LES415  (lesson_page) \n",
      "              - path: /mr/Lesson/LES416  (lesson_page) \n",
      "              - path: /mr/Lesson/LES417  (lesson_page) \n",
      "              - path: /mr/Lesson/LES418  (lesson_page) \n",
      "              - path: /mr/Lesson/LES419  (lesson_page) \n",
      "              - path: /mr/Lesson/LES420  (lesson_page) \n",
      "              - path: /mr/Lesson/LES421  (lesson_page) \n",
      "              - path: /mr/Lesson/LES422  (lesson_page) \n",
      "              - path: /mr/Lesson/LES423  (lesson_page) \n",
      "              - path: /mr/Lesson/LES424  (lesson_page) \n",
      "              - path: /mr/Lesson/LES425  (lesson_page) \n",
      "        - path: /mr/Course/Science  (topic_page) \n",
      "          children:\n",
      "           - path: /mr/Course/Science/CRS100  (subtopic_page) \n",
      "             children:\n",
      "              - path: /mr/Lesson/LES605  (lesson_page) \n",
      "              - path: /mr/Lesson/LES606  (lesson_page) \n",
      "           - path: /mr/Course/Science/CRS101  (subtopic_page) \n",
      "             children:\n",
      "              - path: /mr/Lesson/LES607  (lesson_page) \n",
      "              - path: /mr/Lesson/LES611  (lesson_page) \n",
      "           - path: /mr/Course/Science/CRS43  (subtopic_page) \n",
      "             children:\n",
      "              - path: /mr/Lesson/LES223  (lesson_page) \n",
      "              - path: /mr/Lesson/LES619  (lesson_page) \n",
      "           - path: /mr/Course/Science/CRS73  (subtopic_page) \n",
      "             children:\n",
      "              - path: /mr/Lesson/LES474  (lesson_page) \n",
      "              - path: /mr/Lesson/LES476  (lesson_page) \n",
      "           - path: /mr/Course/Science/CRS45  (subtopic_page) \n",
      "             children:\n",
      "              - path: /mr/Lesson/LES222  (lesson_page) \n",
      "           - path: /mr/Course/Science/CRS74  (subtopic_page) \n",
      "             children:\n",
      "              - path: /mr/Lesson/LES475  (lesson_page) \n",
      "              - path: /mr/Lesson/LES44  (lesson_page) \n",
      "              - path: /mr/Lesson/LES102  (lesson_page) \n",
      "           - path: /mr/Course/Science/CRS85  (subtopic_page) \n",
      "             children:\n",
      "              - path: /mr/Lesson/LES202  (lesson_page) \n",
      "              - path: /mr/Lesson/LES538  (lesson_page) \n",
      "              - path: /mr/Lesson/LES558  (lesson_page) \n",
      "        - path: /mr/Course/Std8  (topic_page) \n",
      "          children:\n",
      "           - path: /mr/Course/Std8/CRS78  (subtopic_page) \n",
      "             children:\n",
      "              - path: /mr/Lesson/LES498  (lesson_page) \n",
      "              - path: /mr/Lesson/LES499  (lesson_page) \n",
      "              - path: /mr/Lesson/LES500  (lesson_page) \n",
      "              - path: /mr/Lesson/LES501  (lesson_page) \n",
      "              - path: /mr/Lesson/LES502  (lesson_page) \n",
      "              - path: /mr/Lesson/LES503  (lesson_page) \n",
      "              - path: /mr/Lesson/LES504  (lesson_page) \n",
      "              - path: /mr/Lesson/LES505  (lesson_page) \n",
      "              - path: /mr/Lesson/LES506  (lesson_page) \n",
      "              - path: /mr/Lesson/LES507  (lesson_page) \n",
      "           - path: /mr/Course/Std8/CRS77  (subtopic_page) \n",
      "             children:\n",
      "              - path: /mr/Lesson/LES483  (lesson_page) \n",
      "              - path: /mr/Lesson/LES484  (lesson_page) \n",
      "              - path: /mr/Lesson/LES485  (lesson_page) \n",
      "              - path: /mr/Lesson/LES486  (lesson_page) \n",
      "              - path: /mr/Lesson/LES487  (lesson_page) \n",
      "              - path: /mr/Lesson/LES488  (lesson_page) \n",
      "              - path: /mr/Lesson/LES489  (lesson_page) \n",
      "              - path: /mr/Lesson/LES490  (lesson_page) \n",
      "              - path: /mr/Lesson/LES491  (lesson_page) \n",
      "              - path: /mr/Lesson/LES492  (lesson_page) \n",
      "              - path: /mr/Lesson/LES493  (lesson_page) \n",
      "              - path: /mr/Lesson/LES494  (lesson_page) \n",
      "              - path: /mr/Lesson/LES495  (lesson_page) \n",
      "              - path: /mr/Lesson/LES496  (lesson_page) \n",
      "              - path: /mr/Lesson/LES497  (lesson_page) \n",
      "        - path: /mr/Fun  (games_page) \n",
      "        - path: /mr/Story  (games_page) \n"
     ]
    }
   ],
   "source": [
    "crawler.print_tree(mr_web_resource_tree, print_depth=4)"
   ]
  },
  {
   "cell_type": "code",
   "execution_count": null,
   "metadata": {},
   "outputs": [],
   "source": []
  },
  {
   "cell_type": "code",
   "execution_count": null,
   "metadata": {},
   "outputs": [],
   "source": []
  },
  {
   "cell_type": "code",
   "execution_count": null,
   "metadata": {},
   "outputs": [],
   "source": []
  },
  {
   "cell_type": "code",
   "execution_count": null,
   "metadata": {},
   "outputs": [],
   "source": []
  },
  {
   "cell_type": "code",
   "execution_count": null,
   "metadata": {},
   "outputs": [],
   "source": []
  },
  {
   "cell_type": "code",
   "execution_count": null,
   "metadata": {},
   "outputs": [],
   "source": []
  }
 ],
 "metadata": {
  "kernelspec": {
   "display_name": "Python 3",
   "language": "python",
   "name": "python3"
  },
  "language_info": {
   "codemirror_mode": {
    "name": "ipython",
    "version": 3
   },
   "file_extension": ".py",
   "mimetype": "text/x-python",
   "name": "python",
   "nbconvert_exporter": "python",
   "pygments_lexer": "ipython3",
   "version": "3.6.4"
  }
 },
 "nbformat": 4,
 "nbformat_minor": 2
}
