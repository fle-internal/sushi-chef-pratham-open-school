{
 "cells": [
  {
   "cell_type": "code",
   "execution_count": 17,
   "metadata": {},
   "outputs": [],
   "source": [
    "import re\n",
    "\n",
    "\n",
    "s = 'http://repository.prathamopenschool.org/Zip/Hindi/NumberKas_HI_Hindi.zip'\n",
    "s2 = 'http://repository.prathamopenschool.org/Zip/Assamese/NumberKas_AS_Assamese.zip'\n",
    "\n",
    "pat_str = 'http://repository\\.prathamopenschool\\.org/Zip/.*/NumberKas_.*\\.zip'\n",
    "pat = re.compile(pat_str)"
   ]
  },
  {
   "cell_type": "code",
   "execution_count": 4,
   "metadata": {},
   "outputs": [],
   "source": []
  },
  {
   "cell_type": "code",
   "execution_count": 19,
   "metadata": {},
   "outputs": [
    {
     "data": {
      "text/plain": [
       "'http://repository.prathamopenschool.org/Zip/Hindi/NumberKas_HI_Hindi.zip'"
      ]
     },
     "execution_count": 19,
     "metadata": {},
     "output_type": "execute_result"
    }
   ],
   "source": [
    "m = pat.match(s)\n",
    "m.group(0)"
   ]
  },
  {
   "cell_type": "code",
   "execution_count": 18,
   "metadata": {},
   "outputs": [
    {
     "data": {
      "text/plain": [
       "'http://repository.prathamopenschool.org/Zip/Assamese/NumberKas_AS_Assamese.zip'"
      ]
     },
     "execution_count": 18,
     "metadata": {},
     "output_type": "execute_result"
    }
   ],
   "source": [
    "m2 = pat.match(s2)\n",
    "m2.group(0)\n"
   ]
  },
  {
   "cell_type": "code",
   "execution_count": 1,
   "metadata": {},
   "outputs": [],
   "source": [
    "from chef import PRADIGI_CORRECTIONS_LIST, CORRECTIONS_SOURCE_URL_PAT_KEY"
   ]
  },
  {
   "cell_type": "code",
   "execution_count": 2,
   "metadata": {},
   "outputs": [
    {
     "data": {
      "text/plain": [
       "[{'Correction ID': '1',\n",
       "  'Bug Type': 'ENTER FULLSCREEN',\n",
       "  'Game Name': 'Number kas',\n",
       "  'Source URL (Regular Expression)': re.compile(r'http://repository.prathamopenschool.org/Zip/.*/NumberKas_.*.zip',\n",
       "  re.UNICODE),\n",
       "  'Action': 'ADD MARGIN-TOP',\n",
       "  'Comment': 'The button ENTER/EXIT FULLSCREEN hides part of content'},\n",
       " {'Correction ID': '18',\n",
       "  'Bug Type': 'ENTER FULLSCREEN',\n",
       "  'Game Name': 'multiple',\n",
       "  'Source URL (Regular Expression)': re.compile(r'http://www.prathamopenschool.org/CourseContent/Games/Mathematics.zip',\n",
       "  re.UNICODE),\n",
       "  'Action': 'ADD MARGIN-TOP',\n",
       "  'Comment': 'All the math games from Mathemtics.zip in that folder have this issue'},\n",
       " {'Correction ID': '13',\n",
       "  'Bug Type': 'ENTER FULLSCREEN',\n",
       "  'Game Name': 'Chitra Vichitra',\n",
       "  'Source URL (Regular Expression)': re.compile(r'http://repository.prathamopenschool.org/Zip/.*/ChitraVichitra_.*.zip',\n",
       "  re.UNICODE),\n",
       "  'Action': 'ADD MARGIN-TOP',\n",
       "  'Comment': None},\n",
       " {'Correction ID': '42',\n",
       "  'Bug Type': 'ENTER FULLSCREEN',\n",
       "  'Game Name': 'Colour/Rang (3-6)',\n",
       "  'Source URL (Regular Expression)': re.compile(r'http://repository.prathamopenschool.org/Zip/.*/Coloring_.*.zip',\n",
       "  re.UNICODE),\n",
       "  'Action': 'ADD MARGIN-TOP',\n",
       "  'Comment': None},\n",
       " {'Correction ID': '3',\n",
       "  'Bug Type': 'MISSING AUDIO',\n",
       "  'Game Name': 'Crumble Tumble',\n",
       "  'Source URL (Regular Expression)': re.compile(r'http://repository.prathamopenschool.org/Zip/English/CrumbleTumble_English.zip',\n",
       "  re.UNICODE),\n",
       "  'Action': 'SKIP GAME',\n",
       "  'Comment': \"Can't hear the audio\"},\n",
       " {'Correction ID': '6',\n",
       "  'Bug Type': 'Android API needed',\n",
       "  'Game Name': 'Jumble Tumble',\n",
       "  'Source URL (Regular Expression)': re.compile(r'http://repository.prathamopenschool.org/Zip/.*/JumbleTumble_.*.zip',\n",
       "  re.UNICODE),\n",
       "  'Action': 'SKIP GAME',\n",
       "  'Comment': \"Can't hear the audio or click on the next button Android.playTts(sentence.sentence);\"},\n",
       " {'Correction ID': '8',\n",
       "  'Bug Type': 'Android API needed',\n",
       "  'Game Name': 'You Said',\n",
       "  'Source URL (Regular Expression)': re.compile(r'http://repository.prathamopenschool.org/Zip/English/YouSaid_English.zip',\n",
       "  re.UNICODE),\n",
       "  'Action': 'SKIP GAME',\n",
       "  'Comment': 'Error at Object.YouSaid.record (YouSaidScript.js:108)'},\n",
       " {'Correction ID': '10',\n",
       "  'Bug Type': 'Android API needed',\n",
       "  'Game Name': 'Count and Know',\n",
       "  'Source URL (Regular Expression)': re.compile(r'http://repository.prathamopenschool.org/Zip/English/CountAndKnow_English.zip',\n",
       "  re.UNICODE),\n",
       "  'Action': 'SKIP GAME',\n",
       "  'Comment': None},\n",
       " {'Correction ID': '11',\n",
       "  'Bug Type': 'Android API needed',\n",
       "  'Game Name': 'Count It',\n",
       "  'Source URL (Regular Expression)': re.compile(r'http://repository.prathamopenschool.org/Zip/English/CountIt_English.zip',\n",
       "  re.UNICODE),\n",
       "  'Action': 'SKIP GAME',\n",
       "  'Comment': None},\n",
       " {'Correction ID': '26',\n",
       "  'Bug Type': 'Android API needed',\n",
       "  'Game Name': 'Letterbox',\n",
       "  'Source URL (Regular Expression)': re.compile(r'http://repository.prathamopenschool.org/Zip/.*/LetterBox_.*.zip',\n",
       "  re.UNICODE),\n",
       "  'Action': 'SKIP GAME',\n",
       "  'Comment': None},\n",
       " {'Correction ID': '28',\n",
       "  'Bug Type': \"Clicking on link doesn't lead to next frame\",\n",
       "  'Game Name': 'Translation Machine 1',\n",
       "  'Source URL (Regular Expression)': re.compile(r'http://www.prathamopenschool.org/CourseContent/Games/TranslateHindiEnglish.zip',\n",
       "  re.UNICODE),\n",
       "  'Action': 'SKIP GAME',\n",
       "  'Comment': \"Uncaught DOMException: Failed to read the 'localStorage' property from 'Window': The document is sandboxed and lacks the 'allow-same-origin' flag.\"},\n",
       " {'Correction ID': '29',\n",
       "  'Bug Type': \"Clicking on link doesn't lead to next frame\",\n",
       "  'Game Name': 'Translation Machine 2',\n",
       "  'Source URL (Regular Expression)': re.compile(r'http://www.prathamopenschool.org/CourseContent/Games/TranslateHindiEnglishLevel2.zip',\n",
       "  re.UNICODE),\n",
       "  'Action': 'SKIP GAME',\n",
       "  'Comment': \"Uncaught DOMException: Failed to read the 'localStorage' property from 'Window': The document is sandboxed and lacks the 'allow-same-origin' flag.\"},\n",
       " {'Correction ID': '30',\n",
       "  'Bug Type': \"Clicking on link doesn't lead to next frame\",\n",
       "  'Game Name': 'Translation Machine 3',\n",
       "  'Source URL (Regular Expression)': re.compile(r'http://www.prathamopenschool.org/CourseContent/Games/TranslateHindiEnglishLevel3.zip',\n",
       "  re.UNICODE),\n",
       "  'Action': 'SKIP GAME',\n",
       "  'Comment': 'Uncaught DOMException (see screenshot for error message)'},\n",
       " {'Correction ID': '31',\n",
       "  'Bug Type': \"Clicking on link doesn't lead to next frame\",\n",
       "  'Game Name': 'Translation Machine 4',\n",
       "  'Source URL (Regular Expression)': re.compile(r'http://www.prathamopenschool.org/CourseContent/Games/TranslateHindiEnglishLevel4.zip',\n",
       "  re.UNICODE),\n",
       "  'Action': 'SKIP GAME',\n",
       "  'Comment': 'Uncaught DOMException (see screenshot for error message)'},\n",
       " {'Correction ID': '32',\n",
       "  'Bug Type': 'Android API needed',\n",
       "  'Game Name': 'Jigsaw (Marathi)',\n",
       "  'Source URL (Regular Expression)': re.compile(r'http://repository.prathamopenschool.org/Zip/English/Jigsaw_English.zip',\n",
       "  re.UNICODE),\n",
       "  'Action': 'SKIP GAME',\n",
       "  'Comment': None},\n",
       " {'Correction ID': '36',\n",
       "  'Bug Type': 'Android API needed',\n",
       "  'Game Name': 'Ulat Palat Science 2 (Marathi)',\n",
       "  'Source URL (Regular Expression)': re.compile(r'http://repository.prathamopenschool.org/Zip/English/UlatPalat2Science_English.zip',\n",
       "  re.UNICODE),\n",
       "  'Action': 'SKIP GAME',\n",
       "  'Comment': None},\n",
       " {'Correction ID': '37',\n",
       "  'Bug Type': 'Android API needed',\n",
       "  'Game Name': 'Ulat Palat Science (Marathi)',\n",
       "  'Source URL (Regular Expression)': re.compile(r'http://repository.prathamopenschool.org/Zip/English/UlatPalatScience_English.zip',\n",
       "  re.UNICODE),\n",
       "  'Action': 'SKIP GAME',\n",
       "  'Comment': None},\n",
       " {'Correction ID': '49',\n",
       "  'Bug Type': 'Android API needed',\n",
       "  'Game Name': 'Flip it',\n",
       "  'Source URL (Regular Expression)': re.compile(r'http://repository.prathamopenschool.org/Zip/English/FlipIt_English.zip',\n",
       "  re.UNICODE),\n",
       "  'Action': 'SKIP GAME',\n",
       "  'Comment': None}]"
      ]
     },
     "execution_count": 2,
     "metadata": {},
     "output_type": "execute_result"
    }
   ],
   "source": [
    "PRADIGI_CORRECTIONS_LIST"
   ]
  },
  {
   "cell_type": "code",
   "execution_count": 3,
   "metadata": {},
   "outputs": [
    {
     "name": "stdout",
     "output_type": "stream",
     "text": [
      "re.compile('http://repository.prathamopenschool.org/Zip/.*/NumberKas_.*.zip')\n",
      "re.compile('http://www.prathamopenschool.org/CourseContent/Games/Mathematics.zip')\n",
      "re.compile('http://repository.prathamopenschool.org/Zip/.*/ChitraVichitra_.*.zip')\n",
      "re.compile('http://repository.prathamopenschool.org/Zip/.*/Coloring_.*.zip')\n",
      "re.compile('http://repository.prathamopenschool.org/Zip/English/CrumbleTumble_English.zip')\n",
      "re.compile('http://repository.prathamopenschool.org/Zip/.*/JumbleTumble_.*.zip')\n",
      "re.compile('http://repository.prathamopenschool.org/Zip/English/YouSaid_English.zip')\n",
      "re.compile('http://repository.prathamopenschool.org/Zip/English/CountAndKnow_English.zip')\n",
      "re.compile('http://repository.prathamopenschool.org/Zip/English/CountIt_English.zip')\n",
      "re.compile('http://repository.prathamopenschool.org/Zip/.*/LetterBox_.*.zip')\n",
      "re.compile('http://www.prathamopenschool.org/CourseContent/Games/TranslateHindiEnglish.zip')\n",
      "re.compile('http://www.prathamopenschool.org/CourseContent/Games/TranslateHindiEnglishLevel2.zip')\n",
      "re.compile('http://www.prathamopenschool.org/CourseContent/Games/TranslateHindiEnglishLevel3.zip')\n",
      "re.compile('http://www.prathamopenschool.org/CourseContent/Games/TranslateHindiEnglishLevel4.zip')\n",
      "re.compile('http://repository.prathamopenschool.org/Zip/English/Jigsaw_English.zip')\n",
      "re.compile('http://repository.prathamopenschool.org/Zip/English/UlatPalat2Science_English.zip')\n",
      "re.compile('http://repository.prathamopenschool.org/Zip/English/UlatPalatScience_English.zip')\n",
      "re.compile('http://repository.prathamopenschool.org/Zip/English/FlipIt_English.zip')\n"
     ]
    }
   ],
   "source": [
    "import re\n",
    "for row in PRADIGI_CORRECTIONS_LIST:\n",
    "    print(row[CORRECTIONS_SOURCE_URL_PAT_KEY])"
   ]
  },
  {
   "cell_type": "code",
   "execution_count": 6,
   "metadata": {},
   "outputs": [
    {
     "ename": "error",
     "evalue": "multiple repeat at position 19",
     "output_type": "error",
     "traceback": [
      "\u001b[0;31m---------------------------------------------------------------------------\u001b[0m",
      "\u001b[0;31merror\u001b[0m                                     Traceback (most recent call last)",
      "\u001b[0;32m<ipython-input-6-06e597c6a924>\u001b[0m in \u001b[0;36m<module>\u001b[0;34m()\u001b[0m\n\u001b[0;32m----> 1\u001b[0;31m \u001b[0mre\u001b[0m\u001b[0;34m.\u001b[0m\u001b[0mcompile\u001b[0m\u001b[0;34m(\u001b[0m\u001b[0;34m'alskjalskj alkja3.**['\u001b[0m\u001b[0;34m)\u001b[0m\u001b[0;34m\u001b[0m\u001b[0m\n\u001b[0m",
      "\u001b[0;32m~/Projects/FLECode/sushi-chef-pradigi/venv/lib/python3.6/re.py\u001b[0m in \u001b[0;36mcompile\u001b[0;34m(pattern, flags)\u001b[0m\n\u001b[1;32m    231\u001b[0m \u001b[0;32mdef\u001b[0m \u001b[0mcompile\u001b[0m\u001b[0;34m(\u001b[0m\u001b[0mpattern\u001b[0m\u001b[0;34m,\u001b[0m \u001b[0mflags\u001b[0m\u001b[0;34m=\u001b[0m\u001b[0;36m0\u001b[0m\u001b[0;34m)\u001b[0m\u001b[0;34m:\u001b[0m\u001b[0;34m\u001b[0m\u001b[0m\n\u001b[1;32m    232\u001b[0m     \u001b[0;34m\"Compile a regular expression pattern, returning a pattern object.\"\u001b[0m\u001b[0;34m\u001b[0m\u001b[0m\n\u001b[0;32m--> 233\u001b[0;31m     \u001b[0;32mreturn\u001b[0m \u001b[0m_compile\u001b[0m\u001b[0;34m(\u001b[0m\u001b[0mpattern\u001b[0m\u001b[0;34m,\u001b[0m \u001b[0mflags\u001b[0m\u001b[0;34m)\u001b[0m\u001b[0;34m\u001b[0m\u001b[0m\n\u001b[0m\u001b[1;32m    234\u001b[0m \u001b[0;34m\u001b[0m\u001b[0m\n\u001b[1;32m    235\u001b[0m \u001b[0;32mdef\u001b[0m \u001b[0mpurge\u001b[0m\u001b[0;34m(\u001b[0m\u001b[0;34m)\u001b[0m\u001b[0;34m:\u001b[0m\u001b[0;34m\u001b[0m\u001b[0m\n",
      "\u001b[0;32m~/Projects/FLECode/sushi-chef-pradigi/venv/lib/python3.6/re.py\u001b[0m in \u001b[0;36m_compile\u001b[0;34m(pattern, flags)\u001b[0m\n\u001b[1;32m    299\u001b[0m     \u001b[0;32mif\u001b[0m \u001b[0;32mnot\u001b[0m \u001b[0msre_compile\u001b[0m\u001b[0;34m.\u001b[0m\u001b[0misstring\u001b[0m\u001b[0;34m(\u001b[0m\u001b[0mpattern\u001b[0m\u001b[0;34m)\u001b[0m\u001b[0;34m:\u001b[0m\u001b[0;34m\u001b[0m\u001b[0m\n\u001b[1;32m    300\u001b[0m         \u001b[0;32mraise\u001b[0m \u001b[0mTypeError\u001b[0m\u001b[0;34m(\u001b[0m\u001b[0;34m\"first argument must be string or compiled pattern\"\u001b[0m\u001b[0;34m)\u001b[0m\u001b[0;34m\u001b[0m\u001b[0m\n\u001b[0;32m--> 301\u001b[0;31m     \u001b[0mp\u001b[0m \u001b[0;34m=\u001b[0m \u001b[0msre_compile\u001b[0m\u001b[0;34m.\u001b[0m\u001b[0mcompile\u001b[0m\u001b[0;34m(\u001b[0m\u001b[0mpattern\u001b[0m\u001b[0;34m,\u001b[0m \u001b[0mflags\u001b[0m\u001b[0;34m)\u001b[0m\u001b[0;34m\u001b[0m\u001b[0m\n\u001b[0m\u001b[1;32m    302\u001b[0m     \u001b[0;32mif\u001b[0m \u001b[0;32mnot\u001b[0m \u001b[0;34m(\u001b[0m\u001b[0mflags\u001b[0m \u001b[0;34m&\u001b[0m \u001b[0mDEBUG\u001b[0m\u001b[0;34m)\u001b[0m\u001b[0;34m:\u001b[0m\u001b[0;34m\u001b[0m\u001b[0m\n\u001b[1;32m    303\u001b[0m         \u001b[0;32mif\u001b[0m \u001b[0mlen\u001b[0m\u001b[0;34m(\u001b[0m\u001b[0m_cache\u001b[0m\u001b[0;34m)\u001b[0m \u001b[0;34m>=\u001b[0m \u001b[0m_MAXCACHE\u001b[0m\u001b[0;34m:\u001b[0m\u001b[0;34m\u001b[0m\u001b[0m\n",
      "\u001b[0;32m~/Projects/FLECode/sushi-chef-pradigi/venv/lib/python3.6/sre_compile.py\u001b[0m in \u001b[0;36mcompile\u001b[0;34m(p, flags)\u001b[0m\n\u001b[1;32m    560\u001b[0m     \u001b[0;32mif\u001b[0m \u001b[0misstring\u001b[0m\u001b[0;34m(\u001b[0m\u001b[0mp\u001b[0m\u001b[0;34m)\u001b[0m\u001b[0;34m:\u001b[0m\u001b[0;34m\u001b[0m\u001b[0m\n\u001b[1;32m    561\u001b[0m         \u001b[0mpattern\u001b[0m \u001b[0;34m=\u001b[0m \u001b[0mp\u001b[0m\u001b[0;34m\u001b[0m\u001b[0m\n\u001b[0;32m--> 562\u001b[0;31m         \u001b[0mp\u001b[0m \u001b[0;34m=\u001b[0m \u001b[0msre_parse\u001b[0m\u001b[0;34m.\u001b[0m\u001b[0mparse\u001b[0m\u001b[0;34m(\u001b[0m\u001b[0mp\u001b[0m\u001b[0;34m,\u001b[0m \u001b[0mflags\u001b[0m\u001b[0;34m)\u001b[0m\u001b[0;34m\u001b[0m\u001b[0m\n\u001b[0m\u001b[1;32m    563\u001b[0m     \u001b[0;32melse\u001b[0m\u001b[0;34m:\u001b[0m\u001b[0;34m\u001b[0m\u001b[0m\n\u001b[1;32m    564\u001b[0m         \u001b[0mpattern\u001b[0m \u001b[0;34m=\u001b[0m \u001b[0;32mNone\u001b[0m\u001b[0;34m\u001b[0m\u001b[0m\n",
      "\u001b[0;32m~/Projects/FLECode/sushi-chef-pradigi/venv/lib/python3.6/sre_parse.py\u001b[0m in \u001b[0;36mparse\u001b[0;34m(str, flags, pattern)\u001b[0m\n\u001b[1;32m    853\u001b[0m \u001b[0;34m\u001b[0m\u001b[0m\n\u001b[1;32m    854\u001b[0m     \u001b[0;32mtry\u001b[0m\u001b[0;34m:\u001b[0m\u001b[0;34m\u001b[0m\u001b[0m\n\u001b[0;32m--> 855\u001b[0;31m         \u001b[0mp\u001b[0m \u001b[0;34m=\u001b[0m \u001b[0m_parse_sub\u001b[0m\u001b[0;34m(\u001b[0m\u001b[0msource\u001b[0m\u001b[0;34m,\u001b[0m \u001b[0mpattern\u001b[0m\u001b[0;34m,\u001b[0m \u001b[0mflags\u001b[0m \u001b[0;34m&\u001b[0m \u001b[0mSRE_FLAG_VERBOSE\u001b[0m\u001b[0;34m,\u001b[0m \u001b[0;36m0\u001b[0m\u001b[0;34m)\u001b[0m\u001b[0;34m\u001b[0m\u001b[0m\n\u001b[0m\u001b[1;32m    856\u001b[0m     \u001b[0;32mexcept\u001b[0m \u001b[0mVerbose\u001b[0m\u001b[0;34m:\u001b[0m\u001b[0;34m\u001b[0m\u001b[0m\n\u001b[1;32m    857\u001b[0m         \u001b[0;31m# the VERBOSE flag was switched on inside the pattern.  to be\u001b[0m\u001b[0;34m\u001b[0m\u001b[0;34m\u001b[0m\u001b[0m\n",
      "\u001b[0;32m~/Projects/FLECode/sushi-chef-pradigi/venv/lib/python3.6/sre_parse.py\u001b[0m in \u001b[0;36m_parse_sub\u001b[0;34m(source, state, verbose, nested)\u001b[0m\n\u001b[1;32m    414\u001b[0m     \u001b[0;32mwhile\u001b[0m \u001b[0;32mTrue\u001b[0m\u001b[0;34m:\u001b[0m\u001b[0;34m\u001b[0m\u001b[0m\n\u001b[1;32m    415\u001b[0m         itemsappend(_parse(source, state, verbose, nested + 1,\n\u001b[0;32m--> 416\u001b[0;31m                            not nested and not items))\n\u001b[0m\u001b[1;32m    417\u001b[0m         \u001b[0;32mif\u001b[0m \u001b[0;32mnot\u001b[0m \u001b[0msourcematch\u001b[0m\u001b[0;34m(\u001b[0m\u001b[0;34m\"|\"\u001b[0m\u001b[0;34m)\u001b[0m\u001b[0;34m:\u001b[0m\u001b[0;34m\u001b[0m\u001b[0m\n\u001b[1;32m    418\u001b[0m             \u001b[0;32mbreak\u001b[0m\u001b[0;34m\u001b[0m\u001b[0m\n",
      "\u001b[0;32m~/Projects/FLECode/sushi-chef-pradigi/venv/lib/python3.6/sre_parse.py\u001b[0m in \u001b[0;36m_parse\u001b[0;34m(source, state, verbose, nested, first)\u001b[0m\n\u001b[1;32m    617\u001b[0m             \u001b[0;32mif\u001b[0m \u001b[0mitem\u001b[0m\u001b[0;34m[\u001b[0m\u001b[0;36m0\u001b[0m\u001b[0;34m]\u001b[0m\u001b[0;34m[\u001b[0m\u001b[0;36m0\u001b[0m\u001b[0;34m]\u001b[0m \u001b[0;32min\u001b[0m \u001b[0m_REPEATCODES\u001b[0m\u001b[0;34m:\u001b[0m\u001b[0;34m\u001b[0m\u001b[0m\n\u001b[1;32m    618\u001b[0m                 raise source.error(\"multiple repeat\",\n\u001b[0;32m--> 619\u001b[0;31m                                    source.tell() - here + len(this))\n\u001b[0m\u001b[1;32m    620\u001b[0m             \u001b[0;32mif\u001b[0m \u001b[0msourcematch\u001b[0m\u001b[0;34m(\u001b[0m\u001b[0;34m\"?\"\u001b[0m\u001b[0;34m)\u001b[0m\u001b[0;34m:\u001b[0m\u001b[0;34m\u001b[0m\u001b[0m\n\u001b[1;32m    621\u001b[0m                 \u001b[0msubpattern\u001b[0m\u001b[0;34m[\u001b[0m\u001b[0;34m-\u001b[0m\u001b[0;36m1\u001b[0m\u001b[0;34m]\u001b[0m \u001b[0;34m=\u001b[0m \u001b[0;34m(\u001b[0m\u001b[0mMIN_REPEAT\u001b[0m\u001b[0;34m,\u001b[0m \u001b[0;34m(\u001b[0m\u001b[0mmin\u001b[0m\u001b[0;34m,\u001b[0m \u001b[0mmax\u001b[0m\u001b[0;34m,\u001b[0m \u001b[0mitem\u001b[0m\u001b[0;34m)\u001b[0m\u001b[0;34m)\u001b[0m\u001b[0;34m\u001b[0m\u001b[0m\n",
      "\u001b[0;31merror\u001b[0m: multiple repeat at position 19"
     ]
    }
   ],
   "source": []
  },
  {
   "cell_type": "code",
   "execution_count": null,
   "metadata": {},
   "outputs": [],
   "source": [
    "pat.fi"
   ]
  }
 ],
 "metadata": {
  "kernelspec": {
   "display_name": "Python 3",
   "language": "python",
   "name": "python3"
  },
  "language_info": {
   "codemirror_mode": {
    "name": "ipython",
    "version": 3
   },
   "file_extension": ".py",
   "mimetype": "text/x-python",
   "name": "python",
   "nbconvert_exporter": "python",
   "pygments_lexer": "ipython3",
   "version": "3.6.5"
  }
 },
 "nbformat": 4,
 "nbformat_minor": 2
}
