{
 "cells": [
  {
   "cell_type": "code",
   "execution_count": 1,
   "metadata": {},
   "outputs": [],
   "source": [
    "import json"
   ]
  },
  {
   "cell_type": "code",
   "execution_count": null,
   "metadata": {},
   "outputs": [],
   "source": []
  },
  {
   "cell_type": "code",
   "execution_count": 2,
   "metadata": {},
   "outputs": [],
   "source": [
    "#"
   ]
  },
  {
   "cell_type": "code",
   "execution_count": 2,
   "metadata": {},
   "outputs": [
    {
     "name": "stderr",
     "output_type": "stream",
     "text": [
      "Unrecognized structure row {'Age Group': '14 and above', 'Subject': 'CRS128', 'Resource Type': 'Website Resources', 'Name': None, 'Name on gamerepo (before lang underscore)': None, 'Take From Repo': None, 'Use Only In': 'Hindi', 'Pratham': None, 'LE Comments': 'Hospitality'}\n",
      "Unrecognized structure row {'Age Group': '14 and above', 'Subject': 'CRS129', 'Resource Type': 'Website Resources', 'Name': None, 'Name on gamerepo (before lang underscore)': None, 'Take From Repo': None, 'Use Only In': 'Hindi', 'Pratham': None, 'LE Comments': 'Automobile'}\n",
      "Unrecognized structure row {'Age Group': '14 and above', 'Subject': 'CRS130', 'Resource Type': 'Website Resources', 'Name': None, 'Name on gamerepo (before lang underscore)': None, 'Take From Repo': None, 'Use Only In': 'Hindi', 'Pratham': None, 'LE Comments': 'Beauty'}\n",
      "Unrecognized structure row {'Age Group': '14 and above', 'Subject': 'CRS131', 'Resource Type': 'Website Resources', 'Name': None, 'Name on gamerepo (before lang underscore)': None, 'Take From Repo': None, 'Use Only In': 'Hindi', 'Pratham': None, 'LE Comments': 'Electric'}\n"
     ]
    },
    {
     "name": "stdout",
     "output_type": "stream",
     "text": [
      "Unrecognized corrections row {'Correction ID': '6', 'Bug Type': 'Android API needed', 'Game Name': 'Jumble Tumble', 'Source URL (Regular Expression)': 'http://repository.prathamopenschool.org/Zip/.*/JumbleTumble_.*.zip', 'Action': 'FIXED', 'Comment': \"Can't hear the audio or click on the next button Android.playTts(sentence.sentence);\"}\n",
      "Unrecognized corrections row {'Correction ID': '10', 'Bug Type': 'Android API needed', 'Game Name': 'Count and Know', 'Source URL (Regular Expression)': 'http://repository.prathamopenschool.org/Zip/English/CountAndKnow_English.zip', 'Action': 'FIXED', 'Comment': None}\n",
      "Unrecognized corrections row {'Correction ID': '11', 'Bug Type': 'Android API needed', 'Game Name': 'Count It', 'Source URL (Regular Expression)': 'http://repository.prathamopenschool.org/Zip/English/CountIt_English.zip', 'Action': 'FIXED', 'Comment': None}\n",
      "Unrecognized corrections row {'Correction ID': '36', 'Bug Type': 'Android API needed', 'Game Name': 'Ulat Palat Science 2 (Marathi)', 'Source URL (Regular Expression)': 'http://repository.prathamopenschool.org/Zip/Marathi/UlatPalat2Science_Marathi.zip', 'Action': 'FIXED', 'Comment': None}\n",
      "Unrecognized corrections row {'Correction ID': '37', 'Bug Type': 'Android API needed', 'Game Name': 'Ulat Palat Science (Marathi)', 'Source URL (Regular Expression)': 'http://repository.prathamopenschool.org/Zip/Marathi/UlatPalatScience_Marathi.zip', 'Action': 'FIXED', 'Comment': None}\n"
     ]
    },
    {
     "name": "stderr",
     "output_type": "stream",
     "text": [
      "Unrecognized structure row {'Age Group': '14 and above', 'Subject': 'CRS128', 'Resource Type': 'Website Resources', 'Name': None, 'Name on gamerepo (before lang underscore)': None, 'Take From Repo': None, 'Use Only In': 'Hindi', 'Pratham': None, 'LE Comments': 'Hospitality'}\n",
      "Unrecognized structure row {'Age Group': '14 and above', 'Subject': 'CRS129', 'Resource Type': 'Website Resources', 'Name': None, 'Name on gamerepo (before lang underscore)': None, 'Take From Repo': None, 'Use Only In': 'Hindi', 'Pratham': None, 'LE Comments': 'Automobile'}\n",
      "Unrecognized structure row {'Age Group': '14 and above', 'Subject': 'CRS130', 'Resource Type': 'Website Resources', 'Name': None, 'Name on gamerepo (before lang underscore)': None, 'Take From Repo': None, 'Use Only In': 'Hindi', 'Pratham': None, 'LE Comments': 'Beauty'}\n",
      "Unrecognized structure row {'Age Group': '14 and above', 'Subject': 'CRS131', 'Resource Type': 'Website Resources', 'Name': None, 'Name on gamerepo (before lang underscore)': None, 'Take From Repo': None, 'Use Only In': 'Hindi', 'Pratham': None, 'LE Comments': 'Electric'}\n"
     ]
    }
   ],
   "source": [
    "from chef import extract_website_games_from_tree"
   ]
  },
  {
   "cell_type": "code",
   "execution_count": 3,
   "metadata": {},
   "outputs": [
    {
     "name": "stdout",
     "output_type": "stream",
     "text": [
      "http://www.prathamopenschool.org/CourseContent/Games/Mathematics.zip\n",
      "http://www.prathamopenschool.org/CourseContent/Games/Mathematics.zip\n",
      "http://www.prathamopenschool.org/CourseContent/Games/Mathematics.zip\n",
      "http://www.prathamopenschool.org/CourseContent/Games/Mathematics.zip\n",
      "http://www.prathamopenschool.org/CourseContent/Games/Mathematics.zip\n",
      "http://www.prathamopenschool.org/CourseContent/Games/Mathematics.zip\n",
      "http://www.prathamopenschool.org/CourseContent/Games/Mathematics.zip\n",
      "http://www.prathamopenschool.org/CourseContent/Games/Mathematics.zip\n",
      "http://www.prathamopenschool.org/CourseContent/Games/Mathematics.zip\n",
      "http://www.prathamopenschool.org/CourseContent/Games/Mathematics.zip\n",
      "http://www.prathamopenschool.org/CourseContent/Games/Mathematics.zip\n",
      "http://www.prathamopenschool.org/CourseContent/Games/Mathematics.zip\n",
      "http://www.prathamopenschool.org/CourseContent/Games/Gunaj_Apvartya(Hindi).zip\n",
      "http://www.prathamopenschool.org/CourseContent/Games/FactorsGameNew_H.zip\n",
      "http://www.prathamopenschool.org/CourseContent/Games/Gunankhand_Apvartak(Hindi).zip\n",
      "http://www.prathamopenschool.org/CourseContent/Games/MathsBucketGame_H.zip\n",
      "http://www.prathamopenschool.org/CourseContent/Games/primeFactorsHindi.zip\n",
      "http://www.prathamopenschool.org/CourseContent/Games/M.S(Hindi).zip\n",
      "http://www.prathamopenschool.org/CourseContent/Games/MathsBucketGame_H.zip\n",
      "http://www.prathamopenschool.org/CourseContent/Games/primeFactorsHindi.zip\n",
      "http://www.prathamopenschool.org/CourseContent/Games/M.S(Hindi).zip\n",
      "http://www.prathamopenschool.org/CourseContent/Games/L.S(Hindi).zip\n",
      "http://www.prathamopenschool.org/CourseContent/Games/newFractionGame_H.zip\n",
      "http://www.prathamopenschool.org/CourseContent/Games/Mathematics.zip\n",
      "http://www.prathamopenschool.org/CourseContent/Games/Mathematics.zip\n",
      "http://www.prathamopenschool.org/CourseContent/Games/PlaceValueHindi.zip\n",
      "http://www.prathamopenschool.org/CourseContent/Games/Mathematics.zip\n",
      "http://www.prathamopenschool.org/CourseContent/Games/matchWords_H.zip\n",
      "http://www.prathamopenschool.org/CourseContent/Games/TranslateHindiEnglish.zip\n",
      "http://www.prathamopenschool.org/CourseContent/Games/TranslateHindiEnglishLevel2.zip\n",
      "http://www.prathamopenschool.org/CourseContent/Games/TranslateHindiEnglishLevel3.zip\n",
      "http://www.prathamopenschool.org/CourseContent/Games/Build-a-Sentence(English).zip\n",
      "http://www.prathamopenschool.org/CourseContent/Games/TranslateHindiEnglishLevel4.zip\n",
      "http://www.prathamopenschool.org/CourseContent/Games/matchWords_H.zip\n",
      "http://www.prathamopenschool.org/CourseContent/Games/vanishingSentenceGame_H.zip\n",
      "http://www.prathamopenschool.org/CourseContent/Games/PointMeOut.zip\n",
      "http://www.prathamopenschool.org/CourseContent/Games/GuessWho.zip\n",
      "http://www.prathamopenschool.org/CourseContent/Games/ChitraVichitra.zip\n",
      "http://www.prathamopenschool.org/CourseContent/Games/CityOfStories.zip\n",
      "http://www.prathamopenschool.org/CourseContent/Games/DingDangDing.zip\n",
      "http://www.prathamopenschool.org/CourseContent/Games/Golmaal.zip\n",
      "http://www.prathamopenschool.org/CourseContent/Games/RailGadi.zip\n",
      "http://www.prathamopenschool.org/CourseContent/Games/ABCD.zip\n",
      "http://www.prathamopenschool.org/CourseContent/Games/AwazPehchano.zip\n",
      "http://www.prathamopenschool.org/CourseContent/Games/CountAndKnow.zip\n",
      "http://www.prathamopenschool.org/CourseContent/Games/CountIt.zip\n",
      "http://www.prathamopenschool.org/CourseContent/Games/sorting diet.zip\n",
      "http://www.prathamopenschool.org/CourseContent/Games/sorting diet.zip\n",
      "http://www.prathamopenschool.org/CourseContent/Games/DietQuiz(HindiVersion).zip\n",
      "http://www.prathamopenschool.org/CourseContent/Games/DietQuiz(HindiVersion).zip\n",
      "http://www.prathamopenschool.org/CourseContent/Games/DietQuiz(HindiVersion).zip\n",
      "http://www.prathamopenschool.org/CourseContent/Games/ScienceBucketGame_H.zip\n",
      "http://www.prathamopenschool.org/CourseContent/Games/ScienceBucketGame_H.zip\n",
      "http://www.prathamopenschool.org/CourseContent/Games/planetGame_H.zip\n",
      "http://www.prathamopenschool.org/CourseContent/Games/Bone Game(Dr. Haddi)_H.zip\n",
      "http://www.prathamopenschool.org/CourseContent/Games/phet.zip\n",
      "http://www.prathamopenschool.org/CourseContent/Games/phet.zip\n",
      "http://www.prathamopenschool.org/CourseContent/Games/AksharMatra_HI.zip\n",
      "http://www.prathamopenschool.org/CourseContent/Games/Jigsaw_HI.zip\n",
      "http://www.prathamopenschool.org/CourseContent/Games/AtulyaBharat_HI.zip\n",
      "http://www.prathamopenschool.org/CourseContent/Games/timeglider_light_hn.zip\n",
      "http://www.prathamopenschool.org/CourseContent/Games/phet.zip\n",
      "http://www.prathamopenschool.org/CourseContent/Games/Palat_HI.zip\n",
      "http://www.prathamopenschool.org/CourseContent/Games/Cricket_HI.zip\n",
      "http://www.prathamopenschool.org/CourseContent/Games/4 clues (Countries) Hindi.zip\n",
      "http://www.prathamopenschool.org/CourseContent/Games/sorting Game (Hindi).zip\n",
      "http://www.prathamopenschool.org/CourseContent/Games/timeglider_aircraft_hn.zip\n",
      "http://www.prathamopenschool.org/CourseContent/Games/Build-a-Sentence(Hindi).zip\n",
      "http://www.prathamopenschool.org/CourseContent/Games/timeglider_ISRO_hn.zip\n",
      "http://www.prathamopenschool.org/CourseContent/Games/ScienceBucketGame_H.zip\n",
      "http://www.prathamopenschool.org/CourseContent/Games/MathsBucketGame_H.zip\n",
      "http://www.prathamopenschool.org/CourseContent/Games/CorrectPair.zip\n",
      "http://www.prathamopenschool.org/CourseContent/Games/AgePiche_HI.zip\n",
      "http://www.prathamopenschool.org/CourseContent/Games/phet.zip\n",
      "http://www.prathamopenschool.org/CourseContent/Games/HistoryOfPlane_H.zip\n",
      "http://www.prathamopenschool.org/CourseContent/Games/Bone Game(Dr. Haddi)_H.zip\n",
      "http://www.prathamopenschool.org/CourseContent/Games/H_calculator.zip\n",
      "http://www.prathamopenschool.org/CourseContent/Games/clockGameHindi.zip\n",
      "http://www.prathamopenschool.org/CourseContent/Games/newFractionGame_H.zip\n",
      "http://www.prathamopenschool.org/CourseContent/Games/Dhoom_2_HI.zip\n",
      "http://www.prathamopenschool.org/CourseContent/Games/Awazchitra_HI.zip\n",
      "http://www.prathamopenschool.org/CourseContent/Games/Awazchitra_HI.zip\n",
      "http://www.prathamopenschool.org/CourseContent/Games/Barakhadi_HI.zip\n",
      "http://www.prathamopenschool.org/CourseContent/Games/MujhePehchano_HI.zip\n",
      "http://www.prathamopenschool.org/CourseContent/Games/TracingGame_HI.zip\n",
      "http://www.prathamopenschool.org/CourseContent/Games/Sangeet_HI.zip\n",
      "http://www.prathamopenschool.org/CourseContent/Games/NumberKas_HI.zip\n",
      "http://www.prathamopenschool.org/CourseContent/Games/Aksharkhadi_HI.zip\n",
      "http://www.prathamopenschool.org/CourseContent/Games/Coloring_HI.zip\n",
      "http://www.prathamopenschool.org/CourseContent/Games/AwazPehchano_HI.zip\n",
      "http://www.prathamopenschool.org/CourseContent/Games/ChitraVichitra_HI.zip\n",
      "http://www.prathamopenschool.org/CourseContent/Games/DingDangDing_HI.zip\n",
      "http://www.prathamopenschool.org/CourseContent/Games/RailGadi_HI.zip\n",
      "http://www.prathamopenschool.org/CourseContent/Games/Golmaal_HI.zip\n",
      "http://www.prathamopenschool.org/CourseContent/Games/BhalooKiBarakhadi_KKS_Hi.zip\n",
      "http://www.prathamopenschool.org/CourseContent/Games/CityOfStories.zip\n",
      "http://www.prathamopenschool.org/CourseContent/Games/HelloHello_KKS_HI.zip\n",
      "http://www.prathamopenschool.org/CourseContent/Games/Gubbare_KKS_Hi.zip\n",
      "http://www.prathamopenschool.org/CourseContent/Games/Judwa_KKS_Hi.zip\n",
      "http://www.prathamopenschool.org/CourseContent/Games/Dhoom_2_HI.zip\n",
      "http://www.prathamopenschool.org/CourseContent/Games/AksharMatra_HI.zip\n",
      "http://www.prathamopenschool.org/CourseContent/Games/Kahaniyaan_HI.zip\n",
      "http://www.prathamopenschool.org/CourseContent/Games/UlatPalat_HI.zip\n",
      "http://www.prathamopenschool.org/CourseContent/Games/ShabdhChitra_HI.zip\n",
      "http://www.prathamopenschool.org/CourseContent/Games/AgePiche_HI.zip\n",
      "http://www.prathamopenschool.org/CourseContent/Games/GaltiMaafSudharo.zip\n",
      "http://www.prathamopenschool.org/CourseContent/Games/LineLagao_HI.zip\n",
      "http://www.prathamopenschool.org/CourseContent/Games/Number123_HI.zip\n",
      "http://www.prathamopenschool.org/CourseContent/Games/Cricket_HI.zip\n",
      "http://www.prathamopenschool.org/CourseContent/Games/ThikThak_HI.zip\n",
      "http://www.prathamopenschool.org/CourseContent/Games/Barakhadi_HI.zip\n",
      "http://www.prathamopenschool.org/CourseContent/Games/NumberKas_HI.zip\n",
      "http://www.prathamopenschool.org/CourseContent/Games/JaanoNumber_HI.zip\n",
      "http://www.prathamopenschool.org/CourseContent/Games/Aksharkhadi_HI.zip\n"
     ]
    }
   ],
   "source": [
    "website_games = extract_website_games_from_tree('hi')\n"
   ]
  },
  {
   "cell_type": "code",
   "execution_count": 8,
   "metadata": {},
   "outputs": [
    {
     "data": {
      "text/plain": [
       "{'children': [],\n",
       " 'description': 'source_url=http://www.prathamopenschool.org/CourseContent/Games/Awazchitra_HI.zip',\n",
       " 'kind': 'PrathamZipResource',\n",
       " 'main_file': 'http://www.prathamopenschool.org/CourseContent/Games/Awazchitra_HI/index.html',\n",
       " 'source_id': 'hn/game/3536',\n",
       " 'thumbnail_url': 'http://www.prathamopenschool.org/CourseContent/coverImages/AwazChitraCover.png',\n",
       " 'title': 'आवाज़-चित्र',\n",
       " 'url': 'http://www.prathamopenschool.org/CourseContent/Games/Awazchitra_HI.zip'}"
      ]
     },
     "execution_count": 8,
     "metadata": {},
     "output_type": "execute_result"
    }
   ],
   "source": [
    "website_games[20]"
   ]
  },
  {
   "cell_type": "code",
   "execution_count": 31,
   "metadata": {
    "scrolled": false
   },
   "outputs": [
    {
     "name": "stdout",
     "output_type": "stream",
     "text": [
      "http://www.prathamopenschool.org/CourseContent/Games/YouSaid.zip\n",
      "\n",
      "http://www.prathamopenschool.org/CourseContent/Games/PointMeOut.zip\n",
      "\n",
      "http://www.prathamopenschool.org/CourseContent/Games/ChitraVichitra.zip\n",
      "\n",
      "http://www.prathamopenschool.org/CourseContent/Games/CityOfStories.zip\n",
      "\n",
      "http://www.prathamopenschool.org/CourseContent/Games/DingDangDing.zip\n",
      "\n",
      "http://www.prathamopenschool.org/CourseContent/Games/Golmaal.zip\n",
      "\n",
      "http://www.prathamopenschool.org/CourseContent/Games/RailGadi.zip\n",
      "\n",
      "http://www.prathamopenschool.org/CourseContent/Games/ABCD.zip\n",
      "\n",
      "http://www.prathamopenschool.org/CourseContent/Games/AwazPehchano.zip\n",
      "\n",
      "http://www.prathamopenschool.org/CourseContent/Games/CountAndKnow.zip\n",
      "\n",
      "http://www.prathamopenschool.org/CourseContent/Games/CountIt.zip\n",
      "\n",
      "http://www.prathamopenschool.org/CourseContent/Games/JigsawGame_M.zip\n",
      "\n",
      "http://www.prathamopenschool.org/CourseContent/Games/Cricket_MR.zip\n",
      "\n",
      "http://www.prathamopenschool.org/CourseContent/Games/ChitraVichitra_MR.zip\n",
      "\n",
      "http://www.prathamopenschool.org/CourseContent/Games/Palat_MR.zip\n",
      "\n",
      "http://www.prathamopenschool.org/CourseContent/Games/Golmaal_MR.zip\n",
      "\n",
      "http://www.prathamopenschool.org/CourseContent/Games/AgePiche_MR.zip\n",
      "\n",
      "http://www.prathamopenschool.org/CourseContent/Games/ThikThak_MR.zip\n",
      "\n",
      "http://www.prathamopenschool.org/CourseContent/Games/Awazchitra_MR.zip\n",
      "\n",
      "http://www.prathamopenschool.org/CourseContent/Games/AtulyaBharat.zip\n",
      "\n",
      "http://www.prathamopenschool.org/CourseContent/Games/KhelbadiKahaniyan.zip\n",
      "\n",
      "http://www.prathamopenschool.org/CourseContent/Games/AwazPehchano_MR.zip\n",
      "\n",
      "http://www.prathamopenschool.org/CourseContent/Games/AksharMatra_MR.zip\n",
      "\n",
      "http://www.prathamopenschool.org/CourseContent/Games/ShabdhChitra_MR.zip\n",
      "\n",
      "http://www.prathamopenschool.org/CourseContent/Games/CorrectPair.zip\n",
      "\n",
      "http://www.prathamopenschool.org/CourseContent/Games/RailGadi_MR.zip\n",
      "\n",
      "http://www.prathamopenschool.org/CourseContent/Games/DingDangDing_MR.zip\n",
      "\n",
      "http://www.prathamopenschool.org/CourseContent/Games/Dhoom_1_MR.zip\n",
      "\n",
      "http://www.prathamopenschool.org/CourseContent/Games/KhelbadiKahaniyan.zip\n",
      "\n",
      "http://www.prathamopenschool.org/CourseContent/Games/ChitraVichitra_MR.zip\n",
      "\n",
      "http://www.prathamopenschool.org/CourseContent/Games/DingDangDing_MR.zip\n",
      "\n",
      "http://www.prathamopenschool.org/CourseContent/Games/RailGadi_MR.zip\n",
      "\n",
      "http://www.prathamopenschool.org/CourseContent/Games/Golmaal_MR.zip\n",
      "\n",
      "http://www.prathamopenschool.org/CourseContent/Games/Awazchitra_MR.zip\n",
      "\n",
      "http://www.prathamopenschool.org/CourseContent/Games/Barakhadi_MR.zip\n",
      "\n",
      "http://www.prathamopenschool.org/CourseContent/Games/MujhePehchano_MR.zip\n",
      "\n",
      "http://www.prathamopenschool.org/CourseContent/Games/TracingGame_MR.zip\n",
      "\n",
      "http://www.prathamopenschool.org/CourseContent/Games/Sangeet_MR.zip\n",
      "\n",
      "http://www.prathamopenschool.org/CourseContent/Games/NumberKas_MR.zip\n",
      "\n",
      "http://www.prathamopenschool.org/CourseContent/Games/Aksharkhadi_MR.zip\n",
      "\n",
      "http://www.prathamopenschool.org/CourseContent/Games/Coloring_MR.zip\n",
      "\n",
      "http://www.prathamopenschool.org/CourseContent/Games/AwazPehchano_MR.zip\n",
      "\n",
      "http://www.prathamopenschool.org/CourseContent/Games/CityOfStories.zip\n",
      "\n",
      "http://www.prathamopenschool.org/CourseContent/Games/BhalooKiBarakhadi_KKS_MR.zip\n",
      "\n",
      "http://www.prathamopenschool.org/CourseContent/Games/HelloHello_KKS_MR.zip\n",
      "\n",
      "http://www.prathamopenschool.org/CourseContent/Games/Gubbare_KKS_MR.zip\n",
      "\n",
      "http://www.prathamopenschool.org/CourseContent/Games/Judwa_KKS_MR.zip\n",
      "\n",
      "http://www.prathamopenschool.org/CourseContent/Games/Dhoom_2_MR.zip\n",
      "\n",
      "http://www.prathamopenschool.org/CourseContent/Games/AksharMatra_MR.zip\n",
      "\n",
      "http://www.prathamopenschool.org/CourseContent/Games/UlatPalat_MR.zip\n",
      "\n",
      "http://www.prathamopenschool.org/CourseContent/Games/ShabdhChitra_MR.zip\n",
      "\n",
      "http://www.prathamopenschool.org/CourseContent/Games/AgePiche_MR.zip\n",
      "\n",
      "http://www.prathamopenschool.org/CourseContent/Games/LineLagao_MR.zip\n",
      "\n",
      "http://www.prathamopenschool.org/CourseContent/Games/Number123_MR.zip\n",
      "\n",
      "http://www.prathamopenschool.org/CourseContent/Games/Cricket_MR.zip\n",
      "\n",
      "http://www.prathamopenschool.org/CourseContent/Games/Kahaniyaan_MR.zip\n",
      "\n",
      "http://www.prathamopenschool.org/CourseContent/Games/ThikThak_MR.zip\n",
      "\n"
     ]
    }
   ],
   "source": [
    "for game in website_games:\n",
    "    print(game['url'])\n",
    "    print('')"
   ]
  },
  {
   "cell_type": "code",
   "execution_count": 21,
   "metadata": {},
   "outputs": [],
   "source": []
  },
  {
   "cell_type": "code",
   "execution_count": 22,
   "metadata": {},
   "outputs": [
    {
     "data": {
      "text/plain": [
       "14"
      ]
     },
     "execution_count": 22,
     "metadata": {},
     "output_type": "execute_result"
    }
   ],
   "source": []
  },
  {
   "cell_type": "code",
   "execution_count": 23,
   "metadata": {},
   "outputs": [],
   "source": []
  },
  {
   "cell_type": "code",
   "execution_count": 35,
   "metadata": {},
   "outputs": [],
   "source": []
  },
  {
   "cell_type": "code",
   "execution_count": 36,
   "metadata": {},
   "outputs": [],
   "source": []
  },
  {
   "cell_type": "code",
   "execution_count": null,
   "metadata": {},
   "outputs": [],
   "source": []
  },
  {
   "cell_type": "code",
   "execution_count": 38,
   "metadata": {},
   "outputs": [],
   "source": []
  },
  {
   "cell_type": "code",
   "execution_count": null,
   "metadata": {},
   "outputs": [],
   "source": []
  }
 ],
 "metadata": {
  "kernelspec": {
   "display_name": "Python 3",
   "language": "python",
   "name": "python3"
  },
  "language_info": {
   "codemirror_mode": {
    "name": "ipython",
    "version": 3
   },
   "file_extension": ".py",
   "mimetype": "text/x-python",
   "name": "python",
   "nbconvert_exporter": "python",
   "pygments_lexer": "ipython3",
   "version": "3.6.5"
  }
 },
 "nbformat": 4,
 "nbformat_minor": 2
}
