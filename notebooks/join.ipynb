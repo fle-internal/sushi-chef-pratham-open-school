{
 "cells": [
  {
   "cell_type": "code",
   "execution_count": null,
   "metadata": {},
   "outputs": [],
   "source": []
  },
  {
   "cell_type": "code",
   "execution_count": null,
   "metadata": {},
   "outputs": [],
   "source": []
  },
  {
   "cell_type": "code",
   "execution_count": 4,
   "metadata": {},
   "outputs": [
    {
     "name": "stdout",
     "output_type": "stream",
     "text": [
      "Unrecognized structure row {'Age Group': '8-14 years', 'Subject': 'Health', 'Resource Type': 'Video Resources', 'Name': None, 'Name on gamerepo (before lang underscore)': None, 'Pratham': None, 'LE Comments': None}\n",
      "Unrecognized structure row {'Age Group': '14 and above', 'Subject': 'Health', 'Resource Type': 'Video Resources', 'Name': None, 'Name on gamerepo (before lang underscore)': None, 'Pratham': None, 'LE Comments': None}\n",
      "Unrecognized structure row {'Age Group': '8-14 years', 'Subject': 'Std5', 'Resource Type': 'Video Resources', 'Name': None, 'Name on gamerepo (before lang underscore)': None, 'Pratham': None, 'LE Comments': None}\n",
      "Unrecognized structure row {'Age Group': '8-14 years', 'Subject': 'Std6', 'Resource Type': 'Video Resources', 'Name': None, 'Name on gamerepo (before lang underscore)': None, 'Pratham': None, 'LE Comments': None}\n",
      "Unrecognized structure row {'Age Group': '8-14 years', 'Subject': 'Std7', 'Resource Type': 'Video Resources', 'Name': None, 'Name on gamerepo (before lang underscore)': None, 'Pratham': None, 'LE Comments': None}\n",
      "Unrecognized structure row {'Age Group': '8-14 years', 'Subject': 'Std8', 'Resource Type': 'Video Resources', 'Name': None, 'Name on gamerepo (before lang underscore)': None, 'Pratham': None, 'LE Comments': None}\n",
      "Unrecognized structure row {'Age Group': '8-14 years', 'Subject': 'Std9', 'Resource Type': 'Video Resources', 'Name': None, 'Name on gamerepo (before lang underscore)': None, 'Pratham': None, 'LE Comments': None}\n",
      "Unrecognized structure row {'Age Group': '14 and above', 'Subject': 'Std9', 'Resource Type': 'Video Resources', 'Name': None, 'Name on gamerepo (before lang underscore)': None, 'Pratham': None, 'LE Comments': None}\n",
      "Unrecognized structure row {'Age Group': '8-14 years', 'Subject': 'Std10', 'Resource Type': 'Video Resources', 'Name': None, 'Name on gamerepo (before lang underscore)': None, 'Pratham': None, 'LE Comments': None}\n",
      "Unrecognized structure row {'Age Group': '14 and above', 'Subject': 'Std10', 'Resource Type': 'Video Resources', 'Name': None, 'Name on gamerepo (before lang underscore)': None, 'Pratham': None, 'LE Comments': None}\n",
      "Unrecognized structure row {'Age Group': '8-14 years', 'Subject': 'Story', 'Resource Type': 'Book Resources', 'Name': None, 'Name on gamerepo (before lang underscore)': None, 'Pratham': None, 'LE Comments': None}\n",
      "AwazChitraAS_Assamese\tAssamese\thttp://www.gamerepo.prathamcms.org/Zip/Assamese/AwazChitraAS_Assamese.zip\n",
      "fonts_Assamese\tAssamese\thttp://www.gamerepo.prathamcms.org/Zip/Assamese/fonts_Assamese.zip\n",
      "fonts_Odiya\tOdiya\thttp://www.gamerepo.prathamcms.org/Zip/Odiya/fonts_Odiya.zip\n",
      "fonts_Punjabi\tPunjabi\thttp://www.gamerepo.prathamcms.org/Zip/Punjabi/fonts_Punjabi.zip\n",
      "js_Marathi\tMarathi\thttp://www.gamerepo.prathamcms.org/Zip/Marathi/js_Marathi.zip\n"
     ]
    }
   ],
   "source": [
    "from chef import find_undocumented_games\n",
    "find_undocumented_games()"
   ]
  },
  {
   "cell_type": "code",
   "execution_count": null,
   "metadata": {},
   "outputs": [],
   "source": []
  },
  {
   "cell_type": "code",
   "execution_count": 2,
   "metadata": {},
   "outputs": [],
   "source": [
    "\n"
   ]
  },
  {
   "cell_type": "code",
   "execution_count": null,
   "metadata": {},
   "outputs": [],
   "source": []
  },
  {
   "cell_type": "code",
   "execution_count": null,
   "metadata": {},
   "outputs": [],
   "source": []
  },
  {
   "cell_type": "code",
   "execution_count": null,
   "metadata": {},
   "outputs": [],
   "source": []
  },
  {
   "cell_type": "code",
   "execution_count": null,
   "metadata": {
    "scrolled": false
   },
   "outputs": [],
   "source": []
  },
  {
   "cell_type": "code",
   "execution_count": null,
   "metadata": {},
   "outputs": [],
   "source": []
  },
  {
   "cell_type": "code",
   "execution_count": null,
   "metadata": {},
   "outputs": [],
   "source": []
  },
  {
   "cell_type": "code",
   "execution_count": 1,
   "metadata": {},
   "outputs": [],
   "source": [
    "from chef import find_undocumented_games"
   ]
  },
  {
   "cell_type": "code",
   "execution_count": 2,
   "metadata": {},
   "outputs": [
    {
     "name": "stdout",
     "output_type": "stream",
     "text": [
      "fonts_Assamese\tAssamese\thttp://www.gamerepo.prathamcms.org/Zip/Assamese/fonts_Assamese.zip\n",
      "fonts_Odiya\tOdiya\thttp://www.gamerepo.prathamcms.org/Zip/Odiya/fonts_Odiya.zip\n",
      "fonts_Punjabi\tPunjabi\thttp://www.gamerepo.prathamcms.org/Zip/Punjabi/fonts_Punjabi.zip\n",
      "js_Marathi\tMarathi\thttp://www.gamerepo.prathamcms.org/Zip/Marathi/js_Marathi.zip\n",
      "fonts\n",
      "js\n"
     ]
    }
   ],
   "source": [
    "find_undocumented_games()"
   ]
  },
  {
   "cell_type": "code",
   "execution_count": null,
   "metadata": {},
   "outputs": [],
   "source": []
  },
  {
   "cell_type": "code",
   "execution_count": null,
   "metadata": {},
   "outputs": [],
   "source": []
  },
  {
   "cell_type": "code",
   "execution_count": null,
   "metadata": {},
   "outputs": [],
   "source": []
  },
  {
   "cell_type": "code",
   "execution_count": null,
   "metadata": {},
   "outputs": [],
   "source": []
  },
  {
   "cell_type": "code",
   "execution_count": null,
   "metadata": {},
   "outputs": [],
   "source": []
  },
  {
   "cell_type": "code",
   "execution_count": 5,
   "metadata": {},
   "outputs": [
    {
     "data": {
      "text/plain": [
       "[{'children': [],\n",
       "  'kind': 'PradigiGameZipResource',\n",
       "  'language_en': 'Hindi',\n",
       "  'last_modified': '2/8/18 12:30 PM',\n",
       "  'main_file': 'http://www.gamerepo.prathamcms.org/Game/Hindi/Aakar_KKS/index.html',\n",
       "  'title': 'Aakar_KKS',\n",
       "  'url': 'http://www.gamerepo.prathamcms.org/Zip/Hindi/Aakar_KKS_Hindi.zip'}]"
      ]
     },
     "execution_count": 5,
     "metadata": {},
     "output_type": "execute_result"
    }
   ],
   "source": [
    "from chef import find_games_for_lang\n",
    "games = find_games_for_lang('Aakar', 'hi')\n",
    "games"
   ]
  },
  {
   "cell_type": "code",
   "execution_count": null,
   "metadata": {},
   "outputs": [],
   "source": []
  },
  {
   "cell_type": "code",
   "execution_count": null,
   "metadata": {},
   "outputs": [],
   "source": []
  },
  {
   "cell_type": "code",
   "execution_count": 1,
   "metadata": {},
   "outputs": [],
   "source": []
  },
  {
   "cell_type": "code",
   "execution_count": null,
   "metadata": {},
   "outputs": [],
   "source": []
  },
  {
   "cell_type": "code",
   "execution_count": 2,
   "metadata": {},
   "outputs": [],
   "source": [
    "import json\n",
    "lang = 'mr'\n",
    "wrt_filename = 'chefdata/trees/pradigi_{}_web_resource_tree.json'.format(lang)\n",
    "with open(wrt_filename) as jsonfile:\n",
    "    web_resource_tree = json.load(jsonfile)\n",
    "\n",
    "\n",
    "def find_videos_in_subtree(subtree):\n",
    "    if subtree['kind'] == 'PrathamVideoResource':\n",
    "        return [subtree]\n",
    "    result = []\n",
    "    for child in subtree['children']:\n",
    "        children_vids = find_videos_in_subtree(child)\n",
    "        result.extend(children_vids)\n",
    "    return result\n",
    "\n",
    "all_videos = find_videos_in_subtree(web_resource_tree)"
   ]
  },
  {
   "cell_type": "code",
   "execution_count": 9,
   "metadata": {},
   "outputs": [
    {
     "data": {
      "text/plain": [
       "10.210514068603516"
      ]
     },
     "execution_count": 9,
     "metadata": {},
     "output_type": "execute_result"
    }
   ],
   "source": [
    "\n"
   ]
  },
  {
   "cell_type": "code",
   "execution_count": 3,
   "metadata": {},
   "outputs": [
    {
     "name": "stdout",
     "output_type": "stream",
     "text": [
      "Checking 659 videos\n",
      "55.02297878265381 http://www.prathamopenschool.org/CourseContent/videos/lovely_family.mp4\n"
     ]
    }
   ],
   "source": [
    "\n",
    "import requests\n",
    "\n",
    "\n",
    "print('Checking', len(all_videos), 'videos')\n",
    "sizes = []\n",
    "for video in all_videos:\n",
    "    url = video['url'] \n",
    "    resp = requests.head(url)\n",
    "    size_mb = int(resp.headers['Content-Length'])/1024/1024\n",
    "    if size_mb > 50:\n",
    "        print(size_mb, url)\n"
   ]
  },
  {
   "cell_type": "code",
   "execution_count": 6,
   "metadata": {},
   "outputs": [
    {
     "name": "stdout",
     "output_type": "stream",
     "text": [
      "Checking 659 videos\n",
      "22.035643577575684 http://www.prathamopenschool.org/CourseContent/videos/2_family_meeting.mp4\n",
      "55.02297878265381 http://www.prathamopenschool.org/CourseContent/videos/lovely_family.mp4\n",
      "22.482818603515625 http://www.prathamopenschool.org/CourseContent/videos/3.5_Seema_runs_into_dolly.mp4\n",
      "21.460536003112793 http://www.prathamopenschool.org/CourseContent/videos/4.1_Favorite_actors.mp4\n",
      "27.588082313537598 http://www.prathamopenschool.org/CourseContent/videos/4.2_Fight_of_the_fans.mp4\n",
      "21.55974578857422 http://www.prathamopenschool.org/CourseContent/videos/4.5_Likes_and_dislikes_Seema_and_Madhu.mp4\n",
      "21.87144947052002 http://www.prathamopenschool.org/CourseContent/videos/4.6_Likes_and_dislikes_Deepak_and_Rahul (Revison).mp4\n",
      "20.944883346557617 http://www.prathamopenschool.org/CourseContent/videos/10.1_Oh_no_It’s_a_ghost.mp4\n",
      "29.536949157714844 http://www.prathamopenschool.org/CourseContent/videos/10.2_Where_did_the_jalebi_go.mp4\n",
      "43.14004993438721 http://www.prathamopenschool.org/CourseContent/videos/10.3_Rat_in_the_house.mp4\n",
      "33.29399108886719 http://www.prathamopenschool.org/CourseContent/videos/10.4_Catch_the_rat.mp4\n",
      "28.31204319000244 http://www.prathamopenschool.org/CourseContent/videos/10.5_The_rat_is_gone.mp4\n",
      "28.774495124816895 http://www.prathamopenschool.org/CourseContent/videos/11.1_Naughty_kid.mp4\n",
      "26.89511203765869 http://www.prathamopenschool.org/CourseContent/videos/11.2_Call_Dr_Didi.mp4\n",
      "28.6452579498291 http://www.prathamopenschool.org/CourseContent/videos/11.3_Yash_understands.mp4\n",
      "26.663992881774902 http://www.prathamopenschool.org/CourseContent/videos/11.4_Young_Khalis.mp4\n",
      "35.766733169555664 http://www.prathamopenschool.org/CourseContent/videos/11.5_Well_done.mp4\n",
      "20.857248306274414 http://www.prathamopenschool.org/CourseContent/videos/No_light_no_work.mp4\n",
      "22.188836097717285 http://www.prathamopenschool.org/CourseContent/videos/Little_Engineers.mp4\n",
      "30.777138710021973 http://www.prathamopenschool.org/CourseContent/videos/Our_new_lightbulb.mp4\n",
      "37.825284004211426 http://www.prathamopenschool.org/CourseContent/videos/AOK_1.1.mp4\n",
      "24.62619686126709 http://www.prathamopenschool.org/CourseContent/videos/AOK_1.2.mp4\n",
      "31.730807304382324 http://www.prathamopenschool.org/CourseContent/videos/AOK_1.3.mp4\n",
      "38.60039043426514 http://www.prathamopenschool.org/CourseContent/videos/AOK_2.1.mp4\n",
      "22.34339714050293 http://www.prathamopenschool.org/CourseContent/videos/AOK_2.2.mp4\n",
      "22.28900909423828 http://www.prathamopenschool.org/CourseContent/videos/AOK_2.3.mp4\n",
      "32.870116233825684 http://www.prathamopenschool.org/CourseContent/videos/AOK_3.1.mp4\n",
      "26.45987319946289 http://www.prathamopenschool.org/CourseContent/videos/AOK_3.2.mp4\n",
      "20.760562896728516 http://www.prathamopenschool.org/CourseContent/videos/AOK_3.3.mp4\n",
      "43.38330364227295 http://www.prathamopenschool.org/CourseContent/videos/AOK_4.1.mp4\n",
      "31.120431900024414 http://www.prathamopenschool.org/CourseContent/videos/AOK_4.2.mp4\n",
      "20.81257724761963 http://www.prathamopenschool.org/CourseContent/videos/AOK_4.3.mp4\n",
      "40.70394706726074 http://www.prathamopenschool.org/CourseContent/videos/AOK_5.1.mp4\n",
      "31.074649810791016 http://www.prathamopenschool.org/CourseContent/videos/AOK_5.2.mp4\n",
      "21.908309936523438 http://www.prathamopenschool.org/CourseContent/videos/AOK_5.3.mp4\n",
      "42.83631992340088 http://www.prathamopenschool.org/CourseContent/videos/AOK_6.1.mp4\n",
      "28.37732982635498 http://www.prathamopenschool.org/CourseContent/videos/AOK_6.2.mp4\n",
      "22.67337417602539 http://www.prathamopenschool.org/CourseContent/videos/AOK_6.3.mp4\n",
      "33.59396743774414 http://www.prathamopenschool.org/CourseContent/videos/AOK_8.1.mp4\n",
      "27.562870025634766 http://www.prathamopenschool.org/CourseContent/videos/AOK_8.2.mp4\n",
      "21.46385669708252 http://www.prathamopenschool.org/CourseContent/videos/AOK_8.3.mp4\n",
      "34.383185386657715 http://www.prathamopenschool.org/CourseContent/videos/AOK_9.1.mp4\n",
      "23.682415008544922 http://www.prathamopenschool.org/CourseContent/videos/AOK_9.2.mp4\n",
      "29.731199264526367 http://www.prathamopenschool.org/CourseContent/videos/AOK_9.3.mp4\n",
      "34.548301696777344 http://www.prathamopenschool.org/CourseContent/videos/AOK_10.1.mp4\n",
      "31.0318603515625 http://www.prathamopenschool.org/CourseContent/videos/AOK_10.2.mp4\n",
      "20.4608736038208 http://www.prathamopenschool.org/CourseContent/videos/AOK_10.3.mp4\n",
      "36.92066955566406 http://www.prathamopenschool.org/CourseContent/videos/AOK_11.1.mp4\n",
      "25.711305618286133 http://www.prathamopenschool.org/CourseContent/videos/AOK_11.2.mp4\n",
      "34.1806583404541 http://www.prathamopenschool.org/CourseContent/videos/AOK_11.3.mp4\n",
      "42.93243885040283 http://www.prathamopenschool.org/CourseContent/videos/AOK_12.1.mp4\n",
      "26.127694129943848 http://www.prathamopenschool.org/CourseContent/videos/AOK_12.2.mp4\n",
      "29.593852043151855 http://www.prathamopenschool.org/CourseContent/videos/AOK_12.3.mp4\n",
      "38.738898277282715 http://www.prathamopenschool.org/CourseContent/videos/AOK_13.1.mp4\n",
      "31.085896492004395 http://www.prathamopenschool.org/CourseContent/videos/AOK_13.2.mp4\n",
      "42.662715911865234 http://www.prathamopenschool.org/CourseContent/videos/m_Ganv_ki_Sair.mp4\n",
      "25.162668228149414 http://www.prathamopenschool.org/CourseContent/videos/m_Blood_pressure.mp4\n",
      "27.133862495422363 http://www.prathamopenschool.org/CourseContent/videos/m_Skin.mp4\n",
      "20.55811309814453 http://www.prathamopenschool.org/CourseContent/videos/m_learning_bike1.mp4\n",
      "21.264822006225586 http://www.prathamopenschool.org/CourseContent/videos/m_Pendulum_Intro.mp4\n",
      "23.564749717712402 http://www.prathamopenschool.org/CourseContent/videos/m_introduction_earth.mp4\n",
      "20.351163864135742 http://www.prathamopenschool.org/CourseContent/videos/m_know_map.mp4\n",
      "28.934419631958008 http://www.prathamopenschool.org/CourseContent/videos/m_Non_Magnetic_Motor.mp4\n",
      "28.96091938018799 http://www.prathamopenschool.org/CourseContent/videos/Village_Life.mp4\n",
      "26.143343925476074 http://www.prathamopenschool.org/CourseContent/videos/Organic_Farming.mp4\n"
     ]
    }
   ],
   "source": [
    "\n",
    "import requests\n",
    "\n",
    "\n",
    "print('Checking', len(all_videos), 'videos')\n",
    "sizes = []\n",
    "for video in all_videos:\n",
    "    url = video['url'] \n",
    "    resp = requests.head(url)\n",
    "    size_mb = int(resp.headers['Content-Length'])/1024/1024\n",
    "    if size_mb > 20:\n",
    "        print(size_mb, url)\n"
   ]
  },
  {
   "cell_type": "code",
   "execution_count": 2,
   "metadata": {},
   "outputs": [],
   "source": [
    "from urllib.parse import urlparse\n",
    "urlp = urlparse('http://www.prathamopenschool.org/CourseContent/Simms/phet/index.html?id=ohms-law-hn')"
   ]
  },
  {
   "cell_type": "code",
   "execution_count": 4,
   "metadata": {},
   "outputs": [
    {
     "data": {
      "text/plain": [
       "True"
      ]
     },
     "execution_count": 4,
     "metadata": {},
     "output_type": "execute_result"
    }
   ],
   "source": [
    "urlp.path.endswith('html')"
   ]
  },
  {
   "cell_type": "code",
   "execution_count": 2,
   "metadata": {},
   "outputs": [],
   "source": [
    "import csv"
   ]
  },
  {
   "cell_type": "code",
   "execution_count": 3,
   "metadata": {},
   "outputs": [],
   "source": [
    "%psource csv.DictReader"
   ]
  },
  {
   "cell_type": "code",
   "execution_count": 2,
   "metadata": {},
   "outputs": [],
   "source": [
    "from chef import find_problem_resources_files"
   ]
  },
  {
   "cell_type": "code",
   "execution_count": 3,
   "metadata": {
    "scrolled": false
   },
   "outputs": [
    {
     "name": "stdout",
     "output_type": "stream",
     "text": [
      "404 zip file\tFlipImage Game(Palat)_H.zip\thttp://www.prathamopenschool.org/CourseContent/Games/FlipImage Game(Palat)_H.zip\thttp://www.prathamopenschool.org/hn/Fun\n",
      "404 zip file\tpictureReplacement.zip\thttp://www.prathamopenschool.org/CourseContent/Games/pictureReplacement.zip\thttp://www.prathamopenschool.org/mr/Lesson/LES425\n",
      "404 zip file\twordshop_M.zip\thttp://www.prathamopenschool.org/CourseContent/Games/wordshop_M.zip\thttp://www.prathamopenschool.org/mr/Fun\n"
     ]
    }
   ],
   "source": [
    "find_problem_resources_files()"
   ]
  },
  {
   "cell_type": "code",
   "execution_count": 4,
   "metadata": {},
   "outputs": [],
   "source": [
    "import requests\n",
    "url = 'http://www.prathamopenschool.org/CourseContent/Games/4 clues (Countries) Hindi.zip'\n",
    "resp = requests.head(url)"
   ]
  },
  {
   "cell_type": "code",
   "execution_count": 6,
   "metadata": {},
   "outputs": [
    {
     "data": {
      "text/plain": [
       "int"
      ]
     },
     "execution_count": 6,
     "metadata": {},
     "output_type": "execute_result"
    }
   ],
   "source": [
    "type(resp.status_code)"
   ]
  },
  {
   "cell_type": "code",
   "execution_count": null,
   "metadata": {},
   "outputs": [],
   "source": []
  }
 ],
 "metadata": {
  "kernelspec": {
   "display_name": "Python 3",
   "language": "python",
   "name": "python3"
  },
  "language_info": {
   "codemirror_mode": {
    "name": "ipython",
    "version": 3
   },
   "file_extension": ".py",
   "mimetype": "text/x-python",
   "name": "python",
   "nbconvert_exporter": "python",
   "pygments_lexer": "ipython3",
   "version": "3.6.4"
  }
 },
 "nbformat": 4,
 "nbformat_minor": 2
}
