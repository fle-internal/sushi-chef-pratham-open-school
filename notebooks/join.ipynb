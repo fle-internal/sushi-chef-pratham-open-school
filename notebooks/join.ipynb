{
 "cells": [
  {
   "cell_type": "code",
   "execution_count": 1,
   "metadata": {},
   "outputs": [],
   "source": [
    "from chef import find_game_for_lang, TEST_GAMENAMES"
   ]
  },
  {
   "cell_type": "code",
   "execution_count": 1,
   "metadata": {},
   "outputs": [],
   "source": [
    "# for lang in ['hi', 'en']:\n",
    "#     for name in TEST_GAMENAMES:\n",
    "#         game = find_game_for_lang(name, lang)\n",
    "#         if game is None:\n",
    "#             print('Game', name, 'not available in', lang)"
   ]
  },
  {
   "cell_type": "code",
   "execution_count": 2,
   "metadata": {},
   "outputs": [],
   "source": [
    "import json\n",
    "from chef import flatten_tree\n",
    "\n",
    "data = json.load(open('chefdata/trees/pradigi_games_all_langs.json','r'))"
   ]
  },
  {
   "cell_type": "code",
   "execution_count": 3,
   "metadata": {},
   "outputs": [],
   "source": [
    "gamelist = flatten_tree(data)\n",
    "for game in gamelist:\n",
    "    if len(game['title']) == 0:\n",
    "        print('The game in', game['language_en'], 'appears without a title, but zip is there:', game['url'])"
   ]
  },
  {
   "cell_type": "code",
   "execution_count": null,
   "metadata": {},
   "outputs": [],
   "source": []
  },
  {
   "cell_type": "code",
   "execution_count": 4,
   "metadata": {},
   "outputs": [],
   "source": [
    "from chef import write_games_by_language_csv\n",
    "\n",
    "write_games_by_language_csv()"
   ]
  },
  {
   "cell_type": "code",
   "execution_count": 5,
   "metadata": {},
   "outputs": [],
   "source": [
    "import json\n",
    "from chef import flatten_tree\n",
    "\n",
    "data = json.load(open('chefdata/trees/pradigi_games_all_langs.json','r'))\n",
    "gamelist = flatten_tree(data)\n",
    "\n",
    "uniq_langs = set()\n",
    "for game in gamelist:\n",
    "    uniq_langs.add(game['language_en'])"
   ]
  },
  {
   "cell_type": "code",
   "execution_count": 7,
   "metadata": {},
   "outputs": [
    {
     "data": {
      "text/plain": [
       "{'Bangali',\n",
       " 'English',\n",
       " 'Gujarati',\n",
       " 'Hindi',\n",
       " 'Kannada',\n",
       " 'Marathi',\n",
       " 'Odiya',\n",
       " 'Punjabi',\n",
       " 'Tamil',\n",
       " 'Telugu'}"
      ]
     },
     "execution_count": 7,
     "metadata": {},
     "output_type": "execute_result"
    }
   ],
   "source": [
    "uniq_langs.difference(['Assamese'])"
   ]
  },
  {
   "cell_type": "code",
   "execution_count": 6,
   "metadata": {},
   "outputs": [],
   "source": []
  },
  {
   "cell_type": "code",
   "execution_count": 1,
   "metadata": {},
   "outputs": [
    {
     "ename": "NameError",
     "evalue": "name 'uniq_langs' is not defined",
     "output_type": "error",
     "traceback": [
      "\u001b[0;31m---------------------------------------------------------------------------\u001b[0m",
      "\u001b[0;31mNameError\u001b[0m                                 Traceback (most recent call last)",
      "\u001b[0;32m<ipython-input-1-8b4da4d9e867>\u001b[0m in \u001b[0;36m<module>\u001b[0;34m()\u001b[0m\n\u001b[1;32m      3\u001b[0m \u001b[0;34m\u001b[0m\u001b[0m\n\u001b[1;32m      4\u001b[0m \u001b[0mlookup\u001b[0m \u001b[0;34m=\u001b[0m \u001b[0;34m{\u001b[0m\u001b[0;34m}\u001b[0m\u001b[0;34m\u001b[0m\u001b[0m\n\u001b[0;32m----> 5\u001b[0;31m \u001b[0;32mfor\u001b[0m \u001b[0mlang_name\u001b[0m \u001b[0;32min\u001b[0m \u001b[0muniq_langs\u001b[0m\u001b[0;34m:\u001b[0m\u001b[0;34m\u001b[0m\u001b[0m\n\u001b[0m\u001b[1;32m      6\u001b[0m     \u001b[0mlang_obj\u001b[0m \u001b[0;34m=\u001b[0m \u001b[0mgetlang_by_language_en\u001b[0m\u001b[0;34m(\u001b[0m\u001b[0mlang_name\u001b[0m\u001b[0;34m)\u001b[0m\u001b[0;34m\u001b[0m\u001b[0m\n\u001b[1;32m      7\u001b[0m     \u001b[0mlookup\u001b[0m\u001b[0;34m[\u001b[0m\u001b[0mlang_obj\u001b[0m\u001b[0;34m.\u001b[0m\u001b[0mcode\u001b[0m\u001b[0;34m]\u001b[0m \u001b[0;34m=\u001b[0m \u001b[0;34m{\u001b[0m\u001b[0;34m'language_en'\u001b[0m\u001b[0;34m:\u001b[0m \u001b[0mlang_name\u001b[0m\u001b[0;34m,\u001b[0m \u001b[0;34m'gamesrepo_suffixes'\u001b[0m\u001b[0;34m:\u001b[0m\u001b[0;34m[\u001b[0m\u001b[0;34m]\u001b[0m\u001b[0;34m,\u001b[0m \u001b[0;34m'strings'\u001b[0m\u001b[0;34m:\u001b[0m\u001b[0;34m{\u001b[0m\u001b[0;34m}\u001b[0m\u001b[0;34m}\u001b[0m\u001b[0;34m\u001b[0m\u001b[0m\n",
      "\u001b[0;31mNameError\u001b[0m: name 'uniq_langs' is not defined"
     ]
    }
   ],
   "source": [
    "import json\n",
    "from chef import getlang_by_language_en\n",
    "\n",
    "lookup = {}\n",
    "for lang_name in uniq_langs:\n",
    "    lang_obj = getlang_by_language_en(lang_name)\n",
    "    lookup[lang_obj.code] = {'language_en': lang_name, 'gamesrepo_suffixes':[], 'strings':{}}\n",
    "print(json.dumps(lookup, indent=4))"
   ]
  },
  {
   "cell_type": "code",
   "execution_count": 9,
   "metadata": {},
   "outputs": [
    {
     "data": {
      "text/plain": [
       "dict_keys(['or', 'bn', 'pnb', 'kn', 'ta', 'te', 'mr', 'hi', 'gu', 'en', 'as'])"
      ]
     },
     "execution_count": 9,
     "metadata": {},
     "output_type": "execute_result"
    }
   ],
   "source": [
    "lookup.keys()"
   ]
  },
  {
   "cell_type": "code",
   "execution_count": 1,
   "metadata": {},
   "outputs": [
    {
     "name": "stdout",
     "output_type": "stream",
     "text": [
      "AbKahanHai_KKS\tHindi\thttp://www.gamerepo.prathamcms.org/Zip/Hindi/AbKahanHai_KKS_Hindi.zip\n",
      "AksharMatra_HI\tHindi\thttp://www.gamerepo.prathamcms.org/Zip/Hindi/AksharMatra_HI_Hindi.zip\n",
      "AksharMatra_MR\tMarathi\thttp://www.gamerepo.prathamcms.org/Zip/Marathi/AksharMatra_MR_Marathi.zip\n",
      "AwazChitraAS_Assamese\tAssamese\thttp://www.gamerepo.prathamcms.org/Zip/Assamese/AwazChitraAS_Assamese.zip\n",
      "BalloonGame_KKS\tHindi\thttp://www.gamerepo.prathamcms.org/Zip/Hindi/BalloonGame_KKS_Hindi.zip\n",
      "Barahghar_KKS\tGujarati\thttp://www.gamerepo.prathamcms.org/Zip/Gujarati/Barahghar_KKS_Gujarati.zip\n",
      "BarakhadiBanao_KKS\tHindi\thttp://www.gamerepo.prathamcms.org/Zip/Hindi/BarakhadiBanao_KKS_Hindi.zip\n",
      "BarakhadiSeekho_KKS\tHindi\thttp://www.gamerepo.prathamcms.org/Zip/Hindi/BarakhadiSeekho_KKS_Hindi.zip\n",
      "BhalooKiBarakhadi_KKS\tHindi\thttp://www.gamerepo.prathamcms.org/Zip/Hindi/BhalooKiBarakhadi_KKS_Hindi.zip\n",
      "Bhaloo_ki_Barakhadi_KKS\tGujarati\thttp://www.gamerepo.prathamcms.org/Zip/Gujarati/Bhaloo_ki_Barakhadi_KKS_Gujarati.zip\n",
      "BolBacchaBol_HI\tHindi\thttp://www.gamerepo.prathamcms.org/Zip/Hindi/BolBacchaBol_HI_Hindi.zip\n",
      "BolBacchaBol_MR\tMarathi\thttp://www.gamerepo.prathamcms.org/Zip/Marathi/BolBacchaBol_MR_Marathi.zip\n",
      "ChitraVichitra_HI\tHindi\thttp://www.gamerepo.prathamcms.org/Zip/Hindi/ChitraVichitra_HI_Hindi.zip\n",
      "ChitraVichitra_MR\tMarathi\thttp://www.gamerepo.prathamcms.org/Zip/Marathi/ChitraVichitra_MR_Marathi.zip\n",
      "CorrectPair\tEnglish\thttp://www.gamerepo.prathamcms.org/Zip/English/CorrectPair_English.zip\n",
      "Cricket_AS\tAssamese\thttp://www.gamerepo.prathamcms.org/Zip/Assamese/Cricket_AS_Assamese.zip\n",
      "Cricket_BN\tBangali\thttp://www.gamerepo.prathamcms.org/Zip/Bangali/Cricket_BN_Bangali.zip\n",
      "Cricket_GJ\tGujarati\thttp://www.gamerepo.prathamcms.org/Zip/Gujarati/Cricket_GJ_Gujarati.zip\n",
      "Cricket_HI\tHindi\thttp://www.gamerepo.prathamcms.org/Zip/Hindi/Cricket_HI_Hindi.zip\n",
      "Cricket_KN\tKannada\thttp://www.gamerepo.prathamcms.org/Zip/Kannada/Cricket_KN_Kannada.zip\n",
      "Cricket_MR\tMarathi\thttp://www.gamerepo.prathamcms.org/Zip/Marathi/Cricket_MR_Marathi.zip\n",
      "Cricket_OD\tOdiya\thttp://www.gamerepo.prathamcms.org/Zip/Odiya/Cricket_OD_Odiya.zip\n",
      "Cricket_PN\tPunjabi\thttp://www.gamerepo.prathamcms.org/Zip/Punjabi/Cricket_PN_Punjabi.zip\n",
      "Cricket_TL\tTelugu\thttp://www.gamerepo.prathamcms.org/Zip/Telugu/Cricket_TL_Telugu.zip\n",
      "Cricket_TM\tTamil\thttp://www.gamerepo.prathamcms.org/Zip/Tamil/Cricket_TM_Tamil.zip\n",
      "DingDangDing_HI\tHindi\thttp://www.gamerepo.prathamcms.org/Zip/Hindi/DingDangDing_HI_Hindi.zip\n",
      "DingDangDing_MR\tMarathi\thttp://www.gamerepo.prathamcms.org/Zip/Marathi/DingDangDing_MR_Marathi.zip\n",
      "EkSeAnek_KKS\tGujarati\thttp://www.gamerepo.prathamcms.org/Zip/Gujarati/EkSeAnek_KKS_Gujarati.zip\n",
      "Golmaal_HI\tHindi\thttp://www.gamerepo.prathamcms.org/Zip/Hindi/Golmaal_HI_Hindi.zip\n",
      "Golmaal_MR\tMarathi\thttp://www.gamerepo.prathamcms.org/Zip/Marathi/Golmaal_MR_Marathi.zip\n",
      "Gubbare_KKS\tGujarati\thttp://www.gamerepo.prathamcms.org/Zip/Gujarati/Gubbare_KKS_Gujarati.zip\n",
      "HelloHello_KKS\tGujarati\thttp://www.gamerepo.prathamcms.org/Zip/Gujarati/HelloHello_KKS_Gujarati.zip\n",
      "Jigsaw\tEnglish\thttp://www.gamerepo.prathamcms.org/Zip/English/Jigsaw_English.zip\n",
      "Judwa_KKS\tGujarati\thttp://www.gamerepo.prathamcms.org/Zip/Gujarati/Judwa_KKS_Gujarati.zip\n",
      "JumbleTumble\tEnglish\thttp://www.gamerepo.prathamcms.org/Zip/English/JumbleTumble_English.zip\n",
      "JumbleTumble_HI\tHindi\thttp://www.gamerepo.prathamcms.org/Zip/Hindi/JumbleTumble_HI_Hindi.zip\n",
      "MindMapWheel_KKS\tHindi\thttp://www.gamerepo.prathamcms.org/Zip/Hindi/MindMapWheel_KKS_Hindi.zip\n",
      "MujheDhundho_KKS\tGujarati\thttp://www.gamerepo.prathamcms.org/Zip/Gujarati/MujheDhundho_KKS_Gujarati.zip\n",
      "Nadiya Ke Paar\tHindi\thttp://www.gamerepo.prathamcms.org/Zip/Hindi/Nadiya Ke Paar_Hindi.zip\n",
      "NumberRecognition\tHindi\thttp://www.gamerepo.prathamcms.org/Zip/Hindi/NumberRecognition_Hindi.zip\n",
      "NumberRecognition2\tHindi\thttp://www.gamerepo.prathamcms.org/Zip/Hindi/NumberRecognition2_Hindi.zip\n",
      "PattaPalat_KKS\tHindi\thttp://www.gamerepo.prathamcms.org/Zip/Hindi/PattaPalat_KKS_Hindi.zip\n",
      "PointMeOut\tEnglish\thttp://www.gamerepo.prathamcms.org/Zip/English/PointMeOut_English.zip\n",
      "RailGadi_HI\tHindi\thttp://www.gamerepo.prathamcms.org/Zip/Hindi/RailGadi_HI_Hindi.zip\n",
      "RailGadi_MR\tMarathi\thttp://www.gamerepo.prathamcms.org/Zip/Marathi/RailGadi_MR_Marathi.zip\n",
      "Suno_Pehchano_KKS\tGujarati\thttp://www.gamerepo.prathamcms.org/Zip/Gujarati/Suno_Pehchano_KKS_Gujarati.zip\n",
      "TracingGame_AS\tAssamese\thttp://www.gamerepo.prathamcms.org/Zip/Assamese/TracingGame_AS_Assamese.zip\n",
      "TracingGame_BN\tBangali\thttp://www.gamerepo.prathamcms.org/Zip/Bangali/TracingGame_BN_Bangali.zip\n",
      "TracingGame_GJ\tGujarati\thttp://www.gamerepo.prathamcms.org/Zip/Gujarati/TracingGame_GJ_Gujarati.zip\n",
      "TracingGame_HI\tHindi\thttp://www.gamerepo.prathamcms.org/Zip/Hindi/TracingGame_HI_Hindi.zip\n",
      "TracingGame_KN\tKannada\thttp://www.gamerepo.prathamcms.org/Zip/Kannada/TracingGame_KN_Kannada.zip\n",
      "TracingGame_MR\tMarathi\thttp://www.gamerepo.prathamcms.org/Zip/Marathi/TracingGame_MR_Marathi.zip\n",
      "TracingGame_OD\tOdiya\thttp://www.gamerepo.prathamcms.org/Zip/Odiya/TracingGame_OD_Odiya.zip\n",
      "TracingGame_PN\tPunjabi\thttp://www.gamerepo.prathamcms.org/Zip/Punjabi/TracingGame_PN_Punjabi.zip\n",
      "TracingGame_TL\tTelugu\thttp://www.gamerepo.prathamcms.org/Zip/Telugu/TracingGame_TL_Telugu.zip\n",
      "TracingGame_TM\tTamil\thttp://www.gamerepo.prathamcms.org/Zip/Tamil/TracingGame_TM_Tamil.zip\n",
      "UlatPalat2Science\tEnglish\thttp://www.gamerepo.prathamcms.org/Zip/English/UlatPalat2Science_English.zip\n",
      "UlatPalatScience\tEnglish\thttp://www.gamerepo.prathamcms.org/Zip/English/UlatPalatScience_English.zip\n",
      "YouSaid\tEnglish\thttp://www.gamerepo.prathamcms.org/Zip/English/YouSaid_English.zip\n",
      "fonts_Assamese\tAssamese\thttp://www.gamerepo.prathamcms.org/Zip/Assamese/fonts_Assamese.zip\n",
      "fonts_Odiya\tOdiya\thttp://www.gamerepo.prathamcms.org/Zip/Odiya/fonts_Odiya.zip\n",
      "fonts_Punjabi\tPunjabi\thttp://www.gamerepo.prathamcms.org/Zip/Punjabi/fonts_Punjabi.zip\n",
      "js_Marathi\tMarathi\thttp://www.gamerepo.prathamcms.org/Zip/Marathi/js_Marathi.zip\n",
      "AbKahanHai\n",
      "AksharMatra\n",
      "AwazChitraAS\n",
      "BalloonGame\n",
      "Barahghar\n",
      "BarakhadiBanao\n",
      "BarakhadiSeekho\n",
      "BhalooKiBarakhadi\n",
      "Bhaloo_ki_Barakhadi\n",
      "BolBacchaBol\n",
      "ChitraVichitra\n",
      "CorrectPair\n",
      "Cricket\n",
      "DingDangDing\n",
      "EkSeAnek\n",
      "Golmaal\n",
      "Gubbare\n",
      "HelloHello\n",
      "Jigsaw\n",
      "Judwa\n",
      "JumbleTumble\n",
      "MindMapWheel\n",
      "MujheDhundho\n",
      "Nadiya Ke Paar\n",
      "NumberRecognition\n",
      "NumberRecognition2\n",
      "PattaPalat\n",
      "PointMeOut\n",
      "RailGadi\n",
      "Suno_Pehchano\n",
      "TracingGame\n",
      "UlatPalat2Science\n",
      "UlatPalatScience\n",
      "YouSaid\n",
      "fonts\n",
      "js\n"
     ]
    }
   ],
   "source": [
    "from chef import find_undocumented_games\n",
    "find_undocumented_games()"
   ]
  },
  {
   "cell_type": "code",
   "execution_count": 2,
   "metadata": {},
   "outputs": [
    {
     "data": {
      "text/plain": [
       "'Aksharkhadi'"
      ]
     },
     "execution_count": 2,
     "metadata": {},
     "output_type": "execute_result"
    }
   ],
   "source": [
    "00\n",
    "s = \"Aksharkhadi_KKS\"\n",
    "s.replace('_KKS', '')"
   ]
  },
  {
   "cell_type": "code",
   "execution_count": null,
   "metadata": {},
   "outputs": [],
   "source": []
  }
 ],
 "metadata": {
  "kernelspec": {
   "display_name": "Python 3",
   "language": "python",
   "name": "python3"
  },
  "language_info": {
   "codemirror_mode": {
    "name": "ipython",
    "version": 3
   },
   "file_extension": ".py",
   "mimetype": "text/x-python",
   "name": "python",
   "nbconvert_exporter": "python",
   "pygments_lexer": "ipython3",
   "version": "3.6.4"
  }
 },
 "nbformat": 4,
 "nbformat_minor": 2
}
