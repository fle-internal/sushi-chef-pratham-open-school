{
 "cells": [
  {
   "cell_type": "code",
   "execution_count": null,
   "metadata": {},
   "outputs": [],
   "source": []
  },
  {
   "cell_type": "code",
   "execution_count": null,
   "metadata": {},
   "outputs": [],
   "source": []
  },
  {
   "cell_type": "code",
   "execution_count": 1,
   "metadata": {},
   "outputs": [
    {
     "name": "stdout",
     "output_type": "stream",
     "text": [
      "AbKahanHai_KKS\tHindi\thttp://www.gamerepo.prathamcms.org/Zip/Hindi/AbKahanHai_KKS_Hindi.zip\n",
      "AksharMatra_HI\tHindi\thttp://www.gamerepo.prathamcms.org/Zip/Hindi/AksharMatra_HI_Hindi.zip\n",
      "AksharMatra_MR\tMarathi\thttp://www.gamerepo.prathamcms.org/Zip/Marathi/AksharMatra_MR_Marathi.zip\n",
      "AwazChitraAS_Assamese\tAssamese\thttp://www.gamerepo.prathamcms.org/Zip/Assamese/AwazChitraAS_Assamese.zip\n",
      "BalloonGame_KKS\tHindi\thttp://www.gamerepo.prathamcms.org/Zip/Hindi/BalloonGame_KKS_Hindi.zip\n",
      "Barahghar_KKS\tGujarati\thttp://www.gamerepo.prathamcms.org/Zip/Gujarati/Barahghar_KKS_Gujarati.zip\n",
      "BarakhadiBanao_KKS\tHindi\thttp://www.gamerepo.prathamcms.org/Zip/Hindi/BarakhadiBanao_KKS_Hindi.zip\n",
      "BarakhadiSeekho_KKS\tHindi\thttp://www.gamerepo.prathamcms.org/Zip/Hindi/BarakhadiSeekho_KKS_Hindi.zip\n",
      "BhalooKiBarakhadi_KKS\tHindi\thttp://www.gamerepo.prathamcms.org/Zip/Hindi/BhalooKiBarakhadi_KKS_Hindi.zip\n",
      "Bhaloo_ki_Barakhadi_KKS\tGujarati\thttp://www.gamerepo.prathamcms.org/Zip/Gujarati/Bhaloo_ki_Barakhadi_KKS_Gujarati.zip\n",
      "BolBacchaBol_HI\tHindi\thttp://www.gamerepo.prathamcms.org/Zip/Hindi/BolBacchaBol_HI_Hindi.zip\n",
      "BolBacchaBol_MR\tMarathi\thttp://www.gamerepo.prathamcms.org/Zip/Marathi/BolBacchaBol_MR_Marathi.zip\n",
      "ChitraVichitra_HI\tHindi\thttp://www.gamerepo.prathamcms.org/Zip/Hindi/ChitraVichitra_HI_Hindi.zip\n",
      "ChitraVichitra_MR\tMarathi\thttp://www.gamerepo.prathamcms.org/Zip/Marathi/ChitraVichitra_MR_Marathi.zip\n",
      "CorrectPair\tEnglish\thttp://www.gamerepo.prathamcms.org/Zip/English/CorrectPair_English.zip\n",
      "Cricket_AS\tAssamese\thttp://www.gamerepo.prathamcms.org/Zip/Assamese/Cricket_AS_Assamese.zip\n",
      "Cricket_BN\tBangali\thttp://www.gamerepo.prathamcms.org/Zip/Bangali/Cricket_BN_Bangali.zip\n",
      "Cricket_GJ\tGujarati\thttp://www.gamerepo.prathamcms.org/Zip/Gujarati/Cricket_GJ_Gujarati.zip\n",
      "Cricket_HI\tHindi\thttp://www.gamerepo.prathamcms.org/Zip/Hindi/Cricket_HI_Hindi.zip\n",
      "Cricket_KN\tKannada\thttp://www.gamerepo.prathamcms.org/Zip/Kannada/Cricket_KN_Kannada.zip\n",
      "Cricket_MR\tMarathi\thttp://www.gamerepo.prathamcms.org/Zip/Marathi/Cricket_MR_Marathi.zip\n",
      "Cricket_OD\tOdiya\thttp://www.gamerepo.prathamcms.org/Zip/Odiya/Cricket_OD_Odiya.zip\n",
      "Cricket_PN\tPunjabi\thttp://www.gamerepo.prathamcms.org/Zip/Punjabi/Cricket_PN_Punjabi.zip\n",
      "Cricket_TL\tTelugu\thttp://www.gamerepo.prathamcms.org/Zip/Telugu/Cricket_TL_Telugu.zip\n",
      "Cricket_TM\tTamil\thttp://www.gamerepo.prathamcms.org/Zip/Tamil/Cricket_TM_Tamil.zip\n",
      "DingDangDing_HI\tHindi\thttp://www.gamerepo.prathamcms.org/Zip/Hindi/DingDangDing_HI_Hindi.zip\n",
      "DingDangDing_MR\tMarathi\thttp://www.gamerepo.prathamcms.org/Zip/Marathi/DingDangDing_MR_Marathi.zip\n",
      "EkSeAnek_KKS\tGujarati\thttp://www.gamerepo.prathamcms.org/Zip/Gujarati/EkSeAnek_KKS_Gujarati.zip\n",
      "Golmaal_HI\tHindi\thttp://www.gamerepo.prathamcms.org/Zip/Hindi/Golmaal_HI_Hindi.zip\n",
      "Golmaal_MR\tMarathi\thttp://www.gamerepo.prathamcms.org/Zip/Marathi/Golmaal_MR_Marathi.zip\n",
      "Gubbare_KKS\tGujarati\thttp://www.gamerepo.prathamcms.org/Zip/Gujarati/Gubbare_KKS_Gujarati.zip\n",
      "HelloHello_KKS\tGujarati\thttp://www.gamerepo.prathamcms.org/Zip/Gujarati/HelloHello_KKS_Gujarati.zip\n",
      "Jigsaw\tEnglish\thttp://www.gamerepo.prathamcms.org/Zip/English/Jigsaw_English.zip\n",
      "Judwa_KKS\tGujarati\thttp://www.gamerepo.prathamcms.org/Zip/Gujarati/Judwa_KKS_Gujarati.zip\n",
      "JumbleTumble\tEnglish\thttp://www.gamerepo.prathamcms.org/Zip/English/JumbleTumble_English.zip\n",
      "JumbleTumble_HI\tHindi\thttp://www.gamerepo.prathamcms.org/Zip/Hindi/JumbleTumble_HI_Hindi.zip\n",
      "MindMapWheel_KKS\tHindi\thttp://www.gamerepo.prathamcms.org/Zip/Hindi/MindMapWheel_KKS_Hindi.zip\n",
      "MujheDhundho_KKS\tGujarati\thttp://www.gamerepo.prathamcms.org/Zip/Gujarati/MujheDhundho_KKS_Gujarati.zip\n",
      "Nadiya Ke Paar\tHindi\thttp://www.gamerepo.prathamcms.org/Zip/Hindi/Nadiya Ke Paar_Hindi.zip\n",
      "NumberRecognition\tHindi\thttp://www.gamerepo.prathamcms.org/Zip/Hindi/NumberRecognition_Hindi.zip\n",
      "NumberRecognition2\tHindi\thttp://www.gamerepo.prathamcms.org/Zip/Hindi/NumberRecognition2_Hindi.zip\n",
      "PattaPalat_KKS\tHindi\thttp://www.gamerepo.prathamcms.org/Zip/Hindi/PattaPalat_KKS_Hindi.zip\n",
      "PointMeOut\tEnglish\thttp://www.gamerepo.prathamcms.org/Zip/English/PointMeOut_English.zip\n",
      "RailGadi_HI\tHindi\thttp://www.gamerepo.prathamcms.org/Zip/Hindi/RailGadi_HI_Hindi.zip\n",
      "RailGadi_MR\tMarathi\thttp://www.gamerepo.prathamcms.org/Zip/Marathi/RailGadi_MR_Marathi.zip\n",
      "Suno_Pehchano_KKS\tGujarati\thttp://www.gamerepo.prathamcms.org/Zip/Gujarati/Suno_Pehchano_KKS_Gujarati.zip\n",
      "TracingGame_AS\tAssamese\thttp://www.gamerepo.prathamcms.org/Zip/Assamese/TracingGame_AS_Assamese.zip\n",
      "TracingGame_BN\tBangali\thttp://www.gamerepo.prathamcms.org/Zip/Bangali/TracingGame_BN_Bangali.zip\n",
      "TracingGame_GJ\tGujarati\thttp://www.gamerepo.prathamcms.org/Zip/Gujarati/TracingGame_GJ_Gujarati.zip\n",
      "TracingGame_HI\tHindi\thttp://www.gamerepo.prathamcms.org/Zip/Hindi/TracingGame_HI_Hindi.zip\n",
      "TracingGame_KN\tKannada\thttp://www.gamerepo.prathamcms.org/Zip/Kannada/TracingGame_KN_Kannada.zip\n",
      "TracingGame_MR\tMarathi\thttp://www.gamerepo.prathamcms.org/Zip/Marathi/TracingGame_MR_Marathi.zip\n",
      "TracingGame_OD\tOdiya\thttp://www.gamerepo.prathamcms.org/Zip/Odiya/TracingGame_OD_Odiya.zip\n",
      "TracingGame_PN\tPunjabi\thttp://www.gamerepo.prathamcms.org/Zip/Punjabi/TracingGame_PN_Punjabi.zip\n",
      "TracingGame_TL\tTelugu\thttp://www.gamerepo.prathamcms.org/Zip/Telugu/TracingGame_TL_Telugu.zip\n",
      "TracingGame_TM\tTamil\thttp://www.gamerepo.prathamcms.org/Zip/Tamil/TracingGame_TM_Tamil.zip\n",
      "UlatPalat2Science\tEnglish\thttp://www.gamerepo.prathamcms.org/Zip/English/UlatPalat2Science_English.zip\n",
      "UlatPalatScience\tEnglish\thttp://www.gamerepo.prathamcms.org/Zip/English/UlatPalatScience_English.zip\n",
      "YouSaid\tEnglish\thttp://www.gamerepo.prathamcms.org/Zip/English/YouSaid_English.zip\n",
      "fonts_Assamese\tAssamese\thttp://www.gamerepo.prathamcms.org/Zip/Assamese/fonts_Assamese.zip\n",
      "fonts_Odiya\tOdiya\thttp://www.gamerepo.prathamcms.org/Zip/Odiya/fonts_Odiya.zip\n",
      "fonts_Punjabi\tPunjabi\thttp://www.gamerepo.prathamcms.org/Zip/Punjabi/fonts_Punjabi.zip\n",
      "js_Marathi\tMarathi\thttp://www.gamerepo.prathamcms.org/Zip/Marathi/js_Marathi.zip\n",
      "AbKahanHai\n",
      "AksharMatra\n",
      "AwazChitraAS\n",
      "BalloonGame\n",
      "Barahghar\n",
      "BarakhadiBanao\n",
      "BarakhadiSeekho\n",
      "BhalooKiBarakhadi\n",
      "Bhaloo_ki_Barakhadi\n",
      "BolBacchaBol\n",
      "ChitraVichitra\n",
      "CorrectPair\n",
      "Cricket\n",
      "DingDangDing\n",
      "EkSeAnek\n",
      "Golmaal\n",
      "Gubbare\n",
      "HelloHello\n",
      "Jigsaw\n",
      "Judwa\n",
      "JumbleTumble\n",
      "MindMapWheel\n",
      "MujheDhundho\n",
      "Nadiya Ke Paar\n",
      "NumberRecognition\n",
      "NumberRecognition2\n",
      "PattaPalat\n",
      "PointMeOut\n",
      "RailGadi\n",
      "Suno_Pehchano\n",
      "TracingGame\n",
      "UlatPalat2Science\n",
      "UlatPalatScience\n",
      "YouSaid\n",
      "fonts\n",
      "js\n"
     ]
    }
   ],
   "source": [
    "from chef import find_undocumented_games\n",
    "find_undocumented_games()"
   ]
  },
  {
   "cell_type": "code",
   "execution_count": null,
   "metadata": {},
   "outputs": [],
   "source": []
  },
  {
   "cell_type": "code",
   "execution_count": 2,
   "metadata": {},
   "outputs": [],
   "source": [
    "\n"
   ]
  },
  {
   "cell_type": "code",
   "execution_count": null,
   "metadata": {},
   "outputs": [],
   "source": []
  },
  {
   "cell_type": "code",
   "execution_count": null,
   "metadata": {},
   "outputs": [],
   "source": []
  },
  {
   "cell_type": "code",
   "execution_count": null,
   "metadata": {},
   "outputs": [],
   "source": []
  },
  {
   "cell_type": "code",
   "execution_count": null,
   "metadata": {
    "scrolled": false
   },
   "outputs": [],
   "source": []
  },
  {
   "cell_type": "code",
   "execution_count": null,
   "metadata": {},
   "outputs": [],
   "source": []
  },
  {
   "cell_type": "code",
   "execution_count": null,
   "metadata": {},
   "outputs": [],
   "source": []
  },
  {
   "cell_type": "code",
   "execution_count": 1,
   "metadata": {},
   "outputs": [],
   "source": [
    "from chef import find_undocumented_games"
   ]
  },
  {
   "cell_type": "code",
   "execution_count": 2,
   "metadata": {},
   "outputs": [
    {
     "name": "stdout",
     "output_type": "stream",
     "text": [
      "fonts_Assamese\tAssamese\thttp://www.gamerepo.prathamcms.org/Zip/Assamese/fonts_Assamese.zip\n",
      "fonts_Odiya\tOdiya\thttp://www.gamerepo.prathamcms.org/Zip/Odiya/fonts_Odiya.zip\n",
      "fonts_Punjabi\tPunjabi\thttp://www.gamerepo.prathamcms.org/Zip/Punjabi/fonts_Punjabi.zip\n",
      "js_Marathi\tMarathi\thttp://www.gamerepo.prathamcms.org/Zip/Marathi/js_Marathi.zip\n",
      "fonts\n",
      "js\n"
     ]
    }
   ],
   "source": [
    "find_undocumented_games()"
   ]
  },
  {
   "cell_type": "code",
   "execution_count": null,
   "metadata": {},
   "outputs": [],
   "source": []
  },
  {
   "cell_type": "code",
   "execution_count": null,
   "metadata": {},
   "outputs": [],
   "source": []
  },
  {
   "cell_type": "code",
   "execution_count": null,
   "metadata": {},
   "outputs": [],
   "source": []
  },
  {
   "cell_type": "code",
   "execution_count": null,
   "metadata": {},
   "outputs": [],
   "source": []
  },
  {
   "cell_type": "code",
   "execution_count": null,
   "metadata": {},
   "outputs": [],
   "source": []
  },
  {
   "cell_type": "code",
   "execution_count": 5,
   "metadata": {},
   "outputs": [
    {
     "data": {
      "text/plain": [
       "[{'children': [],\n",
       "  'kind': 'PradigiGameZipResource',\n",
       "  'language_en': 'Hindi',\n",
       "  'last_modified': '2/8/18 12:30 PM',\n",
       "  'main_file': 'http://www.gamerepo.prathamcms.org/Game/Hindi/Aakar_KKS/index.html',\n",
       "  'title': 'Aakar_KKS',\n",
       "  'url': 'http://www.gamerepo.prathamcms.org/Zip/Hindi/Aakar_KKS_Hindi.zip'}]"
      ]
     },
     "execution_count": 5,
     "metadata": {},
     "output_type": "execute_result"
    }
   ],
   "source": [
    "from chef import find_games_for_lang\n",
    "games = find_games_for_lang('Aakar', 'hi')\n",
    "games"
   ]
  },
  {
   "cell_type": "code",
   "execution_count": null,
   "metadata": {},
   "outputs": [],
   "source": []
  },
  {
   "cell_type": "code",
   "execution_count": null,
   "metadata": {},
   "outputs": [],
   "source": []
  },
  {
   "cell_type": "code",
   "execution_count": 1,
   "metadata": {},
   "outputs": [],
   "source": []
  },
  {
   "cell_type": "code",
   "execution_count": null,
   "metadata": {},
   "outputs": [],
   "source": []
  },
  {
   "cell_type": "code",
   "execution_count": 2,
   "metadata": {},
   "outputs": [],
   "source": [
    "import json\n",
    "lang = 'mr'\n",
    "wrt_filename = 'chefdata/trees/pradigi_{}_web_resource_tree.json'.format(lang)\n",
    "with open(wrt_filename) as jsonfile:\n",
    "    web_resource_tree = json.load(jsonfile)\n",
    "\n",
    "\n",
    "def find_videos_in_subtree(subtree):\n",
    "    if subtree['kind'] == 'PrathamVideoResource':\n",
    "        return [subtree]\n",
    "    result = []\n",
    "    for child in subtree['children']:\n",
    "        children_vids = find_videos_in_subtree(child)\n",
    "        result.extend(children_vids)\n",
    "    return result\n",
    "\n",
    "all_videos = find_videos_in_subtree(web_resource_tree)"
   ]
  },
  {
   "cell_type": "code",
   "execution_count": 9,
   "metadata": {},
   "outputs": [
    {
     "data": {
      "text/plain": [
       "10.210514068603516"
      ]
     },
     "execution_count": 9,
     "metadata": {},
     "output_type": "execute_result"
    }
   ],
   "source": [
    "\n"
   ]
  },
  {
   "cell_type": "code",
   "execution_count": 3,
   "metadata": {},
   "outputs": [
    {
     "name": "stdout",
     "output_type": "stream",
     "text": [
      "Checking 659 videos\n",
      "55.02297878265381 http://www.prathamopenschool.org/CourseContent/videos/lovely_family.mp4\n"
     ]
    }
   ],
   "source": [
    "\n",
    "import requests\n",
    "\n",
    "\n",
    "print('Checking', len(all_videos), 'videos')\n",
    "sizes = []\n",
    "for video in all_videos:\n",
    "    url = video['url'] \n",
    "    resp = requests.head(url)\n",
    "    size_mb = int(resp.headers['Content-Length'])/1024/1024\n",
    "    if size_mb > 50:\n",
    "        print(size_mb, url)\n"
   ]
  },
  {
   "cell_type": "code",
   "execution_count": 6,
   "metadata": {},
   "outputs": [
    {
     "name": "stdout",
     "output_type": "stream",
     "text": [
      "Checking 659 videos\n",
      "22.035643577575684 http://www.prathamopenschool.org/CourseContent/videos/2_family_meeting.mp4\n",
      "55.02297878265381 http://www.prathamopenschool.org/CourseContent/videos/lovely_family.mp4\n",
      "22.482818603515625 http://www.prathamopenschool.org/CourseContent/videos/3.5_Seema_runs_into_dolly.mp4\n",
      "21.460536003112793 http://www.prathamopenschool.org/CourseContent/videos/4.1_Favorite_actors.mp4\n",
      "27.588082313537598 http://www.prathamopenschool.org/CourseContent/videos/4.2_Fight_of_the_fans.mp4\n",
      "21.55974578857422 http://www.prathamopenschool.org/CourseContent/videos/4.5_Likes_and_dislikes_Seema_and_Madhu.mp4\n",
      "21.87144947052002 http://www.prathamopenschool.org/CourseContent/videos/4.6_Likes_and_dislikes_Deepak_and_Rahul (Revison).mp4\n",
      "20.944883346557617 http://www.prathamopenschool.org/CourseContent/videos/10.1_Oh_no_It’s_a_ghost.mp4\n",
      "29.536949157714844 http://www.prathamopenschool.org/CourseContent/videos/10.2_Where_did_the_jalebi_go.mp4\n",
      "43.14004993438721 http://www.prathamopenschool.org/CourseContent/videos/10.3_Rat_in_the_house.mp4\n",
      "33.29399108886719 http://www.prathamopenschool.org/CourseContent/videos/10.4_Catch_the_rat.mp4\n",
      "28.31204319000244 http://www.prathamopenschool.org/CourseContent/videos/10.5_The_rat_is_gone.mp4\n",
      "28.774495124816895 http://www.prathamopenschool.org/CourseContent/videos/11.1_Naughty_kid.mp4\n",
      "26.89511203765869 http://www.prathamopenschool.org/CourseContent/videos/11.2_Call_Dr_Didi.mp4\n",
      "28.6452579498291 http://www.prathamopenschool.org/CourseContent/videos/11.3_Yash_understands.mp4\n",
      "26.663992881774902 http://www.prathamopenschool.org/CourseContent/videos/11.4_Young_Khalis.mp4\n",
      "35.766733169555664 http://www.prathamopenschool.org/CourseContent/videos/11.5_Well_done.mp4\n",
      "20.857248306274414 http://www.prathamopenschool.org/CourseContent/videos/No_light_no_work.mp4\n",
      "22.188836097717285 http://www.prathamopenschool.org/CourseContent/videos/Little_Engineers.mp4\n",
      "30.777138710021973 http://www.prathamopenschool.org/CourseContent/videos/Our_new_lightbulb.mp4\n",
      "37.825284004211426 http://www.prathamopenschool.org/CourseContent/videos/AOK_1.1.mp4\n",
      "24.62619686126709 http://www.prathamopenschool.org/CourseContent/videos/AOK_1.2.mp4\n",
      "31.730807304382324 http://www.prathamopenschool.org/CourseContent/videos/AOK_1.3.mp4\n",
      "38.60039043426514 http://www.prathamopenschool.org/CourseContent/videos/AOK_2.1.mp4\n",
      "22.34339714050293 http://www.prathamopenschool.org/CourseContent/videos/AOK_2.2.mp4\n",
      "22.28900909423828 http://www.prathamopenschool.org/CourseContent/videos/AOK_2.3.mp4\n",
      "32.870116233825684 http://www.prathamopenschool.org/CourseContent/videos/AOK_3.1.mp4\n",
      "26.45987319946289 http://www.prathamopenschool.org/CourseContent/videos/AOK_3.2.mp4\n",
      "20.760562896728516 http://www.prathamopenschool.org/CourseContent/videos/AOK_3.3.mp4\n",
      "43.38330364227295 http://www.prathamopenschool.org/CourseContent/videos/AOK_4.1.mp4\n",
      "31.120431900024414 http://www.prathamopenschool.org/CourseContent/videos/AOK_4.2.mp4\n",
      "20.81257724761963 http://www.prathamopenschool.org/CourseContent/videos/AOK_4.3.mp4\n",
      "40.70394706726074 http://www.prathamopenschool.org/CourseContent/videos/AOK_5.1.mp4\n",
      "31.074649810791016 http://www.prathamopenschool.org/CourseContent/videos/AOK_5.2.mp4\n",
      "21.908309936523438 http://www.prathamopenschool.org/CourseContent/videos/AOK_5.3.mp4\n",
      "42.83631992340088 http://www.prathamopenschool.org/CourseContent/videos/AOK_6.1.mp4\n",
      "28.37732982635498 http://www.prathamopenschool.org/CourseContent/videos/AOK_6.2.mp4\n",
      "22.67337417602539 http://www.prathamopenschool.org/CourseContent/videos/AOK_6.3.mp4\n",
      "33.59396743774414 http://www.prathamopenschool.org/CourseContent/videos/AOK_8.1.mp4\n",
      "27.562870025634766 http://www.prathamopenschool.org/CourseContent/videos/AOK_8.2.mp4\n",
      "21.46385669708252 http://www.prathamopenschool.org/CourseContent/videos/AOK_8.3.mp4\n",
      "34.383185386657715 http://www.prathamopenschool.org/CourseContent/videos/AOK_9.1.mp4\n",
      "23.682415008544922 http://www.prathamopenschool.org/CourseContent/videos/AOK_9.2.mp4\n",
      "29.731199264526367 http://www.prathamopenschool.org/CourseContent/videos/AOK_9.3.mp4\n",
      "34.548301696777344 http://www.prathamopenschool.org/CourseContent/videos/AOK_10.1.mp4\n",
      "31.0318603515625 http://www.prathamopenschool.org/CourseContent/videos/AOK_10.2.mp4\n",
      "20.4608736038208 http://www.prathamopenschool.org/CourseContent/videos/AOK_10.3.mp4\n",
      "36.92066955566406 http://www.prathamopenschool.org/CourseContent/videos/AOK_11.1.mp4\n",
      "25.711305618286133 http://www.prathamopenschool.org/CourseContent/videos/AOK_11.2.mp4\n",
      "34.1806583404541 http://www.prathamopenschool.org/CourseContent/videos/AOK_11.3.mp4\n",
      "42.93243885040283 http://www.prathamopenschool.org/CourseContent/videos/AOK_12.1.mp4\n",
      "26.127694129943848 http://www.prathamopenschool.org/CourseContent/videos/AOK_12.2.mp4\n",
      "29.593852043151855 http://www.prathamopenschool.org/CourseContent/videos/AOK_12.3.mp4\n",
      "38.738898277282715 http://www.prathamopenschool.org/CourseContent/videos/AOK_13.1.mp4\n",
      "31.085896492004395 http://www.prathamopenschool.org/CourseContent/videos/AOK_13.2.mp4\n",
      "42.662715911865234 http://www.prathamopenschool.org/CourseContent/videos/m_Ganv_ki_Sair.mp4\n",
      "25.162668228149414 http://www.prathamopenschool.org/CourseContent/videos/m_Blood_pressure.mp4\n",
      "27.133862495422363 http://www.prathamopenschool.org/CourseContent/videos/m_Skin.mp4\n",
      "20.55811309814453 http://www.prathamopenschool.org/CourseContent/videos/m_learning_bike1.mp4\n",
      "21.264822006225586 http://www.prathamopenschool.org/CourseContent/videos/m_Pendulum_Intro.mp4\n",
      "23.564749717712402 http://www.prathamopenschool.org/CourseContent/videos/m_introduction_earth.mp4\n",
      "20.351163864135742 http://www.prathamopenschool.org/CourseContent/videos/m_know_map.mp4\n",
      "28.934419631958008 http://www.prathamopenschool.org/CourseContent/videos/m_Non_Magnetic_Motor.mp4\n",
      "28.96091938018799 http://www.prathamopenschool.org/CourseContent/videos/Village_Life.mp4\n",
      "26.143343925476074 http://www.prathamopenschool.org/CourseContent/videos/Organic_Farming.mp4\n"
     ]
    }
   ],
   "source": [
    "\n",
    "import requests\n",
    "\n",
    "\n",
    "print('Checking', len(all_videos), 'videos')\n",
    "sizes = []\n",
    "for video in all_videos:\n",
    "    url = video['url'] \n",
    "    resp = requests.head(url)\n",
    "    size_mb = int(resp.headers['Content-Length'])/1024/1024\n",
    "    if size_mb > 20:\n",
    "        print(size_mb, url)\n"
   ]
  },
  {
   "cell_type": "code",
   "execution_count": 2,
   "metadata": {},
   "outputs": [],
   "source": [
    "from urllib.parse import urlparse\n",
    "urlp = urlparse('http://www.prathamopenschool.org/CourseContent/Simms/phet/index.html?id=ohms-law-hn')"
   ]
  },
  {
   "cell_type": "code",
   "execution_count": 4,
   "metadata": {},
   "outputs": [
    {
     "data": {
      "text/plain": [
       "True"
      ]
     },
     "execution_count": 4,
     "metadata": {},
     "output_type": "execute_result"
    }
   ],
   "source": [
    "urlp.path.endswith('html')"
   ]
  },
  {
   "cell_type": "code",
   "execution_count": 2,
   "metadata": {},
   "outputs": [],
   "source": [
    "import csv"
   ]
  },
  {
   "cell_type": "code",
   "execution_count": 3,
   "metadata": {},
   "outputs": [],
   "source": [
    "%psource csv.DictReader"
   ]
  },
  {
   "cell_type": "code",
   "execution_count": 1,
   "metadata": {},
   "outputs": [
    {
     "name": "stdout",
     "output_type": "stream",
     "text": [
      "Unrecognized structure row {'Age Group': '?', 'Subject': 'Health', 'Resource Type': 'Video Resources', 'Name': None, 'Name on gamerepo (before lang underscore)': None, 'Pratham': None, 'LE Comments': None}\n",
      "Unrecognized structure row {'Age Group': '?', 'Subject': 'Std5', 'Resource Type': 'Video Resources', 'Name': None, 'Name on gamerepo (before lang underscore)': None, 'Pratham': None, 'LE Comments': None}\n",
      "Unrecognized structure row {'Age Group': '?', 'Subject': 'Std6', 'Resource Type': 'Video Resources', 'Name': None, 'Name on gamerepo (before lang underscore)': None, 'Pratham': None, 'LE Comments': None}\n",
      "Unrecognized structure row {'Age Group': '?', 'Subject': 'Std7', 'Resource Type': 'Video Resources', 'Name': None, 'Name on gamerepo (before lang underscore)': None, 'Pratham': None, 'LE Comments': None}\n",
      "Unrecognized structure row {'Age Group': '?', 'Subject': 'Std8', 'Resource Type': 'Video Resources', 'Name': None, 'Name on gamerepo (before lang underscore)': None, 'Pratham': None, 'LE Comments': None}\n",
      "Unrecognized structure row {'Age Group': '?', 'Subject': 'Std9', 'Resource Type': 'Video Resources', 'Name': None, 'Name on gamerepo (before lang underscore)': None, 'Pratham': None, 'LE Comments': None}\n",
      "Unrecognized structure row {'Age Group': '?', 'Subject': 'Std10', 'Resource Type': 'Video Resources', 'Name': None, 'Name on gamerepo (before lang underscore)': None, 'Pratham': None, 'LE Comments': None}\n",
      "Unrecognized structure row {'Age Group': '?', 'Subject': 'Story', 'Resource Type': 'Book Resources', 'Name': None, 'Name on gamerepo (before lang underscore)': None, 'Pratham': None, 'LE Comments': None}\n"
     ]
    }
   ],
   "source": [
    "from chef import find_problem_resources_files"
   ]
  },
  {
   "cell_type": "code",
   "execution_count": 2,
   "metadata": {
    "scrolled": false
   },
   "outputs": [
    {
     "name": "stdout",
     "output_type": "stream",
     "text": [
      "404 zip file\tMathematics.zip\thttp://www.prathamopenschool.org/CourseContent/Games/Mathematics.zip\thttp://www.prathamopenschool.org/hn/Lesson/LES16\n",
      "404 zip file\tMathematics.zip\thttp://www.prathamopenschool.org/CourseContent/Games/Mathematics.zip\thttp://www.prathamopenschool.org/hn/Lesson/LES16\n",
      "404 zip file\tMathematics.zip\thttp://www.prathamopenschool.org/CourseContent/Games/Mathematics.zip\thttp://www.prathamopenschool.org/hn/Lesson/LES17\n",
      "404 zip file\tMathematics.zip\thttp://www.prathamopenschool.org/CourseContent/Games/Mathematics.zip\thttp://www.prathamopenschool.org/hn/Lesson/LES18\n",
      "404 zip file\tMathematics.zip\thttp://www.prathamopenschool.org/CourseContent/Games/Mathematics.zip\thttp://www.prathamopenschool.org/hn/Lesson/LES19\n",
      "404 zip file\tMathematics.zip\thttp://www.prathamopenschool.org/CourseContent/Games/Mathematics.zip\thttp://www.prathamopenschool.org/hn/Lesson/LES20\n",
      "404 zip file\tGunaj_Apvartya(Hindi).zip\thttp://www.prathamopenschool.org/CourseContent/Games/Gunaj_Apvartya(Hindi).zip\thttp://www.prathamopenschool.org/hn/Lesson/LES21\n",
      "404 zip file\tGunankhand_Apvartak(Hindi).zip\thttp://www.prathamopenschool.org/CourseContent/Games/Gunankhand_Apvartak(Hindi).zip\thttp://www.prathamopenschool.org/hn/Lesson/LES22\n",
      "404 zip file\tMathsBucketGame_H.zip\thttp://www.prathamopenschool.org/CourseContent/Games/MathsBucketGame_H.zip\thttp://www.prathamopenschool.org/hn/Lesson/LES24\n",
      "404 zip file\tM.S(Hindi).zip\thttp://www.prathamopenschool.org/CourseContent/Games/M.S(Hindi).zip\thttp://www.prathamopenschool.org/hn/Lesson/LES24\n",
      "404 zip file\tMathsBucketGame_H.zip\thttp://www.prathamopenschool.org/CourseContent/Games/MathsBucketGame_H.zip\thttp://www.prathamopenschool.org/hn/Lesson/LES25\n",
      "404 zip file\tM.S(Hindi).zip\thttp://www.prathamopenschool.org/CourseContent/Games/M.S(Hindi).zip\thttp://www.prathamopenschool.org/hn/Lesson/LES25\n",
      "404 zip file\tL.S(Hindi).zip\thttp://www.prathamopenschool.org/CourseContent/Games/L.S(Hindi).zip\thttp://www.prathamopenschool.org/hn/Lesson/LES25\n",
      "404 zip file\tMathematics.zip\thttp://www.prathamopenschool.org/CourseContent/Games/Mathematics.zip\thttp://www.prathamopenschool.org/hn/Lesson/LES828\n",
      "404 zip file\tmatchWords_H.zip\thttp://www.prathamopenschool.org/CourseContent/Games/matchWords_H.zip\thttp://www.prathamopenschool.org/hn/Lesson/LES1\n",
      "404 zip file\tTranslateHindiEnglish.zip\thttp://www.prathamopenschool.org/CourseContent/Games/TranslateHindiEnglish.zip\thttp://www.prathamopenschool.org/hn/Lesson/LES1\n",
      "404 zip file\tTranslateHindiEnglishLevel2.zip\thttp://www.prathamopenschool.org/CourseContent/Games/TranslateHindiEnglishLevel2.zip\thttp://www.prathamopenschool.org/hn/Lesson/LES2\n",
      "404 zip file\tTranslateHindiEnglishLevel3.zip\thttp://www.prathamopenschool.org/CourseContent/Games/TranslateHindiEnglishLevel3.zip\thttp://www.prathamopenschool.org/hn/Lesson/LES3\n",
      "404 zip file\tBuild-a-Sentence(English).zip\thttp://www.prathamopenschool.org/CourseContent/Games/Build-a-Sentence(English).zip\thttp://www.prathamopenschool.org/hn/Lesson/LES4\n",
      "404 zip file\tTranslateHindiEnglishLevel4.zip\thttp://www.prathamopenschool.org/CourseContent/Games/TranslateHindiEnglishLevel4.zip\thttp://www.prathamopenschool.org/hn/Lesson/LES4\n",
      "404 zip file\tmatchWords_H.zip\thttp://www.prathamopenschool.org/CourseContent/Games/matchWords_H.zip\thttp://www.prathamopenschool.org/hn/Lesson/LES5\n",
      "404 zip file\tvanishingSentenceGame_H.zip\thttp://www.prathamopenschool.org/CourseContent/Games/vanishingSentenceGame_H.zip\thttp://www.prathamopenschool.org/hn/Lesson/LES6\n",
      "404 zip file\tBone Game(Dr. Haddi)_H.zip\thttp://www.prathamopenschool.org/CourseContent/Games/Bone Game(Dr. Haddi)_H.zip\thttp://www.prathamopenschool.org/hn/Lesson/LES45\n",
      "404 zip file\tHistoryOfPlane_H.zip\thttp://www.prathamopenschool.org/CourseContent/Games/HistoryOfPlane_H.zip\thttp://www.prathamopenschool.org/hn/Fun\n",
      "404 zip file\t4 clues (Countries) Hindi.zip\thttp://www.prathamopenschool.org/CourseContent/Games/4 clues (Countries) Hindi.zip\thttp://www.prathamopenschool.org/hn/Fun\n",
      "404 zip file\tsorting Game (Hindi).zip\thttp://www.prathamopenschool.org/CourseContent/Games/sorting Game (Hindi).zip\thttp://www.prathamopenschool.org/hn/Fun\n",
      "404 zip file\tMathsBucketGame_H.zip\thttp://www.prathamopenschool.org/CourseContent/Games/MathsBucketGame_H.zip\thttp://www.prathamopenschool.org/hn/Fun\n",
      "404 zip file\tBone Game(Dr. Haddi)_H.zip\thttp://www.prathamopenschool.org/CourseContent/Games/Bone Game(Dr. Haddi)_H.zip\thttp://www.prathamopenschool.org/hn/Fun\n",
      "404 zip file\tFlipImage Game(Palat)_H.zip\thttp://www.prathamopenschool.org/CourseContent/Games/FlipImage Game(Palat)_H.zip\thttp://www.prathamopenschool.org/hn/Fun\n",
      "404 zip file\tMathematics.zip\thttp://www.prathamopenschool.org/CourseContent/Games/Mathematics.zip\thttp://www.prathamopenschool.org/mr/Lesson/LES440\n",
      "404 zip file\tMathematics.zip\thttp://www.prathamopenschool.org/CourseContent/Games/Mathematics.zip\thttp://www.prathamopenschool.org/mr/Lesson/LES437\n",
      "404 zip file\tVibhajya(Marathi).zip\thttp://www.prathamopenschool.org/CourseContent/Games/Vibhajya(Marathi).zip\thttp://www.prathamopenschool.org/mr/Lesson/LES442\n",
      "404 zip file\tVibhajak(Marathi).zip\thttp://www.prathamopenschool.org/CourseContent/Games/Vibhajak(Marathi).zip\thttp://www.prathamopenschool.org/mr/Lesson/LES443\n",
      "404 zip file\tMathsBucketGame_M.zip\thttp://www.prathamopenschool.org/CourseContent/Games/MathsBucketGame_M.zip\thttp://www.prathamopenschool.org/mr/Lesson/LES445\n",
      "404 zip file\tMasavi(Marathi).zip\thttp://www.prathamopenschool.org/CourseContent/Games/Masavi(Marathi).zip\thttp://www.prathamopenschool.org/mr/Lesson/LES445\n",
      "404 zip file\tMathsBucketGame_M.zip\thttp://www.prathamopenschool.org/CourseContent/Games/MathsBucketGame_M.zip\thttp://www.prathamopenschool.org/mr/Lesson/LES446\n",
      "404 zip file\tLasavi(Marathi).zip\thttp://www.prathamopenschool.org/CourseContent/Games/Lasavi(Marathi).zip\thttp://www.prathamopenschool.org/mr/Lesson/LES446\n",
      "404 zip file\tMasavi(Marathi).zip\thttp://www.prathamopenschool.org/CourseContent/Games/Masavi(Marathi).zip\thttp://www.prathamopenschool.org/mr/Lesson/LES447\n",
      "404 zip file\tLasavi(Marathi).zip\thttp://www.prathamopenschool.org/CourseContent/Games/Lasavi(Marathi).zip\thttp://www.prathamopenschool.org/mr/Lesson/LES447\n",
      "404 zip file\tPlaceValue_M.zip\thttp://www.prathamopenschool.org/CourseContent/Games/PlaceValue_M.zip\thttp://www.prathamopenschool.org/mr/Lesson/LES450\n",
      "404 zip file\tPlaceValue_M.zip\thttp://www.prathamopenschool.org/CourseContent/Games/PlaceValue_M.zip\thttp://www.prathamopenschool.org/mr/Lesson/LES451\n",
      "404 zip file\tmatchWords_M.zip\thttp://www.prathamopenschool.org/CourseContent/Games/matchWords_M.zip\thttp://www.prathamopenschool.org/mr/Lesson/LES425\n",
      "404 zip file\tTranslateMarathiToEnglish.zip\thttp://www.prathamopenschool.org/CourseContent/Games/TranslateMarathiToEnglish.zip\thttp://www.prathamopenschool.org/mr/Lesson/LES425\n",
      "404 zip file\tpictureReplacement.zip\thttp://www.prathamopenschool.org/CourseContent/Games/pictureReplacement.zip\thttp://www.prathamopenschool.org/mr/Lesson/LES425\n",
      "404 zip file\tTranslateMarathiToEnglishLevel2.zip\thttp://www.prathamopenschool.org/CourseContent/Games/TranslateMarathiToEnglishLevel2.zip\thttp://www.prathamopenschool.org/mr/Lesson/LES426\n",
      "404 zip file\tTranslateMarathiToEnglishLevel3.zip\thttp://www.prathamopenschool.org/CourseContent/Games/TranslateMarathiToEnglishLevel3.zip\thttp://www.prathamopenschool.org/mr/Lesson/LES427\n",
      "404 zip file\tpictureReplacement(-ing form).zip\thttp://www.prathamopenschool.org/CourseContent/Games/pictureReplacement(-ing form).zip\thttp://www.prathamopenschool.org/mr/Lesson/LES427\n",
      "404 zip file\tBuild-a-Sentence(English).zip\thttp://www.prathamopenschool.org/CourseContent/Games/Build-a-Sentence(English).zip\thttp://www.prathamopenschool.org/mr/Lesson/LES428\n",
      "404 zip file\tTranslateMarathiToEnglishLevel4.zip\thttp://www.prathamopenschool.org/CourseContent/Games/TranslateMarathiToEnglishLevel4.zip\thttp://www.prathamopenschool.org/mr/Lesson/LES428\n",
      "404 zip file\tvanishingSentenceGame_M.zip\thttp://www.prathamopenschool.org/CourseContent/Games/vanishingSentenceGame_M.zip\thttp://www.prathamopenschool.org/mr/Lesson/LES429\n",
      "404 zip file\tRhymingWordsGame.zip\thttp://www.prathamopenschool.org/CourseContent/Games/RhymingWordsGame.zip\thttp://www.prathamopenschool.org/mr/Lesson/LES431\n",
      "404 zip file\tmatchWords_M.zip\thttp://www.prathamopenschool.org/CourseContent/Games/matchWords_M.zip\thttp://www.prathamopenschool.org/mr/Lesson/LES827\n"
     ]
    },
    {
     "name": "stdout",
     "output_type": "stream",
     "text": [
      "404 zip file\tBone Game(Dr. Haddi)_M.zip\thttp://www.prathamopenschool.org/CourseContent/Games/Bone Game(Dr. Haddi)_M.zip\thttp://www.prathamopenschool.org/mr/Lesson/LES463\n",
      "404 zip file\tJigsawGame_M.zip\thttp://www.prathamopenschool.org/CourseContent/Games/JigsawGame_M.zip\thttp://www.prathamopenschool.org/mr/Fun\n",
      "404 zip file\tHistoryOfPlane_M.zip\thttp://www.prathamopenschool.org/CourseContent/Games/HistoryOfPlane_M.zip\thttp://www.prathamopenschool.org/mr/Fun\n",
      "404 zip file\twordshop_M.zip\thttp://www.prathamopenschool.org/CourseContent/Games/wordshop_M.zip\thttp://www.prathamopenschool.org/mr/Fun\n",
      "404 zip file\tBuild-a-Sentence(Marathi).zip\thttp://www.prathamopenschool.org/CourseContent/Games/Build-a-Sentence(Marathi).zip\thttp://www.prathamopenschool.org/mr/Fun\n",
      "404 zip file\t4 clues (Countries) Marathi.zip\thttp://www.prathamopenschool.org/CourseContent/Games/4 clues (Countries) Marathi.zip\thttp://www.prathamopenschool.org/mr/Fun\n",
      "404 zip file\tBone Game(Dr. Haddi)_M.zip\thttp://www.prathamopenschool.org/CourseContent/Games/Bone Game(Dr. Haddi)_M.zip\thttp://www.prathamopenschool.org/mr/Fun\n",
      "404 zip file\tMathsBucketGame_M.zip\thttp://www.prathamopenschool.org/CourseContent/Games/MathsBucketGame_M.zip\thttp://www.prathamopenschool.org/mr/Fun\n",
      "404 zip file\tSorting Game  (Marathi).zip\thttp://www.prathamopenschool.org/CourseContent/Games/Sorting Game  (Marathi).zip\thttp://www.prathamopenschool.org/mr/Fun\n"
     ]
    }
   ],
   "source": [
    "find_problem_resources_files()"
   ]
  },
  {
   "cell_type": "code",
   "execution_count": 4,
   "metadata": {},
   "outputs": [],
   "source": [
    "import requests\n",
    "url = 'http://www.prathamopenschool.org/CourseContent/Games/4 clues (Countries) Hindi.zip'\n",
    "resp = requests.head(url)"
   ]
  },
  {
   "cell_type": "code",
   "execution_count": 6,
   "metadata": {},
   "outputs": [
    {
     "data": {
      "text/plain": [
       "int"
      ]
     },
     "execution_count": 6,
     "metadata": {},
     "output_type": "execute_result"
    }
   ],
   "source": [
    "type(resp.status_code)"
   ]
  },
  {
   "cell_type": "code",
   "execution_count": null,
   "metadata": {},
   "outputs": [],
   "source": []
  }
 ],
 "metadata": {
  "kernelspec": {
   "display_name": "Python 3",
   "language": "python",
   "name": "python3"
  },
  "language_info": {
   "codemirror_mode": {
    "name": "ipython",
    "version": 3
   },
   "file_extension": ".py",
   "mimetype": "text/x-python",
   "name": "python",
   "nbconvert_exporter": "python",
   "pygments_lexer": "ipython3",
   "version": "3.6.4"
  }
 },
 "nbformat": 4,
 "nbformat_minor": 2
}
